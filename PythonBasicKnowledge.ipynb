{
 "cells": [
  {
   "cell_type": "code",
   "execution_count": 2,
   "id": "d4ac1007-37c0-4976-aa7b-c77048ae3cb7",
   "metadata": {},
   "outputs": [
    {
     "name": "stdout",
     "output_type": "stream",
     "text": [
      "Hello World!\n",
      "5\n",
      "Bye\n"
     ]
    }
   ],
   "source": [
    "print('Hello World!')\n",
    "print(5)\n",
    "print('Bye')"
   ]
  },
  {
   "cell_type": "code",
   "execution_count": 4,
   "id": "b273603b-6f8a-4d81-ba24-d191ccba677f",
   "metadata": {},
   "outputs": [
    {
     "name": "stdout",
     "output_type": "stream",
     "text": [
      "I am Akash Neogi\n",
      "I have pursuing my MTech in Data Science from NIT Silchar\n"
     ]
    }
   ],
   "source": [
    "#this is a comment\n",
    "print('I am Akash Neogi\\nI have pursuing my MTech in Data Science from NIT Silchar')"
   ]
  },
  {
   "cell_type": "markdown",
   "id": "4a2f440f-d004-4333-9ff4-f07fce8a5084",
   "metadata": {},
   "source": [
    "- `\\n` used for newline\n",
    "- `\\` is escape sequence in python \n",
    "- In Python, an escape sequence is a combination of characters used within a string literal to represent special characters or perform specific actions that cannot be directly typed or would otherwise break the string's syntax. Escape sequences always begin with a backslash (`\\`) followed by one or more characters. "
   ]
  },
  {
   "cell_type": "raw",
   "id": "a66fd128-6ff6-4a0c-ada0-683894a9b67f",
   "metadata": {},
   "source": [
    "Purpose of Escape Sequence\n",
    "\n",
    "Representing Unprintable Characters\n",
    "- They allow the inclusion of characters like newlines (\\n), tabs (\\t), or backspaces (\\b) that don't have a visible representation when typed directly.\n",
    "\n",
    "\n",
    "Including Special Characters within Strings\n",
    "- They enable the use of characters that have a special meaning in string syntax, such as single quotes (\\') within a single-quoted string or double quotes (\\\") within a double-quoted string, without prematurely ending the string\n",
    "\n",
    "\n",
    "Example\n",
    "- \\n: Newline (moves the cursor to the next line)\n",
    "- \\t: Horizontal tab (inserts a tab space)\n",
    "- \\\\: Backslash (inserts a literal backslash character)\n",
    "- \\': Single quote (inserts a literal single quote)\n",
    "- \\\": Double quote (inserts a literal double quote)\n",
    "- \\b: Backspace (deletes the character preceding it)\n",
    "- \\r: Carriage return (moves the cursor to the beginning of the current line)\n",
    "- \\f: Form feed (moves the cursor to the beginning of the next page)\n",
    "- \\ooo: Octal value (represents a character by its octal value, e.g., \\101 for 'A')\n",
    "- \\xhh: Hexadecimal value (represents a character by its hexadecimal value, e.g., \\x41 for 'A')\n",
    "- \\uHHHH: Unicode character (represents a Unicode character using a 4-digit hexadecimal value)\n",
    "- \\UHHHHHHHH: Unicode character (represents a Unicode character using an 8-digit hexadecimal value)"
   ]
  },
  {
   "cell_type": "markdown",
   "id": "631f8bcb-3145-42ec-942a-525b29b85a91",
   "metadata": {},
   "source": [
    "`print(object(s), sep=seperator, end=end, file=file, flush=flush)`\n",
    "- object(s) - any object, as many as you like, will be converted to string before printed\n",
    "- sep = 'seperator': specify how to seperate objects, if there is more than one. in default `sep=''`\n",
    "- end = 'end': specify what to end at the end. in default `end='\\n'`\n",
    "- file: an object with a write method. default is `file=sys.stdout`\n",
    "- **parameters 2 to 4 are optional**"
   ]
  },
  {
   "cell_type": "code",
   "execution_count": 8,
   "id": "c8b9ccf9-321e-4e5a-9cd8-2dc152f35ec6",
   "metadata": {},
   "outputs": [
    {
     "name": "stdout",
     "output_type": "stream",
     "text": [
      "Hello ~ 5 ~ 6.7 ~ Akash\n"
     ]
    }
   ],
   "source": [
    "print('Hello', 5, 6.7, 'Akash', sep=' ~ ') #by default sep = ''"
   ]
  },
  {
   "cell_type": "code",
   "execution_count": 9,
   "id": "97d22bbf-bf11-4c59-9311-85aea0a19dd3",
   "metadata": {},
   "outputs": [
    {
     "name": "stdout",
     "output_type": "stream",
     "text": [
      "akash07hello\n"
     ]
    }
   ],
   "source": [
    "print('akash', end='07') #bydefault end = '\\n'\n",
    "print('hello')"
   ]
  },
  {
   "cell_type": "markdown",
   "id": "febe9d37-09b0-419b-be03-cc023ebdc511",
   "metadata": {},
   "source": [
    "# **Variable in Python**\n",
    "-container which holds data."
   ]
  },
  {
   "cell_type": "code",
   "execution_count": 13,
   "id": "8a4d887b-c8df-4a8e-9f8a-f0a471b55292",
   "metadata": {},
   "outputs": [
    {
     "name": "stdout",
     "output_type": "stream",
     "text": [
      "1\n",
      "Akash\n",
      "True\n",
      "None\n",
      "10\n"
     ]
    }
   ],
   "source": [
    "a = 1\n",
    "b = 'Akash'\n",
    "c = True\n",
    "d = None\n",
    "print(a)\n",
    "print(b)\n",
    "print(c)\n",
    "print(d)\n",
    "a1 = 9\n",
    "print(a+a1)\n",
    "#a and b are variable"
   ]
  },
  {
   "cell_type": "code",
   "execution_count": 14,
   "id": "afe4fa47-b25b-4a0b-ae35-46a4505551d4",
   "metadata": {},
   "outputs": [
    {
     "name": "stdout",
     "output_type": "stream",
     "text": [
      "<class 'int'>\n",
      "<class 'str'>\n",
      "<class 'bool'>\n",
      "<class 'NoneType'>\n"
     ]
    }
   ],
   "source": [
    "#datatype is type of the data\n",
    "print(type(a))\n",
    "print(type(b))\n",
    "print(type(c))\n",
    "print(type(d))"
   ]
  },
  {
   "cell_type": "markdown",
   "id": "67704868-99d0-4ad0-8485-58bb1ed59be2",
   "metadata": {},
   "source": [
    "# Python Built-In DataTypes\n",
    "- int : 3, -8, 0\n",
    "- float : 7.349, 0.00015, -9.15408\n",
    "- complex : 6 + 2j `complex(6,2)`\n",
    "- str : 'Hello World'\n",
    "- bool : true or false"
   ]
  },
  {
   "cell_type": "code",
   "execution_count": 16,
   "id": "fd3a3943-b387-4e76-b0d0-0f6adbdb07de",
   "metadata": {},
   "outputs": [
    {
     "name": "stdout",
     "output_type": "stream",
     "text": [
      "(8+2j)\n"
     ]
    }
   ],
   "source": [
    "com = complex(8,2)\n",
    "print(com)"
   ]
  },
  {
   "cell_type": "markdown",
   "id": "3605f86b-b244-4392-af0a-a9d5c65877d0",
   "metadata": {},
   "source": [
    "# Other Data Types\n",
    "- List [sequenced]\n",
    "- Tuple [sequenced]\n",
    "- Dictionary [mapped]\n",
    "- Set [unordered]"
   ]
  },
  {
   "cell_type": "markdown",
   "id": "9770bcc2-9ece-4eaf-9eb8-66613eade511",
   "metadata": {},
   "source": [
    "# Operators\n",
    "- \\+ : addition\n",
    "- \\- : subtraction\n",
    "- \\* : multiplication\n",
    "- / : division\n",
    "- % : modulus\n",
    "- // : floor division\n",
    "- \\** : exponential"
   ]
  },
  {
   "cell_type": "code",
   "execution_count": 21,
   "id": "1b6a56e1-53f2-4f10-a4a9-18ad7d09e936",
   "metadata": {},
   "outputs": [
    {
     "name": "stdout",
     "output_type": "stream",
     "text": [
      "1/2/3/4\n"
     ]
    }
   ],
   "source": [
    "a = ['1','2','3','4']\n",
    "print(\"/\".join(a))"
   ]
  },
  {
   "cell_type": "markdown",
   "id": "415b6510-982b-49c8-89c3-5d3164d9e755",
   "metadata": {},
   "source": [
    "# Typecasting\n",
    "int(), float(), str(), ord(), hex(), oct(), tuple(), set(), list(), dict(), etc.\n",
    "# types\n",
    "- explicit typecasting\n",
    "- implicit typecasting"
   ]
  },
  {
   "cell_type": "code",
   "execution_count": null,
   "id": "75cd9d14-41c3-45f8-8ccb-9adc5308ad44",
   "metadata": {},
   "outputs": [],
   "source": []
  }
 ],
 "metadata": {
  "kernelspec": {
   "display_name": "Python 3 (ipykernel)",
   "language": "python",
   "name": "python3"
  },
  "language_info": {
   "codemirror_mode": {
    "name": "ipython",
    "version": 3
   },
   "file_extension": ".py",
   "mimetype": "text/x-python",
   "name": "python",
   "nbconvert_exporter": "python",
   "pygments_lexer": "ipython3",
   "version": "3.11.13"
  }
 },
 "nbformat": 4,
 "nbformat_minor": 5
}
