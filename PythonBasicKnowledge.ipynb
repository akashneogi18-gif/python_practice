{
 "cells": [
  {
   "cell_type": "code",
   "execution_count": 2,
   "id": "d4ac1007-37c0-4976-aa7b-c77048ae3cb7",
   "metadata": {},
   "outputs": [
    {
     "name": "stdout",
     "output_type": "stream",
     "text": [
      "Hello World!\n",
      "5\n",
      "Bye\n"
     ]
    }
   ],
   "source": [
    "print('Hello World!')\n",
    "print(5)\n",
    "print('Bye')"
   ]
  },
  {
   "cell_type": "code",
   "execution_count": 4,
   "id": "b273603b-6f8a-4d81-ba24-d191ccba677f",
   "metadata": {},
   "outputs": [
    {
     "name": "stdout",
     "output_type": "stream",
     "text": [
      "I am Akash Neogi\n",
      "I have pursuing my MTech in Data Science from NIT Silchar\n"
     ]
    }
   ],
   "source": [
    "#this is a comment\n",
    "print('I am Akash Neogi\\nI have pursuing my MTech in Data Science from NIT Silchar')"
   ]
  },
  {
   "cell_type": "markdown",
   "id": "4a2f440f-d004-4333-9ff4-f07fce8a5084",
   "metadata": {},
   "source": [
    "- `\\n` used for newline\n",
    "- `\\` is escape sequence in python \n",
    "- In Python, an escape sequence is a combination of characters used within a string literal to represent special characters or perform specific actions that cannot be directly typed or would otherwise break the string's syntax. Escape sequences always begin with a backslash (`\\`) followed by one or more characters. "
   ]
  },
  {
   "cell_type": "raw",
   "id": "a66fd128-6ff6-4a0c-ada0-683894a9b67f",
   "metadata": {},
   "source": [
    "Purpose of Escape Sequence\n",
    "\n",
    "Representing Unprintable Characters\n",
    "- They allow the inclusion of characters like newlines (\\n), tabs (\\t), or backspaces (\\b) that don't have a visible representation when typed directly.\n",
    "\n",
    "\n",
    "Including Special Characters within Strings\n",
    "- They enable the use of characters that have a special meaning in string syntax, such as single quotes (\\') within a single-quoted string or double quotes (\\\") within a double-quoted string, without prematurely ending the string\n",
    "\n",
    "\n",
    "Example\n",
    "- \\n: Newline (moves the cursor to the next line)\n",
    "- \\t: Horizontal tab (inserts a tab space)\n",
    "- \\\\: Backslash (inserts a literal backslash character)\n",
    "- \\': Single quote (inserts a literal single quote)\n",
    "- \\\": Double quote (inserts a literal double quote)\n",
    "- \\b: Backspace (deletes the character preceding it)\n",
    "- \\r: Carriage return (moves the cursor to the beginning of the current line)\n",
    "- \\f: Form feed (moves the cursor to the beginning of the next page)\n",
    "- \\ooo: Octal value (represents a character by its octal value, e.g., \\101 for 'A')\n",
    "- \\xhh: Hexadecimal value (represents a character by its hexadecimal value, e.g., \\x41 for 'A')\n",
    "- \\uHHHH: Unicode character (represents a Unicode character using a 4-digit hexadecimal value)\n",
    "- \\UHHHHHHHH: Unicode character (represents a Unicode character using an 8-digit hexadecimal value)"
   ]
  },
  {
   "cell_type": "markdown",
   "id": "631f8bcb-3145-42ec-942a-525b29b85a91",
   "metadata": {},
   "source": [
    "`print(object(s), sep=seperator, end=end, file=file, flush=flush)`\n",
    "- object(s) - any object, as many as you like, will be converted to string before printed\n",
    "- sep = 'seperator': specify how to seperate objects, if there is more than one. in default `sep=''`\n",
    "- end = 'end': specify what to end at the end. in default `end='\\n'`\n",
    "- file: an object with a write method. default is `file=sys.stdout`\n",
    "- **parameters 2 to 4 are optional**"
   ]
  },
  {
   "cell_type": "code",
   "execution_count": 8,
   "id": "c8b9ccf9-321e-4e5a-9cd8-2dc152f35ec6",
   "metadata": {},
   "outputs": [
    {
     "name": "stdout",
     "output_type": "stream",
     "text": [
      "Hello ~ 5 ~ 6.7 ~ Akash\n"
     ]
    }
   ],
   "source": [
    "print('Hello', 5, 6.7, 'Akash', sep=' ~ ') #by default sep = ''"
   ]
  },
  {
   "cell_type": "code",
   "execution_count": 9,
   "id": "97d22bbf-bf11-4c59-9311-85aea0a19dd3",
   "metadata": {},
   "outputs": [
    {
     "name": "stdout",
     "output_type": "stream",
     "text": [
      "akash07hello\n"
     ]
    }
   ],
   "source": [
    "print('akash', end='07') #bydefault end = '\\n'\n",
    "print('hello')"
   ]
  },
  {
   "cell_type": "markdown",
   "id": "febe9d37-09b0-419b-be03-cc023ebdc511",
   "metadata": {},
   "source": [
    "# **Variable in Python**\n",
    "-container which holds data."
   ]
  },
  {
   "cell_type": "code",
   "execution_count": 13,
   "id": "8a4d887b-c8df-4a8e-9f8a-f0a471b55292",
   "metadata": {},
   "outputs": [
    {
     "name": "stdout",
     "output_type": "stream",
     "text": [
      "1\n",
      "Akash\n",
      "True\n",
      "None\n",
      "10\n"
     ]
    }
   ],
   "source": [
    "a = 1\n",
    "b = 'Akash'\n",
    "c = True\n",
    "d = None\n",
    "print(a)\n",
    "print(b)\n",
    "print(c)\n",
    "print(d)\n",
    "a1 = 9\n",
    "print(a+a1)\n",
    "#a and b are variable"
   ]
  },
  {
   "cell_type": "code",
   "execution_count": 14,
   "id": "afe4fa47-b25b-4a0b-ae35-46a4505551d4",
   "metadata": {},
   "outputs": [
    {
     "name": "stdout",
     "output_type": "stream",
     "text": [
      "<class 'int'>\n",
      "<class 'str'>\n",
      "<class 'bool'>\n",
      "<class 'NoneType'>\n"
     ]
    }
   ],
   "source": [
    "#datatype is type of the data\n",
    "print(type(a))\n",
    "print(type(b))\n",
    "print(type(c))\n",
    "print(type(d))"
   ]
  },
  {
   "cell_type": "markdown",
   "id": "67704868-99d0-4ad0-8485-58bb1ed59be2",
   "metadata": {},
   "source": [
    "# Python Built-In DataTypes\n",
    "- int : 3, -8, 0\n",
    "- float : 7.349, 0.00015, -9.15408\n",
    "- complex : 6 + 2j `complex(6,2)`\n",
    "- str : 'Hello World'\n",
    "- bool : true or false"
   ]
  },
  {
   "cell_type": "code",
   "execution_count": 16,
   "id": "fd3a3943-b387-4e76-b0d0-0f6adbdb07de",
   "metadata": {},
   "outputs": [
    {
     "name": "stdout",
     "output_type": "stream",
     "text": [
      "(8+2j)\n"
     ]
    }
   ],
   "source": [
    "com = complex(8,2)\n",
    "print(com)"
   ]
  },
  {
   "cell_type": "markdown",
   "id": "3605f86b-b244-4392-af0a-a9d5c65877d0",
   "metadata": {},
   "source": [
    "# Other Data Types\n",
    "- List [sequenced]\n",
    "- Tuple [sequenced]\n",
    "- Dictionary [mapped]\n",
    "- Set [unordered]"
   ]
  },
  {
   "cell_type": "markdown",
   "id": "9770bcc2-9ece-4eaf-9eb8-66613eade511",
   "metadata": {},
   "source": [
    "# Operators\n",
    "- \\+ : addition\n",
    "- \\- : subtraction\n",
    "- \\* : multiplication\n",
    "- / : division\n",
    "- % : modulus\n",
    "- // : floor division\n",
    "- \\** : exponential"
   ]
  },
  {
   "cell_type": "code",
   "execution_count": 21,
   "id": "1b6a56e1-53f2-4f10-a4a9-18ad7d09e936",
   "metadata": {},
   "outputs": [
    {
     "name": "stdout",
     "output_type": "stream",
     "text": [
      "1/2/3/4\n"
     ]
    }
   ],
   "source": [
    "a = ['1','2','3','4']\n",
    "print(\"/\".join(a))"
   ]
  },
  {
   "cell_type": "markdown",
   "id": "415b6510-982b-49c8-89c3-5d3164d9e755",
   "metadata": {},
   "source": [
    "# Typecasting\n",
    "int(), float(), str(), ord(), hex(), oct(), tuple(), set(), list(), dict(), etc.\n",
    "# types\n",
    "- explicit typecasting [typecasting done by developer]\n",
    "- implicit typecasting [typecasting done by python automatically]"
   ]
  },
  {
   "cell_type": "code",
   "execution_count": 22,
   "id": "75cd9d14-41c3-45f8-8ccb-9adc5308ad44",
   "metadata": {},
   "outputs": [
    {
     "name": "stdout",
     "output_type": "stream",
     "text": [
      "11.4\n"
     ]
    }
   ],
   "source": [
    "#Implicit Typecasting\n",
    "a = 8\n",
    "b = 3.4\n",
    "print(a+b)"
   ]
  },
  {
   "cell_type": "code",
   "execution_count": 23,
   "id": "363d5240-4571-45d6-a2d9-58edf2b4185a",
   "metadata": {},
   "outputs": [
    {
     "name": "stdout",
     "output_type": "stream",
     "text": [
      "5\n",
      "14\n"
     ]
    }
   ],
   "source": [
    "#Explicit Typecasting\n",
    "a = '1'\n",
    "b = '4'\n",
    "print(int(a) + int(b))\n",
    "print(a + b)"
   ]
  },
  {
   "cell_type": "code",
   "execution_count": 30,
   "id": "92c05769-e6b9-4146-8c84-a35923064fa7",
   "metadata": {},
   "outputs": [
    {
     "name": "stdin",
     "output_type": "stream",
     "text": [
      " akash\n"
     ]
    },
    {
     "name": "stdout",
     "output_type": "stream",
     "text": [
      "the input is akash\n"
     ]
    }
   ],
   "source": [
    "#taking user input in python\n",
    "inp1 = input() #by default the input is string\n",
    "print('the input is', inp1)"
   ]
  },
  {
   "cell_type": "code",
   "execution_count": 29,
   "id": "8ce9586a-9026-4c3b-a0be-732146c5957b",
   "metadata": {},
   "outputs": [
    {
     "name": "stdin",
     "output_type": "stream",
     "text": [
      "Enter a integer:  4\n"
     ]
    },
    {
     "name": "stdout",
     "output_type": "stream",
     "text": [
      "4\n"
     ]
    }
   ],
   "source": [
    "inp2 = int(input('Enter a integer: '))\n",
    "print(inp2)"
   ]
  },
  {
   "cell_type": "markdown",
   "id": "ede3ded6-b472-4581-8dd0-5f2ab9f46552",
   "metadata": {},
   "source": [
    "# String \n"
   ]
  },
  {
   "cell_type": "code",
   "execution_count": 41,
   "id": "3249e9eb-2c75-40cf-bccb-24866b4dc1b9",
   "metadata": {},
   "outputs": [
    {
     "name": "stdout",
     "output_type": "stream",
     "text": [
      "hello how are you\n"
     ]
    }
   ],
   "source": [
    "str1 = 'hello'\n",
    "str2 = \"how\"\n",
    "str3 = '''are you'''\n",
    "print(str1,str2,str3, sep=\" \")"
   ]
  },
  {
   "cell_type": "code",
   "execution_count": 45,
   "id": "c1707d6a-e37f-4b5f-af3b-067ebcb6f65a",
   "metadata": {},
   "outputs": [
    {
     "name": "stdout",
     "output_type": "stream",
     "text": [
      "He said,\n",
      "Hi Harry\n",
      "hey I am good\n",
      "I want to eat an apple\n"
     ]
    }
   ],
   "source": [
    "apple = '''He said,\n",
    "Hi Harry\n",
    "hey I am good\n",
    "I want to eat an apple'''\n",
    "print(apple)"
   ]
  },
  {
   "cell_type": "code",
   "execution_count": 49,
   "id": "8d591f04-9638-41e9-833c-a1d458512398",
   "metadata": {},
   "outputs": [
    {
     "name": "stdout",
     "output_type": "stream",
     "text": [
      "id,\n",
      "Hi Ha\n"
     ]
    }
   ],
   "source": [
    "#String Slicing\n",
    "print(apple[5:14])"
   ]
  },
  {
   "cell_type": "code",
   "execution_count": 48,
   "id": "43481645-5612-4568-be0f-b6e71e588b4d",
   "metadata": {},
   "outputs": [
    {
     "name": "stdout",
     "output_type": "stream",
     "text": [
      "h\n",
      "e\n",
      "l\n",
      "l\n",
      "o\n"
     ]
    }
   ],
   "source": [
    "#looping through strings\n",
    "for i in str1:\n",
    "    print(i)"
   ]
  },
  {
   "cell_type": "code",
   "execution_count": 50,
   "id": "8a649f9c-535d-4817-874a-8b7a1a452d7f",
   "metadata": {},
   "outputs": [
    {
     "name": "stdout",
     "output_type": "stream",
     "text": [
      "Akash\n"
     ]
    }
   ],
   "source": [
    "names = \"Akash, Harry, Shubham\"\n",
    "print(names[0:5])"
   ]
  },
  {
   "cell_type": "code",
   "execution_count": 59,
   "id": "ed47f787-aaca-47c3-afea-ebd52fc59044",
   "metadata": {},
   "outputs": [
    {
     "name": "stdout",
     "output_type": "stream",
     "text": [
      "Shubha\n"
     ]
    }
   ],
   "source": [
    "print(names[-7:-1]) #it means print(names[len(names)-7: len(names)-1])"
   ]
  },
  {
   "cell_type": "code",
   "execution_count": 57,
   "id": "4c59268e-cb98-42bb-86d1-ae160cd77a09",
   "metadata": {},
   "outputs": [
    {
     "data": {
      "text/plain": [
       "21"
      ]
     },
     "execution_count": 57,
     "metadata": {},
     "output_type": "execute_result"
    }
   ],
   "source": [
    "len(names) #length of the string"
   ]
  },
  {
   "cell_type": "code",
   "execution_count": 61,
   "id": "cdda62f8-79f9-4a82-9ea5-1fc854462496",
   "metadata": {},
   "outputs": [
    {
     "name": "stdout",
     "output_type": "stream",
     "text": [
      "!!Akash neogi!!!!!\n",
      "!!AKASH NEOGI!!!!!\n",
      "!!akash neogi!!!!!\n",
      "!!Akash neogi\n"
     ]
    }
   ],
   "source": [
    "#String is immutable\n",
    "a='!!Akash neogi!!!!!'\n",
    "print(a)\n",
    "print(a.upper())\n",
    "print(a.lower())\n",
    "print(a.rstrip(\"!\"))"
   ]
  },
  {
   "cell_type": "code",
   "execution_count": 67,
   "id": "377633d0-6c04-4d8f-a516-865cbaec5bb9",
   "metadata": {},
   "outputs": [
    {
     "name": "stdout",
     "output_type": "stream",
     "text": [
      "                Welcome to Python                 \n",
      "17\n",
      "50\n"
     ]
    }
   ],
   "source": [
    "str1 = \"Welcome to Python\"\n",
    "print(str1.center(50))\n",
    "print(len(str1))\n",
    "print(len(str1.center(50)))"
   ]
  },
  {
   "cell_type": "code",
   "execution_count": 73,
   "id": "33c123eb-2bdb-46e9-bce9-885b80a74dce",
   "metadata": {},
   "outputs": [
    {
     "name": "stdout",
     "output_type": "stream",
     "text": [
      "  HELLO PYTHON!  \n",
      "  hello python!  \n",
      "Hello Python!\n",
      "Hello Python!  \n",
      "  Hello Python!\n",
      "  Hello World!  \n",
      "['Hello', 'Python!']\n",
      "['  Hello Python!  ']\n",
      "Hello Python\n",
      "8\n",
      "8\n",
      "2\n",
      "True\n",
      "True\n",
      "False\n",
      "False\n",
      "False\n",
      "False\n",
      "True\n",
      "  Hello Python!  \n",
      "  hello python!  \n",
      "  hELLO pYTHON!  \n"
     ]
    }
   ],
   "source": [
    "# Common String Methods\n",
    "text = \"  Hello Python!  \"\n",
    "\n",
    "print(text.upper())       # '  HELLO PYTHON!  '  → Converts to uppercase\n",
    "print(text.lower())       # '  hello python!  '  → Converts to lowercase\n",
    "print(text.strip())      # 'Hello Python!'      → Removes spaces from both ends\n",
    "print(text.lstrip())      # 'Hello Python!  '    → Removes spaces from left\n",
    "print(text.rstrip())      # '  Hello Python!'    → Removes spaces from right\n",
    "print(text.replace(\"Python\", \"World\"))   # '  Hello World!  '\n",
    "print(text.split())       # ['Hello', 'Python!'] → Splits by whitespace\n",
    "print(text.split(\",\"))    # Split by comma\n",
    "print(\" \".join([\"Hello\", \"Python\"]))     # 'Hello Python'\n",
    "print(text.find(\"Python\"))   # 8 → Returns index of substring (-1 if not found)\n",
    "print(text.index(\"Python\"))  # 8 → Similar to find(), but raises error if not found\n",
    "print(text.count(\"l\"))    # 2 → Counts occurrences of substring\n",
    "print(text.startswith(\"  He\")) # True\n",
    "print(text.endswith(\"on!  \"))  # True\n",
    "print(text.isalpha())     # False → Checks if all chars are alphabets\n",
    "print(text.isdigit())     # False → Checks if all chars are digits\n",
    "print(text.isalnum())     # False → Checks if all chars are alphanumeric\n",
    "print(text.isspace())     # False → Checks if all chars are whitespace\n",
    "print(text.istitle())     # True → Checks if title case\n",
    "print(text.title())       # '  Hello Python!  ' → Converts to title case\n",
    "print(text.capitalize())  # '  hello python!  ' → First char uppercase, rest lowercase\n",
    "print(text.swapcase())    # '  hELLO pYTHON!  ' → Swaps case"
   ]
  },
  {
   "cell_type": "markdown",
   "id": "3edd7490-ff69-4a6b-9e76-7e57780273b7",
   "metadata": {},
   "source": [
    "# IF - ELSE STATEMENT"
   ]
  },
  {
   "cell_type": "code",
   "execution_count": 79,
   "id": "7034ee9a-519e-4b0d-966d-818227c6574a",
   "metadata": {},
   "outputs": [
    {
     "name": "stdin",
     "output_type": "stream",
     "text": [
      "Enter a number:  -85\n"
     ]
    },
    {
     "name": "stdout",
     "output_type": "stream",
     "text": [
      "Negative\n"
     ]
    }
   ],
   "source": [
    "#conditional operators\n",
    "# >, <, <=, >=, ==, !=\n",
    "num = int(input('Enter a number: '))\n",
    "if (num > 0):\n",
    "    print(\"Positive\")\n",
    "elif (num < 0):\n",
    "    print(\"Negative\")\n",
    "else:\n",
    "    print(\"Zero\")"
   ]
  },
  {
   "cell_type": "markdown",
   "id": "8a9f9e1a-0d6f-4de2-ac0a-9be2dbe46c15",
   "metadata": {},
   "source": [
    "# Python Time Modules"
   ]
  },
  {
   "cell_type": "code",
   "execution_count": 80,
   "id": "47745d69-fe5f-458e-80ab-2c80ce4e212c",
   "metadata": {},
   "outputs": [
    {
     "name": "stdout",
     "output_type": "stream",
     "text": [
      "1755176928.8106549\n"
     ]
    }
   ],
   "source": [
    "#Python Time Modules\n",
    "import time\n",
    "print(time.time()) #this will give current time in seconds since the Unix Epoch [January 1, 1970 UTC]"
   ]
  },
  {
   "cell_type": "code",
   "execution_count": 81,
   "id": "588d6397-4429-45f5-a5bc-b5a2b1ac5665",
   "metadata": {},
   "outputs": [
    {
     "name": "stdout",
     "output_type": "stream",
     "text": [
      "Start\n",
      "End\n"
     ]
    }
   ],
   "source": [
    "print(\"Start\")\n",
    "time.sleep(3) #Pause for 3 seconds\n",
    "print(\"End\")"
   ]
  },
  {
   "cell_type": "code",
   "execution_count": 82,
   "id": "a9d2afdb-7086-4209-a3fe-6b80b5d6e857",
   "metadata": {},
   "outputs": [
    {
     "name": "stdout",
     "output_type": "stream",
     "text": [
      "time.struct_time(tm_year=2025, tm_mon=8, tm_mday=14, tm_hour=18, tm_min=39, tm_sec=54, tm_wday=3, tm_yday=226, tm_isdst=0)\n"
     ]
    }
   ],
   "source": [
    "print(time.localtime())"
   ]
  },
  {
   "cell_type": "code",
   "execution_count": 84,
   "id": "f59338cf-c9b1-4273-a9a0-869c598f369c",
   "metadata": {},
   "outputs": [
    {
     "name": "stdout",
     "output_type": "stream",
     "text": [
      "08/14/25\n"
     ]
    }
   ],
   "source": [
    "print(time.strftime(\"%D\"))"
   ]
  },
  {
   "cell_type": "code",
   "execution_count": 87,
   "id": "d65a3b86-3441-4bbf-aebc-ef8bc4f22e46",
   "metadata": {},
   "outputs": [
    {
     "name": "stdout",
     "output_type": "stream",
     "text": [
      "18:41:25\n"
     ]
    }
   ],
   "source": [
    "print(time.strftime(\"%H:%M:%S\"))"
   ]
  },
  {
   "cell_type": "code",
   "execution_count": 88,
   "id": "f2ac258b-38d1-45c7-84af-aed7ee188e5e",
   "metadata": {},
   "outputs": [
    {
     "name": "stdout",
     "output_type": "stream",
     "text": [
      "time.struct_time(tm_year=2025, tm_mon=8, tm_mday=14, tm_hour=13, tm_min=11, tm_sec=58, tm_wday=3, tm_yday=226, tm_isdst=0)\n"
     ]
    }
   ],
   "source": [
    "print(time.gmtime())"
   ]
  },
  {
   "cell_type": "code",
   "execution_count": 90,
   "id": "8368ee78-c8dd-4913-8ca6-f8fddea4032c",
   "metadata": {},
   "outputs": [
    {
     "name": "stdout",
     "output_type": "stream",
     "text": [
      "Elapsed 3.0009700000009616\n"
     ]
    }
   ],
   "source": [
    "start = time.perf_counter()\n",
    "time.sleep(3)\n",
    "end = time.perf_counter()\n",
    "print(\"Elapsed\", end - start) #Measuring Execution Time"
   ]
  },
  {
   "cell_type": "code",
   "execution_count": null,
   "id": "81c86508-221f-4880-b2a9-048c830257d6",
   "metadata": {},
   "outputs": [],
   "source": []
  }
 ],
 "metadata": {
  "kernelspec": {
   "display_name": "Python 3 (ipykernel)",
   "language": "python",
   "name": "python3"
  },
  "language_info": {
   "codemirror_mode": {
    "name": "ipython",
    "version": 3
   },
   "file_extension": ".py",
   "mimetype": "text/x-python",
   "name": "python",
   "nbconvert_exporter": "python",
   "pygments_lexer": "ipython3",
   "version": "3.11.13"
  }
 },
 "nbformat": 4,
 "nbformat_minor": 5
}
