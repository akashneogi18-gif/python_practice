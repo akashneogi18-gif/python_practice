{
 "cells": [
  {
   "cell_type": "code",
   "execution_count": 2,
   "id": "d4ac1007-37c0-4976-aa7b-c77048ae3cb7",
   "metadata": {},
   "outputs": [
    {
     "name": "stdout",
     "output_type": "stream",
     "text": [
      "Hello World!\n",
      "5\n",
      "Bye\n"
     ]
    }
   ],
   "source": [
    "print('Hello World!')\n",
    "print(5)\n",
    "print('Bye')"
   ]
  },
  {
   "cell_type": "code",
   "execution_count": 4,
   "id": "b273603b-6f8a-4d81-ba24-d191ccba677f",
   "metadata": {},
   "outputs": [
    {
     "name": "stdout",
     "output_type": "stream",
     "text": [
      "I am Akash Neogi\n",
      "I have pursuing my MTech in Data Science from NIT Silchar\n"
     ]
    }
   ],
   "source": [
    "#this is a comment\n",
    "print('I am Akash Neogi\\nI have pursuing my MTech in Data Science from NIT Silchar')"
   ]
  },
  {
   "cell_type": "markdown",
   "id": "4a2f440f-d004-4333-9ff4-f07fce8a5084",
   "metadata": {},
   "source": [
    "- `\\n` used for newline\n",
    "- `\\` is escape sequence in python \n",
    "- In Python, an escape sequence is a combination of characters used within a string literal to represent special characters or perform specific actions that cannot be directly typed or would otherwise break the string's syntax. Escape sequences always begin with a backslash (`\\`) followed by one or more characters. "
   ]
  },
  {
   "cell_type": "raw",
   "id": "a66fd128-6ff6-4a0c-ada0-683894a9b67f",
   "metadata": {},
   "source": [
    "Purpose of Escape Sequence\n",
    "\n",
    "Representing Unprintable Characters\n",
    "- They allow the inclusion of characters like newlines (\\n), tabs (\\t), or backspaces (\\b) that don't have a visible representation when typed directly.\n",
    "\n",
    "\n",
    "Including Special Characters within Strings\n",
    "- They enable the use of characters that have a special meaning in string syntax, such as single quotes (\\') within a single-quoted string or double quotes (\\\") within a double-quoted string, without prematurely ending the string\n",
    "\n",
    "\n",
    "Example\n",
    "- \\n: Newline (moves the cursor to the next line)\n",
    "- \\t: Horizontal tab (inserts a tab space)\n",
    "- \\\\: Backslash (inserts a literal backslash character)\n",
    "- \\': Single quote (inserts a literal single quote)\n",
    "- \\\": Double quote (inserts a literal double quote)\n",
    "- \\b: Backspace (deletes the character preceding it)\n",
    "- \\r: Carriage return (moves the cursor to the beginning of the current line)\n",
    "- \\f: Form feed (moves the cursor to the beginning of the next page)\n",
    "- \\ooo: Octal value (represents a character by its octal value, e.g., \\101 for 'A')\n",
    "- \\xhh: Hexadecimal value (represents a character by its hexadecimal value, e.g., \\x41 for 'A')\n",
    "- \\uHHHH: Unicode character (represents a Unicode character using a 4-digit hexadecimal value)\n",
    "- \\UHHHHHHHH: Unicode character (represents a Unicode character using an 8-digit hexadecimal value)"
   ]
  },
  {
   "cell_type": "markdown",
   "id": "631f8bcb-3145-42ec-942a-525b29b85a91",
   "metadata": {},
   "source": [
    "`print(object(s), sep=seperator, end=end, file=file, flush=flush)`\n",
    "- object(s) - any object, as many as you like, will be converted to string before printed\n",
    "- sep = 'seperator': specify how to seperate objects, if there is more than one. in default `sep=''`\n",
    "- end = 'end': specify what to end at the end. in default `end='\\n'`\n",
    "- file: an object with a write method. default is `file=sys.stdout`\n",
    "- **parameters 2 to 4 are optional**"
   ]
  },
  {
   "cell_type": "code",
   "execution_count": 8,
   "id": "c8b9ccf9-321e-4e5a-9cd8-2dc152f35ec6",
   "metadata": {},
   "outputs": [
    {
     "name": "stdout",
     "output_type": "stream",
     "text": [
      "Hello ~ 5 ~ 6.7 ~ Akash\n"
     ]
    }
   ],
   "source": [
    "print('Hello', 5, 6.7, 'Akash', sep=' ~ ') #by default sep = ''"
   ]
  },
  {
   "cell_type": "code",
   "execution_count": 9,
   "id": "97d22bbf-bf11-4c59-9311-85aea0a19dd3",
   "metadata": {},
   "outputs": [
    {
     "name": "stdout",
     "output_type": "stream",
     "text": [
      "akash07hello\n"
     ]
    }
   ],
   "source": [
    "print('akash', end='07') #bydefault end = '\\n'\n",
    "print('hello')"
   ]
  },
  {
   "cell_type": "markdown",
   "id": "febe9d37-09b0-419b-be03-cc023ebdc511",
   "metadata": {},
   "source": [
    "# **Variable in Python**\n",
    "-container which holds data."
   ]
  },
  {
   "cell_type": "code",
   "execution_count": 13,
   "id": "8a4d887b-c8df-4a8e-9f8a-f0a471b55292",
   "metadata": {},
   "outputs": [
    {
     "name": "stdout",
     "output_type": "stream",
     "text": [
      "1\n",
      "Akash\n",
      "True\n",
      "None\n",
      "10\n"
     ]
    }
   ],
   "source": [
    "a = 1\n",
    "b = 'Akash'\n",
    "c = True\n",
    "d = None\n",
    "print(a)\n",
    "print(b)\n",
    "print(c)\n",
    "print(d)\n",
    "a1 = 9\n",
    "print(a+a1)\n",
    "#a and b are variable"
   ]
  },
  {
   "cell_type": "code",
   "execution_count": 14,
   "id": "afe4fa47-b25b-4a0b-ae35-46a4505551d4",
   "metadata": {},
   "outputs": [
    {
     "name": "stdout",
     "output_type": "stream",
     "text": [
      "<class 'int'>\n",
      "<class 'str'>\n",
      "<class 'bool'>\n",
      "<class 'NoneType'>\n"
     ]
    }
   ],
   "source": [
    "#datatype is type of the data\n",
    "print(type(a))\n",
    "print(type(b))\n",
    "print(type(c))\n",
    "print(type(d))"
   ]
  },
  {
   "cell_type": "markdown",
   "id": "67704868-99d0-4ad0-8485-58bb1ed59be2",
   "metadata": {},
   "source": [
    "# Python Built-In DataTypes\n",
    "- int : 3, -8, 0\n",
    "- float : 7.349, 0.00015, -9.15408\n",
    "- complex : 6 + 2j `complex(6,2)`\n",
    "- str : 'Hello World'\n",
    "- bool : true or false"
   ]
  },
  {
   "cell_type": "code",
   "execution_count": 16,
   "id": "fd3a3943-b387-4e76-b0d0-0f6adbdb07de",
   "metadata": {},
   "outputs": [
    {
     "name": "stdout",
     "output_type": "stream",
     "text": [
      "(8+2j)\n"
     ]
    }
   ],
   "source": [
    "com = complex(8,2)\n",
    "print(com)"
   ]
  },
  {
   "cell_type": "markdown",
   "id": "3605f86b-b244-4392-af0a-a9d5c65877d0",
   "metadata": {},
   "source": [
    "# Other Data Types\n",
    "- List [sequenced]\n",
    "- Tuple [sequenced]\n",
    "- Dictionary [mapped]\n",
    "- Set [unordered]"
   ]
  },
  {
   "cell_type": "markdown",
   "id": "9770bcc2-9ece-4eaf-9eb8-66613eade511",
   "metadata": {},
   "source": [
    "# Operators\n",
    "- \\+ : addition\n",
    "- \\- : subtraction\n",
    "- \\* : multiplication\n",
    "- / : division\n",
    "- % : modulus\n",
    "- // : floor division\n",
    "- \\** : exponential"
   ]
  },
  {
   "cell_type": "code",
   "execution_count": 21,
   "id": "1b6a56e1-53f2-4f10-a4a9-18ad7d09e936",
   "metadata": {},
   "outputs": [
    {
     "name": "stdout",
     "output_type": "stream",
     "text": [
      "1/2/3/4\n"
     ]
    }
   ],
   "source": [
    "a = ['1','2','3','4']\n",
    "print(\"/\".join(a))"
   ]
  },
  {
   "cell_type": "markdown",
   "id": "415b6510-982b-49c8-89c3-5d3164d9e755",
   "metadata": {},
   "source": [
    "# Typecasting\n",
    "int(), float(), str(), ord(), hex(), oct(), tuple(), set(), list(), dict(), etc.\n",
    "# types\n",
    "- explicit typecasting [typecasting done by developer]\n",
    "- implicit typecasting [typecasting done by python automatically]"
   ]
  },
  {
   "cell_type": "code",
   "execution_count": 22,
   "id": "75cd9d14-41c3-45f8-8ccb-9adc5308ad44",
   "metadata": {},
   "outputs": [
    {
     "name": "stdout",
     "output_type": "stream",
     "text": [
      "11.4\n"
     ]
    }
   ],
   "source": [
    "#Implicit Typecasting\n",
    "a = 8\n",
    "b = 3.4\n",
    "print(a+b)"
   ]
  },
  {
   "cell_type": "code",
   "execution_count": 23,
   "id": "363d5240-4571-45d6-a2d9-58edf2b4185a",
   "metadata": {},
   "outputs": [
    {
     "name": "stdout",
     "output_type": "stream",
     "text": [
      "5\n",
      "14\n"
     ]
    }
   ],
   "source": [
    "#Explicit Typecasting\n",
    "a = '1'\n",
    "b = '4'\n",
    "print(int(a) + int(b))\n",
    "print(a + b)"
   ]
  },
  {
   "cell_type": "code",
   "execution_count": 30,
   "id": "92c05769-e6b9-4146-8c84-a35923064fa7",
   "metadata": {},
   "outputs": [
    {
     "name": "stdin",
     "output_type": "stream",
     "text": [
      " akash\n"
     ]
    },
    {
     "name": "stdout",
     "output_type": "stream",
     "text": [
      "the input is akash\n"
     ]
    }
   ],
   "source": [
    "#taking user input in python\n",
    "inp1 = input() #by default the input is string\n",
    "print('the input is', inp1)"
   ]
  },
  {
   "cell_type": "code",
   "execution_count": 29,
   "id": "8ce9586a-9026-4c3b-a0be-732146c5957b",
   "metadata": {},
   "outputs": [
    {
     "name": "stdin",
     "output_type": "stream",
     "text": [
      "Enter a integer:  4\n"
     ]
    },
    {
     "name": "stdout",
     "output_type": "stream",
     "text": [
      "4\n"
     ]
    }
   ],
   "source": [
    "inp2 = int(input('Enter a integer: '))\n",
    "print(inp2)"
   ]
  },
  {
   "cell_type": "markdown",
   "id": "ede3ded6-b472-4581-8dd0-5f2ab9f46552",
   "metadata": {},
   "source": [
    "# String \n"
   ]
  },
  {
   "cell_type": "code",
   "execution_count": 41,
   "id": "3249e9eb-2c75-40cf-bccb-24866b4dc1b9",
   "metadata": {},
   "outputs": [
    {
     "name": "stdout",
     "output_type": "stream",
     "text": [
      "hello how are you\n"
     ]
    }
   ],
   "source": [
    "str1 = 'hello'\n",
    "str2 = \"how\"\n",
    "str3 = '''are you'''\n",
    "print(str1,str2,str3, sep=\" \")"
   ]
  },
  {
   "cell_type": "code",
   "execution_count": 45,
   "id": "c1707d6a-e37f-4b5f-af3b-067ebcb6f65a",
   "metadata": {},
   "outputs": [
    {
     "name": "stdout",
     "output_type": "stream",
     "text": [
      "He said,\n",
      "Hi Harry\n",
      "hey I am good\n",
      "I want to eat an apple\n"
     ]
    }
   ],
   "source": [
    "apple = '''He said,\n",
    "Hi Harry\n",
    "hey I am good\n",
    "I want to eat an apple'''\n",
    "print(apple)"
   ]
  },
  {
   "cell_type": "code",
   "execution_count": 49,
   "id": "8d591f04-9638-41e9-833c-a1d458512398",
   "metadata": {},
   "outputs": [
    {
     "name": "stdout",
     "output_type": "stream",
     "text": [
      "id,\n",
      "Hi Ha\n"
     ]
    }
   ],
   "source": [
    "#String Slicing\n",
    "print(apple[5:14])"
   ]
  },
  {
   "cell_type": "code",
   "execution_count": 48,
   "id": "43481645-5612-4568-be0f-b6e71e588b4d",
   "metadata": {},
   "outputs": [
    {
     "name": "stdout",
     "output_type": "stream",
     "text": [
      "h\n",
      "e\n",
      "l\n",
      "l\n",
      "o\n"
     ]
    }
   ],
   "source": [
    "#looping through strings\n",
    "for i in str1:\n",
    "    print(i)"
   ]
  },
  {
   "cell_type": "code",
   "execution_count": 50,
   "id": "8a649f9c-535d-4817-874a-8b7a1a452d7f",
   "metadata": {},
   "outputs": [
    {
     "name": "stdout",
     "output_type": "stream",
     "text": [
      "Akash\n"
     ]
    }
   ],
   "source": [
    "names = \"Akash, Harry, Shubham\"\n",
    "print(names[0:5])"
   ]
  },
  {
   "cell_type": "code",
   "execution_count": 59,
   "id": "ed47f787-aaca-47c3-afea-ebd52fc59044",
   "metadata": {},
   "outputs": [
    {
     "name": "stdout",
     "output_type": "stream",
     "text": [
      "Shubha\n"
     ]
    }
   ],
   "source": [
    "print(names[-7:-1]) #it means print(names[len(names)-7: len(names)-1])"
   ]
  },
  {
   "cell_type": "code",
   "execution_count": 57,
   "id": "4c59268e-cb98-42bb-86d1-ae160cd77a09",
   "metadata": {},
   "outputs": [
    {
     "data": {
      "text/plain": [
       "21"
      ]
     },
     "execution_count": 57,
     "metadata": {},
     "output_type": "execute_result"
    }
   ],
   "source": [
    "len(names) #length of the string"
   ]
  },
  {
   "cell_type": "code",
   "execution_count": 61,
   "id": "cdda62f8-79f9-4a82-9ea5-1fc854462496",
   "metadata": {},
   "outputs": [
    {
     "name": "stdout",
     "output_type": "stream",
     "text": [
      "!!Akash neogi!!!!!\n",
      "!!AKASH NEOGI!!!!!\n",
      "!!akash neogi!!!!!\n",
      "!!Akash neogi\n"
     ]
    }
   ],
   "source": [
    "#String is immutable\n",
    "a='!!Akash neogi!!!!!'\n",
    "print(a)\n",
    "print(a.upper())\n",
    "print(a.lower())\n",
    "print(a.rstrip(\"!\"))"
   ]
  },
  {
   "cell_type": "code",
   "execution_count": 67,
   "id": "377633d0-6c04-4d8f-a516-865cbaec5bb9",
   "metadata": {},
   "outputs": [
    {
     "name": "stdout",
     "output_type": "stream",
     "text": [
      "                Welcome to Python                 \n",
      "17\n",
      "50\n"
     ]
    }
   ],
   "source": [
    "str1 = \"Welcome to Python\"\n",
    "print(str1.center(50))\n",
    "print(len(str1))\n",
    "print(len(str1.center(50)))"
   ]
  },
  {
   "cell_type": "code",
   "execution_count": 73,
   "id": "33c123eb-2bdb-46e9-bce9-885b80a74dce",
   "metadata": {
    "scrolled": true
   },
   "outputs": [
    {
     "name": "stdout",
     "output_type": "stream",
     "text": [
      "  HELLO PYTHON!  \n",
      "  hello python!  \n",
      "Hello Python!\n",
      "Hello Python!  \n",
      "  Hello Python!\n",
      "  Hello World!  \n",
      "['Hello', 'Python!']\n",
      "['  Hello Python!  ']\n",
      "Hello Python\n",
      "8\n",
      "8\n",
      "2\n",
      "True\n",
      "True\n",
      "False\n",
      "False\n",
      "False\n",
      "False\n",
      "True\n",
      "  Hello Python!  \n",
      "  hello python!  \n",
      "  hELLO pYTHON!  \n"
     ]
    }
   ],
   "source": [
    "# Common String Methods\n",
    "text = \"  Hello Python!  \"\n",
    "\n",
    "print(text.upper())       # '  HELLO PYTHON!  '  → Converts to uppercase\n",
    "print(text.lower())       # '  hello python!  '  → Converts to lowercase\n",
    "print(text.strip())      # 'Hello Python!'      → Removes spaces from both ends\n",
    "print(text.lstrip())      # 'Hello Python!  '    → Removes spaces from left\n",
    "print(text.rstrip())      # '  Hello Python!'    → Removes spaces from right\n",
    "print(text.replace(\"Python\", \"World\"))   # '  Hello World!  '\n",
    "print(text.split())       # ['Hello', 'Python!'] → Splits by whitespace\n",
    "print(text.split(\",\"))    # Split by comma\n",
    "print(\" \".join([\"Hello\", \"Python\"]))     # 'Hello Python'\n",
    "print(text.find(\"Python\"))   # 8 → Returns index of substring (-1 if not found)\n",
    "print(text.index(\"Python\"))  # 8 → Similar to find(), but raises error if not found\n",
    "print(text.count(\"l\"))    # 2 → Counts occurrences of substring\n",
    "print(text.startswith(\"  He\")) # True\n",
    "print(text.endswith(\"on!  \"))  # True\n",
    "print(text.isalpha())     # False → Checks if all chars are alphabets\n",
    "print(text.isdigit())     # False → Checks if all chars are digits\n",
    "print(text.isalnum())     # False → Checks if all chars are alphanumeric\n",
    "print(text.isspace())     # False → Checks if all chars are whitespace\n",
    "print(text.istitle())     # True → Checks if title case\n",
    "print(text.title())       # '  Hello Python!  ' → Converts to title case\n",
    "print(text.capitalize())  # '  hello python!  ' → First char uppercase, rest lowercase\n",
    "print(text.swapcase())    # '  hELLO pYTHON!  ' → Swaps case"
   ]
  },
  {
   "cell_type": "markdown",
   "id": "3edd7490-ff69-4a6b-9e76-7e57780273b7",
   "metadata": {},
   "source": [
    "# IF - ELSE STATEMENT"
   ]
  },
  {
   "cell_type": "code",
   "execution_count": 79,
   "id": "7034ee9a-519e-4b0d-966d-818227c6574a",
   "metadata": {},
   "outputs": [
    {
     "name": "stdin",
     "output_type": "stream",
     "text": [
      "Enter a number:  -85\n"
     ]
    },
    {
     "name": "stdout",
     "output_type": "stream",
     "text": [
      "Negative\n"
     ]
    }
   ],
   "source": [
    "#conditional operators\n",
    "# >, <, <=, >=, ==, !=\n",
    "num = int(input('Enter a number: '))\n",
    "if (num > 0):\n",
    "    print(\"Positive\")\n",
    "elif (num < 0):\n",
    "    print(\"Negative\")\n",
    "else:\n",
    "    print(\"Zero\")"
   ]
  },
  {
   "cell_type": "markdown",
   "id": "8a9f9e1a-0d6f-4de2-ac0a-9be2dbe46c15",
   "metadata": {},
   "source": [
    "# Python Time Modules"
   ]
  },
  {
   "cell_type": "code",
   "execution_count": 80,
   "id": "47745d69-fe5f-458e-80ab-2c80ce4e212c",
   "metadata": {},
   "outputs": [
    {
     "name": "stdout",
     "output_type": "stream",
     "text": [
      "1755176928.8106549\n"
     ]
    }
   ],
   "source": [
    "#Python Time Modules\n",
    "import time\n",
    "print(time.time()) #this will give current time in seconds since the Unix Epoch [January 1, 1970 UTC]"
   ]
  },
  {
   "cell_type": "code",
   "execution_count": 81,
   "id": "588d6397-4429-45f5-a5bc-b5a2b1ac5665",
   "metadata": {},
   "outputs": [
    {
     "name": "stdout",
     "output_type": "stream",
     "text": [
      "Start\n",
      "End\n"
     ]
    }
   ],
   "source": [
    "print(\"Start\")\n",
    "time.sleep(3) #Pause for 3 seconds\n",
    "print(\"End\")"
   ]
  },
  {
   "cell_type": "code",
   "execution_count": 82,
   "id": "a9d2afdb-7086-4209-a3fe-6b80b5d6e857",
   "metadata": {},
   "outputs": [
    {
     "name": "stdout",
     "output_type": "stream",
     "text": [
      "time.struct_time(tm_year=2025, tm_mon=8, tm_mday=14, tm_hour=18, tm_min=39, tm_sec=54, tm_wday=3, tm_yday=226, tm_isdst=0)\n"
     ]
    }
   ],
   "source": [
    "print(time.localtime())"
   ]
  },
  {
   "cell_type": "code",
   "execution_count": 84,
   "id": "f59338cf-c9b1-4273-a9a0-869c598f369c",
   "metadata": {},
   "outputs": [
    {
     "name": "stdout",
     "output_type": "stream",
     "text": [
      "08/14/25\n"
     ]
    }
   ],
   "source": [
    "print(time.strftime(\"%D\"))"
   ]
  },
  {
   "cell_type": "code",
   "execution_count": 87,
   "id": "d65a3b86-3441-4bbf-aebc-ef8bc4f22e46",
   "metadata": {},
   "outputs": [
    {
     "name": "stdout",
     "output_type": "stream",
     "text": [
      "18:41:25\n"
     ]
    }
   ],
   "source": [
    "print(time.strftime(\"%H:%M:%S\"))"
   ]
  },
  {
   "cell_type": "code",
   "execution_count": 88,
   "id": "f2ac258b-38d1-45c7-84af-aed7ee188e5e",
   "metadata": {},
   "outputs": [
    {
     "name": "stdout",
     "output_type": "stream",
     "text": [
      "time.struct_time(tm_year=2025, tm_mon=8, tm_mday=14, tm_hour=13, tm_min=11, tm_sec=58, tm_wday=3, tm_yday=226, tm_isdst=0)\n"
     ]
    }
   ],
   "source": [
    "print(time.gmtime())"
   ]
  },
  {
   "cell_type": "code",
   "execution_count": 90,
   "id": "8368ee78-c8dd-4913-8ca6-f8fddea4032c",
   "metadata": {},
   "outputs": [
    {
     "name": "stdout",
     "output_type": "stream",
     "text": [
      "Elapsed 3.0009700000009616\n"
     ]
    }
   ],
   "source": [
    "start = time.perf_counter()\n",
    "time.sleep(3)\n",
    "end = time.perf_counter()\n",
    "print(\"Elapsed\", end - start) #Measuring Execution Time"
   ]
  },
  {
   "cell_type": "markdown",
   "id": "28de873c-40d1-4c0e-8efd-e371682fd72b",
   "metadata": {},
   "source": [
    "# Match Case Statements in Python\n",
    "in python `break` is not required for case statements"
   ]
  },
  {
   "cell_type": "code",
   "execution_count": 4,
   "id": "f4b242e7-f715-4a21-95e6-a4dae3621d1b",
   "metadata": {},
   "outputs": [
    {
     "name": "stdin",
     "output_type": "stream",
     "text": [
      " 0\n"
     ]
    },
    {
     "name": "stdout",
     "output_type": "stream",
     "text": [
      "case 0\n"
     ]
    }
   ],
   "source": [
    "x = int(input())\n",
    "match(x):\n",
    "    case 0:\n",
    "        print('case 0')\n",
    "    case 1:\n",
    "        print('case 1')\n",
    "    case _: #default case is declared using _\n",
    "        print(x)"
   ]
  },
  {
   "cell_type": "code",
   "execution_count": 8,
   "id": "cbd84ea3-766f-4315-986d-c8887a455222",
   "metadata": {},
   "outputs": [
    {
     "name": "stdin",
     "output_type": "stream",
     "text": [
      "enter value of y:  56\n"
     ]
    },
    {
     "name": "stdout",
     "output_type": "stream",
     "text": [
      "56 is not 90\n"
     ]
    }
   ],
   "source": [
    "y = int(input('enter value of y: '))\n",
    "match(y):\n",
    "    case 0:\n",
    "        print('y is 0')\n",
    "    case 4:\n",
    "        print('y is 4')\n",
    "    case _ if y!=90:\n",
    "        print(y, 'is not 90')\n",
    "    case _ if y!=80:\n",
    "        print(y, 'is not 80')\n",
    "    case _:\n",
    "        print(y)"
   ]
  },
  {
   "cell_type": "markdown",
   "id": "34df290c-96d4-4fea-afa0-3618fce695db",
   "metadata": {},
   "source": [
    "# For Loop in Python"
   ]
  },
  {
   "cell_type": "code",
   "execution_count": 10,
   "id": "69ae749d-57fc-4036-a60d-656efcf3deaf",
   "metadata": {},
   "outputs": [
    {
     "name": "stdout",
     "output_type": "stream",
     "text": [
      "1\n",
      "2\n",
      "3\n",
      "4\n",
      "5\n",
      "6\n",
      "7\n",
      "8\n",
      "9\n",
      "10\n"
     ]
    }
   ],
   "source": [
    "for i in range(1, 11):\n",
    "    print(i)"
   ]
  },
  {
   "cell_type": "code",
   "execution_count": 11,
   "id": "830d0373-7947-404e-8b4e-7b6d6c4b46db",
   "metadata": {},
   "outputs": [
    {
     "name": "stdin",
     "output_type": "stream",
     "text": [
      "Enter first element:  2\n",
      "Enter last element:  10\n",
      "Enter increment:  2\n"
     ]
    },
    {
     "name": "stdout",
     "output_type": "stream",
     "text": [
      "2\n",
      "4\n",
      "6\n",
      "8\n",
      "10\n"
     ]
    }
   ],
   "source": [
    "x = int(input('Enter first element: '))\n",
    "y = int(input('Enter last element: '))\n",
    "r = int(input('Enter increment: '))\n",
    "for i in range(x, y+1, r):\n",
    "    print(i)"
   ]
  },
  {
   "cell_type": "code",
   "execution_count": 12,
   "id": "ec7f4ce5-bcbd-4cce-80ee-98b12e739497",
   "metadata": {},
   "outputs": [
    {
     "name": "stdout",
     "output_type": "stream",
     "text": [
      "red\n",
      "r\n",
      "e\n",
      "d\n",
      "blue\n",
      "b\n",
      "l\n",
      "u\n",
      "e\n",
      "green\n",
      "g\n",
      "r\n",
      "e\n",
      "e\n",
      "n\n",
      "yellow\n",
      "y\n",
      "e\n",
      "l\n",
      "l\n",
      "o\n",
      "w\n",
      "cyan\n",
      "c\n",
      "y\n",
      "a\n",
      "n\n"
     ]
    }
   ],
   "source": [
    "colors = ['red', 'blue', 'green', 'yellow', 'cyan']\n",
    "for color in colors:\n",
    "    print(color)\n",
    "    for i in color:\n",
    "        print(i)"
   ]
  },
  {
   "cell_type": "code",
   "execution_count": 15,
   "id": "eed898af-6a47-4b50-9f7c-64dd383859e2",
   "metadata": {},
   "outputs": [
    {
     "name": "stdout",
     "output_type": "stream",
     "text": [
      "10\n",
      "9\n",
      "8\n",
      "7\n",
      "6\n",
      "5\n",
      "4\n",
      "3\n",
      "2\n",
      "1\n"
     ]
    }
   ],
   "source": [
    "for i in range(10,0, -1):\n",
    "    print(i)"
   ]
  },
  {
   "cell_type": "markdown",
   "id": "cdae4669-bce6-4c69-a7e7-8a6dc263456b",
   "metadata": {},
   "source": [
    "# While Loop in Python"
   ]
  },
  {
   "cell_type": "code",
   "execution_count": 17,
   "id": "9c913307-07c1-45d9-98df-718725dab164",
   "metadata": {},
   "outputs": [
    {
     "name": "stdout",
     "output_type": "stream",
     "text": [
      "0\n",
      "1\n",
      "2\n",
      "3\n",
      "4\n"
     ]
    }
   ],
   "source": [
    "# for i in range(5):\n",
    "#     print(i)\n",
    "# equivalent of above using while loop\n",
    "i=0\n",
    "while(i<5):\n",
    "    print(i)\n",
    "    i+=1"
   ]
  },
  {
   "cell_type": "code",
   "execution_count": 18,
   "id": "460b0b01-547a-4859-9684-36a8e2bf4e02",
   "metadata": {},
   "outputs": [
    {
     "name": "stdin",
     "output_type": "stream",
     "text": [
      "Enter the number:  2\n"
     ]
    },
    {
     "name": "stdout",
     "output_type": "stream",
     "text": [
      "2\n"
     ]
    },
    {
     "name": "stdin",
     "output_type": "stream",
     "text": [
      "Enter the number:  8\n"
     ]
    },
    {
     "name": "stdout",
     "output_type": "stream",
     "text": [
      "8\n"
     ]
    },
    {
     "name": "stdin",
     "output_type": "stream",
     "text": [
      "Enter the number:  5\n"
     ]
    },
    {
     "name": "stdout",
     "output_type": "stream",
     "text": [
      "5\n"
     ]
    },
    {
     "name": "stdin",
     "output_type": "stream",
     "text": [
      "Enter the number:  9\n"
     ]
    },
    {
     "name": "stdout",
     "output_type": "stream",
     "text": [
      "9\n"
     ]
    },
    {
     "name": "stdin",
     "output_type": "stream",
     "text": [
      "Enter the number:  11\n"
     ]
    },
    {
     "name": "stdout",
     "output_type": "stream",
     "text": [
      "Done with the loop\n"
     ]
    }
   ],
   "source": [
    "i = int(input('Enter the number: '))\n",
    "while (i<=10):\n",
    "    print(i)\n",
    "    i = int(input('Enter the number: '))\n",
    "print('Done with the loop')"
   ]
  },
  {
   "cell_type": "code",
   "execution_count": 19,
   "id": "035115a8-928c-4440-8d32-1f77551975b0",
   "metadata": {},
   "outputs": [
    {
     "name": "stdout",
     "output_type": "stream",
     "text": [
      "5\n",
      "4\n",
      "3\n",
      "2\n",
      "1\n",
      "I am in else statement\n"
     ]
    }
   ],
   "source": [
    "count=5\n",
    "while(count>0):\n",
    "    print(count)\n",
    "    count-=1\n",
    "else:\n",
    "    print('I am in else statement')"
   ]
  },
  {
   "cell_type": "code",
   "execution_count": 20,
   "id": "2fb981ff-c423-4e96-8222-9a52d68cd397",
   "metadata": {},
   "outputs": [
    {
     "name": "stdout",
     "output_type": "stream",
     "text": [
      "Count is  0\n",
      "Count is  1\n",
      "Count is  2\n",
      "Count is  3\n",
      "Count is  4\n"
     ]
    }
   ],
   "source": [
    "#python doesn't have a do while loop to implement do while loop following step can be implemented\n",
    "count = 0\n",
    "while(True):\n",
    "    print('Count is ', count)\n",
    "    count += 1\n",
    "    if (count >= 5):\n",
    "        break"
   ]
  },
  {
   "cell_type": "code",
   "execution_count": 24,
   "id": "ea5a9929-ec76-48af-b3ab-2f4228b982a2",
   "metadata": {},
   "outputs": [
    {
     "name": "stdout",
     "output_type": "stream",
     "text": [
      "5 X  1 = 5\n",
      "5 X  2 = 10\n",
      "5 X  3 = 15\n",
      "5 X  4 = 20\n",
      "5 X  5 = 25\n",
      "5 X  6 = 30\n",
      "5 X  7 = 35\n",
      "5 X  8 = 40\n",
      "5 X  9 = 45\n",
      "5 X  10 = 50\n"
     ]
    }
   ],
   "source": [
    "for i in range(15):\n",
    "    if (i==10):\n",
    "        break #breaks the loop\n",
    "    print('5 X ', (i+1), '=', 5*(i+1))\n",
    "    "
   ]
  },
  {
   "cell_type": "code",
   "execution_count": 26,
   "id": "e214fc4e-9606-4cf2-a58d-724bf1779df0",
   "metadata": {},
   "outputs": [
    {
     "name": "stdout",
     "output_type": "stream",
     "text": [
      "skip the iteration\n",
      "5 X  2 = 10\n",
      "skip the iteration\n",
      "5 X  4 = 20\n",
      "skip the iteration\n",
      "5 X  6 = 30\n",
      "skip the iteration\n",
      "5 X  8 = 40\n",
      "skip the iteration\n",
      "5 X  10 = 50\n",
      "skip the iteration\n",
      "5 X  12 = 60\n",
      "skip the iteration\n",
      "5 X  14 = 70\n",
      "skip the iteration\n"
     ]
    }
   ],
   "source": [
    "for i in range(15):\n",
    "    if (i%2 == 0):\n",
    "        print('skip the iteration')\n",
    "        continue #skip the iteration\n",
    "    print('5 X ', (i+1), '=', 5*(i+1))"
   ]
  },
  {
   "cell_type": "markdown",
   "id": "ec6729bc-5dab-42b9-8a53-c53ae0b01686",
   "metadata": {},
   "source": [
    "# Python Function"
   ]
  },
  {
   "cell_type": "code",
   "execution_count": 30,
   "id": "b8444339-01aa-4c8b-bb40-536d55d03041",
   "metadata": {},
   "outputs": [],
   "source": [
    "#define a function to print which number is greater between two\n",
    "def greater(num1, num2):\n",
    "    if(num1 > num2):\n",
    "        print(num1, 'is greater')\n",
    "    elif(num2> num1):\n",
    "        print(num2, 'is greater')\n",
    "    else:\n",
    "        print('both number are same')"
   ]
  },
  {
   "cell_type": "code",
   "execution_count": 31,
   "id": "fad9c2e7-b8ba-4da9-b2f2-578d744680c1",
   "metadata": {},
   "outputs": [
    {
     "name": "stdout",
     "output_type": "stream",
     "text": [
      "5 is greater\n",
      "10 is greater\n",
      "8 is greater\n",
      "both number are same\n"
     ]
    }
   ],
   "source": [
    "greater(4, 5)\n",
    "greater(8, 10)\n",
    "greater(8, 3)\n",
    "greater(5, 5)"
   ]
  },
  {
   "cell_type": "code",
   "execution_count": 47,
   "id": "82d500ba-9058-47c0-b33a-31cd211d735e",
   "metadata": {},
   "outputs": [],
   "source": [
    "def islesser(a,b):\n",
    "    pass\n",
    "\n",
    "#this pass statement is used when you will pass this function for now and modify the function later"
   ]
  },
  {
   "cell_type": "markdown",
   "id": "2d9405f4-e6b8-427e-879c-d47d4c94c007",
   "metadata": {},
   "source": [
    "# FUNCTION ARGUMENTS\n",
    "- Default Argument\n",
    "- Keyword Argument\n",
    "- Variable Length Argument\n",
    "- Required Argument"
   ]
  },
  {
   "cell_type": "code",
   "execution_count": 49,
   "id": "37ff886b-26d8-4732-a66f-c228a80f39ff",
   "metadata": {},
   "outputs": [
    {
     "name": "stdout",
     "output_type": "stream",
     "text": [
      "the average is 6.5\n"
     ]
    }
   ],
   "source": [
    "#default argument: giving default argument while defining funtion [you may or may not give the value while calling the function]\n",
    "def average(a=9, b=4):\n",
    "    print(\"the average is\", (a+b)/2)\n",
    "average()"
   ]
  },
  {
   "cell_type": "code",
   "execution_count": 56,
   "id": "fb9d0d8a-28ef-433f-80f8-0d2691d848b9",
   "metadata": {},
   "outputs": [
    {
     "name": "stdout",
     "output_type": "stream",
     "text": [
      "Hello my name is Akash  Neogi\n"
     ]
    }
   ],
   "source": [
    "#keyword argument: you can change the order of argument while calling the function\n",
    "def intro(fname, lname, mname = ''): #if all the arguments are not default then the default arguments must be placed at the last\n",
    "    print(\"Hello my name is\", fname, mname, lname)\n",
    "intro(lname = 'Neogi', fname = 'Akash')"
   ]
  },
  {
   "cell_type": "code",
   "execution_count": 54,
   "id": "6412a12a-661e-459f-9b02-bf9f113e5845",
   "metadata": {},
   "outputs": [
    {
     "name": "stdout",
     "output_type": "stream",
     "text": [
      "Hello my name is Ritu Raj Paul\n"
     ]
    }
   ],
   "source": [
    "intro(mname=\"Raj\", lname=\"Paul\", fname=\"Ritu\")"
   ]
  },
  {
   "cell_type": "code",
   "execution_count": 57,
   "id": "312e8aef-dae0-428f-a097-fbde33a128cb",
   "metadata": {},
   "outputs": [
    {
     "name": "stdout",
     "output_type": "stream",
     "text": [
      "sum is 8\n"
     ]
    }
   ],
   "source": [
    "#required argument: required to give value in order while calling function\n",
    "def sum(a, b):\n",
    "    print('sum is', a+b)\n",
    "sum(3,5)"
   ]
  },
  {
   "cell_type": "code",
   "execution_count": 66,
   "id": "87a53fc9-8bbb-428e-8867-b10218a2f79c",
   "metadata": {},
   "outputs": [],
   "source": [
    "#variable length arguments: \n",
    "def avg(*numbers): #here the arguments are taken in the form of a list\n",
    "    sum = 0\n",
    "    for i in numbers:\n",
    "        sum += i\n",
    "    print(\"average is\", sum / len(numbers))"
   ]
  },
  {
   "cell_type": "code",
   "execution_count": 64,
   "id": "ec1b7808-62c1-44a8-acab-22b20277f543",
   "metadata": {},
   "outputs": [
    {
     "name": "stdout",
     "output_type": "stream",
     "text": [
      "average is 6.333333333333333\n"
     ]
    }
   ],
   "source": [
    "avg(3,5,6,7,8,9)"
   ]
  },
  {
   "cell_type": "code",
   "execution_count": 65,
   "id": "d9932669-f25a-46b8-854c-c80761b134fa",
   "metadata": {},
   "outputs": [
    {
     "name": "stdout",
     "output_type": "stream",
     "text": [
      "average is 5.0\n"
     ]
    }
   ],
   "source": [
    "avg(4,8,3)"
   ]
  },
  {
   "cell_type": "code",
   "execution_count": 72,
   "id": "07adaef2-b599-47b4-8936-44fe9c8042ae",
   "metadata": {},
   "outputs": [
    {
     "name": "stdout",
     "output_type": "stream",
     "text": [
      "<class 'dict'>\n",
      "{'name': 'akash', 'lname': 'neogi'}\n"
     ]
    }
   ],
   "source": [
    "def names(**name): #here takes input in the form of a dictionary\n",
    "    print(type(name))\n",
    "    print(name)\n",
    "names(name='akash',lname='neogi')"
   ]
  },
  {
   "cell_type": "markdown",
   "id": "e03c18c4-3fb5-40ea-b6a0-07462a1cf9a8",
   "metadata": {},
   "source": [
    "# LIST IN PYTHON\n",
    "list input is taken inside square bracket\n",
    "- ordered collection of heterogeneous elements\n",
    "- mutable/ changeable"
   ]
  },
  {
   "cell_type": "code",
   "execution_count": 74,
   "id": "3616f263-021f-4bfa-a364-4572d479185f",
   "metadata": {},
   "outputs": [
    {
     "name": "stdout",
     "output_type": "stream",
     "text": [
      "[1, 2, 3, 4, 5]\n",
      "<class 'list'>\n"
     ]
    }
   ],
   "source": [
    "l1 = [1,2,3,4,5]\n",
    "print(l1)\n",
    "print(type(l1))"
   ]
  },
  {
   "cell_type": "code",
   "execution_count": 82,
   "id": "5ab609c3-a682-432c-9d05-4e393de39256",
   "metadata": {},
   "outputs": [
    {
     "name": "stdout",
     "output_type": "stream",
     "text": [
      "yes\n"
     ]
    }
   ],
   "source": [
    "l2 = [1,2,3,4,5,6,7,8]\n",
    "count = 0\n",
    "# key = 2\n",
    "if 2 in l2:\n",
    "    print('yes')\n",
    "# print(count)"
   ]
  },
  {
   "cell_type": "code",
   "execution_count": 83,
   "id": "9eaaeef6-fc81-488a-a658-89ff2084fd5a",
   "metadata": {},
   "outputs": [
    {
     "name": "stdout",
     "output_type": "stream",
     "text": [
      "[2, 4, 6, 8]\n"
     ]
    }
   ],
   "source": [
    "print(l2[1:len(l2):2])"
   ]
  },
  {
   "cell_type": "code",
   "execution_count": 84,
   "id": "7807ba71-6b7a-4ea9-95e0-06bf9a13d4f9",
   "metadata": {},
   "outputs": [
    {
     "name": "stdout",
     "output_type": "stream",
     "text": [
      "[1, 2, 3, 4, 5, 6, 7, 8]\n"
     ]
    }
   ],
   "source": [
    "print(l2[:])"
   ]
  },
  {
   "cell_type": "markdown",
   "id": "2ad7999f-aa65-468e-854d-d3a6a4b3b596",
   "metadata": {},
   "source": [
    "# List Comprehension - ***creating new list from other iterables like lists, tiples, dict, sets and "
   ]
  },
  {
   "cell_type": "code",
   "execution_count": 85,
   "id": "889188a8-ef9f-4227-8f39-408e821612ea",
   "metadata": {},
   "outputs": [
    {
     "name": "stdout",
     "output_type": "stream",
     "text": [
      "['monty', 'rimon']\n"
     ]
    }
   ],
   "source": [
    "names = ['akash', 'arpan', 'subha', 'pritam', 'pallavi', 'monty', 'rimon']\n",
    "names_with_o = [i for i in names if 'o' in i]\n",
    "print(names_with_o)"
   ]
  },
  {
   "cell_type": "code",
   "execution_count": 87,
   "id": "e19d9145-3680-418c-935a-be5d17bacc12",
   "metadata": {},
   "outputs": [
    {
     "name": "stdout",
     "output_type": "stream",
     "text": [
      "['akash', 'arpan', 'subha', 'pritam', 'pallavi']\n"
     ]
    }
   ],
   "source": [
    "names_with_a = [i for i in names if 'a' in i]\n",
    "print(names_with_a)"
   ]
  },
  {
   "cell_type": "code",
   "execution_count": 99,
   "id": "4f9cb1a9-3818-42b7-aa60-09247ed2ace0",
   "metadata": {},
   "outputs": [
    {
     "name": "stdout",
     "output_type": "stream",
     "text": [
      "[1, 9, 25, 49]\n"
     ]
    }
   ],
   "source": [
    "num = [i**2 for i in range(9) if i%2!=0]\n",
    "print(num)"
   ]
  },
  {
   "cell_type": "markdown",
   "id": "6648f495-a5ea-461b-a829-eb7cf0778635",
   "metadata": {},
   "source": [
    "# TUPLE IN PYTHON\n",
    "- like list ordered collection of heterogeneous elements\n",
    "- immutable unlike lists"
   ]
  },
  {
   "cell_type": "code",
   "execution_count": 100,
   "id": "3e44e7ae-8e1b-4b08-a619-f6d9b31efe69",
   "metadata": {},
   "outputs": [
    {
     "name": "stdout",
     "output_type": "stream",
     "text": [
      "<class 'tuple'>\n"
     ]
    }
   ],
   "source": [
    "t = (1,)\n",
    "print(type(t))"
   ]
  },
  {
   "cell_type": "code",
   "execution_count": 102,
   "id": "ed736c44-a7ea-45ed-b6b8-20dd7497b905",
   "metadata": {},
   "outputs": [
    {
     "name": "stdout",
     "output_type": "stream",
     "text": [
      "('india', 'australia', 'newzeland', 'england')\n",
      "('india', 'australia')\n",
      "('newzeland', 'england')\n"
     ]
    }
   ],
   "source": [
    "#tuple can't be changed but new tuple can be generated by merging two tuples\n",
    "c1 = ('india', 'australia')\n",
    "c2 = ('newzeland', 'england')\n",
    "c = c1 + c2\n",
    "print(c)\n",
    "print(c1)\n",
    "print(c2)"
   ]
  },
  {
   "cell_type": "code",
   "execution_count": 105,
   "id": "97e5159a-1852-42dc-841e-a264930dfb2c",
   "metadata": {},
   "outputs": [
    {
     "name": "stdout",
     "output_type": "stream",
     "text": [
      "['india', 'australia', 'newzeland', 'england']\n"
     ]
    }
   ],
   "source": [
    "l = list(c1 + c2)\n",
    "print(l)"
   ]
  },
  {
   "cell_type": "code",
   "execution_count": 106,
   "id": "3e4dd319-ea2c-458d-88a5-df2c983f9069",
   "metadata": {},
   "outputs": [
    {
     "data": {
      "text/plain": [
       "1"
      ]
     },
     "execution_count": 106,
     "metadata": {},
     "output_type": "execute_result"
    }
   ],
   "source": [
    "c.count('india')"
   ]
  },
  {
   "cell_type": "code",
   "execution_count": 107,
   "id": "d8d947af-312a-4704-bb67-8fda5b3b869c",
   "metadata": {},
   "outputs": [
    {
     "data": {
      "text/plain": [
       "3"
      ]
     },
     "execution_count": 107,
     "metadata": {},
     "output_type": "execute_result"
    }
   ],
   "source": [
    "c.index('england')"
   ]
  },
  {
   "cell_type": "code",
   "execution_count": 110,
   "id": "5c95737f-ba40-4246-81b9-f92f2e844b36",
   "metadata": {},
   "outputs": [
    {
     "name": "stdout",
     "output_type": "stream",
     "text": [
      "6\n"
     ]
    }
   ],
   "source": [
    "l2 = [4,5,6,7,8]\n",
    "count = 2\n",
    "print(l2[count])"
   ]
  },
  {
   "cell_type": "code",
   "execution_count": 111,
   "id": "2bd83c69-6e6e-43f7-8bc1-33de386e54b6",
   "metadata": {},
   "outputs": [
    {
     "name": "stdout",
     "output_type": "stream",
     "text": [
      "<class 'list'>\n"
     ]
    }
   ],
   "source": [
    "l3 = []\n",
    "print(type(l3))"
   ]
  },
  {
   "cell_type": "markdown",
   "id": "5d30adb0-5630-4131-a53c-28cac866cd88",
   "metadata": {},
   "source": [
    "# f-string in Python"
   ]
  },
  {
   "cell_type": "code",
   "execution_count": 112,
   "id": "57a0daf2-6d5d-4944-87b3-8d20957cbac6",
   "metadata": {},
   "outputs": [
    {
     "name": "stdout",
     "output_type": "stream",
     "text": [
      "Hey my name is Akash and I am from India\n"
     ]
    }
   ],
   "source": [
    "letter = \"Hey my name is {} and I am from {}\"\n",
    "country = \"India\"\n",
    "name = \"Akash\"\n",
    "print(letter.format(name, country)) #old approach of python string formatting"
   ]
  },
  {
   "cell_type": "code",
   "execution_count": 113,
   "id": "c78c5cdb-fc50-4114-9bf8-f953c13640a8",
   "metadata": {},
   "outputs": [
    {
     "name": "stdout",
     "output_type": "stream",
     "text": [
      "Hey my name is Akash and I am from India\n"
     ]
    }
   ],
   "source": [
    "#current approach\n",
    "print(f\"Hey my name is {name} and I am from {country}\")"
   ]
  },
  {
   "cell_type": "code",
   "execution_count": 115,
   "id": "f18a6d86-a830-4b00-a5d2-16d483a29021",
   "metadata": {},
   "outputs": [
    {
     "name": "stdout",
     "output_type": "stream",
     "text": [
      "The Price is 34.28 only\n"
     ]
    }
   ],
   "source": [
    "price = 34.279277\n",
    "print(f\"The Price is {price:.2f} only\") #.2f is used to take upto 2 decimal point"
   ]
  },
  {
   "cell_type": "markdown",
   "id": "916f1500-9777-4ed9-9e88-6824e12e0f92",
   "metadata": {},
   "source": [
    "# doc-string in Python\n",
    "string literals that appear right after the definition of a function, method, class or module\n",
    "\n",
    "docstring is not ignored like comment"
   ]
  },
  {
   "cell_type": "code",
   "execution_count": 117,
   "id": "8bf97e72-8be2-4894-aaef-ddbe13d3e740",
   "metadata": {},
   "outputs": [
    {
     "name": "stdout",
     "output_type": "stream",
     "text": [
      "25\n"
     ]
    }
   ],
   "source": [
    "def square(n):\n",
    "    '''Takes in a number n, returns the square of n'''\n",
    "    print(n**2)\n",
    "square(5)"
   ]
  },
  {
   "cell_type": "code",
   "execution_count": 118,
   "id": "55158cc6-9c0c-4468-b233-ef2b1125147c",
   "metadata": {},
   "outputs": [
    {
     "name": "stdout",
     "output_type": "stream",
     "text": [
      "Takes in a number n, returns the square of n\n"
     ]
    }
   ],
   "source": [
    "print(square.__doc__)"
   ]
  },
  {
   "cell_type": "markdown",
   "id": "6a14adda-9035-4c92-bc44-da4d792797ff",
   "metadata": {},
   "source": [
    "# PEP 8\n",
    "- PEP 8 is a document that provides guidelines and best practices on how to write Python code.\n",
    "- It was written in 2001 by Guido van Rossum, Bary Warsaw and Nick Coglan\n",
    "- Primary focus is to improve the readability and consistency of Python code\n",
    "- PEP : Python Enhancement Proposal\n",
    "- A PEP is a document that describes new features proposed for Python and documents aspects of Python, like designs and style for the community"
   ]
  },
  {
   "cell_type": "code",
   "execution_count": 1,
   "id": "9373e3ff-1668-4b21-aa64-4dcede3853a6",
   "metadata": {},
   "outputs": [
    {
     "name": "stdout",
     "output_type": "stream",
     "text": [
      "The Zen of Python, by Tim Peters\n",
      "\n",
      "Beautiful is better than ugly.\n",
      "Explicit is better than implicit.\n",
      "Simple is better than complex.\n",
      "Complex is better than complicated.\n",
      "Flat is better than nested.\n",
      "Sparse is better than dense.\n",
      "Readability counts.\n",
      "Special cases aren't special enough to break the rules.\n",
      "Although practicality beats purity.\n",
      "Errors should never pass silently.\n",
      "Unless explicitly silenced.\n",
      "In the face of ambiguity, refuse the temptation to guess.\n",
      "There should be one-- and preferably only one --obvious way to do it.\n",
      "Although that way may not be obvious at first unless you're Dutch.\n",
      "Now is better than never.\n",
      "Although never is often better than *right* now.\n",
      "If the implementation is hard to explain, it's a bad idea.\n",
      "If the implementation is easy to explain, it may be a good idea.\n",
      "Namespaces are one honking great idea -- let's do more of those!\n"
     ]
    }
   ],
   "source": [
    "import this"
   ]
  },
  {
   "cell_type": "markdown",
   "id": "6b088d39-e42e-44b9-8ecf-cace474983e4",
   "metadata": {},
   "source": [
    "# Recursion in Python"
   ]
  },
  {
   "cell_type": "code",
   "execution_count": 132,
   "id": "cb9b2e33-1a89-45bf-aa06-67eaddd776f4",
   "metadata": {},
   "outputs": [
    {
     "name": "stdout",
     "output_type": "stream",
     "text": [
      "720\n"
     ]
    }
   ],
   "source": [
    "def fact(num):\n",
    "    if (num == 1 or num == 0):\n",
    "        return 1\n",
    "    else:\n",
    "        return (num * fact(num-1))\n",
    "print(fact(6))"
   ]
  },
  {
   "cell_type": "code",
   "execution_count": 135,
   "id": "0db2db86-d3eb-4832-a204-7c0adc3ac5d4",
   "metadata": {},
   "outputs": [
    {
     "name": "stdout",
     "output_type": "stream",
     "text": [
      "120\n"
     ]
    }
   ],
   "source": [
    "f1 = fact(5)\n",
    "print(f1)"
   ]
  },
  {
   "cell_type": "code",
   "execution_count": 141,
   "id": "afab48f1-a086-4487-973f-ac5efcd3dcff",
   "metadata": {},
   "outputs": [
    {
     "name": "stdout",
     "output_type": "stream",
     "text": [
      "0 1 1 2 3 "
     ]
    }
   ],
   "source": [
    "#Fibonacci Series 0,1,1,2,3,5,8,...\n",
    "def fibo(num):\n",
    "    a,b = 0,1\n",
    "    for i in range(num):\n",
    "        print(a, end=\" \")\n",
    "        a,b = b, a+b\n",
    "fibo(5)\n",
    "    "
   ]
  },
  {
   "cell_type": "code",
   "execution_count": 142,
   "id": "653cbfc7-cc2e-42d6-90ee-1ee48768a2dc",
   "metadata": {},
   "outputs": [
    {
     "name": "stdout",
     "output_type": "stream",
     "text": [
      "0 1 1 2 3 5 8 13 21 34 "
     ]
    }
   ],
   "source": [
    "fibo(10)"
   ]
  },
  {
   "cell_type": "code",
   "execution_count": 143,
   "id": "58578fcc-7571-4504-900b-aad3adfcfea8",
   "metadata": {},
   "outputs": [
    {
     "name": "stdout",
     "output_type": "stream",
     "text": [
      "0 1 1 2 3 5 8 13 21 34 "
     ]
    }
   ],
   "source": [
    "def fibo(num):\n",
    "    if num<=1:\n",
    "        return num\n",
    "    else:\n",
    "        return fibo(num-1) + fibo(num-2)\n",
    "for i in range(10):\n",
    "    print(fibo(i), end=\" \")"
   ]
  },
  {
   "cell_type": "markdown",
   "id": "00d20332-bb59-46fd-b694-ef036696a98e",
   "metadata": {},
   "source": [
    "# SET IN PYTHON\n",
    "- unordered collection of unique heterogeneous objects\n",
    "- mutable/ changeable\n",
    "- indexing not possible"
   ]
  },
  {
   "cell_type": "code",
   "execution_count": 144,
   "id": "4930d3e6-95cc-4faf-ba60-82e119aa9831",
   "metadata": {},
   "outputs": [
    {
     "name": "stdout",
     "output_type": "stream",
     "text": [
      "{2, 4, 5, 6, 8}\n"
     ]
    }
   ],
   "source": [
    "s = {2, 4, 2, 6, 2, 8, 6, 5}\n",
    "print(s)"
   ]
  },
  {
   "cell_type": "code",
   "execution_count": 149,
   "id": "46e046d8-09bb-40fe-9888-6bc75839c4a9",
   "metadata": {},
   "outputs": [
    {
     "name": "stdout",
     "output_type": "stream",
     "text": [
      "{2, 4, 5, 6, 8, 9}\n"
     ]
    }
   ],
   "source": [
    "s.add(9)\n",
    "print(s)"
   ]
  },
  {
   "cell_type": "code",
   "execution_count": 150,
   "id": "21401e7c-a2bc-4f3f-a54c-25df7240a14b",
   "metadata": {},
   "outputs": [
    {
     "name": "stdout",
     "output_type": "stream",
     "text": [
      "{2, 4, 5, 6, 8, 9}\n"
     ]
    }
   ],
   "source": [
    "s.add(4)\n",
    "print(s)"
   ]
  },
  {
   "cell_type": "code",
   "execution_count": 151,
   "id": "919b7290-b16a-4af5-8da2-ea09c0916b55",
   "metadata": {},
   "outputs": [
    {
     "name": "stdout",
     "output_type": "stream",
     "text": [
      "set()\n"
     ]
    }
   ],
   "source": [
    "s1 = set()\n",
    "print(s1)"
   ]
  },
  {
   "cell_type": "code",
   "execution_count": 152,
   "id": "e4ccae21-cb31-4dec-93c6-73c42d669a57",
   "metadata": {},
   "outputs": [
    {
     "name": "stdout",
     "output_type": "stream",
     "text": [
      "{3}\n"
     ]
    }
   ],
   "source": [
    "s1.add(3)\n",
    "print(s1)"
   ]
  },
  {
   "cell_type": "code",
   "execution_count": 157,
   "id": "5d6bd25f-987a-4fc1-a4f0-5bf9edffd6da",
   "metadata": {},
   "outputs": [
    {
     "name": "stdout",
     "output_type": "stream",
     "text": [
      "{1, 2, 3, 5, 6, 7}\n"
     ]
    }
   ],
   "source": [
    "s1 = {1, 2, 5, 6}\n",
    "s2 = {3, 6, 7}\n",
    "print(s1.union(s2))"
   ]
  },
  {
   "cell_type": "code",
   "execution_count": 155,
   "id": "7d933432-1954-4b28-a01d-9f6e6515a79b",
   "metadata": {},
   "outputs": [
    {
     "name": "stdout",
     "output_type": "stream",
     "text": [
      "{6}\n",
      "{1, 2, 5}\n",
      "{3, 7}\n"
     ]
    }
   ],
   "source": [
    "print(s1.intersection(s2))\n",
    "print(s1 - s2)\n",
    "print(s2 - s1)"
   ]
  },
  {
   "cell_type": "code",
   "execution_count": 162,
   "id": "1099fc9c-0308-4a99-9890-1a52a56036ae",
   "metadata": {},
   "outputs": [
    {
     "name": "stdout",
     "output_type": "stream",
     "text": [
      "{'Delhi', 'Madrid', 'Seoul', 'Berlin', 'Kabul', 'Tokyo'}\n",
      "{'Madrid', 'Seoul', 'Kabul', 'Tokyo'}\n",
      "{'Delhi', 'Madrid', 'Seoul', 'Berlin', 'Kabul', 'Tokyo'}\n"
     ]
    }
   ],
   "source": [
    "cities = {'Tokyo', 'Madrid', 'Berlin', 'Delhi'}\n",
    "cities2 = {'Tokyo', 'Seoul', 'Kabul', 'Madrid'}\n",
    "cities3 = cities.union(cities2)\n",
    "cities.update(cities2)\n",
    "print(cities)\n",
    "print(cities2)\n",
    "print(cities3)"
   ]
  },
  {
   "cell_type": "code",
   "execution_count": 7,
   "id": "dd2b84c8-ccaa-4ccb-afb3-7a497a8d1341",
   "metadata": {},
   "outputs": [
    {
     "name": "stdout",
     "output_type": "stream",
     "text": [
      "{'Madrid', 'Tokyo'}\n",
      "{'Madrid', 'Seoul', 'Tokyo', 'Kabul'}\n",
      "{'Madrid', 'Tokyo'}\n"
     ]
    }
   ],
   "source": [
    "cities = {'Tokyo', 'Madrid', 'Berlin', 'Delhi'}\n",
    "cities2 = {'Tokyo', 'Seoul', 'Kabul', 'Madrid'}\n",
    "cities3 = cities.intersection(cities2)\n",
    "cities.intersection_update(cities2)\n",
    "print(cities)\n",
    "print(cities2)\n",
    "print(cities3)"
   ]
  },
  {
   "cell_type": "code",
   "execution_count": 10,
   "id": "f5c1223d-40fa-46e2-9e85-a6921c6a304c",
   "metadata": {},
   "outputs": [
    {
     "name": "stdout",
     "output_type": "stream",
     "text": [
      "{'Delhi'}\n"
     ]
    }
   ],
   "source": [
    "cities2.clear()\n",
    "cities2.add('Delhi')\n",
    "print(cities2)"
   ]
  },
  {
   "cell_type": "markdown",
   "id": "a51b86dd-3ff5-46e5-9e5e-eb9770e55638",
   "metadata": {},
   "source": [
    "# DICT IN PYTHON"
   ]
  },
  {
   "cell_type": "code",
   "execution_count": 14,
   "id": "e0335e08-69d1-45a3-b509-a7ca4f9b1493",
   "metadata": {},
   "outputs": [
    {
     "name": "stdout",
     "output_type": "stream",
     "text": [
      "dict_keys(['name', 'age', 'branch', 'course'])\n"
     ]
    }
   ],
   "source": [
    "info = {\n",
    "    'name': 'Akash',\n",
    "    'age': 24,\n",
    "    'branch': 'DSE',\n",
    "    'course': 'MTech'\n",
    "}\n",
    "print(info.keys())"
   ]
  },
  {
   "cell_type": "code",
   "execution_count": 16,
   "id": "d4cf099f-76c8-43a4-af66-b1a05294677c",
   "metadata": {},
   "outputs": [
    {
     "name": "stdout",
     "output_type": "stream",
     "text": [
      "dict_values(['Akash', 24, 'DSE', 'MTech'])\n",
      "dict_items([('name', 'Akash'), ('age', 24), ('branch', 'DSE'), ('course', 'MTech')])\n"
     ]
    }
   ],
   "source": [
    "print(info.values())\n",
    "print(info.items())"
   ]
  },
  {
   "cell_type": "code",
   "execution_count": 25,
   "id": "c82985e9-6821-44d4-b389-e6c5042bc9c1",
   "metadata": {},
   "outputs": [
    {
     "name": "stdout",
     "output_type": "stream",
     "text": [
      "{122: 45, 123: 89, 567: 69, 670: 69, 222: 67, 566: 90}\n",
      "{}\n"
     ]
    }
   ],
   "source": [
    "ep1 = {122:45, 123:89, 567:69, 670:69}\n",
    "ep2 = {222:67, 566:90}\n",
    "\n",
    "ep1.update(ep2)\n",
    "ep2.clear()\n",
    "print(ep1)\n",
    "print(ep2)"
   ]
  },
  {
   "cell_type": "code",
   "execution_count": 26,
   "id": "79ab535d-d861-4448-ad90-d157f2debb73",
   "metadata": {},
   "outputs": [
    {
     "name": "stdout",
     "output_type": "stream",
     "text": [
      "{123: 89, 567: 69, 670: 69, 222: 67, 566: 90}\n"
     ]
    }
   ],
   "source": [
    "ep1.pop(122)\n",
    "print(ep1)"
   ]
  },
  {
   "cell_type": "code",
   "execution_count": 27,
   "id": "f07611ac-dcd6-4b63-80b0-9375a7788bfa",
   "metadata": {},
   "outputs": [
    {
     "name": "stdout",
     "output_type": "stream",
     "text": [
      "{123: 89, 567: 69, 670: 69, 222: 67}\n"
     ]
    }
   ],
   "source": [
    "ep1.popitem()\n",
    "print(ep1)"
   ]
  },
  {
   "cell_type": "code",
   "execution_count": 28,
   "id": "4be3cc82-b01c-42de-90f6-29b3dd4ec2a2",
   "metadata": {},
   "outputs": [],
   "source": [
    "del ep2\n",
    "# print(ep2) : NameError ep2 dict is deleted"
   ]
  },
  {
   "cell_type": "markdown",
   "id": "a3585fb9-50c6-4d07-8018-f14284f69c44",
   "metadata": {},
   "source": [
    "# for loop with else in python"
   ]
  },
  {
   "cell_type": "code",
   "execution_count": 29,
   "id": "08015c51-8cad-4327-93a4-92a88810d082",
   "metadata": {},
   "outputs": [
    {
     "name": "stdout",
     "output_type": "stream",
     "text": [
      "0\n",
      "1\n",
      "2\n",
      "3\n",
      "4\n",
      "Sorry no i\n"
     ]
    }
   ],
   "source": [
    "for i in range(5):\n",
    "    print(i)\n",
    "else:\n",
    "    print(\"Sorry no i\")"
   ]
  },
  {
   "cell_type": "markdown",
   "id": "e2f84846-2857-4d73-9d4d-153f991d16ff",
   "metadata": {},
   "source": [
    "# EXCEPTION HANDLING IN PYTHON"
   ]
  },
  {
   "cell_type": "code",
   "execution_count": 37,
   "id": "03e3281f-139b-43e8-92cd-cd9603862448",
   "metadata": {},
   "outputs": [
    {
     "name": "stdin",
     "output_type": "stream",
     "text": [
      "Enter a number:  8\n"
     ]
    },
    {
     "name": "stdout",
     "output_type": "stream",
     "text": [
      "Multiplication table of 8\n",
      "8 X 1 = 8\n",
      "8 X 2 = 16\n",
      "8 X 3 = 24\n",
      "8 X 4 = 32\n",
      "8 X 5 = 40\n",
      "8 X 6 = 48\n",
      "8 X 7 = 56\n",
      "8 X 8 = 64\n",
      "8 X 9 = 72\n",
      "8 X 10 = 80\n",
      "Some imp lines of code\n"
     ]
    }
   ],
   "source": [
    "a = input('Enter a number: ')\n",
    "print(f\"Multiplication table of {a}\")\n",
    "for i in range(1,11):\n",
    "    print(f\"{int(a)} X {i} = {int(a)*i}\")\n",
    "\n",
    "print(\"Some imp lines of code\")"
   ]
  },
  {
   "cell_type": "code",
   "execution_count": 38,
   "id": "0537b224-38f2-4ad4-82ba-798c8e114742",
   "metadata": {},
   "outputs": [
    {
     "name": "stdin",
     "output_type": "stream",
     "text": [
      "Enter a number:  akash\n"
     ]
    },
    {
     "name": "stdout",
     "output_type": "stream",
     "text": [
      "Multiplication table of akash\n"
     ]
    },
    {
     "ename": "ValueError",
     "evalue": "invalid literal for int() with base 10: 'akash'",
     "output_type": "error",
     "traceback": [
      "\u001b[31m---------------------------------------------------------------------------\u001b[39m",
      "\u001b[31mValueError\u001b[39m                                Traceback (most recent call last)",
      "\u001b[36mCell\u001b[39m\u001b[36m \u001b[39m\u001b[32mIn[38]\u001b[39m\u001b[32m, line 4\u001b[39m\n\u001b[32m      2\u001b[39m \u001b[38;5;28mprint\u001b[39m(\u001b[33mf\u001b[39m\u001b[33m\"\u001b[39m\u001b[33mMultiplication table of \u001b[39m\u001b[38;5;132;01m{\u001b[39;00ma\u001b[38;5;132;01m}\u001b[39;00m\u001b[33m\"\u001b[39m)\n\u001b[32m      3\u001b[39m \u001b[38;5;28;01mfor\u001b[39;00m i \u001b[38;5;129;01min\u001b[39;00m \u001b[38;5;28mrange\u001b[39m(\u001b[32m1\u001b[39m,\u001b[32m11\u001b[39m):\n\u001b[32m----> \u001b[39m\u001b[32m4\u001b[39m     \u001b[38;5;28mprint\u001b[39m(\u001b[33mf\u001b[39m\u001b[33m\"\u001b[39m\u001b[38;5;132;01m{\u001b[39;00m\u001b[38;5;28mint\u001b[39m(a)\u001b[38;5;132;01m}\u001b[39;00m\u001b[33m X \u001b[39m\u001b[38;5;132;01m{\u001b[39;00mi\u001b[38;5;132;01m}\u001b[39;00m\u001b[33m = \u001b[39m\u001b[38;5;132;01m{\u001b[39;00m\u001b[38;5;28mint\u001b[39m(a)*i\u001b[38;5;132;01m}\u001b[39;00m\u001b[33m\"\u001b[39m)\n\u001b[32m      6\u001b[39m \u001b[38;5;28mprint\u001b[39m(\u001b[33m\"\u001b[39m\u001b[33msome imp lines of code\u001b[39m\u001b[33m\"\u001b[39m)\n",
      "\u001b[31mValueError\u001b[39m: invalid literal for int() with base 10: 'akash'"
     ]
    }
   ],
   "source": [
    "a = input('Enter a number: ')\n",
    "print(f\"Multiplication table of {a}\")\n",
    "for i in range(1,11):\n",
    "    print(f\"{int(a)} X {i} = {int(a)*i}\")\n",
    "\n",
    "print(\"some imp lines of code\")"
   ]
  },
  {
   "cell_type": "code",
   "execution_count": 40,
   "id": "47e5b707-b625-44e7-91f5-99a188b81e43",
   "metadata": {},
   "outputs": [
    {
     "name": "stdin",
     "output_type": "stream",
     "text": [
      "Enter a number:  akash\n"
     ]
    },
    {
     "name": "stdout",
     "output_type": "stream",
     "text": [
      "Multiplication table of akash\n",
      "Invalid Input!\n",
      "some imp lines of code\n"
     ]
    }
   ],
   "source": [
    "a = input('Enter a number: ')\n",
    "print(f\"Multiplication table of {a}\")\n",
    "try:\n",
    "    for i in range(1,11):\n",
    "        print(f\"{int(a)} X {i} = {int(a)*i}\")\n",
    "except Exception as e:\n",
    "    print(\"Invalid Input!\")\n",
    "\n",
    "print(\"some imp lines of code\")"
   ]
  },
  {
   "cell_type": "code",
   "execution_count": 41,
   "id": "84fed682-ffd5-410d-8f5c-13a04c164688",
   "metadata": {},
   "outputs": [
    {
     "name": "stdin",
     "output_type": "stream",
     "text": [
      "Enter an integer:  a\n"
     ]
    },
    {
     "name": "stdout",
     "output_type": "stream",
     "text": [
      "Number entered is not an integer\n"
     ]
    }
   ],
   "source": [
    "#Value Error\n",
    "try:\n",
    "    int(input(\"Enter an integer: \"))\n",
    "except ValueError:\n",
    "    print(\"Number entered is not an integer\")"
   ]
  },
  {
   "cell_type": "code",
   "execution_count": 52,
   "id": "dea0daf9-66ba-4c57-be6f-13d695f0ec52",
   "metadata": {},
   "outputs": [
    {
     "name": "stdin",
     "output_type": "stream",
     "text": [
      "Enter an integer:  4\n"
     ]
    },
    {
     "name": "stdout",
     "output_type": "stream",
     "text": [
      "Index error\n"
     ]
    }
   ],
   "source": [
    "#Value Error\n",
    "try:\n",
    "    num = int(input(\"Enter an integer: \"))\n",
    "    a = [5,6,3]\n",
    "    print(a[num])\n",
    "except ValueError:\n",
    "    print(\"Number entered is not an integer\")\n",
    "except IndexError:\n",
    "    print(\"Index error\")"
   ]
  },
  {
   "cell_type": "markdown",
   "id": "13faea19-0b53-4f08-ac6e-0d98882d1587",
   "metadata": {},
   "source": [
    "# FINALLY KEYWORD IN PYTHON"
   ]
  },
  {
   "cell_type": "code",
   "execution_count": 60,
   "id": "d6071d05-276b-4baf-80a5-58395988554a",
   "metadata": {},
   "outputs": [
    {
     "name": "stdin",
     "output_type": "stream",
     "text": [
      "Enter the index:  6\n"
     ]
    },
    {
     "name": "stdout",
     "output_type": "stream",
     "text": [
      "Some error occurred\n",
      "I am always executed\n"
     ]
    }
   ],
   "source": [
    "def func():\n",
    "    try:\n",
    "        l = [1, 5, 6, 7]\n",
    "        i = int(input(\"Enter the index: \"))\n",
    "        print(l[i])\n",
    "        return 1\n",
    "    except:\n",
    "        print(\"Some error occurred\")\n",
    "        return 0\n",
    "    finally:\n",
    "        print(\"I am always executed\") #finally is always executed irrespective of return statement\n",
    "x = func()"
   ]
  },
  {
   "cell_type": "code",
   "execution_count": 59,
   "id": "3f3bccf0-9cdb-4d77-9b5f-6527f861e6cb",
   "metadata": {},
   "outputs": [
    {
     "name": "stdin",
     "output_type": "stream",
     "text": [
      "Enter the index:  5\n"
     ]
    },
    {
     "name": "stdout",
     "output_type": "stream",
     "text": [
      "Some error occurred\n"
     ]
    }
   ],
   "source": [
    "def func():\n",
    "    try:\n",
    "        l = [1, 5, 6, 7]\n",
    "        i = int(input(\"Enter the index: \"))\n",
    "        print(l[i])\n",
    "        return 1\n",
    "    except:\n",
    "        print(\"Some error occurred\")\n",
    "        return 0\n",
    "    print(\"I am always executed\")\n",
    "x = func()"
   ]
  },
  {
   "cell_type": "markdown",
   "id": "e8cef9d6-6148-4e36-9cd9-26a1183e334f",
   "metadata": {},
   "source": [
    "# CUSTOM ERRORS IN PYTHON"
   ]
  },
  {
   "cell_type": "code",
   "execution_count": 62,
   "id": "38458a5a-3ab5-4eac-bf0c-0a94a3c84f69",
   "metadata": {},
   "outputs": [
    {
     "name": "stdin",
     "output_type": "stream",
     "text": [
      "Enter Salary:  6000\n"
     ]
    },
    {
     "ename": "ValueError",
     "evalue": "Not a valid Salary",
     "output_type": "error",
     "traceback": [
      "\u001b[31m---------------------------------------------------------------------------\u001b[39m",
      "\u001b[31mValueError\u001b[39m                                Traceback (most recent call last)",
      "\u001b[36mCell\u001b[39m\u001b[36m \u001b[39m\u001b[32mIn[62]\u001b[39m\u001b[32m, line 3\u001b[39m\n\u001b[32m      1\u001b[39m sal = \u001b[38;5;28mint\u001b[39m(\u001b[38;5;28minput\u001b[39m(\u001b[33m\"\u001b[39m\u001b[33mEnter Salary: \u001b[39m\u001b[33m\"\u001b[39m))\n\u001b[32m      2\u001b[39m \u001b[38;5;28;01mif\u001b[39;00m \u001b[38;5;129;01mnot\u001b[39;00m \u001b[32m2000\u001b[39m<sal<\u001b[32m5000\u001b[39m:\n\u001b[32m----> \u001b[39m\u001b[32m3\u001b[39m     \u001b[38;5;28;01mraise\u001b[39;00m \u001b[38;5;167;01mValueError\u001b[39;00m(\u001b[33m\"\u001b[39m\u001b[33mNot a valid Salary\u001b[39m\u001b[33m\"\u001b[39m)\n\u001b[32m      4\u001b[39m \u001b[38;5;28mprint\u001b[39m(sal)\n",
      "\u001b[31mValueError\u001b[39m: Not a valid Salary"
     ]
    }
   ],
   "source": [
    "sal = int(input(\"Enter Salary: \"))\n",
    "if not 2000<sal<5000:\n",
    "    raise ValueError(\"Not a valid Salary\")\n",
    "print(sal)"
   ]
  },
  {
   "cell_type": "code",
   "execution_count": 68,
   "id": "f52dca39-80a4-474f-8064-6f92980b3921",
   "metadata": {},
   "outputs": [
    {
     "name": "stdout",
     "output_type": "stream",
     "text": [
      "B\n"
     ]
    }
   ],
   "source": [
    "#shorthand if-else statement\n",
    "a = 400\n",
    "b = 500\n",
    "print(\"A\") if a>b else print(\"=\") if a==b else print(\"B\")"
   ]
  },
  {
   "cell_type": "code",
   "execution_count": 73,
   "id": "c45284d0-9eb9-4909-945e-7c71708d0b47",
   "metadata": {},
   "outputs": [
    {
     "name": "stdout",
     "output_type": "stream",
     "text": [
      "1: apple\n",
      "2: mango\n",
      "3: banana\n",
      "4: jackfruit\n"
     ]
    }
   ],
   "source": [
    "#Enumerate in Python loop over iterables(list, tuple, string, etc.) while keeping track of the index automatically\n",
    "fruits = ['apple', 'mango', 'banana', 'jackfruit']\n",
    "for index, fruit in enumerate(fruits, start=1): #here automatically start = 0; you can change by giving the starting value\n",
    "    print(f\"{index}: {fruit}\")"
   ]
  },
  {
   "cell_type": "markdown",
   "id": "7595eb70-30b5-43e8-886b-899936f652eb",
   "metadata": {},
   "source": [
    "# VIRTUAL ENVIRONMENT in Python\n",
    "tool used to isolate Python Environments on a single machine, allowing you to work on multiple projects with different dependencies and packages without conflicts. This can be especially usseful when working on projects that have package versions or packages that are not compatible with each other.\n",
    "\n",
    "- `python -m venv myenv` this will create a new virtual environment named **myenv** in the selected folder\n",
    "- `myenv\\Scripts\\Activate` command will activate the virtual enviroment\n",
    "- once you are in this virtual environment you can locally install different version like older version of different modules like pandas, numpy etc. required for your project\n",
    "- `deactivate` will deactivate the virtual environment"
   ]
  },
  {
   "cell_type": "markdown",
   "id": "e621deb6-4cf9-4acc-aba7-c2c17a5d9fa0",
   "metadata": {},
   "source": [
    "# `requirements.txt` file\n",
    "- `pip freeze > requirements.txt` will list the packages needed for the specified virtual environment\n",
    "- `pip install -r requirements.txt` will install the packages listed in the requirement.txt file"
   ]
  },
  {
   "cell_type": "code",
   "execution_count": 75,
   "id": "4017ef15-e7d4-438b-8533-24134a8a15f6",
   "metadata": {},
   "outputs": [
    {
     "name": "stdout",
     "output_type": "stream",
     "text": [
      "['__doc__', '__loader__', '__name__', '__package__', '__spec__', 'acos', 'acosh', 'asin', 'asinh', 'atan', 'atan2', 'atanh', 'cbrt', 'ceil', 'comb', 'copysign', 'cos', 'cosh', 'degrees', 'dist', 'e', 'erf', 'erfc', 'exp', 'exp2', 'expm1', 'fabs', 'factorial', 'floor', 'fmod', 'frexp', 'fsum', 'gamma', 'gcd', 'hypot', 'inf', 'isclose', 'isfinite', 'isinf', 'isnan', 'isqrt', 'lcm', 'ldexp', 'lgamma', 'log', 'log10', 'log1p', 'log2', 'modf', 'nan', 'nextafter', 'perm', 'pi', 'pow', 'prod', 'radians', 'remainder', 'sin', 'sinh', 'sqrt', 'tan', 'tanh', 'tau', 'trunc', 'ulp']\n"
     ]
    }
   ],
   "source": [
    "import math\n",
    "print(dir(math))"
   ]
  },
  {
   "cell_type": "markdown",
   "id": "8730b8cf-b73f-4af7-8370-dd71f7c7f1a3",
   "metadata": {},
   "source": [
    "# os Module in Python\n",
    "built-in library that provide functions for interacting with the operating system. \n",
    "\n",
    "allows you to perform wide bariety of tasks, such as reading and writing files, interacting with the file system, and running system commands"
   ]
  },
  {
   "cell_type": "code",
   "execution_count": 80,
   "id": "76e4c19a-7402-40a1-b997-91a971a67c9b",
   "metadata": {},
   "outputs": [
    {
     "name": "stdout",
     "output_type": "stream",
     "text": [
      "['DirEntry', 'EX_OK', 'F_OK', 'GenericAlias', 'Mapping', 'MutableMapping', 'O_APPEND', 'O_BINARY', 'O_CREAT', 'O_EXCL', 'O_NOINHERIT', 'O_RANDOM', 'O_RDONLY', 'O_RDWR', 'O_SEQUENTIAL', 'O_SHORT_LIVED', 'O_TEMPORARY', 'O_TEXT', 'O_TRUNC', 'O_WRONLY', 'P_DETACH', 'P_NOWAIT', 'P_NOWAITO', 'P_OVERLAY', 'P_WAIT', 'PathLike', 'R_OK', 'SEEK_CUR', 'SEEK_END', 'SEEK_SET', 'TMP_MAX', 'W_OK', 'X_OK', '_AddedDllDirectory', '_Environ', '__all__', '__builtins__', '__cached__', '__doc__', '__file__', '__loader__', '__name__', '__package__', '__spec__', '_check_methods', '_execvpe', '_exists', '_exit', '_fspath', '_get_exports_list', '_walk', '_wrap_close', 'abc', 'abort', 'access', 'add_dll_directory', 'altsep', 'chdir', 'chmod', 'close', 'closerange', 'cpu_count', 'curdir', 'defpath', 'device_encoding', 'devnull', 'dup', 'dup2', 'environ', 'error', 'execl', 'execle', 'execlp', 'execlpe', 'execv', 'execve', 'execvp', 'execvpe', 'extsep', 'fdopen', 'fsdecode', 'fsencode', 'fspath', 'fstat', 'fsync', 'ftruncate', 'get_exec_path', 'get_handle_inheritable', 'get_inheritable', 'get_terminal_size', 'getcwd', 'getcwdb', 'getenv', 'getlogin', 'getpid', 'getppid', 'isatty', 'kill', 'linesep', 'link', 'listdir', 'lseek', 'lstat', 'makedirs', 'mkdir', 'name', 'open', 'pardir', 'path', 'pathsep', 'pipe', 'popen', 'putenv', 'read', 'readlink', 'remove', 'removedirs', 'rename', 'renames', 'replace', 'rmdir', 'scandir', 'sep', 'set_handle_inheritable', 'set_inheritable', 'spawnl', 'spawnle', 'spawnv', 'spawnve', 'st', 'startfile', 'stat', 'stat_result', 'statvfs_result', 'strerror', 'supports_bytes_environ', 'supports_dir_fd', 'supports_effective_ids', 'supports_fd', 'supports_follow_symlinks', 'symlink', 'sys', 'system', 'terminal_size', 'times', 'times_result', 'truncate', 'umask', 'uname_result', 'unlink', 'unsetenv', 'urandom', 'utime', 'waitpid', 'waitstatus_to_exitcode', 'walk', 'write']\n"
     ]
    }
   ],
   "source": [
    "import os\n",
    "print(dir(os))"
   ]
  },
  {
   "cell_type": "code",
   "execution_count": 90,
   "id": "332b2936-f9f0-4867-a670-781685ec379b",
   "metadata": {},
   "outputs": [],
   "source": [
    "if(not os.path.exists(\"data\")):\n",
    "    os.mkdir(\"data\")"
   ]
  },
  {
   "cell_type": "code",
   "execution_count": 91,
   "id": "e1ec8161-beb7-4907-b957-6832e31eef74",
   "metadata": {},
   "outputs": [],
   "source": [
    "for i in range(0,10):\n",
    "    os.rename(f\"data/Day{i+1}\", f\"data/Tutorial {i+1}\")"
   ]
  },
  {
   "cell_type": "markdown",
   "id": "ba8850a8-82d0-4360-be2d-487c7710ee9a",
   "metadata": {},
   "source": [
    "# Local and Global Variable in Python"
   ]
  },
  {
   "cell_type": "code",
   "execution_count": 103,
   "id": "9ee35525-215c-4df7-9ac9-74edccc5db10",
   "metadata": {},
   "outputs": [
    {
     "name": "stdout",
     "output_type": "stream",
     "text": [
      "11\n",
      "4\n"
     ]
    }
   ],
   "source": [
    "x = 4 #global variable\n",
    "def hello():\n",
    "    x = 6 #this x is a local variable\n",
    "    y = 5 #local variable of hello\n",
    "    print(x+y)\n",
    "hello()\n",
    "print(x)"
   ]
  },
  {
   "cell_type": "code",
   "execution_count": 104,
   "id": "eb80b97f-7ec2-46b9-bf08-b24575b61824",
   "metadata": {},
   "outputs": [
    {
     "name": "stdout",
     "output_type": "stream",
     "text": [
      "11\n",
      "6\n"
     ]
    }
   ],
   "source": [
    "x = 4\n",
    "def hello():\n",
    "    global x #to take global variable x\n",
    "    x = 6\n",
    "    y = 5\n",
    "    print(x+y)\n",
    "hello()\n",
    "print(x)"
   ]
  },
  {
   "cell_type": "markdown",
   "id": "5066a70a-de64-4850-bad2-8c69a848acc0",
   "metadata": {},
   "source": [
    "# File Handling in Python\n",
    "Modes is File\n",
    "- read(r): This mode opens the file for reading only and gives an error if the file does not exist. this is the default mode\n",
    "- write(w): This mode opens the file for writing only and creates a new file if file does not exist\n",
    "- append(a): This mode opens the file for appending only and creates a new file if the file does not exist\n",
    "- create(x): This mode create a file and gives an error if the file already exists\n",
    "- text(t): Apart from these modes we also need to specify how the file must be handled. t mode is used to handle text files. There is no difference between r and rt or w and wt since text mode is default.\n",
    "- binary(b): Used to handle binary files(images, pdfs, etc.)"
   ]
  },
  {
   "cell_type": "code",
   "execution_count": 108,
   "id": "f1c0279a-d0a9-4d17-b576-80e75c6a2fdd",
   "metadata": {},
   "outputs": [],
   "source": [
    "f = open('myfile.txt', 'r')"
   ]
  },
  {
   "cell_type": "code",
   "execution_count": 109,
   "id": "9a26b145-d904-4386-bc76-e108b42340a9",
   "metadata": {},
   "outputs": [
    {
     "name": "stdout",
     "output_type": "stream",
     "text": [
      "<_io.TextIOWrapper name='myfile.txt' mode='r' encoding='cp1252'>\n"
     ]
    }
   ],
   "source": [
    "print(f)"
   ]
  },
  {
   "cell_type": "code",
   "execution_count": 110,
   "id": "faa0a56c-5c75-4246-b941-7b6062afe105",
   "metadata": {},
   "outputs": [
    {
     "name": "stdout",
     "output_type": "stream",
     "text": [
      "hello\n",
      "my name is akash\n"
     ]
    }
   ],
   "source": [
    "text = f.read()\n",
    "print(text)\n",
    "f.close()"
   ]
  },
  {
   "cell_type": "code",
   "execution_count": 112,
   "id": "cf1325bb-a07b-4ce8-ba92-8f5da839edbd",
   "metadata": {},
   "outputs": [],
   "source": [
    "#Writing to a file\n",
    "f = open('myfile.txt', 'w')\n",
    "f.write(\"Hello, World!\")\n",
    "f.close()"
   ]
  },
  {
   "cell_type": "code",
   "execution_count": 116,
   "id": "fb1bf26f-043e-48dc-a6a5-f5f95c9750ef",
   "metadata": {},
   "outputs": [],
   "source": [
    "#Appending to a file\n",
    "f = open('myfile.txt', 'a')\n",
    "f.write(\"Hello, World!\")\n",
    "f.close()"
   ]
  },
  {
   "cell_type": "code",
   "execution_count": 117,
   "id": "858322d4-6b4f-4782-8cce-8caa25e0874d",
   "metadata": {},
   "outputs": [],
   "source": [
    "#Closing a file without using f.close()\n",
    "with open('myfile.txt', 'a') as f:\n",
    "    f.write(\"\\nHey I am inside with\")"
   ]
  },
  {
   "cell_type": "code",
   "execution_count": 122,
   "id": "5f556326-e2df-45dd-bc18-ea5c833c117c",
   "metadata": {},
   "outputs": [
    {
     "name": "stdout",
     "output_type": "stream",
     "text": [
      "Hello, World!Hello, World!Hello, World!Hello, World!\n",
      "\n",
      "Hey I am inside with\n"
     ]
    }
   ],
   "source": [
    "f = open('myfile.txt', 'r')\n",
    "while True:\n",
    "    line = f.readline()\n",
    "    if not line:\n",
    "        break\n",
    "    print(line)\n",
    "f.close()"
   ]
  },
  {
   "cell_type": "markdown",
   "id": "0878e82b-5c3d-4e43-97f0-d93826f318f3",
   "metadata": {},
   "source": [
    "# seek() and tell() functions\n",
    "- seek () function allows you to move the current position within a file to a specific point\n",
    "- the position is specified in bytes, and you can move either forward or backward from the current position"
   ]
  },
  {
   "cell_type": "code",
   "execution_count": 128,
   "id": "5da8f60a-1428-4b40-bc9b-3ee6b32e7a81",
   "metadata": {},
   "outputs": [
    {
     "name": "stdout",
     "output_type": "stream",
     "text": [
      "e is Akash\n"
     ]
    }
   ],
   "source": [
    "with open('myfile.txt', 'r') as f:\n",
    "    f.seek(10) #move to 10th byte in the file\n",
    "    #read the next 10 bytes\n",
    "    data = f.read(10)\n",
    "    print(data)"
   ]
  },
  {
   "cell_type": "markdown",
   "id": "f8438268-7ced-4583-bc6c-b2b0b68eac1d",
   "metadata": {},
   "source": [
    "- tell() function returns the current position within the file, in bytes.\n",
    "- helps in keeping track of your location within file fir seeking to a speific position relative to the current position"
   ]
  },
  {
   "cell_type": "code",
   "execution_count": 130,
   "id": "7cd0c687-0229-43b6-85ff-1a9848bcb98b",
   "metadata": {},
   "outputs": [
    {
     "name": "stdout",
     "output_type": "stream",
     "text": [
      "10\n"
     ]
    }
   ],
   "source": [
    "with open('myfile.txt', 'r') as f:\n",
    "    data = f.read(10)\n",
    "    current = f.tell() #save the current position\n",
    "    print(current)"
   ]
  },
  {
   "cell_type": "markdown",
   "id": "69d61714-c9d1-4a0e-8a33-24711ee4f5fd",
   "metadata": {},
   "source": [
    "- truncate() function specify the size of the file"
   ]
  },
  {
   "cell_type": "code",
   "execution_count": 133,
   "id": "98d8dc33-a5f2-43da-8c5e-090cb43647f8",
   "metadata": {},
   "outputs": [
    {
     "name": "stdout",
     "output_type": "stream",
     "text": [
      "Hello Wo\n"
     ]
    }
   ],
   "source": [
    "with open('myfile.txt', 'w') as f:\n",
    "    f.write('Hello World')\n",
    "    f.truncate(8)\n",
    "\n",
    "with open('myfile.txt', 'r') as f:\n",
    "    print(f.read())"
   ]
  },
  {
   "cell_type": "code",
   "execution_count": null,
   "id": "0119c2a3-e5d0-45d7-a1bd-42edcd33d5a6",
   "metadata": {},
   "outputs": [],
   "source": []
  }
 ],
 "metadata": {
  "kernelspec": {
   "display_name": "Python 3 (ipykernel)",
   "language": "python",
   "name": "python3"
  },
  "language_info": {
   "codemirror_mode": {
    "name": "ipython",
    "version": 3
   },
   "file_extension": ".py",
   "mimetype": "text/x-python",
   "name": "python",
   "nbconvert_exporter": "python",
   "pygments_lexer": "ipython3",
   "version": "3.11.13"
  }
 },
 "nbformat": 4,
 "nbformat_minor": 5
}
