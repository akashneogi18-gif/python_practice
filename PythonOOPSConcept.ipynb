{
 "cells": [
  {
   "cell_type": "markdown",
   "id": "713b8467-f1ec-4bcc-bffe-36529dcbbaaf",
   "metadata": {},
   "source": [
    "# OOP [OBJECT ORIENTED PROGRAMMING]\n"
   ]
  },
  {
   "cell_type": "code",
   "execution_count": 6,
   "id": "6869c5e5-d085-41d2-aaee-fd1b5463ef01",
   "metadata": {},
   "outputs": [
    {
     "name": "stdout",
     "output_type": "stream",
     "text": [
      "Harry\n"
     ]
    }
   ],
   "source": [
    "class Person:\n",
    "    name = \"Harry\"\n",
    "    course = \"Mtech\"\n",
    "    department = \"CS\"\n",
    "    specialization = \"DSE\"\n",
    "    def info(self):\n",
    "        print(f\"{self.name} is a {self.course} student\")\n",
    "\n",
    "a = Person()\n",
    "print(a.name)"
   ]
  },
  {
   "cell_type": "markdown",
   "id": "f5793413-e597-4d23-afab-de02849f4863",
   "metadata": {},
   "source": [
    "- `Person` is the **class**\n",
    "- `a` is the **object** of the class `Person`\n",
    "- `self` parameter is a reference to the current instance of the class and is used to access variables that belongs to the class"
   ]
  },
  {
   "cell_type": "code",
   "execution_count": 7,
   "id": "246bd4eb-41ec-4b33-9ae1-911310df9f79",
   "metadata": {},
   "outputs": [
    {
     "name": "stdout",
     "output_type": "stream",
     "text": [
      "Akash\n"
     ]
    }
   ],
   "source": [
    "a.name = \"Akash\"\n",
    "print(a.name)"
   ]
  },
  {
   "cell_type": "code",
   "execution_count": 8,
   "id": "7e5f65df-18da-4ade-b6b0-7e0397af9e0f",
   "metadata": {},
   "outputs": [
    {
     "name": "stdout",
     "output_type": "stream",
     "text": [
      "Akash is a Mtech student\n"
     ]
    }
   ],
   "source": [
    "a.info()"
   ]
  },
  {
   "cell_type": "markdown",
   "id": "fd3145ca-e0a9-49c2-9c58-0d4c7b74586f",
   "metadata": {},
   "source": [
    "# Constructors\n",
    "- special method in a class used to create and initialize an object of a class.\n",
    "- invoked automatically when an object of a class is created\n",
    "- main purpose is to initialize or assign values to the data members of that class\n",
    "- cannot return any value other than `None`"
   ]
  },
  {
   "cell_type": "code",
   "execution_count": 10,
   "id": "d0e51273-8d37-4f95-8814-b95242b38d77",
   "metadata": {},
   "outputs": [
    {
     "name": "stdout",
     "output_type": "stream",
     "text": [
      "Akash is a MTech student.\n"
     ]
    }
   ],
   "source": [
    "class Student:\n",
    "    name = 'Akash'\n",
    "    course = 'MTech'\n",
    "    def info(self):\n",
    "        print(f\"{self.name} is a {self.course} student.\")\n",
    "a = Student()\n",
    "a.info()"
   ]
  },
  {
   "cell_type": "code",
   "execution_count": 15,
   "id": "42335bcc-5562-4ea3-b227-afd2c7f94990",
   "metadata": {},
   "outputs": [
    {
     "name": "stdout",
     "output_type": "stream",
     "text": [
      "Hey I am a student\n",
      "Hey I am a student\n"
     ]
    }
   ],
   "source": [
    "class Student:\n",
    "    #using constructor\n",
    "    def __init__(self, n, c):\n",
    "        print(\"Hey I am a student\")\n",
    "        self.name = n\n",
    "        self.course = c\n",
    "    def info(self):\n",
    "        print(f\"{self.name} is a {self.course} student.\")\n",
    "s1 = Student(\"Akash\", \"MTech\")\n",
    "s2 = Student(\"Arpan\", \"BTech\")"
   ]
  },
  {
   "cell_type": "code",
   "execution_count": 16,
   "id": "9cd4667e-f504-4bbe-9cdc-5380b43c8b4e",
   "metadata": {},
   "outputs": [
    {
     "name": "stdout",
     "output_type": "stream",
     "text": [
      "Akash is a MTech student.\n",
      "Arpan is a BTech student.\n"
     ]
    }
   ],
   "source": [
    "s1.info()\n",
    "s2.info()"
   ]
  },
  {
   "cell_type": "markdown",
   "id": "38c36a28-4f1d-44bc-aa1e-c22de224e500",
   "metadata": {},
   "source": [
    "# types of `constructor`\n",
    "- **Parameterized Constructor** - take argument\n",
    "- **Default Constructor** - don't take any argument, just take self in the constructor"
   ]
  },
  {
   "cell_type": "markdown",
   "id": "082b2d9c-0a8d-4034-91e2-c9a3e5760b5e",
   "metadata": {},
   "source": [
    "# Decorators\n",
    "- decorators are a powerful and versatile tool that allow you to modify the behavior of functions and methods.\n",
    "- They are a way to extend the functionality of a function or method modifying its source code.\n",
    "- decorator is a function that takes another function as an argument and returns a new function that modifies the behavior of the original function.\n",
    "- The new function is often referred to as a \"decorated' function."
   ]
  },
  {
   "cell_type": "code",
   "execution_count": 21,
   "id": "2cb654f3-9f49-4fdf-b187-ec17ed42cfba",
   "metadata": {},
   "outputs": [
    {
     "name": "stdout",
     "output_type": "stream",
     "text": [
      "Good Morning\n",
      "Hello World\n",
      "Thanks for using this function\n"
     ]
    }
   ],
   "source": [
    "def greet(fx):\n",
    "    def mfx():\n",
    "        print(\"Good Morning\")\n",
    "        fx()\n",
    "        print(\"Thanks for using this function\")\n",
    "    return mfx\n",
    "# option 1: use @greet before the function\n",
    "@greet\n",
    "def hello():\n",
    "    print(\"Hello World\")\n",
    "\n",
    "hello()"
   ]
  },
  {
   "cell_type": "code",
   "execution_count": 22,
   "id": "1de8478b-9aa3-4571-b787-4922988c9e55",
   "metadata": {},
   "outputs": [
    {
     "name": "stdout",
     "output_type": "stream",
     "text": [
      "Good Morning\n",
      "Hi, I am Akash\n",
      "Thanks for using this function\n"
     ]
    }
   ],
   "source": [
    "#option 2:\n",
    "def hi():\n",
    "    print(\"Hi, I am Akash\")\n",
    "\n",
    "greet(hi)()"
   ]
  },
  {
   "cell_type": "markdown",
   "id": "29f58726-7aa4-458b-8db6-e957e8aa6532",
   "metadata": {},
   "source": [
    "- use `@greet` or `greet(func)()`\n"
   ]
  },
  {
   "cell_type": "markdown",
   "id": "49fbff31-c49b-4d16-b0de-a18cba459885",
   "metadata": {},
   "source": [
    "# Getters\n",
    "- methods that are used to access the values of an object's properties.\n",
    "- used to return the value of a specific property and are typically defined using the @property decorator"
   ]
  },
  {
   "cell_type": "code",
   "execution_count": 51,
   "id": "174c8ebd-1a28-4c6e-a340-cda18fbc9704",
   "metadata": {},
   "outputs": [],
   "source": [
    "class MyClass:\n",
    "    def __init__(self, val):\n",
    "        self._value = val\n",
    "    def show(self):\n",
    "        print(f\"Value is {self._value}\")\n",
    "\n",
    "    @property\n",
    "    def value(self):\n",
    "        return self._value"
   ]
  },
  {
   "cell_type": "markdown",
   "id": "8e7d0fe1-04bb-4abb-bc1e-a61f628e7911",
   "metadata": {},
   "source": [
    "- `_value` is initialized in the init method\n",
    "- the value mathod is defined as a getter using the `@property` decorator\n",
    "- it is used to return the value of _value property"
   ]
  },
  {
   "cell_type": "code",
   "execution_count": 52,
   "id": "7caa6144-a3d7-4d19-b419-b40afbacb7ea",
   "metadata": {},
   "outputs": [
    {
     "name": "stdout",
     "output_type": "stream",
     "text": [
      "10\n",
      "Value is 10\n"
     ]
    }
   ],
   "source": [
    "obj = MyClass(10)\n",
    "a = obj.value\n",
    "print(a)\n",
    "obj.show()"
   ]
  },
  {
   "cell_type": "markdown",
   "id": "2872fe75-aa32-4069-8765-2528c16c57bf",
   "metadata": {},
   "source": [
    "# Setters\n",
    "- getter do not take any parameters and we can't set the value through getter method\n",
    "- setter method can added by decorating method with `@property_name.setter`"
   ]
  },
  {
   "cell_type": "code",
   "execution_count": 53,
   "id": "3a27b367-4391-4d7e-ae32-e082bba9f173",
   "metadata": {},
   "outputs": [],
   "source": [
    "class MyClass:\n",
    "    def __init__(self, val):\n",
    "        self._value = val\n",
    "    def show(self):\n",
    "        print(f\"Value is {self._value}\")\n",
    "\n",
    "    @property\n",
    "    def ten_value(self):\n",
    "        return self._value\n",
    "\n",
    "    @ten_value.setter\n",
    "    def ten_value(self, new_val):\n",
    "        self._value = new_val/10"
   ]
  },
  {
   "cell_type": "code",
   "execution_count": 54,
   "id": "aa3d26d1-8154-41f3-9f29-285e8f06db2d",
   "metadata": {},
   "outputs": [
    {
     "name": "stdout",
     "output_type": "stream",
     "text": [
      "7.8\n",
      "Value is 7.8\n"
     ]
    }
   ],
   "source": [
    "obj = MyClass(10)\n",
    "obj.ten_value = 78\n",
    "print(obj.ten_value)\n",
    "obj.show()"
   ]
  },
  {
   "cell_type": "markdown",
   "id": "2a44c3e5-47ce-4e92-82b2-62562d45c919",
   "metadata": {},
   "source": [
    "# Inheritence in Python\n",
    "- when a class is derives from another class. The child class will inherit all the public and protected oroperties from the parent class.\n",
    "- in addition, it can have its own properties and methods, this is called as inheritence"
   ]
  },
  {
   "cell_type": "code",
   "execution_count": 57,
   "id": "aec307d2-1b0e-49b8-87e7-d83bde150c26",
   "metadata": {},
   "outputs": [
    {
     "name": "stdout",
     "output_type": "stream",
     "text": [
      "The name of Employee: 410 is Rohan Das\n",
      "The name of Employee: 411 is Harry\n"
     ]
    }
   ],
   "source": [
    "class Employee:\n",
    "    def __init__(self, name, id):\n",
    "        self.name = name\n",
    "        self.id = id\n",
    "\n",
    "    def showDetails(self):\n",
    "        print(f\"The name of Employee: {self.id} is {self.name}\")\n",
    "\n",
    "e1 = Employee(\"Rohan Das\", 410)\n",
    "e1.showDetails()\n",
    "e2 = Employee(\"Harry\", 411)\n",
    "e2.showDetails()"
   ]
  },
  {
   "cell_type": "code",
   "execution_count": 58,
   "id": "0904accf-9c53-44e8-be91-302d64b37fb5",
   "metadata": {},
   "outputs": [],
   "source": [
    "class Programmer(Employee): #the new class Programmer is the child class of Employee\n",
    "    def showLanguage(self):\n",
    "        print(\"The default language is Python\")"
   ]
  },
  {
   "cell_type": "code",
   "execution_count": 59,
   "id": "316014fe-a790-400d-aa4c-7bc1693f0836",
   "metadata": {},
   "outputs": [
    {
     "name": "stdout",
     "output_type": "stream",
     "text": [
      "The name of Employee: 412 is Akash\n",
      "The default language is Python\n"
     ]
    }
   ],
   "source": [
    "e3 = Programmer(\"Akash\", 412)\n",
    "e3.showDetails()\n",
    "e3.showLanguage()"
   ]
  },
  {
   "cell_type": "markdown",
   "id": "9207aa8e-1682-435a-95ee-7b9d61b35866",
   "metadata": {},
   "source": [
    "**types of Inheritence**\n",
    "- Single Inheritence\n",
    "- Multiple Inheritence\n",
    "- Multilevel Inheritence\n",
    "- Hiererchial Inheritence\n",
    "- Hybrid Inheritence"
   ]
  },
  {
   "cell_type": "markdown",
   "id": "47924a7a-3b58-47bb-9c26-ced4a6e0a77e",
   "metadata": {},
   "source": [
    "# Access Modifiers/ Specifiers \n",
    "- access specifiers or access modifiers in python programming are used to limit the access of class variables and class methods outside of class while implementing the concepts of inheritence\n",
    "\n",
    "**types of access modifiers**\n",
    "- public access modifier\n",
    "- private access modifier\n",
    "- protected access mdoifier"
   ]
  },
  {
   "cell_type": "markdown",
   "id": "c950c24f-9b17-494a-b728-c4ed89e538dd",
   "metadata": {},
   "source": [
    "# Public Access Specifier\n",
    "- all the variables and methods in python are by default public\n",
    "- any instance variable in a class followed by the `self` keyword i.e. `self.var_name` are public accessed"
   ]
  },
  {
   "cell_type": "code",
   "execution_count": 60,
   "id": "449a7d0d-b877-4d54-8251-1a45fa4f0003",
   "metadata": {},
   "outputs": [
    {
     "name": "stdout",
     "output_type": "stream",
     "text": [
      "Akash\n"
     ]
    }
   ],
   "source": [
    "class Employee:\n",
    "    def __init__(self):\n",
    "        self.name = \"Akash\"\n",
    "a = Employee()\n",
    "print(a.name)"
   ]
  },
  {
   "cell_type": "markdown",
   "id": "0c67302b-afda-4c65-879d-ed63b3314782",
   "metadata": {},
   "source": [
    "# Private Access Specifier\n",
    "- private members of a class are those members which are only accessible inside the class.\n",
    "- we cannot use private members outside of class.\n",
    "- in python, there is no strict concept of \"private\" access modifiers like in some othe programming language.\n",
    "- however, a convention has been established to indicate that a variable or method should be considered private by prefixing its name with a **double underscore** `__`.\n",
    "- this is known as a \"weak internal use indicator\" and it is a convention only, not a strict rule.\n",
    "- Code outside the class can still access these \"private\" variables and methods, but it is generally understood that they should not be accessed or modified"
   ]
  },
  {
   "cell_type": "code",
   "execution_count": 61,
   "id": "3e133f79-dab2-4f42-aab6-fd5f4cea800d",
   "metadata": {},
   "outputs": [
    {
     "ename": "AttributeError",
     "evalue": "'Employee' object has no attribute '__name'",
     "output_type": "error",
     "traceback": [
      "\u001b[31m---------------------------------------------------------------------------\u001b[39m",
      "\u001b[31mAttributeError\u001b[39m                            Traceback (most recent call last)",
      "\u001b[36mCell\u001b[39m\u001b[36m \u001b[39m\u001b[32mIn[61]\u001b[39m\u001b[32m, line 5\u001b[39m\n\u001b[32m      3\u001b[39m         \u001b[38;5;28mself\u001b[39m.__name = \u001b[33m\"\u001b[39m\u001b[33mAkash\u001b[39m\u001b[33m\"\u001b[39m\n\u001b[32m      4\u001b[39m a = Employee()\n\u001b[32m----> \u001b[39m\u001b[32m5\u001b[39m \u001b[38;5;28mprint\u001b[39m(a.__name)\n",
      "\u001b[31mAttributeError\u001b[39m: 'Employee' object has no attribute '__name'"
     ]
    }
   ],
   "source": [
    "class Employee:\n",
    "    def __init__(self):\n",
    "        self.__name = \"Akash\"\n",
    "a = Employee()\n",
    "print(a.__name)"
   ]
  },
  {
   "cell_type": "code",
   "execution_count": 63,
   "id": "618831f8-2727-4cdf-aa53-ede9893493ca",
   "metadata": {},
   "outputs": [
    {
     "name": "stdout",
     "output_type": "stream",
     "text": [
      "Akash\n"
     ]
    }
   ],
   "source": [
    "# to access the private modifier outside the class indirectly\n",
    "print(a._Employee__name)"
   ]
  },
  {
   "cell_type": "code",
   "execution_count": 67,
   "id": "83819213-3d4a-4b2a-a619-adb8665b116b",
   "metadata": {},
   "outputs": [
    {
     "name": "stdout",
     "output_type": "stream",
     "text": [
      "['_Employee__name', '__module__', '__init__', '__dict__', '__weakref__', '__doc__', '__new__', '__repr__', '__hash__', '__str__', '__getattribute__', '__setattr__', '__delattr__', '__lt__', '__le__', '__eq__', '__ne__', '__gt__', '__ge__', '__reduce_ex__', '__reduce__', '__getstate__', '__subclasshook__', '__init_subclass__', '__format__', '__sizeof__', '__dir__', '__class__']\n"
     ]
    }
   ],
   "source": [
    "print(a.__dir__()) #print all methods that can be used with object a"
   ]
  },
  {
   "cell_type": "markdown",
   "id": "73e1c305-cd20-44b7-aca9-15ed9656f278",
   "metadata": {},
   "source": [
    "# Protected Access Modifier\n",
    "- it is used to describe a member of a class that is intended to be access only by the class itself and its subclasses\n",
    "- in python the convention for indicating that a member is protected is to prefix its name with a **single underscore** `_`"
   ]
  },
  {
   "cell_type": "code",
   "execution_count": 69,
   "id": "94bdf51c-df35-4b94-8885-07ed4d1072ad",
   "metadata": {},
   "outputs": [
    {
     "name": "stdout",
     "output_type": "stream",
     "text": [
      "Harry\n",
      "CodeWithHarry\n",
      "Harry\n",
      "CodeWithHarry\n"
     ]
    }
   ],
   "source": [
    "class Student:\n",
    "    def __init__(self):\n",
    "        self._name = \"Harry\"\n",
    "\n",
    "    def _funName(self): #protected method\n",
    "        return \"CodeWithHarry\"\n",
    "class Subject(Student): #inherited class\n",
    "    pass\n",
    "\n",
    "obj = Student()\n",
    "obj1 = Subject()\n",
    "\n",
    "#calling by object of Student Class\n",
    "print(obj._name)\n",
    "print(obj._funName())\n",
    "#calling by object of Subject class\n",
    "print(obj1._name)\n",
    "print(obj1._funName())"
   ]
  },
  {
   "cell_type": "code",
   "execution_count": 70,
   "id": "2ef2375e-71d0-45c0-8479-9e8c745e3a8c",
   "metadata": {},
   "outputs": [
    {
     "name": "stdout",
     "output_type": "stream",
     "text": [
      "['_name', '__module__', '__init__', '_funName', '__dict__', '__weakref__', '__doc__', '__new__', '__repr__', '__hash__', '__str__', '__getattribute__', '__setattr__', '__delattr__', '__lt__', '__le__', '__eq__', '__ne__', '__gt__', '__ge__', '__reduce_ex__', '__reduce__', '__getstate__', '__subclasshook__', '__init_subclass__', '__format__', '__sizeof__', '__dir__', '__class__']\n"
     ]
    }
   ],
   "source": [
    "print(obj.__dir__())"
   ]
  },
  {
   "cell_type": "markdown",
   "id": "533a7a83-4a57-4ed7-ab5b-26d07a793619",
   "metadata": {},
   "source": [
    "# Instance vs Class Variables\n",
    "- in Python, variables can be defined at the class level or at the instance level. Understanding the difference between these types of variables is crucial for writing efficient and maintainable code.\n",
    "- **Class variables** are defined at the class leel and are shared among all instances of the class.\n",
    "- they are defined outside of any method and are usually used to store information that is common to all instances of the class\n",
    "- Example, a class variable can be used to store the number of instances of a class that have been created"
   ]
  },
  {
   "cell_type": "code",
   "execution_count": 72,
   "id": "15854f2d-1ca7-4d92-ba2a-8d5ad912a9a3",
   "metadata": {},
   "outputs": [
    {
     "name": "stdout",
     "output_type": "stream",
     "text": [
      "The name of the Employee is Harry\n",
      "The name of the Employee is Harry\n"
     ]
    }
   ],
   "source": [
    "class Employee:\n",
    "    def __init__(self, name):\n",
    "        self.name = name\n",
    "    def showDetails(self):\n",
    "        print(f\"The name of the Employee is {self.name}\")\n",
    "\n",
    "emp1 = Employee(\"Harry\")\n",
    "emp1.showDetails()\n",
    "Employee.showDetails(emp1)"
   ]
  },
  {
   "cell_type": "markdown",
   "id": "ec972e34-b578-463e-add3-e9f0e1e21bca",
   "metadata": {},
   "source": [
    "# Python Class Methods\n"
   ]
  },
  {
   "cell_type": "code",
   "execution_count": 82,
   "id": "5f0bf294-5843-459c-b7c8-7a7c1801a604",
   "metadata": {},
   "outputs": [
    {
     "name": "stdout",
     "output_type": "stream",
     "text": [
      "The name is Akash and company is Apple\n"
     ]
    }
   ],
   "source": [
    "class Employee:\n",
    "    company = \"Apple\"\n",
    "    def show(self):\n",
    "        print(f\"The name is {self.name} and company is {self.company}\")\n",
    "    def changeCompany(cls, newCompany): #By default the first argument is taken as an instance not a class method\n",
    "        cls.company = newCompany\n",
    "\n",
    "e1 = Employee()\n",
    "e1.name = \"Akash\"\n",
    "e1.show()"
   ]
  },
  {
   "cell_type": "code",
   "execution_count": 83,
   "id": "cfb9161f-ed0f-4b64-9989-5a52eb72fc98",
   "metadata": {},
   "outputs": [
    {
     "name": "stdout",
     "output_type": "stream",
     "text": [
      "The name is Akash and company is Tesla\n"
     ]
    }
   ],
   "source": [
    "e1.changeCompany(\"Tesla\")\n",
    "e1.show()"
   ]
  },
  {
   "cell_type": "code",
   "execution_count": 84,
   "id": "00b37bc0-cb8a-49d3-9e14-10ae3dc64f63",
   "metadata": {},
   "outputs": [
    {
     "name": "stdout",
     "output_type": "stream",
     "text": [
      "Apple\n"
     ]
    }
   ],
   "source": [
    "print(Employee.company)"
   ]
  },
  {
   "cell_type": "code",
   "execution_count": 85,
   "id": "4947ec39-d52e-4894-8b08-091f0247aeb8",
   "metadata": {},
   "outputs": [
    {
     "name": "stdout",
     "output_type": "stream",
     "text": [
      "The name is Akash and company is Apple\n",
      "The name is Akash and company is Tesla\n",
      "Tesla\n"
     ]
    }
   ],
   "source": [
    "class Employee:\n",
    "    company = \"Apple\"\n",
    "    def show(self):\n",
    "        print(f\"The name is {self.name} and company is {self.company}\")\n",
    "    @classmethod #this will help change the Employee.company\n",
    "    def changeCompany(cls, newCompany):\n",
    "        cls.company = newCompany\n",
    "\n",
    "e1 = Employee()\n",
    "e1.name = \"Akash\"\n",
    "e1.show()\n",
    "e1.changeCompany(\"Tesla\")\n",
    "e1.show()\n",
    "print(Employee.company)"
   ]
  },
  {
   "cell_type": "markdown",
   "id": "e5b6050b-201a-4ef1-91ba-b08f3fc6c658",
   "metadata": {},
   "source": [
    "# Class Methods as Alternative Constructors"
   ]
  },
  {
   "cell_type": "code",
   "execution_count": 86,
   "id": "4a959bf2-a864-4b84-8984-c78699d27001",
   "metadata": {},
   "outputs": [
    {
     "name": "stdout",
     "output_type": "stream",
     "text": [
      "Akash\n",
      "12000\n"
     ]
    }
   ],
   "source": [
    "class Employee:\n",
    "    def __init__(self, name, salary):\n",
    "        self.name = name\n",
    "        self.salary = salary\n",
    "\n",
    "e = Employee(\"Akash\", 12000)\n",
    "print(e.name)\n",
    "print(e.salary)"
   ]
  },
  {
   "cell_type": "code",
   "execution_count": 89,
   "id": "740f33bc-65c3-42b3-8341-c848aa86920e",
   "metadata": {},
   "outputs": [
    {
     "name": "stdout",
     "output_type": "stream",
     "text": [
      "Arpan\n",
      "15000\n"
     ]
    }
   ],
   "source": [
    "string = \"Arpan-15000\"\n",
    "e1 = Employee(string.split(\"-\")[0],int(string.split(\"-\")[1]))\n",
    "print(e1.name)\n",
    "print(e1.salary)"
   ]
  },
  {
   "cell_type": "code",
   "execution_count": 90,
   "id": "52920dd0-3e9d-490f-98ee-9a711c943d97",
   "metadata": {},
   "outputs": [
    {
     "name": "stdout",
     "output_type": "stream",
     "text": [
      "Akash\n",
      "12000\n"
     ]
    }
   ],
   "source": [
    "#using class method in place of constructor\n",
    "class Employee:\n",
    "    def __init__(self, name, salary):\n",
    "        self.name = name\n",
    "        self.salary = salary\n",
    "\n",
    "    @classmethod\n",
    "    def fromStr(cls, string):\n",
    "        return cls(string.split(\"-\")[0],int(string.split(\"-\")[1]))\n",
    "e = Employee(\"Akash\", 12000)\n",
    "print(e.name)\n",
    "print(e.salary)"
   ]
  },
  {
   "cell_type": "code",
   "execution_count": 92,
   "id": "c2ff17fa-3b77-44d4-aca1-906e3092162a",
   "metadata": {},
   "outputs": [
    {
     "name": "stdout",
     "output_type": "stream",
     "text": [
      "Arpan\n",
      "15000\n"
     ]
    }
   ],
   "source": [
    "e2 = Employee.fromStr(\"Arpan-15000\")\n",
    "print(e2.name)\n",
    "print(e2.salary)"
   ]
  },
  {
   "cell_type": "markdown",
   "id": "ac6518d4-d221-4c9d-a5e8-000779d02184",
   "metadata": {},
   "source": [
    "# `dir()`, `__dict__`, and `help()`"
   ]
  },
  {
   "cell_type": "code",
   "execution_count": 93,
   "id": "7e3d94a3-bc3f-40d0-8e56-b7dc11c2c5ed",
   "metadata": {
    "scrolled": true
   },
   "outputs": [
    {
     "data": {
      "text/plain": [
       "['__add__',\n",
       " '__class__',\n",
       " '__class_getitem__',\n",
       " '__contains__',\n",
       " '__delattr__',\n",
       " '__delitem__',\n",
       " '__dir__',\n",
       " '__doc__',\n",
       " '__eq__',\n",
       " '__format__',\n",
       " '__ge__',\n",
       " '__getattribute__',\n",
       " '__getitem__',\n",
       " '__getstate__',\n",
       " '__gt__',\n",
       " '__hash__',\n",
       " '__iadd__',\n",
       " '__imul__',\n",
       " '__init__',\n",
       " '__init_subclass__',\n",
       " '__iter__',\n",
       " '__le__',\n",
       " '__len__',\n",
       " '__lt__',\n",
       " '__mul__',\n",
       " '__ne__',\n",
       " '__new__',\n",
       " '__reduce__',\n",
       " '__reduce_ex__',\n",
       " '__repr__',\n",
       " '__reversed__',\n",
       " '__rmul__',\n",
       " '__setattr__',\n",
       " '__setitem__',\n",
       " '__sizeof__',\n",
       " '__str__',\n",
       " '__subclasshook__',\n",
       " 'append',\n",
       " 'clear',\n",
       " 'copy',\n",
       " 'count',\n",
       " 'extend',\n",
       " 'index',\n",
       " 'insert',\n",
       " 'pop',\n",
       " 'remove',\n",
       " 'reverse',\n",
       " 'sort']"
      ]
     },
     "execution_count": 93,
     "metadata": {},
     "output_type": "execute_result"
    }
   ],
   "source": [
    "x = [1,2,3]\n",
    "dir(x)"
   ]
  },
  {
   "cell_type": "code",
   "execution_count": 96,
   "id": "535c732c-607e-4bb5-b3e5-4520648320c4",
   "metadata": {
    "collapsed": true,
    "jupyter": {
     "outputs_hidden": true
    }
   },
   "outputs": [
    {
     "name": "stdout",
     "output_type": "stream",
     "text": [
      "Help on list object:\n",
      "\n",
      "class list(object)\n",
      " |  list(iterable=(), /)\n",
      " |  \n",
      " |  Built-in mutable sequence.\n",
      " |  \n",
      " |  If no argument is given, the constructor creates a new empty list.\n",
      " |  The argument must be an iterable if specified.\n",
      " |  \n",
      " |  Methods defined here:\n",
      " |  \n",
      " |  __add__(self, value, /)\n",
      " |      Return self+value.\n",
      " |  \n",
      " |  __contains__(self, key, /)\n",
      " |      Return key in self.\n",
      " |  \n",
      " |  __delitem__(self, key, /)\n",
      " |      Delete self[key].\n",
      " |  \n",
      " |  __eq__(self, value, /)\n",
      " |      Return self==value.\n",
      " |  \n",
      " |  __ge__(self, value, /)\n",
      " |      Return self>=value.\n",
      " |  \n",
      " |  __getattribute__(self, name, /)\n",
      " |      Return getattr(self, name).\n",
      " |  \n",
      " |  __getitem__(...)\n",
      " |      x.__getitem__(y) <==> x[y]\n",
      " |  \n",
      " |  __gt__(self, value, /)\n",
      " |      Return self>value.\n",
      " |  \n",
      " |  __iadd__(self, value, /)\n",
      " |      Implement self+=value.\n",
      " |  \n",
      " |  __imul__(self, value, /)\n",
      " |      Implement self*=value.\n",
      " |  \n",
      " |  __init__(self, /, *args, **kwargs)\n",
      " |      Initialize self.  See help(type(self)) for accurate signature.\n",
      " |  \n",
      " |  __iter__(self, /)\n",
      " |      Implement iter(self).\n",
      " |  \n",
      " |  __le__(self, value, /)\n",
      " |      Return self<=value.\n",
      " |  \n",
      " |  __len__(self, /)\n",
      " |      Return len(self).\n",
      " |  \n",
      " |  __lt__(self, value, /)\n",
      " |      Return self<value.\n",
      " |  \n",
      " |  __mul__(self, value, /)\n",
      " |      Return self*value.\n",
      " |  \n",
      " |  __ne__(self, value, /)\n",
      " |      Return self!=value.\n",
      " |  \n",
      " |  __repr__(self, /)\n",
      " |      Return repr(self).\n",
      " |  \n",
      " |  __reversed__(self, /)\n",
      " |      Return a reverse iterator over the list.\n",
      " |  \n",
      " |  __rmul__(self, value, /)\n",
      " |      Return value*self.\n",
      " |  \n",
      " |  __setitem__(self, key, value, /)\n",
      " |      Set self[key] to value.\n",
      " |  \n",
      " |  __sizeof__(self, /)\n",
      " |      Return the size of the list in memory, in bytes.\n",
      " |  \n",
      " |  append(self, object, /)\n",
      " |      Append object to the end of the list.\n",
      " |  \n",
      " |  clear(self, /)\n",
      " |      Remove all items from list.\n",
      " |  \n",
      " |  copy(self, /)\n",
      " |      Return a shallow copy of the list.\n",
      " |  \n",
      " |  count(self, value, /)\n",
      " |      Return number of occurrences of value.\n",
      " |  \n",
      " |  extend(self, iterable, /)\n",
      " |      Extend list by appending elements from the iterable.\n",
      " |  \n",
      " |  index(self, value, start=0, stop=9223372036854775807, /)\n",
      " |      Return first index of value.\n",
      " |      \n",
      " |      Raises ValueError if the value is not present.\n",
      " |  \n",
      " |  insert(self, index, object, /)\n",
      " |      Insert object before index.\n",
      " |  \n",
      " |  pop(self, index=-1, /)\n",
      " |      Remove and return item at index (default last).\n",
      " |      \n",
      " |      Raises IndexError if list is empty or index is out of range.\n",
      " |  \n",
      " |  remove(self, value, /)\n",
      " |      Remove first occurrence of value.\n",
      " |      \n",
      " |      Raises ValueError if the value is not present.\n",
      " |  \n",
      " |  reverse(self, /)\n",
      " |      Reverse *IN PLACE*.\n",
      " |  \n",
      " |  sort(self, /, *, key=None, reverse=False)\n",
      " |      Sort the list in ascending order and return None.\n",
      " |      \n",
      " |      The sort is in-place (i.e. the list itself is modified) and stable (i.e. the\n",
      " |      order of two equal elements is maintained).\n",
      " |      \n",
      " |      If a key function is given, apply it once to each list item and sort them,\n",
      " |      ascending or descending, according to their function values.\n",
      " |      \n",
      " |      The reverse flag can be set to sort in descending order.\n",
      " |  \n",
      " |  ----------------------------------------------------------------------\n",
      " |  Class methods defined here:\n",
      " |  \n",
      " |  __class_getitem__(...)\n",
      " |      See PEP 585\n",
      " |  \n",
      " |  ----------------------------------------------------------------------\n",
      " |  Static methods defined here:\n",
      " |  \n",
      " |  __new__(*args, **kwargs)\n",
      " |      Create and return a new object.  See help(type) for accurate signature.\n",
      " |  \n",
      " |  ----------------------------------------------------------------------\n",
      " |  Data and other attributes defined here:\n",
      " |  \n",
      " |  __hash__ = None\n",
      "\n"
     ]
    }
   ],
   "source": [
    "help(x)"
   ]
  },
  {
   "cell_type": "code",
   "execution_count": 97,
   "id": "1b93ab50-47af-4be1-bc6e-ef298e6a1708",
   "metadata": {},
   "outputs": [
    {
     "data": {
      "text/plain": [
       "{'name': 'John', 'age': 30}"
      ]
     },
     "execution_count": 97,
     "metadata": {},
     "output_type": "execute_result"
    }
   ],
   "source": [
    "class Person:\n",
    "    def __init__(self, name, age):\n",
    "        self.name = name\n",
    "        self.age = age\n",
    "p = Person(\"John\", 30)\n",
    "p.__dict__"
   ]
  },
  {
   "cell_type": "code",
   "execution_count": 98,
   "id": "6bbe7272-1018-46e5-81ec-ca1e4706503a",
   "metadata": {},
   "outputs": [
    {
     "name": "stdout",
     "output_type": "stream",
     "text": [
      "Help on Person in module __main__ object:\n",
      "\n",
      "class Person(builtins.object)\n",
      " |  Person(name, age)\n",
      " |  \n",
      " |  Methods defined here:\n",
      " |  \n",
      " |  __init__(self, name, age)\n",
      " |      Initialize self.  See help(type(self)) for accurate signature.\n",
      " |  \n",
      " |  ----------------------------------------------------------------------\n",
      " |  Data descriptors defined here:\n",
      " |  \n",
      " |  __dict__\n",
      " |      dictionary for instance variables\n",
      " |  \n",
      " |  __weakref__\n",
      " |      list of weak references to the object\n",
      "\n"
     ]
    }
   ],
   "source": [
    "help(p)"
   ]
  },
  {
   "cell_type": "code",
   "execution_count": 100,
   "id": "0c6f3434-af6c-492c-9b24-c4f038c47646",
   "metadata": {
    "collapsed": true,
    "jupyter": {
     "outputs_hidden": true
    },
    "scrolled": true
   },
   "outputs": [
    {
     "name": "stdout",
     "output_type": "stream",
     "text": [
      "Help on class str in module builtins:\n",
      "\n",
      "class str(object)\n",
      " |  str(object='') -> str\n",
      " |  str(bytes_or_buffer[, encoding[, errors]]) -> str\n",
      " |  \n",
      " |  Create a new string object from the given object. If encoding or\n",
      " |  errors is specified, then the object must expose a data buffer\n",
      " |  that will be decoded using the given encoding and error handler.\n",
      " |  Otherwise, returns the result of object.__str__() (if defined)\n",
      " |  or repr(object).\n",
      " |  encoding defaults to sys.getdefaultencoding().\n",
      " |  errors defaults to 'strict'.\n",
      " |  \n",
      " |  Methods defined here:\n",
      " |  \n",
      " |  __add__(self, value, /)\n",
      " |      Return self+value.\n",
      " |  \n",
      " |  __contains__(self, key, /)\n",
      " |      Return key in self.\n",
      " |  \n",
      " |  __eq__(self, value, /)\n",
      " |      Return self==value.\n",
      " |  \n",
      " |  __format__(self, format_spec, /)\n",
      " |      Return a formatted version of the string as described by format_spec.\n",
      " |  \n",
      " |  __ge__(self, value, /)\n",
      " |      Return self>=value.\n",
      " |  \n",
      " |  __getattribute__(self, name, /)\n",
      " |      Return getattr(self, name).\n",
      " |  \n",
      " |  __getitem__(self, key, /)\n",
      " |      Return self[key].\n",
      " |  \n",
      " |  __getnewargs__(...)\n",
      " |  \n",
      " |  __gt__(self, value, /)\n",
      " |      Return self>value.\n",
      " |  \n",
      " |  __hash__(self, /)\n",
      " |      Return hash(self).\n",
      " |  \n",
      " |  __iter__(self, /)\n",
      " |      Implement iter(self).\n",
      " |  \n",
      " |  __le__(self, value, /)\n",
      " |      Return self<=value.\n",
      " |  \n",
      " |  __len__(self, /)\n",
      " |      Return len(self).\n",
      " |  \n",
      " |  __lt__(self, value, /)\n",
      " |      Return self<value.\n",
      " |  \n",
      " |  __mod__(self, value, /)\n",
      " |      Return self%value.\n",
      " |  \n",
      " |  __mul__(self, value, /)\n",
      " |      Return self*value.\n",
      " |  \n",
      " |  __ne__(self, value, /)\n",
      " |      Return self!=value.\n",
      " |  \n",
      " |  __repr__(self, /)\n",
      " |      Return repr(self).\n",
      " |  \n",
      " |  __rmod__(self, value, /)\n",
      " |      Return value%self.\n",
      " |  \n",
      " |  __rmul__(self, value, /)\n",
      " |      Return value*self.\n",
      " |  \n",
      " |  __sizeof__(self, /)\n",
      " |      Return the size of the string in memory, in bytes.\n",
      " |  \n",
      " |  __str__(self, /)\n",
      " |      Return str(self).\n",
      " |  \n",
      " |  capitalize(self, /)\n",
      " |      Return a capitalized version of the string.\n",
      " |      \n",
      " |      More specifically, make the first character have upper case and the rest lower\n",
      " |      case.\n",
      " |  \n",
      " |  casefold(self, /)\n",
      " |      Return a version of the string suitable for caseless comparisons.\n",
      " |  \n",
      " |  center(self, width, fillchar=' ', /)\n",
      " |      Return a centered string of length width.\n",
      " |      \n",
      " |      Padding is done using the specified fill character (default is a space).\n",
      " |  \n",
      " |  count(...)\n",
      " |      S.count(sub[, start[, end]]) -> int\n",
      " |      \n",
      " |      Return the number of non-overlapping occurrences of substring sub in\n",
      " |      string S[start:end].  Optional arguments start and end are\n",
      " |      interpreted as in slice notation.\n",
      " |  \n",
      " |  encode(self, /, encoding='utf-8', errors='strict')\n",
      " |      Encode the string using the codec registered for encoding.\n",
      " |      \n",
      " |      encoding\n",
      " |        The encoding in which to encode the string.\n",
      " |      errors\n",
      " |        The error handling scheme to use for encoding errors.\n",
      " |        The default is 'strict' meaning that encoding errors raise a\n",
      " |        UnicodeEncodeError.  Other possible values are 'ignore', 'replace' and\n",
      " |        'xmlcharrefreplace' as well as any other name registered with\n",
      " |        codecs.register_error that can handle UnicodeEncodeErrors.\n",
      " |  \n",
      " |  endswith(...)\n",
      " |      S.endswith(suffix[, start[, end]]) -> bool\n",
      " |      \n",
      " |      Return True if S ends with the specified suffix, False otherwise.\n",
      " |      With optional start, test S beginning at that position.\n",
      " |      With optional end, stop comparing S at that position.\n",
      " |      suffix can also be a tuple of strings to try.\n",
      " |  \n",
      " |  expandtabs(self, /, tabsize=8)\n",
      " |      Return a copy where all tab characters are expanded using spaces.\n",
      " |      \n",
      " |      If tabsize is not given, a tab size of 8 characters is assumed.\n",
      " |  \n",
      " |  find(...)\n",
      " |      S.find(sub[, start[, end]]) -> int\n",
      " |      \n",
      " |      Return the lowest index in S where substring sub is found,\n",
      " |      such that sub is contained within S[start:end].  Optional\n",
      " |      arguments start and end are interpreted as in slice notation.\n",
      " |      \n",
      " |      Return -1 on failure.\n",
      " |  \n",
      " |  format(...)\n",
      " |      S.format(*args, **kwargs) -> str\n",
      " |      \n",
      " |      Return a formatted version of S, using substitutions from args and kwargs.\n",
      " |      The substitutions are identified by braces ('{' and '}').\n",
      " |  \n",
      " |  format_map(...)\n",
      " |      S.format_map(mapping) -> str\n",
      " |      \n",
      " |      Return a formatted version of S, using substitutions from mapping.\n",
      " |      The substitutions are identified by braces ('{' and '}').\n",
      " |  \n",
      " |  index(...)\n",
      " |      S.index(sub[, start[, end]]) -> int\n",
      " |      \n",
      " |      Return the lowest index in S where substring sub is found,\n",
      " |      such that sub is contained within S[start:end].  Optional\n",
      " |      arguments start and end are interpreted as in slice notation.\n",
      " |      \n",
      " |      Raises ValueError when the substring is not found.\n",
      " |  \n",
      " |  isalnum(self, /)\n",
      " |      Return True if the string is an alpha-numeric string, False otherwise.\n",
      " |      \n",
      " |      A string is alpha-numeric if all characters in the string are alpha-numeric and\n",
      " |      there is at least one character in the string.\n",
      " |  \n",
      " |  isalpha(self, /)\n",
      " |      Return True if the string is an alphabetic string, False otherwise.\n",
      " |      \n",
      " |      A string is alphabetic if all characters in the string are alphabetic and there\n",
      " |      is at least one character in the string.\n",
      " |  \n",
      " |  isascii(self, /)\n",
      " |      Return True if all characters in the string are ASCII, False otherwise.\n",
      " |      \n",
      " |      ASCII characters have code points in the range U+0000-U+007F.\n",
      " |      Empty string is ASCII too.\n",
      " |  \n",
      " |  isdecimal(self, /)\n",
      " |      Return True if the string is a decimal string, False otherwise.\n",
      " |      \n",
      " |      A string is a decimal string if all characters in the string are decimal and\n",
      " |      there is at least one character in the string.\n",
      " |  \n",
      " |  isdigit(self, /)\n",
      " |      Return True if the string is a digit string, False otherwise.\n",
      " |      \n",
      " |      A string is a digit string if all characters in the string are digits and there\n",
      " |      is at least one character in the string.\n",
      " |  \n",
      " |  isidentifier(self, /)\n",
      " |      Return True if the string is a valid Python identifier, False otherwise.\n",
      " |      \n",
      " |      Call keyword.iskeyword(s) to test whether string s is a reserved identifier,\n",
      " |      such as \"def\" or \"class\".\n",
      " |  \n",
      " |  islower(self, /)\n",
      " |      Return True if the string is a lowercase string, False otherwise.\n",
      " |      \n",
      " |      A string is lowercase if all cased characters in the string are lowercase and\n",
      " |      there is at least one cased character in the string.\n",
      " |  \n",
      " |  isnumeric(self, /)\n",
      " |      Return True if the string is a numeric string, False otherwise.\n",
      " |      \n",
      " |      A string is numeric if all characters in the string are numeric and there is at\n",
      " |      least one character in the string.\n",
      " |  \n",
      " |  isprintable(self, /)\n",
      " |      Return True if the string is printable, False otherwise.\n",
      " |      \n",
      " |      A string is printable if all of its characters are considered printable in\n",
      " |      repr() or if it is empty.\n",
      " |  \n",
      " |  isspace(self, /)\n",
      " |      Return True if the string is a whitespace string, False otherwise.\n",
      " |      \n",
      " |      A string is whitespace if all characters in the string are whitespace and there\n",
      " |      is at least one character in the string.\n",
      " |  \n",
      " |  istitle(self, /)\n",
      " |      Return True if the string is a title-cased string, False otherwise.\n",
      " |      \n",
      " |      In a title-cased string, upper- and title-case characters may only\n",
      " |      follow uncased characters and lowercase characters only cased ones.\n",
      " |  \n",
      " |  isupper(self, /)\n",
      " |      Return True if the string is an uppercase string, False otherwise.\n",
      " |      \n",
      " |      A string is uppercase if all cased characters in the string are uppercase and\n",
      " |      there is at least one cased character in the string.\n",
      " |  \n",
      " |  join(self, iterable, /)\n",
      " |      Concatenate any number of strings.\n",
      " |      \n",
      " |      The string whose method is called is inserted in between each given string.\n",
      " |      The result is returned as a new string.\n",
      " |      \n",
      " |      Example: '.'.join(['ab', 'pq', 'rs']) -> 'ab.pq.rs'\n",
      " |  \n",
      " |  ljust(self, width, fillchar=' ', /)\n",
      " |      Return a left-justified string of length width.\n",
      " |      \n",
      " |      Padding is done using the specified fill character (default is a space).\n",
      " |  \n",
      " |  lower(self, /)\n",
      " |      Return a copy of the string converted to lowercase.\n",
      " |  \n",
      " |  lstrip(self, chars=None, /)\n",
      " |      Return a copy of the string with leading whitespace removed.\n",
      " |      \n",
      " |      If chars is given and not None, remove characters in chars instead.\n",
      " |  \n",
      " |  partition(self, sep, /)\n",
      " |      Partition the string into three parts using the given separator.\n",
      " |      \n",
      " |      This will search for the separator in the string.  If the separator is found,\n",
      " |      returns a 3-tuple containing the part before the separator, the separator\n",
      " |      itself, and the part after it.\n",
      " |      \n",
      " |      If the separator is not found, returns a 3-tuple containing the original string\n",
      " |      and two empty strings.\n",
      " |  \n",
      " |  removeprefix(self, prefix, /)\n",
      " |      Return a str with the given prefix string removed if present.\n",
      " |      \n",
      " |      If the string starts with the prefix string, return string[len(prefix):].\n",
      " |      Otherwise, return a copy of the original string.\n",
      " |  \n",
      " |  removesuffix(self, suffix, /)\n",
      " |      Return a str with the given suffix string removed if present.\n",
      " |      \n",
      " |      If the string ends with the suffix string and that suffix is not empty,\n",
      " |      return string[:-len(suffix)]. Otherwise, return a copy of the original\n",
      " |      string.\n",
      " |  \n",
      " |  replace(self, old, new, count=-1, /)\n",
      " |      Return a copy with all occurrences of substring old replaced by new.\n",
      " |      \n",
      " |        count\n",
      " |          Maximum number of occurrences to replace.\n",
      " |          -1 (the default value) means replace all occurrences.\n",
      " |      \n",
      " |      If the optional argument count is given, only the first count occurrences are\n",
      " |      replaced.\n",
      " |  \n",
      " |  rfind(...)\n",
      " |      S.rfind(sub[, start[, end]]) -> int\n",
      " |      \n",
      " |      Return the highest index in S where substring sub is found,\n",
      " |      such that sub is contained within S[start:end].  Optional\n",
      " |      arguments start and end are interpreted as in slice notation.\n",
      " |      \n",
      " |      Return -1 on failure.\n",
      " |  \n",
      " |  rindex(...)\n",
      " |      S.rindex(sub[, start[, end]]) -> int\n",
      " |      \n",
      " |      Return the highest index in S where substring sub is found,\n",
      " |      such that sub is contained within S[start:end].  Optional\n",
      " |      arguments start and end are interpreted as in slice notation.\n",
      " |      \n",
      " |      Raises ValueError when the substring is not found.\n",
      " |  \n",
      " |  rjust(self, width, fillchar=' ', /)\n",
      " |      Return a right-justified string of length width.\n",
      " |      \n",
      " |      Padding is done using the specified fill character (default is a space).\n",
      " |  \n",
      " |  rpartition(self, sep, /)\n",
      " |      Partition the string into three parts using the given separator.\n",
      " |      \n",
      " |      This will search for the separator in the string, starting at the end. If\n",
      " |      the separator is found, returns a 3-tuple containing the part before the\n",
      " |      separator, the separator itself, and the part after it.\n",
      " |      \n",
      " |      If the separator is not found, returns a 3-tuple containing two empty strings\n",
      " |      and the original string.\n",
      " |  \n",
      " |  rsplit(self, /, sep=None, maxsplit=-1)\n",
      " |      Return a list of the substrings in the string, using sep as the separator string.\n",
      " |      \n",
      " |        sep\n",
      " |          The separator used to split the string.\n",
      " |      \n",
      " |          When set to None (the default value), will split on any whitespace\n",
      " |          character (including \\n \\r \\t \\f and spaces) and will discard\n",
      " |          empty strings from the result.\n",
      " |        maxsplit\n",
      " |          Maximum number of splits.\n",
      " |          -1 (the default value) means no limit.\n",
      " |      \n",
      " |      Splitting starts at the end of the string and works to the front.\n",
      " |  \n",
      " |  rstrip(self, chars=None, /)\n",
      " |      Return a copy of the string with trailing whitespace removed.\n",
      " |      \n",
      " |      If chars is given and not None, remove characters in chars instead.\n",
      " |  \n",
      " |  split(self, /, sep=None, maxsplit=-1)\n",
      " |      Return a list of the substrings in the string, using sep as the separator string.\n",
      " |      \n",
      " |        sep\n",
      " |          The separator used to split the string.\n",
      " |      \n",
      " |          When set to None (the default value), will split on any whitespace\n",
      " |          character (including \\n \\r \\t \\f and spaces) and will discard\n",
      " |          empty strings from the result.\n",
      " |        maxsplit\n",
      " |          Maximum number of splits.\n",
      " |          -1 (the default value) means no limit.\n",
      " |      \n",
      " |      Splitting starts at the front of the string and works to the end.\n",
      " |      \n",
      " |      Note, str.split() is mainly useful for data that has been intentionally\n",
      " |      delimited.  With natural text that includes punctuation, consider using\n",
      " |      the regular expression module.\n",
      " |  \n",
      " |  splitlines(self, /, keepends=False)\n",
      " |      Return a list of the lines in the string, breaking at line boundaries.\n",
      " |      \n",
      " |      Line breaks are not included in the resulting list unless keepends is given and\n",
      " |      true.\n",
      " |  \n",
      " |  startswith(...)\n",
      " |      S.startswith(prefix[, start[, end]]) -> bool\n",
      " |      \n",
      " |      Return True if S starts with the specified prefix, False otherwise.\n",
      " |      With optional start, test S beginning at that position.\n",
      " |      With optional end, stop comparing S at that position.\n",
      " |      prefix can also be a tuple of strings to try.\n",
      " |  \n",
      " |  strip(self, chars=None, /)\n",
      " |      Return a copy of the string with leading and trailing whitespace removed.\n",
      " |      \n",
      " |      If chars is given and not None, remove characters in chars instead.\n",
      " |  \n",
      " |  swapcase(self, /)\n",
      " |      Convert uppercase characters to lowercase and lowercase characters to uppercase.\n",
      " |  \n",
      " |  title(self, /)\n",
      " |      Return a version of the string where each word is titlecased.\n",
      " |      \n",
      " |      More specifically, words start with uppercased characters and all remaining\n",
      " |      cased characters have lower case.\n",
      " |  \n",
      " |  translate(self, table, /)\n",
      " |      Replace each character in the string using the given translation table.\n",
      " |      \n",
      " |        table\n",
      " |          Translation table, which must be a mapping of Unicode ordinals to\n",
      " |          Unicode ordinals, strings, or None.\n",
      " |      \n",
      " |      The table must implement lookup/indexing via __getitem__, for instance a\n",
      " |      dictionary or list.  If this operation raises LookupError, the character is\n",
      " |      left untouched.  Characters mapped to None are deleted.\n",
      " |  \n",
      " |  upper(self, /)\n",
      " |      Return a copy of the string converted to uppercase.\n",
      " |  \n",
      " |  zfill(self, width, /)\n",
      " |      Pad a numeric string with zeros on the left, to fill a field of the given width.\n",
      " |      \n",
      " |      The string is never truncated.\n",
      " |  \n",
      " |  ----------------------------------------------------------------------\n",
      " |  Static methods defined here:\n",
      " |  \n",
      " |  __new__(*args, **kwargs)\n",
      " |      Create and return a new object.  See help(type) for accurate signature.\n",
      " |  \n",
      " |  maketrans(...)\n",
      " |      Return a translation table usable for str.translate().\n",
      " |      \n",
      " |      If there is only one argument, it must be a dictionary mapping Unicode\n",
      " |      ordinals (integers) or characters to Unicode ordinals, strings or None.\n",
      " |      Character keys will be then converted to ordinals.\n",
      " |      If there are two arguments, they must be strings of equal length, and\n",
      " |      in the resulting dictionary, each character in x will be mapped to the\n",
      " |      character at the same position in y. If there is a third argument, it\n",
      " |      must be a string, whose characters will be mapped to None in the result.\n",
      "\n",
      "None\n"
     ]
    }
   ],
   "source": [
    "print(help(str))"
   ]
  },
  {
   "cell_type": "markdown",
   "id": "85ab2c2e-9cf9-462f-b5f9-f93f3ad30df0",
   "metadata": {},
   "source": [
    "# super keyword in Python\n",
    "- `super()` keyword in Python is used to refer to the parent class.\n",
    "- when a class inherits from a parent class, it can override or extend the methods defined in the parent class. However, sometimes you might want to use the parent class method in the child class. This is where the super() keyword comes in handy."
   ]
  },
  {
   "cell_type": "code",
   "execution_count": 104,
   "id": "6ac89ed9-3e53-4269-bd88-35564f9e0fe3",
   "metadata": {},
   "outputs": [
    {
     "name": "stdout",
     "output_type": "stream",
     "text": [
      "This is the child method\n",
      "Akash\n",
      "This is the parent method\n"
     ]
    }
   ],
   "source": [
    "class ParentClass:\n",
    "    def parent_method(self):\n",
    "        print(\"This is the parent method\")\n",
    "class ChildClass(ParentClass):\n",
    "    def parent_method(self):\n",
    "        print(\"Akash\")\n",
    "    def child_method(self):\n",
    "        print(\"This is the child method\")\n",
    "        self.parent_method()\n",
    "        super().parent_method()\n",
    "\n",
    "child_object = ChildClass()\n",
    "child_object.child_method()"
   ]
  },
  {
   "cell_type": "markdown",
   "id": "5cbf262f-9c17-4aa7-aa70-179faf4c685f",
   "metadata": {},
   "source": [
    "# Method Overriding in Python"
   ]
  },
  {
   "cell_type": "code",
   "execution_count": 105,
   "id": "7eb9e46b-bc93-4474-afb0-b7e7b9b1fe2f",
   "metadata": {},
   "outputs": [
    {
     "name": "stdout",
     "output_type": "stream",
     "text": [
      "15\n"
     ]
    }
   ],
   "source": [
    "class Shape:\n",
    "    def __init__(self, x, y):\n",
    "        self.x = x\n",
    "        self.y = y\n",
    "    def area(self):\n",
    "        return self.x * self.y\n",
    "rec = Shape(3,5)\n",
    "print(rec.area())"
   ]
  },
  {
   "cell_type": "code",
   "execution_count": 108,
   "id": "7557068f-d962-4d19-9054-e96b81edf67f",
   "metadata": {},
   "outputs": [
    {
     "name": "stdout",
     "output_type": "stream",
     "text": [
      "78.5\n"
     ]
    }
   ],
   "source": [
    "class Circle(Shape):\n",
    "    def __init__(self, r):\n",
    "        self.r = r\n",
    "        super().__init__(r, r)\n",
    "    def area(self):\n",
    "        return 3.14 * super().area()\n",
    "\n",
    "rec1 = Circle(5)\n",
    "print(rec1.area())"
   ]
  },
  {
   "cell_type": "markdown",
   "id": "40bcb47b-ee42-4d50-afe4-c29e56afddaf",
   "metadata": {},
   "source": [
    "# Operator Overloading"
   ]
  },
  {
   "cell_type": "code",
   "execution_count": 11,
   "id": "041f7f9e-2a3d-4d70-875c-e3e8ce68fba2",
   "metadata": {},
   "outputs": [
    {
     "name": "stdout",
     "output_type": "stream",
     "text": [
      "3i + 5j + 6k\n",
      "1i + 2j + 9k\n"
     ]
    }
   ],
   "source": [
    "class Vector:\n",
    "    def __init__(self, i, j, k):\n",
    "        self.i = i\n",
    "        self.j = j\n",
    "        self.k = k\n",
    "    def __str__(self):\n",
    "        return f\"{self.i}i + {self.j}j + {self.k}k\"\n",
    "    def __add__(self, x):\n",
    "        return Vector(self.i + x.i, self.j + x.j, self.k + x.k) #operator overloading\n",
    "v1 = Vector(3, 5, 6)\n",
    "print(v1)\n",
    "v2 = Vector(1, 2, 9)\n",
    "print(v2)"
   ]
  },
  {
   "cell_type": "code",
   "execution_count": 12,
   "id": "66ed8de2-603b-4544-9bf0-ba4a09b28281",
   "metadata": {},
   "outputs": [
    {
     "name": "stdout",
     "output_type": "stream",
     "text": [
      "4i + 7j + 15k\n"
     ]
    }
   ],
   "source": [
    "print(v1+v2)"
   ]
  },
  {
   "cell_type": "code",
   "execution_count": 13,
   "id": "1f2926cf-954b-45cb-add5-af98f55d688f",
   "metadata": {},
   "outputs": [
    {
     "name": "stdout",
     "output_type": "stream",
     "text": [
      "<class '__main__.Vector'>\n"
     ]
    }
   ],
   "source": [
    "print(type(v1+v2))"
   ]
  },
  {
   "cell_type": "markdown",
   "id": "0ebff2b0-c958-49c3-8517-9299c0defe18",
   "metadata": {},
   "source": [
    "# SINGLE INHERITENCE\n",
    "- where a class inherits properties and behaviors from a single parent class\n",
    "- simplest and most common form of inheritence"
   ]
  },
  {
   "cell_type": "markdown",
   "id": "87fdaf41-017e-4ea0-b808-28203c1a45cf",
   "metadata": {},
   "source": [
    "# MULTIPLE INHERITENCE\n",
    "- it allows a class to inherit attributes and methods from multiple parent classes\n",
    "- this can be useful in situations where a class needs to inherit functionality from multiple sources"
   ]
  },
  {
   "cell_type": "code",
   "execution_count": 16,
   "id": "04ab2d72-ceb3-4e9e-82c0-15533713696e",
   "metadata": {},
   "outputs": [
    {
     "name": "stdout",
     "output_type": "stream",
     "text": [
      "Shivani\n",
      "Kathak\n",
      "The name is Shivani\n"
     ]
    }
   ],
   "source": [
    "class Employee:\n",
    "    def __init__(self, name):\n",
    "        self.name = name\n",
    "    def show(self):\n",
    "        print(f\"The name is {self.name}\")\n",
    "class Dancer:\n",
    "    def __init__(self, dance):\n",
    "        self.dance = dance\n",
    "    def show(self):\n",
    "        print(f\"The dance is {self.dance}\")\n",
    "class DancerEmployee(Employee, Dancer):\n",
    "    def __init__(self, dance, name):\n",
    "        self.dance = dance\n",
    "        self.name = name\n",
    "o = DancerEmployee(\"Kathak\", \"Shivani\")\n",
    "print(o.name)\n",
    "print(o.dance)\n",
    "o.show()"
   ]
  },
  {
   "cell_type": "code",
   "execution_count": 17,
   "id": "12c6a1ad-bdd2-47f9-9161-477d036b7e63",
   "metadata": {},
   "outputs": [
    {
     "name": "stdout",
     "output_type": "stream",
     "text": [
      "Shivani\n",
      "Kathak\n",
      "The dance is Kathak\n"
     ]
    }
   ],
   "source": [
    "class Employee:\n",
    "    def __init__(self, name):\n",
    "        self.name = name\n",
    "    def show(self):\n",
    "        print(f\"The name is {self.name}\")\n",
    "class Dancer:\n",
    "    def __init__(self, dance):\n",
    "        self.dance = dance\n",
    "    def show(self):\n",
    "        print(f\"The dance is {self.dance}\")\n",
    "class DancerEmployee(Dancer, Employee):\n",
    "    def __init__(self, dance, name):\n",
    "        self.dance = dance\n",
    "        self.name = name\n",
    "o = DancerEmployee(\"Kathak\", \"Shivani\")\n",
    "print(o.name)\n",
    "print(o.dance)\n",
    "o.show()"
   ]
  },
  {
   "cell_type": "code",
   "execution_count": 19,
   "id": "f5d7e106-2076-4fad-9ec9-16dc095439ec",
   "metadata": {},
   "outputs": [
    {
     "name": "stdout",
     "output_type": "stream",
     "text": [
      "[<class '__main__.DancerEmployee'>, <class '__main__.Dancer'>, <class '__main__.Employee'>, <class 'object'>]\n"
     ]
    }
   ],
   "source": [
    "print(DancerEmployee.mro()) #where the object will be searched first"
   ]
  },
  {
   "cell_type": "markdown",
   "id": "6eb236c7-504d-4c43-8826-f29ccde49ce7",
   "metadata": {},
   "source": [
    "# MULTILEVEL INHERITENCE\n",
    "- a derived class inherits from another derived class\n",
    "- this type of inheritence allows you to build a hiererchy of classes where one class builds upon another, leading to a more specialized class\n",
    "- in python multilevel inheritence is achieved by using the class hiererchy\n",
    "\n",
    "***Grandparent Class*** -> ***Parent Class*** -> ***Child Class***"
   ]
  },
  {
   "cell_type": "code",
   "execution_count": 21,
   "id": "8bc178c9-2181-4880-be9a-42f576b73f0d",
   "metadata": {},
   "outputs": [],
   "source": [
    "class Animal:\n",
    "    def __init__(self, name, species):\n",
    "        self.name = name\n",
    "        self.species = species\n",
    "    def show_details(self):\n",
    "        print(f\"Name: {self.name}\")\n",
    "        print(f\"Species: {self.species}\")\n",
    "class Dog(Animal):\n",
    "    def __init__(self, name, breed):\n",
    "        Animal.__init__(self, name, species = \"Dog\")\n",
    "        self.breed = breed\n",
    "    def show_details(self):\n",
    "        Animal.show_details(self)\n",
    "        print(f\"Breed: {self.breed}\")\n",
    "class GoldenRetriever(Dog):\n",
    "    def __init__(self, name, color):\n",
    "        Dog.__init__(self, name, breed = \"Golden Retriever\")\n",
    "        self.color = color\n",
    "    def show_details(self):\n",
    "        Dog.show_details(self)\n",
    "        print(f\"Color: {self.color}\")"
   ]
  },
  {
   "cell_type": "code",
   "execution_count": 22,
   "id": "89094af6-dcd9-41c3-bbe4-eef8306c8eeb",
   "metadata": {},
   "outputs": [
    {
     "name": "stdout",
     "output_type": "stream",
     "text": [
      "Name: Tommy\n",
      "Species: Dog\n",
      "Breed: Golden Retriever\n",
      "Color: Brown\n"
     ]
    }
   ],
   "source": [
    "a = GoldenRetriever(\"Tommy\", \"Brown\")\n",
    "a.show_details()"
   ]
  },
  {
   "cell_type": "code",
   "execution_count": 23,
   "id": "ab15f471-ddd6-4f8f-96d7-bd05dff0cc5b",
   "metadata": {},
   "outputs": [
    {
     "name": "stdout",
     "output_type": "stream",
     "text": [
      "[<class '__main__.GoldenRetriever'>, <class '__main__.Dog'>, <class '__main__.Animal'>, <class 'object'>]\n"
     ]
    }
   ],
   "source": [
    "print(GoldenRetriever.mro())"
   ]
  },
  {
   "cell_type": "markdown",
   "id": "e396c426-33b1-4647-8a6b-f3f010fe2aec",
   "metadata": {},
   "source": [
    "# HYBRID INHERITENCE\n",
    "- combination of multiple inheritence and single inheritence\n",
    "- **multiple inheritence** is used to inherit the properties of multiple base classes into a single derived class\n",
    "- **single inheritence** is used to inherit the properties of the derived class into a sub-derived class"
   ]
  },
  {
   "cell_type": "code",
   "execution_count": 24,
   "id": "7069772f-ae00-4a28-839b-cebaa75a8fd8",
   "metadata": {},
   "outputs": [],
   "source": [
    "class BaseClass:\n",
    "    pass\n",
    "class Derived1(BaseClass):\n",
    "    pass\n",
    "class Derived2(BaseClass):\n",
    "    pass\n",
    "class Derived3(Derived1, Derived2):\n",
    "    pass"
   ]
  },
  {
   "cell_type": "markdown",
   "id": "932850a7-9ae9-473e-a534-6e5c329993ad",
   "metadata": {},
   "source": [
    "# HIERERCHIAL INHERITENCE\n",
    "- multiple subclasses inherit from a single BaseClass\n",
    "- a single base class acts as a parent class for multiple subclasses"
   ]
  },
  {
   "cell_type": "code",
   "execution_count": 25,
   "id": "a7765b00-9663-4db0-8c5e-1af491b86b71",
   "metadata": {},
   "outputs": [],
   "source": [
    "class BaseClass:\n",
    "    pass\n",
    "class Derived1(BaseClass):\n",
    "    pass\n",
    "class Derived2(BaseClass):\n",
    "    pass\n",
    "class Derived3(Derived1):\n",
    "    pass\n",
    "class Derived4(Derived1):\n",
    "    pass\n",
    "class Derived5(Derived2):\n",
    "    pass"
   ]
  },
  {
   "cell_type": "markdown",
   "id": "dcf629fc-5824-4558-86eb-f9c8fc5ad444",
   "metadata": {},
   "source": [
    "# Time Module in Python"
   ]
  },
  {
   "cell_type": "code",
   "execution_count": 28,
   "id": "348bb587-ab05-4123-bbaa-cb2bd4bab326",
   "metadata": {},
   "outputs": [
    {
     "name": "stdout",
     "output_type": "stream",
     "text": [
      "1755438775.4709878\n"
     ]
    }
   ],
   "source": [
    "import time\n",
    "print(time.time())"
   ]
  },
  {
   "cell_type": "code",
   "execution_count": 40,
   "id": "377332d4-1b01-48d3-b454-15f824791013",
   "metadata": {},
   "outputs": [
    {
     "name": "stdout",
     "output_type": "stream",
     "text": [
      "0.001001119613647461\n",
      "0.0029954910278320312\n"
     ]
    }
   ],
   "source": [
    "import time\n",
    "def usingWhile():\n",
    "    i = 0\n",
    "    while i<50000:\n",
    "        i = i+ 1\n",
    "        # print(i)\n",
    "def usingFor():\n",
    "    for i in range(50000):\n",
    "        pass\n",
    "init = time.time()\n",
    "usingFor()\n",
    "print(time.time() - init)\n",
    "init2 = time.time()\n",
    "usingWhile()\n",
    "print(time.time() - init2)"
   ]
  },
  {
   "cell_type": "code",
   "execution_count": null,
   "id": "be4a7249-f618-421d-b7fc-827a81ba5e7f",
   "metadata": {},
   "outputs": [],
   "source": []
  },
  {
   "cell_type": "code",
   "execution_count": null,
   "id": "85d515d0-35f3-4ec8-9ea6-71ea6005ecf7",
   "metadata": {},
   "outputs": [],
   "source": []
  }
 ],
 "metadata": {
  "kernelspec": {
   "display_name": "Python 3 (ipykernel)",
   "language": "python",
   "name": "python3"
  },
  "language_info": {
   "codemirror_mode": {
    "name": "ipython",
    "version": 3
   },
   "file_extension": ".py",
   "mimetype": "text/x-python",
   "name": "python",
   "nbconvert_exporter": "python",
   "pygments_lexer": "ipython3",
   "version": "3.11.13"
  }
 },
 "nbformat": 4,
 "nbformat_minor": 5
}
