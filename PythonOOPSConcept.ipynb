{
 "cells": [
  {
   "cell_type": "markdown",
   "id": "713b8467-f1ec-4bcc-bffe-36529dcbbaaf",
   "metadata": {},
   "source": [
    "# OOP [OBJECT ORIENTED PROGRAMMING]\n"
   ]
  },
  {
   "cell_type": "code",
   "execution_count": 6,
   "id": "6869c5e5-d085-41d2-aaee-fd1b5463ef01",
   "metadata": {},
   "outputs": [
    {
     "name": "stdout",
     "output_type": "stream",
     "text": [
      "Harry\n"
     ]
    }
   ],
   "source": [
    "class Person:\n",
    "    name = \"Harry\"\n",
    "    course = \"Mtech\"\n",
    "    department = \"CS\"\n",
    "    specialization = \"DSE\"\n",
    "    def info(self):\n",
    "        print(f\"{self.name} is a {self.course} student\")\n",
    "\n",
    "a = Person()\n",
    "print(a.name)"
   ]
  },
  {
   "cell_type": "markdown",
   "id": "f5793413-e597-4d23-afab-de02849f4863",
   "metadata": {},
   "source": [
    "- `Person` is the **class**\n",
    "- `a` is the **object** of the class `Person`\n",
    "- `self` parameter is a reference to the current instance of the class and is used to access variables that belongs to the class"
   ]
  },
  {
   "cell_type": "code",
   "execution_count": 7,
   "id": "246bd4eb-41ec-4b33-9ae1-911310df9f79",
   "metadata": {},
   "outputs": [
    {
     "name": "stdout",
     "output_type": "stream",
     "text": [
      "Akash\n"
     ]
    }
   ],
   "source": [
    "a.name = \"Akash\"\n",
    "print(a.name)"
   ]
  },
  {
   "cell_type": "code",
   "execution_count": 8,
   "id": "7e5f65df-18da-4ade-b6b0-7e0397af9e0f",
   "metadata": {},
   "outputs": [
    {
     "name": "stdout",
     "output_type": "stream",
     "text": [
      "Akash is a Mtech student\n"
     ]
    }
   ],
   "source": [
    "a.info()"
   ]
  },
  {
   "cell_type": "markdown",
   "id": "fd3145ca-e0a9-49c2-9c58-0d4c7b74586f",
   "metadata": {},
   "source": [
    "# Constructors\n",
    "- special method in a class used to create and initialize an object of a class.\n",
    "- invoked automatically when an object of a class is created\n",
    "- main purpose is to initialize or assign values to the data members of that class\n",
    "- cannot return any value other than `None`"
   ]
  },
  {
   "cell_type": "code",
   "execution_count": 10,
   "id": "d0e51273-8d37-4f95-8814-b95242b38d77",
   "metadata": {},
   "outputs": [
    {
     "name": "stdout",
     "output_type": "stream",
     "text": [
      "Akash is a MTech student.\n"
     ]
    }
   ],
   "source": [
    "class Student:\n",
    "    name = 'Akash'\n",
    "    course = 'MTech'\n",
    "    def info(self):\n",
    "        print(f\"{self.name} is a {self.course} student.\")\n",
    "a = Student()\n",
    "a.info()"
   ]
  },
  {
   "cell_type": "code",
   "execution_count": 15,
   "id": "42335bcc-5562-4ea3-b227-afd2c7f94990",
   "metadata": {},
   "outputs": [
    {
     "name": "stdout",
     "output_type": "stream",
     "text": [
      "Hey I am a student\n",
      "Hey I am a student\n"
     ]
    }
   ],
   "source": [
    "class Student:\n",
    "    #using constructor\n",
    "    def __init__(self, n, c):\n",
    "        print(\"Hey I am a student\")\n",
    "        self.name = n\n",
    "        self.course = c\n",
    "    def info(self):\n",
    "        print(f\"{self.name} is a {self.course} student.\")\n",
    "s1 = Student(\"Akash\", \"MTech\")\n",
    "s2 = Student(\"Arpan\", \"BTech\")"
   ]
  },
  {
   "cell_type": "code",
   "execution_count": 16,
   "id": "9cd4667e-f504-4bbe-9cdc-5380b43c8b4e",
   "metadata": {},
   "outputs": [
    {
     "name": "stdout",
     "output_type": "stream",
     "text": [
      "Akash is a MTech student.\n",
      "Arpan is a BTech student.\n"
     ]
    }
   ],
   "source": [
    "s1.info()\n",
    "s2.info()"
   ]
  },
  {
   "cell_type": "markdown",
   "id": "38c36a28-4f1d-44bc-aa1e-c22de224e500",
   "metadata": {},
   "source": [
    "# types of `constructor`\n",
    "- **Parameterized Constructor** - take argument\n",
    "- **Default Constructor** - don't take any argument, just take self in the constructor"
   ]
  },
  {
   "cell_type": "markdown",
   "id": "082b2d9c-0a8d-4034-91e2-c9a3e5760b5e",
   "metadata": {},
   "source": [
    "# Decorators\n",
    "- decorators are a powerful and versatile tool that allow you to modify the behavior of functions and methods.\n",
    "- They are a way to extend the functionality of a function or method modifying its source code.\n",
    "- decorator is a function that takes another function as an argument and returns a new function that modifies the behavior of the original function.\n",
    "- The new function is often referred to as a \"decorated' function."
   ]
  },
  {
   "cell_type": "code",
   "execution_count": 21,
   "id": "2cb654f3-9f49-4fdf-b187-ec17ed42cfba",
   "metadata": {},
   "outputs": [
    {
     "name": "stdout",
     "output_type": "stream",
     "text": [
      "Good Morning\n",
      "Hello World\n",
      "Thanks for using this function\n"
     ]
    }
   ],
   "source": [
    "def greet(fx):\n",
    "    def mfx():\n",
    "        print(\"Good Morning\")\n",
    "        fx()\n",
    "        print(\"Thanks for using this function\")\n",
    "    return mfx\n",
    "# option 1: use @greet before the function\n",
    "@greet\n",
    "def hello():\n",
    "    print(\"Hello World\")\n",
    "\n",
    "hello()"
   ]
  },
  {
   "cell_type": "code",
   "execution_count": 22,
   "id": "1de8478b-9aa3-4571-b787-4922988c9e55",
   "metadata": {},
   "outputs": [
    {
     "name": "stdout",
     "output_type": "stream",
     "text": [
      "Good Morning\n",
      "Hi, I am Akash\n",
      "Thanks for using this function\n"
     ]
    }
   ],
   "source": [
    "#option 2:\n",
    "def hi():\n",
    "    print(\"Hi, I am Akash\")\n",
    "\n",
    "greet(hi)()"
   ]
  },
  {
   "cell_type": "markdown",
   "id": "29f58726-7aa4-458b-8db6-e957e8aa6532",
   "metadata": {},
   "source": [
    "- use `@greet` or `greet(func)()`\n"
   ]
  },
  {
   "cell_type": "markdown",
   "id": "49fbff31-c49b-4d16-b0de-a18cba459885",
   "metadata": {},
   "source": [
    "# Getters\n",
    "- methods that are used to access the values of an object's properties.\n",
    "- used to return the value of a specific property and are typically defined using the @property decorator"
   ]
  },
  {
   "cell_type": "code",
   "execution_count": 51,
   "id": "174c8ebd-1a28-4c6e-a340-cda18fbc9704",
   "metadata": {},
   "outputs": [],
   "source": [
    "class MyClass:\n",
    "    def __init__(self, val):\n",
    "        self._value = val\n",
    "    def show(self):\n",
    "        print(f\"Value is {self._value}\")\n",
    "\n",
    "    @property\n",
    "    def value(self):\n",
    "        return self._value"
   ]
  },
  {
   "cell_type": "markdown",
   "id": "8e7d0fe1-04bb-4abb-bc1e-a61f628e7911",
   "metadata": {},
   "source": [
    "- `_value` is initialized in the init method\n",
    "- the value mathod is defined as a getter using the `@property` decorator\n",
    "- it is used to return the value of _value property"
   ]
  },
  {
   "cell_type": "code",
   "execution_count": 52,
   "id": "7caa6144-a3d7-4d19-b419-b40afbacb7ea",
   "metadata": {},
   "outputs": [
    {
     "name": "stdout",
     "output_type": "stream",
     "text": [
      "10\n",
      "Value is 10\n"
     ]
    }
   ],
   "source": [
    "obj = MyClass(10)\n",
    "a = obj.value\n",
    "print(a)\n",
    "obj.show()"
   ]
  },
  {
   "cell_type": "markdown",
   "id": "2872fe75-aa32-4069-8765-2528c16c57bf",
   "metadata": {},
   "source": [
    "# Setters\n",
    "- getter do not take any parameters and we can't set the value through getter method\n",
    "- setter method can added by decorating method with `@property_name.setter`"
   ]
  },
  {
   "cell_type": "code",
   "execution_count": 53,
   "id": "3a27b367-4391-4d7e-ae32-e082bba9f173",
   "metadata": {},
   "outputs": [],
   "source": [
    "class MyClass:\n",
    "    def __init__(self, val):\n",
    "        self._value = val\n",
    "    def show(self):\n",
    "        print(f\"Value is {self._value}\")\n",
    "\n",
    "    @property\n",
    "    def ten_value(self):\n",
    "        return self._value\n",
    "\n",
    "    @ten_value.setter\n",
    "    def ten_value(self, new_val):\n",
    "        self._value = new_val/10"
   ]
  },
  {
   "cell_type": "code",
   "execution_count": 54,
   "id": "aa3d26d1-8154-41f3-9f29-285e8f06db2d",
   "metadata": {},
   "outputs": [
    {
     "name": "stdout",
     "output_type": "stream",
     "text": [
      "7.8\n",
      "Value is 7.8\n"
     ]
    }
   ],
   "source": [
    "obj = MyClass(10)\n",
    "obj.ten_value = 78\n",
    "print(obj.ten_value)\n",
    "obj.show()"
   ]
  },
  {
   "cell_type": "markdown",
   "id": "2a44c3e5-47ce-4e92-82b2-62562d45c919",
   "metadata": {},
   "source": [
    "# Inheritence in Python\n",
    "- when a class is derives from another class. The child class will inherit all the public and protected oroperties from the parent class.\n",
    "- in addition, it can have its own properties and methods, this is called as inheritence"
   ]
  },
  {
   "cell_type": "code",
   "execution_count": 57,
   "id": "aec307d2-1b0e-49b8-87e7-d83bde150c26",
   "metadata": {},
   "outputs": [
    {
     "name": "stdout",
     "output_type": "stream",
     "text": [
      "The name of Employee: 410 is Rohan Das\n",
      "The name of Employee: 411 is Harry\n"
     ]
    }
   ],
   "source": [
    "class Employee:\n",
    "    def __init__(self, name, id):\n",
    "        self.name = name\n",
    "        self.id = id\n",
    "\n",
    "    def showDetails(self):\n",
    "        print(f\"The name of Employee: {self.id} is {self.name}\")\n",
    "\n",
    "e1 = Employee(\"Rohan Das\", 410)\n",
    "e1.showDetails()\n",
    "e2 = Employee(\"Harry\", 411)\n",
    "e2.showDetails()"
   ]
  },
  {
   "cell_type": "code",
   "execution_count": 58,
   "id": "0904accf-9c53-44e8-be91-302d64b37fb5",
   "metadata": {},
   "outputs": [],
   "source": [
    "class Programmer(Employee): #the new class Programmer is the child class of Employee\n",
    "    def showLanguage(self):\n",
    "        print(\"The default language is Python\")"
   ]
  },
  {
   "cell_type": "code",
   "execution_count": 59,
   "id": "316014fe-a790-400d-aa4c-7bc1693f0836",
   "metadata": {},
   "outputs": [
    {
     "name": "stdout",
     "output_type": "stream",
     "text": [
      "The name of Employee: 412 is Akash\n",
      "The default language is Python\n"
     ]
    }
   ],
   "source": [
    "e3 = Programmer(\"Akash\", 412)\n",
    "e3.showDetails()\n",
    "e3.showLanguage()"
   ]
  },
  {
   "cell_type": "markdown",
   "id": "9207aa8e-1682-435a-95ee-7b9d61b35866",
   "metadata": {},
   "source": [
    "**types of Inheritence**\n",
    "- Single Inheritence\n",
    "- Multiple Inheritence\n",
    "- Multilevel Inheritence\n",
    "- Hiererchial Inheritence\n",
    "- Hybrid Inheritence"
   ]
  },
  {
   "cell_type": "markdown",
   "id": "47924a7a-3b58-47bb-9c26-ced4a6e0a77e",
   "metadata": {},
   "source": [
    "# Access Modifiers/ Specifiers \n",
    "- access specifiers or access modifiers in python programming are used to limit the access of class variables and class methods outside of class while implementing the concepts of inheritence\n",
    "\n",
    "**types of access modifiers**\n",
    "- public access modifier\n",
    "- private access modifier\n",
    "- protected access mdoifier"
   ]
  },
  {
   "cell_type": "markdown",
   "id": "c950c24f-9b17-494a-b728-c4ed89e538dd",
   "metadata": {},
   "source": [
    "# Public Access Specifier\n",
    "- all the variables and methods in python are by default public\n",
    "- any instance variable in a class followed by the `self` keyword i.e. `self.var_name` are public accessed"
   ]
  },
  {
   "cell_type": "code",
   "execution_count": 60,
   "id": "449a7d0d-b877-4d54-8251-1a45fa4f0003",
   "metadata": {},
   "outputs": [
    {
     "name": "stdout",
     "output_type": "stream",
     "text": [
      "Akash\n"
     ]
    }
   ],
   "source": [
    "class Employee:\n",
    "    def __init__(self):\n",
    "        self.name = \"Akash\"\n",
    "a = Employee()\n",
    "print(a.name)"
   ]
  },
  {
   "cell_type": "markdown",
   "id": "0c67302b-afda-4c65-879d-ed63b3314782",
   "metadata": {},
   "source": [
    "# Private Access Specifier\n",
    "- private members of a class are those members which are only accessible inside the class.\n",
    "- we cannot use private members outside of class.\n",
    "- in python, there is no strict concept of \"private\" access modifiers like in some othe programming language.\n",
    "- however, a convention has been established to indicate that a variable or method should be considered private by prefixing its name with a **double underscore** `__`.\n",
    "- this is known as a \"weak internal use indicator\" and it is a convention only, not a strict rule.\n",
    "- Code outside the class can still access these \"private\" variables and methods, but it is generally understood that they should not be accessed or modified"
   ]
  },
  {
   "cell_type": "code",
   "execution_count": 61,
   "id": "3e133f79-dab2-4f42-aab6-fd5f4cea800d",
   "metadata": {},
   "outputs": [
    {
     "ename": "AttributeError",
     "evalue": "'Employee' object has no attribute '__name'",
     "output_type": "error",
     "traceback": [
      "\u001b[31m---------------------------------------------------------------------------\u001b[39m",
      "\u001b[31mAttributeError\u001b[39m                            Traceback (most recent call last)",
      "\u001b[36mCell\u001b[39m\u001b[36m \u001b[39m\u001b[32mIn[61]\u001b[39m\u001b[32m, line 5\u001b[39m\n\u001b[32m      3\u001b[39m         \u001b[38;5;28mself\u001b[39m.__name = \u001b[33m\"\u001b[39m\u001b[33mAkash\u001b[39m\u001b[33m\"\u001b[39m\n\u001b[32m      4\u001b[39m a = Employee()\n\u001b[32m----> \u001b[39m\u001b[32m5\u001b[39m \u001b[38;5;28mprint\u001b[39m(a.__name)\n",
      "\u001b[31mAttributeError\u001b[39m: 'Employee' object has no attribute '__name'"
     ]
    }
   ],
   "source": [
    "class Employee:\n",
    "    def __init__(self):\n",
    "        self.__name = \"Akash\"\n",
    "a = Employee()\n",
    "print(a.__name)"
   ]
  },
  {
   "cell_type": "code",
   "execution_count": 63,
   "id": "618831f8-2727-4cdf-aa53-ede9893493ca",
   "metadata": {},
   "outputs": [
    {
     "name": "stdout",
     "output_type": "stream",
     "text": [
      "Akash\n"
     ]
    }
   ],
   "source": [
    "# to access the private modifier outside the class indirectly\n",
    "print(a._Employee__name)"
   ]
  },
  {
   "cell_type": "code",
   "execution_count": 67,
   "id": "83819213-3d4a-4b2a-a619-adb8665b116b",
   "metadata": {},
   "outputs": [
    {
     "name": "stdout",
     "output_type": "stream",
     "text": [
      "['_Employee__name', '__module__', '__init__', '__dict__', '__weakref__', '__doc__', '__new__', '__repr__', '__hash__', '__str__', '__getattribute__', '__setattr__', '__delattr__', '__lt__', '__le__', '__eq__', '__ne__', '__gt__', '__ge__', '__reduce_ex__', '__reduce__', '__getstate__', '__subclasshook__', '__init_subclass__', '__format__', '__sizeof__', '__dir__', '__class__']\n"
     ]
    }
   ],
   "source": [
    "print(a.__dir__()) #print all methods that can be used with object a"
   ]
  },
  {
   "cell_type": "markdown",
   "id": "73e1c305-cd20-44b7-aca9-15ed9656f278",
   "metadata": {},
   "source": [
    "# Protected Access Modifier\n",
    "- it is used to describe a member of a class that is intended to be access only by the class itself and its subclasses\n",
    "- in python the convention for indicating that a member is protected is to prefix its name with a **single underscore** `_`"
   ]
  },
  {
   "cell_type": "code",
   "execution_count": 69,
   "id": "94bdf51c-df35-4b94-8885-07ed4d1072ad",
   "metadata": {},
   "outputs": [
    {
     "name": "stdout",
     "output_type": "stream",
     "text": [
      "Harry\n",
      "CodeWithHarry\n",
      "Harry\n",
      "CodeWithHarry\n"
     ]
    }
   ],
   "source": [
    "class Student:\n",
    "    def __init__(self):\n",
    "        self._name = \"Harry\"\n",
    "\n",
    "    def _funName(self): #protected method\n",
    "        return \"CodeWithHarry\"\n",
    "class Subject(Student): #inherited class\n",
    "    pass\n",
    "\n",
    "obj = Student()\n",
    "obj1 = Subject()\n",
    "\n",
    "#calling by object of Student Class\n",
    "print(obj._name)\n",
    "print(obj._funName())\n",
    "#calling by object of Subject class\n",
    "print(obj1._name)\n",
    "print(obj1._funName())"
   ]
  },
  {
   "cell_type": "code",
   "execution_count": 70,
   "id": "2ef2375e-71d0-45c0-8479-9e8c745e3a8c",
   "metadata": {},
   "outputs": [
    {
     "name": "stdout",
     "output_type": "stream",
     "text": [
      "['_name', '__module__', '__init__', '_funName', '__dict__', '__weakref__', '__doc__', '__new__', '__repr__', '__hash__', '__str__', '__getattribute__', '__setattr__', '__delattr__', '__lt__', '__le__', '__eq__', '__ne__', '__gt__', '__ge__', '__reduce_ex__', '__reduce__', '__getstate__', '__subclasshook__', '__init_subclass__', '__format__', '__sizeof__', '__dir__', '__class__']\n"
     ]
    }
   ],
   "source": [
    "print(obj.__dir__())"
   ]
  },
  {
   "cell_type": "markdown",
   "id": "533a7a83-4a57-4ed7-ab5b-26d07a793619",
   "metadata": {},
   "source": [
    "# Instance vs Class Variables\n",
    "- in Python, variables can be defined at the class level or at the instance level. Understanding the difference between these types of variables is crucial for writing efficient and maintainable code.\n",
    "- **Class variables** are defined at the class leel and are shared among all instances of the class.\n",
    "- they are defined outside of any method and are usually used to store information that is common to all instances of the class\n",
    "- Example, a class variable can be used to store the number of instances of a class that have been created"
   ]
  },
  {
   "cell_type": "code",
   "execution_count": 72,
   "id": "15854f2d-1ca7-4d92-ba2a-8d5ad912a9a3",
   "metadata": {},
   "outputs": [
    {
     "name": "stdout",
     "output_type": "stream",
     "text": [
      "The name of the Employee is Harry\n",
      "The name of the Employee is Harry\n"
     ]
    }
   ],
   "source": [
    "class Employee:\n",
    "    def __init__(self, name):\n",
    "        self.name = name\n",
    "    def showDetails(self):\n",
    "        print(f\"The name of the Employee is {self.name}\")\n",
    "\n",
    "emp1 = Employee(\"Harry\")\n",
    "emp1.showDetails()\n",
    "Employee.showDetails(emp1)"
   ]
  },
  {
   "cell_type": "markdown",
   "id": "ec972e34-b578-463e-add3-e9f0e1e21bca",
   "metadata": {},
   "source": [
    "# Python Class Methods\n"
   ]
  },
  {
   "cell_type": "code",
   "execution_count": 82,
   "id": "5f0bf294-5843-459c-b7c8-7a7c1801a604",
   "metadata": {},
   "outputs": [
    {
     "name": "stdout",
     "output_type": "stream",
     "text": [
      "The name is Akash and company is Apple\n"
     ]
    }
   ],
   "source": [
    "class Employee:\n",
    "    company = \"Apple\"\n",
    "    def show(self):\n",
    "        print(f\"The name is {self.name} and company is {self.company}\")\n",
    "    def changeCompany(cls, newCompany): #By default the first argument is taken as an instance not a class method\n",
    "        cls.company = newCompany\n",
    "\n",
    "e1 = Employee()\n",
    "e1.name = \"Akash\"\n",
    "e1.show()"
   ]
  },
  {
   "cell_type": "code",
   "execution_count": 83,
   "id": "cfb9161f-ed0f-4b64-9989-5a52eb72fc98",
   "metadata": {},
   "outputs": [
    {
     "name": "stdout",
     "output_type": "stream",
     "text": [
      "The name is Akash and company is Tesla\n"
     ]
    }
   ],
   "source": [
    "e1.changeCompany(\"Tesla\")\n",
    "e1.show()"
   ]
  },
  {
   "cell_type": "code",
   "execution_count": 84,
   "id": "00b37bc0-cb8a-49d3-9e14-10ae3dc64f63",
   "metadata": {},
   "outputs": [
    {
     "name": "stdout",
     "output_type": "stream",
     "text": [
      "Apple\n"
     ]
    }
   ],
   "source": [
    "print(Employee.company)"
   ]
  },
  {
   "cell_type": "code",
   "execution_count": 85,
   "id": "4947ec39-d52e-4894-8b08-091f0247aeb8",
   "metadata": {},
   "outputs": [
    {
     "name": "stdout",
     "output_type": "stream",
     "text": [
      "The name is Akash and company is Apple\n",
      "The name is Akash and company is Tesla\n",
      "Tesla\n"
     ]
    }
   ],
   "source": [
    "class Employee:\n",
    "    company = \"Apple\"\n",
    "    def show(self):\n",
    "        print(f\"The name is {self.name} and company is {self.company}\")\n",
    "    @classmethod #this will help change the Employee.company\n",
    "    def changeCompany(cls, newCompany):\n",
    "        cls.company = newCompany\n",
    "\n",
    "e1 = Employee()\n",
    "e1.name = \"Akash\"\n",
    "e1.show()\n",
    "e1.changeCompany(\"Tesla\")\n",
    "e1.show()\n",
    "print(Employee.company)"
   ]
  },
  {
   "cell_type": "markdown",
   "id": "e5b6050b-201a-4ef1-91ba-b08f3fc6c658",
   "metadata": {},
   "source": [
    "# Class Methods as Alternative Constructors"
   ]
  },
  {
   "cell_type": "code",
   "execution_count": 86,
   "id": "4a959bf2-a864-4b84-8984-c78699d27001",
   "metadata": {},
   "outputs": [
    {
     "name": "stdout",
     "output_type": "stream",
     "text": [
      "Akash\n",
      "12000\n"
     ]
    }
   ],
   "source": [
    "class Employee:\n",
    "    def __init__(self, name, salary):\n",
    "        self.name = name\n",
    "        self.salary = salary\n",
    "\n",
    "e = Employee(\"Akash\", 12000)\n",
    "print(e.name)\n",
    "print(e.salary)"
   ]
  },
  {
   "cell_type": "code",
   "execution_count": 89,
   "id": "740f33bc-65c3-42b3-8341-c848aa86920e",
   "metadata": {},
   "outputs": [
    {
     "name": "stdout",
     "output_type": "stream",
     "text": [
      "Arpan\n",
      "15000\n"
     ]
    }
   ],
   "source": [
    "string = \"Arpan-15000\"\n",
    "e1 = Employee(string.split(\"-\")[0],int(string.split(\"-\")[1]))\n",
    "print(e1.name)\n",
    "print(e1.salary)"
   ]
  },
  {
   "cell_type": "code",
   "execution_count": 90,
   "id": "52920dd0-3e9d-490f-98ee-9a711c943d97",
   "metadata": {},
   "outputs": [
    {
     "name": "stdout",
     "output_type": "stream",
     "text": [
      "Akash\n",
      "12000\n"
     ]
    }
   ],
   "source": [
    "#using class method in place of constructor\n",
    "class Employee:\n",
    "    def __init__(self, name, salary):\n",
    "        self.name = name\n",
    "        self.salary = salary\n",
    "\n",
    "    @classmethod\n",
    "    def fromStr(cls, string):\n",
    "        return cls(string.split(\"-\")[0],int(string.split(\"-\")[1]))\n",
    "e = Employee(\"Akash\", 12000)\n",
    "print(e.name)\n",
    "print(e.salary)"
   ]
  },
  {
   "cell_type": "code",
   "execution_count": 92,
   "id": "c2ff17fa-3b77-44d4-aca1-906e3092162a",
   "metadata": {},
   "outputs": [
    {
     "name": "stdout",
     "output_type": "stream",
     "text": [
      "Arpan\n",
      "15000\n"
     ]
    }
   ],
   "source": [
    "e2 = Employee.fromStr(\"Arpan-15000\")\n",
    "print(e2.name)\n",
    "print(e2.salary)"
   ]
  },
  {
   "cell_type": "markdown",
   "id": "ac6518d4-d221-4c9d-a5e8-000779d02184",
   "metadata": {},
   "source": [
    "# `dir()`, `__dict__`, and `help()`"
   ]
  },
  {
   "cell_type": "code",
   "execution_count": 93,
   "id": "7e3d94a3-bc3f-40d0-8e56-b7dc11c2c5ed",
   "metadata": {
    "scrolled": true
   },
   "outputs": [
    {
     "data": {
      "text/plain": [
       "['__add__',\n",
       " '__class__',\n",
       " '__class_getitem__',\n",
       " '__contains__',\n",
       " '__delattr__',\n",
       " '__delitem__',\n",
       " '__dir__',\n",
       " '__doc__',\n",
       " '__eq__',\n",
       " '__format__',\n",
       " '__ge__',\n",
       " '__getattribute__',\n",
       " '__getitem__',\n",
       " '__getstate__',\n",
       " '__gt__',\n",
       " '__hash__',\n",
       " '__iadd__',\n",
       " '__imul__',\n",
       " '__init__',\n",
       " '__init_subclass__',\n",
       " '__iter__',\n",
       " '__le__',\n",
       " '__len__',\n",
       " '__lt__',\n",
       " '__mul__',\n",
       " '__ne__',\n",
       " '__new__',\n",
       " '__reduce__',\n",
       " '__reduce_ex__',\n",
       " '__repr__',\n",
       " '__reversed__',\n",
       " '__rmul__',\n",
       " '__setattr__',\n",
       " '__setitem__',\n",
       " '__sizeof__',\n",
       " '__str__',\n",
       " '__subclasshook__',\n",
       " 'append',\n",
       " 'clear',\n",
       " 'copy',\n",
       " 'count',\n",
       " 'extend',\n",
       " 'index',\n",
       " 'insert',\n",
       " 'pop',\n",
       " 'remove',\n",
       " 'reverse',\n",
       " 'sort']"
      ]
     },
     "execution_count": 93,
     "metadata": {},
     "output_type": "execute_result"
    }
   ],
   "source": [
    "x = [1,2,3]\n",
    "dir(x)"
   ]
  },
  {
   "cell_type": "code",
   "execution_count": 96,
   "id": "535c732c-607e-4bb5-b3e5-4520648320c4",
   "metadata": {
    "collapsed": true,
    "jupyter": {
     "outputs_hidden": true
    }
   },
   "outputs": [
    {
     "name": "stdout",
     "output_type": "stream",
     "text": [
      "Help on list object:\n",
      "\n",
      "class list(object)\n",
      " |  list(iterable=(), /)\n",
      " |  \n",
      " |  Built-in mutable sequence.\n",
      " |  \n",
      " |  If no argument is given, the constructor creates a new empty list.\n",
      " |  The argument must be an iterable if specified.\n",
      " |  \n",
      " |  Methods defined here:\n",
      " |  \n",
      " |  __add__(self, value, /)\n",
      " |      Return self+value.\n",
      " |  \n",
      " |  __contains__(self, key, /)\n",
      " |      Return key in self.\n",
      " |  \n",
      " |  __delitem__(self, key, /)\n",
      " |      Delete self[key].\n",
      " |  \n",
      " |  __eq__(self, value, /)\n",
      " |      Return self==value.\n",
      " |  \n",
      " |  __ge__(self, value, /)\n",
      " |      Return self>=value.\n",
      " |  \n",
      " |  __getattribute__(self, name, /)\n",
      " |      Return getattr(self, name).\n",
      " |  \n",
      " |  __getitem__(...)\n",
      " |      x.__getitem__(y) <==> x[y]\n",
      " |  \n",
      " |  __gt__(self, value, /)\n",
      " |      Return self>value.\n",
      " |  \n",
      " |  __iadd__(self, value, /)\n",
      " |      Implement self+=value.\n",
      " |  \n",
      " |  __imul__(self, value, /)\n",
      " |      Implement self*=value.\n",
      " |  \n",
      " |  __init__(self, /, *args, **kwargs)\n",
      " |      Initialize self.  See help(type(self)) for accurate signature.\n",
      " |  \n",
      " |  __iter__(self, /)\n",
      " |      Implement iter(self).\n",
      " |  \n",
      " |  __le__(self, value, /)\n",
      " |      Return self<=value.\n",
      " |  \n",
      " |  __len__(self, /)\n",
      " |      Return len(self).\n",
      " |  \n",
      " |  __lt__(self, value, /)\n",
      " |      Return self<value.\n",
      " |  \n",
      " |  __mul__(self, value, /)\n",
      " |      Return self*value.\n",
      " |  \n",
      " |  __ne__(self, value, /)\n",
      " |      Return self!=value.\n",
      " |  \n",
      " |  __repr__(self, /)\n",
      " |      Return repr(self).\n",
      " |  \n",
      " |  __reversed__(self, /)\n",
      " |      Return a reverse iterator over the list.\n",
      " |  \n",
      " |  __rmul__(self, value, /)\n",
      " |      Return value*self.\n",
      " |  \n",
      " |  __setitem__(self, key, value, /)\n",
      " |      Set self[key] to value.\n",
      " |  \n",
      " |  __sizeof__(self, /)\n",
      " |      Return the size of the list in memory, in bytes.\n",
      " |  \n",
      " |  append(self, object, /)\n",
      " |      Append object to the end of the list.\n",
      " |  \n",
      " |  clear(self, /)\n",
      " |      Remove all items from list.\n",
      " |  \n",
      " |  copy(self, /)\n",
      " |      Return a shallow copy of the list.\n",
      " |  \n",
      " |  count(self, value, /)\n",
      " |      Return number of occurrences of value.\n",
      " |  \n",
      " |  extend(self, iterable, /)\n",
      " |      Extend list by appending elements from the iterable.\n",
      " |  \n",
      " |  index(self, value, start=0, stop=9223372036854775807, /)\n",
      " |      Return first index of value.\n",
      " |      \n",
      " |      Raises ValueError if the value is not present.\n",
      " |  \n",
      " |  insert(self, index, object, /)\n",
      " |      Insert object before index.\n",
      " |  \n",
      " |  pop(self, index=-1, /)\n",
      " |      Remove and return item at index (default last).\n",
      " |      \n",
      " |      Raises IndexError if list is empty or index is out of range.\n",
      " |  \n",
      " |  remove(self, value, /)\n",
      " |      Remove first occurrence of value.\n",
      " |      \n",
      " |      Raises ValueError if the value is not present.\n",
      " |  \n",
      " |  reverse(self, /)\n",
      " |      Reverse *IN PLACE*.\n",
      " |  \n",
      " |  sort(self, /, *, key=None, reverse=False)\n",
      " |      Sort the list in ascending order and return None.\n",
      " |      \n",
      " |      The sort is in-place (i.e. the list itself is modified) and stable (i.e. the\n",
      " |      order of two equal elements is maintained).\n",
      " |      \n",
      " |      If a key function is given, apply it once to each list item and sort them,\n",
      " |      ascending or descending, according to their function values.\n",
      " |      \n",
      " |      The reverse flag can be set to sort in descending order.\n",
      " |  \n",
      " |  ----------------------------------------------------------------------\n",
      " |  Class methods defined here:\n",
      " |  \n",
      " |  __class_getitem__(...)\n",
      " |      See PEP 585\n",
      " |  \n",
      " |  ----------------------------------------------------------------------\n",
      " |  Static methods defined here:\n",
      " |  \n",
      " |  __new__(*args, **kwargs)\n",
      " |      Create and return a new object.  See help(type) for accurate signature.\n",
      " |  \n",
      " |  ----------------------------------------------------------------------\n",
      " |  Data and other attributes defined here:\n",
      " |  \n",
      " |  __hash__ = None\n",
      "\n"
     ]
    }
   ],
   "source": [
    "help(x)"
   ]
  },
  {
   "cell_type": "code",
   "execution_count": 97,
   "id": "1b93ab50-47af-4be1-bc6e-ef298e6a1708",
   "metadata": {},
   "outputs": [
    {
     "data": {
      "text/plain": [
       "{'name': 'John', 'age': 30}"
      ]
     },
     "execution_count": 97,
     "metadata": {},
     "output_type": "execute_result"
    }
   ],
   "source": [
    "class Person:\n",
    "    def __init__(self, name, age):\n",
    "        self.name = name\n",
    "        self.age = age\n",
    "p = Person(\"John\", 30)\n",
    "p.__dict__"
   ]
  },
  {
   "cell_type": "code",
   "execution_count": 98,
   "id": "6bbe7272-1018-46e5-81ec-ca1e4706503a",
   "metadata": {},
   "outputs": [
    {
     "name": "stdout",
     "output_type": "stream",
     "text": [
      "Help on Person in module __main__ object:\n",
      "\n",
      "class Person(builtins.object)\n",
      " |  Person(name, age)\n",
      " |  \n",
      " |  Methods defined here:\n",
      " |  \n",
      " |  __init__(self, name, age)\n",
      " |      Initialize self.  See help(type(self)) for accurate signature.\n",
      " |  \n",
      " |  ----------------------------------------------------------------------\n",
      " |  Data descriptors defined here:\n",
      " |  \n",
      " |  __dict__\n",
      " |      dictionary for instance variables\n",
      " |  \n",
      " |  __weakref__\n",
      " |      list of weak references to the object\n",
      "\n"
     ]
    }
   ],
   "source": [
    "help(p)"
   ]
  },
  {
   "cell_type": "code",
   "execution_count": 100,
   "id": "0c6f3434-af6c-492c-9b24-c4f038c47646",
   "metadata": {
    "collapsed": true,
    "jupyter": {
     "outputs_hidden": true
    },
    "scrolled": true
   },
   "outputs": [
    {
     "name": "stdout",
     "output_type": "stream",
     "text": [
      "Help on class str in module builtins:\n",
      "\n",
      "class str(object)\n",
      " |  str(object='') -> str\n",
      " |  str(bytes_or_buffer[, encoding[, errors]]) -> str\n",
      " |  \n",
      " |  Create a new string object from the given object. If encoding or\n",
      " |  errors is specified, then the object must expose a data buffer\n",
      " |  that will be decoded using the given encoding and error handler.\n",
      " |  Otherwise, returns the result of object.__str__() (if defined)\n",
      " |  or repr(object).\n",
      " |  encoding defaults to sys.getdefaultencoding().\n",
      " |  errors defaults to 'strict'.\n",
      " |  \n",
      " |  Methods defined here:\n",
      " |  \n",
      " |  __add__(self, value, /)\n",
      " |      Return self+value.\n",
      " |  \n",
      " |  __contains__(self, key, /)\n",
      " |      Return key in self.\n",
      " |  \n",
      " |  __eq__(self, value, /)\n",
      " |      Return self==value.\n",
      " |  \n",
      " |  __format__(self, format_spec, /)\n",
      " |      Return a formatted version of the string as described by format_spec.\n",
      " |  \n",
      " |  __ge__(self, value, /)\n",
      " |      Return self>=value.\n",
      " |  \n",
      " |  __getattribute__(self, name, /)\n",
      " |      Return getattr(self, name).\n",
      " |  \n",
      " |  __getitem__(self, key, /)\n",
      " |      Return self[key].\n",
      " |  \n",
      " |  __getnewargs__(...)\n",
      " |  \n",
      " |  __gt__(self, value, /)\n",
      " |      Return self>value.\n",
      " |  \n",
      " |  __hash__(self, /)\n",
      " |      Return hash(self).\n",
      " |  \n",
      " |  __iter__(self, /)\n",
      " |      Implement iter(self).\n",
      " |  \n",
      " |  __le__(self, value, /)\n",
      " |      Return self<=value.\n",
      " |  \n",
      " |  __len__(self, /)\n",
      " |      Return len(self).\n",
      " |  \n",
      " |  __lt__(self, value, /)\n",
      " |      Return self<value.\n",
      " |  \n",
      " |  __mod__(self, value, /)\n",
      " |      Return self%value.\n",
      " |  \n",
      " |  __mul__(self, value, /)\n",
      " |      Return self*value.\n",
      " |  \n",
      " |  __ne__(self, value, /)\n",
      " |      Return self!=value.\n",
      " |  \n",
      " |  __repr__(self, /)\n",
      " |      Return repr(self).\n",
      " |  \n",
      " |  __rmod__(self, value, /)\n",
      " |      Return value%self.\n",
      " |  \n",
      " |  __rmul__(self, value, /)\n",
      " |      Return value*self.\n",
      " |  \n",
      " |  __sizeof__(self, /)\n",
      " |      Return the size of the string in memory, in bytes.\n",
      " |  \n",
      " |  __str__(self, /)\n",
      " |      Return str(self).\n",
      " |  \n",
      " |  capitalize(self, /)\n",
      " |      Return a capitalized version of the string.\n",
      " |      \n",
      " |      More specifically, make the first character have upper case and the rest lower\n",
      " |      case.\n",
      " |  \n",
      " |  casefold(self, /)\n",
      " |      Return a version of the string suitable for caseless comparisons.\n",
      " |  \n",
      " |  center(self, width, fillchar=' ', /)\n",
      " |      Return a centered string of length width.\n",
      " |      \n",
      " |      Padding is done using the specified fill character (default is a space).\n",
      " |  \n",
      " |  count(...)\n",
      " |      S.count(sub[, start[, end]]) -> int\n",
      " |      \n",
      " |      Return the number of non-overlapping occurrences of substring sub in\n",
      " |      string S[start:end].  Optional arguments start and end are\n",
      " |      interpreted as in slice notation.\n",
      " |  \n",
      " |  encode(self, /, encoding='utf-8', errors='strict')\n",
      " |      Encode the string using the codec registered for encoding.\n",
      " |      \n",
      " |      encoding\n",
      " |        The encoding in which to encode the string.\n",
      " |      errors\n",
      " |        The error handling scheme to use for encoding errors.\n",
      " |        The default is 'strict' meaning that encoding errors raise a\n",
      " |        UnicodeEncodeError.  Other possible values are 'ignore', 'replace' and\n",
      " |        'xmlcharrefreplace' as well as any other name registered with\n",
      " |        codecs.register_error that can handle UnicodeEncodeErrors.\n",
      " |  \n",
      " |  endswith(...)\n",
      " |      S.endswith(suffix[, start[, end]]) -> bool\n",
      " |      \n",
      " |      Return True if S ends with the specified suffix, False otherwise.\n",
      " |      With optional start, test S beginning at that position.\n",
      " |      With optional end, stop comparing S at that position.\n",
      " |      suffix can also be a tuple of strings to try.\n",
      " |  \n",
      " |  expandtabs(self, /, tabsize=8)\n",
      " |      Return a copy where all tab characters are expanded using spaces.\n",
      " |      \n",
      " |      If tabsize is not given, a tab size of 8 characters is assumed.\n",
      " |  \n",
      " |  find(...)\n",
      " |      S.find(sub[, start[, end]]) -> int\n",
      " |      \n",
      " |      Return the lowest index in S where substring sub is found,\n",
      " |      such that sub is contained within S[start:end].  Optional\n",
      " |      arguments start and end are interpreted as in slice notation.\n",
      " |      \n",
      " |      Return -1 on failure.\n",
      " |  \n",
      " |  format(...)\n",
      " |      S.format(*args, **kwargs) -> str\n",
      " |      \n",
      " |      Return a formatted version of S, using substitutions from args and kwargs.\n",
      " |      The substitutions are identified by braces ('{' and '}').\n",
      " |  \n",
      " |  format_map(...)\n",
      " |      S.format_map(mapping) -> str\n",
      " |      \n",
      " |      Return a formatted version of S, using substitutions from mapping.\n",
      " |      The substitutions are identified by braces ('{' and '}').\n",
      " |  \n",
      " |  index(...)\n",
      " |      S.index(sub[, start[, end]]) -> int\n",
      " |      \n",
      " |      Return the lowest index in S where substring sub is found,\n",
      " |      such that sub is contained within S[start:end].  Optional\n",
      " |      arguments start and end are interpreted as in slice notation.\n",
      " |      \n",
      " |      Raises ValueError when the substring is not found.\n",
      " |  \n",
      " |  isalnum(self, /)\n",
      " |      Return True if the string is an alpha-numeric string, False otherwise.\n",
      " |      \n",
      " |      A string is alpha-numeric if all characters in the string are alpha-numeric and\n",
      " |      there is at least one character in the string.\n",
      " |  \n",
      " |  isalpha(self, /)\n",
      " |      Return True if the string is an alphabetic string, False otherwise.\n",
      " |      \n",
      " |      A string is alphabetic if all characters in the string are alphabetic and there\n",
      " |      is at least one character in the string.\n",
      " |  \n",
      " |  isascii(self, /)\n",
      " |      Return True if all characters in the string are ASCII, False otherwise.\n",
      " |      \n",
      " |      ASCII characters have code points in the range U+0000-U+007F.\n",
      " |      Empty string is ASCII too.\n",
      " |  \n",
      " |  isdecimal(self, /)\n",
      " |      Return True if the string is a decimal string, False otherwise.\n",
      " |      \n",
      " |      A string is a decimal string if all characters in the string are decimal and\n",
      " |      there is at least one character in the string.\n",
      " |  \n",
      " |  isdigit(self, /)\n",
      " |      Return True if the string is a digit string, False otherwise.\n",
      " |      \n",
      " |      A string is a digit string if all characters in the string are digits and there\n",
      " |      is at least one character in the string.\n",
      " |  \n",
      " |  isidentifier(self, /)\n",
      " |      Return True if the string is a valid Python identifier, False otherwise.\n",
      " |      \n",
      " |      Call keyword.iskeyword(s) to test whether string s is a reserved identifier,\n",
      " |      such as \"def\" or \"class\".\n",
      " |  \n",
      " |  islower(self, /)\n",
      " |      Return True if the string is a lowercase string, False otherwise.\n",
      " |      \n",
      " |      A string is lowercase if all cased characters in the string are lowercase and\n",
      " |      there is at least one cased character in the string.\n",
      " |  \n",
      " |  isnumeric(self, /)\n",
      " |      Return True if the string is a numeric string, False otherwise.\n",
      " |      \n",
      " |      A string is numeric if all characters in the string are numeric and there is at\n",
      " |      least one character in the string.\n",
      " |  \n",
      " |  isprintable(self, /)\n",
      " |      Return True if the string is printable, False otherwise.\n",
      " |      \n",
      " |      A string is printable if all of its characters are considered printable in\n",
      " |      repr() or if it is empty.\n",
      " |  \n",
      " |  isspace(self, /)\n",
      " |      Return True if the string is a whitespace string, False otherwise.\n",
      " |      \n",
      " |      A string is whitespace if all characters in the string are whitespace and there\n",
      " |      is at least one character in the string.\n",
      " |  \n",
      " |  istitle(self, /)\n",
      " |      Return True if the string is a title-cased string, False otherwise.\n",
      " |      \n",
      " |      In a title-cased string, upper- and title-case characters may only\n",
      " |      follow uncased characters and lowercase characters only cased ones.\n",
      " |  \n",
      " |  isupper(self, /)\n",
      " |      Return True if the string is an uppercase string, False otherwise.\n",
      " |      \n",
      " |      A string is uppercase if all cased characters in the string are uppercase and\n",
      " |      there is at least one cased character in the string.\n",
      " |  \n",
      " |  join(self, iterable, /)\n",
      " |      Concatenate any number of strings.\n",
      " |      \n",
      " |      The string whose method is called is inserted in between each given string.\n",
      " |      The result is returned as a new string.\n",
      " |      \n",
      " |      Example: '.'.join(['ab', 'pq', 'rs']) -> 'ab.pq.rs'\n",
      " |  \n",
      " |  ljust(self, width, fillchar=' ', /)\n",
      " |      Return a left-justified string of length width.\n",
      " |      \n",
      " |      Padding is done using the specified fill character (default is a space).\n",
      " |  \n",
      " |  lower(self, /)\n",
      " |      Return a copy of the string converted to lowercase.\n",
      " |  \n",
      " |  lstrip(self, chars=None, /)\n",
      " |      Return a copy of the string with leading whitespace removed.\n",
      " |      \n",
      " |      If chars is given and not None, remove characters in chars instead.\n",
      " |  \n",
      " |  partition(self, sep, /)\n",
      " |      Partition the string into three parts using the given separator.\n",
      " |      \n",
      " |      This will search for the separator in the string.  If the separator is found,\n",
      " |      returns a 3-tuple containing the part before the separator, the separator\n",
      " |      itself, and the part after it.\n",
      " |      \n",
      " |      If the separator is not found, returns a 3-tuple containing the original string\n",
      " |      and two empty strings.\n",
      " |  \n",
      " |  removeprefix(self, prefix, /)\n",
      " |      Return a str with the given prefix string removed if present.\n",
      " |      \n",
      " |      If the string starts with the prefix string, return string[len(prefix):].\n",
      " |      Otherwise, return a copy of the original string.\n",
      " |  \n",
      " |  removesuffix(self, suffix, /)\n",
      " |      Return a str with the given suffix string removed if present.\n",
      " |      \n",
      " |      If the string ends with the suffix string and that suffix is not empty,\n",
      " |      return string[:-len(suffix)]. Otherwise, return a copy of the original\n",
      " |      string.\n",
      " |  \n",
      " |  replace(self, old, new, count=-1, /)\n",
      " |      Return a copy with all occurrences of substring old replaced by new.\n",
      " |      \n",
      " |        count\n",
      " |          Maximum number of occurrences to replace.\n",
      " |          -1 (the default value) means replace all occurrences.\n",
      " |      \n",
      " |      If the optional argument count is given, only the first count occurrences are\n",
      " |      replaced.\n",
      " |  \n",
      " |  rfind(...)\n",
      " |      S.rfind(sub[, start[, end]]) -> int\n",
      " |      \n",
      " |      Return the highest index in S where substring sub is found,\n",
      " |      such that sub is contained within S[start:end].  Optional\n",
      " |      arguments start and end are interpreted as in slice notation.\n",
      " |      \n",
      " |      Return -1 on failure.\n",
      " |  \n",
      " |  rindex(...)\n",
      " |      S.rindex(sub[, start[, end]]) -> int\n",
      " |      \n",
      " |      Return the highest index in S where substring sub is found,\n",
      " |      such that sub is contained within S[start:end].  Optional\n",
      " |      arguments start and end are interpreted as in slice notation.\n",
      " |      \n",
      " |      Raises ValueError when the substring is not found.\n",
      " |  \n",
      " |  rjust(self, width, fillchar=' ', /)\n",
      " |      Return a right-justified string of length width.\n",
      " |      \n",
      " |      Padding is done using the specified fill character (default is a space).\n",
      " |  \n",
      " |  rpartition(self, sep, /)\n",
      " |      Partition the string into three parts using the given separator.\n",
      " |      \n",
      " |      This will search for the separator in the string, starting at the end. If\n",
      " |      the separator is found, returns a 3-tuple containing the part before the\n",
      " |      separator, the separator itself, and the part after it.\n",
      " |      \n",
      " |      If the separator is not found, returns a 3-tuple containing two empty strings\n",
      " |      and the original string.\n",
      " |  \n",
      " |  rsplit(self, /, sep=None, maxsplit=-1)\n",
      " |      Return a list of the substrings in the string, using sep as the separator string.\n",
      " |      \n",
      " |        sep\n",
      " |          The separator used to split the string.\n",
      " |      \n",
      " |          When set to None (the default value), will split on any whitespace\n",
      " |          character (including \\n \\r \\t \\f and spaces) and will discard\n",
      " |          empty strings from the result.\n",
      " |        maxsplit\n",
      " |          Maximum number of splits.\n",
      " |          -1 (the default value) means no limit.\n",
      " |      \n",
      " |      Splitting starts at the end of the string and works to the front.\n",
      " |  \n",
      " |  rstrip(self, chars=None, /)\n",
      " |      Return a copy of the string with trailing whitespace removed.\n",
      " |      \n",
      " |      If chars is given and not None, remove characters in chars instead.\n",
      " |  \n",
      " |  split(self, /, sep=None, maxsplit=-1)\n",
      " |      Return a list of the substrings in the string, using sep as the separator string.\n",
      " |      \n",
      " |        sep\n",
      " |          The separator used to split the string.\n",
      " |      \n",
      " |          When set to None (the default value), will split on any whitespace\n",
      " |          character (including \\n \\r \\t \\f and spaces) and will discard\n",
      " |          empty strings from the result.\n",
      " |        maxsplit\n",
      " |          Maximum number of splits.\n",
      " |          -1 (the default value) means no limit.\n",
      " |      \n",
      " |      Splitting starts at the front of the string and works to the end.\n",
      " |      \n",
      " |      Note, str.split() is mainly useful for data that has been intentionally\n",
      " |      delimited.  With natural text that includes punctuation, consider using\n",
      " |      the regular expression module.\n",
      " |  \n",
      " |  splitlines(self, /, keepends=False)\n",
      " |      Return a list of the lines in the string, breaking at line boundaries.\n",
      " |      \n",
      " |      Line breaks are not included in the resulting list unless keepends is given and\n",
      " |      true.\n",
      " |  \n",
      " |  startswith(...)\n",
      " |      S.startswith(prefix[, start[, end]]) -> bool\n",
      " |      \n",
      " |      Return True if S starts with the specified prefix, False otherwise.\n",
      " |      With optional start, test S beginning at that position.\n",
      " |      With optional end, stop comparing S at that position.\n",
      " |      prefix can also be a tuple of strings to try.\n",
      " |  \n",
      " |  strip(self, chars=None, /)\n",
      " |      Return a copy of the string with leading and trailing whitespace removed.\n",
      " |      \n",
      " |      If chars is given and not None, remove characters in chars instead.\n",
      " |  \n",
      " |  swapcase(self, /)\n",
      " |      Convert uppercase characters to lowercase and lowercase characters to uppercase.\n",
      " |  \n",
      " |  title(self, /)\n",
      " |      Return a version of the string where each word is titlecased.\n",
      " |      \n",
      " |      More specifically, words start with uppercased characters and all remaining\n",
      " |      cased characters have lower case.\n",
      " |  \n",
      " |  translate(self, table, /)\n",
      " |      Replace each character in the string using the given translation table.\n",
      " |      \n",
      " |        table\n",
      " |          Translation table, which must be a mapping of Unicode ordinals to\n",
      " |          Unicode ordinals, strings, or None.\n",
      " |      \n",
      " |      The table must implement lookup/indexing via __getitem__, for instance a\n",
      " |      dictionary or list.  If this operation raises LookupError, the character is\n",
      " |      left untouched.  Characters mapped to None are deleted.\n",
      " |  \n",
      " |  upper(self, /)\n",
      " |      Return a copy of the string converted to uppercase.\n",
      " |  \n",
      " |  zfill(self, width, /)\n",
      " |      Pad a numeric string with zeros on the left, to fill a field of the given width.\n",
      " |      \n",
      " |      The string is never truncated.\n",
      " |  \n",
      " |  ----------------------------------------------------------------------\n",
      " |  Static methods defined here:\n",
      " |  \n",
      " |  __new__(*args, **kwargs)\n",
      " |      Create and return a new object.  See help(type) for accurate signature.\n",
      " |  \n",
      " |  maketrans(...)\n",
      " |      Return a translation table usable for str.translate().\n",
      " |      \n",
      " |      If there is only one argument, it must be a dictionary mapping Unicode\n",
      " |      ordinals (integers) or characters to Unicode ordinals, strings or None.\n",
      " |      Character keys will be then converted to ordinals.\n",
      " |      If there are two arguments, they must be strings of equal length, and\n",
      " |      in the resulting dictionary, each character in x will be mapped to the\n",
      " |      character at the same position in y. If there is a third argument, it\n",
      " |      must be a string, whose characters will be mapped to None in the result.\n",
      "\n",
      "None\n"
     ]
    }
   ],
   "source": [
    "print(help(str))"
   ]
  },
  {
   "cell_type": "markdown",
   "id": "85ab2c2e-9cf9-462f-b5f9-f93f3ad30df0",
   "metadata": {},
   "source": [
    "# super keyword in Python\n",
    "- `super()` keyword in Python is used to refer to the parent class.\n",
    "- when a class inherits from a parent class, it can override or extend the methods defined in the parent class. However, sometimes you might want to use the parent class method in the child class. This is where the super() keyword comes in handy."
   ]
  },
  {
   "cell_type": "code",
   "execution_count": 104,
   "id": "6ac89ed9-3e53-4269-bd88-35564f9e0fe3",
   "metadata": {},
   "outputs": [
    {
     "name": "stdout",
     "output_type": "stream",
     "text": [
      "This is the child method\n",
      "Akash\n",
      "This is the parent method\n"
     ]
    }
   ],
   "source": [
    "class ParentClass:\n",
    "    def parent_method(self):\n",
    "        print(\"This is the parent method\")\n",
    "class ChildClass(ParentClass):\n",
    "    def parent_method(self):\n",
    "        print(\"Akash\")\n",
    "    def child_method(self):\n",
    "        print(\"This is the child method\")\n",
    "        self.parent_method()\n",
    "        super().parent_method()\n",
    "\n",
    "child_object = ChildClass()\n",
    "child_object.child_method()"
   ]
  },
  {
   "cell_type": "markdown",
   "id": "5cbf262f-9c17-4aa7-aa70-179faf4c685f",
   "metadata": {},
   "source": [
    "# Method Overriding in Python"
   ]
  },
  {
   "cell_type": "code",
   "execution_count": 105,
   "id": "7eb9e46b-bc93-4474-afb0-b7e7b9b1fe2f",
   "metadata": {},
   "outputs": [
    {
     "name": "stdout",
     "output_type": "stream",
     "text": [
      "15\n"
     ]
    }
   ],
   "source": [
    "class Shape:\n",
    "    def __init__(self, x, y):\n",
    "        self.x = x\n",
    "        self.y = y\n",
    "    def area(self):\n",
    "        return self.x * self.y\n",
    "rec = Shape(3,5)\n",
    "print(rec.area())"
   ]
  },
  {
   "cell_type": "code",
   "execution_count": 108,
   "id": "7557068f-d962-4d19-9054-e96b81edf67f",
   "metadata": {},
   "outputs": [
    {
     "name": "stdout",
     "output_type": "stream",
     "text": [
      "78.5\n"
     ]
    }
   ],
   "source": [
    "class Circle(Shape):\n",
    "    def __init__(self, r):\n",
    "        self.r = r\n",
    "        super().__init__(r, r)\n",
    "    def area(self):\n",
    "        return 3.14 * super().area()\n",
    "\n",
    "rec1 = Circle(5)\n",
    "print(rec1.area())"
   ]
  },
  {
   "cell_type": "markdown",
   "id": "40bcb47b-ee42-4d50-afe4-c29e56afddaf",
   "metadata": {},
   "source": [
    "# Operator Overloading"
   ]
  },
  {
   "cell_type": "code",
   "execution_count": 11,
   "id": "041f7f9e-2a3d-4d70-875c-e3e8ce68fba2",
   "metadata": {},
   "outputs": [
    {
     "name": "stdout",
     "output_type": "stream",
     "text": [
      "3i + 5j + 6k\n",
      "1i + 2j + 9k\n"
     ]
    }
   ],
   "source": [
    "class Vector:\n",
    "    def __init__(self, i, j, k):\n",
    "        self.i = i\n",
    "        self.j = j\n",
    "        self.k = k\n",
    "    def __str__(self):\n",
    "        return f\"{self.i}i + {self.j}j + {self.k}k\"\n",
    "    def __add__(self, x):\n",
    "        return Vector(self.i + x.i, self.j + x.j, self.k + x.k) #operator overloading\n",
    "v1 = Vector(3, 5, 6)\n",
    "print(v1)\n",
    "v2 = Vector(1, 2, 9)\n",
    "print(v2)"
   ]
  },
  {
   "cell_type": "code",
   "execution_count": 12,
   "id": "66ed8de2-603b-4544-9bf0-ba4a09b28281",
   "metadata": {},
   "outputs": [
    {
     "name": "stdout",
     "output_type": "stream",
     "text": [
      "4i + 7j + 15k\n"
     ]
    }
   ],
   "source": [
    "print(v1+v2)"
   ]
  },
  {
   "cell_type": "code",
   "execution_count": 13,
   "id": "1f2926cf-954b-45cb-add5-af98f55d688f",
   "metadata": {},
   "outputs": [
    {
     "name": "stdout",
     "output_type": "stream",
     "text": [
      "<class '__main__.Vector'>\n"
     ]
    }
   ],
   "source": [
    "print(type(v1+v2))"
   ]
  },
  {
   "cell_type": "markdown",
   "id": "0ebff2b0-c958-49c3-8517-9299c0defe18",
   "metadata": {},
   "source": [
    "# SINGLE INHERITENCE\n",
    "- where a class inherits properties and behaviors from a single parent class\n",
    "- simplest and most common form of inheritence"
   ]
  },
  {
   "cell_type": "markdown",
   "id": "87fdaf41-017e-4ea0-b808-28203c1a45cf",
   "metadata": {},
   "source": [
    "# MULTIPLE INHERITENCE\n",
    "- it allows a class to inherit attributes and methods from multiple parent classes\n",
    "- this can be useful in situations where a class needs to inherit functionality from multiple sources"
   ]
  },
  {
   "cell_type": "code",
   "execution_count": 16,
   "id": "04ab2d72-ceb3-4e9e-82c0-15533713696e",
   "metadata": {},
   "outputs": [
    {
     "name": "stdout",
     "output_type": "stream",
     "text": [
      "Shivani\n",
      "Kathak\n",
      "The name is Shivani\n"
     ]
    }
   ],
   "source": [
    "class Employee:\n",
    "    def __init__(self, name):\n",
    "        self.name = name\n",
    "    def show(self):\n",
    "        print(f\"The name is {self.name}\")\n",
    "class Dancer:\n",
    "    def __init__(self, dance):\n",
    "        self.dance = dance\n",
    "    def show(self):\n",
    "        print(f\"The dance is {self.dance}\")\n",
    "class DancerEmployee(Employee, Dancer):\n",
    "    def __init__(self, dance, name):\n",
    "        self.dance = dance\n",
    "        self.name = name\n",
    "o = DancerEmployee(\"Kathak\", \"Shivani\")\n",
    "print(o.name)\n",
    "print(o.dance)\n",
    "o.show()"
   ]
  },
  {
   "cell_type": "code",
   "execution_count": 17,
   "id": "12c6a1ad-bdd2-47f9-9161-477d036b7e63",
   "metadata": {},
   "outputs": [
    {
     "name": "stdout",
     "output_type": "stream",
     "text": [
      "Shivani\n",
      "Kathak\n",
      "The dance is Kathak\n"
     ]
    }
   ],
   "source": [
    "class Employee:\n",
    "    def __init__(self, name):\n",
    "        self.name = name\n",
    "    def show(self):\n",
    "        print(f\"The name is {self.name}\")\n",
    "class Dancer:\n",
    "    def __init__(self, dance):\n",
    "        self.dance = dance\n",
    "    def show(self):\n",
    "        print(f\"The dance is {self.dance}\")\n",
    "class DancerEmployee(Dancer, Employee):\n",
    "    def __init__(self, dance, name):\n",
    "        self.dance = dance\n",
    "        self.name = name\n",
    "o = DancerEmployee(\"Kathak\", \"Shivani\")\n",
    "print(o.name)\n",
    "print(o.dance)\n",
    "o.show()"
   ]
  },
  {
   "cell_type": "code",
   "execution_count": 19,
   "id": "f5d7e106-2076-4fad-9ec9-16dc095439ec",
   "metadata": {},
   "outputs": [
    {
     "name": "stdout",
     "output_type": "stream",
     "text": [
      "[<class '__main__.DancerEmployee'>, <class '__main__.Dancer'>, <class '__main__.Employee'>, <class 'object'>]\n"
     ]
    }
   ],
   "source": [
    "print(DancerEmployee.mro()) #where the object will be searched first"
   ]
  },
  {
   "cell_type": "markdown",
   "id": "6eb236c7-504d-4c43-8826-f29ccde49ce7",
   "metadata": {},
   "source": [
    "# MULTILEVEL INHERITENCE\n",
    "- a derived class inherits from another derived class\n",
    "- this type of inheritence allows you to build a hiererchy of classes where one class builds upon another, leading to a more specialized class\n",
    "- in python multilevel inheritence is achieved by using the class hiererchy\n",
    "\n",
    "***Grandparent Class*** -> ***Parent Class*** -> ***Child Class***"
   ]
  },
  {
   "cell_type": "code",
   "execution_count": 21,
   "id": "8bc178c9-2181-4880-be9a-42f576b73f0d",
   "metadata": {},
   "outputs": [],
   "source": [
    "class Animal:\n",
    "    def __init__(self, name, species):\n",
    "        self.name = name\n",
    "        self.species = species\n",
    "    def show_details(self):\n",
    "        print(f\"Name: {self.name}\")\n",
    "        print(f\"Species: {self.species}\")\n",
    "class Dog(Animal):\n",
    "    def __init__(self, name, breed):\n",
    "        Animal.__init__(self, name, species = \"Dog\")\n",
    "        self.breed = breed\n",
    "    def show_details(self):\n",
    "        Animal.show_details(self)\n",
    "        print(f\"Breed: {self.breed}\")\n",
    "class GoldenRetriever(Dog):\n",
    "    def __init__(self, name, color):\n",
    "        Dog.__init__(self, name, breed = \"Golden Retriever\")\n",
    "        self.color = color\n",
    "    def show_details(self):\n",
    "        Dog.show_details(self)\n",
    "        print(f\"Color: {self.color}\")"
   ]
  },
  {
   "cell_type": "code",
   "execution_count": 22,
   "id": "89094af6-dcd9-41c3-bbe4-eef8306c8eeb",
   "metadata": {},
   "outputs": [
    {
     "name": "stdout",
     "output_type": "stream",
     "text": [
      "Name: Tommy\n",
      "Species: Dog\n",
      "Breed: Golden Retriever\n",
      "Color: Brown\n"
     ]
    }
   ],
   "source": [
    "a = GoldenRetriever(\"Tommy\", \"Brown\")\n",
    "a.show_details()"
   ]
  },
  {
   "cell_type": "code",
   "execution_count": 23,
   "id": "ab15f471-ddd6-4f8f-96d7-bd05dff0cc5b",
   "metadata": {},
   "outputs": [
    {
     "name": "stdout",
     "output_type": "stream",
     "text": [
      "[<class '__main__.GoldenRetriever'>, <class '__main__.Dog'>, <class '__main__.Animal'>, <class 'object'>]\n"
     ]
    }
   ],
   "source": [
    "print(GoldenRetriever.mro())"
   ]
  },
  {
   "cell_type": "markdown",
   "id": "e396c426-33b1-4647-8a6b-f3f010fe2aec",
   "metadata": {},
   "source": [
    "# HYBRID INHERITENCE\n",
    "- combination of multiple inheritence and single inheritence\n",
    "- **multiple inheritence** is used to inherit the properties of multiple base classes into a single derived class\n",
    "- **single inheritence** is used to inherit the properties of the derived class into a sub-derived class"
   ]
  },
  {
   "cell_type": "code",
   "execution_count": 24,
   "id": "7069772f-ae00-4a28-839b-cebaa75a8fd8",
   "metadata": {},
   "outputs": [],
   "source": [
    "class BaseClass:\n",
    "    pass\n",
    "class Derived1(BaseClass):\n",
    "    pass\n",
    "class Derived2(BaseClass):\n",
    "    pass\n",
    "class Derived3(Derived1, Derived2):\n",
    "    pass"
   ]
  },
  {
   "cell_type": "markdown",
   "id": "932850a7-9ae9-473e-a534-6e5c329993ad",
   "metadata": {},
   "source": [
    "# HIERERCHIAL INHERITENCE\n",
    "- multiple subclasses inherit from a single BaseClass\n",
    "- a single base class acts as a parent class for multiple subclasses"
   ]
  },
  {
   "cell_type": "code",
   "execution_count": 25,
   "id": "a7765b00-9663-4db0-8c5e-1af491b86b71",
   "metadata": {},
   "outputs": [],
   "source": [
    "class BaseClass:\n",
    "    pass\n",
    "class Derived1(BaseClass):\n",
    "    pass\n",
    "class Derived2(BaseClass):\n",
    "    pass\n",
    "class Derived3(Derived1):\n",
    "    pass\n",
    "class Derived4(Derived1):\n",
    "    pass\n",
    "class Derived5(Derived2):\n",
    "    pass"
   ]
  },
  {
   "cell_type": "markdown",
   "id": "dcf629fc-5824-4558-86eb-f9c8fc5ad444",
   "metadata": {},
   "source": [
    "# Time Module in Python"
   ]
  },
  {
   "cell_type": "code",
   "execution_count": 28,
   "id": "348bb587-ab05-4123-bbaa-cb2bd4bab326",
   "metadata": {},
   "outputs": [
    {
     "name": "stdout",
     "output_type": "stream",
     "text": [
      "1755438775.4709878\n"
     ]
    }
   ],
   "source": [
    "import time\n",
    "print(time.time())"
   ]
  },
  {
   "cell_type": "code",
   "execution_count": 40,
   "id": "377332d4-1b01-48d3-b454-15f824791013",
   "metadata": {},
   "outputs": [
    {
     "name": "stdout",
     "output_type": "stream",
     "text": [
      "0.001001119613647461\n",
      "0.0029954910278320312\n"
     ]
    }
   ],
   "source": [
    "import time\n",
    "def usingWhile():\n",
    "    i = 0\n",
    "    while i<50000:\n",
    "        i = i+ 1\n",
    "        # print(i)\n",
    "def usingFor():\n",
    "    for i in range(50000):\n",
    "        pass\n",
    "init = time.time()\n",
    "usingFor()\n",
    "print(time.time() - init)\n",
    "init2 = time.time()\n",
    "usingWhile()\n",
    "print(time.time() - init2)"
   ]
  },
  {
   "cell_type": "markdown",
   "id": "31b975e2-a7d4-4f79-97f5-c91c112d4397",
   "metadata": {},
   "source": [
    "# Creating Command Line Utility in Python\n",
    "- command line utilities are programs that can be run from the terminal or command line interface, and they are essential part of many development workflows.\n",
    "- In python, you can create your own command line utilities using the built-in `argparse` module"
   ]
  },
  {
   "cell_type": "code",
   "execution_count": 2,
   "id": "85d515d0-35f3-4ec8-9ea6-71ea6005ecf7",
   "metadata": {},
   "outputs": [
    {
     "name": "stdout",
     "output_type": "stream",
     "text": [
      "['Action', 'ArgumentDefaultsHelpFormatter', 'ArgumentError', 'ArgumentParser', 'ArgumentTypeError', 'BooleanOptionalAction', 'FileType', 'HelpFormatter', 'MetavarTypeHelpFormatter', 'Namespace', 'ONE_OR_MORE', 'OPTIONAL', 'PARSER', 'REMAINDER', 'RawDescriptionHelpFormatter', 'RawTextHelpFormatter', 'SUPPRESS', 'ZERO_OR_MORE', '_', '_ActionsContainer', '_AppendAction', '_AppendConstAction', '_ArgumentGroup', '_AttributeHolder', '_CountAction', '_ExtendAction', '_HelpAction', '_MutuallyExclusiveGroup', '_StoreAction', '_StoreConstAction', '_StoreFalseAction', '_StoreTrueAction', '_SubParsersAction', '_UNRECOGNIZED_ARGS_ATTR', '_VersionAction', '__all__', '__builtins__', '__cached__', '__doc__', '__file__', '__loader__', '__name__', '__package__', '__spec__', '__version__', '_copy_items', '_get_action_name', '_os', '_re', '_sys', 'ngettext', 'warnings']\n"
     ]
    }
   ],
   "source": [
    "import argparse\n",
    "print(dir(argparse))"
   ]
  },
  {
   "cell_type": "code",
   "execution_count": 4,
   "id": "e53a4326-da7a-4748-a944-8489107d1dbb",
   "metadata": {
    "collapsed": true,
    "jupyter": {
     "outputs_hidden": true
    },
    "scrolled": true
   },
   "outputs": [
    {
     "name": "stdout",
     "output_type": "stream",
     "text": [
      "Help on ArgumentParser in module argparse object:\n",
      "\n",
      "class ArgumentParser(_AttributeHolder, _ActionsContainer)\n",
      " |  ArgumentParser(prog=None, usage=None, description=None, epilog=None, parents=[], formatter_class=<class 'argparse.HelpFormatter'>, prefix_chars='-', fromfile_prefix_chars=None, argument_default=None, conflict_handler='error', add_help=True, allow_abbrev=True, exit_on_error=True)\n",
      " |  \n",
      " |  Object for parsing command line strings into Python objects.\n",
      " |  \n",
      " |  Keyword Arguments:\n",
      " |      - prog -- The name of the program (default:\n",
      " |          ``os.path.basename(sys.argv[0])``)\n",
      " |      - usage -- A usage message (default: auto-generated from arguments)\n",
      " |      - description -- A description of what the program does\n",
      " |      - epilog -- Text following the argument descriptions\n",
      " |      - parents -- Parsers whose arguments should be copied into this one\n",
      " |      - formatter_class -- HelpFormatter class for printing help messages\n",
      " |      - prefix_chars -- Characters that prefix optional arguments\n",
      " |      - fromfile_prefix_chars -- Characters that prefix files containing\n",
      " |          additional arguments\n",
      " |      - argument_default -- The default value for all arguments\n",
      " |      - conflict_handler -- String indicating how to handle conflicts\n",
      " |      - add_help -- Add a -h/-help option\n",
      " |      - allow_abbrev -- Allow long options to be abbreviated unambiguously\n",
      " |      - exit_on_error -- Determines whether or not ArgumentParser exits with\n",
      " |          error info when an error occurs\n",
      " |  \n",
      " |  Method resolution order:\n",
      " |      ArgumentParser\n",
      " |      _AttributeHolder\n",
      " |      _ActionsContainer\n",
      " |      builtins.object\n",
      " |  \n",
      " |  Methods defined here:\n",
      " |  \n",
      " |  __init__(self, prog=None, usage=None, description=None, epilog=None, parents=[], formatter_class=<class 'argparse.HelpFormatter'>, prefix_chars='-', fromfile_prefix_chars=None, argument_default=None, conflict_handler='error', add_help=True, allow_abbrev=True, exit_on_error=True)\n",
      " |      Initialize self.  See help(type(self)) for accurate signature.\n",
      " |  \n",
      " |  add_subparsers(self, **kwargs)\n",
      " |      # ==================================\n",
      " |      # Optional/Positional adding methods\n",
      " |      # ==================================\n",
      " |  \n",
      " |  convert_arg_line_to_args(self, arg_line)\n",
      " |  \n",
      " |  error(self, message)\n",
      " |      error(message: string)\n",
      " |      \n",
      " |      Prints a usage message incorporating the message to stderr and\n",
      " |      exits.\n",
      " |      \n",
      " |      If you override this in a subclass, it should not return -- it\n",
      " |      should either exit or raise an exception.\n",
      " |  \n",
      " |  exit(self, status=0, message=None)\n",
      " |      # ===============\n",
      " |      # Exiting methods\n",
      " |      # ===============\n",
      " |  \n",
      " |  format_help(self)\n",
      " |  \n",
      " |  format_usage(self)\n",
      " |      # =======================\n",
      " |      # Help-formatting methods\n",
      " |      # =======================\n",
      " |  \n",
      " |  parse_args(self, args=None, namespace=None)\n",
      " |      # =====================================\n",
      " |      # Command line argument parsing methods\n",
      " |      # =====================================\n",
      " |  \n",
      " |  parse_intermixed_args(self, args=None, namespace=None)\n",
      " |  \n",
      " |  parse_known_args(self, args=None, namespace=None)\n",
      " |  \n",
      " |  parse_known_intermixed_args(self, args=None, namespace=None)\n",
      " |  \n",
      " |  print_help(self, file=None)\n",
      " |  \n",
      " |  print_usage(self, file=None)\n",
      " |      # =====================\n",
      " |      # Help-printing methods\n",
      " |      # =====================\n",
      " |  \n",
      " |  ----------------------------------------------------------------------\n",
      " |  Methods inherited from _AttributeHolder:\n",
      " |  \n",
      " |  __repr__(self)\n",
      " |      Return repr(self).\n",
      " |  \n",
      " |  ----------------------------------------------------------------------\n",
      " |  Data descriptors inherited from _AttributeHolder:\n",
      " |  \n",
      " |  __dict__\n",
      " |      dictionary for instance variables\n",
      " |  \n",
      " |  __weakref__\n",
      " |      list of weak references to the object\n",
      " |  \n",
      " |  ----------------------------------------------------------------------\n",
      " |  Methods inherited from _ActionsContainer:\n",
      " |  \n",
      " |  add_argument(self, *args, **kwargs)\n",
      " |      add_argument(dest, ..., name=value, ...)\n",
      " |      add_argument(option_string, option_string, ..., name=value, ...)\n",
      " |  \n",
      " |  add_argument_group(self, *args, **kwargs)\n",
      " |  \n",
      " |  add_mutually_exclusive_group(self, **kwargs)\n",
      " |  \n",
      " |  get_default(self, dest)\n",
      " |  \n",
      " |  register(self, registry_name, value, object)\n",
      " |      # ====================\n",
      " |      # Registration methods\n",
      " |      # ====================\n",
      " |  \n",
      " |  set_defaults(self, **kwargs)\n",
      " |      # ==================================\n",
      " |      # Namespace default accessor methods\n",
      " |      # ==================================\n",
      "\n"
     ]
    }
   ],
   "source": [
    "help(argparse.ArgumentParser())"
   ]
  },
  {
   "cell_type": "code",
   "execution_count": 14,
   "id": "436cb166-1936-4b5a-a19e-a6a0f5a7f5ee",
   "metadata": {},
   "outputs": [
    {
     "name": "stdout",
     "output_type": "stream",
     "text": [
      "https://imagej.net/images/Cell_Colony2.jpg\n",
      "file.jpg\n"
     ]
    }
   ],
   "source": [
    "import requests\n",
    "def download_file(url, local_file_name):\n",
    "    with requests.get(url, stream=True) as r:\n",
    "        r.raise_for_status()\n",
    "        with open(local_file_name, 'wb') as f:\n",
    "            for chunk in r.iter_content(chunk_size=8192):\n",
    "                f.write(chunk)\n",
    "\n",
    "# Instead of argparse, define directly:\n",
    "url = \"https://imagej.net/images/Cell_Colony2.jpg\"\n",
    "output = \"file.jpg\"\n",
    "\n",
    "print(url)\n",
    "print(output)\n",
    "\n",
    "download_file(url, output)"
   ]
  },
  {
   "cell_type": "code",
   "execution_count": 18,
   "id": "09e05dd6-12c2-4a0c-908d-4fa79e5ab443",
   "metadata": {},
   "outputs": [
    {
     "name": "stdout",
     "output_type": "stream",
     "text": [
      "https://imagej.net/images/Cell_Colony2.jpg\n",
      "file.zip\n"
     ]
    }
   ],
   "source": [
    "import argparse\n",
    "\n",
    "parser = argparse.ArgumentParser()\n",
    "parser.add_argument(\"url\", help=\"Url of the file to download\")\n",
    "parser.add_argument(\"output\", help=\"File name to save\")\n",
    "\n",
    "# Simulate arguments in Jupyter\n",
    "args = parser.parse_args([\"https://imagej.net/images/Cell_Colony2.jpg\", \"file.zip\"])\n",
    "# args = parser.parse_args() for using command line\n",
    "\n",
    "print(args.url)\n",
    "print(args.output)\n",
    "\n",
    "download_file(args.url, args.output)"
   ]
  },
  {
   "cell_type": "markdown",
   "id": "d6bb0e65-664f-45d3-b9e2-9e4cfe624cee",
   "metadata": {},
   "source": [
    "# WALRUS OPERATOR in Python\n",
    "- allows to assign a value to a variable within an expression.\n",
    "- this can be useful when you need to use a value multiple time in a loop, but don't want to repeat the calculation\n",
    "- represented by `:=` syntax and can be used in a variety of contexts including while loops and if statement"
   ]
  },
  {
   "cell_type": "code",
   "execution_count": 19,
   "id": "b914d467-89db-4c94-939c-e96d09dfdbc2",
   "metadata": {},
   "outputs": [
    {
     "name": "stdout",
     "output_type": "stream",
     "text": [
      "5\n",
      "4\n",
      "3\n",
      "2\n",
      "1\n"
     ]
    }
   ],
   "source": [
    "num = [1,2,3,4,5]\n",
    "while (n := len(num)) > 0:\n",
    "    print(num.pop())"
   ]
  },
  {
   "cell_type": "code",
   "execution_count": 29,
   "id": "86132050-1ee4-4cfa-b73c-b90d6c6945ac",
   "metadata": {},
   "outputs": [
    {
     "name": "stdout",
     "output_type": "stream",
     "text": [
      "False\n"
     ]
    }
   ],
   "source": [
    "a = False\n",
    "print(a)"
   ]
  },
  {
   "cell_type": "code",
   "execution_count": 30,
   "id": "32f667be-5200-49f4-a135-421c25aa6326",
   "metadata": {},
   "outputs": [
    {
     "name": "stdout",
     "output_type": "stream",
     "text": [
      "False\n"
     ]
    }
   ],
   "source": [
    "#equivalent of above code\n",
    "print(a := False)"
   ]
  },
  {
   "cell_type": "code",
   "execution_count": 28,
   "id": "6bd44a54-1a4e-4466-a9ce-674568f799c5",
   "metadata": {},
   "outputs": [
    {
     "name": "stdin",
     "output_type": "stream",
     "text": [
      "Enter a name:  Arpan\n"
     ]
    },
    {
     "name": "stdout",
     "output_type": "stream",
     "text": [
      "Hello, Arpan\n"
     ]
    }
   ],
   "source": [
    "names = [\"Akash\", \"Arpan\", \"Subha\", \"Pritam\"]\n",
    "if (name := input(\"Enter a name: \")) in names:\n",
    "    print(f\"Hello, {name}\")\n",
    "else:\n",
    "    print(\"Name not found.\")"
   ]
  },
  {
   "cell_type": "code",
   "execution_count": 34,
   "id": "4f39e1d2-9904-4dec-b18c-47663680b6e0",
   "metadata": {},
   "outputs": [
    {
     "name": "stdin",
     "output_type": "stream",
     "text": [
      "What food do you like?:  mango\n",
      "What food do you like?:  banana\n",
      "What food do you like?:  pear\n",
      "What food do you like?:  watermalon\n",
      "What food do you like?:  jackfruit\n",
      "What food do you like?:  apple\n",
      "What food do you like?:  quit\n"
     ]
    },
    {
     "name": "stdout",
     "output_type": "stream",
     "text": [
      "['mango', 'banana', 'pear', 'watermalon', 'jackfruit', 'apple']\n"
     ]
    }
   ],
   "source": [
    "#without using Walrus Operator\n",
    "foods = list()\n",
    "while True:\n",
    "    food = input(\"What food do you like?: \")\n",
    "    if food == 'quit':\n",
    "        break\n",
    "    foods.append(food)\n",
    "print(foods)"
   ]
  },
  {
   "cell_type": "code",
   "execution_count": 35,
   "id": "96cd7bbf-dc0e-444d-a3aa-9cc80a7a6fdb",
   "metadata": {},
   "outputs": [
    {
     "name": "stdin",
     "output_type": "stream",
     "text": [
      "What food do you like?:  apple\n",
      "What food do you like?:  jackfruit\n",
      "What food do you like?:  mango\n",
      "What food do you like?:  banana\n",
      "What food do you like?:  quit\n"
     ]
    },
    {
     "name": "stdout",
     "output_type": "stream",
     "text": [
      "['apple', 'jackfruit', 'mango', 'banana']\n"
     ]
    }
   ],
   "source": [
    "#Same code using Walrus Operator\n",
    "foods = list()\n",
    "while (food := input(\"What food do you like?: \")) != \"quit\":\n",
    "    foods.append(food)\n",
    "print(foods)"
   ]
  },
  {
   "cell_type": "markdown",
   "id": "2c0dedd6-c050-4672-9929-0a5526790766",
   "metadata": {},
   "source": [
    "# Shutil Module in Python\n",
    "- it is a module that provides a higher level interface for working with file and directories\n",
    "- the name ***shutil*** is short for shell utility\n",
    "- it provides a convenient and efficient way to automate tasks that are commonly performed on files and directories\n"
   ]
  },
  {
   "cell_type": "code",
   "execution_count": 38,
   "id": "3928babc-1568-41d0-8828-89c432d5622a",
   "metadata": {},
   "outputs": [
    {
     "name": "stdout",
     "output_type": "stream",
     "text": [
      "['COPY_BUFSIZE', 'Error', 'ExecError', 'ReadError', 'RegistryError', 'SameFileError', 'SpecialFileError', '_ARCHIVE_FORMATS', '_BZ2_SUPPORTED', '_GiveupOnFastCopy', '_HAS_FCOPYFILE', '_LZMA_SUPPORTED', '_UNPACK_FORMATS', '_USE_CP_SENDFILE', '_WINDOWS', '_WIN_DEFAULT_PATHEXT', '_ZLIB_SUPPORTED', '__all__', '__builtins__', '__cached__', '__doc__', '__file__', '__loader__', '__name__', '__package__', '__spec__', '_access_check', '_basename', '_check_unpack_options', '_copyfileobj_readinto', '_copytree', '_copyxattr', '_destinsrc', '_ensure_directory', '_fastcopy_fcopyfile', '_fastcopy_sendfile', '_find_unpack_format', '_get_gid', '_get_uid', '_is_immutable', '_islink', '_make_tarball', '_make_zipfile', '_ntuple_diskusage', '_rmtree_isdir', '_rmtree_islink', '_rmtree_safe_fd', '_rmtree_unsafe', '_samefile', '_stat', '_unpack_tarfile', '_unpack_zipfile', '_use_fd_functions', 'chown', 'collections', 'copy', 'copy2', 'copyfile', 'copyfileobj', 'copymode', 'copystat', 'copytree', 'disk_usage', 'errno', 'fnmatch', 'get_archive_formats', 'get_terminal_size', 'get_unpack_formats', 'ignore_patterns', 'make_archive', 'move', 'nt', 'os', 'posix', 'register_archive_format', 'register_unpack_format', 'rmtree', 'stat', 'sys', 'unpack_archive', 'unregister_archive_format', 'unregister_unpack_format', 'which']\n"
     ]
    }
   ],
   "source": [
    "import shutil\n",
    "print(dir(shutil))"
   ]
  },
  {
   "cell_type": "markdown",
   "id": "66b0fa0d-f21f-4620-8c90-312f738f7f4d",
   "metadata": {},
   "source": [
    "# functions\n",
    "the following are some of the most commonly used function in the shutil module:\n",
    "- `shutil.copy(src, dst)`: this function copies the file located at src to a new location specified by dst. If the destination location already exists, the original file will be overwritten.\n",
    "- `shutil.copy2(src, dst)`: this function is similar to `shutil.copy()` but it also preserves mroe metadata about the original file, such as timestamp\n",
    "- `shutil.copytree(src, dst)`: this function recursively copies the directory located at src to a new location specified by dst. If teh destination location already exists, the original directory will be merged with it\n",
    "- `shutil.move(src, dst)`: this function moves the file located at src to a new location specified by dst. This function is equivalent to renaming a file in most cases.\n",
    "- `shutil.rmtree(path)`: this function recursively deletes the directory located at path, along with all of its contents. This function is similar to using the `rm -rf` command in a shell"
   ]
  },
  {
   "cell_type": "code",
   "execution_count": 44,
   "id": "edd5a1ef-bbf8-4e78-9eae-f789252e8c09",
   "metadata": {},
   "outputs": [
    {
     "data": {
      "text/plain": [
       "'myfile.txt'"
      ]
     },
     "execution_count": 44,
     "metadata": {},
     "output_type": "execute_result"
    }
   ],
   "source": [
    "import shutil\n",
    "shutil.copy(\"names.txt\", \"myfile.txt\")"
   ]
  },
  {
   "cell_type": "code",
   "execution_count": 45,
   "id": "28d5e556-8f81-4133-8b02-4a379ec1cff2",
   "metadata": {},
   "outputs": [
    {
     "data": {
      "text/plain": [
       "'myfiles'"
      ]
     },
     "execution_count": 45,
     "metadata": {},
     "output_type": "execute_result"
    }
   ],
   "source": [
    "shutil.copytree(\"data\", \"myfiles\")"
   ]
  },
  {
   "cell_type": "code",
   "execution_count": 46,
   "id": "8c7c5dab-7746-4e9f-9f6b-564bb4a50381",
   "metadata": {},
   "outputs": [
    {
     "data": {
      "text/plain": [
       "'data\\\\myfiles'"
      ]
     },
     "execution_count": 46,
     "metadata": {},
     "output_type": "execute_result"
    }
   ],
   "source": [
    "shutil.move(\"myfiles\", \"data\")"
   ]
  },
  {
   "cell_type": "code",
   "execution_count": 47,
   "id": "bd028e17-fca0-4e93-a26a-2cce15d3eb8f",
   "metadata": {},
   "outputs": [],
   "source": [
    "shutil.rmtree(\"data\\\\myfiles\")"
   ]
  },
  {
   "cell_type": "code",
   "execution_count": 51,
   "id": "2342b8ec-2212-46a0-9938-d3d46799df8d",
   "metadata": {},
   "outputs": [
    {
     "name": "stdout",
     "output_type": "stream",
     "text": [
      "<!DOCTYPE html><html lang=\"en\"><head><meta charSet=\"utf-8\"/><meta name=\"viewport\" content=\"width=device-width, initial-scale=1\"/><link rel=\"preload\" as=\"image\" imageSrcSet=\"/_next/image?url=%2Fblog-placeholder.jpg&amp;w=640&amp;q=75 640w, /_next/image?url=%2Fblog-placeholder.jpg&amp;w=750&amp;q=75 750w, /_next/image?url=%2Fblog-placeholder.jpg&amp;w=828&amp;q=75 828w, /_next/image?url=%2Fblog-placeholder.jpg&amp;w=1080&amp;q=75 1080w, /_next/image?url=%2Fblog-placeholder.jpg&amp;w=1200&amp;q=75 1200w, /_next/image?url=%2Fblog-placeholder.jpg&amp;w=1920&amp;q=75 1920w, /_next/image?url=%2Fblog-placeholder.jpg&amp;w=2048&amp;q=75 2048w, /_next/image?url=%2Fblog-placeholder.jpg&amp;w=3840&amp;q=75 3840w\" imageSizes=\"100vw\"/><link rel=\"stylesheet\" href=\"/_next/static/css/95561125d4ad1bfc.css\" data-precedence=\"next\"/><link rel=\"stylesheet\" href=\"/_next/static/css/53eef233cdc30247.css\" data-precedence=\"next\"/><link rel=\"preload\" as=\"script\" fetchPriority=\"low\" href=\"/_next/static/chunks/webpack-014757a43573e72b.js\"/><script src=\"/_next/static/chunks/748859cf-7e015cc18756d920.js\" async=\"\"></script><script src=\"/_next/static/chunks/9702-8dfa3b8dc2c63870.js\" async=\"\"></script><script src=\"/_next/static/chunks/main-app-0eb153cb5279f5e7.js\" async=\"\"></script><script src=\"/_next/static/chunks/3278-338ad7484b961c25.js\" async=\"\"></script><script src=\"/_next/static/chunks/8221-a015ecb58e05db41.js\" async=\"\"></script><script src=\"/_next/static/chunks/8383-382de4acfc4979bf.js\" async=\"\"></script><script src=\"/_next/static/chunks/1733-bc2c13e2a7707f18.js\" async=\"\"></script><script src=\"/_next/static/chunks/6219-46698a9b3ab7c5ba.js\" async=\"\"></script><script src=\"/_next/static/chunks/6354-fe9ba8cd35845314.js\" async=\"\"></script><script src=\"/_next/static/chunks/8161-d6a40d5437eb2766.js\" async=\"\"></script><script src=\"/_next/static/chunks/4521-71c17e4fa2d6bb7b.js\" async=\"\"></script><script src=\"/_next/static/chunks/app/layout-1284d67b9dcf301b.js\" async=\"\"></script><script src=\"/_next/static/chunks/app/blogpost/%5Bslug%5D/page-275958672598fda4.js\" async=\"\"></script><link rel=\"preload\" href=\"https://www.googletagmanager.com/gtag/js?id=G-TLJ82JF418\" as=\"script\"/><link rel=\"preload\" href=\"https://www.googletagmanager.com/gtag/js?id=AW-11344294909\" as=\"script\"/><meta name=\"next-size-adjust\" content=\"\"/><link rel=\"shortcut icon\" href=\"/favicon.ico\" type=\"image/x-icon\"/><noscript><img height=\"1\" width=\"1\" style=\"display:none\" src=\"https://www.facebook.com/tr?id=608037172208445&amp;ev=PageView&amp;noscript=1\" alt=\"Facebook Pixel\"/></noscript><title>Django Cheatsheet | Blog | CodeWithHarry</title><meta name=\"description\" content=\"Django cheatsheet for beginners\"/><meta name=\"keywords\" content=\"programming, coding, web development, Python, JavaScript, Java, HTML, CSS, tutorials, courses\"/><meta name=\"creator\" content=\"Harry\"/><meta name=\"publisher\" content=\"CodeWithHarry\"/><meta name=\"robots\" content=\"index, follow\"/><meta property=\"og:title\" content=\"CodeWithHarry - Learn Programming and Coding\"/><meta property=\"og:description\" content=\"Learn programming with easy-to-follow tutorials, courses, and resources. CodeWithHarry offers free content for beginners and advanced developers.\"/><meta property=\"og:url\" content=\"https://codewithharry.com\"/><meta property=\"og:site_name\" content=\"CodeWithHarry\"/><meta property=\"og:locale\" content=\"en_US\"/><meta property=\"og:type\" content=\"website\"/><meta name=\"twitter:card\" content=\"summary_large_image\"/><meta name=\"twitter:title\" content=\"CodeWithHarry - Learn Programming and Coding\"/><meta name=\"twitter:description\" content=\"Learn programming with easy-to-follow tutorials, courses, and resources. CodeWithHarry offers free content for beginners and advanced developers.\"/><link rel=\"icon\" href=\"/favicon.ico\" type=\"image/x-icon\" sizes=\"16x16\"/><script src=\"/_next/static/chunks/polyfills-42372ed130431b0a.js\" noModule=\"\"></script></head><body class=\"__variable_1e4310 __variable_c3aa02 __variable_9b9fd1 antialiased\"><div id=\"_rht_toaster\" style=\"position:fixed;z-index:9999;top:16px;left:16px;right:16px;bottom:16px;pointer-events:none\"></div><script>((e,t,r,n,o,a,i,s)=>{let l=document.documentElement,u=[\"light\",\"dark\"];function c(t){var r;(Array.isArray(e)?e:[e]).forEach(e=>{let r=\"class\"===e,n=r&&a?o.map(e=>a[e]||e):o;r?(l.classList.remove(...n),l.classList.add(t)):l.setAttribute(e,t)}),r=t,s&&u.includes(r)&&(l.style.colorScheme=r)}if(n)c(n);else try{let e=localStorage.getItem(t)||r,n=i&&\"system\"===e?window.matchMedia(\"(prefers-color-scheme: dark)\").matches?\"dark\":\"light\":e;c(n)}catch(e){}})(\"class\",\"theme\",\"system\",null,[\"light\",\"dark\"],null,true,true)</script><div class=\"\" style=\"position:fixed;top:0;left:0;height:2px;background:transparent;z-index:99999999999;width:100%\"><div class=\"\" style=\"height:100%;background:red;transition:all 500ms ease;width:0%\"><div style=\"box-shadow:0 0 10px red, 0 0 10px red;width:5%;opacity:1;position:absolute;height:100%;transition:all 500ms ease;transform:rotate(2deg) translate(0px, -2px);left:-10rem\"></div></div></div><header class=\"bg-background text-foreground p-2 md:p-4 sticky top-0 z-20 border-b-2\"><div class=\"md:mx-4 flex justify-between\"><div class=\"flex flex-col justify-center\"><div class=\"flex mb-2 items-center\"><a class=\"md:text-2xl font-bold flex items-center\" href=\"/\"><span class=\"flex md:text-xl font-poppins dark:text-white text-gray-800\"><span class=\"font-semibold\">&lt;/&gt;</span> <span class=\"font-bold\">CodeWithHarry</span></span></a><ul class=\"justify-center items-center gap-2 mx-2 hidden xl:flex\"><li><a class=\"hover:bg-slate-100 dark:hover:bg-zinc-900 px-4 py-2 duration-300 rounded-3xl\" href=\"/\">Home</a></li><li><a class=\"hover:bg-slate-100 dark:hover:bg-zinc-900 px-4 py-2 duration-300 rounded-3xl\" href=\"/courses\">Courses</a></li><li><a class=\"hover:bg-slate-100 dark:hover:bg-zinc-900 px-4 py-2 duration-300 rounded-3xl\" href=\"/tutorials\">Tutorials</a></li><li><a class=\"hover:bg-slate-100 dark:hover:bg-zinc-900 px-4 py-2 duration-300 rounded-3xl\" href=\"/blog\">Blog</a></li><li><a class=\"hover:bg-slate-100 dark:hover:bg-zinc-900 px-4 py-2 duration-300 rounded-3xl\" href=\"/notes\">Notes</a></li><li><a class=\"hover:bg-slate-100 dark:hover:bg-zinc-900 px-4 py-2 duration-300 rounded-3xl\" href=\"/contact\">Contact</a></li></ul></div></div><div class=\"flex md:gap-4 justify-center items-center\"><div class=\"relative hidden md:flex items-center\"><input class=\"px-4 pr-10 text-xs py-2 rounded-md bg-zinc-100 dark:bg-zinc-800 w-60 mx-0 outline-none focus:ring-0 focus:border-none\" type=\"text\" placeholder=\"Search...\" readOnly=\"\"/><span class=\"absolute right-2 px-2 py-1 text-xs text-foreground bg-zinc-100 dark:bg-zinc-950 rounded-md border border-zinc-300 dark:border-zinc-700 flex items-center gap-1\"><kbd class=\"font-mono text-xs\">⌘</kbd><kbd class=\"font-mono text-xs\">K</kbd></span></div><button class=\"md:hidden px-2 py-1 flex justify-center items-center mx-2 rounded-md hover:bg-zinc-100 dark:hover:bg-zinc-800 transition-colors\" aria-label=\"Search\"><svg xmlns=\"http://www.w3.org/2000/svg\" width=\"24\" height=\"24\" viewBox=\"0 0 24 24\" fill=\"none\" stroke=\"currentColor\" stroke-width=\"2\" stroke-linecap=\"round\" stroke-linejoin=\"round\" class=\"lucide lucide-search size-6\"><circle cx=\"11\" cy=\"11\" r=\"8\"></circle><path d=\"m21 21-4.3-4.3\"></path></svg></button><div class=\"hidden xl:flex gap-2\"><a class=\"inline-flex items-center justify-center gap-2 whitespace-nowrap rounded-md text-sm font-medium transition-colors focus-visible:outline-none focus-visible:ring-1 focus-visible:ring-ring disabled:pointer-events-none disabled:opacity-50 [&amp;_svg]:pointer-events-none [&amp;_svg]:size-4 [&amp;_svg]:shrink-0 border border-input bg-background text-foreground shadow-sm hover:bg-accent hover:text-accent-foreground h-9 px-4 py-2\" href=\"/login\">Login</a><a class=\"inline-flex items-center justify-center gap-2 whitespace-nowrap rounded-md text-sm font-medium transition-colors focus-visible:outline-none focus-visible:ring-1 focus-visible:ring-ring disabled:pointer-events-none disabled:opacity-50 [&amp;_svg]:pointer-events-none [&amp;_svg]:size-4 [&amp;_svg]:shrink-0 border border-input bg-background text-foreground shadow-sm hover:bg-accent hover:text-accent-foreground h-9 px-4 py-2\" href=\"/signup\">Signup</a><button class=\"inline-flex items-center justify-center gap-2 whitespace-nowrap rounded-md text-sm font-medium transition-colors focus-visible:outline-none focus-visible:ring-1 focus-visible:ring-ring disabled:pointer-events-none disabled:opacity-50 [&amp;_svg]:pointer-events-none [&amp;_svg]:size-4 [&amp;_svg]:shrink-0 border border-input bg-background text-foreground shadow-sm hover:bg-accent hover:text-accent-foreground h-9 w-9\" aria-label=\"Toggle theme\"><svg xmlns=\"http://www.w3.org/2000/svg\" width=\"24\" height=\"24\" viewBox=\"0 0 24 24\" fill=\"none\" stroke=\"currentColor\" stroke-width=\"2\" stroke-linecap=\"round\" stroke-linejoin=\"round\" class=\"lucide lucide-moon h-5 w-5 transition-transform scale-100 rotate-90 dark:rotate-0 dark:scale-100\"><path d=\"M12 3a6 6 0 0 0 9 9 9 9 0 1 1-9-9Z\"></path></svg></button></div><div class=\"xl:hidden flex justify-center items-center\"><button type=\"button\" aria-haspopup=\"dialog\" aria-expanded=\"false\" aria-controls=\"radix-:Rd5ltb:\" data-state=\"closed\"><svg xmlns=\"http://www.w3.org/2000/svg\" width=\"24\" height=\"24\" viewBox=\"0 0 24 24\" fill=\"none\" stroke=\"currentColor\" stroke-width=\"2\" stroke-linecap=\"round\" stroke-linejoin=\"round\" class=\"lucide lucide-menu size-8\"><line x1=\"4\" x2=\"20\" y1=\"12\" y2=\"12\"></line><line x1=\"4\" x2=\"20\" y1=\"6\" y2=\"6\"></line><line x1=\"4\" x2=\"20\" y1=\"18\" y2=\"18\"></line></svg></button></div></div></div><nav aria-label=\"Main\" data-orientation=\"horizontal\" dir=\"ltr\" class=\"flex flex-1 items-center justify-start relative z-50 w-full\"><div style=\"position:relative\"><ul data-orientation=\"horizontal\" class=\"group flex flex-1 list-none items-center justify-start overflow-x-auto space-x-1\" dir=\"ltr\"><li class=\"relative\"><button id=\"radix-:R9ltb:-trigger-radix-:R5pltb:\" data-state=\"closed\" aria-expanded=\"false\" aria-controls=\"radix-:R9ltb:-content-radix-:R5pltb:\" class=\"group inline-flex h-9 w-max items-center justify-center rounded-md bg-background px-4 py-2 text-sm font-medium transition-colors hover:text-accent-foreground focus:text-accent-foreground focus:outline-none disabled:pointer-events-none disabled:opacity-50 data-[active]:bg-accent/50 data-[state=open]:bg-accent/50 group hover:bg-accent focus:bg-accent\" data-radix-collection-item=\"\">Start Learning<!-- --> <svg xmlns=\"http://www.w3.org/2000/svg\" width=\"24\" height=\"24\" viewBox=\"0 0 24 24\" fill=\"none\" stroke=\"currentColor\" stroke-width=\"2\" stroke-linecap=\"round\" stroke-linejoin=\"round\" class=\"lucide lucide-chevron-down relative top-[1px] ml-1 h-3 w-3 transition duration-300 group-data-[state=open]:rotate-180\" aria-hidden=\"true\"><path d=\"m6 9 6 6 6-6\"></path></svg></button></li><li class=\"relative\"><button id=\"radix-:R9ltb:-trigger-radix-:R9pltb:\" data-state=\"closed\" aria-expanded=\"false\" aria-controls=\"radix-:R9ltb:-content-radix-:R9pltb:\" class=\"group inline-flex h-9 w-max items-center justify-center rounded-md bg-background px-4 py-2 text-sm font-medium transition-colors hover:text-accent-foreground focus:text-accent-foreground focus:outline-none disabled:pointer-events-none disabled:opacity-50 data-[active]:bg-accent/50 data-[state=open]:bg-accent/50 group hover:bg-accent focus:bg-accent\" data-radix-collection-item=\"\">Tutorials<!-- --> <svg xmlns=\"http://www.w3.org/2000/svg\" width=\"24\" height=\"24\" viewBox=\"0 0 24 24\" fill=\"none\" stroke=\"currentColor\" stroke-width=\"2\" stroke-linecap=\"round\" stroke-linejoin=\"round\" class=\"lucide lucide-chevron-down relative top-[1px] ml-1 h-3 w-3 transition duration-300 group-data-[state=open]:rotate-180\" aria-hidden=\"true\"><path d=\"m6 9 6 6 6-6\"></path></svg></button></li></ul></div><div class=\"absolute left-0 top-full flex justify-start w-full\"></div></nav></header><section class=\"min-h-screen bg-background text-foreground\"><div class=\"max-w-4xl mx-auto px-4 sm:px-6 lg:px-8\"><div class=\"relative h-80 w-full my-6 rounded-lg shadow-lg overflow-hidden\"><img alt=\"Django Cheatsheet\" decoding=\"async\" data-nimg=\"fill\" class=\"object-cover\" style=\"position:absolute;height:100%;width:100%;left:0;top:0;right:0;bottom:0;color:transparent\" sizes=\"100vw\" srcSet=\"/_next/image?url=%2Fblog-placeholder.jpg&amp;w=640&amp;q=75 640w, /_next/image?url=%2Fblog-placeholder.jpg&amp;w=750&amp;q=75 750w, /_next/image?url=%2Fblog-placeholder.jpg&amp;w=828&amp;q=75 828w, /_next/image?url=%2Fblog-placeholder.jpg&amp;w=1080&amp;q=75 1080w, /_next/image?url=%2Fblog-placeholder.jpg&amp;w=1200&amp;q=75 1200w, /_next/image?url=%2Fblog-placeholder.jpg&amp;w=1920&amp;q=75 1920w, /_next/image?url=%2Fblog-placeholder.jpg&amp;w=2048&amp;q=75 2048w, /_next/image?url=%2Fblog-placeholder.jpg&amp;w=3840&amp;q=75 3840w\" src=\"/_next/image?url=%2Fblog-placeholder.jpg&amp;w=3840&amp;q=75\"/></div><h1 class=\"text-3xl sm:text-4xl font-extrabold mb-4 text-center\">Django Cheatsheet</h1><p class=\"text-lg mb-2 border-l-4 border-zinc-500 pl-4 italic text-muted-foreground\">&quot;<!-- -->Django cheatsheet for beginners<!-- -->&quot;</p><div class=\"flex flex-wrap justify-between items-center text-sm text-muted-foreground mb-6\"><p class=\"italic\">By CodeWithHarry</p><p>Updated: <!-- -->5 April 2025</p></div><article class=\"prose blog-content prose-zinc dark:prose-invert max-w-none\"><div><h2>What is Django?</h2>\n",
      "<p>Python-based web framework used for rapid development of web applications.</p>\n",
      "<h2>Installing Django + Setup</h2>\n",
      "<figure data-rehype-pretty-code-figure=\"\"><pre style=\"background-color:#22272e;color:#adbac7\" tabindex=\"0\" data-language=\"python\" data-theme=\"github-dark-dimmed\"><code data-language=\"python\" data-theme=\"github-dark-dimmed\" style=\"display: grid;\"><span data-line=\"\"><span style=\"color:#ADBAC7\">pip install django</span></span><button type=\"button\" title=\"Copy code\" aria-label=\"Copy code\" data=\"pip install django\" class=\"rehype-pretty-copy\" onclick=\"navigator.clipboard.writeText(this.attributes.data.value);this.classList.add(&#x27;rehype-pretty-copied&#x27;);window.setTimeout(() => this.classList.remove(&#x27;rehype-pretty-copied&#x27;), 3000);\"><span class=\"ready\"></span><span class=\"success\"></span></button><style>:root {--copy-icon: url(\"data:image/svg+xml,%3Csvg xmlns='http://www.w3.org/2000/svg' viewBox='0 0 48 48'%3E%3Cpath fill='%23adadad' d='M16.187 9.5H12.25a1.75 1.75 0 0 0-1.75 1.75v28.5c0 .967.784 1.75 1.75 1.75h23.5a1.75 1.75 0 0 0 1.75-1.75v-28.5a1.75 1.75 0 0 0-1.75-1.75h-3.937a4.25 4.25 0 0 1-4.063 3h-7.5a4.25 4.25 0 0 1-4.063-3M31.813 7h3.937A4.25 4.25 0 0 1 40 11.25v28.5A4.25 4.25 0 0 1 35.75 44h-23.5A4.25 4.25 0 0 1 8 39.75v-28.5A4.25 4.25 0 0 1 12.25 7h3.937a4.25 4.25 0 0 1 4.063-3h7.5a4.25 4.25 0 0 1 4.063 3M18.5 8.25c0 .966.784 1.75 1.75 1.75h7.5a1.75 1.75 0 1 0 0-3.5h-7.5a1.75 1.75 0 0 0-1.75 1.75'/%3E%3C/svg%3E\");--success-icon: url(\"data:image/svg+xml,%3Csvg xmlns='http://www.w3.org/2000/svg' viewBox='0 0 24 24'%3E%3Cpath fill='%2366ff85' d='M9 16.17L5.53 12.7a.996.996 0 1 0-1.41 1.41l4.18 4.18c.39.39 1.02.39 1.41 0L20.29 7.71a.996.996 0 1 0-1.41-1.41z'/%3E%3C/svg%3E\");}pre:has(code) {position: relative;}pre button.rehype-pretty-copy {right: 1px;padding: 0;width: 24px;height: 24px;display: flex;margin-top: 2px;margin-right: 8px;position: absolute;border-radius: 25%;backdrop-filter: blur(3px);& span {width: 100%;aspect-ratio: 1 / 1;}& .ready {background-image: var(--copy-icon);}& .success {display: none; background-image: var(--success-icon);}}&.rehype-pretty-copied {& .success {display: block;} & .ready {display: none;}}pre button.rehype-pretty-copy.rehype-pretty-copied {opacity: 1;& .ready { display: none; }& .success { display: block; }}</style></code></pre></figure>\n",
      "<h3>Creating a project</h3>\n",
      "<p>The below command creates a new project named <code>projectName</code>.</p>\n",
      "<figure data-rehype-pretty-code-figure=\"\"><pre style=\"background-color:#22272e;color:#adbac7\" tabindex=\"0\" data-language=\"python\" data-theme=\"github-dark-dimmed\"><code data-language=\"python\" data-theme=\"github-dark-dimmed\" style=\"display: grid;\"><span data-line=\"\"><span style=\"color:#ADBAC7\">django</span><span style=\"color:#F47067\">-</span><span style=\"color:#ADBAC7\">admin startproject projectName</span></span><button type=\"button\" title=\"Copy code\" aria-label=\"Copy code\" data=\"django-admin startproject projectName\" class=\"rehype-pretty-copy\" onclick=\"navigator.clipboard.writeText(this.attributes.data.value);this.classList.add(&#x27;rehype-pretty-copied&#x27;);window.setTimeout(() => this.classList.remove(&#x27;rehype-pretty-copied&#x27;), 3000);\"><span class=\"ready\"></span><span class=\"success\"></span></button><style>:root {--copy-icon: url(\"data:image/svg+xml,%3Csvg xmlns='http://www.w3.org/2000/svg' viewBox='0 0 48 48'%3E%3Cpath fill='%23adadad' d='M16.187 9.5H12.25a1.75 1.75 0 0 0-1.75 1.75v28.5c0 .967.784 1.75 1.75 1.75h23.5a1.75 1.75 0 0 0 1.75-1.75v-28.5a1.75 1.75 0 0 0-1.75-1.75h-3.937a4.25 4.25 0 0 1-4.063 3h-7.5a4.25 4.25 0 0 1-4.063-3M31.813 7h3.937A4.25 4.25 0 0 1 40 11.25v28.5A4.25 4.25 0 0 1 35.75 44h-23.5A4.25 4.25 0 0 1 8 39.75v-28.5A4.25 4.25 0 0 1 12.25 7h3.937a4.25 4.25 0 0 1 4.063-3h7.5a4.25 4.25 0 0 1 4.063 3M18.5 8.25c0 .966.784 1.75 1.75 1.75h7.5a1.75 1.75 0 1 0 0-3.5h-7.5a1.75 1.75 0 0 0-1.75 1.75'/%3E%3C/svg%3E\");--success-icon: url(\"data:image/svg+xml,%3Csvg xmlns='http://www.w3.org/2000/svg' viewBox='0 0 24 24'%3E%3Cpath fill='%2366ff85' d='M9 16.17L5.53 12.7a.996.996 0 1 0-1.41 1.41l4.18 4.18c.39.39 1.02.39 1.41 0L20.29 7.71a.996.996 0 1 0-1.41-1.41z'/%3E%3C/svg%3E\");}pre:has(code) {position: relative;}pre button.rehype-pretty-copy {right: 1px;padding: 0;width: 24px;height: 24px;display: flex;margin-top: 2px;margin-right: 8px;position: absolute;border-radius: 25%;backdrop-filter: blur(3px);& span {width: 100%;aspect-ratio: 1 / 1;}& .ready {background-image: var(--copy-icon);}& .success {display: none; background-image: var(--success-icon);}}&.rehype-pretty-copied {& .success {display: block;} & .ready {display: none;}}pre button.rehype-pretty-copy.rehype-pretty-copied {opacity: 1;& .ready { display: none; }& .success { display: block; }}</style></code></pre></figure>\n",
      "<h3>Starting a server</h3>\n",
      "<p>The below command starts the development server.</p>\n",
      "<figure data-rehype-pretty-code-figure=\"\"><pre style=\"background-color:#22272e;color:#adbac7\" tabindex=\"0\" data-language=\"python\" data-theme=\"github-dark-dimmed\"><code data-language=\"python\" data-theme=\"github-dark-dimmed\" style=\"display: grid;\"><span data-line=\"\"><span style=\"color:#ADBAC7\">python manage.py runserver</span></span><button type=\"button\" title=\"Copy code\" aria-label=\"Copy code\" data=\"python manage.py runserver\" class=\"rehype-pretty-copy\" onclick=\"navigator.clipboard.writeText(this.attributes.data.value);this.classList.add(&#x27;rehype-pretty-copied&#x27;);window.setTimeout(() => this.classList.remove(&#x27;rehype-pretty-copied&#x27;), 3000);\"><span class=\"ready\"></span><span class=\"success\"></span></button><style>:root {--copy-icon: url(\"data:image/svg+xml,%3Csvg xmlns='http://www.w3.org/2000/svg' viewBox='0 0 48 48'%3E%3Cpath fill='%23adadad' d='M16.187 9.5H12.25a1.75 1.75 0 0 0-1.75 1.75v28.5c0 .967.784 1.75 1.75 1.75h23.5a1.75 1.75 0 0 0 1.75-1.75v-28.5a1.75 1.75 0 0 0-1.75-1.75h-3.937a4.25 4.25 0 0 1-4.063 3h-7.5a4.25 4.25 0 0 1-4.063-3M31.813 7h3.937A4.25 4.25 0 0 1 40 11.25v28.5A4.25 4.25 0 0 1 35.75 44h-23.5A4.25 4.25 0 0 1 8 39.75v-28.5A4.25 4.25 0 0 1 12.25 7h3.937a4.25 4.25 0 0 1 4.063-3h7.5a4.25 4.25 0 0 1 4.063 3M18.5 8.25c0 .966.784 1.75 1.75 1.75h7.5a1.75 1.75 0 1 0 0-3.5h-7.5a1.75 1.75 0 0 0-1.75 1.75'/%3E%3C/svg%3E\");--success-icon: url(\"data:image/svg+xml,%3Csvg xmlns='http://www.w3.org/2000/svg' viewBox='0 0 24 24'%3E%3Cpath fill='%2366ff85' d='M9 16.17L5.53 12.7a.996.996 0 1 0-1.41 1.41l4.18 4.18c.39.39 1.02.39 1.41 0L20.29 7.71a.996.996 0 1 0-1.41-1.41z'/%3E%3C/svg%3E\");}pre:has(code) {position: relative;}pre button.rehype-pretty-copy {right: 1px;padding: 0;width: 24px;height: 24px;display: flex;margin-top: 2px;margin-right: 8px;position: absolute;border-radius: 25%;backdrop-filter: blur(3px);& span {width: 100%;aspect-ratio: 1 / 1;}& .ready {background-image: var(--copy-icon);}& .success {display: none; background-image: var(--success-icon);}}&.rehype-pretty-copied {& .success {display: block;} & .ready {display: none;}}pre button.rehype-pretty-copy.rehype-pretty-copied {opacity: 1;& .ready { display: none; }& .success { display: block; }}</style></code></pre></figure>\n",
      "<h2>Django MVT</h2>\n",
      "<p>Django follows MVT (Model, View, Template) architecture.</p>\n",
      "<h3>Sample Django Model</h3>\n",
      "<p>The model represents the schema of the database.</p>\n",
      "<figure data-rehype-pretty-code-figure=\"\"><pre style=\"background-color:#22272e;color:#adbac7\" tabindex=\"0\" data-language=\"python\" data-theme=\"github-dark-dimmed\"><code data-language=\"python\" data-theme=\"github-dark-dimmed\" style=\"display: grid;\"><span data-line=\"\"><span style=\"color:#F47067\">from</span><span style=\"color:#ADBAC7\"> django.db </span><span style=\"color:#F47067\">import</span><span style=\"color:#ADBAC7\"> models</span></span>\n",
      "<span data-line=\"\"> </span>\n",
      "<span data-line=\"\"><span style=\"color:#F47067\">class</span><span style=\"color:#F69D50\"> Product</span><span style=\"color:#ADBAC7\">(</span><span style=\"color:#6CB6FF\">models</span><span style=\"color:#ADBAC7\">.</span><span style=\"color:#6CB6FF\">Model</span><span style=\"color:#ADBAC7\">): </span><span style=\"color:#768390\"># Product is the name of our model</span></span>\n",
      "<span data-line=\"\"><span style=\"color:#ADBAC7\">    product_id </span><span style=\"color:#F47067\">=</span><span style=\"color:#ADBAC7\"> models.AutoField</span></span><button type=\"button\" title=\"Copy code\" aria-label=\"Copy code\" data=\"from django.db import models\n",
      "\n",
      "class Product(models.Model): # Product is the name of our model\n",
      "    product_id = models.AutoField\" class=\"rehype-pretty-copy\" onclick=\"navigator.clipboard.writeText(this.attributes.data.value);this.classList.add(&#x27;rehype-pretty-copied&#x27;);window.setTimeout(() => this.classList.remove(&#x27;rehype-pretty-copied&#x27;), 3000);\"><span class=\"ready\"></span><span class=\"success\"></span></button><style>:root {--copy-icon: url(\"data:image/svg+xml,%3Csvg xmlns='http://www.w3.org/2000/svg' viewBox='0 0 48 48'%3E%3Cpath fill='%23adadad' d='M16.187 9.5H12.25a1.75 1.75 0 0 0-1.75 1.75v28.5c0 .967.784 1.75 1.75 1.75h23.5a1.75 1.75 0 0 0 1.75-1.75v-28.5a1.75 1.75 0 0 0-1.75-1.75h-3.937a4.25 4.25 0 0 1-4.063 3h-7.5a4.25 4.25 0 0 1-4.063-3M31.813 7h3.937A4.25 4.25 0 0 1 40 11.25v28.5A4.25 4.25 0 0 1 35.75 44h-23.5A4.25 4.25 0 0 1 8 39.75v-28.5A4.25 4.25 0 0 1 12.25 7h3.937a4.25 4.25 0 0 1 4.063-3h7.5a4.25 4.25 0 0 1 4.063 3M18.5 8.25c0 .966.784 1.75 1.75 1.75h7.5a1.75 1.75 0 1 0 0-3.5h-7.5a1.75 1.75 0 0 0-1.75 1.75'/%3E%3C/svg%3E\");--success-icon: url(\"data:image/svg+xml,%3Csvg xmlns='http://www.w3.org/2000/svg' viewBox='0 0 24 24'%3E%3Cpath fill='%2366ff85' d='M9 16.17L5.53 12.7a.996.996 0 1 0-1.41 1.41l4.18 4.18c.39.39 1.02.39 1.41 0L20.29 7.71a.996.996 0 1 0-1.41-1.41z'/%3E%3C/svg%3E\");}pre:has(code) {position: relative;}pre button.rehype-pretty-copy {right: 1px;padding: 0;width: 24px;height: 24px;display: flex;margin-top: 2px;margin-right: 8px;position: absolute;border-radius: 25%;backdrop-filter: blur(3px);& span {width: 100%;aspect-ratio: 1 / 1;}& .ready {background-image: var(--copy-icon);}& .success {display: none; background-image: var(--success-icon);}}&.rehype-pretty-copied {& .success {display: block;} & .ready {display: none;}}pre button.rehype-pretty-copy.rehype-pretty-copied {opacity: 1;& .ready { display: none; }& .success { display: block; }}</style></code></pre></figure>\n",
      "<h3>Sample views.py</h3>\n",
      "<p>View decides what data gets delivered to the template.</p>\n",
      "<figure data-rehype-pretty-code-figure=\"\"><pre style=\"background-color:#22272e;color:#adbac7\" tabindex=\"0\" data-language=\"python\" data-theme=\"github-dark-dimmed\"><code data-language=\"python\" data-theme=\"github-dark-dimmed\" style=\"display: grid;\"><span data-line=\"\"><span style=\"color:#F47067\">from</span><span style=\"color:#ADBAC7\"> django.http </span><span style=\"color:#F47067\">import</span><span style=\"color:#ADBAC7\"> HttpResponse</span></span>\n",
      "<span data-line=\"\"> </span>\n",
      "<span data-line=\"\"><span style=\"color:#F47067\">def</span><span style=\"color:#DCBDFB\"> index</span><span style=\"color:#ADBAC7\">(request):</span></span>\n",
      "<span data-line=\"\"><span style=\"color:#F47067\">    return</span><span style=\"color:#ADBAC7\"> HttpResponse(</span><span style=\"color:#96D0FF\">\"Django CodeWithHarry Cheatsheet\"</span><span style=\"color:#ADBAC7\">)</span></span><button type=\"button\" title=\"Copy code\" aria-label=\"Copy code\" data=\"from django.http import HttpResponse\n",
      "\n",
      "def index(request):\n",
      "    return HttpResponse(&#x22;Django CodeWithHarry Cheatsheet&#x22;)\" class=\"rehype-pretty-copy\" onclick=\"navigator.clipboard.writeText(this.attributes.data.value);this.classList.add(&#x27;rehype-pretty-copied&#x27;);window.setTimeout(() => this.classList.remove(&#x27;rehype-pretty-copied&#x27;), 3000);\"><span class=\"ready\"></span><span class=\"success\"></span></button><style>:root {--copy-icon: url(\"data:image/svg+xml,%3Csvg xmlns='http://www.w3.org/2000/svg' viewBox='0 0 48 48'%3E%3Cpath fill='%23adadad' d='M16.187 9.5H12.25a1.75 1.75 0 0 0-1.75 1.75v28.5c0 .967.784 1.75 1.75 1.75h23.5a1.75 1.75 0 0 0 1.75-1.75v-28.5a1.75 1.75 0 0 0-1.75-1.75h-3.937a4.25 4.25 0 0 1-4.063 3h-7.5a4.25 4.25 0 0 1-4.063-3M31.813 7h3.937A4.25 4.25 0 0 1 40 11.25v28.5A4.25 4.25 0 0 1 35.75 44h-23.5A4.25 4.25 0 0 1 8 39.75v-28.5A4.25 4.25 0 0 1 12.25 7h3.937a4.25 4.25 0 0 1 4.063-3h7.5a4.25 4.25 0 0 1 4.063 3M18.5 8.25c0 .966.784 1.75 1.75 1.75h7.5a1.75 1.75 0 1 0 0-3.5h-7.5a1.75 1.75 0 0 0-1.75 1.75'/%3E%3C/svg%3E\");--success-icon: url(\"data:image/svg+xml,%3Csvg xmlns='http://www.w3.org/2000/svg' viewBox='0 0 24 24'%3E%3Cpath fill='%2366ff85' d='M9 16.17L5.53 12.7a.996.996 0 1 0-1.41 1.41l4.18 4.18c.39.39 1.02.39 1.41 0L20.29 7.71a.996.996 0 1 0-1.41-1.41z'/%3E%3C/svg%3E\");}pre:has(code) {position: relative;}pre button.rehype-pretty-copy {right: 1px;padding: 0;width: 24px;height: 24px;display: flex;margin-top: 2px;margin-right: 8px;position: absolute;border-radius: 25%;backdrop-filter: blur(3px);& span {width: 100%;aspect-ratio: 1 / 1;}& .ready {background-image: var(--copy-icon);}& .success {display: none; background-image: var(--success-icon);}}&.rehype-pretty-copied {& .success {display: block;} & .ready {display: none;}}pre button.rehype-pretty-copy.rehype-pretty-copied {opacity: 1;& .ready { display: none; }& .success { display: block; }}</style></code></pre></figure>\n",
      "<h3>Sample HTML Template</h3>\n",
      "<p>A sample <code>.html</code> file that contains HTML, CSS, and Javascript.</p>\n",
      "<figure data-rehype-pretty-code-figure=\"\"><pre style=\"background-color:#22272e;color:#adbac7\" tabindex=\"0\" data-language=\"html\" data-theme=\"github-dark-dimmed\"><code data-language=\"html\" data-theme=\"github-dark-dimmed\" style=\"display: grid;\"><span data-line=\"\"><span style=\"color:#ADBAC7\">&#x3C;!</span><span style=\"color:#8DDB8C\">DOCTYPE</span><span style=\"color:#6CB6FF\"> html</span><span style=\"color:#ADBAC7\">></span></span>\n",
      "<span data-line=\"\"><span style=\"color:#ADBAC7\">&#x3C;</span><span style=\"color:#8DDB8C\">html</span><span style=\"color:#6CB6FF\"> lang</span><span style=\"color:#ADBAC7\">=</span><span style=\"color:#96D0FF\">\"en\"</span><span style=\"color:#ADBAC7\">></span></span>\n",
      "<span data-line=\"\"><span style=\"color:#ADBAC7\">&#x3C;</span><span style=\"color:#8DDB8C\">head</span><span style=\"color:#ADBAC7\">></span></span>\n",
      "<span data-line=\"\"><span style=\"color:#ADBAC7\">    &#x3C;</span><span style=\"color:#8DDB8C\">meta</span><span style=\"color:#6CB6FF\"> charset</span><span style=\"color:#ADBAC7\">=</span><span style=\"color:#96D0FF\">\"UTF-8\"</span><span style=\"color:#ADBAC7\">></span></span>\n",
      "<span data-line=\"\"><span style=\"color:#ADBAC7\">    &#x3C;</span><span style=\"color:#8DDB8C\">meta</span><span style=\"color:#6CB6FF\"> name</span><span style=\"color:#ADBAC7\">=</span><span style=\"color:#96D0FF\">\"viewport\"</span><span style=\"color:#6CB6FF\"> content</span><span style=\"color:#ADBAC7\">=</span><span style=\"color:#96D0FF\">\"width=device-width, initial-scale=1.0\"</span><span style=\"color:#ADBAC7\">></span></span>\n",
      "<span data-line=\"\"><span style=\"color:#ADBAC7\">    &#x3C;</span><span style=\"color:#8DDB8C\">meta</span><span style=\"color:#6CB6FF\"> http-equiv</span><span style=\"color:#ADBAC7\">=</span><span style=\"color:#96D0FF\">\"X-UA-Compatible\"</span><span style=\"color:#6CB6FF\"> content</span><span style=\"color:#ADBAC7\">=</span><span style=\"color:#96D0FF\">\"ie=edge\"</span><span style=\"color:#ADBAC7\">></span></span>\n",
      "<span data-line=\"\"><span style=\"color:#ADBAC7\">    &#x3C;</span><span style=\"color:#8DDB8C\">title</span><span style=\"color:#ADBAC7\">>CodeWithHarry Cheatsheet&#x3C;/</span><span style=\"color:#8DDB8C\">title</span><span style=\"color:#ADBAC7\">></span></span>\n",
      "<span data-line=\"\"><span style=\"color:#ADBAC7\">&#x3C;/</span><span style=\"color:#8DDB8C\">head</span><span style=\"color:#ADBAC7\">></span></span>\n",
      "<span data-line=\"\"><span style=\"color:#ADBAC7\">&#x3C;</span><span style=\"color:#8DDB8C\">body</span><span style=\"color:#ADBAC7\">></span></span>\n",
      "<span data-line=\"\"><span style=\"color:#ADBAC7\">    &#x3C;</span><span style=\"color:#8DDB8C\">h1</span><span style=\"color:#ADBAC7\">>This is a sample template file.&#x3C;/</span><span style=\"color:#8DDB8C\">h1</span><span style=\"color:#ADBAC7\">></span></span>\n",
      "<span data-line=\"\"><span style=\"color:#ADBAC7\">&#x3C;/</span><span style=\"color:#8DDB8C\">body</span><span style=\"color:#ADBAC7\">></span></span>\n",
      "<span data-line=\"\"><span style=\"color:#ADBAC7\">&#x3C;/</span><span style=\"color:#8DDB8C\">html</span><span style=\"color:#ADBAC7\">></span></span><button type=\"button\" title=\"Copy code\" aria-label=\"Copy code\" data=\"<!DOCTYPE html>\n",
      "<html lang=&#x22;en&#x22;>\n",
      "<head>\n",
      "    <meta charset=&#x22;UTF-8&#x22;>\n",
      "    <meta name=&#x22;viewport&#x22; content=&#x22;width=device-width, initial-scale=1.0&#x22;>\n",
      "    <meta http-equiv=&#x22;X-UA-Compatible&#x22; content=&#x22;ie=edge&#x22;>\n",
      "    <title>CodeWithHarry Cheatsheet</title>\n",
      "</head>\n",
      "<body>\n",
      "    <h1>This is a sample template file.</h1>\n",
      "</body>\n",
      "</html>\" class=\"rehype-pretty-copy\" onclick=\"navigator.clipboard.writeText(this.attributes.data.value);this.classList.add(&#x27;rehype-pretty-copied&#x27;);window.setTimeout(() => this.classList.remove(&#x27;rehype-pretty-copied&#x27;), 3000);\"><span class=\"ready\"></span><span class=\"success\"></span></button><style>:root {--copy-icon: url(\"data:image/svg+xml,%3Csvg xmlns='http://www.w3.org/2000/svg' viewBox='0 0 48 48'%3E%3Cpath fill='%23adadad' d='M16.187 9.5H12.25a1.75 1.75 0 0 0-1.75 1.75v28.5c0 .967.784 1.75 1.75 1.75h23.5a1.75 1.75 0 0 0 1.75-1.75v-28.5a1.75 1.75 0 0 0-1.75-1.75h-3.937a4.25 4.25 0 0 1-4.063 3h-7.5a4.25 4.25 0 0 1-4.063-3M31.813 7h3.937A4.25 4.25 0 0 1 40 11.25v28.5A4.25 4.25 0 0 1 35.75 44h-23.5A4.25 4.25 0 0 1 8 39.75v-28.5A4.25 4.25 0 0 1 12.25 7h3.937a4.25 4.25 0 0 1 4.063-3h7.5a4.25 4.25 0 0 1 4.063 3M18.5 8.25c0 .966.784 1.75 1.75 1.75h7.5a1.75 1.75 0 1 0 0-3.5h-7.5a1.75 1.75 0 0 0-1.75 1.75'/%3E%3C/svg%3E\");--success-icon: url(\"data:image/svg+xml,%3Csvg xmlns='http://www.w3.org/2000/svg' viewBox='0 0 24 24'%3E%3Cpath fill='%2366ff85' d='M9 16.17L5.53 12.7a.996.996 0 1 0-1.41 1.41l4.18 4.18c.39.39 1.02.39 1.41 0L20.29 7.71a.996.996 0 1 0-1.41-1.41z'/%3E%3C/svg%3E\");}pre:has(code) {position: relative;}pre button.rehype-pretty-copy {right: 1px;padding: 0;width: 24px;height: 24px;display: flex;margin-top: 2px;margin-right: 8px;position: absolute;border-radius: 25%;backdrop-filter: blur(3px);& span {width: 100%;aspect-ratio: 1 / 1;}& .ready {background-image: var(--copy-icon);}& .success {display: none; background-image: var(--success-icon);}}&.rehype-pretty-copied {& .success {display: block;} & .ready {display: none;}}pre button.rehype-pretty-copy.rehype-pretty-copied {opacity: 1;& .ready { display: none; }& .success { display: block; }}</style></code></pre></figure>\n",
      "<h2>Views in Django</h2>\n",
      "<h3>Sample Function-Based Views</h3>\n",
      "<p>A Python function that takes a web request and returns a web response.</p>\n",
      "<figure data-rehype-pretty-code-figure=\"\"><pre style=\"background-color:#22272e;color:#adbac7\" tabindex=\"0\" data-language=\"python\" data-theme=\"github-dark-dimmed\"><code data-language=\"python\" data-theme=\"github-dark-dimmed\" style=\"display: grid;\"><span data-line=\"\"><span style=\"color:#F47067\">from</span><span style=\"color:#ADBAC7\"> django.http </span><span style=\"color:#F47067\">import</span><span style=\"color:#ADBAC7\"> HttpResponse</span></span>\n",
      "<span data-line=\"\"> </span>\n",
      "<span data-line=\"\"><span style=\"color:#F47067\">def</span><span style=\"color:#DCBDFB\"> index</span><span style=\"color:#ADBAC7\">(request):</span></span>\n",
      "<span data-line=\"\"><span style=\"color:#F47067\">    return</span><span style=\"color:#ADBAC7\"> HttpResponse(</span><span style=\"color:#96D0FF\">\"This is a function based view.\"</span><span style=\"color:#ADBAC7\">)</span></span><button type=\"button\" title=\"Copy code\" aria-label=\"Copy code\" data=\"from django.http import HttpResponse\n",
      "\n",
      "def index(request):\n",
      "    return HttpResponse(&#x22;This is a function based view.&#x22;)\" class=\"rehype-pretty-copy\" onclick=\"navigator.clipboard.writeText(this.attributes.data.value);this.classList.add(&#x27;rehype-pretty-copied&#x27;);window.setTimeout(() => this.classList.remove(&#x27;rehype-pretty-copied&#x27;), 3000);\"><span class=\"ready\"></span><span class=\"success\"></span></button><style>:root {--copy-icon: url(\"data:image/svg+xml,%3Csvg xmlns='http://www.w3.org/2000/svg' viewBox='0 0 48 48'%3E%3Cpath fill='%23adadad' d='M16.187 9.5H12.25a1.75 1.75 0 0 0-1.75 1.75v28.5c0 .967.784 1.75 1.75 1.75h23.5a1.75 1.75 0 0 0 1.75-1.75v-28.5a1.75 1.75 0 0 0-1.75-1.75h-3.937a4.25 4.25 0 0 1-4.063 3h-7.5a4.25 4.25 0 0 1-4.063-3M31.813 7h3.937A4.25 4.25 0 0 1 40 11.25v28.5A4.25 4.25 0 0 1 35.75 44h-23.5A4.25 4.25 0 0 1 8 39.75v-28.5A4.25 4.25 0 0 1 12.25 7h3.937a4.25 4.25 0 0 1 4.063-3h7.5a4.25 4.25 0 0 1 4.063 3M18.5 8.25c0 .966.784 1.75 1.75 1.75h7.5a1.75 1.75 0 1 0 0-3.5h-7.5a1.75 1.75 0 0 0-1.75 1.75'/%3E%3C/svg%3E\");--success-icon: url(\"data:image/svg+xml,%3Csvg xmlns='http://www.w3.org/2000/svg' viewBox='0 0 24 24'%3E%3Cpath fill='%2366ff85' d='M9 16.17L5.53 12.7a.996.996 0 1 0-1.41 1.41l4.18 4.18c.39.39 1.02.39 1.41 0L20.29 7.71a.996.996 0 1 0-1.41-1.41z'/%3E%3C/svg%3E\");}pre:has(code) {position: relative;}pre button.rehype-pretty-copy {right: 1px;padding: 0;width: 24px;height: 24px;display: flex;margin-top: 2px;margin-right: 8px;position: absolute;border-radius: 25%;backdrop-filter: blur(3px);& span {width: 100%;aspect-ratio: 1 / 1;}& .ready {background-image: var(--copy-icon);}& .success {display: none; background-image: var(--success-icon);}}&.rehype-pretty-copied {& .success {display: block;} & .ready {display: none;}}pre button.rehype-pretty-copy.rehype-pretty-copied {opacity: 1;& .ready { display: none; }& .success { display: block; }}</style></code></pre></figure>\n",
      "<h3>Sample Class-Based Views</h3>\n",
      "<p>Django's class-based views provide an object-oriented way of organizing your view code.</p>\n",
      "<figure data-rehype-pretty-code-figure=\"\"><pre style=\"background-color:#22272e;color:#adbac7\" tabindex=\"0\" data-language=\"python\" data-theme=\"github-dark-dimmed\"><code data-language=\"python\" data-theme=\"github-dark-dimmed\" style=\"display: grid;\"><span data-line=\"\"><span style=\"color:#F47067\">from</span><span style=\"color:#ADBAC7\"> django.views </span><span style=\"color:#F47067\">import</span><span style=\"color:#ADBAC7\"> View</span></span>\n",
      "<span data-line=\"\"> </span>\n",
      "<span data-line=\"\"><span style=\"color:#F47067\">class</span><span style=\"color:#F69D50\"> SimpleClassBasedView</span><span style=\"color:#ADBAC7\">(</span><span style=\"color:#6CB6FF\">View</span><span style=\"color:#ADBAC7\">):</span></span>\n",
      "<span data-line=\"\"><span style=\"color:#F47067\">    def</span><span style=\"color:#DCBDFB\"> get</span><span style=\"color:#ADBAC7\">(self, request):</span></span>\n",
      "<span data-line=\"\"><span style=\"color:#F47067\">        pass</span><span style=\"color:#768390\"> # Code to process a GET request</span></span><button type=\"button\" title=\"Copy code\" aria-label=\"Copy code\" data=\"from django.views import View\n",
      "\n",
      "class SimpleClassBasedView(View):\n",
      "    def get(self, request):\n",
      "        pass # Code to process a GET request\" class=\"rehype-pretty-copy\" onclick=\"navigator.clipboard.writeText(this.attributes.data.value);this.classList.add(&#x27;rehype-pretty-copied&#x27;);window.setTimeout(() => this.classList.remove(&#x27;rehype-pretty-copied&#x27;), 3000);\"><span class=\"ready\"></span><span class=\"success\"></span></button><style>:root {--copy-icon: url(\"data:image/svg+xml,%3Csvg xmlns='http://www.w3.org/2000/svg' viewBox='0 0 48 48'%3E%3Cpath fill='%23adadad' d='M16.187 9.5H12.25a1.75 1.75 0 0 0-1.75 1.75v28.5c0 .967.784 1.75 1.75 1.75h23.5a1.75 1.75 0 0 0 1.75-1.75v-28.5a1.75 1.75 0 0 0-1.75-1.75h-3.937a4.25 4.25 0 0 1-4.063 3h-7.5a4.25 4.25 0 0 1-4.063-3M31.813 7h3.937A4.25 4.25 0 0 1 40 11.25v28.5A4.25 4.25 0 0 1 35.75 44h-23.5A4.25 4.25 0 0 1 8 39.75v-28.5A4.25 4.25 0 0 1 12.25 7h3.937a4.25 4.25 0 0 1 4.063-3h7.5a4.25 4.25 0 0 1 4.063 3M18.5 8.25c0 .966.784 1.75 1.75 1.75h7.5a1.75 1.75 0 1 0 0-3.5h-7.5a1.75 1.75 0 0 0-1.75 1.75'/%3E%3C/svg%3E\");--success-icon: url(\"data:image/svg+xml,%3Csvg xmlns='http://www.w3.org/2000/svg' viewBox='0 0 24 24'%3E%3Cpath fill='%2366ff85' d='M9 16.17L5.53 12.7a.996.996 0 1 0-1.41 1.41l4.18 4.18c.39.39 1.02.39 1.41 0L20.29 7.71a.996.996 0 1 0-1.41-1.41z'/%3E%3C/svg%3E\");}pre:has(code) {position: relative;}pre button.rehype-pretty-copy {right: 1px;padding: 0;width: 24px;height: 24px;display: flex;margin-top: 2px;margin-right: 8px;position: absolute;border-radius: 25%;backdrop-filter: blur(3px);& span {width: 100%;aspect-ratio: 1 / 1;}& .ready {background-image: var(--copy-icon);}& .success {display: none; background-image: var(--success-icon);}}&.rehype-pretty-copied {& .success {display: block;} & .ready {display: none;}}pre button.rehype-pretty-copy.rehype-pretty-copied {opacity: 1;& .ready { display: none; }& .success { display: block; }}</style></code></pre></figure>\n",
      "<h2>URLs in Django</h2>\n",
      "<p>Set of URL patterns to be matched against the requested URL.</p>\n",
      "<h3>Sample urls.py file1</h3>\n",
      "<figure data-rehype-pretty-code-figure=\"\"><pre style=\"background-color:#22272e;color:#adbac7\" tabindex=\"0\" data-language=\"python\" data-theme=\"github-dark-dimmed\"><code data-language=\"python\" data-theme=\"github-dark-dimmed\" style=\"display: grid;\"><span data-line=\"\"><span style=\"color:#F47067\">from</span><span style=\"color:#ADBAC7\"> django.contrib </span><span style=\"color:#F47067\">import</span><span style=\"color:#ADBAC7\"> admin</span></span>\n",
      "<span data-line=\"\"><span style=\"color:#F47067\">from</span><span style=\"color:#ADBAC7\"> django.urls </span><span style=\"color:#F47067\">import</span><span style=\"color:#ADBAC7\"> path</span></span>\n",
      "<span data-line=\"\"><span style=\"color:#F47067\">from</span><span style=\"color:#ADBAC7\"> . </span><span style=\"color:#F47067\">import</span><span style=\"color:#ADBAC7\"> views</span></span>\n",
      "<span data-line=\"\"> </span>\n",
      "<span data-line=\"\"><span style=\"color:#ADBAC7\">urlPatterns </span><span style=\"color:#F47067\">=</span><span style=\"color:#ADBAC7\"> [</span></span>\n",
      "<span data-line=\"\"><span style=\"color:#ADBAC7\">    path(</span><span style=\"color:#96D0FF\">'admin/'</span><span style=\"color:#ADBAC7\">, admin.site.urls),</span></span>\n",
      "<span data-line=\"\"><span style=\"color:#ADBAC7\">    path(</span><span style=\"color:#96D0FF\">''</span><span style=\"color:#ADBAC7\">, views.index, </span><span style=\"color:#F69D50\">name</span><span style=\"color:#F47067\">=</span><span style=\"color:#96D0FF\">'index'</span><span style=\"color:#ADBAC7\">),</span></span>\n",
      "<span data-line=\"\"><span style=\"color:#ADBAC7\">    path(</span><span style=\"color:#96D0FF\">'about/'</span><span style=\"color:#ADBAC7\">, views.about, </span><span style=\"color:#F69D50\">name</span><span style=\"color:#F47067\">=</span><span style=\"color:#96D0FF\">'about'</span><span style=\"color:#ADBAC7\">),</span></span>\n",
      "<span data-line=\"\"><span style=\"color:#ADBAC7\">]</span></span><button type=\"button\" title=\"Copy code\" aria-label=\"Copy code\" data=\"from django.contrib import admin\n",
      "from django.urls import path\n",
      "from . import views\n",
      "\n",
      "urlPatterns = [\n",
      "    path(&#x27;admin/&#x27;, admin.site.urls),\n",
      "    path(&#x27;&#x27;, views.index, name=&#x27;index&#x27;),\n",
      "    path(&#x27;about/&#x27;, views.about, name=&#x27;about&#x27;),\n",
      "]\" class=\"rehype-pretty-copy\" onclick=\"navigator.clipboard.writeText(this.attributes.data.value);this.classList.add(&#x27;rehype-pretty-copied&#x27;);window.setTimeout(() => this.classList.remove(&#x27;rehype-pretty-copied&#x27;), 3000);\"><span class=\"ready\"></span><span class=\"success\"></span></button><style>:root {--copy-icon: url(\"data:image/svg+xml,%3Csvg xmlns='http://www.w3.org/2000/svg' viewBox='0 0 48 48'%3E%3Cpath fill='%23adadad' d='M16.187 9.5H12.25a1.75 1.75 0 0 0-1.75 1.75v28.5c0 .967.784 1.75 1.75 1.75h23.5a1.75 1.75 0 0 0 1.75-1.75v-28.5a1.75 1.75 0 0 0-1.75-1.75h-3.937a4.25 4.25 0 0 1-4.063 3h-7.5a4.25 4.25 0 0 1-4.063-3M31.813 7h3.937A4.25 4.25 0 0 1 40 11.25v28.5A4.25 4.25 0 0 1 35.75 44h-23.5A4.25 4.25 0 0 1 8 39.75v-28.5A4.25 4.25 0 0 1 12.25 7h3.937a4.25 4.25 0 0 1 4.063-3h7.5a4.25 4.25 0 0 1 4.063 3M18.5 8.25c0 .966.784 1.75 1.75 1.75h7.5a1.75 1.75 0 1 0 0-3.5h-7.5a1.75 1.75 0 0 0-1.75 1.75'/%3E%3C/svg%3E\");--success-icon: url(\"data:image/svg+xml,%3Csvg xmlns='http://www.w3.org/2000/svg' viewBox='0 0 24 24'%3E%3Cpath fill='%2366ff85' d='M9 16.17L5.53 12.7a.996.996 0 1 0-1.41 1.41l4.18 4.18c.39.39 1.02.39 1.41 0L20.29 7.71a.996.996 0 1 0-1.41-1.41z'/%3E%3C/svg%3E\");}pre:has(code) {position: relative;}pre button.rehype-pretty-copy {right: 1px;padding: 0;width: 24px;height: 24px;display: flex;margin-top: 2px;margin-right: 8px;position: absolute;border-radius: 25%;backdrop-filter: blur(3px);& span {width: 100%;aspect-ratio: 1 / 1;}& .ready {background-image: var(--copy-icon);}& .success {display: none; background-image: var(--success-icon);}}&.rehype-pretty-copied {& .success {display: block;} & .ready {display: none;}}pre button.rehype-pretty-copy.rehype-pretty-copied {opacity: 1;& .ready { display: none; }& .success { display: block; }}</style></code></pre></figure>\n",
      "<h3>Sample urls.py file2</h3>\n",
      "<figure data-rehype-pretty-code-figure=\"\"><pre style=\"background-color:#22272e;color:#adbac7\" tabindex=\"0\" data-language=\"python\" data-theme=\"github-dark-dimmed\"><code data-language=\"python\" data-theme=\"github-dark-dimmed\" style=\"display: grid;\"><span data-line=\"\"><span style=\"color:#F47067\">from</span><span style=\"color:#ADBAC7\"> django.urls </span><span style=\"color:#F47067\">import</span><span style=\"color:#ADBAC7\"> include, path</span></span>\n",
      "<span data-line=\"\"> </span>\n",
      "<span data-line=\"\"><span style=\"color:#ADBAC7\">urlpatterns </span><span style=\"color:#F47067\">=</span><span style=\"color:#ADBAC7\"> [</span></span>\n",
      "<span data-line=\"\"><span style=\"color:#768390\">    # ... snip ...</span></span>\n",
      "<span data-line=\"\"><span style=\"color:#ADBAC7\">    path(</span><span style=\"color:#96D0FF\">'community/'</span><span style=\"color:#ADBAC7\">, include(</span><span style=\"color:#96D0FF\">'aggregator.urls'</span><span style=\"color:#ADBAC7\">)),</span></span>\n",
      "<span data-line=\"\"><span style=\"color:#ADBAC7\">    path(</span><span style=\"color:#96D0FF\">'contact/'</span><span style=\"color:#ADBAC7\">, include(</span><span style=\"color:#96D0FF\">'contact.urls'</span><span style=\"color:#ADBAC7\">)),</span></span>\n",
      "<span data-line=\"\"><span style=\"color:#768390\">    # ... snip ...</span></span>\n",
      "<span data-line=\"\"><span style=\"color:#ADBAC7\">]</span></span><button type=\"button\" title=\"Copy code\" aria-label=\"Copy code\" data=\"from django.urls import include, path\n",
      "\n",
      "urlpatterns = [\n",
      "    # ... snip ...\n",
      "    path(&#x27;community/&#x27;, include(&#x27;aggregator.urls&#x27;)),\n",
      "    path(&#x27;contact/&#x27;, include(&#x27;contact.urls&#x27;)),\n",
      "    # ... snip ...\n",
      "]\" class=\"rehype-pretty-copy\" onclick=\"navigator.clipboard.writeText(this.attributes.data.value);this.classList.add(&#x27;rehype-pretty-copied&#x27;);window.setTimeout(() => this.classList.remove(&#x27;rehype-pretty-copied&#x27;), 3000);\"><span class=\"ready\"></span><span class=\"success\"></span></button><style>:root {--copy-icon: url(\"data:image/svg+xml,%3Csvg xmlns='http://www.w3.org/2000/svg' viewBox='0 0 48 48'%3E%3Cpath fill='%23adadad' d='M16.187 9.5H12.25a1.75 1.75 0 0 0-1.75 1.75v28.5c0 .967.784 1.75 1.75 1.75h23.5a1.75 1.75 0 0 0 1.75-1.75v-28.5a1.75 1.75 0 0 0-1.75-1.75h-3.937a4.25 4.25 0 0 1-4.063 3h-7.5a4.25 4.25 0 0 1-4.063-3M31.813 7h3.937A4.25 4.25 0 0 1 40 11.25v28.5A4.25 4.25 0 0 1 35.75 44h-23.5A4.25 4.25 0 0 1 8 39.75v-28.5A4.25 4.25 0 0 1 12.25 7h3.937a4.25 4.25 0 0 1 4.063-3h7.5a4.25 4.25 0 0 1 4.063 3M18.5 8.25c0 .966.784 1.75 1.75 1.75h7.5a1.75 1.75 0 1 0 0-3.5h-7.5a1.75 1.75 0 0 0-1.75 1.75'/%3E%3C/svg%3E\");--success-icon: url(\"data:image/svg+xml,%3Csvg xmlns='http://www.w3.org/2000/svg' viewBox='0 0 24 24'%3E%3Cpath fill='%2366ff85' d='M9 16.17L5.53 12.7a.996.996 0 1 0-1.41 1.41l4.18 4.18c.39.39 1.02.39 1.41 0L20.29 7.71a.996.996 0 1 0-1.41-1.41z'/%3E%3C/svg%3E\");}pre:has(code) {position: relative;}pre button.rehype-pretty-copy {right: 1px;padding: 0;width: 24px;height: 24px;display: flex;margin-top: 2px;margin-right: 8px;position: absolute;border-radius: 25%;backdrop-filter: blur(3px);& span {width: 100%;aspect-ratio: 1 / 1;}& .ready {background-image: var(--copy-icon);}& .success {display: none; background-image: var(--success-icon);}}&.rehype-pretty-copied {& .success {display: block;} & .ready {display: none;}}pre button.rehype-pretty-copy.rehype-pretty-copied {opacity: 1;& .ready { display: none; }& .success { display: block; }}</style></code></pre></figure>\n",
      "<h2>Forms in Django</h2>\n",
      "<p>Similar to HTML forms but are created by Django using the form field.</p>\n",
      "<h3>Sample Django form</h3>\n",
      "<figure data-rehype-pretty-code-figure=\"\"><pre style=\"background-color:#22272e;color:#adbac7\" tabindex=\"0\" data-language=\"python\" data-theme=\"github-dark-dimmed\"><code data-language=\"python\" data-theme=\"github-dark-dimmed\" style=\"display: grid;\"><span data-line=\"\"><span style=\"color:#F47067\">from</span><span style=\"color:#ADBAC7\"> django </span><span style=\"color:#F47067\">import</span><span style=\"color:#ADBAC7\"> forms</span></span>\n",
      "<span data-line=\"\"> </span>\n",
      "<span data-line=\"\"><span style=\"color:#768390\"># creating a form</span></span>\n",
      "<span data-line=\"\"><span style=\"color:#F47067\">class</span><span style=\"color:#F69D50\"> SampleForm</span><span style=\"color:#ADBAC7\">(</span><span style=\"color:#6CB6FF\">forms</span><span style=\"color:#ADBAC7\">.</span><span style=\"color:#6CB6FF\">Form</span><span style=\"color:#ADBAC7\">):</span></span>\n",
      "<span data-line=\"\"><span style=\"color:#ADBAC7\">    name </span><span style=\"color:#F47067\">=</span><span style=\"color:#ADBAC7\"> forms.CharField()</span></span>\n",
      "<span data-line=\"\"><span style=\"color:#ADBAC7\">    description </span><span style=\"color:#F47067\">=</span><span style=\"color:#ADBAC7\"> forms.CharField()</span></span><button type=\"button\" title=\"Copy code\" aria-label=\"Copy code\" data=\"from django import forms\n",
      "\n",
      "# creating a form\n",
      "class SampleForm(forms.Form):\n",
      "    name = forms.CharField()\n",
      "    description = forms.CharField()\" class=\"rehype-pretty-copy\" onclick=\"navigator.clipboard.writeText(this.attributes.data.value);this.classList.add(&#x27;rehype-pretty-copied&#x27;);window.setTimeout(() => this.classList.remove(&#x27;rehype-pretty-copied&#x27;), 3000);\"><span class=\"ready\"></span><span class=\"success\"></span></button><style>:root {--copy-icon: url(\"data:image/svg+xml,%3Csvg xmlns='http://www.w3.org/2000/svg' viewBox='0 0 48 48'%3E%3Cpath fill='%23adadad' d='M16.187 9.5H12.25a1.75 1.75 0 0 0-1.75 1.75v28.5c0 .967.784 1.75 1.75 1.75h23.5a1.75 1.75 0 0 0 1.75-1.75v-28.5a1.75 1.75 0 0 0-1.75-1.75h-3.937a4.25 4.25 0 0 1-4.063 3h-7.5a4.25 4.25 0 0 1-4.063-3M31.813 7h3.937A4.25 4.25 0 0 1 40 11.25v28.5A4.25 4.25 0 0 1 35.75 44h-23.5A4.25 4.25 0 0 1 8 39.75v-28.5A4.25 4.25 0 0 1 12.25 7h3.937a4.25 4.25 0 0 1 4.063-3h7.5a4.25 4.25 0 0 1 4.063 3M18.5 8.25c0 .966.784 1.75 1.75 1.75h7.5a1.75 1.75 0 1 0 0-3.5h-7.5a1.75 1.75 0 0 0-1.75 1.75'/%3E%3C/svg%3E\");--success-icon: url(\"data:image/svg+xml,%3Csvg xmlns='http://www.w3.org/2000/svg' viewBox='0 0 24 24'%3E%3Cpath fill='%2366ff85' d='M9 16.17L5.53 12.7a.996.996 0 1 0-1.41 1.41l4.18 4.18c.39.39 1.02.39 1.41 0L20.29 7.71a.996.996 0 1 0-1.41-1.41z'/%3E%3C/svg%3E\");}pre:has(code) {position: relative;}pre button.rehype-pretty-copy {right: 1px;padding: 0;width: 24px;height: 24px;display: flex;margin-top: 2px;margin-right: 8px;position: absolute;border-radius: 25%;backdrop-filter: blur(3px);& span {width: 100%;aspect-ratio: 1 / 1;}& .ready {background-image: var(--copy-icon);}& .success {display: none; background-image: var(--success-icon);}}&.rehype-pretty-copied {& .success {display: block;} & .ready {display: none;}}pre button.rehype-pretty-copy.rehype-pretty-copied {opacity: 1;& .ready { display: none; }& .success { display: block; }}</style></code></pre></figure>\n",
      "<h2>Apps in Django</h2>\n",
      "<p>Apps in Django are like independent modules for different functionalities.</p>\n",
      "<h3>Creating an app</h3>\n",
      "<figure data-rehype-pretty-code-figure=\"\"><pre style=\"background-color:#22272e;color:#adbac7\" tabindex=\"0\" data-language=\"python\" data-theme=\"github-dark-dimmed\"><code data-language=\"python\" data-theme=\"github-dark-dimmed\" style=\"display: grid;\"><span data-line=\"\"><span style=\"color:#ADBAC7\">python manage.py startapp AppName</span></span><button type=\"button\" title=\"Copy code\" aria-label=\"Copy code\" data=\"python manage.py startapp AppName\" class=\"rehype-pretty-copy\" onclick=\"navigator.clipboard.writeText(this.attributes.data.value);this.classList.add(&#x27;rehype-pretty-copied&#x27;);window.setTimeout(() => this.classList.remove(&#x27;rehype-pretty-copied&#x27;), 3000);\"><span class=\"ready\"></span><span class=\"success\"></span></button><style>:root {--copy-icon: url(\"data:image/svg+xml,%3Csvg xmlns='http://www.w3.org/2000/svg' viewBox='0 0 48 48'%3E%3Cpath fill='%23adadad' d='M16.187 9.5H12.25a1.75 1.75 0 0 0-1.75 1.75v28.5c0 .967.784 1.75 1.75 1.75h23.5a1.75 1.75 0 0 0 1.75-1.75v-28.5a1.75 1.75 0 0 0-1.75-1.75h-3.937a4.25 4.25 0 0 1-4.063 3h-7.5a4.25 4.25 0 0 1-4.063-3M31.813 7h3.937A4.25 4.25 0 0 1 40 11.25v28.5A4.25 4.25 0 0 1 35.75 44h-23.5A4.25 4.25 0 0 1 8 39.75v-28.5A4.25 4.25 0 0 1 12.25 7h3.937a4.25 4.25 0 0 1 4.063-3h7.5a4.25 4.25 0 0 1 4.063 3M18.5 8.25c0 .966.784 1.75 1.75 1.75h7.5a1.75 1.75 0 1 0 0-3.5h-7.5a1.75 1.75 0 0 0-1.75 1.75'/%3E%3C/svg%3E\");--success-icon: url(\"data:image/svg+xml,%3Csvg xmlns='http://www.w3.org/2000/svg' viewBox='0 0 24 24'%3E%3Cpath fill='%2366ff85' d='M9 16.17L5.53 12.7a.996.996 0 1 0-1.41 1.41l4.18 4.18c.39.39 1.02.39 1.41 0L20.29 7.71a.996.996 0 1 0-1.41-1.41z'/%3E%3C/svg%3E\");}pre:has(code) {position: relative;}pre button.rehype-pretty-copy {right: 1px;padding: 0;width: 24px;height: 24px;display: flex;margin-top: 2px;margin-right: 8px;position: absolute;border-radius: 25%;backdrop-filter: blur(3px);& span {width: 100%;aspect-ratio: 1 / 1;}& .ready {background-image: var(--copy-icon);}& .success {display: none; background-image: var(--success-icon);}}&.rehype-pretty-copied {& .success {display: block;} & .ready {display: none;}}pre button.rehype-pretty-copy.rehype-pretty-copied {opacity: 1;& .ready { display: none; }& .success { display: block; }}</style></code></pre></figure>\n",
      "<h3>Listing app in the settings.py</h3>\n",
      "<p>After creating an app, we need to list the app name in <code>INSTALLED_APPS</code>.</p>\n",
      "<figure data-rehype-pretty-code-figure=\"\"><pre style=\"background-color:#22272e;color:#adbac7\" tabindex=\"0\" data-language=\"python\" data-theme=\"github-dark-dimmed\"><code data-language=\"python\" data-theme=\"github-dark-dimmed\" style=\"display: grid;\"><span data-line=\"\"><span style=\"color:#6CB6FF\">INSTALLED_APPS</span><span style=\"color:#F47067\"> =</span><span style=\"color:#ADBAC7\"> [</span></span>\n",
      "<span data-line=\"\"><span style=\"color:#96D0FF\">    'django.contrib.admin'</span><span style=\"color:#ADBAC7\">,</span></span>\n",
      "<span data-line=\"\"><span style=\"color:#96D0FF\">    'django.contrib.auth'</span><span style=\"color:#ADBAC7\">,</span></span>\n",
      "<span data-line=\"\"><span style=\"color:#96D0FF\">    'django.contrib.contenttypes'</span><span style=\"color:#ADBAC7\">,</span></span>\n",
      "<span data-line=\"\"><span style=\"color:#96D0FF\">    'django.contrib.sessions'</span><span style=\"color:#ADBAC7\">,</span></span>\n",
      "<span data-line=\"\"><span style=\"color:#96D0FF\">    'django.contrib.messages'</span><span style=\"color:#ADBAC7\">,</span></span>\n",
      "<span data-line=\"\"><span style=\"color:#96D0FF\">    'django.contrib.staticfiles'</span><span style=\"color:#ADBAC7\">,</span></span>\n",
      "<span data-line=\"\"><span style=\"color:#96D0FF\">    'AppName'</span></span>\n",
      "<span data-line=\"\"><span style=\"color:#ADBAC7\">]</span></span><button type=\"button\" title=\"Copy code\" aria-label=\"Copy code\" data=\"INSTALLED_APPS = [\n",
      "    &#x27;django.contrib.admin&#x27;,\n",
      "    &#x27;django.contrib.auth&#x27;,\n",
      "    &#x27;django.contrib.contenttypes&#x27;,\n",
      "    &#x27;django.contrib.sessions&#x27;,\n",
      "    &#x27;django.contrib.messages&#x27;,\n",
      "    &#x27;django.contrib.staticfiles&#x27;,\n",
      "    &#x27;AppName&#x27;\n",
      "]\" class=\"rehype-pretty-copy\" onclick=\"navigator.clipboard.writeText(this.attributes.data.value);this.classList.add(&#x27;rehype-pretty-copied&#x27;);window.setTimeout(() => this.classList.remove(&#x27;rehype-pretty-copied&#x27;), 3000);\"><span class=\"ready\"></span><span class=\"success\"></span></button><style>:root {--copy-icon: url(\"data:image/svg+xml,%3Csvg xmlns='http://www.w3.org/2000/svg' viewBox='0 0 48 48'%3E%3Cpath fill='%23adadad' d='M16.187 9.5H12.25a1.75 1.75 0 0 0-1.75 1.75v28.5c0 .967.784 1.75 1.75 1.75h23.5a1.75 1.75 0 0 0 1.75-1.75v-28.5a1.75 1.75 0 0 0-1.75-1.75h-3.937a4.25 4.25 0 0 1-4.063 3h-7.5a4.25 4.25 0 0 1-4.063-3M31.813 7h3.937A4.25 4.25 0 0 1 40 11.25v28.5A4.25 4.25 0 0 1 35.75 44h-23.5A4.25 4.25 0 0 1 8 39.75v-28.5A4.25 4.25 0 0 1 12.25 7h3.937a4.25 4.25 0 0 1 4.063-3h7.5a4.25 4.25 0 0 1 4.063 3M18.5 8.25c0 .966.784 1.75 1.75 1.75h7.5a1.75 1.75 0 1 0 0-3.5h-7.5a1.75 1.75 0 0 0-1.75 1.75'/%3E%3C/svg%3E\");--success-icon: url(\"data:image/svg+xml,%3Csvg xmlns='http://www.w3.org/2000/svg' viewBox='0 0 24 24'%3E%3Cpath fill='%2366ff85' d='M9 16.17L5.53 12.7a.996.996 0 1 0-1.41 1.41l4.18 4.18c.39.39 1.02.39 1.41 0L20.29 7.71a.996.996 0 1 0-1.41-1.41z'/%3E%3C/svg%3E\");}pre:has(code) {position: relative;}pre button.rehype-pretty-copy {right: 1px;padding: 0;width: 24px;height: 24px;display: flex;margin-top: 2px;margin-right: 8px;position: absolute;border-radius: 25%;backdrop-filter: blur(3px);& span {width: 100%;aspect-ratio: 1 / 1;}& .ready {background-image: var(--copy-icon);}& .success {display: none; background-image: var(--success-icon);}}&.rehype-pretty-copied {& .success {display: block;} & .ready {display: none;}}pre button.rehype-pretty-copy.rehype-pretty-copied {opacity: 1;& .ready { display: none; }& .success { display: block; }}</style></code></pre></figure>\n",
      "<h2>Templates in Django</h2>\n",
      "<p>Used to handle dynamic HTML files separately.</p>\n",
      "<h3>Configuring templates in settings.py</h3>\n",
      "<figure data-rehype-pretty-code-figure=\"\"><pre style=\"background-color:#22272e;color:#adbac7\" tabindex=\"0\" data-language=\"python\" data-theme=\"github-dark-dimmed\"><code data-language=\"python\" data-theme=\"github-dark-dimmed\" style=\"display: grid;\"><span data-line=\"\"><span style=\"color:#6CB6FF\">TEMPLATES</span><span style=\"color:#F47067\"> =</span><span style=\"color:#ADBAC7\"> [</span></span>\n",
      "<span data-line=\"\"><span style=\"color:#ADBAC7\">    {</span></span>\n",
      "<span data-line=\"\"><span style=\"color:#96D0FF\">        'BACKEND'</span><span style=\"color:#ADBAC7\">: </span><span style=\"color:#96D0FF\">'django.template.backends.django.DjangoTemplates'</span><span style=\"color:#ADBAC7\">,</span></span>\n",
      "<span data-line=\"\"><span style=\"color:#96D0FF\">        'DIRS'</span><span style=\"color:#ADBAC7\">: [</span><span style=\"color:#96D0FF\">\"templates\"</span><span style=\"color:#ADBAC7\">],</span></span>\n",
      "<span data-line=\"\"><span style=\"color:#96D0FF\">        'APP_DIRS'</span><span style=\"color:#ADBAC7\">: </span><span style=\"color:#6CB6FF\">True</span><span style=\"color:#ADBAC7\">,</span></span>\n",
      "<span data-line=\"\"><span style=\"color:#96D0FF\">        'OPTIONS'</span><span style=\"color:#ADBAC7\">: {</span></span>\n",
      "<span data-line=\"\"><span style=\"color:#768390\">            # some options here</span></span>\n",
      "<span data-line=\"\"><span style=\"color:#ADBAC7\">        },</span></span>\n",
      "<span data-line=\"\"><span style=\"color:#ADBAC7\">    },</span></span>\n",
      "<span data-line=\"\"><span style=\"color:#ADBAC7\">]</span></span><button type=\"button\" title=\"Copy code\" aria-label=\"Copy code\" data=\"TEMPLATES = [\n",
      "    {\n",
      "        &#x27;BACKEND&#x27;: &#x27;django.template.backends.django.DjangoTemplates&#x27;,\n",
      "        &#x27;DIRS&#x27;: [&#x22;templates&#x22;],\n",
      "        &#x27;APP_DIRS&#x27;: True,\n",
      "        &#x27;OPTIONS&#x27;: {\n",
      "            # some options here\n",
      "        },\n",
      "    },\n",
      "]\" class=\"rehype-pretty-copy\" onclick=\"navigator.clipboard.writeText(this.attributes.data.value);this.classList.add(&#x27;rehype-pretty-copied&#x27;);window.setTimeout(() => this.classList.remove(&#x27;rehype-pretty-copied&#x27;), 3000);\"><span class=\"ready\"></span><span class=\"success\"></span></button><style>:root {--copy-icon: url(\"data:image/svg+xml,%3Csvg xmlns='http://www.w3.org/2000/svg' viewBox='0 0 48 48'%3E%3Cpath fill='%23adadad' d='M16.187 9.5H12.25a1.75 1.75 0 0 0-1.75 1.75v28.5c0 .967.784 1.75 1.75 1.75h23.5a1.75 1.75 0 0 0 1.75-1.75v-28.5a1.75 1.75 0 0 0-1.75-1.75h-3.937a4.25 4.25 0 0 1-4.063 3h-7.5a4.25 4.25 0 0 1-4.063-3M31.813 7h3.937A4.25 4.25 0 0 1 40 11.25v28.5A4.25 4.25 0 0 1 35.75 44h-23.5A4.25 4.25 0 0 1 8 39.75v-28.5A4.25 4.25 0 0 1 12.25 7h3.937a4.25 4.25 0 0 1 4.063-3h7.5a4.25 4.25 0 0 1 4.063 3M18.5 8.25c0 .966.784 1.75 1.75 1.75h7.5a1.75 1.75 0 1 0 0-3.5h-7.5a1.75 1.75 0 0 0-1.75 1.75'/%3E%3C/svg%3E\");--success-icon: url(\"data:image/svg+xml,%3Csvg xmlns='http://www.w3.org/2000/svg' viewBox='0 0 24 24'%3E%3Cpath fill='%2366ff85' d='M9 16.17L5.53 12.7a.996.996 0 1 0-1.41 1.41l4.18 4.18c.39.39 1.02.39 1.41 0L20.29 7.71a.996.996 0 1 0-1.41-1.41z'/%3E%3C/svg%3E\");}pre:has(code) {position: relative;}pre button.rehype-pretty-copy {right: 1px;padding: 0;width: 24px;height: 24px;display: flex;margin-top: 2px;margin-right: 8px;position: absolute;border-radius: 25%;backdrop-filter: blur(3px);& span {width: 100%;aspect-ratio: 1 / 1;}& .ready {background-image: var(--copy-icon);}& .success {display: none; background-image: var(--success-icon);}}&.rehype-pretty-copied {& .success {display: block;} & .ready {display: none;}}pre button.rehype-pretty-copy.rehype-pretty-copied {opacity: 1;& .ready { display: none; }& .success { display: block; }}</style></code></pre></figure>\n",
      "<h3>Changing the views.py file</h3>\n",
      "<p>A view is associated with every URL. This view is responsible for displaying the content from the template.</p>\n",
      "<figure data-rehype-pretty-code-figure=\"\"><pre style=\"background-color:#22272e;color:#adbac7\" tabindex=\"0\" data-language=\"python\" data-theme=\"github-dark-dimmed\"><code data-language=\"python\" data-theme=\"github-dark-dimmed\" style=\"display: grid;\"><span data-line=\"\"><span style=\"color:#F47067\">def</span><span style=\"color:#DCBDFB\"> index</span><span style=\"color:#ADBAC7\">(request):</span></span>\n",
      "<span data-line=\"\"><span style=\"color:#F47067\">    return</span><span style=\"color:#ADBAC7\"> render(request, </span><span style=\"color:#96D0FF\">'index.html'</span><span style=\"color:#ADBAC7\">) </span><span style=\"color:#768390\"># render is used to return the template</span></span><button type=\"button\" title=\"Copy code\" aria-label=\"Copy code\" data=\"def index(request):\n",
      "    return render(request, &#x27;index.html&#x27;) # render is used to return the template\" class=\"rehype-pretty-copy\" onclick=\"navigator.clipboard.writeText(this.attributes.data.value);this.classList.add(&#x27;rehype-pretty-copied&#x27;);window.setTimeout(() => this.classList.remove(&#x27;rehype-pretty-copied&#x27;), 3000);\"><span class=\"ready\"></span><span class=\"success\"></span></button><style>:root {--copy-icon: url(\"data:image/svg+xml,%3Csvg xmlns='http://www.w3.org/2000/svg' viewBox='0 0 48 48'%3E%3Cpath fill='%23adadad' d='M16.187 9.5H12.25a1.75 1.75 0 0 0-1.75 1.75v28.5c0 .967.784 1.75 1.75 1.75h23.5a1.75 1.75 0 0 0 1.75-1.75v-28.5a1.75 1.75 0 0 0-1.75-1.75h-3.937a4.25 4.25 0 0 1-4.063 3h-7.5a4.25 4.25 0 0 1-4.063-3M31.813 7h3.937A4.25 4.25 0 0 1 40 11.25v28.5A4.25 4.25 0 0 1 35.75 44h-23.5A4.25 4.25 0 0 1 8 39.75v-28.5A4.25 4.25 0 0 1 12.25 7h3.937a4.25 4.25 0 0 1 4.063-3h7.5a4.25 4.25 0 0 1 4.063 3M18.5 8.25c0 .966.784 1.75 1.75 1.75h7.5a1.75 1.75 0 1 0 0-3.5h-7.5a1.75 1.75 0 0 0-1.75 1.75'/%3E%3C/svg%3E\");--success-icon: url(\"data:image/svg+xml,%3Csvg xmlns='http://www.w3.org/2000/svg' viewBox='0 0 24 24'%3E%3Cpath fill='%2366ff85' d='M9 16.17L5.53 12.7a.996.996 0 1 0-1.41 1.41l4.18 4.18c.39.39 1.02.39 1.41 0L20.29 7.71a.996.996 0 1 0-1.41-1.41z'/%3E%3C/svg%3E\");}pre:has(code) {position: relative;}pre button.rehype-pretty-copy {right: 1px;padding: 0;width: 24px;height: 24px;display: flex;margin-top: 2px;margin-right: 8px;position: absolute;border-radius: 25%;backdrop-filter: blur(3px);& span {width: 100%;aspect-ratio: 1 / 1;}& .ready {background-image: var(--copy-icon);}& .success {display: none; background-image: var(--success-icon);}}&.rehype-pretty-copied {& .success {display: block;} & .ready {display: none;}}pre button.rehype-pretty-copy.rehype-pretty-copied {opacity: 1;& .ready { display: none; }& .success { display: block; }}</style></code></pre></figure>\n",
      "<h3>Sample template file</h3>\n",
      "<figure data-rehype-pretty-code-figure=\"\"><pre style=\"background-color:#22272e;color:#adbac7\" tabindex=\"0\" data-language=\"html\" data-theme=\"github-dark-dimmed\"><code data-language=\"html\" data-theme=\"github-dark-dimmed\" style=\"display: grid;\"><span data-line=\"\"><span style=\"color:#ADBAC7\">&#x3C;!</span><span style=\"color:#8DDB8C\">DOCTYPE</span><span style=\"color:#6CB6FF\"> html</span><span style=\"color:#ADBAC7\">></span></span>\n",
      "<span data-line=\"\"><span style=\"color:#ADBAC7\">&#x3C;</span><span style=\"color:#8DDB8C\">html</span><span style=\"color:#6CB6FF\"> lang</span><span style=\"color:#ADBAC7\">=</span><span style=\"color:#96D0FF\">\"en\"</span><span style=\"color:#ADBAC7\">></span></span>\n",
      "<span data-line=\"\"><span style=\"color:#ADBAC7\">&#x3C;</span><span style=\"color:#8DDB8C\">head</span><span style=\"color:#ADBAC7\">></span></span>\n",
      "<span data-line=\"\"><span style=\"color:#ADBAC7\">    &#x3C;</span><span style=\"color:#8DDB8C\">meta</span><span style=\"color:#6CB6FF\"> charset</span><span style=\"color:#ADBAC7\">=</span><span style=\"color:#96D0FF\">\"UTF-8\"</span><span style=\"color:#ADBAC7\">></span></span>\n",
      "<span data-line=\"\"><span style=\"color:#ADBAC7\">    &#x3C;</span><span style=\"color:#8DDB8C\">title</span><span style=\"color:#ADBAC7\">>Template is working&#x3C;/</span><span style=\"color:#8DDB8C\">title</span><span style=\"color:#ADBAC7\">></span></span>\n",
      "<span data-line=\"\"><span style=\"color:#ADBAC7\">&#x3C;/</span><span style=\"color:#8DDB8C\">head</span><span style=\"color:#ADBAC7\">></span></span>\n",
      "<span data-line=\"\"><span style=\"color:#ADBAC7\">&#x3C;</span><span style=\"color:#8DDB8C\">body</span><span style=\"color:#ADBAC7\">></span></span>\n",
      "<span data-line=\"\"><span style=\"color:#ADBAC7\">    &#x3C;</span><span style=\"color:#8DDB8C\">h1</span><span style=\"color:#ADBAC7\">>This is a sample django template.&#x3C;/</span><span style=\"color:#8DDB8C\">h1</span><span style=\"color:#ADBAC7\">></span></span>\n",
      "<span data-line=\"\"><span style=\"color:#ADBAC7\">&#x3C;/</span><span style=\"color:#8DDB8C\">body</span><span style=\"color:#ADBAC7\">></span></span>\n",
      "<span data-line=\"\"><span style=\"color:#ADBAC7\">&#x3C;/</span><span style=\"color:#8DDB8C\">html</span><span style=\"color:#ADBAC7\">></span></span><button type=\"button\" title=\"Copy code\" aria-label=\"Copy code\" data=\"<!DOCTYPE html>\n",
      "<html lang=&#x22;en&#x22;>\n",
      "<head>\n",
      "    <meta charset=&#x22;UTF-8&#x22;>\n",
      "    <title>Template is working</title>\n",
      "</head>\n",
      "<body>\n",
      "    <h1>This is a sample django template.</h1>\n",
      "</body>\n",
      "</html>\" class=\"rehype-pretty-copy\" onclick=\"navigator.clipboard.writeText(this.attributes.data.value);this.classList.add(&#x27;rehype-pretty-copied&#x27;);window.setTimeout(() => this.classList.remove(&#x27;rehype-pretty-copied&#x27;), 3000);\"><span class=\"ready\"></span><span class=\"success\"></span></button><style>:root {--copy-icon: url(\"data:image/svg+xml,%3Csvg xmlns='http://www.w3.org/2000/svg' viewBox='0 0 48 48'%3E%3Cpath fill='%23adadad' d='M16.187 9.5H12.25a1.75 1.75 0 0 0-1.75 1.75v28.5c0 .967.784 1.75 1.75 1.75h23.5a1.75 1.75 0 0 0 1.75-1.75v-28.5a1.75 1.75 0 0 0-1.75-1.75h-3.937a4.25 4.25 0 0 1-4.063 3h-7.5a4.25 4.25 0 0 1-4.063-3M31.813 7h3.937A4.25 4.25 0 0 1 40 11.25v28.5A4.25 4.25 0 0 1 35.75 44h-23.5A4.25 4.25 0 0 1 8 39.75v-28.5A4.25 4.25 0 0 1 12.25 7h3.937a4.25 4.25 0 0 1 4.063-3h7.5a4.25 4.25 0 0 1 4.063 3M18.5 8.25c0 .966.784 1.75 1.75 1.75h7.5a1.75 1.75 0 1 0 0-3.5h-7.5a1.75 1.75 0 0 0-1.75 1.75'/%3E%3C/svg%3E\");--success-icon: url(\"data:image/svg+xml,%3Csvg xmlns='http://www.w3.org/2000/svg' viewBox='0 0 24 24'%3E%3Cpath fill='%2366ff85' d='M9 16.17L5.53 12.7a.996.996 0 1 0-1.41 1.41l4.18 4.18c.39.39 1.02.39 1.41 0L20.29 7.71a.996.996 0 1 0-1.41-1.41z'/%3E%3C/svg%3E\");}pre:has(code) {position: relative;}pre button.rehype-pretty-copy {right: 1px;padding: 0;width: 24px;height: 24px;display: flex;margin-top: 2px;margin-right: 8px;position: absolute;border-radius: 25%;backdrop-filter: blur(3px);& span {width: 100%;aspect-ratio: 1 / 1;}& .ready {background-image: var(--copy-icon);}& .success {display: none; background-image: var(--success-icon);}}&.rehype-pretty-copied {& .success {display: block;} & .ready {display: none;}}pre button.rehype-pretty-copy.rehype-pretty-copied {opacity: 1;& .ready { display: none; }& .success { display: block; }}</style></code></pre></figure>\n",
      "<h2>Migrations in Django</h2>\n",
      "<p>Migrations are Django's way of updating the database schema according to the changes that you make to your models.</p>\n",
      "<h3>Creating a migration</h3>\n",
      "<p>The below command is used to make migration (create files with information to update the database) but no changes are made to the actual database.</p>\n",
      "<figure data-rehype-pretty-code-figure=\"\"><pre style=\"background-color:#22272e;color:#adbac7\" tabindex=\"0\" data-language=\"python\" data-theme=\"github-dark-dimmed\"><code data-language=\"python\" data-theme=\"github-dark-dimmed\" style=\"display: grid;\"><span data-line=\"\"><span style=\"color:#ADBAC7\">python manage.py makemigrations</span></span><button type=\"button\" title=\"Copy code\" aria-label=\"Copy code\" data=\"python manage.py makemigrations\" class=\"rehype-pretty-copy\" onclick=\"navigator.clipboard.writeText(this.attributes.data.value);this.classList.add(&#x27;rehype-pretty-copied&#x27;);window.setTimeout(() => this.classList.remove(&#x27;rehype-pretty-copied&#x27;), 3000);\"><span class=\"ready\"></span><span class=\"success\"></span></button><style>:root {--copy-icon: url(\"data:image/svg+xml,%3Csvg xmlns='http://www.w3.org/2000/svg' viewBox='0 0 48 48'%3E%3Cpath fill='%23adadad' d='M16.187 9.5H12.25a1.75 1.75 0 0 0-1.75 1.75v28.5c0 .967.784 1.75 1.75 1.75h23.5a1.75 1.75 0 0 0 1.75-1.75v-28.5a1.75 1.75 0 0 0-1.75-1.75h-3.937a4.25 4.25 0 0 1-4.063 3h-7.5a4.25 4.25 0 0 1-4.063-3M31.813 7h3.937A4.25 4.25 0 0 1 40 11.25v28.5A4.25 4.25 0 0 1 35.75 44h-23.5A4.25 4.25 0 0 1 8 39.75v-28.5A4.25 4.25 0 0 1 12.25 7h3.937a4.25 4.25 0 0 1 4.063-3h7.5a4.25 4.25 0 0 1 4.063 3M18.5 8.25c0 .966.784 1.75 1.75 1.75h7.5a1.75 1.75 0 1 0 0-3.5h-7.5a1.75 1.75 0 0 0-1.75 1.75'/%3E%3C/svg%3E\");--success-icon: url(\"data:image/svg+xml,%3Csvg xmlns='http://www.w3.org/2000/svg' viewBox='0 0 24 24'%3E%3Cpath fill='%2366ff85' d='M9 16.17L5.53 12.7a.996.996 0 1 0-1.41 1.41l4.18 4.18c.39.39 1.02.39 1.41 0L20.29 7.71a.996.996 0 1 0-1.41-1.41z'/%3E%3C/svg%3E\");}pre:has(code) {position: relative;}pre button.rehype-pretty-copy {right: 1px;padding: 0;width: 24px;height: 24px;display: flex;margin-top: 2px;margin-right: 8px;position: absolute;border-radius: 25%;backdrop-filter: blur(3px);& span {width: 100%;aspect-ratio: 1 / 1;}& .ready {background-image: var(--copy-icon);}& .success {display: none; background-image: var(--success-icon);}}&.rehype-pretty-copied {& .success {display: block;} & .ready {display: none;}}pre button.rehype-pretty-copy.rehype-pretty-copied {opacity: 1;& .ready { display: none; }& .success { display: block; }}</style></code></pre></figure>\n",
      "<h3>Applying the migration</h3>\n",
      "<p>The below command is used to apply the changes to the actual database.</p>\n",
      "<figure data-rehype-pretty-code-figure=\"\"><pre style=\"background-color:#22272e;color:#adbac7\" tabindex=\"0\" data-language=\"python\" data-theme=\"github-dark-dimmed\"><code data-language=\"python\" data-theme=\"github-dark-dimmed\" style=\"display: grid;\"><span data-line=\"\"><span style=\"color:#ADBAC7\">python manage.py migrate</span></span><button type=\"button\" title=\"Copy code\" aria-label=\"Copy code\" data=\"python manage.py migrate\" class=\"rehype-pretty-copy\" onclick=\"navigator.clipboard.writeText(this.attributes.data.value);this.classList.add(&#x27;rehype-pretty-copied&#x27;);window.setTimeout(() => this.classList.remove(&#x27;rehype-pretty-copied&#x27;), 3000);\"><span class=\"ready\"></span><span class=\"success\"></span></button><style>:root {--copy-icon: url(\"data:image/svg+xml,%3Csvg xmlns='http://www.w3.org/2000/svg' viewBox='0 0 48 48'%3E%3Cpath fill='%23adadad' d='M16.187 9.5H12.25a1.75 1.75 0 0 0-1.75 1.75v28.5c0 .967.784 1.75 1.75 1.75h23.5a1.75 1.75 0 0 0 1.75-1.75v-28.5a1.75 1.75 0 0 0-1.75-1.75h-3.937a4.25 4.25 0 0 1-4.063 3h-7.5a4.25 4.25 0 0 1-4.063-3M31.813 7h3.937A4.25 4.25 0 0 1 40 11.25v28.5A4.25 4.25 0 0 1 35.75 44h-23.5A4.25 4.25 0 0 1 8 39.75v-28.5A4.25 4.25 0 0 1 12.25 7h3.937a4.25 4.25 0 0 1 4.063-3h7.5a4.25 4.25 0 0 1 4.063 3M18.5 8.25c0 .966.784 1.75 1.75 1.75h7.5a1.75 1.75 0 1 0 0-3.5h-7.5a1.75 1.75 0 0 0-1.75 1.75'/%3E%3C/svg%3E\");--success-icon: url(\"data:image/svg+xml,%3Csvg xmlns='http://www.w3.org/2000/svg' viewBox='0 0 24 24'%3E%3Cpath fill='%2366ff85' d='M9 16.17L5.53 12.7a.996.996 0 1 0-1.41 1.41l4.18 4.18c.39.39 1.02.39 1.41 0L20.29 7.71a.996.996 0 1 0-1.41-1.41z'/%3E%3C/svg%3E\");}pre:has(code) {position: relative;}pre button.rehype-pretty-copy {right: 1px;padding: 0;width: 24px;height: 24px;display: flex;margin-top: 2px;margin-right: 8px;position: absolute;border-radius: 25%;backdrop-filter: blur(3px);& span {width: 100%;aspect-ratio: 1 / 1;}& .ready {background-image: var(--copy-icon);}& .success {display: none; background-image: var(--success-icon);}}&.rehype-pretty-copied {& .success {display: block;} & .ready {display: none;}}pre button.rehype-pretty-copy.rehype-pretty-copied {opacity: 1;& .ready { display: none; }& .success { display: block; }}</style></code></pre></figure>\n",
      "<h2>Admin interface in Django</h2>\n",
      "<p>Django comes with a ready-to-use admin interface.</p>\n",
      "<h3>Creating the admin user</h3>\n",
      "<figure data-rehype-pretty-code-figure=\"\"><pre style=\"background-color:#22272e;color:#adbac7\" tabindex=\"0\" data-language=\"python\" data-theme=\"github-dark-dimmed\"><code data-language=\"python\" data-theme=\"github-dark-dimmed\" style=\"display: grid;\"><span data-line=\"\"><span style=\"color:#ADBAC7\">python manage.py createsuperuser</span></span><button type=\"button\" title=\"Copy code\" aria-label=\"Copy code\" data=\"python manage.py createsuperuser\" class=\"rehype-pretty-copy\" onclick=\"navigator.clipboard.writeText(this.attributes.data.value);this.classList.add(&#x27;rehype-pretty-copied&#x27;);window.setTimeout(() => this.classList.remove(&#x27;rehype-pretty-copied&#x27;), 3000);\"><span class=\"ready\"></span><span class=\"success\"></span></button><style>:root {--copy-icon: url(\"data:image/svg+xml,%3Csvg xmlns='http://www.w3.org/2000/svg' viewBox='0 0 48 48'%3E%3Cpath fill='%23adadad' d='M16.187 9.5H12.25a1.75 1.75 0 0 0-1.75 1.75v28.5c0 .967.784 1.75 1.75 1.75h23.5a1.75 1.75 0 0 0 1.75-1.75v-28.5a1.75 1.75 0 0 0-1.75-1.75h-3.937a4.25 4.25 0 0 1-4.063 3h-7.5a4.25 4.25 0 0 1-4.063-3M31.813 7h3.937A4.25 4.25 0 0 1 40 11.25v28.5A4.25 4.25 0 0 1 35.75 44h-23.5A4.25 4.25 0 0 1 8 39.75v-28.5A4.25 4.25 0 0 1 12.25 7h3.937a4.25 4.25 0 0 1 4.063-3h7.5a4.25 4.25 0 0 1 4.063 3M18.5 8.25c0 .966.784 1.75 1.75 1.75h7.5a1.75 1.75 0 1 0 0-3.5h-7.5a1.75 1.75 0 0 0-1.75 1.75'/%3E%3C/svg%3E\");--success-icon: url(\"data:image/svg+xml,%3Csvg xmlns='http://www.w3.org/2000/svg' viewBox='0 0 24 24'%3E%3Cpath fill='%2366ff85' d='M9 16.17L5.53 12.7a.996.996 0 1 0-1.41 1.41l4.18 4.18c.39.39 1.02.39 1.41 0L20.29 7.71a.996.996 0 1 0-1.41-1.41z'/%3E%3C/svg%3E\");}pre:has(code) {position: relative;}pre button.rehype-pretty-copy {right: 1px;padding: 0;width: 24px;height: 24px;display: flex;margin-top: 2px;margin-right: 8px;position: absolute;border-radius: 25%;backdrop-filter: blur(3px);& span {width: 100%;aspect-ratio: 1 / 1;}& .ready {background-image: var(--copy-icon);}& .success {display: none; background-image: var(--success-icon);}}&.rehype-pretty-copied {& .success {display: block;} & .ready {display: none;}}pre button.rehype-pretty-copy.rehype-pretty-copied {opacity: 1;& .ready { display: none; }& .success { display: block; }}</style></code></pre></figure>\n",
      "<h2>Page Redirection</h2>\n",
      "<p>Redirection is used to redirect the user to a specific page of the application on the occurrence of an event.</p>\n",
      "<h3>Redirect method</h3>\n",
      "<figure data-rehype-pretty-code-figure=\"\"><pre style=\"background-color:#22272e;color:#adbac7\" tabindex=\"0\" data-language=\"python\" data-theme=\"github-dark-dimmed\"><code data-language=\"python\" data-theme=\"github-dark-dimmed\" style=\"display: grid;\"><span data-line=\"\"><span style=\"color:#F47067\">from</span><span style=\"color:#ADBAC7\"> django.shortcuts </span><span style=\"color:#F47067\">import</span><span style=\"color:#ADBAC7\"> render, redirect</span></span>\n",
      "<span data-line=\"\"> </span>\n",
      "<span data-line=\"\"><span style=\"color:#F47067\">def</span><span style=\"color:#DCBDFB\"> redirecting</span><span style=\"color:#ADBAC7\">(request):</span></span>\n",
      "<span data-line=\"\"><span style=\"color:#F47067\">    return</span><span style=\"color:#ADBAC7\"> redirect(</span><span style=\"color:#96D0FF\">\"https://www.codewithharry.com\"</span><span style=\"color:#ADBAC7\">)</span></span><button type=\"button\" title=\"Copy code\" aria-label=\"Copy code\" data=\"from django.shortcuts import render, redirect\n",
      "\n",
      "def redirecting(request):\n",
      "    return redirect(&#x22;https://www.codewithharry.com&#x22;)\" class=\"rehype-pretty-copy\" onclick=\"navigator.clipboard.writeText(this.attributes.data.value);this.classList.add(&#x27;rehype-pretty-copied&#x27;);window.setTimeout(() => this.classList.remove(&#x27;rehype-pretty-copied&#x27;), 3000);\"><span class=\"ready\"></span><span class=\"success\"></span></button><style>:root {--copy-icon: url(\"data:image/svg+xml,%3Csvg xmlns='http://www.w3.org/2000/svg' viewBox='0 0 48 48'%3E%3Cpath fill='%23adadad' d='M16.187 9.5H12.25a1.75 1.75 0 0 0-1.75 1.75v28.5c0 .967.784 1.75 1.75 1.75h23.5a1.75 1.75 0 0 0 1.75-1.75v-28.5a1.75 1.75 0 0 0-1.75-1.75h-3.937a4.25 4.25 0 0 1-4.063 3h-7.5a4.25 4.25 0 0 1-4.063-3M31.813 7h3.937A4.25 4.25 0 0 1 40 11.25v28.5A4.25 4.25 0 0 1 35.75 44h-23.5A4.25 4.25 0 0 1 8 39.75v-28.5A4.25 4.25 0 0 1 12.25 7h3.937a4.25 4.25 0 0 1 4.063-3h7.5a4.25 4.25 0 0 1 4.063 3M18.5 8.25c0 .966.784 1.75 1.75 1.75h7.5a1.75 1.75 0 1 0 0-3.5h-7.5a1.75 1.75 0 0 0-1.75 1.75'/%3E%3C/svg%3E\");--success-icon: url(\"data:image/svg+xml,%3Csvg xmlns='http://www.w3.org/2000/svg' viewBox='0 0 24 24'%3E%3Cpath fill='%2366ff85' d='M9 16.17L5.53 12.7a.996.996 0 1 0-1.41 1.41l4.18 4.18c.39.39 1.02.39 1.41 0L20.29 7.71a.996.996 0 1 0-1.41-1.41z'/%3E%3C/svg%3E\");}pre:has(code) {position: relative;}pre button.rehype-pretty-copy {right: 1px;padding: 0;width: 24px;height: 24px;display: flex;margin-top: 2px;margin-right: 8px;position: absolute;border-radius: 25%;backdrop-filter: blur(3px);& span {width: 100%;aspect-ratio: 1 / 1;}& .ready {background-image: var(--copy-icon);}& .success {display: none; background-image: var(--success-icon);}}&.rehype-pretty-copied {& .success {display: block;} & .ready {display: none;}}pre button.rehype-pretty-copy.rehype-pretty-copied {opacity: 1;& .ready { display: none; }& .success { display: block; }}</style></code></pre></figure>\n",
      "<p><a href=\"https://cwh-full-next-space.fra1.cdn.digitaloceanspaces.com/blogpost/django-cheatsheet/django.pdf\" rel=\"noopener noreferrer\" target=\"_blank\">Download this Cheatsheet</a></p></div></article><div class=\"flex justify-between items-center\"><div><div class=\"mt-0\"><h2 class=\"text-xl font-semibold mb-2\">Tags</h2><div class=\"flex flex-wrap gap-2\"><span class=\"bg-zinc-200 dark:bg-zinc-700 px-2 py-1 rounded-md text-xs\">django</span><span class=\"bg-zinc-200 dark:bg-zinc-700 px-2 py-1 rounded-md text-xs\">cheatsheet</span></div></div></div><div class=\"my-16 flex justify-center items-center\"><button class=\"inline-flex items-center justify-center whitespace-nowrap rounded-md text-sm font-medium transition-colors focus-visible:outline-none focus-visible:ring-1 focus-visible:ring-ring disabled:pointer-events-none disabled:opacity-50 [&amp;_svg]:pointer-events-none [&amp;_svg]:size-4 [&amp;_svg]:shrink-0 hover:bg-accent hover:text-accent-foreground h-9 px-4 py-2 gap-2 md:text-md bg-gray-200 dark:text-black dark:hover:bg-zinc-400\" type=\"button\" aria-haspopup=\"dialog\" aria-expanded=\"false\" aria-controls=\"radix-:Rm7neltb:\" data-state=\"closed\"><svg xmlns=\"http://www.w3.org/2000/svg\" width=\"24\" height=\"24\" viewBox=\"0 0 24 24\" fill=\"none\" stroke=\"currentColor\" stroke-width=\"2\" stroke-linecap=\"round\" stroke-linejoin=\"round\" class=\"lucide lucide-share2 h-5 w-5\"><circle cx=\"18\" cy=\"5\" r=\"3\"></circle><circle cx=\"6\" cy=\"12\" r=\"3\"></circle><circle cx=\"18\" cy=\"19\" r=\"3\"></circle><line x1=\"8.59\" x2=\"15.42\" y1=\"13.51\" y2=\"17.49\"></line><line x1=\"15.41\" x2=\"8.59\" y1=\"6.51\" y2=\"10.49\"></line></svg>Share</button></div></div></div></section><!--$--><!--/$--><!--$--><!--/$--><footer class=\"bg-gray-50 w-full ml-auto dark:bg-gray-900 py-8 px-4 md:px-8 lg:px-24 text-gray-800 dark:text-gray-300 border-t z-50 relative\"><div class=\"container mx-auto grid grid-cols-2 md:grid-cols-4 gap-8 justify-between\"><div class=\"md:ml-8\"><h3 class=\"font-semibold text-gray-900 dark:text-white mb-4\">Main</h3><div class=\"flex flex-col space-y-2\"><a class=\"text-gray-600 dark:text-gray-400 hover:text-gray-900 dark:hover:text-white\" href=\"/\">Home</a><a class=\"text-gray-600 dark:text-gray-400 hover:text-gray-900 dark:hover:text-white\" href=\"/contact\">Contact</a><a class=\"text-gray-600 dark:text-gray-400 hover:text-gray-900 dark:hover:text-white\" href=\"/work\">Work With Us</a><a class=\"text-gray-600 dark:text-gray-400 hover:text-gray-900 dark:hover:text-white\" href=\"/gear\">My Gear</a></div></div><div><h3 class=\"font-semibold text-gray-900 dark:text-white mb-4\">Learn</h3><div class=\"flex flex-col space-y-2\"><a class=\"text-gray-600 dark:text-gray-400 hover:text-gray-900 dark:hover:text-white\" href=\"/courses\">Courses</a><a class=\"text-gray-600 dark:text-gray-400 hover:text-gray-900 dark:hover:text-white\" href=\"/tutorials\">Tutorials</a><a class=\"text-gray-600 dark:text-gray-400 hover:text-gray-900 dark:hover:text-white\" href=\"/notes\">Notes</a></div></div><div><h3 class=\"font-semibold text-gray-900 dark:text-white mb-4\">Legal</h3><div class=\"flex flex-col space-y-2\"><a class=\"text-gray-600 dark:text-gray-400 hover:text-gray-900 dark:hover:text-white\" href=\"/terms\">Terms</a><a class=\"text-gray-600 dark:text-gray-400 hover:text-gray-900 dark:hover:text-white\" href=\"/privacy\">Privacy</a><a class=\"text-gray-600 dark:text-gray-400 hover:text-gray-900 dark:hover:text-white\" href=\"/refund-policy\">Refund</a></div></div><div><h3 class=\"font-semibold text-gray-900 dark:text-white mb-4\">Social</h3><div class=\"flex flex-col space-y-2\"><a href=\"https://github.com/codewithharry\" target=\"_blank\" rel=\"noopener noreferrer\" class=\"flex items-center space-x-2 text-gray-600 dark:text-gray-400 hover:text-gray-900 dark:hover:text-white\"><img src=\"/icons/github.svg\" alt=\"GitHub\" class=\"w-5 h-5 text-gray-600 dark:text-gray-400 dark:invert\"/><span>GitHub</span></a><a href=\"https://x.com/codewithharry\" target=\"_blank\" rel=\"noopener noreferrer\" class=\"flex items-center space-x-2 text-gray-600 dark:text-gray-400 hover:text-gray-900 dark:hover:text-white\"><img src=\"/icons/X.svg\" alt=\"Twitter\" class=\"w-5 h-5 text-gray-600 dark:text-gray-400 dark:invert\"/><span>Twitter (X)</span></a><a href=\"https://youtube.com/@codewithharry\" target=\"_blank\" rel=\"noopener noreferrer\" class=\"flex items-center space-x-2 text-gray-600 dark:text-gray-400 hover:text-gray-900 dark:hover:text-white\"><img src=\"/icons/youtube.svg\" alt=\"YouTube\" class=\"w-5 h-5 text-gray-600 dark:text-gray-400 dark:invert dark:grayscale\"/><span>YouTube</span></a><a href=\"https://facebook.com/codewithharry\" target=\"_blank\" rel=\"noopener noreferrer\" class=\"flex items-center space-x-2 text-gray-600 dark:text-gray-400 hover:text-gray-900 dark:hover:text-white\"><img src=\"/icons/facebook.svg\" alt=\"YouTube\" class=\"w-5 h-5 text-gray-600 dark:text-gray-400 dark:invert dark:grayscale\"/><span>Facebook</span></a></div></div></div><div class=\"text-center mt-8 text-sm text-gray-600 dark:text-gray-400\">Made with ❤️ and ☕ in India</div></footer><script src=\"/_next/static/chunks/webpack-014757a43573e72b.js\" async=\"\"></script><script>(self.__next_f=self.__next_f||[]).push([0])</script><script>self.__next_f.push([1,\"1:\\\"$Sreact.fragment\\\"\\n2:I[63298,[\\\"3278\\\",\\\"static/chunks/3278-338ad7484b961c25.js\\\",\\\"8221\\\",\\\"static/chunks/8221-a015ecb58e05db41.js\\\",\\\"8383\\\",\\\"static/chunks/8383-382de4acfc4979bf.js\\\",\\\"1733\\\",\\\"static/chunks/1733-bc2c13e2a7707f18.js\\\",\\\"6219\\\",\\\"static/chunks/6219-46698a9b3ab7c5ba.js\\\",\\\"6354\\\",\\\"static/chunks/6354-fe9ba8cd35845314.js\\\",\\\"8161\\\",\\\"static/chunks/8161-d6a40d5437eb2766.js\\\",\\\"4521\\\",\\\"static/chunks/4521-71c17e4fa2d6bb7b.js\\\",\\\"7177\\\",\\\"static/chunks/app/layout-1284d67b9dcf301b.js\\\"],\\\"\\\"]\\n3:I[15029,[\\\"3278\\\",\\\"static/chunks/3278-338ad7484b961c25.js\\\",\\\"8221\\\",\\\"static/chunks/8221-a015ecb58e05db41.js\\\",\\\"8383\\\",\\\"static/chunks/8383-382de4acfc4979bf.js\\\",\\\"1733\\\",\\\"static/chunks/1733-bc2c13e2a7707f18.js\\\",\\\"6219\\\",\\\"static/chunks/6219-46698a9b3ab7c5ba.js\\\",\\\"6354\\\",\\\"static/chunks/6354-fe9ba8cd35845314.js\\\",\\\"8161\\\",\\\"static/chunks/8161-d6a40d5437eb2766.js\\\",\\\"4521\\\",\\\"static/chunks/4521-71c17e4fa2d6bb7b.js\\\",\\\"7177\\\",\\\"static/chunks/app/layout-1284d67b9dcf301b.js\\\"],\\\"Toaster\\\"]\\n4:I[47479,[\\\"3278\\\",\\\"static/chunks/3278-338ad7484b961c25.js\\\",\\\"8221\\\",\\\"static/chunks/8221-a015ecb58e05db41.js\\\",\\\"8383\\\",\\\"static/chunks/8383-382de4acfc4979bf.js\\\",\\\"1733\\\",\\\"static/chunks/1733-bc2c13e2a7707f18.js\\\",\\\"6219\\\",\\\"static/chunks/6219-46698a9b3ab7c5ba.js\\\",\\\"6354\\\",\\\"static/chunks/6354-fe9ba8cd35845314.js\\\",\\\"8161\\\",\\\"static/chunks/8161-d6a40d5437eb2766.js\\\",\\\"4521\\\",\\\"static/chunks/4521-71c17e4fa2d6bb7b.js\\\",\\\"7177\\\",\\\"static/chunks/app/layout-1284d67b9dcf301b.js\\\"],\\\"ThemeProvider\\\"]\\n5:I[43078,[\\\"3278\\\",\\\"static/chunks/3278-338ad7484b961c25.js\\\",\\\"8221\\\",\\\"static/chunks/8221-a015ecb58e05db41.js\\\",\\\"8383\\\",\\\"static/chunks/8383-382de4acfc4979bf.js\\\",\\\"1733\\\",\\\"static/chunks/1733-bc2c13e2a7707f18.js\\\",\\\"6219\\\",\\\"static/chunks/6219-46698a9b3ab7c5ba.js\\\",\\\"6354\\\",\\\"static/chunks/6354-fe9ba8cd35845314.js\\\",\\\"8161\\\",\\\"static/chunks/8161-d6a40d5437eb2766.js\\\",\\\"4521\\\",\\\"static/chunks/4521-71c17e4fa2d6bb7b.js\\\",\\\"7177\\\",\\\"static/chunks/app/layout-1284d67b9dcf301b.js\\\"],\\\"default\\\"]\\n7:I[87397,[],\\\"\\\"]\\n8:I[8513,[],\\\"\\\"]\\n9:I[73514,[],\\\"MetadataBoundary\\\"]\\nb:I[72513,[\\\"3278\\\",\\\"static/chunks/3278-338ad7484b961c25.js\\\",\\\"8221\\\",\\\"static/chunks/8221-a015ecb58e05db41.js\\\",\\\"8383\\\",\\\"sta\"])</script><script>self.__next_f.push([1,\"tic/chunks/8383-382de4acfc4979bf.js\\\",\\\"1733\\\",\\\"static/chunks/1733-bc2c13e2a7707f18.js\\\",\\\"6219\\\",\\\"static/chunks/6219-46698a9b3ab7c5ba.js\\\",\\\"6354\\\",\\\"static/chunks/6354-fe9ba8cd35845314.js\\\",\\\"8161\\\",\\\"static/chunks/8161-d6a40d5437eb2766.js\\\",\\\"4521\\\",\\\"static/chunks/4521-71c17e4fa2d6bb7b.js\\\",\\\"7177\\\",\\\"static/chunks/app/layout-1284d67b9dcf301b.js\\\"],\\\"default\\\"]\\ne:I[73514,[],\\\"OutletBoundary\\\"]\\n11:I[32346,[],\\\"AsyncMetadataOutlet\\\"]\\n13:I[73514,[],\\\"ViewportBoundary\\\"]\\n15:I[51612,[],\\\"\\\"]\\n16:\\\"$Sreact.suspense\\\"\\n17:I[32346,[],\\\"AsyncMetadata\\\"]\\n1a:I[8161,[\\\"3278\\\",\\\"static/chunks/3278-338ad7484b961c25.js\\\",\\\"8383\\\",\\\"static/chunks/8383-382de4acfc4979bf.js\\\",\\\"1733\\\",\\\"static/chunks/1733-bc2c13e2a7707f18.js\\\",\\\"6219\\\",\\\"static/chunks/6219-46698a9b3ab7c5ba.js\\\",\\\"8161\\\",\\\"static/chunks/8161-d6a40d5437eb2766.js\\\",\\\"6199\\\",\\\"static/chunks/app/blogpost/%5Bslug%5D/page-275958672598fda4.js\\\"],\\\"Image\\\"]\\n1b:I[92123,[\\\"3278\\\",\\\"static/chunks/3278-338ad7484b961c25.js\\\",\\\"8383\\\",\\\"static/chunks/8383-382de4acfc4979bf.js\\\",\\\"1733\\\",\\\"static/chunks/1733-bc2c13e2a7707f18.js\\\",\\\"6219\\\",\\\"static/chunks/6219-46698a9b3ab7c5ba.js\\\",\\\"8161\\\",\\\"static/chunks/8161-d6a40d5437eb2766.js\\\",\\\"6199\\\",\\\"static/chunks/app/blogpost/%5Bslug%5D/page-275958672598fda4.js\\\"],\\\"default\\\"]\\n1d:I[99096,[\\\"3278\\\",\\\"static/chunks/3278-338ad7484b961c25.js\\\",\\\"8383\\\",\\\"static/chunks/8383-382de4acfc4979bf.js\\\",\\\"1733\\\",\\\"static/chunks/1733-bc2c13e2a7707f18.js\\\",\\\"6219\\\",\\\"static/chunks/6219-46698a9b3ab7c5ba.js\\\",\\\"8161\\\",\\\"static/chunks/8161-d6a40d5437eb2766.js\\\",\\\"6199\\\",\\\"static/chunks/app/blogpost/%5Bslug%5D/page-275958672598fda4.js\\\"],\\\"default\\\"]\\n:HL[\\\"/_next/static/media/0484562807a97172-s.p.woff2\\\",\\\"font\\\",{\\\"crossOrigin\\\":\\\"\\\",\\\"type\\\":\\\"font/woff2\\\"}]\\n:HL[\\\"/_next/static/media/4473ecc91f70f139-s.p.woff\\\",\\\"font\\\",{\\\"crossOrigin\\\":\\\"\\\",\\\"type\\\":\\\"font/woff\\\"}]\\n:HL[\\\"/_next/static/media/463dafcda517f24f-s.p.woff\\\",\\\"font\\\",{\\\"crossOrigin\\\":\\\"\\\",\\\"type\\\":\\\"font/woff\\\"}]\\n:HL[\\\"/_next/static/media/4c285fdca692ea22-s.p.woff2\\\",\\\"font\\\",{\\\"crossOrigin\\\":\\\"\\\",\\\"type\\\":\\\"font/woff2\\\"}]\\n:HL[\\\"/_next/static/media/6245472ced48d3be-s.p.woff2\\\",\\\"font\\\",{\\\"crossOrigin\\\":\\\"\\\",\\\"type\\\":\\\"font/woff2\\\"}]\\n:HL[\\\"/_next/static/media/7108af\"])</script><script>self.__next_f.push([1,\"b8b1381ad1-s.p.woff2\\\",\\\"font\\\",{\\\"crossOrigin\\\":\\\"\\\",\\\"type\\\":\\\"font/woff2\\\"}]\\n:HL[\\\"/_next/static/media/7db6c35d839a711c-s.p.woff2\\\",\\\"font\\\",{\\\"crossOrigin\\\":\\\"\\\",\\\"type\\\":\\\"font/woff2\\\"}]\\n:HL[\\\"/_next/static/media/8888a3826f4a3af4-s.p.woff2\\\",\\\"font\\\",{\\\"crossOrigin\\\":\\\"\\\",\\\"type\\\":\\\"font/woff2\\\"}]\\n:HL[\\\"/_next/static/media/9e82d62334b205f4-s.p.woff2\\\",\\\"font\\\",{\\\"crossOrigin\\\":\\\"\\\",\\\"type\\\":\\\"font/woff2\\\"}]\\n:HL[\\\"/_next/static/media/b957ea75a84b6ea7-s.p.woff2\\\",\\\"font\\\",{\\\"crossOrigin\\\":\\\"\\\",\\\"type\\\":\\\"font/woff2\\\"}]\\n:HL[\\\"/_next/static/media/eafabf029ad39a43-s.p.woff2\\\",\\\"font\\\",{\\\"crossOrigin\\\":\\\"\\\",\\\"type\\\":\\\"font/woff2\\\"}]\\n:HL[\\\"/_next/static/css/95561125d4ad1bfc.css\\\",\\\"style\\\"]\\n:HL[\\\"/_next/static/css/53eef233cdc30247.css\\\",\\\"style\\\"]\\n\"])</script><script>self.__next_f.push([1,\"0:{\\\"P\\\":null,\\\"b\\\":\\\"BGBFDaQKih42b40CRhWVB\\\",\\\"p\\\":\\\"\\\",\\\"c\\\":[\\\"\\\",\\\"blogpost\\\",\\\"django-cheatsheet\\\"],\\\"i\\\":false,\\\"f\\\":[[[\\\"\\\",{\\\"children\\\":[\\\"blogpost\\\",{\\\"children\\\":[[\\\"slug\\\",\\\"django-cheatsheet\\\",\\\"d\\\"],{\\\"children\\\":[\\\"__PAGE__\\\",{}]}]}]},\\\"$undefined\\\",\\\"$undefined\\\",true],[\\\"\\\",[\\\"$\\\",\\\"$1\\\",\\\"c\\\",{\\\"children\\\":[[[\\\"$\\\",\\\"link\\\",\\\"0\\\",{\\\"rel\\\":\\\"stylesheet\\\",\\\"href\\\":\\\"/_next/static/css/95561125d4ad1bfc.css\\\",\\\"precedence\\\":\\\"next\\\",\\\"crossOrigin\\\":\\\"$undefined\\\",\\\"nonce\\\":\\\"$undefined\\\"}],[\\\"$\\\",\\\"link\\\",\\\"1\\\",{\\\"rel\\\":\\\"stylesheet\\\",\\\"href\\\":\\\"/_next/static/css/53eef233cdc30247.css\\\",\\\"precedence\\\":\\\"next\\\",\\\"crossOrigin\\\":\\\"$undefined\\\",\\\"nonce\\\":\\\"$undefined\\\"}]],[\\\"$\\\",\\\"html\\\",null,{\\\"lang\\\":\\\"en\\\",\\\"suppressHydrationWarning\\\":true,\\\"children\\\":[[\\\"$\\\",\\\"head\\\",null,{\\\"children\\\":[[\\\"$\\\",\\\"link\\\",null,{\\\"rel\\\":\\\"shortcut icon\\\",\\\"href\\\":\\\"/favicon.ico\\\",\\\"type\\\":\\\"image/x-icon\\\"}],[\\\"$\\\",\\\"$L2\\\",null,{\\\"id\\\":\\\"facebook-pixel\\\",\\\"strategy\\\":\\\"afterInteractive\\\",\\\"children\\\":\\\"\\\\n            !function(f,b,e,v,n,t,s)\\\\n            {if(f.fbq)return;n=f.fbq=function(){n.callMethod?\\\\n            n.callMethod.apply(n,arguments):n.queue.push(arguments)};\\\\n            if(!f._fbq)f._fbq=n;n.push=n;n.loaded=!0;n.version='2.0';\\\\n            n.queue=[];t=b.createElement(e);t.async=!0;\\\\n            t.src=v;s=b.getElementsByTagName(e)[0];\\\\n            s.parentNode.insertBefore(t,s)}(window, document,'script',\\\\n            'https://connect.facebook.net/en_US/fbevents.js');\\\\n            fbq('init', '608037172208445');\\\\n            fbq('track', 'PageView');\\\\n          \\\"}],[\\\"$\\\",\\\"noscript\\\",null,{\\\"children\\\":[\\\"$\\\",\\\"img\\\",null,{\\\"height\\\":1,\\\"width\\\":1,\\\"style\\\":{\\\"display\\\":\\\"none\\\"},\\\"src\\\":\\\"https://www.facebook.com/tr?id=608037172208445\\u0026ev=PageView\\u0026noscript=1\\\",\\\"alt\\\":\\\"Facebook Pixel\\\"}]}]]}],[\\\"$\\\",\\\"body\\\",null,{\\\"className\\\":\\\"__variable_1e4310 __variable_c3aa02 __variable_9b9fd1 antialiased\\\",\\\"children\\\":[[\\\"$\\\",\\\"$L2\\\",null,{\\\"src\\\":\\\"https://www.googletagmanager.com/gtag/js?id=G-TLJ82JF418\\\",\\\"strategy\\\":\\\"afterInteractive\\\"}],[\\\"$\\\",\\\"$L2\\\",null,{\\\"id\\\":\\\"google-analytics\\\",\\\"strategy\\\":\\\"afterInteractive\\\",\\\"children\\\":\\\"\\\\n            window.dataLayer = window.dataLayer || [];\\\\n            function gtag(){dataLayer.push(arguments);}\\\\n            gtag('js', new Date());\\\\n            gtag('config', 'G-TLJ82JF418');\\\\n          \\\"}],[\\\"$\\\",\\\"$L2\\\",null,{\\\"src\\\":\\\"https://www.googletagmanager.com/gtag/js?id=AW-11344294909\\\",\\\"strategy\\\":\\\"afterInteractive\\\"}],[\\\"$\\\",\\\"$L2\\\",null,{\\\"id\\\":\\\"google-ads\\\",\\\"strategy\\\":\\\"afterInteractive\\\",\\\"children\\\":\\\"\\\\n            window.dataLayer = window.dataLayer || [];\\\\n            function gtag(){dataLayer.push(arguments);}\\\\n            gtag('js', new Date());\\\\n            gtag('config', 'AW-11344294909');\\\\n          \\\"}],[\\\"$\\\",\\\"$L2\\\",null,{\\\"id\\\":\\\"linkedin-insight\\\",\\\"strategy\\\":\\\"afterInteractive\\\",\\\"children\\\":\\\"\\\\n            _linkedin_partner_id = \\\\\\\"7447500\\\\\\\";\\\\n            window._linkedin_data_partner_ids = window._linkedin_data_partner_ids || [];\\\\n            window._linkedin_data_partner_ids.push(_linkedin_partner_id);\\\\n        \\\\n            (function(l) {\\\\n              if (!l) {\\\\n                window.lintrk = function(a, b) { window.lintrk.q.push([a, b]) };\\\\n                window.lintrk.q = [];\\\\n              }\\\\n              var s = document.getElementsByTagName(\\\\\\\"script\\\\\\\")[0];\\\\n              var b = document.createElement(\\\\\\\"script\\\\\\\");\\\\n              b.type = \\\\\\\"text/javascript\\\\\\\";\\\\n              b.async = true;\\\\n              b.src = \\\\\\\"https://snap.licdn.com/li.lms-analytics/insight.min.js\\\\\\\";\\\\n              s.parentNode.insertBefore(b, s);\\\\n            })(window.lintrk);\\\\n          \\\"}],[\\\"$\\\",\\\"$L3\\\",null,{}],[\\\"$\\\",\\\"$L4\\\",null,{\\\"attribute\\\":\\\"class\\\",\\\"defaultTheme\\\":\\\"system\\\",\\\"enableSystem\\\":true,\\\"disableTransitionOnChange\\\":true,\\\"children\\\":[\\\"$\\\",\\\"$L5\\\",null,{\\\"children\\\":[\\\"$L6\\\",[\\\"$\\\",\\\"$L7\\\",null,{\\\"parallelRouterKey\\\":\\\"children\\\",\\\"error\\\":\\\"$undefined\\\",\\\"errorStyles\\\":\\\"$undefined\\\",\\\"errorScripts\\\":\\\"$undefined\\\",\\\"template\\\":[\\\"$\\\",\\\"$L8\\\",null,{}],\\\"templateStyles\\\":\\\"$undefined\\\",\\\"templateScripts\\\":\\\"$undefined\\\",\\\"notFound\\\":[[[\\\"$\\\",\\\"title\\\",null,{\\\"children\\\":\\\"404: This page could not be found.\\\"}],[\\\"$\\\",\\\"div\\\",null,{\\\"style\\\":{\\\"fontFamily\\\":\\\"system-ui,\\\\\\\"Segoe UI\\\\\\\",Roboto,Helvetica,Arial,sans-serif,\\\\\\\"Apple Color Emoji\\\\\\\",\\\\\\\"Segoe UI Emoji\\\\\\\"\\\",\\\"height\\\":\\\"100vh\\\",\\\"textAlign\\\":\\\"center\\\",\\\"display\\\":\\\"flex\\\",\\\"flexDirection\\\":\\\"column\\\",\\\"alignItems\\\":\\\"center\\\",\\\"justifyContent\\\":\\\"center\\\"},\\\"children\\\":[\\\"$\\\",\\\"div\\\",null,{\\\"children\\\":[[\\\"$\\\",\\\"style\\\",null,{\\\"dangerouslySetInnerHTML\\\":{\\\"__html\\\":\\\"body{color:#000;background:#fff;margin:0}.next-error-h1{border-right:1px solid rgba(0,0,0,.3)}@media (prefers-color-scheme:dark){body{color:#fff;background:#000}.next-error-h1{border-right:1px solid rgba(255,255,255,.3)}}\\\"}}],[\\\"$\\\",\\\"h1\\\",null,{\\\"className\\\":\\\"next-error-h1\\\",\\\"style\\\":{\\\"display\\\":\\\"inline-block\\\",\\\"margin\\\":\\\"0 20px 0 0\\\",\\\"padding\\\":\\\"0 23px 0 0\\\",\\\"fontSize\\\":24,\\\"fontWeight\\\":500,\\\"verticalAlign\\\":\\\"top\\\",\\\"lineHeight\\\":\\\"49px\\\"},\\\"children\\\":404}],[\\\"$\\\",\\\"div\\\",null,{\\\"style\\\":{\\\"display\\\":\\\"inline-block\\\"},\\\"children\\\":[\\\"$\\\",\\\"h2\\\",null,{\\\"style\\\":{\\\"fontSize\\\":14,\\\"fontWeight\\\":400,\\\"lineHeight\\\":\\\"49px\\\",\\\"margin\\\":0},\\\"children\\\":\\\"This page could not be found.\\\"}]}]]}]}]],[\\\"$\\\",\\\"$L9\\\",null,{\\\"children\\\":\\\"$La\\\"}],[]],\\\"forbidden\\\":\\\"$undefined\\\",\\\"unauthorized\\\":\\\"$undefined\\\"}],[\\\"$\\\",\\\"$Lb\\\",null,{}]]}]}]]}]]}]]}],{\\\"children\\\":[\\\"blogpost\\\",[\\\"$\\\",\\\"$1\\\",\\\"c\\\",{\\\"children\\\":[null,[\\\"$\\\",\\\"$L7\\\",null,{\\\"parallelRouterKey\\\":\\\"children\\\",\\\"error\\\":\\\"$undefined\\\",\\\"errorStyles\\\":\\\"$undefined\\\",\\\"errorScripts\\\":\\\"$undefined\\\",\\\"template\\\":[\\\"$\\\",\\\"$L8\\\",null,{}],\\\"templateStyles\\\":\\\"$undefined\\\",\\\"templateScripts\\\":\\\"$undefined\\\",\\\"notFound\\\":\\\"$undefined\\\",\\\"forbidden\\\":\\\"$undefined\\\",\\\"unauthorized\\\":\\\"$undefined\\\"}]]}],{\\\"children\\\":[[\\\"slug\\\",\\\"django-cheatsheet\\\",\\\"d\\\"],[\\\"$\\\",\\\"$1\\\",\\\"c\\\",{\\\"children\\\":[null,[\\\"$\\\",\\\"$L7\\\",null,{\\\"parallelRouterKey\\\":\\\"children\\\",\\\"error\\\":\\\"$undefined\\\",\\\"errorStyles\\\":\\\"$undefined\\\",\\\"errorScripts\\\":\\\"$undefined\\\",\\\"template\\\":[\\\"$\\\",\\\"$L8\\\",null,{}],\\\"templateStyles\\\":\\\"$undefined\\\",\\\"templateScripts\\\":\\\"$undefined\\\",\\\"notFound\\\":\\\"$undefined\\\",\\\"forbidden\\\":\\\"$undefined\\\",\\\"unauthorized\\\":\\\"$undefined\\\"}]]}],{\\\"children\\\":[\\\"__PAGE__\\\",[\\\"$\\\",\\\"$1\\\",\\\"c\\\",{\\\"children\\\":[\\\"$Lc\\\",[\\\"$\\\",\\\"$L9\\\",null,{\\\"children\\\":\\\"$Ld\\\"}],null,[\\\"$\\\",\\\"$Le\\\",null,{\\\"children\\\":[\\\"$Lf\\\",\\\"$L10\\\",[\\\"$\\\",\\\"$L11\\\",null,{\\\"promise\\\":\\\"$@12\\\"}]]}]]}],{},null,false]},null,false]},null,false]},null,false],[\\\"$\\\",\\\"$1\\\",\\\"h\\\",{\\\"children\\\":[null,[\\\"$\\\",\\\"$1\\\",\\\"b2n2UqbTqnQ1LAAYjLVw5\\\",{\\\"children\\\":[[\\\"$\\\",\\\"$L13\\\",null,{\\\"children\\\":\\\"$L14\\\"}],[\\\"$\\\",\\\"meta\\\",null,{\\\"name\\\":\\\"next-size-adjust\\\",\\\"content\\\":\\\"\\\"}]]}],null]}],false]],\\\"m\\\":\\\"$undefined\\\",\\\"G\\\":[\\\"$15\\\",\\\"$undefined\\\"],\\\"s\\\":false,\\\"S\\\":false}\\n\"])</script><script>self.__next_f.push([1,\"a:[\\\"$\\\",\\\"$16\\\",null,{\\\"fallback\\\":null,\\\"children\\\":[\\\"$\\\",\\\"$L17\\\",null,{\\\"promise\\\":\\\"$@18\\\"}]}]\\nd:[\\\"$\\\",\\\"$16\\\",null,{\\\"fallback\\\":null,\\\"children\\\":[\\\"$\\\",\\\"$L17\\\",null,{\\\"promise\\\":\\\"$@19\\\"}]}]\\n10:null\\n1c:Tf6fe,\"])</script><script>self.__next_f.push([1,\"\\u003ch2\\u003eWhat is Django?\\u003c/h2\\u003e\\n\\u003cp\\u003ePython-based web framework used for rapid development of web applications.\\u003c/p\\u003e\\n\\u003ch2\\u003eInstalling Django + Setup\\u003c/h2\\u003e\\n\\u003cfigure data-rehype-pretty-code-figure=\\\"\\\"\\u003e\\u003cpre style=\\\"background-color:#22272e;color:#adbac7\\\" tabindex=\\\"0\\\" data-language=\\\"python\\\" data-theme=\\\"github-dark-dimmed\\\"\\u003e\\u003ccode data-language=\\\"python\\\" data-theme=\\\"github-dark-dimmed\\\" style=\\\"display: grid;\\\"\\u003e\\u003cspan data-line=\\\"\\\"\\u003e\\u003cspan style=\\\"color:#ADBAC7\\\"\\u003epip install django\\u003c/span\\u003e\\u003c/span\\u003e\\u003cbutton type=\\\"button\\\" title=\\\"Copy code\\\" aria-label=\\\"Copy code\\\" data=\\\"pip install django\\\" class=\\\"rehype-pretty-copy\\\" onclick=\\\"navigator.clipboard.writeText(this.attributes.data.value);this.classList.add(\\u0026#x27;rehype-pretty-copied\\u0026#x27;);window.setTimeout(() =\\u003e this.classList.remove(\\u0026#x27;rehype-pretty-copied\\u0026#x27;), 3000);\\\"\\u003e\\u003cspan class=\\\"ready\\\"\\u003e\\u003c/span\\u003e\\u003cspan class=\\\"success\\\"\\u003e\\u003c/span\\u003e\\u003c/button\\u003e\\u003cstyle\\u003e:root {--copy-icon: url(\\\"data:image/svg+xml,%3Csvg xmlns='http://www.w3.org/2000/svg' viewBox='0 0 48 48'%3E%3Cpath fill='%23adadad' d='M16.187 9.5H12.25a1.75 1.75 0 0 0-1.75 1.75v28.5c0 .967.784 1.75 1.75 1.75h23.5a1.75 1.75 0 0 0 1.75-1.75v-28.5a1.75 1.75 0 0 0-1.75-1.75h-3.937a4.25 4.25 0 0 1-4.063 3h-7.5a4.25 4.25 0 0 1-4.063-3M31.813 7h3.937A4.25 4.25 0 0 1 40 11.25v28.5A4.25 4.25 0 0 1 35.75 44h-23.5A4.25 4.25 0 0 1 8 39.75v-28.5A4.25 4.25 0 0 1 12.25 7h3.937a4.25 4.25 0 0 1 4.063-3h7.5a4.25 4.25 0 0 1 4.063 3M18.5 8.25c0 .966.784 1.75 1.75 1.75h7.5a1.75 1.75 0 1 0 0-3.5h-7.5a1.75 1.75 0 0 0-1.75 1.75'/%3E%3C/svg%3E\\\");--success-icon: url(\\\"data:image/svg+xml,%3Csvg xmlns='http://www.w3.org/2000/svg' viewBox='0 0 24 24'%3E%3Cpath fill='%2366ff85' d='M9 16.17L5.53 12.7a.996.996 0 1 0-1.41 1.41l4.18 4.18c.39.39 1.02.39 1.41 0L20.29 7.71a.996.996 0 1 0-1.41-1.41z'/%3E%3C/svg%3E\\\");}pre:has(code) {position: relative;}pre button.rehype-pretty-copy {right: 1px;padding: 0;width: 24px;height: 24px;display: flex;margin-top: 2px;margin-right: 8px;position: absolute;border-radius: 25%;backdrop-filter: blur(3px);\\u0026 span {width: 100%;aspect-ratio: 1 / 1;}\\u0026 .ready {background-image: var(--copy-icon);}\\u0026 .success {display: none; background-image: var(--success-icon);}}\\u0026.rehype-pretty-copied {\\u0026 .success {display: block;} \\u0026 .ready {display: none;}}pre button.rehype-pretty-copy.rehype-pretty-copied {opacity: 1;\\u0026 .ready { display: none; }\\u0026 .success { display: block; }}\\u003c/style\\u003e\\u003c/code\\u003e\\u003c/pre\\u003e\\u003c/figure\\u003e\\n\\u003ch3\\u003eCreating a project\\u003c/h3\\u003e\\n\\u003cp\\u003eThe below command creates a new project named \\u003ccode\\u003eprojectName\\u003c/code\\u003e.\\u003c/p\\u003e\\n\\u003cfigure data-rehype-pretty-code-figure=\\\"\\\"\\u003e\\u003cpre style=\\\"background-color:#22272e;color:#adbac7\\\" tabindex=\\\"0\\\" data-language=\\\"python\\\" data-theme=\\\"github-dark-dimmed\\\"\\u003e\\u003ccode data-language=\\\"python\\\" data-theme=\\\"github-dark-dimmed\\\" style=\\\"display: grid;\\\"\\u003e\\u003cspan data-line=\\\"\\\"\\u003e\\u003cspan style=\\\"color:#ADBAC7\\\"\\u003edjango\\u003c/span\\u003e\\u003cspan style=\\\"color:#F47067\\\"\\u003e-\\u003c/span\\u003e\\u003cspan style=\\\"color:#ADBAC7\\\"\\u003eadmin startproject projectName\\u003c/span\\u003e\\u003c/span\\u003e\\u003cbutton type=\\\"button\\\" title=\\\"Copy code\\\" aria-label=\\\"Copy code\\\" data=\\\"django-admin startproject projectName\\\" class=\\\"rehype-pretty-copy\\\" onclick=\\\"navigator.clipboard.writeText(this.attributes.data.value);this.classList.add(\\u0026#x27;rehype-pretty-copied\\u0026#x27;);window.setTimeout(() =\\u003e this.classList.remove(\\u0026#x27;rehype-pretty-copied\\u0026#x27;), 3000);\\\"\\u003e\\u003cspan class=\\\"ready\\\"\\u003e\\u003c/span\\u003e\\u003cspan class=\\\"success\\\"\\u003e\\u003c/span\\u003e\\u003c/button\\u003e\\u003cstyle\\u003e:root {--copy-icon: url(\\\"data:image/svg+xml,%3Csvg xmlns='http://www.w3.org/2000/svg' viewBox='0 0 48 48'%3E%3Cpath fill='%23adadad' d='M16.187 9.5H12.25a1.75 1.75 0 0 0-1.75 1.75v28.5c0 .967.784 1.75 1.75 1.75h23.5a1.75 1.75 0 0 0 1.75-1.75v-28.5a1.75 1.75 0 0 0-1.75-1.75h-3.937a4.25 4.25 0 0 1-4.063 3h-7.5a4.25 4.25 0 0 1-4.063-3M31.813 7h3.937A4.25 4.25 0 0 1 40 11.25v28.5A4.25 4.25 0 0 1 35.75 44h-23.5A4.25 4.25 0 0 1 8 39.75v-28.5A4.25 4.25 0 0 1 12.25 7h3.937a4.25 4.25 0 0 1 4.063-3h7.5a4.25 4.25 0 0 1 4.063 3M18.5 8.25c0 .966.784 1.75 1.75 1.75h7.5a1.75 1.75 0 1 0 0-3.5h-7.5a1.75 1.75 0 0 0-1.75 1.75'/%3E%3C/svg%3E\\\");--success-icon: url(\\\"data:image/svg+xml,%3Csvg xmlns='http://www.w3.org/2000/svg' viewBox='0 0 24 24'%3E%3Cpath fill='%2366ff85' d='M9 16.17L5.53 12.7a.996.996 0 1 0-1.41 1.41l4.18 4.18c.39.39 1.02.39 1.41 0L20.29 7.71a.996.996 0 1 0-1.41-1.41z'/%3E%3C/svg%3E\\\");}pre:has(code) {position: relative;}pre button.rehype-pretty-copy {right: 1px;padding: 0;width: 24px;height: 24px;display: flex;margin-top: 2px;margin-right: 8px;position: absolute;border-radius: 25%;backdrop-filter: blur(3px);\\u0026 span {width: 100%;aspect-ratio: 1 / 1;}\\u0026 .ready {background-image: var(--copy-icon);}\\u0026 .success {display: none; background-image: var(--success-icon);}}\\u0026.rehype-pretty-copied {\\u0026 .success {display: block;} \\u0026 .ready {display: none;}}pre button.rehype-pretty-copy.rehype-pretty-copied {opacity: 1;\\u0026 .ready { display: none; }\\u0026 .success { display: block; }}\\u003c/style\\u003e\\u003c/code\\u003e\\u003c/pre\\u003e\\u003c/figure\\u003e\\n\\u003ch3\\u003eStarting a server\\u003c/h3\\u003e\\n\\u003cp\\u003eThe below command starts the development server.\\u003c/p\\u003e\\n\\u003cfigure data-rehype-pretty-code-figure=\\\"\\\"\\u003e\\u003cpre style=\\\"background-color:#22272e;color:#adbac7\\\" tabindex=\\\"0\\\" data-language=\\\"python\\\" data-theme=\\\"github-dark-dimmed\\\"\\u003e\\u003ccode data-language=\\\"python\\\" data-theme=\\\"github-dark-dimmed\\\" style=\\\"display: grid;\\\"\\u003e\\u003cspan data-line=\\\"\\\"\\u003e\\u003cspan style=\\\"color:#ADBAC7\\\"\\u003epython manage.py runserver\\u003c/span\\u003e\\u003c/span\\u003e\\u003cbutton type=\\\"button\\\" title=\\\"Copy code\\\" aria-label=\\\"Copy code\\\" data=\\\"python manage.py runserver\\\" class=\\\"rehype-pretty-copy\\\" onclick=\\\"navigator.clipboard.writeText(this.attributes.data.value);this.classList.add(\\u0026#x27;rehype-pretty-copied\\u0026#x27;);window.setTimeout(() =\\u003e this.classList.remove(\\u0026#x27;rehype-pretty-copied\\u0026#x27;), 3000);\\\"\\u003e\\u003cspan class=\\\"ready\\\"\\u003e\\u003c/span\\u003e\\u003cspan class=\\\"success\\\"\\u003e\\u003c/span\\u003e\\u003c/button\\u003e\\u003cstyle\\u003e:root {--copy-icon: url(\\\"data:image/svg+xml,%3Csvg xmlns='http://www.w3.org/2000/svg' viewBox='0 0 48 48'%3E%3Cpath fill='%23adadad' d='M16.187 9.5H12.25a1.75 1.75 0 0 0-1.75 1.75v28.5c0 .967.784 1.75 1.75 1.75h23.5a1.75 1.75 0 0 0 1.75-1.75v-28.5a1.75 1.75 0 0 0-1.75-1.75h-3.937a4.25 4.25 0 0 1-4.063 3h-7.5a4.25 4.25 0 0 1-4.063-3M31.813 7h3.937A4.25 4.25 0 0 1 40 11.25v28.5A4.25 4.25 0 0 1 35.75 44h-23.5A4.25 4.25 0 0 1 8 39.75v-28.5A4.25 4.25 0 0 1 12.25 7h3.937a4.25 4.25 0 0 1 4.063-3h7.5a4.25 4.25 0 0 1 4.063 3M18.5 8.25c0 .966.784 1.75 1.75 1.75h7.5a1.75 1.75 0 1 0 0-3.5h-7.5a1.75 1.75 0 0 0-1.75 1.75'/%3E%3C/svg%3E\\\");--success-icon: url(\\\"data:image/svg+xml,%3Csvg xmlns='http://www.w3.org/2000/svg' viewBox='0 0 24 24'%3E%3Cpath fill='%2366ff85' d='M9 16.17L5.53 12.7a.996.996 0 1 0-1.41 1.41l4.18 4.18c.39.39 1.02.39 1.41 0L20.29 7.71a.996.996 0 1 0-1.41-1.41z'/%3E%3C/svg%3E\\\");}pre:has(code) {position: relative;}pre button.rehype-pretty-copy {right: 1px;padding: 0;width: 24px;height: 24px;display: flex;margin-top: 2px;margin-right: 8px;position: absolute;border-radius: 25%;backdrop-filter: blur(3px);\\u0026 span {width: 100%;aspect-ratio: 1 / 1;}\\u0026 .ready {background-image: var(--copy-icon);}\\u0026 .success {display: none; background-image: var(--success-icon);}}\\u0026.rehype-pretty-copied {\\u0026 .success {display: block;} \\u0026 .ready {display: none;}}pre button.rehype-pretty-copy.rehype-pretty-copied {opacity: 1;\\u0026 .ready { display: none; }\\u0026 .success { display: block; }}\\u003c/style\\u003e\\u003c/code\\u003e\\u003c/pre\\u003e\\u003c/figure\\u003e\\n\\u003ch2\\u003eDjango MVT\\u003c/h2\\u003e\\n\\u003cp\\u003eDjango follows MVT (Model, View, Template) architecture.\\u003c/p\\u003e\\n\\u003ch3\\u003eSample Django Model\\u003c/h3\\u003e\\n\\u003cp\\u003eThe model represents the schema of the database.\\u003c/p\\u003e\\n\\u003cfigure data-rehype-pretty-code-figure=\\\"\\\"\\u003e\\u003cpre style=\\\"background-color:#22272e;color:#adbac7\\\" tabindex=\\\"0\\\" data-language=\\\"python\\\" data-theme=\\\"github-dark-dimmed\\\"\\u003e\\u003ccode data-language=\\\"python\\\" data-theme=\\\"github-dark-dimmed\\\" style=\\\"display: grid;\\\"\\u003e\\u003cspan data-line=\\\"\\\"\\u003e\\u003cspan style=\\\"color:#F47067\\\"\\u003efrom\\u003c/span\\u003e\\u003cspan style=\\\"color:#ADBAC7\\\"\\u003e django.db \\u003c/span\\u003e\\u003cspan style=\\\"color:#F47067\\\"\\u003eimport\\u003c/span\\u003e\\u003cspan style=\\\"color:#ADBAC7\\\"\\u003e models\\u003c/span\\u003e\\u003c/span\\u003e\\n\\u003cspan data-line=\\\"\\\"\\u003e \\u003c/span\\u003e\\n\\u003cspan data-line=\\\"\\\"\\u003e\\u003cspan style=\\\"color:#F47067\\\"\\u003eclass\\u003c/span\\u003e\\u003cspan style=\\\"color:#F69D50\\\"\\u003e Product\\u003c/span\\u003e\\u003cspan style=\\\"color:#ADBAC7\\\"\\u003e(\\u003c/span\\u003e\\u003cspan style=\\\"color:#6CB6FF\\\"\\u003emodels\\u003c/span\\u003e\\u003cspan style=\\\"color:#ADBAC7\\\"\\u003e.\\u003c/span\\u003e\\u003cspan style=\\\"color:#6CB6FF\\\"\\u003eModel\\u003c/span\\u003e\\u003cspan style=\\\"color:#ADBAC7\\\"\\u003e): \\u003c/span\\u003e\\u003cspan style=\\\"color:#768390\\\"\\u003e# Product is the name of our model\\u003c/span\\u003e\\u003c/span\\u003e\\n\\u003cspan data-line=\\\"\\\"\\u003e\\u003cspan style=\\\"color:#ADBAC7\\\"\\u003e    product_id \\u003c/span\\u003e\\u003cspan style=\\\"color:#F47067\\\"\\u003e=\\u003c/span\\u003e\\u003cspan style=\\\"color:#ADBAC7\\\"\\u003e models.AutoField\\u003c/span\\u003e\\u003c/span\\u003e\\u003cbutton type=\\\"button\\\" title=\\\"Copy code\\\" aria-label=\\\"Copy code\\\" data=\\\"from django.db import models\\n\\nclass Product(models.Model): # Product is the name of our model\\n    product_id = models.AutoField\\\" class=\\\"rehype-pretty-copy\\\" onclick=\\\"navigator.clipboard.writeText(this.attributes.data.value);this.classList.add(\\u0026#x27;rehype-pretty-copied\\u0026#x27;);window.setTimeout(() =\\u003e this.classList.remove(\\u0026#x27;rehype-pretty-copied\\u0026#x27;), 3000);\\\"\\u003e\\u003cspan class=\\\"ready\\\"\\u003e\\u003c/span\\u003e\\u003cspan class=\\\"success\\\"\\u003e\\u003c/span\\u003e\\u003c/button\\u003e\\u003cstyle\\u003e:root {--copy-icon: url(\\\"data:image/svg+xml,%3Csvg xmlns='http://www.w3.org/2000/svg' viewBox='0 0 48 48'%3E%3Cpath fill='%23adadad' d='M16.187 9.5H12.25a1.75 1.75 0 0 0-1.75 1.75v28.5c0 .967.784 1.75 1.75 1.75h23.5a1.75 1.75 0 0 0 1.75-1.75v-28.5a1.75 1.75 0 0 0-1.75-1.75h-3.937a4.25 4.25 0 0 1-4.063 3h-7.5a4.25 4.25 0 0 1-4.063-3M31.813 7h3.937A4.25 4.25 0 0 1 40 11.25v28.5A4.25 4.25 0 0 1 35.75 44h-23.5A4.25 4.25 0 0 1 8 39.75v-28.5A4.25 4.25 0 0 1 12.25 7h3.937a4.25 4.25 0 0 1 4.063-3h7.5a4.25 4.25 0 0 1 4.063 3M18.5 8.25c0 .966.784 1.75 1.75 1.75h7.5a1.75 1.75 0 1 0 0-3.5h-7.5a1.75 1.75 0 0 0-1.75 1.75'/%3E%3C/svg%3E\\\");--success-icon: url(\\\"data:image/svg+xml,%3Csvg xmlns='http://www.w3.org/2000/svg' viewBox='0 0 24 24'%3E%3Cpath fill='%2366ff85' d='M9 16.17L5.53 12.7a.996.996 0 1 0-1.41 1.41l4.18 4.18c.39.39 1.02.39 1.41 0L20.29 7.71a.996.996 0 1 0-1.41-1.41z'/%3E%3C/svg%3E\\\");}pre:has(code) {position: relative;}pre button.rehype-pretty-copy {right: 1px;padding: 0;width: 24px;height: 24px;display: flex;margin-top: 2px;margin-right: 8px;position: absolute;border-radius: 25%;backdrop-filter: blur(3px);\\u0026 span {width: 100%;aspect-ratio: 1 / 1;}\\u0026 .ready {background-image: var(--copy-icon);}\\u0026 .success {display: none; background-image: var(--success-icon);}}\\u0026.rehype-pretty-copied {\\u0026 .success {display: block;} \\u0026 .ready {display: none;}}pre button.rehype-pretty-copy.rehype-pretty-copied {opacity: 1;\\u0026 .ready { display: none; }\\u0026 .success { display: block; }}\\u003c/style\\u003e\\u003c/code\\u003e\\u003c/pre\\u003e\\u003c/figure\\u003e\\n\\u003ch3\\u003eSample views.py\\u003c/h3\\u003e\\n\\u003cp\\u003eView decides what data gets delivered to the template.\\u003c/p\\u003e\\n\\u003cfigure data-rehype-pretty-code-figure=\\\"\\\"\\u003e\\u003cpre style=\\\"background-color:#22272e;color:#adbac7\\\" tabindex=\\\"0\\\" data-language=\\\"python\\\" data-theme=\\\"github-dark-dimmed\\\"\\u003e\\u003ccode data-language=\\\"python\\\" data-theme=\\\"github-dark-dimmed\\\" style=\\\"display: grid;\\\"\\u003e\\u003cspan data-line=\\\"\\\"\\u003e\\u003cspan style=\\\"color:#F47067\\\"\\u003efrom\\u003c/span\\u003e\\u003cspan style=\\\"color:#ADBAC7\\\"\\u003e django.http \\u003c/span\\u003e\\u003cspan style=\\\"color:#F47067\\\"\\u003eimport\\u003c/span\\u003e\\u003cspan style=\\\"color:#ADBAC7\\\"\\u003e HttpResponse\\u003c/span\\u003e\\u003c/span\\u003e\\n\\u003cspan data-line=\\\"\\\"\\u003e \\u003c/span\\u003e\\n\\u003cspan data-line=\\\"\\\"\\u003e\\u003cspan style=\\\"color:#F47067\\\"\\u003edef\\u003c/span\\u003e\\u003cspan style=\\\"color:#DCBDFB\\\"\\u003e index\\u003c/span\\u003e\\u003cspan style=\\\"color:#ADBAC7\\\"\\u003e(request):\\u003c/span\\u003e\\u003c/span\\u003e\\n\\u003cspan data-line=\\\"\\\"\\u003e\\u003cspan style=\\\"color:#F47067\\\"\\u003e    return\\u003c/span\\u003e\\u003cspan style=\\\"color:#ADBAC7\\\"\\u003e HttpResponse(\\u003c/span\\u003e\\u003cspan style=\\\"color:#96D0FF\\\"\\u003e\\\"Django CodeWithHarry Cheatsheet\\\"\\u003c/span\\u003e\\u003cspan style=\\\"color:#ADBAC7\\\"\\u003e)\\u003c/span\\u003e\\u003c/span\\u003e\\u003cbutton type=\\\"button\\\" title=\\\"Copy code\\\" aria-label=\\\"Copy code\\\" data=\\\"from django.http import HttpResponse\\n\\ndef index(request):\\n    return HttpResponse(\\u0026#x22;Django CodeWithHarry Cheatsheet\\u0026#x22;)\\\" class=\\\"rehype-pretty-copy\\\" onclick=\\\"navigator.clipboard.writeText(this.attributes.data.value);this.classList.add(\\u0026#x27;rehype-pretty-copied\\u0026#x27;);window.setTimeout(() =\\u003e this.classList.remove(\\u0026#x27;rehype-pretty-copied\\u0026#x27;), 3000);\\\"\\u003e\\u003cspan class=\\\"ready\\\"\\u003e\\u003c/span\\u003e\\u003cspan class=\\\"success\\\"\\u003e\\u003c/span\\u003e\\u003c/button\\u003e\\u003cstyle\\u003e:root {--copy-icon: url(\\\"data:image/svg+xml,%3Csvg xmlns='http://www.w3.org/2000/svg' viewBox='0 0 48 48'%3E%3Cpath fill='%23adadad' d='M16.187 9.5H12.25a1.75 1.75 0 0 0-1.75 1.75v28.5c0 .967.784 1.75 1.75 1.75h23.5a1.75 1.75 0 0 0 1.75-1.75v-28.5a1.75 1.75 0 0 0-1.75-1.75h-3.937a4.25 4.25 0 0 1-4.063 3h-7.5a4.25 4.25 0 0 1-4.063-3M31.813 7h3.937A4.25 4.25 0 0 1 40 11.25v28.5A4.25 4.25 0 0 1 35.75 44h-23.5A4.25 4.25 0 0 1 8 39.75v-28.5A4.25 4.25 0 0 1 12.25 7h3.937a4.25 4.25 0 0 1 4.063-3h7.5a4.25 4.25 0 0 1 4.063 3M18.5 8.25c0 .966.784 1.75 1.75 1.75h7.5a1.75 1.75 0 1 0 0-3.5h-7.5a1.75 1.75 0 0 0-1.75 1.75'/%3E%3C/svg%3E\\\");--success-icon: url(\\\"data:image/svg+xml,%3Csvg xmlns='http://www.w3.org/2000/svg' viewBox='0 0 24 24'%3E%3Cpath fill='%2366ff85' d='M9 16.17L5.53 12.7a.996.996 0 1 0-1.41 1.41l4.18 4.18c.39.39 1.02.39 1.41 0L20.29 7.71a.996.996 0 1 0-1.41-1.41z'/%3E%3C/svg%3E\\\");}pre:has(code) {position: relative;}pre button.rehype-pretty-copy {right: 1px;padding: 0;width: 24px;height: 24px;display: flex;margin-top: 2px;margin-right: 8px;position: absolute;border-radius: 25%;backdrop-filter: blur(3px);\\u0026 span {width: 100%;aspect-ratio: 1 / 1;}\\u0026 .ready {background-image: var(--copy-icon);}\\u0026 .success {display: none; background-image: var(--success-icon);}}\\u0026.rehype-pretty-copied {\\u0026 .success {display: block;} \\u0026 .ready {display: none;}}pre button.rehype-pretty-copy.rehype-pretty-copied {opacity: 1;\\u0026 .ready { display: none; }\\u0026 .success { display: block; }}\\u003c/style\\u003e\\u003c/code\\u003e\\u003c/pre\\u003e\\u003c/figure\\u003e\\n\\u003ch3\\u003eSample HTML Template\\u003c/h3\\u003e\\n\\u003cp\\u003eA sample \\u003ccode\\u003e.html\\u003c/code\\u003e file that contains HTML, CSS, and Javascript.\\u003c/p\\u003e\\n\\u003cfigure data-rehype-pretty-code-figure=\\\"\\\"\\u003e\\u003cpre style=\\\"background-color:#22272e;color:#adbac7\\\" tabindex=\\\"0\\\" data-language=\\\"html\\\" data-theme=\\\"github-dark-dimmed\\\"\\u003e\\u003ccode data-language=\\\"html\\\" data-theme=\\\"github-dark-dimmed\\\" style=\\\"display: grid;\\\"\\u003e\\u003cspan data-line=\\\"\\\"\\u003e\\u003cspan style=\\\"color:#ADBAC7\\\"\\u003e\\u0026#x3C;!\\u003c/span\\u003e\\u003cspan style=\\\"color:#8DDB8C\\\"\\u003eDOCTYPE\\u003c/span\\u003e\\u003cspan style=\\\"color:#6CB6FF\\\"\\u003e html\\u003c/span\\u003e\\u003cspan style=\\\"color:#ADBAC7\\\"\\u003e\\u003e\\u003c/span\\u003e\\u003c/span\\u003e\\n\\u003cspan data-line=\\\"\\\"\\u003e\\u003cspan style=\\\"color:#ADBAC7\\\"\\u003e\\u0026#x3C;\\u003c/span\\u003e\\u003cspan style=\\\"color:#8DDB8C\\\"\\u003ehtml\\u003c/span\\u003e\\u003cspan style=\\\"color:#6CB6FF\\\"\\u003e lang\\u003c/span\\u003e\\u003cspan style=\\\"color:#ADBAC7\\\"\\u003e=\\u003c/span\\u003e\\u003cspan style=\\\"color:#96D0FF\\\"\\u003e\\\"en\\\"\\u003c/span\\u003e\\u003cspan style=\\\"color:#ADBAC7\\\"\\u003e\\u003e\\u003c/span\\u003e\\u003c/span\\u003e\\n\\u003cspan data-line=\\\"\\\"\\u003e\\u003cspan style=\\\"color:#ADBAC7\\\"\\u003e\\u0026#x3C;\\u003c/span\\u003e\\u003cspan style=\\\"color:#8DDB8C\\\"\\u003ehead\\u003c/span\\u003e\\u003cspan style=\\\"color:#ADBAC7\\\"\\u003e\\u003e\\u003c/span\\u003e\\u003c/span\\u003e\\n\\u003cspan data-line=\\\"\\\"\\u003e\\u003cspan style=\\\"color:#ADBAC7\\\"\\u003e    \\u0026#x3C;\\u003c/span\\u003e\\u003cspan style=\\\"color:#8DDB8C\\\"\\u003emeta\\u003c/span\\u003e\\u003cspan style=\\\"color:#6CB6FF\\\"\\u003e charset\\u003c/span\\u003e\\u003cspan style=\\\"color:#ADBAC7\\\"\\u003e=\\u003c/span\\u003e\\u003cspan style=\\\"color:#96D0FF\\\"\\u003e\\\"UTF-8\\\"\\u003c/span\\u003e\\u003cspan style=\\\"color:#ADBAC7\\\"\\u003e\\u003e\\u003c/span\\u003e\\u003c/span\\u003e\\n\\u003cspan data-line=\\\"\\\"\\u003e\\u003cspan style=\\\"color:#ADBAC7\\\"\\u003e    \\u0026#x3C;\\u003c/span\\u003e\\u003cspan style=\\\"color:#8DDB8C\\\"\\u003emeta\\u003c/span\\u003e\\u003cspan style=\\\"color:#6CB6FF\\\"\\u003e name\\u003c/span\\u003e\\u003cspan style=\\\"color:#ADBAC7\\\"\\u003e=\\u003c/span\\u003e\\u003cspan style=\\\"color:#96D0FF\\\"\\u003e\\\"viewport\\\"\\u003c/span\\u003e\\u003cspan style=\\\"color:#6CB6FF\\\"\\u003e content\\u003c/span\\u003e\\u003cspan style=\\\"color:#ADBAC7\\\"\\u003e=\\u003c/span\\u003e\\u003cspan style=\\\"color:#96D0FF\\\"\\u003e\\\"width=device-width, initial-scale=1.0\\\"\\u003c/span\\u003e\\u003cspan style=\\\"color:#ADBAC7\\\"\\u003e\\u003e\\u003c/span\\u003e\\u003c/span\\u003e\\n\\u003cspan data-line=\\\"\\\"\\u003e\\u003cspan style=\\\"color:#ADBAC7\\\"\\u003e    \\u0026#x3C;\\u003c/span\\u003e\\u003cspan style=\\\"color:#8DDB8C\\\"\\u003emeta\\u003c/span\\u003e\\u003cspan style=\\\"color:#6CB6FF\\\"\\u003e http-equiv\\u003c/span\\u003e\\u003cspan style=\\\"color:#ADBAC7\\\"\\u003e=\\u003c/span\\u003e\\u003cspan style=\\\"color:#96D0FF\\\"\\u003e\\\"X-UA-Compatible\\\"\\u003c/span\\u003e\\u003cspan style=\\\"color:#6CB6FF\\\"\\u003e content\\u003c/span\\u003e\\u003cspan style=\\\"color:#ADBAC7\\\"\\u003e=\\u003c/span\\u003e\\u003cspan style=\\\"color:#96D0FF\\\"\\u003e\\\"ie=edge\\\"\\u003c/span\\u003e\\u003cspan style=\\\"color:#ADBAC7\\\"\\u003e\\u003e\\u003c/span\\u003e\\u003c/span\\u003e\\n\\u003cspan data-line=\\\"\\\"\\u003e\\u003cspan style=\\\"color:#ADBAC7\\\"\\u003e    \\u0026#x3C;\\u003c/span\\u003e\\u003cspan style=\\\"color:#8DDB8C\\\"\\u003etitle\\u003c/span\\u003e\\u003cspan style=\\\"color:#ADBAC7\\\"\\u003e\\u003eCodeWithHarry Cheatsheet\\u0026#x3C;/\\u003c/span\\u003e\\u003cspan style=\\\"color:#8DDB8C\\\"\\u003etitle\\u003c/span\\u003e\\u003cspan style=\\\"color:#ADBAC7\\\"\\u003e\\u003e\\u003c/span\\u003e\\u003c/span\\u003e\\n\\u003cspan data-line=\\\"\\\"\\u003e\\u003cspan style=\\\"color:#ADBAC7\\\"\\u003e\\u0026#x3C;/\\u003c/span\\u003e\\u003cspan style=\\\"color:#8DDB8C\\\"\\u003ehead\\u003c/span\\u003e\\u003cspan style=\\\"color:#ADBAC7\\\"\\u003e\\u003e\\u003c/span\\u003e\\u003c/span\\u003e\\n\\u003cspan data-line=\\\"\\\"\\u003e\\u003cspan style=\\\"color:#ADBAC7\\\"\\u003e\\u0026#x3C;\\u003c/span\\u003e\\u003cspan style=\\\"color:#8DDB8C\\\"\\u003ebody\\u003c/span\\u003e\\u003cspan style=\\\"color:#ADBAC7\\\"\\u003e\\u003e\\u003c/span\\u003e\\u003c/span\\u003e\\n\\u003cspan data-line=\\\"\\\"\\u003e\\u003cspan style=\\\"color:#ADBAC7\\\"\\u003e    \\u0026#x3C;\\u003c/span\\u003e\\u003cspan style=\\\"color:#8DDB8C\\\"\\u003eh1\\u003c/span\\u003e\\u003cspan style=\\\"color:#ADBAC7\\\"\\u003e\\u003eThis is a sample template file.\\u0026#x3C;/\\u003c/span\\u003e\\u003cspan style=\\\"color:#8DDB8C\\\"\\u003eh1\\u003c/span\\u003e\\u003cspan style=\\\"color:#ADBAC7\\\"\\u003e\\u003e\\u003c/span\\u003e\\u003c/span\\u003e\\n\\u003cspan data-line=\\\"\\\"\\u003e\\u003cspan style=\\\"color:#ADBAC7\\\"\\u003e\\u0026#x3C;/\\u003c/span\\u003e\\u003cspan style=\\\"color:#8DDB8C\\\"\\u003ebody\\u003c/span\\u003e\\u003cspan style=\\\"color:#ADBAC7\\\"\\u003e\\u003e\\u003c/span\\u003e\\u003c/span\\u003e\\n\\u003cspan data-line=\\\"\\\"\\u003e\\u003cspan style=\\\"color:#ADBAC7\\\"\\u003e\\u0026#x3C;/\\u003c/span\\u003e\\u003cspan style=\\\"color:#8DDB8C\\\"\\u003ehtml\\u003c/span\\u003e\\u003cspan style=\\\"color:#ADBAC7\\\"\\u003e\\u003e\\u003c/span\\u003e\\u003c/span\\u003e\\u003cbutton type=\\\"button\\\" title=\\\"Copy code\\\" aria-label=\\\"Copy code\\\" data=\\\"\\u003c!DOCTYPE html\\u003e\\n\\u003chtml lang=\\u0026#x22;en\\u0026#x22;\\u003e\\n\\u003chead\\u003e\\n    \\u003cmeta charset=\\u0026#x22;UTF-8\\u0026#x22;\\u003e\\n    \\u003cmeta name=\\u0026#x22;viewport\\u0026#x22; content=\\u0026#x22;width=device-width, initial-scale=1.0\\u0026#x22;\\u003e\\n    \\u003cmeta http-equiv=\\u0026#x22;X-UA-Compatible\\u0026#x22; content=\\u0026#x22;ie=edge\\u0026#x22;\\u003e\\n    \\u003ctitle\\u003eCodeWithHarry Cheatsheet\\u003c/title\\u003e\\n\\u003c/head\\u003e\\n\\u003cbody\\u003e\\n    \\u003ch1\\u003eThis is a sample template file.\\u003c/h1\\u003e\\n\\u003c/body\\u003e\\n\\u003c/html\\u003e\\\" class=\\\"rehype-pretty-copy\\\" onclick=\\\"navigator.clipboard.writeText(this.attributes.data.value);this.classList.add(\\u0026#x27;rehype-pretty-copied\\u0026#x27;);window.setTimeout(() =\\u003e this.classList.remove(\\u0026#x27;rehype-pretty-copied\\u0026#x27;), 3000);\\\"\\u003e\\u003cspan class=\\\"ready\\\"\\u003e\\u003c/span\\u003e\\u003cspan class=\\\"success\\\"\\u003e\\u003c/span\\u003e\\u003c/button\\u003e\\u003cstyle\\u003e:root {--copy-icon: url(\\\"data:image/svg+xml,%3Csvg xmlns='http://www.w3.org/2000/svg' viewBox='0 0 48 48'%3E%3Cpath fill='%23adadad' d='M16.187 9.5H12.25a1.75 1.75 0 0 0-1.75 1.75v28.5c0 .967.784 1.75 1.75 1.75h23.5a1.75 1.75 0 0 0 1.75-1.75v-28.5a1.75 1.75 0 0 0-1.75-1.75h-3.937a4.25 4.25 0 0 1-4.063 3h-7.5a4.25 4.25 0 0 1-4.063-3M31.813 7h3.937A4.25 4.25 0 0 1 40 11.25v28.5A4.25 4.25 0 0 1 35.75 44h-23.5A4.25 4.25 0 0 1 8 39.75v-28.5A4.25 4.25 0 0 1 12.25 7h3.937a4.25 4.25 0 0 1 4.063-3h7.5a4.25 4.25 0 0 1 4.063 3M18.5 8.25c0 .966.784 1.75 1.75 1.75h7.5a1.75 1.75 0 1 0 0-3.5h-7.5a1.75 1.75 0 0 0-1.75 1.75'/%3E%3C/svg%3E\\\");--success-icon: url(\\\"data:image/svg+xml,%3Csvg xmlns='http://www.w3.org/2000/svg' viewBox='0 0 24 24'%3E%3Cpath fill='%2366ff85' d='M9 16.17L5.53 12.7a.996.996 0 1 0-1.41 1.41l4.18 4.18c.39.39 1.02.39 1.41 0L20.29 7.71a.996.996 0 1 0-1.41-1.41z'/%3E%3C/svg%3E\\\");}pre:has(code) {position: relative;}pre button.rehype-pretty-copy {right: 1px;padding: 0;width: 24px;height: 24px;display: flex;margin-top: 2px;margin-right: 8px;position: absolute;border-radius: 25%;backdrop-filter: blur(3px);\\u0026 span {width: 100%;aspect-ratio: 1 / 1;}\\u0026 .ready {background-image: var(--copy-icon);}\\u0026 .success {display: none; background-image: var(--success-icon);}}\\u0026.rehype-pretty-copied {\\u0026 .success {display: block;} \\u0026 .ready {display: none;}}pre button.rehype-pretty-copy.rehype-pretty-copied {opacity: 1;\\u0026 .ready { display: none; }\\u0026 .success { display: block; }}\\u003c/style\\u003e\\u003c/code\\u003e\\u003c/pre\\u003e\\u003c/figure\\u003e\\n\\u003ch2\\u003eViews in Django\\u003c/h2\\u003e\\n\\u003ch3\\u003eSample Function-Based Views\\u003c/h3\\u003e\\n\\u003cp\\u003eA Python function that takes a web request and returns a web response.\\u003c/p\\u003e\\n\\u003cfigure data-rehype-pretty-code-figure=\\\"\\\"\\u003e\\u003cpre style=\\\"background-color:#22272e;color:#adbac7\\\" tabindex=\\\"0\\\" data-language=\\\"python\\\" data-theme=\\\"github-dark-dimmed\\\"\\u003e\\u003ccode data-language=\\\"python\\\" data-theme=\\\"github-dark-dimmed\\\" style=\\\"display: grid;\\\"\\u003e\\u003cspan data-line=\\\"\\\"\\u003e\\u003cspan style=\\\"color:#F47067\\\"\\u003efrom\\u003c/span\\u003e\\u003cspan style=\\\"color:#ADBAC7\\\"\\u003e django.http \\u003c/span\\u003e\\u003cspan style=\\\"color:#F47067\\\"\\u003eimport\\u003c/span\\u003e\\u003cspan style=\\\"color:#ADBAC7\\\"\\u003e HttpResponse\\u003c/span\\u003e\\u003c/span\\u003e\\n\\u003cspan data-line=\\\"\\\"\\u003e \\u003c/span\\u003e\\n\\u003cspan data-line=\\\"\\\"\\u003e\\u003cspan style=\\\"color:#F47067\\\"\\u003edef\\u003c/span\\u003e\\u003cspan style=\\\"color:#DCBDFB\\\"\\u003e index\\u003c/span\\u003e\\u003cspan style=\\\"color:#ADBAC7\\\"\\u003e(request):\\u003c/span\\u003e\\u003c/span\\u003e\\n\\u003cspan data-line=\\\"\\\"\\u003e\\u003cspan style=\\\"color:#F47067\\\"\\u003e    return\\u003c/span\\u003e\\u003cspan style=\\\"color:#ADBAC7\\\"\\u003e HttpResponse(\\u003c/span\\u003e\\u003cspan style=\\\"color:#96D0FF\\\"\\u003e\\\"This is a function based view.\\\"\\u003c/span\\u003e\\u003cspan style=\\\"color:#ADBAC7\\\"\\u003e)\\u003c/span\\u003e\\u003c/span\\u003e\\u003cbutton type=\\\"button\\\" title=\\\"Copy code\\\" aria-label=\\\"Copy code\\\" data=\\\"from django.http import HttpResponse\\n\\ndef index(request):\\n    return HttpResponse(\\u0026#x22;This is a function based view.\\u0026#x22;)\\\" class=\\\"rehype-pretty-copy\\\" onclick=\\\"navigator.clipboard.writeText(this.attributes.data.value);this.classList.add(\\u0026#x27;rehype-pretty-copied\\u0026#x27;);window.setTimeout(() =\\u003e this.classList.remove(\\u0026#x27;rehype-pretty-copied\\u0026#x27;), 3000);\\\"\\u003e\\u003cspan class=\\\"ready\\\"\\u003e\\u003c/span\\u003e\\u003cspan class=\\\"success\\\"\\u003e\\u003c/span\\u003e\\u003c/button\\u003e\\u003cstyle\\u003e:root {--copy-icon: url(\\\"data:image/svg+xml,%3Csvg xmlns='http://www.w3.org/2000/svg' viewBox='0 0 48 48'%3E%3Cpath fill='%23adadad' d='M16.187 9.5H12.25a1.75 1.75 0 0 0-1.75 1.75v28.5c0 .967.784 1.75 1.75 1.75h23.5a1.75 1.75 0 0 0 1.75-1.75v-28.5a1.75 1.75 0 0 0-1.75-1.75h-3.937a4.25 4.25 0 0 1-4.063 3h-7.5a4.25 4.25 0 0 1-4.063-3M31.813 7h3.937A4.25 4.25 0 0 1 40 11.25v28.5A4.25 4.25 0 0 1 35.75 44h-23.5A4.25 4.25 0 0 1 8 39.75v-28.5A4.25 4.25 0 0 1 12.25 7h3.937a4.25 4.25 0 0 1 4.063-3h7.5a4.25 4.25 0 0 1 4.063 3M18.5 8.25c0 .966.784 1.75 1.75 1.75h7.5a1.75 1.75 0 1 0 0-3.5h-7.5a1.75 1.75 0 0 0-1.75 1.75'/%3E%3C/svg%3E\\\");--success-icon: url(\\\"data:image/svg+xml,%3Csvg xmlns='http://www.w3.org/2000/svg' viewBox='0 0 24 24'%3E%3Cpath fill='%2366ff85' d='M9 16.17L5.53 12.7a.996.996 0 1 0-1.41 1.41l4.18 4.18c.39.39 1.02.39 1.41 0L20.29 7.71a.996.996 0 1 0-1.41-1.41z'/%3E%3C/svg%3E\\\");}pre:has(code) {position: relative;}pre button.rehype-pretty-copy {right: 1px;padding: 0;width: 24px;height: 24px;display: flex;margin-top: 2px;margin-right: 8px;position: absolute;border-radius: 25%;backdrop-filter: blur(3px);\\u0026 span {width: 100%;aspect-ratio: 1 / 1;}\\u0026 .ready {background-image: var(--copy-icon);}\\u0026 .success {display: none; background-image: var(--success-icon);}}\\u0026.rehype-pretty-copied {\\u0026 .success {display: block;} \\u0026 .ready {display: none;}}pre button.rehype-pretty-copy.rehype-pretty-copied {opacity: 1;\\u0026 .ready { display: none; }\\u0026 .success { display: block; }}\\u003c/style\\u003e\\u003c/code\\u003e\\u003c/pre\\u003e\\u003c/figure\\u003e\\n\\u003ch3\\u003eSample Class-Based Views\\u003c/h3\\u003e\\n\\u003cp\\u003eDjango's class-based views provide an object-oriented way of organizing your view code.\\u003c/p\\u003e\\n\\u003cfigure data-rehype-pretty-code-figure=\\\"\\\"\\u003e\\u003cpre style=\\\"background-color:#22272e;color:#adbac7\\\" tabindex=\\\"0\\\" data-language=\\\"python\\\" data-theme=\\\"github-dark-dimmed\\\"\\u003e\\u003ccode data-language=\\\"python\\\" data-theme=\\\"github-dark-dimmed\\\" style=\\\"display: grid;\\\"\\u003e\\u003cspan data-line=\\\"\\\"\\u003e\\u003cspan style=\\\"color:#F47067\\\"\\u003efrom\\u003c/span\\u003e\\u003cspan style=\\\"color:#ADBAC7\\\"\\u003e django.views \\u003c/span\\u003e\\u003cspan style=\\\"color:#F47067\\\"\\u003eimport\\u003c/span\\u003e\\u003cspan style=\\\"color:#ADBAC7\\\"\\u003e View\\u003c/span\\u003e\\u003c/span\\u003e\\n\\u003cspan data-line=\\\"\\\"\\u003e \\u003c/span\\u003e\\n\\u003cspan data-line=\\\"\\\"\\u003e\\u003cspan style=\\\"color:#F47067\\\"\\u003eclass\\u003c/span\\u003e\\u003cspan style=\\\"color:#F69D50\\\"\\u003e SimpleClassBasedView\\u003c/span\\u003e\\u003cspan style=\\\"color:#ADBAC7\\\"\\u003e(\\u003c/span\\u003e\\u003cspan style=\\\"color:#6CB6FF\\\"\\u003eView\\u003c/span\\u003e\\u003cspan style=\\\"color:#ADBAC7\\\"\\u003e):\\u003c/span\\u003e\\u003c/span\\u003e\\n\\u003cspan data-line=\\\"\\\"\\u003e\\u003cspan style=\\\"color:#F47067\\\"\\u003e    def\\u003c/span\\u003e\\u003cspan style=\\\"color:#DCBDFB\\\"\\u003e get\\u003c/span\\u003e\\u003cspan style=\\\"color:#ADBAC7\\\"\\u003e(self, request):\\u003c/span\\u003e\\u003c/span\\u003e\\n\\u003cspan data-line=\\\"\\\"\\u003e\\u003cspan style=\\\"color:#F47067\\\"\\u003e        pass\\u003c/span\\u003e\\u003cspan style=\\\"color:#768390\\\"\\u003e # Code to process a GET request\\u003c/span\\u003e\\u003c/span\\u003e\\u003cbutton type=\\\"button\\\" title=\\\"Copy code\\\" aria-label=\\\"Copy code\\\" data=\\\"from django.views import View\\n\\nclass SimpleClassBasedView(View):\\n    def get(self, request):\\n        pass # Code to process a GET request\\\" class=\\\"rehype-pretty-copy\\\" onclick=\\\"navigator.clipboard.writeText(this.attributes.data.value);this.classList.add(\\u0026#x27;rehype-pretty-copied\\u0026#x27;);window.setTimeout(() =\\u003e this.classList.remove(\\u0026#x27;rehype-pretty-copied\\u0026#x27;), 3000);\\\"\\u003e\\u003cspan class=\\\"ready\\\"\\u003e\\u003c/span\\u003e\\u003cspan class=\\\"success\\\"\\u003e\\u003c/span\\u003e\\u003c/button\\u003e\\u003cstyle\\u003e:root {--copy-icon: url(\\\"data:image/svg+xml,%3Csvg xmlns='http://www.w3.org/2000/svg' viewBox='0 0 48 48'%3E%3Cpath fill='%23adadad' d='M16.187 9.5H12.25a1.75 1.75 0 0 0-1.75 1.75v28.5c0 .967.784 1.75 1.75 1.75h23.5a1.75 1.75 0 0 0 1.75-1.75v-28.5a1.75 1.75 0 0 0-1.75-1.75h-3.937a4.25 4.25 0 0 1-4.063 3h-7.5a4.25 4.25 0 0 1-4.063-3M31.813 7h3.937A4.25 4.25 0 0 1 40 11.25v28.5A4.25 4.25 0 0 1 35.75 44h-23.5A4.25 4.25 0 0 1 8 39.75v-28.5A4.25 4.25 0 0 1 12.25 7h3.937a4.25 4.25 0 0 1 4.063-3h7.5a4.25 4.25 0 0 1 4.063 3M18.5 8.25c0 .966.784 1.75 1.75 1.75h7.5a1.75 1.75 0 1 0 0-3.5h-7.5a1.75 1.75 0 0 0-1.75 1.75'/%3E%3C/svg%3E\\\");--success-icon: url(\\\"data:image/svg+xml,%3Csvg xmlns='http://www.w3.org/2000/svg' viewBox='0 0 24 24'%3E%3Cpath fill='%2366ff85' d='M9 16.17L5.53 12.7a.996.996 0 1 0-1.41 1.41l4.18 4.18c.39.39 1.02.39 1.41 0L20.29 7.71a.996.996 0 1 0-1.41-1.41z'/%3E%3C/svg%3E\\\");}pre:has(code) {position: relative;}pre button.rehype-pretty-copy {right: 1px;padding: 0;width: 24px;height: 24px;display: flex;margin-top: 2px;margin-right: 8px;position: absolute;border-radius: 25%;backdrop-filter: blur(3px);\\u0026 span {width: 100%;aspect-ratio: 1 / 1;}\\u0026 .ready {background-image: var(--copy-icon);}\\u0026 .success {display: none; background-image: var(--success-icon);}}\\u0026.rehype-pretty-copied {\\u0026 .success {display: block;} \\u0026 .ready {display: none;}}pre button.rehype-pretty-copy.rehype-pretty-copied {opacity: 1;\\u0026 .ready { display: none; }\\u0026 .success { display: block; }}\\u003c/style\\u003e\\u003c/code\\u003e\\u003c/pre\\u003e\\u003c/figure\\u003e\\n\\u003ch2\\u003eURLs in Django\\u003c/h2\\u003e\\n\\u003cp\\u003eSet of URL patterns to be matched against the requested URL.\\u003c/p\\u003e\\n\\u003ch3\\u003eSample urls.py file1\\u003c/h3\\u003e\\n\\u003cfigure data-rehype-pretty-code-figure=\\\"\\\"\\u003e\\u003cpre style=\\\"background-color:#22272e;color:#adbac7\\\" tabindex=\\\"0\\\" data-language=\\\"python\\\" data-theme=\\\"github-dark-dimmed\\\"\\u003e\\u003ccode data-language=\\\"python\\\" data-theme=\\\"github-dark-dimmed\\\" style=\\\"display: grid;\\\"\\u003e\\u003cspan data-line=\\\"\\\"\\u003e\\u003cspan style=\\\"color:#F47067\\\"\\u003efrom\\u003c/span\\u003e\\u003cspan style=\\\"color:#ADBAC7\\\"\\u003e django.contrib \\u003c/span\\u003e\\u003cspan style=\\\"color:#F47067\\\"\\u003eimport\\u003c/span\\u003e\\u003cspan style=\\\"color:#ADBAC7\\\"\\u003e admin\\u003c/span\\u003e\\u003c/span\\u003e\\n\\u003cspan data-line=\\\"\\\"\\u003e\\u003cspan style=\\\"color:#F47067\\\"\\u003efrom\\u003c/span\\u003e\\u003cspan style=\\\"color:#ADBAC7\\\"\\u003e django.urls \\u003c/span\\u003e\\u003cspan style=\\\"color:#F47067\\\"\\u003eimport\\u003c/span\\u003e\\u003cspan style=\\\"color:#ADBAC7\\\"\\u003e path\\u003c/span\\u003e\\u003c/span\\u003e\\n\\u003cspan data-line=\\\"\\\"\\u003e\\u003cspan style=\\\"color:#F47067\\\"\\u003efrom\\u003c/span\\u003e\\u003cspan style=\\\"color:#ADBAC7\\\"\\u003e . \\u003c/span\\u003e\\u003cspan style=\\\"color:#F47067\\\"\\u003eimport\\u003c/span\\u003e\\u003cspan style=\\\"color:#ADBAC7\\\"\\u003e views\\u003c/span\\u003e\\u003c/span\\u003e\\n\\u003cspan data-line=\\\"\\\"\\u003e \\u003c/span\\u003e\\n\\u003cspan data-line=\\\"\\\"\\u003e\\u003cspan style=\\\"color:#ADBAC7\\\"\\u003eurlPatterns \\u003c/span\\u003e\\u003cspan style=\\\"color:#F47067\\\"\\u003e=\\u003c/span\\u003e\\u003cspan style=\\\"color:#ADBAC7\\\"\\u003e [\\u003c/span\\u003e\\u003c/span\\u003e\\n\\u003cspan data-line=\\\"\\\"\\u003e\\u003cspan style=\\\"color:#ADBAC7\\\"\\u003e    path(\\u003c/span\\u003e\\u003cspan style=\\\"color:#96D0FF\\\"\\u003e'admin/'\\u003c/span\\u003e\\u003cspan style=\\\"color:#ADBAC7\\\"\\u003e, admin.site.urls),\\u003c/span\\u003e\\u003c/span\\u003e\\n\\u003cspan data-line=\\\"\\\"\\u003e\\u003cspan style=\\\"color:#ADBAC7\\\"\\u003e    path(\\u003c/span\\u003e\\u003cspan style=\\\"color:#96D0FF\\\"\\u003e''\\u003c/span\\u003e\\u003cspan style=\\\"color:#ADBAC7\\\"\\u003e, views.index, \\u003c/span\\u003e\\u003cspan style=\\\"color:#F69D50\\\"\\u003ename\\u003c/span\\u003e\\u003cspan style=\\\"color:#F47067\\\"\\u003e=\\u003c/span\\u003e\\u003cspan style=\\\"color:#96D0FF\\\"\\u003e'index'\\u003c/span\\u003e\\u003cspan style=\\\"color:#ADBAC7\\\"\\u003e),\\u003c/span\\u003e\\u003c/span\\u003e\\n\\u003cspan data-line=\\\"\\\"\\u003e\\u003cspan style=\\\"color:#ADBAC7\\\"\\u003e    path(\\u003c/span\\u003e\\u003cspan style=\\\"color:#96D0FF\\\"\\u003e'about/'\\u003c/span\\u003e\\u003cspan style=\\\"color:#ADBAC7\\\"\\u003e, views.about, \\u003c/span\\u003e\\u003cspan style=\\\"color:#F69D50\\\"\\u003ename\\u003c/span\\u003e\\u003cspan style=\\\"color:#F47067\\\"\\u003e=\\u003c/span\\u003e\\u003cspan style=\\\"color:#96D0FF\\\"\\u003e'about'\\u003c/span\\u003e\\u003cspan style=\\\"color:#ADBAC7\\\"\\u003e),\\u003c/span\\u003e\\u003c/span\\u003e\\n\\u003cspan data-line=\\\"\\\"\\u003e\\u003cspan style=\\\"color:#ADBAC7\\\"\\u003e]\\u003c/span\\u003e\\u003c/span\\u003e\\u003cbutton type=\\\"button\\\" title=\\\"Copy code\\\" aria-label=\\\"Copy code\\\" data=\\\"from django.contrib import admin\\nfrom django.urls import path\\nfrom . import views\\n\\nurlPatterns = [\\n    path(\\u0026#x27;admin/\\u0026#x27;, admin.site.urls),\\n    path(\\u0026#x27;\\u0026#x27;, views.index, name=\\u0026#x27;index\\u0026#x27;),\\n    path(\\u0026#x27;about/\\u0026#x27;, views.about, name=\\u0026#x27;about\\u0026#x27;),\\n]\\\" class=\\\"rehype-pretty-copy\\\" onclick=\\\"navigator.clipboard.writeText(this.attributes.data.value);this.classList.add(\\u0026#x27;rehype-pretty-copied\\u0026#x27;);window.setTimeout(() =\\u003e this.classList.remove(\\u0026#x27;rehype-pretty-copied\\u0026#x27;), 3000);\\\"\\u003e\\u003cspan class=\\\"ready\\\"\\u003e\\u003c/span\\u003e\\u003cspan class=\\\"success\\\"\\u003e\\u003c/span\\u003e\\u003c/button\\u003e\\u003cstyle\\u003e:root {--copy-icon: url(\\\"data:image/svg+xml,%3Csvg xmlns='http://www.w3.org/2000/svg' viewBox='0 0 48 48'%3E%3Cpath fill='%23adadad' d='M16.187 9.5H12.25a1.75 1.75 0 0 0-1.75 1.75v28.5c0 .967.784 1.75 1.75 1.75h23.5a1.75 1.75 0 0 0 1.75-1.75v-28.5a1.75 1.75 0 0 0-1.75-1.75h-3.937a4.25 4.25 0 0 1-4.063 3h-7.5a4.25 4.25 0 0 1-4.063-3M31.813 7h3.937A4.25 4.25 0 0 1 40 11.25v28.5A4.25 4.25 0 0 1 35.75 44h-23.5A4.25 4.25 0 0 1 8 39.75v-28.5A4.25 4.25 0 0 1 12.25 7h3.937a4.25 4.25 0 0 1 4.063-3h7.5a4.25 4.25 0 0 1 4.063 3M18.5 8.25c0 .966.784 1.75 1.75 1.75h7.5a1.75 1.75 0 1 0 0-3.5h-7.5a1.75 1.75 0 0 0-1.75 1.75'/%3E%3C/svg%3E\\\");--success-icon: url(\\\"data:image/svg+xml,%3Csvg xmlns='http://www.w3.org/2000/svg' viewBox='0 0 24 24'%3E%3Cpath fill='%2366ff85' d='M9 16.17L5.53 12.7a.996.996 0 1 0-1.41 1.41l4.18 4.18c.39.39 1.02.39 1.41 0L20.29 7.71a.996.996 0 1 0-1.41-1.41z'/%3E%3C/svg%3E\\\");}pre:has(code) {position: relative;}pre button.rehype-pretty-copy {right: 1px;padding: 0;width: 24px;height: 24px;display: flex;margin-top: 2px;margin-right: 8px;position: absolute;border-radius: 25%;backdrop-filter: blur(3px);\\u0026 span {width: 100%;aspect-ratio: 1 / 1;}\\u0026 .ready {background-image: var(--copy-icon);}\\u0026 .success {display: none; background-image: var(--success-icon);}}\\u0026.rehype-pretty-copied {\\u0026 .success {display: block;} \\u0026 .ready {display: none;}}pre button.rehype-pretty-copy.rehype-pretty-copied {opacity: 1;\\u0026 .ready { display: none; }\\u0026 .success { display: block; }}\\u003c/style\\u003e\\u003c/code\\u003e\\u003c/pre\\u003e\\u003c/figure\\u003e\\n\\u003ch3\\u003eSample urls.py file2\\u003c/h3\\u003e\\n\\u003cfigure data-rehype-pretty-code-figure=\\\"\\\"\\u003e\\u003cpre style=\\\"background-color:#22272e;color:#adbac7\\\" tabindex=\\\"0\\\" data-language=\\\"python\\\" data-theme=\\\"github-dark-dimmed\\\"\\u003e\\u003ccode data-language=\\\"python\\\" data-theme=\\\"github-dark-dimmed\\\" style=\\\"display: grid;\\\"\\u003e\\u003cspan data-line=\\\"\\\"\\u003e\\u003cspan style=\\\"color:#F47067\\\"\\u003efrom\\u003c/span\\u003e\\u003cspan style=\\\"color:#ADBAC7\\\"\\u003e django.urls \\u003c/span\\u003e\\u003cspan style=\\\"color:#F47067\\\"\\u003eimport\\u003c/span\\u003e\\u003cspan style=\\\"color:#ADBAC7\\\"\\u003e include, path\\u003c/span\\u003e\\u003c/span\\u003e\\n\\u003cspan data-line=\\\"\\\"\\u003e \\u003c/span\\u003e\\n\\u003cspan data-line=\\\"\\\"\\u003e\\u003cspan style=\\\"color:#ADBAC7\\\"\\u003eurlpatterns \\u003c/span\\u003e\\u003cspan style=\\\"color:#F47067\\\"\\u003e=\\u003c/span\\u003e\\u003cspan style=\\\"color:#ADBAC7\\\"\\u003e [\\u003c/span\\u003e\\u003c/span\\u003e\\n\\u003cspan data-line=\\\"\\\"\\u003e\\u003cspan style=\\\"color:#768390\\\"\\u003e    # ... snip ...\\u003c/span\\u003e\\u003c/span\\u003e\\n\\u003cspan data-line=\\\"\\\"\\u003e\\u003cspan style=\\\"color:#ADBAC7\\\"\\u003e    path(\\u003c/span\\u003e\\u003cspan style=\\\"color:#96D0FF\\\"\\u003e'community/'\\u003c/span\\u003e\\u003cspan style=\\\"color:#ADBAC7\\\"\\u003e, include(\\u003c/span\\u003e\\u003cspan style=\\\"color:#96D0FF\\\"\\u003e'aggregator.urls'\\u003c/span\\u003e\\u003cspan style=\\\"color:#ADBAC7\\\"\\u003e)),\\u003c/span\\u003e\\u003c/span\\u003e\\n\\u003cspan data-line=\\\"\\\"\\u003e\\u003cspan style=\\\"color:#ADBAC7\\\"\\u003e    path(\\u003c/span\\u003e\\u003cspan style=\\\"color:#96D0FF\\\"\\u003e'contact/'\\u003c/span\\u003e\\u003cspan style=\\\"color:#ADBAC7\\\"\\u003e, include(\\u003c/span\\u003e\\u003cspan style=\\\"color:#96D0FF\\\"\\u003e'contact.urls'\\u003c/span\\u003e\\u003cspan style=\\\"color:#ADBAC7\\\"\\u003e)),\\u003c/span\\u003e\\u003c/span\\u003e\\n\\u003cspan data-line=\\\"\\\"\\u003e\\u003cspan style=\\\"color:#768390\\\"\\u003e    # ... snip ...\\u003c/span\\u003e\\u003c/span\\u003e\\n\\u003cspan data-line=\\\"\\\"\\u003e\\u003cspan style=\\\"color:#ADBAC7\\\"\\u003e]\\u003c/span\\u003e\\u003c/span\\u003e\\u003cbutton type=\\\"button\\\" title=\\\"Copy code\\\" aria-label=\\\"Copy code\\\" data=\\\"from django.urls import include, path\\n\\nurlpatterns = [\\n    # ... snip ...\\n    path(\\u0026#x27;community/\\u0026#x27;, include(\\u0026#x27;aggregator.urls\\u0026#x27;)),\\n    path(\\u0026#x27;contact/\\u0026#x27;, include(\\u0026#x27;contact.urls\\u0026#x27;)),\\n    # ... snip ...\\n]\\\" class=\\\"rehype-pretty-copy\\\" onclick=\\\"navigator.clipboard.writeText(this.attributes.data.value);this.classList.add(\\u0026#x27;rehype-pretty-copied\\u0026#x27;);window.setTimeout(() =\\u003e this.classList.remove(\\u0026#x27;rehype-pretty-copied\\u0026#x27;), 3000);\\\"\\u003e\\u003cspan class=\\\"ready\\\"\\u003e\\u003c/span\\u003e\\u003cspan class=\\\"success\\\"\\u003e\\u003c/span\\u003e\\u003c/button\\u003e\\u003cstyle\\u003e:root {--copy-icon: url(\\\"data:image/svg+xml,%3Csvg xmlns='http://www.w3.org/2000/svg' viewBox='0 0 48 48'%3E%3Cpath fill='%23adadad' d='M16.187 9.5H12.25a1.75 1.75 0 0 0-1.75 1.75v28.5c0 .967.784 1.75 1.75 1.75h23.5a1.75 1.75 0 0 0 1.75-1.75v-28.5a1.75 1.75 0 0 0-1.75-1.75h-3.937a4.25 4.25 0 0 1-4.063 3h-7.5a4.25 4.25 0 0 1-4.063-3M31.813 7h3.937A4.25 4.25 0 0 1 40 11.25v28.5A4.25 4.25 0 0 1 35.75 44h-23.5A4.25 4.25 0 0 1 8 39.75v-28.5A4.25 4.25 0 0 1 12.25 7h3.937a4.25 4.25 0 0 1 4.063-3h7.5a4.25 4.25 0 0 1 4.063 3M18.5 8.25c0 .966.784 1.75 1.75 1.75h7.5a1.75 1.75 0 1 0 0-3.5h-7.5a1.75 1.75 0 0 0-1.75 1.75'/%3E%3C/svg%3E\\\");--success-icon: url(\\\"data:image/svg+xml,%3Csvg xmlns='http://www.w3.org/2000/svg' viewBox='0 0 24 24'%3E%3Cpath fill='%2366ff85' d='M9 16.17L5.53 12.7a.996.996 0 1 0-1.41 1.41l4.18 4.18c.39.39 1.02.39 1.41 0L20.29 7.71a.996.996 0 1 0-1.41-1.41z'/%3E%3C/svg%3E\\\");}pre:has(code) {position: relative;}pre button.rehype-pretty-copy {right: 1px;padding: 0;width: 24px;height: 24px;display: flex;margin-top: 2px;margin-right: 8px;position: absolute;border-radius: 25%;backdrop-filter: blur(3px);\\u0026 span {width: 100%;aspect-ratio: 1 / 1;}\\u0026 .ready {background-image: var(--copy-icon);}\\u0026 .success {display: none; background-image: var(--success-icon);}}\\u0026.rehype-pretty-copied {\\u0026 .success {display: block;} \\u0026 .ready {display: none;}}pre button.rehype-pretty-copy.rehype-pretty-copied {opacity: 1;\\u0026 .ready { display: none; }\\u0026 .success { display: block; }}\\u003c/style\\u003e\\u003c/code\\u003e\\u003c/pre\\u003e\\u003c/figure\\u003e\\n\\u003ch2\\u003eForms in Django\\u003c/h2\\u003e\\n\\u003cp\\u003eSimilar to HTML forms but are created by Django using the form field.\\u003c/p\\u003e\\n\\u003ch3\\u003eSample Django form\\u003c/h3\\u003e\\n\\u003cfigure data-rehype-pretty-code-figure=\\\"\\\"\\u003e\\u003cpre style=\\\"background-color:#22272e;color:#adbac7\\\" tabindex=\\\"0\\\" data-language=\\\"python\\\" data-theme=\\\"github-dark-dimmed\\\"\\u003e\\u003ccode data-language=\\\"python\\\" data-theme=\\\"github-dark-dimmed\\\" style=\\\"display: grid;\\\"\\u003e\\u003cspan data-line=\\\"\\\"\\u003e\\u003cspan style=\\\"color:#F47067\\\"\\u003efrom\\u003c/span\\u003e\\u003cspan style=\\\"color:#ADBAC7\\\"\\u003e django \\u003c/span\\u003e\\u003cspan style=\\\"color:#F47067\\\"\\u003eimport\\u003c/span\\u003e\\u003cspan style=\\\"color:#ADBAC7\\\"\\u003e forms\\u003c/span\\u003e\\u003c/span\\u003e\\n\\u003cspan data-line=\\\"\\\"\\u003e \\u003c/span\\u003e\\n\\u003cspan data-line=\\\"\\\"\\u003e\\u003cspan style=\\\"color:#768390\\\"\\u003e# creating a form\\u003c/span\\u003e\\u003c/span\\u003e\\n\\u003cspan data-line=\\\"\\\"\\u003e\\u003cspan style=\\\"color:#F47067\\\"\\u003eclass\\u003c/span\\u003e\\u003cspan style=\\\"color:#F69D50\\\"\\u003e SampleForm\\u003c/span\\u003e\\u003cspan style=\\\"color:#ADBAC7\\\"\\u003e(\\u003c/span\\u003e\\u003cspan style=\\\"color:#6CB6FF\\\"\\u003eforms\\u003c/span\\u003e\\u003cspan style=\\\"color:#ADBAC7\\\"\\u003e.\\u003c/span\\u003e\\u003cspan style=\\\"color:#6CB6FF\\\"\\u003eForm\\u003c/span\\u003e\\u003cspan style=\\\"color:#ADBAC7\\\"\\u003e):\\u003c/span\\u003e\\u003c/span\\u003e\\n\\u003cspan data-line=\\\"\\\"\\u003e\\u003cspan style=\\\"color:#ADBAC7\\\"\\u003e    name \\u003c/span\\u003e\\u003cspan style=\\\"color:#F47067\\\"\\u003e=\\u003c/span\\u003e\\u003cspan style=\\\"color:#ADBAC7\\\"\\u003e forms.CharField()\\u003c/span\\u003e\\u003c/span\\u003e\\n\\u003cspan data-line=\\\"\\\"\\u003e\\u003cspan style=\\\"color:#ADBAC7\\\"\\u003e    description \\u003c/span\\u003e\\u003cspan style=\\\"color:#F47067\\\"\\u003e=\\u003c/span\\u003e\\u003cspan style=\\\"color:#ADBAC7\\\"\\u003e forms.CharField()\\u003c/span\\u003e\\u003c/span\\u003e\\u003cbutton type=\\\"button\\\" title=\\\"Copy code\\\" aria-label=\\\"Copy code\\\" data=\\\"from django import forms\\n\\n# creating a form\\nclass SampleForm(forms.Form):\\n    name = forms.CharField()\\n    description = forms.CharField()\\\" class=\\\"rehype-pretty-copy\\\" onclick=\\\"navigator.clipboard.writeText(this.attributes.data.value);this.classList.add(\\u0026#x27;rehype-pretty-copied\\u0026#x27;);window.setTimeout(() =\\u003e this.classList.remove(\\u0026#x27;rehype-pretty-copied\\u0026#x27;), 3000);\\\"\\u003e\\u003cspan class=\\\"ready\\\"\\u003e\\u003c/span\\u003e\\u003cspan class=\\\"success\\\"\\u003e\\u003c/span\\u003e\\u003c/button\\u003e\\u003cstyle\\u003e:root {--copy-icon: url(\\\"data:image/svg+xml,%3Csvg xmlns='http://www.w3.org/2000/svg' viewBox='0 0 48 48'%3E%3Cpath fill='%23adadad' d='M16.187 9.5H12.25a1.75 1.75 0 0 0-1.75 1.75v28.5c0 .967.784 1.75 1.75 1.75h23.5a1.75 1.75 0 0 0 1.75-1.75v-28.5a1.75 1.75 0 0 0-1.75-1.75h-3.937a4.25 4.25 0 0 1-4.063 3h-7.5a4.25 4.25 0 0 1-4.063-3M31.813 7h3.937A4.25 4.25 0 0 1 40 11.25v28.5A4.25 4.25 0 0 1 35.75 44h-23.5A4.25 4.25 0 0 1 8 39.75v-28.5A4.25 4.25 0 0 1 12.25 7h3.937a4.25 4.25 0 0 1 4.063-3h7.5a4.25 4.25 0 0 1 4.063 3M18.5 8.25c0 .966.784 1.75 1.75 1.75h7.5a1.75 1.75 0 1 0 0-3.5h-7.5a1.75 1.75 0 0 0-1.75 1.75'/%3E%3C/svg%3E\\\");--success-icon: url(\\\"data:image/svg+xml,%3Csvg xmlns='http://www.w3.org/2000/svg' viewBox='0 0 24 24'%3E%3Cpath fill='%2366ff85' d='M9 16.17L5.53 12.7a.996.996 0 1 0-1.41 1.41l4.18 4.18c.39.39 1.02.39 1.41 0L20.29 7.71a.996.996 0 1 0-1.41-1.41z'/%3E%3C/svg%3E\\\");}pre:has(code) {position: relative;}pre button.rehype-pretty-copy {right: 1px;padding: 0;width: 24px;height: 24px;display: flex;margin-top: 2px;margin-right: 8px;position: absolute;border-radius: 25%;backdrop-filter: blur(3px);\\u0026 span {width: 100%;aspect-ratio: 1 / 1;}\\u0026 .ready {background-image: var(--copy-icon);}\\u0026 .success {display: none; background-image: var(--success-icon);}}\\u0026.rehype-pretty-copied {\\u0026 .success {display: block;} \\u0026 .ready {display: none;}}pre button.rehype-pretty-copy.rehype-pretty-copied {opacity: 1;\\u0026 .ready { display: none; }\\u0026 .success { display: block; }}\\u003c/style\\u003e\\u003c/code\\u003e\\u003c/pre\\u003e\\u003c/figure\\u003e\\n\\u003ch2\\u003eApps in Django\\u003c/h2\\u003e\\n\\u003cp\\u003eApps in Django are like independent modules for different functionalities.\\u003c/p\\u003e\\n\\u003ch3\\u003eCreating an app\\u003c/h3\\u003e\\n\\u003cfigure data-rehype-pretty-code-figure=\\\"\\\"\\u003e\\u003cpre style=\\\"background-color:#22272e;color:#adbac7\\\" tabindex=\\\"0\\\" data-language=\\\"python\\\" data-theme=\\\"github-dark-dimmed\\\"\\u003e\\u003ccode data-language=\\\"python\\\" data-theme=\\\"github-dark-dimmed\\\" style=\\\"display: grid;\\\"\\u003e\\u003cspan data-line=\\\"\\\"\\u003e\\u003cspan style=\\\"color:#ADBAC7\\\"\\u003epython manage.py startapp AppName\\u003c/span\\u003e\\u003c/span\\u003e\\u003cbutton type=\\\"button\\\" title=\\\"Copy code\\\" aria-label=\\\"Copy code\\\" data=\\\"python manage.py startapp AppName\\\" class=\\\"rehype-pretty-copy\\\" onclick=\\\"navigator.clipboard.writeText(this.attributes.data.value);this.classList.add(\\u0026#x27;rehype-pretty-copied\\u0026#x27;);window.setTimeout(() =\\u003e this.classList.remove(\\u0026#x27;rehype-pretty-copied\\u0026#x27;), 3000);\\\"\\u003e\\u003cspan class=\\\"ready\\\"\\u003e\\u003c/span\\u003e\\u003cspan class=\\\"success\\\"\\u003e\\u003c/span\\u003e\\u003c/button\\u003e\\u003cstyle\\u003e:root {--copy-icon: url(\\\"data:image/svg+xml,%3Csvg xmlns='http://www.w3.org/2000/svg' viewBox='0 0 48 48'%3E%3Cpath fill='%23adadad' d='M16.187 9.5H12.25a1.75 1.75 0 0 0-1.75 1.75v28.5c0 .967.784 1.75 1.75 1.75h23.5a1.75 1.75 0 0 0 1.75-1.75v-28.5a1.75 1.75 0 0 0-1.75-1.75h-3.937a4.25 4.25 0 0 1-4.063 3h-7.5a4.25 4.25 0 0 1-4.063-3M31.813 7h3.937A4.25 4.25 0 0 1 40 11.25v28.5A4.25 4.25 0 0 1 35.75 44h-23.5A4.25 4.25 0 0 1 8 39.75v-28.5A4.25 4.25 0 0 1 12.25 7h3.937a4.25 4.25 0 0 1 4.063-3h7.5a4.25 4.25 0 0 1 4.063 3M18.5 8.25c0 .966.784 1.75 1.75 1.75h7.5a1.75 1.75 0 1 0 0-3.5h-7.5a1.75 1.75 0 0 0-1.75 1.75'/%3E%3C/svg%3E\\\");--success-icon: url(\\\"data:image/svg+xml,%3Csvg xmlns='http://www.w3.org/2000/svg' viewBox='0 0 24 24'%3E%3Cpath fill='%2366ff85' d='M9 16.17L5.53 12.7a.996.996 0 1 0-1.41 1.41l4.18 4.18c.39.39 1.02.39 1.41 0L20.29 7.71a.996.996 0 1 0-1.41-1.41z'/%3E%3C/svg%3E\\\");}pre:has(code) {position: relative;}pre button.rehype-pretty-copy {right: 1px;padding: 0;width: 24px;height: 24px;display: flex;margin-top: 2px;margin-right: 8px;position: absolute;border-radius: 25%;backdrop-filter: blur(3px);\\u0026 span {width: 100%;aspect-ratio: 1 / 1;}\\u0026 .ready {background-image: var(--copy-icon);}\\u0026 .success {display: none; background-image: var(--success-icon);}}\\u0026.rehype-pretty-copied {\\u0026 .success {display: block;} \\u0026 .ready {display: none;}}pre button.rehype-pretty-copy.rehype-pretty-copied {opacity: 1;\\u0026 .ready { display: none; }\\u0026 .success { display: block; }}\\u003c/style\\u003e\\u003c/code\\u003e\\u003c/pre\\u003e\\u003c/figure\\u003e\\n\\u003ch3\\u003eListing app in the settings.py\\u003c/h3\\u003e\\n\\u003cp\\u003eAfter creating an app, we need to list the app name in \\u003ccode\\u003eINSTALLED_APPS\\u003c/code\\u003e.\\u003c/p\\u003e\\n\\u003cfigure data-rehype-pretty-code-figure=\\\"\\\"\\u003e\\u003cpre style=\\\"background-color:#22272e;color:#adbac7\\\" tabindex=\\\"0\\\" data-language=\\\"python\\\" data-theme=\\\"github-dark-dimmed\\\"\\u003e\\u003ccode data-language=\\\"python\\\" data-theme=\\\"github-dark-dimmed\\\" style=\\\"display: grid;\\\"\\u003e\\u003cspan data-line=\\\"\\\"\\u003e\\u003cspan style=\\\"color:#6CB6FF\\\"\\u003eINSTALLED_APPS\\u003c/span\\u003e\\u003cspan style=\\\"color:#F47067\\\"\\u003e =\\u003c/span\\u003e\\u003cspan style=\\\"color:#ADBAC7\\\"\\u003e [\\u003c/span\\u003e\\u003c/span\\u003e\\n\\u003cspan data-line=\\\"\\\"\\u003e\\u003cspan style=\\\"color:#96D0FF\\\"\\u003e    'django.contrib.admin'\\u003c/span\\u003e\\u003cspan style=\\\"color:#ADBAC7\\\"\\u003e,\\u003c/span\\u003e\\u003c/span\\u003e\\n\\u003cspan data-line=\\\"\\\"\\u003e\\u003cspan style=\\\"color:#96D0FF\\\"\\u003e    'django.contrib.auth'\\u003c/span\\u003e\\u003cspan style=\\\"color:#ADBAC7\\\"\\u003e,\\u003c/span\\u003e\\u003c/span\\u003e\\n\\u003cspan data-line=\\\"\\\"\\u003e\\u003cspan style=\\\"color:#96D0FF\\\"\\u003e    'django.contrib.contenttypes'\\u003c/span\\u003e\\u003cspan style=\\\"color:#ADBAC7\\\"\\u003e,\\u003c/span\\u003e\\u003c/span\\u003e\\n\\u003cspan data-line=\\\"\\\"\\u003e\\u003cspan style=\\\"color:#96D0FF\\\"\\u003e    'django.contrib.sessions'\\u003c/span\\u003e\\u003cspan style=\\\"color:#ADBAC7\\\"\\u003e,\\u003c/span\\u003e\\u003c/span\\u003e\\n\\u003cspan data-line=\\\"\\\"\\u003e\\u003cspan style=\\\"color:#96D0FF\\\"\\u003e    'django.contrib.messages'\\u003c/span\\u003e\\u003cspan style=\\\"color:#ADBAC7\\\"\\u003e,\\u003c/span\\u003e\\u003c/span\\u003e\\n\\u003cspan data-line=\\\"\\\"\\u003e\\u003cspan style=\\\"color:#96D0FF\\\"\\u003e    'django.contrib.staticfiles'\\u003c/span\\u003e\\u003cspan style=\\\"color:#ADBAC7\\\"\\u003e,\\u003c/span\\u003e\\u003c/span\\u003e\\n\\u003cspan data-line=\\\"\\\"\\u003e\\u003cspan style=\\\"color:#96D0FF\\\"\\u003e    'AppName'\\u003c/span\\u003e\\u003c/span\\u003e\\n\\u003cspan data-line=\\\"\\\"\\u003e\\u003cspan style=\\\"color:#ADBAC7\\\"\\u003e]\\u003c/span\\u003e\\u003c/span\\u003e\\u003cbutton type=\\\"button\\\" title=\\\"Copy code\\\" aria-label=\\\"Copy code\\\" data=\\\"INSTALLED_APPS = [\\n    \\u0026#x27;django.contrib.admin\\u0026#x27;,\\n    \\u0026#x27;django.contrib.auth\\u0026#x27;,\\n    \\u0026#x27;django.contrib.contenttypes\\u0026#x27;,\\n    \\u0026#x27;django.contrib.sessions\\u0026#x27;,\\n    \\u0026#x27;django.contrib.messages\\u0026#x27;,\\n    \\u0026#x27;django.contrib.staticfiles\\u0026#x27;,\\n    \\u0026#x27;AppName\\u0026#x27;\\n]\\\" class=\\\"rehype-pretty-copy\\\" onclick=\\\"navigator.clipboard.writeText(this.attributes.data.value);this.classList.add(\\u0026#x27;rehype-pretty-copied\\u0026#x27;);window.setTimeout(() =\\u003e this.classList.remove(\\u0026#x27;rehype-pretty-copied\\u0026#x27;), 3000);\\\"\\u003e\\u003cspan class=\\\"ready\\\"\\u003e\\u003c/span\\u003e\\u003cspan class=\\\"success\\\"\\u003e\\u003c/span\\u003e\\u003c/button\\u003e\\u003cstyle\\u003e:root {--copy-icon: url(\\\"data:image/svg+xml,%3Csvg xmlns='http://www.w3.org/2000/svg' viewBox='0 0 48 48'%3E%3Cpath fill='%23adadad' d='M16.187 9.5H12.25a1.75 1.75 0 0 0-1.75 1.75v28.5c0 .967.784 1.75 1.75 1.75h23.5a1.75 1.75 0 0 0 1.75-1.75v-28.5a1.75 1.75 0 0 0-1.75-1.75h-3.937a4.25 4.25 0 0 1-4.063 3h-7.5a4.25 4.25 0 0 1-4.063-3M31.813 7h3.937A4.25 4.25 0 0 1 40 11.25v28.5A4.25 4.25 0 0 1 35.75 44h-23.5A4.25 4.25 0 0 1 8 39.75v-28.5A4.25 4.25 0 0 1 12.25 7h3.937a4.25 4.25 0 0 1 4.063-3h7.5a4.25 4.25 0 0 1 4.063 3M18.5 8.25c0 .966.784 1.75 1.75 1.75h7.5a1.75 1.75 0 1 0 0-3.5h-7.5a1.75 1.75 0 0 0-1.75 1.75'/%3E%3C/svg%3E\\\");--success-icon: url(\\\"data:image/svg+xml,%3Csvg xmlns='http://www.w3.org/2000/svg' viewBox='0 0 24 24'%3E%3Cpath fill='%2366ff85' d='M9 16.17L5.53 12.7a.996.996 0 1 0-1.41 1.41l4.18 4.18c.39.39 1.02.39 1.41 0L20.29 7.71a.996.996 0 1 0-1.41-1.41z'/%3E%3C/svg%3E\\\");}pre:has(code) {position: relative;}pre button.rehype-pretty-copy {right: 1px;padding: 0;width: 24px;height: 24px;display: flex;margin-top: 2px;margin-right: 8px;position: absolute;border-radius: 25%;backdrop-filter: blur(3px);\\u0026 span {width: 100%;aspect-ratio: 1 / 1;}\\u0026 .ready {background-image: var(--copy-icon);}\\u0026 .success {display: none; background-image: var(--success-icon);}}\\u0026.rehype-pretty-copied {\\u0026 .success {display: block;} \\u0026 .ready {display: none;}}pre button.rehype-pretty-copy.rehype-pretty-copied {opacity: 1;\\u0026 .ready { display: none; }\\u0026 .success { display: block; }}\\u003c/style\\u003e\\u003c/code\\u003e\\u003c/pre\\u003e\\u003c/figure\\u003e\\n\\u003ch2\\u003eTemplates in Django\\u003c/h2\\u003e\\n\\u003cp\\u003eUsed to handle dynamic HTML files separately.\\u003c/p\\u003e\\n\\u003ch3\\u003eConfiguring templates in settings.py\\u003c/h3\\u003e\\n\\u003cfigure data-rehype-pretty-code-figure=\\\"\\\"\\u003e\\u003cpre style=\\\"background-color:#22272e;color:#adbac7\\\" tabindex=\\\"0\\\" data-language=\\\"python\\\" data-theme=\\\"github-dark-dimmed\\\"\\u003e\\u003ccode data-language=\\\"python\\\" data-theme=\\\"github-dark-dimmed\\\" style=\\\"display: grid;\\\"\\u003e\\u003cspan data-line=\\\"\\\"\\u003e\\u003cspan style=\\\"color:#6CB6FF\\\"\\u003eTEMPLATES\\u003c/span\\u003e\\u003cspan style=\\\"color:#F47067\\\"\\u003e =\\u003c/span\\u003e\\u003cspan style=\\\"color:#ADBAC7\\\"\\u003e [\\u003c/span\\u003e\\u003c/span\\u003e\\n\\u003cspan data-line=\\\"\\\"\\u003e\\u003cspan style=\\\"color:#ADBAC7\\\"\\u003e    {\\u003c/span\\u003e\\u003c/span\\u003e\\n\\u003cspan data-line=\\\"\\\"\\u003e\\u003cspan style=\\\"color:#96D0FF\\\"\\u003e        'BACKEND'\\u003c/span\\u003e\\u003cspan style=\\\"color:#ADBAC7\\\"\\u003e: \\u003c/span\\u003e\\u003cspan style=\\\"color:#96D0FF\\\"\\u003e'django.template.backends.django.DjangoTemplates'\\u003c/span\\u003e\\u003cspan style=\\\"color:#ADBAC7\\\"\\u003e,\\u003c/span\\u003e\\u003c/span\\u003e\\n\\u003cspan data-line=\\\"\\\"\\u003e\\u003cspan style=\\\"color:#96D0FF\\\"\\u003e        'DIRS'\\u003c/span\\u003e\\u003cspan style=\\\"color:#ADBAC7\\\"\\u003e: [\\u003c/span\\u003e\\u003cspan style=\\\"color:#96D0FF\\\"\\u003e\\\"templates\\\"\\u003c/span\\u003e\\u003cspan style=\\\"color:#ADBAC7\\\"\\u003e],\\u003c/span\\u003e\\u003c/span\\u003e\\n\\u003cspan data-line=\\\"\\\"\\u003e\\u003cspan style=\\\"color:#96D0FF\\\"\\u003e        'APP_DIRS'\\u003c/span\\u003e\\u003cspan style=\\\"color:#ADBAC7\\\"\\u003e: \\u003c/span\\u003e\\u003cspan style=\\\"color:#6CB6FF\\\"\\u003eTrue\\u003c/span\\u003e\\u003cspan style=\\\"color:#ADBAC7\\\"\\u003e,\\u003c/span\\u003e\\u003c/span\\u003e\\n\\u003cspan data-line=\\\"\\\"\\u003e\\u003cspan style=\\\"color:#96D0FF\\\"\\u003e        'OPTIONS'\\u003c/span\\u003e\\u003cspan style=\\\"color:#ADBAC7\\\"\\u003e: {\\u003c/span\\u003e\\u003c/span\\u003e\\n\\u003cspan data-line=\\\"\\\"\\u003e\\u003cspan style=\\\"color:#768390\\\"\\u003e            # some options here\\u003c/span\\u003e\\u003c/span\\u003e\\n\\u003cspan data-line=\\\"\\\"\\u003e\\u003cspan style=\\\"color:#ADBAC7\\\"\\u003e        },\\u003c/span\\u003e\\u003c/span\\u003e\\n\\u003cspan data-line=\\\"\\\"\\u003e\\u003cspan style=\\\"color:#ADBAC7\\\"\\u003e    },\\u003c/span\\u003e\\u003c/span\\u003e\\n\\u003cspan data-line=\\\"\\\"\\u003e\\u003cspan style=\\\"color:#ADBAC7\\\"\\u003e]\\u003c/span\\u003e\\u003c/span\\u003e\\u003cbutton type=\\\"button\\\" title=\\\"Copy code\\\" aria-label=\\\"Copy code\\\" data=\\\"TEMPLATES = [\\n    {\\n        \\u0026#x27;BACKEND\\u0026#x27;: \\u0026#x27;django.template.backends.django.DjangoTemplates\\u0026#x27;,\\n        \\u0026#x27;DIRS\\u0026#x27;: [\\u0026#x22;templates\\u0026#x22;],\\n        \\u0026#x27;APP_DIRS\\u0026#x27;: True,\\n        \\u0026#x27;OPTIONS\\u0026#x27;: {\\n            # some options here\\n        },\\n    },\\n]\\\" class=\\\"rehype-pretty-copy\\\" onclick=\\\"navigator.clipboard.writeText(this.attributes.data.value);this.classList.add(\\u0026#x27;rehype-pretty-copied\\u0026#x27;);window.setTimeout(() =\\u003e this.classList.remove(\\u0026#x27;rehype-pretty-copied\\u0026#x27;), 3000);\\\"\\u003e\\u003cspan class=\\\"ready\\\"\\u003e\\u003c/span\\u003e\\u003cspan class=\\\"success\\\"\\u003e\\u003c/span\\u003e\\u003c/button\\u003e\\u003cstyle\\u003e:root {--copy-icon: url(\\\"data:image/svg+xml,%3Csvg xmlns='http://www.w3.org/2000/svg' viewBox='0 0 48 48'%3E%3Cpath fill='%23adadad' d='M16.187 9.5H12.25a1.75 1.75 0 0 0-1.75 1.75v28.5c0 .967.784 1.75 1.75 1.75h23.5a1.75 1.75 0 0 0 1.75-1.75v-28.5a1.75 1.75 0 0 0-1.75-1.75h-3.937a4.25 4.25 0 0 1-4.063 3h-7.5a4.25 4.25 0 0 1-4.063-3M31.813 7h3.937A4.25 4.25 0 0 1 40 11.25v28.5A4.25 4.25 0 0 1 35.75 44h-23.5A4.25 4.25 0 0 1 8 39.75v-28.5A4.25 4.25 0 0 1 12.25 7h3.937a4.25 4.25 0 0 1 4.063-3h7.5a4.25 4.25 0 0 1 4.063 3M18.5 8.25c0 .966.784 1.75 1.75 1.75h7.5a1.75 1.75 0 1 0 0-3.5h-7.5a1.75 1.75 0 0 0-1.75 1.75'/%3E%3C/svg%3E\\\");--success-icon: url(\\\"data:image/svg+xml,%3Csvg xmlns='http://www.w3.org/2000/svg' viewBox='0 0 24 24'%3E%3Cpath fill='%2366ff85' d='M9 16.17L5.53 12.7a.996.996 0 1 0-1.41 1.41l4.18 4.18c.39.39 1.02.39 1.41 0L20.29 7.71a.996.996 0 1 0-1.41-1.41z'/%3E%3C/svg%3E\\\");}pre:has(code) {position: relative;}pre button.rehype-pretty-copy {right: 1px;padding: 0;width: 24px;height: 24px;display: flex;margin-top: 2px;margin-right: 8px;position: absolute;border-radius: 25%;backdrop-filter: blur(3px);\\u0026 span {width: 100%;aspect-ratio: 1 / 1;}\\u0026 .ready {background-image: var(--copy-icon);}\\u0026 .success {display: none; background-image: var(--success-icon);}}\\u0026.rehype-pretty-copied {\\u0026 .success {display: block;} \\u0026 .ready {display: none;}}pre button.rehype-pretty-copy.rehype-pretty-copied {opacity: 1;\\u0026 .ready { display: none; }\\u0026 .success { display: block; }}\\u003c/style\\u003e\\u003c/code\\u003e\\u003c/pre\\u003e\\u003c/figure\\u003e\\n\\u003ch3\\u003eChanging the views.py file\\u003c/h3\\u003e\\n\\u003cp\\u003eA view is associated with every URL. This view is responsible for displaying the content from the template.\\u003c/p\\u003e\\n\\u003cfigure data-rehype-pretty-code-figure=\\\"\\\"\\u003e\\u003cpre style=\\\"background-color:#22272e;color:#adbac7\\\" tabindex=\\\"0\\\" data-language=\\\"python\\\" data-theme=\\\"github-dark-dimmed\\\"\\u003e\\u003ccode data-language=\\\"python\\\" data-theme=\\\"github-dark-dimmed\\\" style=\\\"display: grid;\\\"\\u003e\\u003cspan data-line=\\\"\\\"\\u003e\\u003cspan style=\\\"color:#F47067\\\"\\u003edef\\u003c/span\\u003e\\u003cspan style=\\\"color:#DCBDFB\\\"\\u003e index\\u003c/span\\u003e\\u003cspan style=\\\"color:#ADBAC7\\\"\\u003e(request):\\u003c/span\\u003e\\u003c/span\\u003e\\n\\u003cspan data-line=\\\"\\\"\\u003e\\u003cspan style=\\\"color:#F47067\\\"\\u003e    return\\u003c/span\\u003e\\u003cspan style=\\\"color:#ADBAC7\\\"\\u003e render(request, \\u003c/span\\u003e\\u003cspan style=\\\"color:#96D0FF\\\"\\u003e'index.html'\\u003c/span\\u003e\\u003cspan style=\\\"color:#ADBAC7\\\"\\u003e) \\u003c/span\\u003e\\u003cspan style=\\\"color:#768390\\\"\\u003e# render is used to return the template\\u003c/span\\u003e\\u003c/span\\u003e\\u003cbutton type=\\\"button\\\" title=\\\"Copy code\\\" aria-label=\\\"Copy code\\\" data=\\\"def index(request):\\n    return render(request, \\u0026#x27;index.html\\u0026#x27;) # render is used to return the template\\\" class=\\\"rehype-pretty-copy\\\" onclick=\\\"navigator.clipboard.writeText(this.attributes.data.value);this.classList.add(\\u0026#x27;rehype-pretty-copied\\u0026#x27;);window.setTimeout(() =\\u003e this.classList.remove(\\u0026#x27;rehype-pretty-copied\\u0026#x27;), 3000);\\\"\\u003e\\u003cspan class=\\\"ready\\\"\\u003e\\u003c/span\\u003e\\u003cspan class=\\\"success\\\"\\u003e\\u003c/span\\u003e\\u003c/button\\u003e\\u003cstyle\\u003e:root {--copy-icon: url(\\\"data:image/svg+xml,%3Csvg xmlns='http://www.w3.org/2000/svg' viewBox='0 0 48 48'%3E%3Cpath fill='%23adadad' d='M16.187 9.5H12.25a1.75 1.75 0 0 0-1.75 1.75v28.5c0 .967.784 1.75 1.75 1.75h23.5a1.75 1.75 0 0 0 1.75-1.75v-28.5a1.75 1.75 0 0 0-1.75-1.75h-3.937a4.25 4.25 0 0 1-4.063 3h-7.5a4.25 4.25 0 0 1-4.063-3M31.813 7h3.937A4.25 4.25 0 0 1 40 11.25v28.5A4.25 4.25 0 0 1 35.75 44h-23.5A4.25 4.25 0 0 1 8 39.75v-28.5A4.25 4.25 0 0 1 12.25 7h3.937a4.25 4.25 0 0 1 4.063-3h7.5a4.25 4.25 0 0 1 4.063 3M18.5 8.25c0 .966.784 1.75 1.75 1.75h7.5a1.75 1.75 0 1 0 0-3.5h-7.5a1.75 1.75 0 0 0-1.75 1.75'/%3E%3C/svg%3E\\\");--success-icon: url(\\\"data:image/svg+xml,%3Csvg xmlns='http://www.w3.org/2000/svg' viewBox='0 0 24 24'%3E%3Cpath fill='%2366ff85' d='M9 16.17L5.53 12.7a.996.996 0 1 0-1.41 1.41l4.18 4.18c.39.39 1.02.39 1.41 0L20.29 7.71a.996.996 0 1 0-1.41-1.41z'/%3E%3C/svg%3E\\\");}pre:has(code) {position: relative;}pre button.rehype-pretty-copy {right: 1px;padding: 0;width: 24px;height: 24px;display: flex;margin-top: 2px;margin-right: 8px;position: absolute;border-radius: 25%;backdrop-filter: blur(3px);\\u0026 span {width: 100%;aspect-ratio: 1 / 1;}\\u0026 .ready {background-image: var(--copy-icon);}\\u0026 .success {display: none; background-image: var(--success-icon);}}\\u0026.rehype-pretty-copied {\\u0026 .success {display: block;} \\u0026 .ready {display: none;}}pre button.rehype-pretty-copy.rehype-pretty-copied {opacity: 1;\\u0026 .ready { display: none; }\\u0026 .success { display: block; }}\\u003c/style\\u003e\\u003c/code\\u003e\\u003c/pre\\u003e\\u003c/figure\\u003e\\n\\u003ch3\\u003eSample template file\\u003c/h3\\u003e\\n\\u003cfigure data-rehype-pretty-code-figure=\\\"\\\"\\u003e\\u003cpre style=\\\"background-color:#22272e;color:#adbac7\\\" tabindex=\\\"0\\\" data-language=\\\"html\\\" data-theme=\\\"github-dark-dimmed\\\"\\u003e\\u003ccode data-language=\\\"html\\\" data-theme=\\\"github-dark-dimmed\\\" style=\\\"display: grid;\\\"\\u003e\\u003cspan data-line=\\\"\\\"\\u003e\\u003cspan style=\\\"color:#ADBAC7\\\"\\u003e\\u0026#x3C;!\\u003c/span\\u003e\\u003cspan style=\\\"color:#8DDB8C\\\"\\u003eDOCTYPE\\u003c/span\\u003e\\u003cspan style=\\\"color:#6CB6FF\\\"\\u003e html\\u003c/span\\u003e\\u003cspan style=\\\"color:#ADBAC7\\\"\\u003e\\u003e\\u003c/span\\u003e\\u003c/span\\u003e\\n\\u003cspan data-line=\\\"\\\"\\u003e\\u003cspan style=\\\"color:#ADBAC7\\\"\\u003e\\u0026#x3C;\\u003c/span\\u003e\\u003cspan style=\\\"color:#8DDB8C\\\"\\u003ehtml\\u003c/span\\u003e\\u003cspan style=\\\"color:#6CB6FF\\\"\\u003e lang\\u003c/span\\u003e\\u003cspan style=\\\"color:#ADBAC7\\\"\\u003e=\\u003c/span\\u003e\\u003cspan style=\\\"color:#96D0FF\\\"\\u003e\\\"en\\\"\\u003c/span\\u003e\\u003cspan style=\\\"color:#ADBAC7\\\"\\u003e\\u003e\\u003c/span\\u003e\\u003c/span\\u003e\\n\\u003cspan data-line=\\\"\\\"\\u003e\\u003cspan style=\\\"color:#ADBAC7\\\"\\u003e\\u0026#x3C;\\u003c/span\\u003e\\u003cspan style=\\\"color:#8DDB8C\\\"\\u003ehead\\u003c/span\\u003e\\u003cspan style=\\\"color:#ADBAC7\\\"\\u003e\\u003e\\u003c/span\\u003e\\u003c/span\\u003e\\n\\u003cspan data-line=\\\"\\\"\\u003e\\u003cspan style=\\\"color:#ADBAC7\\\"\\u003e    \\u0026#x3C;\\u003c/span\\u003e\\u003cspan style=\\\"color:#8DDB8C\\\"\\u003emeta\\u003c/span\\u003e\\u003cspan style=\\\"color:#6CB6FF\\\"\\u003e charset\\u003c/span\\u003e\\u003cspan style=\\\"color:#ADBAC7\\\"\\u003e=\\u003c/span\\u003e\\u003cspan style=\\\"color:#96D0FF\\\"\\u003e\\\"UTF-8\\\"\\u003c/span\\u003e\\u003cspan style=\\\"color:#ADBAC7\\\"\\u003e\\u003e\\u003c/span\\u003e\\u003c/span\\u003e\\n\\u003cspan data-line=\\\"\\\"\\u003e\\u003cspan style=\\\"color:#ADBAC7\\\"\\u003e    \\u0026#x3C;\\u003c/span\\u003e\\u003cspan style=\\\"color:#8DDB8C\\\"\\u003etitle\\u003c/span\\u003e\\u003cspan style=\\\"color:#ADBAC7\\\"\\u003e\\u003eTemplate is working\\u0026#x3C;/\\u003c/span\\u003e\\u003cspan style=\\\"color:#8DDB8C\\\"\\u003etitle\\u003c/span\\u003e\\u003cspan style=\\\"color:#ADBAC7\\\"\\u003e\\u003e\\u003c/span\\u003e\\u003c/span\\u003e\\n\\u003cspan data-line=\\\"\\\"\\u003e\\u003cspan style=\\\"color:#ADBAC7\\\"\\u003e\\u0026#x3C;/\\u003c/span\\u003e\\u003cspan style=\\\"color:#8DDB8C\\\"\\u003ehead\\u003c/span\\u003e\\u003cspan style=\\\"color:#ADBAC7\\\"\\u003e\\u003e\\u003c/span\\u003e\\u003c/span\\u003e\\n\\u003cspan data-line=\\\"\\\"\\u003e\\u003cspan style=\\\"color:#ADBAC7\\\"\\u003e\\u0026#x3C;\\u003c/span\\u003e\\u003cspan style=\\\"color:#8DDB8C\\\"\\u003ebody\\u003c/span\\u003e\\u003cspan style=\\\"color:#ADBAC7\\\"\\u003e\\u003e\\u003c/span\\u003e\\u003c/span\\u003e\\n\\u003cspan data-line=\\\"\\\"\\u003e\\u003cspan style=\\\"color:#ADBAC7\\\"\\u003e    \\u0026#x3C;\\u003c/span\\u003e\\u003cspan style=\\\"color:#8DDB8C\\\"\\u003eh1\\u003c/span\\u003e\\u003cspan style=\\\"color:#ADBAC7\\\"\\u003e\\u003eThis is a sample django template.\\u0026#x3C;/\\u003c/span\\u003e\\u003cspan style=\\\"color:#8DDB8C\\\"\\u003eh1\\u003c/span\\u003e\\u003cspan style=\\\"color:#ADBAC7\\\"\\u003e\\u003e\\u003c/span\\u003e\\u003c/span\\u003e\\n\\u003cspan data-line=\\\"\\\"\\u003e\\u003cspan style=\\\"color:#ADBAC7\\\"\\u003e\\u0026#x3C;/\\u003c/span\\u003e\\u003cspan style=\\\"color:#8DDB8C\\\"\\u003ebody\\u003c/span\\u003e\\u003cspan style=\\\"color:#ADBAC7\\\"\\u003e\\u003e\\u003c/span\\u003e\\u003c/span\\u003e\\n\\u003cspan data-line=\\\"\\\"\\u003e\\u003cspan style=\\\"color:#ADBAC7\\\"\\u003e\\u0026#x3C;/\\u003c/span\\u003e\\u003cspan style=\\\"color:#8DDB8C\\\"\\u003ehtml\\u003c/span\\u003e\\u003cspan style=\\\"color:#ADBAC7\\\"\\u003e\\u003e\\u003c/span\\u003e\\u003c/span\\u003e\\u003cbutton type=\\\"button\\\" title=\\\"Copy code\\\" aria-label=\\\"Copy code\\\" data=\\\"\\u003c!DOCTYPE html\\u003e\\n\\u003chtml lang=\\u0026#x22;en\\u0026#x22;\\u003e\\n\\u003chead\\u003e\\n    \\u003cmeta charset=\\u0026#x22;UTF-8\\u0026#x22;\\u003e\\n    \\u003ctitle\\u003eTemplate is working\\u003c/title\\u003e\\n\\u003c/head\\u003e\\n\\u003cbody\\u003e\\n    \\u003ch1\\u003eThis is a sample django template.\\u003c/h1\\u003e\\n\\u003c/body\\u003e\\n\\u003c/html\\u003e\\\" class=\\\"rehype-pretty-copy\\\" onclick=\\\"navigator.clipboard.writeText(this.attributes.data.value);this.classList.add(\\u0026#x27;rehype-pretty-copied\\u0026#x27;);window.setTimeout(() =\\u003e this.classList.remove(\\u0026#x27;rehype-pretty-copied\\u0026#x27;), 3000);\\\"\\u003e\\u003cspan class=\\\"ready\\\"\\u003e\\u003c/span\\u003e\\u003cspan class=\\\"success\\\"\\u003e\\u003c/span\\u003e\\u003c/button\\u003e\\u003cstyle\\u003e:root {--copy-icon: url(\\\"data:image/svg+xml,%3Csvg xmlns='http://www.w3.org/2000/svg' viewBox='0 0 48 48'%3E%3Cpath fill='%23adadad' d='M16.187 9.5H12.25a1.75 1.75 0 0 0-1.75 1.75v28.5c0 .967.784 1.75 1.75 1.75h23.5a1.75 1.75 0 0 0 1.75-1.75v-28.5a1.75 1.75 0 0 0-1.75-1.75h-3.937a4.25 4.25 0 0 1-4.063 3h-7.5a4.25 4.25 0 0 1-4.063-3M31.813 7h3.937A4.25 4.25 0 0 1 40 11.25v28.5A4.25 4.25 0 0 1 35.75 44h-23.5A4.25 4.25 0 0 1 8 39.75v-28.5A4.25 4.25 0 0 1 12.25 7h3.937a4.25 4.25 0 0 1 4.063-3h7.5a4.25 4.25 0 0 1 4.063 3M18.5 8.25c0 .966.784 1.75 1.75 1.75h7.5a1.75 1.75 0 1 0 0-3.5h-7.5a1.75 1.75 0 0 0-1.75 1.75'/%3E%3C/svg%3E\\\");--success-icon: url(\\\"data:image/svg+xml,%3Csvg xmlns='http://www.w3.org/2000/svg' viewBox='0 0 24 24'%3E%3Cpath fill='%2366ff85' d='M9 16.17L5.53 12.7a.996.996 0 1 0-1.41 1.41l4.18 4.18c.39.39 1.02.39 1.41 0L20.29 7.71a.996.996 0 1 0-1.41-1.41z'/%3E%3C/svg%3E\\\");}pre:has(code) {position: relative;}pre button.rehype-pretty-copy {right: 1px;padding: 0;width: 24px;height: 24px;display: flex;margin-top: 2px;margin-right: 8px;position: absolute;border-radius: 25%;backdrop-filter: blur(3px);\\u0026 span {width: 100%;aspect-ratio: 1 / 1;}\\u0026 .ready {background-image: var(--copy-icon);}\\u0026 .success {display: none; background-image: var(--success-icon);}}\\u0026.rehype-pretty-copied {\\u0026 .success {display: block;} \\u0026 .ready {display: none;}}pre button.rehype-pretty-copy.rehype-pretty-copied {opacity: 1;\\u0026 .ready { display: none; }\\u0026 .success { display: block; }}\\u003c/style\\u003e\\u003c/code\\u003e\\u003c/pre\\u003e\\u003c/figure\\u003e\\n\\u003ch2\\u003eMigrations in Django\\u003c/h2\\u003e\\n\\u003cp\\u003eMigrations are Django's way of updating the database schema according to the changes that you make to your models.\\u003c/p\\u003e\\n\\u003ch3\\u003eCreating a migration\\u003c/h3\\u003e\\n\\u003cp\\u003eThe below command is used to make migration (create files with information to update the database) but no changes are made to the actual database.\\u003c/p\\u003e\\n\\u003cfigure data-rehype-pretty-code-figure=\\\"\\\"\\u003e\\u003cpre style=\\\"background-color:#22272e;color:#adbac7\\\" tabindex=\\\"0\\\" data-language=\\\"python\\\" data-theme=\\\"github-dark-dimmed\\\"\\u003e\\u003ccode data-language=\\\"python\\\" data-theme=\\\"github-dark-dimmed\\\" style=\\\"display: grid;\\\"\\u003e\\u003cspan data-line=\\\"\\\"\\u003e\\u003cspan style=\\\"color:#ADBAC7\\\"\\u003epython manage.py makemigrations\\u003c/span\\u003e\\u003c/span\\u003e\\u003cbutton type=\\\"button\\\" title=\\\"Copy code\\\" aria-label=\\\"Copy code\\\" data=\\\"python manage.py makemigrations\\\" class=\\\"rehype-pretty-copy\\\" onclick=\\\"navigator.clipboard.writeText(this.attributes.data.value);this.classList.add(\\u0026#x27;rehype-pretty-copied\\u0026#x27;);window.setTimeout(() =\\u003e this.classList.remove(\\u0026#x27;rehype-pretty-copied\\u0026#x27;), 3000);\\\"\\u003e\\u003cspan class=\\\"ready\\\"\\u003e\\u003c/span\\u003e\\u003cspan class=\\\"success\\\"\\u003e\\u003c/span\\u003e\\u003c/button\\u003e\\u003cstyle\\u003e:root {--copy-icon: url(\\\"data:image/svg+xml,%3Csvg xmlns='http://www.w3.org/2000/svg' viewBox='0 0 48 48'%3E%3Cpath fill='%23adadad' d='M16.187 9.5H12.25a1.75 1.75 0 0 0-1.75 1.75v28.5c0 .967.784 1.75 1.75 1.75h23.5a1.75 1.75 0 0 0 1.75-1.75v-28.5a1.75 1.75 0 0 0-1.75-1.75h-3.937a4.25 4.25 0 0 1-4.063 3h-7.5a4.25 4.25 0 0 1-4.063-3M31.813 7h3.937A4.25 4.25 0 0 1 40 11.25v28.5A4.25 4.25 0 0 1 35.75 44h-23.5A4.25 4.25 0 0 1 8 39.75v-28.5A4.25 4.25 0 0 1 12.25 7h3.937a4.25 4.25 0 0 1 4.063-3h7.5a4.25 4.25 0 0 1 4.063 3M18.5 8.25c0 .966.784 1.75 1.75 1.75h7.5a1.75 1.75 0 1 0 0-3.5h-7.5a1.75 1.75 0 0 0-1.75 1.75'/%3E%3C/svg%3E\\\");--success-icon: url(\\\"data:image/svg+xml,%3Csvg xmlns='http://www.w3.org/2000/svg' viewBox='0 0 24 24'%3E%3Cpath fill='%2366ff85' d='M9 16.17L5.53 12.7a.996.996 0 1 0-1.41 1.41l4.18 4.18c.39.39 1.02.39 1.41 0L20.29 7.71a.996.996 0 1 0-1.41-1.41z'/%3E%3C/svg%3E\\\");}pre:has(code) {position: relative;}pre button.rehype-pretty-copy {right: 1px;padding: 0;width: 24px;height: 24px;display: flex;margin-top: 2px;margin-right: 8px;position: absolute;border-radius: 25%;backdrop-filter: blur(3px);\\u0026 span {width: 100%;aspect-ratio: 1 / 1;}\\u0026 .ready {background-image: var(--copy-icon);}\\u0026 .success {display: none; background-image: var(--success-icon);}}\\u0026.rehype-pretty-copied {\\u0026 .success {display: block;} \\u0026 .ready {display: none;}}pre button.rehype-pretty-copy.rehype-pretty-copied {opacity: 1;\\u0026 .ready { display: none; }\\u0026 .success { display: block; }}\\u003c/style\\u003e\\u003c/code\\u003e\\u003c/pre\\u003e\\u003c/figure\\u003e\\n\\u003ch3\\u003eApplying the migration\\u003c/h3\\u003e\\n\\u003cp\\u003eThe below command is used to apply the changes to the actual database.\\u003c/p\\u003e\\n\\u003cfigure data-rehype-pretty-code-figure=\\\"\\\"\\u003e\\u003cpre style=\\\"background-color:#22272e;color:#adbac7\\\" tabindex=\\\"0\\\" data-language=\\\"python\\\" data-theme=\\\"github-dark-dimmed\\\"\\u003e\\u003ccode data-language=\\\"python\\\" data-theme=\\\"github-dark-dimmed\\\" style=\\\"display: grid;\\\"\\u003e\\u003cspan data-line=\\\"\\\"\\u003e\\u003cspan style=\\\"color:#ADBAC7\\\"\\u003epython manage.py migrate\\u003c/span\\u003e\\u003c/span\\u003e\\u003cbutton type=\\\"button\\\" title=\\\"Copy code\\\" aria-label=\\\"Copy code\\\" data=\\\"python manage.py migrate\\\" class=\\\"rehype-pretty-copy\\\" onclick=\\\"navigator.clipboard.writeText(this.attributes.data.value);this.classList.add(\\u0026#x27;rehype-pretty-copied\\u0026#x27;);window.setTimeout(() =\\u003e this.classList.remove(\\u0026#x27;rehype-pretty-copied\\u0026#x27;), 3000);\\\"\\u003e\\u003cspan class=\\\"ready\\\"\\u003e\\u003c/span\\u003e\\u003cspan class=\\\"success\\\"\\u003e\\u003c/span\\u003e\\u003c/button\\u003e\\u003cstyle\\u003e:root {--copy-icon: url(\\\"data:image/svg+xml,%3Csvg xmlns='http://www.w3.org/2000/svg' viewBox='0 0 48 48'%3E%3Cpath fill='%23adadad' d='M16.187 9.5H12.25a1.75 1.75 0 0 0-1.75 1.75v28.5c0 .967.784 1.75 1.75 1.75h23.5a1.75 1.75 0 0 0 1.75-1.75v-28.5a1.75 1.75 0 0 0-1.75-1.75h-3.937a4.25 4.25 0 0 1-4.063 3h-7.5a4.25 4.25 0 0 1-4.063-3M31.813 7h3.937A4.25 4.25 0 0 1 40 11.25v28.5A4.25 4.25 0 0 1 35.75 44h-23.5A4.25 4.25 0 0 1 8 39.75v-28.5A4.25 4.25 0 0 1 12.25 7h3.937a4.25 4.25 0 0 1 4.063-3h7.5a4.25 4.25 0 0 1 4.063 3M18.5 8.25c0 .966.784 1.75 1.75 1.75h7.5a1.75 1.75 0 1 0 0-3.5h-7.5a1.75 1.75 0 0 0-1.75 1.75'/%3E%3C/svg%3E\\\");--success-icon: url(\\\"data:image/svg+xml,%3Csvg xmlns='http://www.w3.org/2000/svg' viewBox='0 0 24 24'%3E%3Cpath fill='%2366ff85' d='M9 16.17L5.53 12.7a.996.996 0 1 0-1.41 1.41l4.18 4.18c.39.39 1.02.39 1.41 0L20.29 7.71a.996.996 0 1 0-1.41-1.41z'/%3E%3C/svg%3E\\\");}pre:has(code) {position: relative;}pre button.rehype-pretty-copy {right: 1px;padding: 0;width: 24px;height: 24px;display: flex;margin-top: 2px;margin-right: 8px;position: absolute;border-radius: 25%;backdrop-filter: blur(3px);\\u0026 span {width: 100%;aspect-ratio: 1 / 1;}\\u0026 .ready {background-image: var(--copy-icon);}\\u0026 .success {display: none; background-image: var(--success-icon);}}\\u0026.rehype-pretty-copied {\\u0026 .success {display: block;} \\u0026 .ready {display: none;}}pre button.rehype-pretty-copy.rehype-pretty-copied {opacity: 1;\\u0026 .ready { display: none; }\\u0026 .success { display: block; }}\\u003c/style\\u003e\\u003c/code\\u003e\\u003c/pre\\u003e\\u003c/figure\\u003e\\n\\u003ch2\\u003eAdmin interface in Django\\u003c/h2\\u003e\\n\\u003cp\\u003eDjango comes with a ready-to-use admin interface.\\u003c/p\\u003e\\n\\u003ch3\\u003eCreating the admin user\\u003c/h3\\u003e\\n\\u003cfigure data-rehype-pretty-code-figure=\\\"\\\"\\u003e\\u003cpre style=\\\"background-color:#22272e;color:#adbac7\\\" tabindex=\\\"0\\\" data-language=\\\"python\\\" data-theme=\\\"github-dark-dimmed\\\"\\u003e\\u003ccode data-language=\\\"python\\\" data-theme=\\\"github-dark-dimmed\\\" style=\\\"display: grid;\\\"\\u003e\\u003cspan data-line=\\\"\\\"\\u003e\\u003cspan style=\\\"color:#ADBAC7\\\"\\u003epython manage.py createsuperuser\\u003c/span\\u003e\\u003c/span\\u003e\\u003cbutton type=\\\"button\\\" title=\\\"Copy code\\\" aria-label=\\\"Copy code\\\" data=\\\"python manage.py createsuperuser\\\" class=\\\"rehype-pretty-copy\\\" onclick=\\\"navigator.clipboard.writeText(this.attributes.data.value);this.classList.add(\\u0026#x27;rehype-pretty-copied\\u0026#x27;);window.setTimeout(() =\\u003e this.classList.remove(\\u0026#x27;rehype-pretty-copied\\u0026#x27;), 3000);\\\"\\u003e\\u003cspan class=\\\"ready\\\"\\u003e\\u003c/span\\u003e\\u003cspan class=\\\"success\\\"\\u003e\\u003c/span\\u003e\\u003c/button\\u003e\\u003cstyle\\u003e:root {--copy-icon: url(\\\"data:image/svg+xml,%3Csvg xmlns='http://www.w3.org/2000/svg' viewBox='0 0 48 48'%3E%3Cpath fill='%23adadad' d='M16.187 9.5H12.25a1.75 1.75 0 0 0-1.75 1.75v28.5c0 .967.784 1.75 1.75 1.75h23.5a1.75 1.75 0 0 0 1.75-1.75v-28.5a1.75 1.75 0 0 0-1.75-1.75h-3.937a4.25 4.25 0 0 1-4.063 3h-7.5a4.25 4.25 0 0 1-4.063-3M31.813 7h3.937A4.25 4.25 0 0 1 40 11.25v28.5A4.25 4.25 0 0 1 35.75 44h-23.5A4.25 4.25 0 0 1 8 39.75v-28.5A4.25 4.25 0 0 1 12.25 7h3.937a4.25 4.25 0 0 1 4.063-3h7.5a4.25 4.25 0 0 1 4.063 3M18.5 8.25c0 .966.784 1.75 1.75 1.75h7.5a1.75 1.75 0 1 0 0-3.5h-7.5a1.75 1.75 0 0 0-1.75 1.75'/%3E%3C/svg%3E\\\");--success-icon: url(\\\"data:image/svg+xml,%3Csvg xmlns='http://www.w3.org/2000/svg' viewBox='0 0 24 24'%3E%3Cpath fill='%2366ff85' d='M9 16.17L5.53 12.7a.996.996 0 1 0-1.41 1.41l4.18 4.18c.39.39 1.02.39 1.41 0L20.29 7.71a.996.996 0 1 0-1.41-1.41z'/%3E%3C/svg%3E\\\");}pre:has(code) {position: relative;}pre button.rehype-pretty-copy {right: 1px;padding: 0;width: 24px;height: 24px;display: flex;margin-top: 2px;margin-right: 8px;position: absolute;border-radius: 25%;backdrop-filter: blur(3px);\\u0026 span {width: 100%;aspect-ratio: 1 / 1;}\\u0026 .ready {background-image: var(--copy-icon);}\\u0026 .success {display: none; background-image: var(--success-icon);}}\\u0026.rehype-pretty-copied {\\u0026 .success {display: block;} \\u0026 .ready {display: none;}}pre button.rehype-pretty-copy.rehype-pretty-copied {opacity: 1;\\u0026 .ready { display: none; }\\u0026 .success { display: block; }}\\u003c/style\\u003e\\u003c/code\\u003e\\u003c/pre\\u003e\\u003c/figure\\u003e\\n\\u003ch2\\u003ePage Redirection\\u003c/h2\\u003e\\n\\u003cp\\u003eRedirection is used to redirect the user to a specific page of the application on the occurrence of an event.\\u003c/p\\u003e\\n\\u003ch3\\u003eRedirect method\\u003c/h3\\u003e\\n\\u003cfigure data-rehype-pretty-code-figure=\\\"\\\"\\u003e\\u003cpre style=\\\"background-color:#22272e;color:#adbac7\\\" tabindex=\\\"0\\\" data-language=\\\"python\\\" data-theme=\\\"github-dark-dimmed\\\"\\u003e\\u003ccode data-language=\\\"python\\\" data-theme=\\\"github-dark-dimmed\\\" style=\\\"display: grid;\\\"\\u003e\\u003cspan data-line=\\\"\\\"\\u003e\\u003cspan style=\\\"color:#F47067\\\"\\u003efrom\\u003c/span\\u003e\\u003cspan style=\\\"color:#ADBAC7\\\"\\u003e django.shortcuts \\u003c/span\\u003e\\u003cspan style=\\\"color:#F47067\\\"\\u003eimport\\u003c/span\\u003e\\u003cspan style=\\\"color:#ADBAC7\\\"\\u003e render, redirect\\u003c/span\\u003e\\u003c/span\\u003e\\n\\u003cspan data-line=\\\"\\\"\\u003e \\u003c/span\\u003e\\n\\u003cspan data-line=\\\"\\\"\\u003e\\u003cspan style=\\\"color:#F47067\\\"\\u003edef\\u003c/span\\u003e\\u003cspan style=\\\"color:#DCBDFB\\\"\\u003e redirecting\\u003c/span\\u003e\\u003cspan style=\\\"color:#ADBAC7\\\"\\u003e(request):\\u003c/span\\u003e\\u003c/span\\u003e\\n\\u003cspan data-line=\\\"\\\"\\u003e\\u003cspan style=\\\"color:#F47067\\\"\\u003e    return\\u003c/span\\u003e\\u003cspan style=\\\"color:#ADBAC7\\\"\\u003e redirect(\\u003c/span\\u003e\\u003cspan style=\\\"color:#96D0FF\\\"\\u003e\\\"https://www.codewithharry.com\\\"\\u003c/span\\u003e\\u003cspan style=\\\"color:#ADBAC7\\\"\\u003e)\\u003c/span\\u003e\\u003c/span\\u003e\\u003cbutton type=\\\"button\\\" title=\\\"Copy code\\\" aria-label=\\\"Copy code\\\" data=\\\"from django.shortcuts import render, redirect\\n\\ndef redirecting(request):\\n    return redirect(\\u0026#x22;https://www.codewithharry.com\\u0026#x22;)\\\" class=\\\"rehype-pretty-copy\\\" onclick=\\\"navigator.clipboard.writeText(this.attributes.data.value);this.classList.add(\\u0026#x27;rehype-pretty-copied\\u0026#x27;);window.setTimeout(() =\\u003e this.classList.remove(\\u0026#x27;rehype-pretty-copied\\u0026#x27;), 3000);\\\"\\u003e\\u003cspan class=\\\"ready\\\"\\u003e\\u003c/span\\u003e\\u003cspan class=\\\"success\\\"\\u003e\\u003c/span\\u003e\\u003c/button\\u003e\\u003cstyle\\u003e:root {--copy-icon: url(\\\"data:image/svg+xml,%3Csvg xmlns='http://www.w3.org/2000/svg' viewBox='0 0 48 48'%3E%3Cpath fill='%23adadad' d='M16.187 9.5H12.25a1.75 1.75 0 0 0-1.75 1.75v28.5c0 .967.784 1.75 1.75 1.75h23.5a1.75 1.75 0 0 0 1.75-1.75v-28.5a1.75 1.75 0 0 0-1.75-1.75h-3.937a4.25 4.25 0 0 1-4.063 3h-7.5a4.25 4.25 0 0 1-4.063-3M31.813 7h3.937A4.25 4.25 0 0 1 40 11.25v28.5A4.25 4.25 0 0 1 35.75 44h-23.5A4.25 4.25 0 0 1 8 39.75v-28.5A4.25 4.25 0 0 1 12.25 7h3.937a4.25 4.25 0 0 1 4.063-3h7.5a4.25 4.25 0 0 1 4.063 3M18.5 8.25c0 .966.784 1.75 1.75 1.75h7.5a1.75 1.75 0 1 0 0-3.5h-7.5a1.75 1.75 0 0 0-1.75 1.75'/%3E%3C/svg%3E\\\");--success-icon: url(\\\"data:image/svg+xml,%3Csvg xmlns='http://www.w3.org/2000/svg' viewBox='0 0 24 24'%3E%3Cpath fill='%2366ff85' d='M9 16.17L5.53 12.7a.996.996 0 1 0-1.41 1.41l4.18 4.18c.39.39 1.02.39 1.41 0L20.29 7.71a.996.996 0 1 0-1.41-1.41z'/%3E%3C/svg%3E\\\");}pre:has(code) {position: relative;}pre button.rehype-pretty-copy {right: 1px;padding: 0;width: 24px;height: 24px;display: flex;margin-top: 2px;margin-right: 8px;position: absolute;border-radius: 25%;backdrop-filter: blur(3px);\\u0026 span {width: 100%;aspect-ratio: 1 / 1;}\\u0026 .ready {background-image: var(--copy-icon);}\\u0026 .success {display: none; background-image: var(--success-icon);}}\\u0026.rehype-pretty-copied {\\u0026 .success {display: block;} \\u0026 .ready {display: none;}}pre button.rehype-pretty-copy.rehype-pretty-copied {opacity: 1;\\u0026 .ready { display: none; }\\u0026 .success { display: block; }}\\u003c/style\\u003e\\u003c/code\\u003e\\u003c/pre\\u003e\\u003c/figure\\u003e\\n\\u003cp\\u003e\\u003ca href=\\\"https://cwh-full-next-space.fra1.cdn.digitaloceanspaces.com/blogpost/django-cheatsheet/django.pdf\\\" rel=\\\"noopener noreferrer\\\" target=\\\"_blank\\\"\\u003eDownload this Cheatsheet\\u003c/a\\u003e\\u003c/p\\u003e\"])</script><script>self.__next_f.push([1,\"c:[\\\"$\\\",\\\"section\\\",null,{\\\"className\\\":\\\"min-h-screen bg-background text-foreground\\\",\\\"children\\\":[\\\"$\\\",\\\"div\\\",null,{\\\"className\\\":\\\"max-w-4xl mx-auto px-4 sm:px-6 lg:px-8\\\",\\\"children\\\":[[\\\"$\\\",\\\"div\\\",null,{\\\"className\\\":\\\"relative h-80 w-full my-6 rounded-lg shadow-lg overflow-hidden\\\",\\\"children\\\":[\\\"$\\\",\\\"$L1a\\\",null,{\\\"src\\\":\\\"/blog-placeholder.jpg\\\",\\\"alt\\\":\\\"Django Cheatsheet\\\",\\\"fill\\\":true,\\\"className\\\":\\\"object-cover\\\",\\\"priority\\\":true}]}],[\\\"$\\\",\\\"h1\\\",null,{\\\"className\\\":\\\"text-3xl sm:text-4xl font-extrabold mb-4 text-center\\\",\\\"children\\\":\\\"Django Cheatsheet\\\"}],[\\\"$\\\",\\\"p\\\",null,{\\\"className\\\":\\\"text-lg mb-2 border-l-4 border-zinc-500 pl-4 italic text-muted-foreground\\\",\\\"children\\\":[\\\"\\\\\\\"\\\",\\\"Django cheatsheet for beginners\\\",\\\"\\\\\\\"\\\"]}],[\\\"$\\\",\\\"div\\\",null,{\\\"className\\\":\\\"flex flex-wrap justify-between items-center text-sm text-muted-foreground mb-6\\\",\\\"children\\\":[[\\\"$\\\",\\\"p\\\",null,{\\\"className\\\":\\\"italic\\\",\\\"children\\\":\\\"By CodeWithHarry\\\"}],[\\\"$\\\",\\\"p\\\",null,{\\\"children\\\":[\\\"Updated: \\\",\\\"5 April 2025\\\"]}]]}],[\\\"$\\\",\\\"$L1b\\\",null,{\\\"processedContent\\\":\\\"$1c\\\"}],[\\\"$\\\",\\\"div\\\",null,{\\\"className\\\":\\\"flex justify-between items-center\\\",\\\"children\\\":[[\\\"$\\\",\\\"div\\\",null,{\\\"children\\\":[\\\"$\\\",\\\"div\\\",null,{\\\"className\\\":\\\"mt-0\\\",\\\"children\\\":[[\\\"$\\\",\\\"h2\\\",null,{\\\"className\\\":\\\"text-xl font-semibold mb-2\\\",\\\"children\\\":\\\"Tags\\\"}],[\\\"$\\\",\\\"div\\\",null,{\\\"className\\\":\\\"flex flex-wrap gap-2\\\",\\\"children\\\":[[\\\"$\\\",\\\"span\\\",\\\"0\\\",{\\\"className\\\":\\\"bg-zinc-200 dark:bg-zinc-700 px-2 py-1 rounded-md text-xs\\\",\\\"children\\\":\\\"django\\\"}],[\\\"$\\\",\\\"span\\\",\\\"1\\\",{\\\"className\\\":\\\"bg-zinc-200 dark:bg-zinc-700 px-2 py-1 rounded-md text-xs\\\",\\\"children\\\":\\\"cheatsheet\\\"}]]}]]}]}],[\\\"$\\\",\\\"div\\\",null,{\\\"className\\\":\\\"my-16 flex justify-center items-center\\\",\\\"children\\\":[\\\"$\\\",\\\"$L1d\\\",null,{}]}]]}]]}]}]\\n14:[[\\\"$\\\",\\\"meta\\\",\\\"0\\\",{\\\"charSet\\\":\\\"utf-8\\\"}],[\\\"$\\\",\\\"meta\\\",\\\"1\\\",{\\\"name\\\":\\\"viewport\\\",\\\"content\\\":\\\"width=device-width, initial-scale=1\\\"}]]\\nf:null\\n18:{\\\"metadata\\\":[[\\\"$\\\",\\\"title\\\",\\\"0\\\",{\\\"children\\\":\\\"Django Cheatsheet | Blog | CodeWithHarry\\\"}],[\\\"$\\\",\\\"meta\\\",\\\"1\\\",{\\\"name\\\":\\\"description\\\",\\\"content\\\":\\\"Django cheatsheet for beginners\\\"}],[\\\"$\\\",\\\"meta\\\",\\\"2\\\",{\\\"name\\\":\\\"keywords\\\",\\\"content\\\":\\\"programming, coding, web development, Python, JavaScript, Java, HTML, \"])</script><script>self.__next_f.push([1,\"CSS, tutorials, courses\\\"}],[\\\"$\\\",\\\"meta\\\",\\\"3\\\",{\\\"name\\\":\\\"creator\\\",\\\"content\\\":\\\"Harry\\\"}],[\\\"$\\\",\\\"meta\\\",\\\"4\\\",{\\\"name\\\":\\\"publisher\\\",\\\"content\\\":\\\"CodeWithHarry\\\"}],[\\\"$\\\",\\\"meta\\\",\\\"5\\\",{\\\"name\\\":\\\"robots\\\",\\\"content\\\":\\\"index, follow\\\"}],[\\\"$\\\",\\\"meta\\\",\\\"6\\\",{\\\"property\\\":\\\"og:title\\\",\\\"content\\\":\\\"CodeWithHarry - Learn Programming and Coding\\\"}],[\\\"$\\\",\\\"meta\\\",\\\"7\\\",{\\\"property\\\":\\\"og:description\\\",\\\"content\\\":\\\"Learn programming with easy-to-follow tutorials, courses, and resources. CodeWithHarry offers free content for beginners and advanced developers.\\\"}],[\\\"$\\\",\\\"meta\\\",\\\"8\\\",{\\\"property\\\":\\\"og:url\\\",\\\"content\\\":\\\"https://codewithharry.com\\\"}],[\\\"$\\\",\\\"meta\\\",\\\"9\\\",{\\\"property\\\":\\\"og:site_name\\\",\\\"content\\\":\\\"CodeWithHarry\\\"}],[\\\"$\\\",\\\"meta\\\",\\\"10\\\",{\\\"property\\\":\\\"og:locale\\\",\\\"content\\\":\\\"en_US\\\"}],[\\\"$\\\",\\\"meta\\\",\\\"11\\\",{\\\"property\\\":\\\"og:type\\\",\\\"content\\\":\\\"website\\\"}],[\\\"$\\\",\\\"meta\\\",\\\"12\\\",{\\\"name\\\":\\\"twitter:card\\\",\\\"content\\\":\\\"summary_large_image\\\"}],[\\\"$\\\",\\\"meta\\\",\\\"13\\\",{\\\"name\\\":\\\"twitter:title\\\",\\\"content\\\":\\\"CodeWithHarry - Learn Programming and Coding\\\"}],[\\\"$\\\",\\\"meta\\\",\\\"14\\\",{\\\"name\\\":\\\"twitter:description\\\",\\\"content\\\":\\\"Learn programming with easy-to-follow tutorials, courses, and resources. CodeWithHarry offers free content for beginners and advanced developers.\\\"}],[\\\"$\\\",\\\"link\\\",\\\"15\\\",{\\\"rel\\\":\\\"icon\\\",\\\"href\\\":\\\"/favicon.ico\\\",\\\"type\\\":\\\"image/x-icon\\\",\\\"sizes\\\":\\\"16x16\\\"}]],\\\"error\\\":null,\\\"digest\\\":\\\"$undefined\\\"}\\n19:{\\\"metadata\\\":\\\"$18:metadata\\\",\\\"error\\\":null,\\\"digest\\\":\\\"$undefined\\\"}\\n12:{\\\"metadata\\\":\\\"$18:metadata\\\",\\\"error\\\":null,\\\"digest\\\":\\\"$undefined\\\"}\\n\"])</script><script>self.__next_f.push([1,\"1e:I[17230,[\\\"3278\\\",\\\"static/chunks/3278-338ad7484b961c25.js\\\",\\\"8221\\\",\\\"static/chunks/8221-a015ecb58e05db41.js\\\",\\\"8383\\\",\\\"static/chunks/8383-382de4acfc4979bf.js\\\",\\\"1733\\\",\\\"static/chunks/1733-bc2c13e2a7707f18.js\\\",\\\"6219\\\",\\\"static/chunks/6219-46698a9b3ab7c5ba.js\\\",\\\"6354\\\",\\\"static/chunks/6354-fe9ba8cd35845314.js\\\",\\\"8161\\\",\\\"static/chunks/8161-d6a40d5437eb2766.js\\\",\\\"4521\\\",\\\"static/chunks/4521-71c17e4fa2d6bb7b.js\\\",\\\"7177\\\",\\\"static/chunks/app/layout-1284d67b9dcf301b.js\\\"],\\\"default\\\"]\\n1f:I[62289,[\\\"3278\\\",\\\"static/chunks/3278-338ad7484b961c25.js\\\",\\\"8221\\\",\\\"static/chunks/8221-a015ecb58e05db41.js\\\",\\\"8383\\\",\\\"static/chunks/8383-382de4acfc4979bf.js\\\",\\\"1733\\\",\\\"static/chunks/1733-bc2c13e2a7707f18.js\\\",\\\"6219\\\",\\\"static/chunks/6219-46698a9b3ab7c5ba.js\\\",\\\"6354\\\",\\\"static/chunks/6354-fe9ba8cd35845314.js\\\",\\\"8161\\\",\\\"static/chunks/8161-d6a40d5437eb2766.js\\\",\\\"4521\\\",\\\"static/chunks/4521-71c17e4fa2d6bb7b.js\\\",\\\"7177\\\",\\\"static/chunks/app/layout-1284d67b9dcf301b.js\\\"],\\\"MyNavigationMenu\\\"]\\n6:[\\\"$\\\",\\\"header\\\",null,{\\\"className\\\":\\\"bg-background text-foreground p-2 md:p-4 sticky top-0 z-20 border-b-2\\\",\\\"children\\\":[[\\\"$\\\",\\\"div\\\",null,{\\\"className\\\":\\\"md:mx-4 flex justify-between\\\",\\\"children\\\":[\\\"$\\\",\\\"$L1e\\\",null,{\\\"session\\\":null}]}],[\\\"$\\\",\\\"$L1f\\\",null,{}]]}]\\n\"])</script></body></html>\n"
     ]
    }
   ],
   "source": [
    "# Request and BS module\n",
    "import requests\n",
    "url = \"https://www.codewithharry.com/blogpost/django-cheatsheet\"\n",
    "r = requests.get(url)\n",
    "print(r.text)"
   ]
  },
  {
   "cell_type": "code",
   "execution_count": 52,
   "id": "8ca59c39-4c20-4614-8500-f591bb697b68",
   "metadata": {
    "collapsed": true,
    "jupyter": {
     "outputs_hidden": true
    }
   },
   "outputs": [
    {
     "name": "stdout",
     "output_type": "stream",
     "text": [
      "<!DOCTYPE html>\n",
      "<html lang=\"en\">\n",
      " <head>\n",
      "  <meta charset=\"utf-8\"/>\n",
      "  <meta content=\"width=device-width, initial-scale=1\" name=\"viewport\"/>\n",
      "  <link as=\"image\" imagesizes=\"100vw\" imagesrcset=\"/_next/image?url=%2Fblog-placeholder.jpg&amp;w=640&amp;q=75 640w, /_next/image?url=%2Fblog-placeholder.jpg&amp;w=750&amp;q=75 750w, /_next/image?url=%2Fblog-placeholder.jpg&amp;w=828&amp;q=75 828w, /_next/image?url=%2Fblog-placeholder.jpg&amp;w=1080&amp;q=75 1080w, /_next/image?url=%2Fblog-placeholder.jpg&amp;w=1200&amp;q=75 1200w, /_next/image?url=%2Fblog-placeholder.jpg&amp;w=1920&amp;q=75 1920w, /_next/image?url=%2Fblog-placeholder.jpg&amp;w=2048&amp;q=75 2048w, /_next/image?url=%2Fblog-placeholder.jpg&amp;w=3840&amp;q=75 3840w\" rel=\"preload\"/>\n",
      "  <link data-precedence=\"next\" href=\"/_next/static/css/95561125d4ad1bfc.css\" rel=\"stylesheet\"/>\n",
      "  <link data-precedence=\"next\" href=\"/_next/static/css/53eef233cdc30247.css\" rel=\"stylesheet\"/>\n",
      "  <link as=\"script\" fetchpriority=\"low\" href=\"/_next/static/chunks/webpack-014757a43573e72b.js\" rel=\"preload\"/>\n",
      "  <script async=\"\" src=\"/_next/static/chunks/748859cf-7e015cc18756d920.js\">\n",
      "  </script>\n",
      "  <script async=\"\" src=\"/_next/static/chunks/9702-8dfa3b8dc2c63870.js\">\n",
      "  </script>\n",
      "  <script async=\"\" src=\"/_next/static/chunks/main-app-0eb153cb5279f5e7.js\">\n",
      "  </script>\n",
      "  <script async=\"\" src=\"/_next/static/chunks/3278-338ad7484b961c25.js\">\n",
      "  </script>\n",
      "  <script async=\"\" src=\"/_next/static/chunks/8221-a015ecb58e05db41.js\">\n",
      "  </script>\n",
      "  <script async=\"\" src=\"/_next/static/chunks/8383-382de4acfc4979bf.js\">\n",
      "  </script>\n",
      "  <script async=\"\" src=\"/_next/static/chunks/1733-bc2c13e2a7707f18.js\">\n",
      "  </script>\n",
      "  <script async=\"\" src=\"/_next/static/chunks/6219-46698a9b3ab7c5ba.js\">\n",
      "  </script>\n",
      "  <script async=\"\" src=\"/_next/static/chunks/6354-fe9ba8cd35845314.js\">\n",
      "  </script>\n",
      "  <script async=\"\" src=\"/_next/static/chunks/8161-d6a40d5437eb2766.js\">\n",
      "  </script>\n",
      "  <script async=\"\" src=\"/_next/static/chunks/4521-71c17e4fa2d6bb7b.js\">\n",
      "  </script>\n",
      "  <script async=\"\" src=\"/_next/static/chunks/app/layout-1284d67b9dcf301b.js\">\n",
      "  </script>\n",
      "  <script async=\"\" src=\"/_next/static/chunks/app/blogpost/%5Bslug%5D/page-275958672598fda4.js\">\n",
      "  </script>\n",
      "  <link as=\"script\" href=\"https://www.googletagmanager.com/gtag/js?id=G-TLJ82JF418\" rel=\"preload\"/>\n",
      "  <link as=\"script\" href=\"https://www.googletagmanager.com/gtag/js?id=AW-11344294909\" rel=\"preload\"/>\n",
      "  <meta content=\"\" name=\"next-size-adjust\"/>\n",
      "  <link href=\"/favicon.ico\" rel=\"shortcut icon\" type=\"image/x-icon\"/>\n",
      "  <noscript>\n",
      "   <img alt=\"Facebook Pixel\" height=\"1\" src=\"https://www.facebook.com/tr?id=608037172208445&amp;ev=PageView&amp;noscript=1\" style=\"display:none\" width=\"1\"/>\n",
      "  </noscript>\n",
      "  <title>\n",
      "   Django Cheatsheet | Blog | CodeWithHarry\n",
      "  </title>\n",
      "  <meta content=\"Django cheatsheet for beginners\" name=\"description\"/>\n",
      "  <meta content=\"programming, coding, web development, Python, JavaScript, Java, HTML, CSS, tutorials, courses\" name=\"keywords\"/>\n",
      "  <meta content=\"Harry\" name=\"creator\"/>\n",
      "  <meta content=\"CodeWithHarry\" name=\"publisher\"/>\n",
      "  <meta content=\"index, follow\" name=\"robots\"/>\n",
      "  <meta content=\"CodeWithHarry - Learn Programming and Coding\" property=\"og:title\"/>\n",
      "  <meta content=\"Learn programming with easy-to-follow tutorials, courses, and resources. CodeWithHarry offers free content for beginners and advanced developers.\" property=\"og:description\"/>\n",
      "  <meta content=\"https://codewithharry.com\" property=\"og:url\"/>\n",
      "  <meta content=\"CodeWithHarry\" property=\"og:site_name\"/>\n",
      "  <meta content=\"en_US\" property=\"og:locale\"/>\n",
      "  <meta content=\"website\" property=\"og:type\"/>\n",
      "  <meta content=\"summary_large_image\" name=\"twitter:card\"/>\n",
      "  <meta content=\"CodeWithHarry - Learn Programming and Coding\" name=\"twitter:title\"/>\n",
      "  <meta content=\"Learn programming with easy-to-follow tutorials, courses, and resources. CodeWithHarry offers free content for beginners and advanced developers.\" name=\"twitter:description\"/>\n",
      "  <link href=\"/favicon.ico\" rel=\"icon\" sizes=\"16x16\" type=\"image/x-icon\"/>\n",
      "  <script nomodule=\"\" src=\"/_next/static/chunks/polyfills-42372ed130431b0a.js\">\n",
      "  </script>\n",
      " </head>\n",
      " <body class=\"__variable_1e4310 __variable_c3aa02 __variable_9b9fd1 antialiased\">\n",
      "  <div id=\"_rht_toaster\" style=\"position:fixed;z-index:9999;top:16px;left:16px;right:16px;bottom:16px;pointer-events:none\">\n",
      "  </div>\n",
      "  <script>\n",
      "   ((e,t,r,n,o,a,i,s)=>{let l=document.documentElement,u=[\"light\",\"dark\"];function c(t){var r;(Array.isArray(e)?e:[e]).forEach(e=>{let r=\"class\"===e,n=r&&a?o.map(e=>a[e]||e):o;r?(l.classList.remove(...n),l.classList.add(t)):l.setAttribute(e,t)}),r=t,s&&u.includes(r)&&(l.style.colorScheme=r)}if(n)c(n);else try{let e=localStorage.getItem(t)||r,n=i&&\"system\"===e?window.matchMedia(\"(prefers-color-scheme: dark)\").matches?\"dark\":\"light\":e;c(n)}catch(e){}})(\"class\",\"theme\",\"system\",null,[\"light\",\"dark\"],null,true,true)\n",
      "  </script>\n",
      "  <div class=\"\" style=\"position:fixed;top:0;left:0;height:2px;background:transparent;z-index:99999999999;width:100%\">\n",
      "   <div class=\"\" style=\"height:100%;background:red;transition:all 500ms ease;width:0%\">\n",
      "    <div style=\"box-shadow:0 0 10px red, 0 0 10px red;width:5%;opacity:1;position:absolute;height:100%;transition:all 500ms ease;transform:rotate(2deg) translate(0px, -2px);left:-10rem\">\n",
      "    </div>\n",
      "   </div>\n",
      "  </div>\n",
      "  <header class=\"bg-background text-foreground p-2 md:p-4 sticky top-0 z-20 border-b-2\">\n",
      "   <div class=\"md:mx-4 flex justify-between\">\n",
      "    <div class=\"flex flex-col justify-center\">\n",
      "     <div class=\"flex mb-2 items-center\">\n",
      "      <a class=\"md:text-2xl font-bold flex items-center\" href=\"/\">\n",
      "       <span class=\"flex md:text-xl font-poppins dark:text-white text-gray-800\">\n",
      "        <span class=\"font-semibold\">\n",
      "         &lt;/&gt;\n",
      "        </span>\n",
      "        <span class=\"font-bold\">\n",
      "         CodeWithHarry\n",
      "        </span>\n",
      "       </span>\n",
      "      </a>\n",
      "      <ul class=\"justify-center items-center gap-2 mx-2 hidden xl:flex\">\n",
      "       <li>\n",
      "        <a class=\"hover:bg-slate-100 dark:hover:bg-zinc-900 px-4 py-2 duration-300 rounded-3xl\" href=\"/\">\n",
      "         Home\n",
      "        </a>\n",
      "       </li>\n",
      "       <li>\n",
      "        <a class=\"hover:bg-slate-100 dark:hover:bg-zinc-900 px-4 py-2 duration-300 rounded-3xl\" href=\"/courses\">\n",
      "         Courses\n",
      "        </a>\n",
      "       </li>\n",
      "       <li>\n",
      "        <a class=\"hover:bg-slate-100 dark:hover:bg-zinc-900 px-4 py-2 duration-300 rounded-3xl\" href=\"/tutorials\">\n",
      "         Tutorials\n",
      "        </a>\n",
      "       </li>\n",
      "       <li>\n",
      "        <a class=\"hover:bg-slate-100 dark:hover:bg-zinc-900 px-4 py-2 duration-300 rounded-3xl\" href=\"/blog\">\n",
      "         Blog\n",
      "        </a>\n",
      "       </li>\n",
      "       <li>\n",
      "        <a class=\"hover:bg-slate-100 dark:hover:bg-zinc-900 px-4 py-2 duration-300 rounded-3xl\" href=\"/notes\">\n",
      "         Notes\n",
      "        </a>\n",
      "       </li>\n",
      "       <li>\n",
      "        <a class=\"hover:bg-slate-100 dark:hover:bg-zinc-900 px-4 py-2 duration-300 rounded-3xl\" href=\"/contact\">\n",
      "         Contact\n",
      "        </a>\n",
      "       </li>\n",
      "      </ul>\n",
      "     </div>\n",
      "    </div>\n",
      "    <div class=\"flex md:gap-4 justify-center items-center\">\n",
      "     <div class=\"relative hidden md:flex items-center\">\n",
      "      <input class=\"px-4 pr-10 text-xs py-2 rounded-md bg-zinc-100 dark:bg-zinc-800 w-60 mx-0 outline-none focus:ring-0 focus:border-none\" placeholder=\"Search...\" readonly=\"\" type=\"text\"/>\n",
      "      <span class=\"absolute right-2 px-2 py-1 text-xs text-foreground bg-zinc-100 dark:bg-zinc-950 rounded-md border border-zinc-300 dark:border-zinc-700 flex items-center gap-1\">\n",
      "       <kbd class=\"font-mono text-xs\">\n",
      "        ⌘\n",
      "       </kbd>\n",
      "       <kbd class=\"font-mono text-xs\">\n",
      "        K\n",
      "       </kbd>\n",
      "      </span>\n",
      "     </div>\n",
      "     <button aria-label=\"Search\" class=\"md:hidden px-2 py-1 flex justify-center items-center mx-2 rounded-md hover:bg-zinc-100 dark:hover:bg-zinc-800 transition-colors\">\n",
      "      <svg class=\"lucide lucide-search size-6\" fill=\"none\" height=\"24\" stroke=\"currentColor\" stroke-linecap=\"round\" stroke-linejoin=\"round\" stroke-width=\"2\" viewbox=\"0 0 24 24\" width=\"24\" xmlns=\"http://www.w3.org/2000/svg\">\n",
      "       <circle cx=\"11\" cy=\"11\" r=\"8\">\n",
      "       </circle>\n",
      "       <path d=\"m21 21-4.3-4.3\">\n",
      "       </path>\n",
      "      </svg>\n",
      "     </button>\n",
      "     <div class=\"hidden xl:flex gap-2\">\n",
      "      <a class=\"inline-flex items-center justify-center gap-2 whitespace-nowrap rounded-md text-sm font-medium transition-colors focus-visible:outline-none focus-visible:ring-1 focus-visible:ring-ring disabled:pointer-events-none disabled:opacity-50 [&amp;_svg]:pointer-events-none [&amp;_svg]:size-4 [&amp;_svg]:shrink-0 border border-input bg-background text-foreground shadow-sm hover:bg-accent hover:text-accent-foreground h-9 px-4 py-2\" href=\"/login\">\n",
      "       Login\n",
      "      </a>\n",
      "      <a class=\"inline-flex items-center justify-center gap-2 whitespace-nowrap rounded-md text-sm font-medium transition-colors focus-visible:outline-none focus-visible:ring-1 focus-visible:ring-ring disabled:pointer-events-none disabled:opacity-50 [&amp;_svg]:pointer-events-none [&amp;_svg]:size-4 [&amp;_svg]:shrink-0 border border-input bg-background text-foreground shadow-sm hover:bg-accent hover:text-accent-foreground h-9 px-4 py-2\" href=\"/signup\">\n",
      "       Signup\n",
      "      </a>\n",
      "      <button aria-label=\"Toggle theme\" class=\"inline-flex items-center justify-center gap-2 whitespace-nowrap rounded-md text-sm font-medium transition-colors focus-visible:outline-none focus-visible:ring-1 focus-visible:ring-ring disabled:pointer-events-none disabled:opacity-50 [&amp;_svg]:pointer-events-none [&amp;_svg]:size-4 [&amp;_svg]:shrink-0 border border-input bg-background text-foreground shadow-sm hover:bg-accent hover:text-accent-foreground h-9 w-9\">\n",
      "       <svg class=\"lucide lucide-moon h-5 w-5 transition-transform scale-100 rotate-90 dark:rotate-0 dark:scale-100\" fill=\"none\" height=\"24\" stroke=\"currentColor\" stroke-linecap=\"round\" stroke-linejoin=\"round\" stroke-width=\"2\" viewbox=\"0 0 24 24\" width=\"24\" xmlns=\"http://www.w3.org/2000/svg\">\n",
      "        <path d=\"M12 3a6 6 0 0 0 9 9 9 9 0 1 1-9-9Z\">\n",
      "        </path>\n",
      "       </svg>\n",
      "      </button>\n",
      "     </div>\n",
      "     <div class=\"xl:hidden flex justify-center items-center\">\n",
      "      <button aria-controls=\"radix-:Rd5ltb:\" aria-expanded=\"false\" aria-haspopup=\"dialog\" data-state=\"closed\" type=\"button\">\n",
      "       <svg class=\"lucide lucide-menu size-8\" fill=\"none\" height=\"24\" stroke=\"currentColor\" stroke-linecap=\"round\" stroke-linejoin=\"round\" stroke-width=\"2\" viewbox=\"0 0 24 24\" width=\"24\" xmlns=\"http://www.w3.org/2000/svg\">\n",
      "        <line x1=\"4\" x2=\"20\" y1=\"12\" y2=\"12\">\n",
      "        </line>\n",
      "        <line x1=\"4\" x2=\"20\" y1=\"6\" y2=\"6\">\n",
      "        </line>\n",
      "        <line x1=\"4\" x2=\"20\" y1=\"18\" y2=\"18\">\n",
      "        </line>\n",
      "       </svg>\n",
      "      </button>\n",
      "     </div>\n",
      "    </div>\n",
      "   </div>\n",
      "   <nav aria-label=\"Main\" class=\"flex flex-1 items-center justify-start relative z-50 w-full\" data-orientation=\"horizontal\" dir=\"ltr\">\n",
      "    <div style=\"position:relative\">\n",
      "     <ul class=\"group flex flex-1 list-none items-center justify-start overflow-x-auto space-x-1\" data-orientation=\"horizontal\" dir=\"ltr\">\n",
      "      <li class=\"relative\">\n",
      "       <button aria-controls=\"radix-:R9ltb:-content-radix-:R5pltb:\" aria-expanded=\"false\" class=\"group inline-flex h-9 w-max items-center justify-center rounded-md bg-background px-4 py-2 text-sm font-medium transition-colors hover:text-accent-foreground focus:text-accent-foreground focus:outline-none disabled:pointer-events-none disabled:opacity-50 data-[active]:bg-accent/50 data-[state=open]:bg-accent/50 group hover:bg-accent focus:bg-accent\" data-radix-collection-item=\"\" data-state=\"closed\" id=\"radix-:R9ltb:-trigger-radix-:R5pltb:\">\n",
      "        Start Learning\n",
      "        <!-- -->\n",
      "        <svg aria-hidden=\"true\" class=\"lucide lucide-chevron-down relative top-[1px] ml-1 h-3 w-3 transition duration-300 group-data-[state=open]:rotate-180\" fill=\"none\" height=\"24\" stroke=\"currentColor\" stroke-linecap=\"round\" stroke-linejoin=\"round\" stroke-width=\"2\" viewbox=\"0 0 24 24\" width=\"24\" xmlns=\"http://www.w3.org/2000/svg\">\n",
      "         <path d=\"m6 9 6 6 6-6\">\n",
      "         </path>\n",
      "        </svg>\n",
      "       </button>\n",
      "      </li>\n",
      "      <li class=\"relative\">\n",
      "       <button aria-controls=\"radix-:R9ltb:-content-radix-:R9pltb:\" aria-expanded=\"false\" class=\"group inline-flex h-9 w-max items-center justify-center rounded-md bg-background px-4 py-2 text-sm font-medium transition-colors hover:text-accent-foreground focus:text-accent-foreground focus:outline-none disabled:pointer-events-none disabled:opacity-50 data-[active]:bg-accent/50 data-[state=open]:bg-accent/50 group hover:bg-accent focus:bg-accent\" data-radix-collection-item=\"\" data-state=\"closed\" id=\"radix-:R9ltb:-trigger-radix-:R9pltb:\">\n",
      "        Tutorials\n",
      "        <!-- -->\n",
      "        <svg aria-hidden=\"true\" class=\"lucide lucide-chevron-down relative top-[1px] ml-1 h-3 w-3 transition duration-300 group-data-[state=open]:rotate-180\" fill=\"none\" height=\"24\" stroke=\"currentColor\" stroke-linecap=\"round\" stroke-linejoin=\"round\" stroke-width=\"2\" viewbox=\"0 0 24 24\" width=\"24\" xmlns=\"http://www.w3.org/2000/svg\">\n",
      "         <path d=\"m6 9 6 6 6-6\">\n",
      "         </path>\n",
      "        </svg>\n",
      "       </button>\n",
      "      </li>\n",
      "     </ul>\n",
      "    </div>\n",
      "    <div class=\"absolute left-0 top-full flex justify-start w-full\">\n",
      "    </div>\n",
      "   </nav>\n",
      "  </header>\n",
      "  <section class=\"min-h-screen bg-background text-foreground\">\n",
      "   <div class=\"max-w-4xl mx-auto px-4 sm:px-6 lg:px-8\">\n",
      "    <div class=\"relative h-80 w-full my-6 rounded-lg shadow-lg overflow-hidden\">\n",
      "     <img alt=\"Django Cheatsheet\" class=\"object-cover\" data-nimg=\"fill\" decoding=\"async\" sizes=\"100vw\" src=\"/_next/image?url=%2Fblog-placeholder.jpg&amp;w=3840&amp;q=75\" srcset=\"/_next/image?url=%2Fblog-placeholder.jpg&amp;w=640&amp;q=75 640w, /_next/image?url=%2Fblog-placeholder.jpg&amp;w=750&amp;q=75 750w, /_next/image?url=%2Fblog-placeholder.jpg&amp;w=828&amp;q=75 828w, /_next/image?url=%2Fblog-placeholder.jpg&amp;w=1080&amp;q=75 1080w, /_next/image?url=%2Fblog-placeholder.jpg&amp;w=1200&amp;q=75 1200w, /_next/image?url=%2Fblog-placeholder.jpg&amp;w=1920&amp;q=75 1920w, /_next/image?url=%2Fblog-placeholder.jpg&amp;w=2048&amp;q=75 2048w, /_next/image?url=%2Fblog-placeholder.jpg&amp;w=3840&amp;q=75 3840w\" style=\"position:absolute;height:100%;width:100%;left:0;top:0;right:0;bottom:0;color:transparent\"/>\n",
      "    </div>\n",
      "    <h1 class=\"text-3xl sm:text-4xl font-extrabold mb-4 text-center\">\n",
      "     Django Cheatsheet\n",
      "    </h1>\n",
      "    <p class=\"text-lg mb-2 border-l-4 border-zinc-500 pl-4 italic text-muted-foreground\">\n",
      "     \"\n",
      "     <!-- -->\n",
      "     Django cheatsheet for beginners\n",
      "     <!-- -->\n",
      "     \"\n",
      "    </p>\n",
      "    <div class=\"flex flex-wrap justify-between items-center text-sm text-muted-foreground mb-6\">\n",
      "     <p class=\"italic\">\n",
      "      By CodeWithHarry\n",
      "     </p>\n",
      "     <p>\n",
      "      Updated:\n",
      "      <!-- -->\n",
      "      5 April 2025\n",
      "     </p>\n",
      "    </div>\n",
      "    <article class=\"prose blog-content prose-zinc dark:prose-invert max-w-none\">\n",
      "     <div>\n",
      "      <h2>\n",
      "       What is Django?\n",
      "      </h2>\n",
      "      <p>\n",
      "       Python-based web framework used for rapid development of web applications.\n",
      "      </p>\n",
      "      <h2>\n",
      "       Installing Django + Setup\n",
      "      </h2>\n",
      "      <figure data-rehype-pretty-code-figure=\"\">\n",
      "       <pre data-language=\"python\" data-theme=\"github-dark-dimmed\" style=\"background-color:#22272e;color:#adbac7\" tabindex=\"0\"><code data-language=\"python\" data-theme=\"github-dark-dimmed\" style=\"display: grid;\"><span data-line=\"\"><span style=\"color:#ADBAC7\">pip install django</span></span><button aria-label=\"Copy code\" class=\"rehype-pretty-copy\" data=\"pip install django\" onclick=\"navigator.clipboard.writeText(this.attributes.data.value);this.classList.add('rehype-pretty-copied');window.setTimeout(() =&gt; this.classList.remove('rehype-pretty-copied'), 3000);\" title=\"Copy code\" type=\"button\"><span class=\"ready\"></span><span class=\"success\"></span></button><style>:root {--copy-icon: url(\"data:image/svg+xml,%3Csvg xmlns='http://www.w3.org/2000/svg' viewBox='0 0 48 48'%3E%3Cpath fill='%23adadad' d='M16.187 9.5H12.25a1.75 1.75 0 0 0-1.75 1.75v28.5c0 .967.784 1.75 1.75 1.75h23.5a1.75 1.75 0 0 0 1.75-1.75v-28.5a1.75 1.75 0 0 0-1.75-1.75h-3.937a4.25 4.25 0 0 1-4.063 3h-7.5a4.25 4.25 0 0 1-4.063-3M31.813 7h3.937A4.25 4.25 0 0 1 40 11.25v28.5A4.25 4.25 0 0 1 35.75 44h-23.5A4.25 4.25 0 0 1 8 39.75v-28.5A4.25 4.25 0 0 1 12.25 7h3.937a4.25 4.25 0 0 1 4.063-3h7.5a4.25 4.25 0 0 1 4.063 3M18.5 8.25c0 .966.784 1.75 1.75 1.75h7.5a1.75 1.75 0 1 0 0-3.5h-7.5a1.75 1.75 0 0 0-1.75 1.75'/%3E%3C/svg%3E\");--success-icon: url(\"data:image/svg+xml,%3Csvg xmlns='http://www.w3.org/2000/svg' viewBox='0 0 24 24'%3E%3Cpath fill='%2366ff85' d='M9 16.17L5.53 12.7a.996.996 0 1 0-1.41 1.41l4.18 4.18c.39.39 1.02.39 1.41 0L20.29 7.71a.996.996 0 1 0-1.41-1.41z'/%3E%3C/svg%3E\");}pre:has(code) {position: relative;}pre button.rehype-pretty-copy {right: 1px;padding: 0;width: 24px;height: 24px;display: flex;margin-top: 2px;margin-right: 8px;position: absolute;border-radius: 25%;backdrop-filter: blur(3px);& span {width: 100%;aspect-ratio: 1 / 1;}& .ready {background-image: var(--copy-icon);}& .success {display: none; background-image: var(--success-icon);}}&.rehype-pretty-copied {& .success {display: block;} & .ready {display: none;}}pre button.rehype-pretty-copy.rehype-pretty-copied {opacity: 1;& .ready { display: none; }& .success { display: block; }}</style></code></pre>\n",
      "      </figure>\n",
      "      <h3>\n",
      "       Creating a project\n",
      "      </h3>\n",
      "      <p>\n",
      "       The below command creates a new project named\n",
      "       <code>\n",
      "        projectName\n",
      "       </code>\n",
      "       .\n",
      "      </p>\n",
      "      <figure data-rehype-pretty-code-figure=\"\">\n",
      "       <pre data-language=\"python\" data-theme=\"github-dark-dimmed\" style=\"background-color:#22272e;color:#adbac7\" tabindex=\"0\"><code data-language=\"python\" data-theme=\"github-dark-dimmed\" style=\"display: grid;\"><span data-line=\"\"><span style=\"color:#ADBAC7\">django</span><span style=\"color:#F47067\">-</span><span style=\"color:#ADBAC7\">admin startproject projectName</span></span><button aria-label=\"Copy code\" class=\"rehype-pretty-copy\" data=\"django-admin startproject projectName\" onclick=\"navigator.clipboard.writeText(this.attributes.data.value);this.classList.add('rehype-pretty-copied');window.setTimeout(() =&gt; this.classList.remove('rehype-pretty-copied'), 3000);\" title=\"Copy code\" type=\"button\"><span class=\"ready\"></span><span class=\"success\"></span></button><style>:root {--copy-icon: url(\"data:image/svg+xml,%3Csvg xmlns='http://www.w3.org/2000/svg' viewBox='0 0 48 48'%3E%3Cpath fill='%23adadad' d='M16.187 9.5H12.25a1.75 1.75 0 0 0-1.75 1.75v28.5c0 .967.784 1.75 1.75 1.75h23.5a1.75 1.75 0 0 0 1.75-1.75v-28.5a1.75 1.75 0 0 0-1.75-1.75h-3.937a4.25 4.25 0 0 1-4.063 3h-7.5a4.25 4.25 0 0 1-4.063-3M31.813 7h3.937A4.25 4.25 0 0 1 40 11.25v28.5A4.25 4.25 0 0 1 35.75 44h-23.5A4.25 4.25 0 0 1 8 39.75v-28.5A4.25 4.25 0 0 1 12.25 7h3.937a4.25 4.25 0 0 1 4.063-3h7.5a4.25 4.25 0 0 1 4.063 3M18.5 8.25c0 .966.784 1.75 1.75 1.75h7.5a1.75 1.75 0 1 0 0-3.5h-7.5a1.75 1.75 0 0 0-1.75 1.75'/%3E%3C/svg%3E\");--success-icon: url(\"data:image/svg+xml,%3Csvg xmlns='http://www.w3.org/2000/svg' viewBox='0 0 24 24'%3E%3Cpath fill='%2366ff85' d='M9 16.17L5.53 12.7a.996.996 0 1 0-1.41 1.41l4.18 4.18c.39.39 1.02.39 1.41 0L20.29 7.71a.996.996 0 1 0-1.41-1.41z'/%3E%3C/svg%3E\");}pre:has(code) {position: relative;}pre button.rehype-pretty-copy {right: 1px;padding: 0;width: 24px;height: 24px;display: flex;margin-top: 2px;margin-right: 8px;position: absolute;border-radius: 25%;backdrop-filter: blur(3px);& span {width: 100%;aspect-ratio: 1 / 1;}& .ready {background-image: var(--copy-icon);}& .success {display: none; background-image: var(--success-icon);}}&.rehype-pretty-copied {& .success {display: block;} & .ready {display: none;}}pre button.rehype-pretty-copy.rehype-pretty-copied {opacity: 1;& .ready { display: none; }& .success { display: block; }}</style></code></pre>\n",
      "      </figure>\n",
      "      <h3>\n",
      "       Starting a server\n",
      "      </h3>\n",
      "      <p>\n",
      "       The below command starts the development server.\n",
      "      </p>\n",
      "      <figure data-rehype-pretty-code-figure=\"\">\n",
      "       <pre data-language=\"python\" data-theme=\"github-dark-dimmed\" style=\"background-color:#22272e;color:#adbac7\" tabindex=\"0\"><code data-language=\"python\" data-theme=\"github-dark-dimmed\" style=\"display: grid;\"><span data-line=\"\"><span style=\"color:#ADBAC7\">python manage.py runserver</span></span><button aria-label=\"Copy code\" class=\"rehype-pretty-copy\" data=\"python manage.py runserver\" onclick=\"navigator.clipboard.writeText(this.attributes.data.value);this.classList.add('rehype-pretty-copied');window.setTimeout(() =&gt; this.classList.remove('rehype-pretty-copied'), 3000);\" title=\"Copy code\" type=\"button\"><span class=\"ready\"></span><span class=\"success\"></span></button><style>:root {--copy-icon: url(\"data:image/svg+xml,%3Csvg xmlns='http://www.w3.org/2000/svg' viewBox='0 0 48 48'%3E%3Cpath fill='%23adadad' d='M16.187 9.5H12.25a1.75 1.75 0 0 0-1.75 1.75v28.5c0 .967.784 1.75 1.75 1.75h23.5a1.75 1.75 0 0 0 1.75-1.75v-28.5a1.75 1.75 0 0 0-1.75-1.75h-3.937a4.25 4.25 0 0 1-4.063 3h-7.5a4.25 4.25 0 0 1-4.063-3M31.813 7h3.937A4.25 4.25 0 0 1 40 11.25v28.5A4.25 4.25 0 0 1 35.75 44h-23.5A4.25 4.25 0 0 1 8 39.75v-28.5A4.25 4.25 0 0 1 12.25 7h3.937a4.25 4.25 0 0 1 4.063-3h7.5a4.25 4.25 0 0 1 4.063 3M18.5 8.25c0 .966.784 1.75 1.75 1.75h7.5a1.75 1.75 0 1 0 0-3.5h-7.5a1.75 1.75 0 0 0-1.75 1.75'/%3E%3C/svg%3E\");--success-icon: url(\"data:image/svg+xml,%3Csvg xmlns='http://www.w3.org/2000/svg' viewBox='0 0 24 24'%3E%3Cpath fill='%2366ff85' d='M9 16.17L5.53 12.7a.996.996 0 1 0-1.41 1.41l4.18 4.18c.39.39 1.02.39 1.41 0L20.29 7.71a.996.996 0 1 0-1.41-1.41z'/%3E%3C/svg%3E\");}pre:has(code) {position: relative;}pre button.rehype-pretty-copy {right: 1px;padding: 0;width: 24px;height: 24px;display: flex;margin-top: 2px;margin-right: 8px;position: absolute;border-radius: 25%;backdrop-filter: blur(3px);& span {width: 100%;aspect-ratio: 1 / 1;}& .ready {background-image: var(--copy-icon);}& .success {display: none; background-image: var(--success-icon);}}&.rehype-pretty-copied {& .success {display: block;} & .ready {display: none;}}pre button.rehype-pretty-copy.rehype-pretty-copied {opacity: 1;& .ready { display: none; }& .success { display: block; }}</style></code></pre>\n",
      "      </figure>\n",
      "      <h2>\n",
      "       Django MVT\n",
      "      </h2>\n",
      "      <p>\n",
      "       Django follows MVT (Model, View, Template) architecture.\n",
      "      </p>\n",
      "      <h3>\n",
      "       Sample Django Model\n",
      "      </h3>\n",
      "      <p>\n",
      "       The model represents the schema of the database.\n",
      "      </p>\n",
      "      <figure data-rehype-pretty-code-figure=\"\">\n",
      "       <pre data-language=\"python\" data-theme=\"github-dark-dimmed\" style=\"background-color:#22272e;color:#adbac7\" tabindex=\"0\"><code data-language=\"python\" data-theme=\"github-dark-dimmed\" style=\"display: grid;\"><span data-line=\"\"><span style=\"color:#F47067\">from</span><span style=\"color:#ADBAC7\"> django.db </span><span style=\"color:#F47067\">import</span><span style=\"color:#ADBAC7\"> models</span></span>\n",
      "<span data-line=\"\"> </span>\n",
      "<span data-line=\"\"><span style=\"color:#F47067\">class</span><span style=\"color:#F69D50\"> Product</span><span style=\"color:#ADBAC7\">(</span><span style=\"color:#6CB6FF\">models</span><span style=\"color:#ADBAC7\">.</span><span style=\"color:#6CB6FF\">Model</span><span style=\"color:#ADBAC7\">): </span><span style=\"color:#768390\"># Product is the name of our model</span></span>\n",
      "<span data-line=\"\"><span style=\"color:#ADBAC7\">    product_id </span><span style=\"color:#F47067\">=</span><span style=\"color:#ADBAC7\"> models.AutoField</span></span><button aria-label=\"Copy code\" class=\"rehype-pretty-copy\" data=\"from django.db import models\n",
      "\n",
      "class Product(models.Model): # Product is the name of our model\n",
      "    product_id = models.AutoField\" onclick=\"navigator.clipboard.writeText(this.attributes.data.value);this.classList.add('rehype-pretty-copied');window.setTimeout(() =&gt; this.classList.remove('rehype-pretty-copied'), 3000);\" title=\"Copy code\" type=\"button\"><span class=\"ready\"></span><span class=\"success\"></span></button><style>:root {--copy-icon: url(\"data:image/svg+xml,%3Csvg xmlns='http://www.w3.org/2000/svg' viewBox='0 0 48 48'%3E%3Cpath fill='%23adadad' d='M16.187 9.5H12.25a1.75 1.75 0 0 0-1.75 1.75v28.5c0 .967.784 1.75 1.75 1.75h23.5a1.75 1.75 0 0 0 1.75-1.75v-28.5a1.75 1.75 0 0 0-1.75-1.75h-3.937a4.25 4.25 0 0 1-4.063 3h-7.5a4.25 4.25 0 0 1-4.063-3M31.813 7h3.937A4.25 4.25 0 0 1 40 11.25v28.5A4.25 4.25 0 0 1 35.75 44h-23.5A4.25 4.25 0 0 1 8 39.75v-28.5A4.25 4.25 0 0 1 12.25 7h3.937a4.25 4.25 0 0 1 4.063-3h7.5a4.25 4.25 0 0 1 4.063 3M18.5 8.25c0 .966.784 1.75 1.75 1.75h7.5a1.75 1.75 0 1 0 0-3.5h-7.5a1.75 1.75 0 0 0-1.75 1.75'/%3E%3C/svg%3E\");--success-icon: url(\"data:image/svg+xml,%3Csvg xmlns='http://www.w3.org/2000/svg' viewBox='0 0 24 24'%3E%3Cpath fill='%2366ff85' d='M9 16.17L5.53 12.7a.996.996 0 1 0-1.41 1.41l4.18 4.18c.39.39 1.02.39 1.41 0L20.29 7.71a.996.996 0 1 0-1.41-1.41z'/%3E%3C/svg%3E\");}pre:has(code) {position: relative;}pre button.rehype-pretty-copy {right: 1px;padding: 0;width: 24px;height: 24px;display: flex;margin-top: 2px;margin-right: 8px;position: absolute;border-radius: 25%;backdrop-filter: blur(3px);& span {width: 100%;aspect-ratio: 1 / 1;}& .ready {background-image: var(--copy-icon);}& .success {display: none; background-image: var(--success-icon);}}&.rehype-pretty-copied {& .success {display: block;} & .ready {display: none;}}pre button.rehype-pretty-copy.rehype-pretty-copied {opacity: 1;& .ready { display: none; }& .success { display: block; }}</style></code></pre>\n",
      "      </figure>\n",
      "      <h3>\n",
      "       Sample views.py\n",
      "      </h3>\n",
      "      <p>\n",
      "       View decides what data gets delivered to the template.\n",
      "      </p>\n",
      "      <figure data-rehype-pretty-code-figure=\"\">\n",
      "       <pre data-language=\"python\" data-theme=\"github-dark-dimmed\" style=\"background-color:#22272e;color:#adbac7\" tabindex=\"0\"><code data-language=\"python\" data-theme=\"github-dark-dimmed\" style=\"display: grid;\"><span data-line=\"\"><span style=\"color:#F47067\">from</span><span style=\"color:#ADBAC7\"> django.http </span><span style=\"color:#F47067\">import</span><span style=\"color:#ADBAC7\"> HttpResponse</span></span>\n",
      "<span data-line=\"\"> </span>\n",
      "<span data-line=\"\"><span style=\"color:#F47067\">def</span><span style=\"color:#DCBDFB\"> index</span><span style=\"color:#ADBAC7\">(request):</span></span>\n",
      "<span data-line=\"\"><span style=\"color:#F47067\">    return</span><span style=\"color:#ADBAC7\"> HttpResponse(</span><span style=\"color:#96D0FF\">\"Django CodeWithHarry Cheatsheet\"</span><span style=\"color:#ADBAC7\">)</span></span><button aria-label=\"Copy code\" class=\"rehype-pretty-copy\" data='from django.http import HttpResponse\n",
      "\n",
      "def index(request):\n",
      "    return HttpResponse(\"Django CodeWithHarry Cheatsheet\")' onclick=\"navigator.clipboard.writeText(this.attributes.data.value);this.classList.add('rehype-pretty-copied');window.setTimeout(() =&gt; this.classList.remove('rehype-pretty-copied'), 3000);\" title=\"Copy code\" type=\"button\"><span class=\"ready\"></span><span class=\"success\"></span></button><style>:root {--copy-icon: url(\"data:image/svg+xml,%3Csvg xmlns='http://www.w3.org/2000/svg' viewBox='0 0 48 48'%3E%3Cpath fill='%23adadad' d='M16.187 9.5H12.25a1.75 1.75 0 0 0-1.75 1.75v28.5c0 .967.784 1.75 1.75 1.75h23.5a1.75 1.75 0 0 0 1.75-1.75v-28.5a1.75 1.75 0 0 0-1.75-1.75h-3.937a4.25 4.25 0 0 1-4.063 3h-7.5a4.25 4.25 0 0 1-4.063-3M31.813 7h3.937A4.25 4.25 0 0 1 40 11.25v28.5A4.25 4.25 0 0 1 35.75 44h-23.5A4.25 4.25 0 0 1 8 39.75v-28.5A4.25 4.25 0 0 1 12.25 7h3.937a4.25 4.25 0 0 1 4.063-3h7.5a4.25 4.25 0 0 1 4.063 3M18.5 8.25c0 .966.784 1.75 1.75 1.75h7.5a1.75 1.75 0 1 0 0-3.5h-7.5a1.75 1.75 0 0 0-1.75 1.75'/%3E%3C/svg%3E\");--success-icon: url(\"data:image/svg+xml,%3Csvg xmlns='http://www.w3.org/2000/svg' viewBox='0 0 24 24'%3E%3Cpath fill='%2366ff85' d='M9 16.17L5.53 12.7a.996.996 0 1 0-1.41 1.41l4.18 4.18c.39.39 1.02.39 1.41 0L20.29 7.71a.996.996 0 1 0-1.41-1.41z'/%3E%3C/svg%3E\");}pre:has(code) {position: relative;}pre button.rehype-pretty-copy {right: 1px;padding: 0;width: 24px;height: 24px;display: flex;margin-top: 2px;margin-right: 8px;position: absolute;border-radius: 25%;backdrop-filter: blur(3px);& span {width: 100%;aspect-ratio: 1 / 1;}& .ready {background-image: var(--copy-icon);}& .success {display: none; background-image: var(--success-icon);}}&.rehype-pretty-copied {& .success {display: block;} & .ready {display: none;}}pre button.rehype-pretty-copy.rehype-pretty-copied {opacity: 1;& .ready { display: none; }& .success { display: block; }}</style></code></pre>\n",
      "      </figure>\n",
      "      <h3>\n",
      "       Sample HTML Template\n",
      "      </h3>\n",
      "      <p>\n",
      "       A sample\n",
      "       <code>\n",
      "        .html\n",
      "       </code>\n",
      "       file that contains HTML, CSS, and Javascript.\n",
      "      </p>\n",
      "      <figure data-rehype-pretty-code-figure=\"\">\n",
      "       <pre data-language=\"html\" data-theme=\"github-dark-dimmed\" style=\"background-color:#22272e;color:#adbac7\" tabindex=\"0\"><code data-language=\"html\" data-theme=\"github-dark-dimmed\" style=\"display: grid;\"><span data-line=\"\"><span style=\"color:#ADBAC7\">&lt;!</span><span style=\"color:#8DDB8C\">DOCTYPE</span><span style=\"color:#6CB6FF\"> html</span><span style=\"color:#ADBAC7\">&gt;</span></span>\n",
      "<span data-line=\"\"><span style=\"color:#ADBAC7\">&lt;</span><span style=\"color:#8DDB8C\">html</span><span style=\"color:#6CB6FF\"> lang</span><span style=\"color:#ADBAC7\">=</span><span style=\"color:#96D0FF\">\"en\"</span><span style=\"color:#ADBAC7\">&gt;</span></span>\n",
      "<span data-line=\"\"><span style=\"color:#ADBAC7\">&lt;</span><span style=\"color:#8DDB8C\">head</span><span style=\"color:#ADBAC7\">&gt;</span></span>\n",
      "<span data-line=\"\"><span style=\"color:#ADBAC7\">    &lt;</span><span style=\"color:#8DDB8C\">meta</span><span style=\"color:#6CB6FF\"> charset</span><span style=\"color:#ADBAC7\">=</span><span style=\"color:#96D0FF\">\"UTF-8\"</span><span style=\"color:#ADBAC7\">&gt;</span></span>\n",
      "<span data-line=\"\"><span style=\"color:#ADBAC7\">    &lt;</span><span style=\"color:#8DDB8C\">meta</span><span style=\"color:#6CB6FF\"> name</span><span style=\"color:#ADBAC7\">=</span><span style=\"color:#96D0FF\">\"viewport\"</span><span style=\"color:#6CB6FF\"> content</span><span style=\"color:#ADBAC7\">=</span><span style=\"color:#96D0FF\">\"width=device-width, initial-scale=1.0\"</span><span style=\"color:#ADBAC7\">&gt;</span></span>\n",
      "<span data-line=\"\"><span style=\"color:#ADBAC7\">    &lt;</span><span style=\"color:#8DDB8C\">meta</span><span style=\"color:#6CB6FF\"> http-equiv</span><span style=\"color:#ADBAC7\">=</span><span style=\"color:#96D0FF\">\"X-UA-Compatible\"</span><span style=\"color:#6CB6FF\"> content</span><span style=\"color:#ADBAC7\">=</span><span style=\"color:#96D0FF\">\"ie=edge\"</span><span style=\"color:#ADBAC7\">&gt;</span></span>\n",
      "<span data-line=\"\"><span style=\"color:#ADBAC7\">    &lt;</span><span style=\"color:#8DDB8C\">title</span><span style=\"color:#ADBAC7\">&gt;CodeWithHarry Cheatsheet&lt;/</span><span style=\"color:#8DDB8C\">title</span><span style=\"color:#ADBAC7\">&gt;</span></span>\n",
      "<span data-line=\"\"><span style=\"color:#ADBAC7\">&lt;/</span><span style=\"color:#8DDB8C\">head</span><span style=\"color:#ADBAC7\">&gt;</span></span>\n",
      "<span data-line=\"\"><span style=\"color:#ADBAC7\">&lt;</span><span style=\"color:#8DDB8C\">body</span><span style=\"color:#ADBAC7\">&gt;</span></span>\n",
      "<span data-line=\"\"><span style=\"color:#ADBAC7\">    &lt;</span><span style=\"color:#8DDB8C\">h1</span><span style=\"color:#ADBAC7\">&gt;This is a sample template file.&lt;/</span><span style=\"color:#8DDB8C\">h1</span><span style=\"color:#ADBAC7\">&gt;</span></span>\n",
      "<span data-line=\"\"><span style=\"color:#ADBAC7\">&lt;/</span><span style=\"color:#8DDB8C\">body</span><span style=\"color:#ADBAC7\">&gt;</span></span>\n",
      "<span data-line=\"\"><span style=\"color:#ADBAC7\">&lt;/</span><span style=\"color:#8DDB8C\">html</span><span style=\"color:#ADBAC7\">&gt;</span></span><button aria-label=\"Copy code\" class=\"rehype-pretty-copy\" data='&lt;!DOCTYPE html&gt;\n",
      "&lt;html lang=\"en\"&gt;\n",
      "&lt;head&gt;\n",
      "    &lt;meta charset=\"UTF-8\"&gt;\n",
      "    &lt;meta name=\"viewport\" content=\"width=device-width, initial-scale=1.0\"&gt;\n",
      "    &lt;meta http-equiv=\"X-UA-Compatible\" content=\"ie=edge\"&gt;\n",
      "    &lt;title&gt;CodeWithHarry Cheatsheet&lt;/title&gt;\n",
      "&lt;/head&gt;\n",
      "&lt;body&gt;\n",
      "    &lt;h1&gt;This is a sample template file.&lt;/h1&gt;\n",
      "&lt;/body&gt;\n",
      "&lt;/html&gt;' onclick=\"navigator.clipboard.writeText(this.attributes.data.value);this.classList.add('rehype-pretty-copied');window.setTimeout(() =&gt; this.classList.remove('rehype-pretty-copied'), 3000);\" title=\"Copy code\" type=\"button\"><span class=\"ready\"></span><span class=\"success\"></span></button><style>:root {--copy-icon: url(\"data:image/svg+xml,%3Csvg xmlns='http://www.w3.org/2000/svg' viewBox='0 0 48 48'%3E%3Cpath fill='%23adadad' d='M16.187 9.5H12.25a1.75 1.75 0 0 0-1.75 1.75v28.5c0 .967.784 1.75 1.75 1.75h23.5a1.75 1.75 0 0 0 1.75-1.75v-28.5a1.75 1.75 0 0 0-1.75-1.75h-3.937a4.25 4.25 0 0 1-4.063 3h-7.5a4.25 4.25 0 0 1-4.063-3M31.813 7h3.937A4.25 4.25 0 0 1 40 11.25v28.5A4.25 4.25 0 0 1 35.75 44h-23.5A4.25 4.25 0 0 1 8 39.75v-28.5A4.25 4.25 0 0 1 12.25 7h3.937a4.25 4.25 0 0 1 4.063-3h7.5a4.25 4.25 0 0 1 4.063 3M18.5 8.25c0 .966.784 1.75 1.75 1.75h7.5a1.75 1.75 0 1 0 0-3.5h-7.5a1.75 1.75 0 0 0-1.75 1.75'/%3E%3C/svg%3E\");--success-icon: url(\"data:image/svg+xml,%3Csvg xmlns='http://www.w3.org/2000/svg' viewBox='0 0 24 24'%3E%3Cpath fill='%2366ff85' d='M9 16.17L5.53 12.7a.996.996 0 1 0-1.41 1.41l4.18 4.18c.39.39 1.02.39 1.41 0L20.29 7.71a.996.996 0 1 0-1.41-1.41z'/%3E%3C/svg%3E\");}pre:has(code) {position: relative;}pre button.rehype-pretty-copy {right: 1px;padding: 0;width: 24px;height: 24px;display: flex;margin-top: 2px;margin-right: 8px;position: absolute;border-radius: 25%;backdrop-filter: blur(3px);& span {width: 100%;aspect-ratio: 1 / 1;}& .ready {background-image: var(--copy-icon);}& .success {display: none; background-image: var(--success-icon);}}&.rehype-pretty-copied {& .success {display: block;} & .ready {display: none;}}pre button.rehype-pretty-copy.rehype-pretty-copied {opacity: 1;& .ready { display: none; }& .success { display: block; }}</style></code></pre>\n",
      "      </figure>\n",
      "      <h2>\n",
      "       Views in Django\n",
      "      </h2>\n",
      "      <h3>\n",
      "       Sample Function-Based Views\n",
      "      </h3>\n",
      "      <p>\n",
      "       A Python function that takes a web request and returns a web response.\n",
      "      </p>\n",
      "      <figure data-rehype-pretty-code-figure=\"\">\n",
      "       <pre data-language=\"python\" data-theme=\"github-dark-dimmed\" style=\"background-color:#22272e;color:#adbac7\" tabindex=\"0\"><code data-language=\"python\" data-theme=\"github-dark-dimmed\" style=\"display: grid;\"><span data-line=\"\"><span style=\"color:#F47067\">from</span><span style=\"color:#ADBAC7\"> django.http </span><span style=\"color:#F47067\">import</span><span style=\"color:#ADBAC7\"> HttpResponse</span></span>\n",
      "<span data-line=\"\"> </span>\n",
      "<span data-line=\"\"><span style=\"color:#F47067\">def</span><span style=\"color:#DCBDFB\"> index</span><span style=\"color:#ADBAC7\">(request):</span></span>\n",
      "<span data-line=\"\"><span style=\"color:#F47067\">    return</span><span style=\"color:#ADBAC7\"> HttpResponse(</span><span style=\"color:#96D0FF\">\"This is a function based view.\"</span><span style=\"color:#ADBAC7\">)</span></span><button aria-label=\"Copy code\" class=\"rehype-pretty-copy\" data='from django.http import HttpResponse\n",
      "\n",
      "def index(request):\n",
      "    return HttpResponse(\"This is a function based view.\")' onclick=\"navigator.clipboard.writeText(this.attributes.data.value);this.classList.add('rehype-pretty-copied');window.setTimeout(() =&gt; this.classList.remove('rehype-pretty-copied'), 3000);\" title=\"Copy code\" type=\"button\"><span class=\"ready\"></span><span class=\"success\"></span></button><style>:root {--copy-icon: url(\"data:image/svg+xml,%3Csvg xmlns='http://www.w3.org/2000/svg' viewBox='0 0 48 48'%3E%3Cpath fill='%23adadad' d='M16.187 9.5H12.25a1.75 1.75 0 0 0-1.75 1.75v28.5c0 .967.784 1.75 1.75 1.75h23.5a1.75 1.75 0 0 0 1.75-1.75v-28.5a1.75 1.75 0 0 0-1.75-1.75h-3.937a4.25 4.25 0 0 1-4.063 3h-7.5a4.25 4.25 0 0 1-4.063-3M31.813 7h3.937A4.25 4.25 0 0 1 40 11.25v28.5A4.25 4.25 0 0 1 35.75 44h-23.5A4.25 4.25 0 0 1 8 39.75v-28.5A4.25 4.25 0 0 1 12.25 7h3.937a4.25 4.25 0 0 1 4.063-3h7.5a4.25 4.25 0 0 1 4.063 3M18.5 8.25c0 .966.784 1.75 1.75 1.75h7.5a1.75 1.75 0 1 0 0-3.5h-7.5a1.75 1.75 0 0 0-1.75 1.75'/%3E%3C/svg%3E\");--success-icon: url(\"data:image/svg+xml,%3Csvg xmlns='http://www.w3.org/2000/svg' viewBox='0 0 24 24'%3E%3Cpath fill='%2366ff85' d='M9 16.17L5.53 12.7a.996.996 0 1 0-1.41 1.41l4.18 4.18c.39.39 1.02.39 1.41 0L20.29 7.71a.996.996 0 1 0-1.41-1.41z'/%3E%3C/svg%3E\");}pre:has(code) {position: relative;}pre button.rehype-pretty-copy {right: 1px;padding: 0;width: 24px;height: 24px;display: flex;margin-top: 2px;margin-right: 8px;position: absolute;border-radius: 25%;backdrop-filter: blur(3px);& span {width: 100%;aspect-ratio: 1 / 1;}& .ready {background-image: var(--copy-icon);}& .success {display: none; background-image: var(--success-icon);}}&.rehype-pretty-copied {& .success {display: block;} & .ready {display: none;}}pre button.rehype-pretty-copy.rehype-pretty-copied {opacity: 1;& .ready { display: none; }& .success { display: block; }}</style></code></pre>\n",
      "      </figure>\n",
      "      <h3>\n",
      "       Sample Class-Based Views\n",
      "      </h3>\n",
      "      <p>\n",
      "       Django's class-based views provide an object-oriented way of organizing your view code.\n",
      "      </p>\n",
      "      <figure data-rehype-pretty-code-figure=\"\">\n",
      "       <pre data-language=\"python\" data-theme=\"github-dark-dimmed\" style=\"background-color:#22272e;color:#adbac7\" tabindex=\"0\"><code data-language=\"python\" data-theme=\"github-dark-dimmed\" style=\"display: grid;\"><span data-line=\"\"><span style=\"color:#F47067\">from</span><span style=\"color:#ADBAC7\"> django.views </span><span style=\"color:#F47067\">import</span><span style=\"color:#ADBAC7\"> View</span></span>\n",
      "<span data-line=\"\"> </span>\n",
      "<span data-line=\"\"><span style=\"color:#F47067\">class</span><span style=\"color:#F69D50\"> SimpleClassBasedView</span><span style=\"color:#ADBAC7\">(</span><span style=\"color:#6CB6FF\">View</span><span style=\"color:#ADBAC7\">):</span></span>\n",
      "<span data-line=\"\"><span style=\"color:#F47067\">    def</span><span style=\"color:#DCBDFB\"> get</span><span style=\"color:#ADBAC7\">(self, request):</span></span>\n",
      "<span data-line=\"\"><span style=\"color:#F47067\">        pass</span><span style=\"color:#768390\"> # Code to process a GET request</span></span><button aria-label=\"Copy code\" class=\"rehype-pretty-copy\" data=\"from django.views import View\n",
      "\n",
      "class SimpleClassBasedView(View):\n",
      "    def get(self, request):\n",
      "        pass # Code to process a GET request\" onclick=\"navigator.clipboard.writeText(this.attributes.data.value);this.classList.add('rehype-pretty-copied');window.setTimeout(() =&gt; this.classList.remove('rehype-pretty-copied'), 3000);\" title=\"Copy code\" type=\"button\"><span class=\"ready\"></span><span class=\"success\"></span></button><style>:root {--copy-icon: url(\"data:image/svg+xml,%3Csvg xmlns='http://www.w3.org/2000/svg' viewBox='0 0 48 48'%3E%3Cpath fill='%23adadad' d='M16.187 9.5H12.25a1.75 1.75 0 0 0-1.75 1.75v28.5c0 .967.784 1.75 1.75 1.75h23.5a1.75 1.75 0 0 0 1.75-1.75v-28.5a1.75 1.75 0 0 0-1.75-1.75h-3.937a4.25 4.25 0 0 1-4.063 3h-7.5a4.25 4.25 0 0 1-4.063-3M31.813 7h3.937A4.25 4.25 0 0 1 40 11.25v28.5A4.25 4.25 0 0 1 35.75 44h-23.5A4.25 4.25 0 0 1 8 39.75v-28.5A4.25 4.25 0 0 1 12.25 7h3.937a4.25 4.25 0 0 1 4.063-3h7.5a4.25 4.25 0 0 1 4.063 3M18.5 8.25c0 .966.784 1.75 1.75 1.75h7.5a1.75 1.75 0 1 0 0-3.5h-7.5a1.75 1.75 0 0 0-1.75 1.75'/%3E%3C/svg%3E\");--success-icon: url(\"data:image/svg+xml,%3Csvg xmlns='http://www.w3.org/2000/svg' viewBox='0 0 24 24'%3E%3Cpath fill='%2366ff85' d='M9 16.17L5.53 12.7a.996.996 0 1 0-1.41 1.41l4.18 4.18c.39.39 1.02.39 1.41 0L20.29 7.71a.996.996 0 1 0-1.41-1.41z'/%3E%3C/svg%3E\");}pre:has(code) {position: relative;}pre button.rehype-pretty-copy {right: 1px;padding: 0;width: 24px;height: 24px;display: flex;margin-top: 2px;margin-right: 8px;position: absolute;border-radius: 25%;backdrop-filter: blur(3px);& span {width: 100%;aspect-ratio: 1 / 1;}& .ready {background-image: var(--copy-icon);}& .success {display: none; background-image: var(--success-icon);}}&.rehype-pretty-copied {& .success {display: block;} & .ready {display: none;}}pre button.rehype-pretty-copy.rehype-pretty-copied {opacity: 1;& .ready { display: none; }& .success { display: block; }}</style></code></pre>\n",
      "      </figure>\n",
      "      <h2>\n",
      "       URLs in Django\n",
      "      </h2>\n",
      "      <p>\n",
      "       Set of URL patterns to be matched against the requested URL.\n",
      "      </p>\n",
      "      <h3>\n",
      "       Sample urls.py file1\n",
      "      </h3>\n",
      "      <figure data-rehype-pretty-code-figure=\"\">\n",
      "       <pre data-language=\"python\" data-theme=\"github-dark-dimmed\" style=\"background-color:#22272e;color:#adbac7\" tabindex=\"0\"><code data-language=\"python\" data-theme=\"github-dark-dimmed\" style=\"display: grid;\"><span data-line=\"\"><span style=\"color:#F47067\">from</span><span style=\"color:#ADBAC7\"> django.contrib </span><span style=\"color:#F47067\">import</span><span style=\"color:#ADBAC7\"> admin</span></span>\n",
      "<span data-line=\"\"><span style=\"color:#F47067\">from</span><span style=\"color:#ADBAC7\"> django.urls </span><span style=\"color:#F47067\">import</span><span style=\"color:#ADBAC7\"> path</span></span>\n",
      "<span data-line=\"\"><span style=\"color:#F47067\">from</span><span style=\"color:#ADBAC7\"> . </span><span style=\"color:#F47067\">import</span><span style=\"color:#ADBAC7\"> views</span></span>\n",
      "<span data-line=\"\"> </span>\n",
      "<span data-line=\"\"><span style=\"color:#ADBAC7\">urlPatterns </span><span style=\"color:#F47067\">=</span><span style=\"color:#ADBAC7\"> [</span></span>\n",
      "<span data-line=\"\"><span style=\"color:#ADBAC7\">    path(</span><span style=\"color:#96D0FF\">'admin/'</span><span style=\"color:#ADBAC7\">, admin.site.urls),</span></span>\n",
      "<span data-line=\"\"><span style=\"color:#ADBAC7\">    path(</span><span style=\"color:#96D0FF\">''</span><span style=\"color:#ADBAC7\">, views.index, </span><span style=\"color:#F69D50\">name</span><span style=\"color:#F47067\">=</span><span style=\"color:#96D0FF\">'index'</span><span style=\"color:#ADBAC7\">),</span></span>\n",
      "<span data-line=\"\"><span style=\"color:#ADBAC7\">    path(</span><span style=\"color:#96D0FF\">'about/'</span><span style=\"color:#ADBAC7\">, views.about, </span><span style=\"color:#F69D50\">name</span><span style=\"color:#F47067\">=</span><span style=\"color:#96D0FF\">'about'</span><span style=\"color:#ADBAC7\">),</span></span>\n",
      "<span data-line=\"\"><span style=\"color:#ADBAC7\">]</span></span><button aria-label=\"Copy code\" class=\"rehype-pretty-copy\" data=\"from django.contrib import admin\n",
      "from django.urls import path\n",
      "from . import views\n",
      "\n",
      "urlPatterns = [\n",
      "    path('admin/', admin.site.urls),\n",
      "    path('', views.index, name='index'),\n",
      "    path('about/', views.about, name='about'),\n",
      "]\" onclick=\"navigator.clipboard.writeText(this.attributes.data.value);this.classList.add('rehype-pretty-copied');window.setTimeout(() =&gt; this.classList.remove('rehype-pretty-copied'), 3000);\" title=\"Copy code\" type=\"button\"><span class=\"ready\"></span><span class=\"success\"></span></button><style>:root {--copy-icon: url(\"data:image/svg+xml,%3Csvg xmlns='http://www.w3.org/2000/svg' viewBox='0 0 48 48'%3E%3Cpath fill='%23adadad' d='M16.187 9.5H12.25a1.75 1.75 0 0 0-1.75 1.75v28.5c0 .967.784 1.75 1.75 1.75h23.5a1.75 1.75 0 0 0 1.75-1.75v-28.5a1.75 1.75 0 0 0-1.75-1.75h-3.937a4.25 4.25 0 0 1-4.063 3h-7.5a4.25 4.25 0 0 1-4.063-3M31.813 7h3.937A4.25 4.25 0 0 1 40 11.25v28.5A4.25 4.25 0 0 1 35.75 44h-23.5A4.25 4.25 0 0 1 8 39.75v-28.5A4.25 4.25 0 0 1 12.25 7h3.937a4.25 4.25 0 0 1 4.063-3h7.5a4.25 4.25 0 0 1 4.063 3M18.5 8.25c0 .966.784 1.75 1.75 1.75h7.5a1.75 1.75 0 1 0 0-3.5h-7.5a1.75 1.75 0 0 0-1.75 1.75'/%3E%3C/svg%3E\");--success-icon: url(\"data:image/svg+xml,%3Csvg xmlns='http://www.w3.org/2000/svg' viewBox='0 0 24 24'%3E%3Cpath fill='%2366ff85' d='M9 16.17L5.53 12.7a.996.996 0 1 0-1.41 1.41l4.18 4.18c.39.39 1.02.39 1.41 0L20.29 7.71a.996.996 0 1 0-1.41-1.41z'/%3E%3C/svg%3E\");}pre:has(code) {position: relative;}pre button.rehype-pretty-copy {right: 1px;padding: 0;width: 24px;height: 24px;display: flex;margin-top: 2px;margin-right: 8px;position: absolute;border-radius: 25%;backdrop-filter: blur(3px);& span {width: 100%;aspect-ratio: 1 / 1;}& .ready {background-image: var(--copy-icon);}& .success {display: none; background-image: var(--success-icon);}}&.rehype-pretty-copied {& .success {display: block;} & .ready {display: none;}}pre button.rehype-pretty-copy.rehype-pretty-copied {opacity: 1;& .ready { display: none; }& .success { display: block; }}</style></code></pre>\n",
      "      </figure>\n",
      "      <h3>\n",
      "       Sample urls.py file2\n",
      "      </h3>\n",
      "      <figure data-rehype-pretty-code-figure=\"\">\n",
      "       <pre data-language=\"python\" data-theme=\"github-dark-dimmed\" style=\"background-color:#22272e;color:#adbac7\" tabindex=\"0\"><code data-language=\"python\" data-theme=\"github-dark-dimmed\" style=\"display: grid;\"><span data-line=\"\"><span style=\"color:#F47067\">from</span><span style=\"color:#ADBAC7\"> django.urls </span><span style=\"color:#F47067\">import</span><span style=\"color:#ADBAC7\"> include, path</span></span>\n",
      "<span data-line=\"\"> </span>\n",
      "<span data-line=\"\"><span style=\"color:#ADBAC7\">urlpatterns </span><span style=\"color:#F47067\">=</span><span style=\"color:#ADBAC7\"> [</span></span>\n",
      "<span data-line=\"\"><span style=\"color:#768390\">    # ... snip ...</span></span>\n",
      "<span data-line=\"\"><span style=\"color:#ADBAC7\">    path(</span><span style=\"color:#96D0FF\">'community/'</span><span style=\"color:#ADBAC7\">, include(</span><span style=\"color:#96D0FF\">'aggregator.urls'</span><span style=\"color:#ADBAC7\">)),</span></span>\n",
      "<span data-line=\"\"><span style=\"color:#ADBAC7\">    path(</span><span style=\"color:#96D0FF\">'contact/'</span><span style=\"color:#ADBAC7\">, include(</span><span style=\"color:#96D0FF\">'contact.urls'</span><span style=\"color:#ADBAC7\">)),</span></span>\n",
      "<span data-line=\"\"><span style=\"color:#768390\">    # ... snip ...</span></span>\n",
      "<span data-line=\"\"><span style=\"color:#ADBAC7\">]</span></span><button aria-label=\"Copy code\" class=\"rehype-pretty-copy\" data=\"from django.urls import include, path\n",
      "\n",
      "urlpatterns = [\n",
      "    # ... snip ...\n",
      "    path('community/', include('aggregator.urls')),\n",
      "    path('contact/', include('contact.urls')),\n",
      "    # ... snip ...\n",
      "]\" onclick=\"navigator.clipboard.writeText(this.attributes.data.value);this.classList.add('rehype-pretty-copied');window.setTimeout(() =&gt; this.classList.remove('rehype-pretty-copied'), 3000);\" title=\"Copy code\" type=\"button\"><span class=\"ready\"></span><span class=\"success\"></span></button><style>:root {--copy-icon: url(\"data:image/svg+xml,%3Csvg xmlns='http://www.w3.org/2000/svg' viewBox='0 0 48 48'%3E%3Cpath fill='%23adadad' d='M16.187 9.5H12.25a1.75 1.75 0 0 0-1.75 1.75v28.5c0 .967.784 1.75 1.75 1.75h23.5a1.75 1.75 0 0 0 1.75-1.75v-28.5a1.75 1.75 0 0 0-1.75-1.75h-3.937a4.25 4.25 0 0 1-4.063 3h-7.5a4.25 4.25 0 0 1-4.063-3M31.813 7h3.937A4.25 4.25 0 0 1 40 11.25v28.5A4.25 4.25 0 0 1 35.75 44h-23.5A4.25 4.25 0 0 1 8 39.75v-28.5A4.25 4.25 0 0 1 12.25 7h3.937a4.25 4.25 0 0 1 4.063-3h7.5a4.25 4.25 0 0 1 4.063 3M18.5 8.25c0 .966.784 1.75 1.75 1.75h7.5a1.75 1.75 0 1 0 0-3.5h-7.5a1.75 1.75 0 0 0-1.75 1.75'/%3E%3C/svg%3E\");--success-icon: url(\"data:image/svg+xml,%3Csvg xmlns='http://www.w3.org/2000/svg' viewBox='0 0 24 24'%3E%3Cpath fill='%2366ff85' d='M9 16.17L5.53 12.7a.996.996 0 1 0-1.41 1.41l4.18 4.18c.39.39 1.02.39 1.41 0L20.29 7.71a.996.996 0 1 0-1.41-1.41z'/%3E%3C/svg%3E\");}pre:has(code) {position: relative;}pre button.rehype-pretty-copy {right: 1px;padding: 0;width: 24px;height: 24px;display: flex;margin-top: 2px;margin-right: 8px;position: absolute;border-radius: 25%;backdrop-filter: blur(3px);& span {width: 100%;aspect-ratio: 1 / 1;}& .ready {background-image: var(--copy-icon);}& .success {display: none; background-image: var(--success-icon);}}&.rehype-pretty-copied {& .success {display: block;} & .ready {display: none;}}pre button.rehype-pretty-copy.rehype-pretty-copied {opacity: 1;& .ready { display: none; }& .success { display: block; }}</style></code></pre>\n",
      "      </figure>\n",
      "      <h2>\n",
      "       Forms in Django\n",
      "      </h2>\n",
      "      <p>\n",
      "       Similar to HTML forms but are created by Django using the form field.\n",
      "      </p>\n",
      "      <h3>\n",
      "       Sample Django form\n",
      "      </h3>\n",
      "      <figure data-rehype-pretty-code-figure=\"\">\n",
      "       <pre data-language=\"python\" data-theme=\"github-dark-dimmed\" style=\"background-color:#22272e;color:#adbac7\" tabindex=\"0\"><code data-language=\"python\" data-theme=\"github-dark-dimmed\" style=\"display: grid;\"><span data-line=\"\"><span style=\"color:#F47067\">from</span><span style=\"color:#ADBAC7\"> django </span><span style=\"color:#F47067\">import</span><span style=\"color:#ADBAC7\"> forms</span></span>\n",
      "<span data-line=\"\"> </span>\n",
      "<span data-line=\"\"><span style=\"color:#768390\"># creating a form</span></span>\n",
      "<span data-line=\"\"><span style=\"color:#F47067\">class</span><span style=\"color:#F69D50\"> SampleForm</span><span style=\"color:#ADBAC7\">(</span><span style=\"color:#6CB6FF\">forms</span><span style=\"color:#ADBAC7\">.</span><span style=\"color:#6CB6FF\">Form</span><span style=\"color:#ADBAC7\">):</span></span>\n",
      "<span data-line=\"\"><span style=\"color:#ADBAC7\">    name </span><span style=\"color:#F47067\">=</span><span style=\"color:#ADBAC7\"> forms.CharField()</span></span>\n",
      "<span data-line=\"\"><span style=\"color:#ADBAC7\">    description </span><span style=\"color:#F47067\">=</span><span style=\"color:#ADBAC7\"> forms.CharField()</span></span><button aria-label=\"Copy code\" class=\"rehype-pretty-copy\" data=\"from django import forms\n",
      "\n",
      "# creating a form\n",
      "class SampleForm(forms.Form):\n",
      "    name = forms.CharField()\n",
      "    description = forms.CharField()\" onclick=\"navigator.clipboard.writeText(this.attributes.data.value);this.classList.add('rehype-pretty-copied');window.setTimeout(() =&gt; this.classList.remove('rehype-pretty-copied'), 3000);\" title=\"Copy code\" type=\"button\"><span class=\"ready\"></span><span class=\"success\"></span></button><style>:root {--copy-icon: url(\"data:image/svg+xml,%3Csvg xmlns='http://www.w3.org/2000/svg' viewBox='0 0 48 48'%3E%3Cpath fill='%23adadad' d='M16.187 9.5H12.25a1.75 1.75 0 0 0-1.75 1.75v28.5c0 .967.784 1.75 1.75 1.75h23.5a1.75 1.75 0 0 0 1.75-1.75v-28.5a1.75 1.75 0 0 0-1.75-1.75h-3.937a4.25 4.25 0 0 1-4.063 3h-7.5a4.25 4.25 0 0 1-4.063-3M31.813 7h3.937A4.25 4.25 0 0 1 40 11.25v28.5A4.25 4.25 0 0 1 35.75 44h-23.5A4.25 4.25 0 0 1 8 39.75v-28.5A4.25 4.25 0 0 1 12.25 7h3.937a4.25 4.25 0 0 1 4.063-3h7.5a4.25 4.25 0 0 1 4.063 3M18.5 8.25c0 .966.784 1.75 1.75 1.75h7.5a1.75 1.75 0 1 0 0-3.5h-7.5a1.75 1.75 0 0 0-1.75 1.75'/%3E%3C/svg%3E\");--success-icon: url(\"data:image/svg+xml,%3Csvg xmlns='http://www.w3.org/2000/svg' viewBox='0 0 24 24'%3E%3Cpath fill='%2366ff85' d='M9 16.17L5.53 12.7a.996.996 0 1 0-1.41 1.41l4.18 4.18c.39.39 1.02.39 1.41 0L20.29 7.71a.996.996 0 1 0-1.41-1.41z'/%3E%3C/svg%3E\");}pre:has(code) {position: relative;}pre button.rehype-pretty-copy {right: 1px;padding: 0;width: 24px;height: 24px;display: flex;margin-top: 2px;margin-right: 8px;position: absolute;border-radius: 25%;backdrop-filter: blur(3px);& span {width: 100%;aspect-ratio: 1 / 1;}& .ready {background-image: var(--copy-icon);}& .success {display: none; background-image: var(--success-icon);}}&.rehype-pretty-copied {& .success {display: block;} & .ready {display: none;}}pre button.rehype-pretty-copy.rehype-pretty-copied {opacity: 1;& .ready { display: none; }& .success { display: block; }}</style></code></pre>\n",
      "      </figure>\n",
      "      <h2>\n",
      "       Apps in Django\n",
      "      </h2>\n",
      "      <p>\n",
      "       Apps in Django are like independent modules for different functionalities.\n",
      "      </p>\n",
      "      <h3>\n",
      "       Creating an app\n",
      "      </h3>\n",
      "      <figure data-rehype-pretty-code-figure=\"\">\n",
      "       <pre data-language=\"python\" data-theme=\"github-dark-dimmed\" style=\"background-color:#22272e;color:#adbac7\" tabindex=\"0\"><code data-language=\"python\" data-theme=\"github-dark-dimmed\" style=\"display: grid;\"><span data-line=\"\"><span style=\"color:#ADBAC7\">python manage.py startapp AppName</span></span><button aria-label=\"Copy code\" class=\"rehype-pretty-copy\" data=\"python manage.py startapp AppName\" onclick=\"navigator.clipboard.writeText(this.attributes.data.value);this.classList.add('rehype-pretty-copied');window.setTimeout(() =&gt; this.classList.remove('rehype-pretty-copied'), 3000);\" title=\"Copy code\" type=\"button\"><span class=\"ready\"></span><span class=\"success\"></span></button><style>:root {--copy-icon: url(\"data:image/svg+xml,%3Csvg xmlns='http://www.w3.org/2000/svg' viewBox='0 0 48 48'%3E%3Cpath fill='%23adadad' d='M16.187 9.5H12.25a1.75 1.75 0 0 0-1.75 1.75v28.5c0 .967.784 1.75 1.75 1.75h23.5a1.75 1.75 0 0 0 1.75-1.75v-28.5a1.75 1.75 0 0 0-1.75-1.75h-3.937a4.25 4.25 0 0 1-4.063 3h-7.5a4.25 4.25 0 0 1-4.063-3M31.813 7h3.937A4.25 4.25 0 0 1 40 11.25v28.5A4.25 4.25 0 0 1 35.75 44h-23.5A4.25 4.25 0 0 1 8 39.75v-28.5A4.25 4.25 0 0 1 12.25 7h3.937a4.25 4.25 0 0 1 4.063-3h7.5a4.25 4.25 0 0 1 4.063 3M18.5 8.25c0 .966.784 1.75 1.75 1.75h7.5a1.75 1.75 0 1 0 0-3.5h-7.5a1.75 1.75 0 0 0-1.75 1.75'/%3E%3C/svg%3E\");--success-icon: url(\"data:image/svg+xml,%3Csvg xmlns='http://www.w3.org/2000/svg' viewBox='0 0 24 24'%3E%3Cpath fill='%2366ff85' d='M9 16.17L5.53 12.7a.996.996 0 1 0-1.41 1.41l4.18 4.18c.39.39 1.02.39 1.41 0L20.29 7.71a.996.996 0 1 0-1.41-1.41z'/%3E%3C/svg%3E\");}pre:has(code) {position: relative;}pre button.rehype-pretty-copy {right: 1px;padding: 0;width: 24px;height: 24px;display: flex;margin-top: 2px;margin-right: 8px;position: absolute;border-radius: 25%;backdrop-filter: blur(3px);& span {width: 100%;aspect-ratio: 1 / 1;}& .ready {background-image: var(--copy-icon);}& .success {display: none; background-image: var(--success-icon);}}&.rehype-pretty-copied {& .success {display: block;} & .ready {display: none;}}pre button.rehype-pretty-copy.rehype-pretty-copied {opacity: 1;& .ready { display: none; }& .success { display: block; }}</style></code></pre>\n",
      "      </figure>\n",
      "      <h3>\n",
      "       Listing app in the settings.py\n",
      "      </h3>\n",
      "      <p>\n",
      "       After creating an app, we need to list the app name in\n",
      "       <code>\n",
      "        INSTALLED_APPS\n",
      "       </code>\n",
      "       .\n",
      "      </p>\n",
      "      <figure data-rehype-pretty-code-figure=\"\">\n",
      "       <pre data-language=\"python\" data-theme=\"github-dark-dimmed\" style=\"background-color:#22272e;color:#adbac7\" tabindex=\"0\"><code data-language=\"python\" data-theme=\"github-dark-dimmed\" style=\"display: grid;\"><span data-line=\"\"><span style=\"color:#6CB6FF\">INSTALLED_APPS</span><span style=\"color:#F47067\"> =</span><span style=\"color:#ADBAC7\"> [</span></span>\n",
      "<span data-line=\"\"><span style=\"color:#96D0FF\">    'django.contrib.admin'</span><span style=\"color:#ADBAC7\">,</span></span>\n",
      "<span data-line=\"\"><span style=\"color:#96D0FF\">    'django.contrib.auth'</span><span style=\"color:#ADBAC7\">,</span></span>\n",
      "<span data-line=\"\"><span style=\"color:#96D0FF\">    'django.contrib.contenttypes'</span><span style=\"color:#ADBAC7\">,</span></span>\n",
      "<span data-line=\"\"><span style=\"color:#96D0FF\">    'django.contrib.sessions'</span><span style=\"color:#ADBAC7\">,</span></span>\n",
      "<span data-line=\"\"><span style=\"color:#96D0FF\">    'django.contrib.messages'</span><span style=\"color:#ADBAC7\">,</span></span>\n",
      "<span data-line=\"\"><span style=\"color:#96D0FF\">    'django.contrib.staticfiles'</span><span style=\"color:#ADBAC7\">,</span></span>\n",
      "<span data-line=\"\"><span style=\"color:#96D0FF\">    'AppName'</span></span>\n",
      "<span data-line=\"\"><span style=\"color:#ADBAC7\">]</span></span><button aria-label=\"Copy code\" class=\"rehype-pretty-copy\" data=\"INSTALLED_APPS = [\n",
      "    'django.contrib.admin',\n",
      "    'django.contrib.auth',\n",
      "    'django.contrib.contenttypes',\n",
      "    'django.contrib.sessions',\n",
      "    'django.contrib.messages',\n",
      "    'django.contrib.staticfiles',\n",
      "    'AppName'\n",
      "]\" onclick=\"navigator.clipboard.writeText(this.attributes.data.value);this.classList.add('rehype-pretty-copied');window.setTimeout(() =&gt; this.classList.remove('rehype-pretty-copied'), 3000);\" title=\"Copy code\" type=\"button\"><span class=\"ready\"></span><span class=\"success\"></span></button><style>:root {--copy-icon: url(\"data:image/svg+xml,%3Csvg xmlns='http://www.w3.org/2000/svg' viewBox='0 0 48 48'%3E%3Cpath fill='%23adadad' d='M16.187 9.5H12.25a1.75 1.75 0 0 0-1.75 1.75v28.5c0 .967.784 1.75 1.75 1.75h23.5a1.75 1.75 0 0 0 1.75-1.75v-28.5a1.75 1.75 0 0 0-1.75-1.75h-3.937a4.25 4.25 0 0 1-4.063 3h-7.5a4.25 4.25 0 0 1-4.063-3M31.813 7h3.937A4.25 4.25 0 0 1 40 11.25v28.5A4.25 4.25 0 0 1 35.75 44h-23.5A4.25 4.25 0 0 1 8 39.75v-28.5A4.25 4.25 0 0 1 12.25 7h3.937a4.25 4.25 0 0 1 4.063-3h7.5a4.25 4.25 0 0 1 4.063 3M18.5 8.25c0 .966.784 1.75 1.75 1.75h7.5a1.75 1.75 0 1 0 0-3.5h-7.5a1.75 1.75 0 0 0-1.75 1.75'/%3E%3C/svg%3E\");--success-icon: url(\"data:image/svg+xml,%3Csvg xmlns='http://www.w3.org/2000/svg' viewBox='0 0 24 24'%3E%3Cpath fill='%2366ff85' d='M9 16.17L5.53 12.7a.996.996 0 1 0-1.41 1.41l4.18 4.18c.39.39 1.02.39 1.41 0L20.29 7.71a.996.996 0 1 0-1.41-1.41z'/%3E%3C/svg%3E\");}pre:has(code) {position: relative;}pre button.rehype-pretty-copy {right: 1px;padding: 0;width: 24px;height: 24px;display: flex;margin-top: 2px;margin-right: 8px;position: absolute;border-radius: 25%;backdrop-filter: blur(3px);& span {width: 100%;aspect-ratio: 1 / 1;}& .ready {background-image: var(--copy-icon);}& .success {display: none; background-image: var(--success-icon);}}&.rehype-pretty-copied {& .success {display: block;} & .ready {display: none;}}pre button.rehype-pretty-copy.rehype-pretty-copied {opacity: 1;& .ready { display: none; }& .success { display: block; }}</style></code></pre>\n",
      "      </figure>\n",
      "      <h2>\n",
      "       Templates in Django\n",
      "      </h2>\n",
      "      <p>\n",
      "       Used to handle dynamic HTML files separately.\n",
      "      </p>\n",
      "      <h3>\n",
      "       Configuring templates in settings.py\n",
      "      </h3>\n",
      "      <figure data-rehype-pretty-code-figure=\"\">\n",
      "       <pre data-language=\"python\" data-theme=\"github-dark-dimmed\" style=\"background-color:#22272e;color:#adbac7\" tabindex=\"0\"><code data-language=\"python\" data-theme=\"github-dark-dimmed\" style=\"display: grid;\"><span data-line=\"\"><span style=\"color:#6CB6FF\">TEMPLATES</span><span style=\"color:#F47067\"> =</span><span style=\"color:#ADBAC7\"> [</span></span>\n",
      "<span data-line=\"\"><span style=\"color:#ADBAC7\">    {</span></span>\n",
      "<span data-line=\"\"><span style=\"color:#96D0FF\">        'BACKEND'</span><span style=\"color:#ADBAC7\">: </span><span style=\"color:#96D0FF\">'django.template.backends.django.DjangoTemplates'</span><span style=\"color:#ADBAC7\">,</span></span>\n",
      "<span data-line=\"\"><span style=\"color:#96D0FF\">        'DIRS'</span><span style=\"color:#ADBAC7\">: [</span><span style=\"color:#96D0FF\">\"templates\"</span><span style=\"color:#ADBAC7\">],</span></span>\n",
      "<span data-line=\"\"><span style=\"color:#96D0FF\">        'APP_DIRS'</span><span style=\"color:#ADBAC7\">: </span><span style=\"color:#6CB6FF\">True</span><span style=\"color:#ADBAC7\">,</span></span>\n",
      "<span data-line=\"\"><span style=\"color:#96D0FF\">        'OPTIONS'</span><span style=\"color:#ADBAC7\">: {</span></span>\n",
      "<span data-line=\"\"><span style=\"color:#768390\">            # some options here</span></span>\n",
      "<span data-line=\"\"><span style=\"color:#ADBAC7\">        },</span></span>\n",
      "<span data-line=\"\"><span style=\"color:#ADBAC7\">    },</span></span>\n",
      "<span data-line=\"\"><span style=\"color:#ADBAC7\">]</span></span><button aria-label=\"Copy code\" class=\"rehype-pretty-copy\" data=\"TEMPLATES = [\n",
      "    {\n",
      "        'BACKEND': 'django.template.backends.django.DjangoTemplates',\n",
      "        'DIRS': [&quot;templates&quot;],\n",
      "        'APP_DIRS': True,\n",
      "        'OPTIONS': {\n",
      "            # some options here\n",
      "        },\n",
      "    },\n",
      "]\" onclick=\"navigator.clipboard.writeText(this.attributes.data.value);this.classList.add('rehype-pretty-copied');window.setTimeout(() =&gt; this.classList.remove('rehype-pretty-copied'), 3000);\" title=\"Copy code\" type=\"button\"><span class=\"ready\"></span><span class=\"success\"></span></button><style>:root {--copy-icon: url(\"data:image/svg+xml,%3Csvg xmlns='http://www.w3.org/2000/svg' viewBox='0 0 48 48'%3E%3Cpath fill='%23adadad' d='M16.187 9.5H12.25a1.75 1.75 0 0 0-1.75 1.75v28.5c0 .967.784 1.75 1.75 1.75h23.5a1.75 1.75 0 0 0 1.75-1.75v-28.5a1.75 1.75 0 0 0-1.75-1.75h-3.937a4.25 4.25 0 0 1-4.063 3h-7.5a4.25 4.25 0 0 1-4.063-3M31.813 7h3.937A4.25 4.25 0 0 1 40 11.25v28.5A4.25 4.25 0 0 1 35.75 44h-23.5A4.25 4.25 0 0 1 8 39.75v-28.5A4.25 4.25 0 0 1 12.25 7h3.937a4.25 4.25 0 0 1 4.063-3h7.5a4.25 4.25 0 0 1 4.063 3M18.5 8.25c0 .966.784 1.75 1.75 1.75h7.5a1.75 1.75 0 1 0 0-3.5h-7.5a1.75 1.75 0 0 0-1.75 1.75'/%3E%3C/svg%3E\");--success-icon: url(\"data:image/svg+xml,%3Csvg xmlns='http://www.w3.org/2000/svg' viewBox='0 0 24 24'%3E%3Cpath fill='%2366ff85' d='M9 16.17L5.53 12.7a.996.996 0 1 0-1.41 1.41l4.18 4.18c.39.39 1.02.39 1.41 0L20.29 7.71a.996.996 0 1 0-1.41-1.41z'/%3E%3C/svg%3E\");}pre:has(code) {position: relative;}pre button.rehype-pretty-copy {right: 1px;padding: 0;width: 24px;height: 24px;display: flex;margin-top: 2px;margin-right: 8px;position: absolute;border-radius: 25%;backdrop-filter: blur(3px);& span {width: 100%;aspect-ratio: 1 / 1;}& .ready {background-image: var(--copy-icon);}& .success {display: none; background-image: var(--success-icon);}}&.rehype-pretty-copied {& .success {display: block;} & .ready {display: none;}}pre button.rehype-pretty-copy.rehype-pretty-copied {opacity: 1;& .ready { display: none; }& .success { display: block; }}</style></code></pre>\n",
      "      </figure>\n",
      "      <h3>\n",
      "       Changing the views.py file\n",
      "      </h3>\n",
      "      <p>\n",
      "       A view is associated with every URL. This view is responsible for displaying the content from the template.\n",
      "      </p>\n",
      "      <figure data-rehype-pretty-code-figure=\"\">\n",
      "       <pre data-language=\"python\" data-theme=\"github-dark-dimmed\" style=\"background-color:#22272e;color:#adbac7\" tabindex=\"0\"><code data-language=\"python\" data-theme=\"github-dark-dimmed\" style=\"display: grid;\"><span data-line=\"\"><span style=\"color:#F47067\">def</span><span style=\"color:#DCBDFB\"> index</span><span style=\"color:#ADBAC7\">(request):</span></span>\n",
      "<span data-line=\"\"><span style=\"color:#F47067\">    return</span><span style=\"color:#ADBAC7\"> render(request, </span><span style=\"color:#96D0FF\">'index.html'</span><span style=\"color:#ADBAC7\">) </span><span style=\"color:#768390\"># render is used to return the template</span></span><button aria-label=\"Copy code\" class=\"rehype-pretty-copy\" data=\"def index(request):\n",
      "    return render(request, 'index.html') # render is used to return the template\" onclick=\"navigator.clipboard.writeText(this.attributes.data.value);this.classList.add('rehype-pretty-copied');window.setTimeout(() =&gt; this.classList.remove('rehype-pretty-copied'), 3000);\" title=\"Copy code\" type=\"button\"><span class=\"ready\"></span><span class=\"success\"></span></button><style>:root {--copy-icon: url(\"data:image/svg+xml,%3Csvg xmlns='http://www.w3.org/2000/svg' viewBox='0 0 48 48'%3E%3Cpath fill='%23adadad' d='M16.187 9.5H12.25a1.75 1.75 0 0 0-1.75 1.75v28.5c0 .967.784 1.75 1.75 1.75h23.5a1.75 1.75 0 0 0 1.75-1.75v-28.5a1.75 1.75 0 0 0-1.75-1.75h-3.937a4.25 4.25 0 0 1-4.063 3h-7.5a4.25 4.25 0 0 1-4.063-3M31.813 7h3.937A4.25 4.25 0 0 1 40 11.25v28.5A4.25 4.25 0 0 1 35.75 44h-23.5A4.25 4.25 0 0 1 8 39.75v-28.5A4.25 4.25 0 0 1 12.25 7h3.937a4.25 4.25 0 0 1 4.063-3h7.5a4.25 4.25 0 0 1 4.063 3M18.5 8.25c0 .966.784 1.75 1.75 1.75h7.5a1.75 1.75 0 1 0 0-3.5h-7.5a1.75 1.75 0 0 0-1.75 1.75'/%3E%3C/svg%3E\");--success-icon: url(\"data:image/svg+xml,%3Csvg xmlns='http://www.w3.org/2000/svg' viewBox='0 0 24 24'%3E%3Cpath fill='%2366ff85' d='M9 16.17L5.53 12.7a.996.996 0 1 0-1.41 1.41l4.18 4.18c.39.39 1.02.39 1.41 0L20.29 7.71a.996.996 0 1 0-1.41-1.41z'/%3E%3C/svg%3E\");}pre:has(code) {position: relative;}pre button.rehype-pretty-copy {right: 1px;padding: 0;width: 24px;height: 24px;display: flex;margin-top: 2px;margin-right: 8px;position: absolute;border-radius: 25%;backdrop-filter: blur(3px);& span {width: 100%;aspect-ratio: 1 / 1;}& .ready {background-image: var(--copy-icon);}& .success {display: none; background-image: var(--success-icon);}}&.rehype-pretty-copied {& .success {display: block;} & .ready {display: none;}}pre button.rehype-pretty-copy.rehype-pretty-copied {opacity: 1;& .ready { display: none; }& .success { display: block; }}</style></code></pre>\n",
      "      </figure>\n",
      "      <h3>\n",
      "       Sample template file\n",
      "      </h3>\n",
      "      <figure data-rehype-pretty-code-figure=\"\">\n",
      "       <pre data-language=\"html\" data-theme=\"github-dark-dimmed\" style=\"background-color:#22272e;color:#adbac7\" tabindex=\"0\"><code data-language=\"html\" data-theme=\"github-dark-dimmed\" style=\"display: grid;\"><span data-line=\"\"><span style=\"color:#ADBAC7\">&lt;!</span><span style=\"color:#8DDB8C\">DOCTYPE</span><span style=\"color:#6CB6FF\"> html</span><span style=\"color:#ADBAC7\">&gt;</span></span>\n",
      "<span data-line=\"\"><span style=\"color:#ADBAC7\">&lt;</span><span style=\"color:#8DDB8C\">html</span><span style=\"color:#6CB6FF\"> lang</span><span style=\"color:#ADBAC7\">=</span><span style=\"color:#96D0FF\">\"en\"</span><span style=\"color:#ADBAC7\">&gt;</span></span>\n",
      "<span data-line=\"\"><span style=\"color:#ADBAC7\">&lt;</span><span style=\"color:#8DDB8C\">head</span><span style=\"color:#ADBAC7\">&gt;</span></span>\n",
      "<span data-line=\"\"><span style=\"color:#ADBAC7\">    &lt;</span><span style=\"color:#8DDB8C\">meta</span><span style=\"color:#6CB6FF\"> charset</span><span style=\"color:#ADBAC7\">=</span><span style=\"color:#96D0FF\">\"UTF-8\"</span><span style=\"color:#ADBAC7\">&gt;</span></span>\n",
      "<span data-line=\"\"><span style=\"color:#ADBAC7\">    &lt;</span><span style=\"color:#8DDB8C\">title</span><span style=\"color:#ADBAC7\">&gt;Template is working&lt;/</span><span style=\"color:#8DDB8C\">title</span><span style=\"color:#ADBAC7\">&gt;</span></span>\n",
      "<span data-line=\"\"><span style=\"color:#ADBAC7\">&lt;/</span><span style=\"color:#8DDB8C\">head</span><span style=\"color:#ADBAC7\">&gt;</span></span>\n",
      "<span data-line=\"\"><span style=\"color:#ADBAC7\">&lt;</span><span style=\"color:#8DDB8C\">body</span><span style=\"color:#ADBAC7\">&gt;</span></span>\n",
      "<span data-line=\"\"><span style=\"color:#ADBAC7\">    &lt;</span><span style=\"color:#8DDB8C\">h1</span><span style=\"color:#ADBAC7\">&gt;This is a sample django template.&lt;/</span><span style=\"color:#8DDB8C\">h1</span><span style=\"color:#ADBAC7\">&gt;</span></span>\n",
      "<span data-line=\"\"><span style=\"color:#ADBAC7\">&lt;/</span><span style=\"color:#8DDB8C\">body</span><span style=\"color:#ADBAC7\">&gt;</span></span>\n",
      "<span data-line=\"\"><span style=\"color:#ADBAC7\">&lt;/</span><span style=\"color:#8DDB8C\">html</span><span style=\"color:#ADBAC7\">&gt;</span></span><button aria-label=\"Copy code\" class=\"rehype-pretty-copy\" data='&lt;!DOCTYPE html&gt;\n",
      "&lt;html lang=\"en\"&gt;\n",
      "&lt;head&gt;\n",
      "    &lt;meta charset=\"UTF-8\"&gt;\n",
      "    &lt;title&gt;Template is working&lt;/title&gt;\n",
      "&lt;/head&gt;\n",
      "&lt;body&gt;\n",
      "    &lt;h1&gt;This is a sample django template.&lt;/h1&gt;\n",
      "&lt;/body&gt;\n",
      "&lt;/html&gt;' onclick=\"navigator.clipboard.writeText(this.attributes.data.value);this.classList.add('rehype-pretty-copied');window.setTimeout(() =&gt; this.classList.remove('rehype-pretty-copied'), 3000);\" title=\"Copy code\" type=\"button\"><span class=\"ready\"></span><span class=\"success\"></span></button><style>:root {--copy-icon: url(\"data:image/svg+xml,%3Csvg xmlns='http://www.w3.org/2000/svg' viewBox='0 0 48 48'%3E%3Cpath fill='%23adadad' d='M16.187 9.5H12.25a1.75 1.75 0 0 0-1.75 1.75v28.5c0 .967.784 1.75 1.75 1.75h23.5a1.75 1.75 0 0 0 1.75-1.75v-28.5a1.75 1.75 0 0 0-1.75-1.75h-3.937a4.25 4.25 0 0 1-4.063 3h-7.5a4.25 4.25 0 0 1-4.063-3M31.813 7h3.937A4.25 4.25 0 0 1 40 11.25v28.5A4.25 4.25 0 0 1 35.75 44h-23.5A4.25 4.25 0 0 1 8 39.75v-28.5A4.25 4.25 0 0 1 12.25 7h3.937a4.25 4.25 0 0 1 4.063-3h7.5a4.25 4.25 0 0 1 4.063 3M18.5 8.25c0 .966.784 1.75 1.75 1.75h7.5a1.75 1.75 0 1 0 0-3.5h-7.5a1.75 1.75 0 0 0-1.75 1.75'/%3E%3C/svg%3E\");--success-icon: url(\"data:image/svg+xml,%3Csvg xmlns='http://www.w3.org/2000/svg' viewBox='0 0 24 24'%3E%3Cpath fill='%2366ff85' d='M9 16.17L5.53 12.7a.996.996 0 1 0-1.41 1.41l4.18 4.18c.39.39 1.02.39 1.41 0L20.29 7.71a.996.996 0 1 0-1.41-1.41z'/%3E%3C/svg%3E\");}pre:has(code) {position: relative;}pre button.rehype-pretty-copy {right: 1px;padding: 0;width: 24px;height: 24px;display: flex;margin-top: 2px;margin-right: 8px;position: absolute;border-radius: 25%;backdrop-filter: blur(3px);& span {width: 100%;aspect-ratio: 1 / 1;}& .ready {background-image: var(--copy-icon);}& .success {display: none; background-image: var(--success-icon);}}&.rehype-pretty-copied {& .success {display: block;} & .ready {display: none;}}pre button.rehype-pretty-copy.rehype-pretty-copied {opacity: 1;& .ready { display: none; }& .success { display: block; }}</style></code></pre>\n",
      "      </figure>\n",
      "      <h2>\n",
      "       Migrations in Django\n",
      "      </h2>\n",
      "      <p>\n",
      "       Migrations are Django's way of updating the database schema according to the changes that you make to your models.\n",
      "      </p>\n",
      "      <h3>\n",
      "       Creating a migration\n",
      "      </h3>\n",
      "      <p>\n",
      "       The below command is used to make migration (create files with information to update the database) but no changes are made to the actual database.\n",
      "      </p>\n",
      "      <figure data-rehype-pretty-code-figure=\"\">\n",
      "       <pre data-language=\"python\" data-theme=\"github-dark-dimmed\" style=\"background-color:#22272e;color:#adbac7\" tabindex=\"0\"><code data-language=\"python\" data-theme=\"github-dark-dimmed\" style=\"display: grid;\"><span data-line=\"\"><span style=\"color:#ADBAC7\">python manage.py makemigrations</span></span><button aria-label=\"Copy code\" class=\"rehype-pretty-copy\" data=\"python manage.py makemigrations\" onclick=\"navigator.clipboard.writeText(this.attributes.data.value);this.classList.add('rehype-pretty-copied');window.setTimeout(() =&gt; this.classList.remove('rehype-pretty-copied'), 3000);\" title=\"Copy code\" type=\"button\"><span class=\"ready\"></span><span class=\"success\"></span></button><style>:root {--copy-icon: url(\"data:image/svg+xml,%3Csvg xmlns='http://www.w3.org/2000/svg' viewBox='0 0 48 48'%3E%3Cpath fill='%23adadad' d='M16.187 9.5H12.25a1.75 1.75 0 0 0-1.75 1.75v28.5c0 .967.784 1.75 1.75 1.75h23.5a1.75 1.75 0 0 0 1.75-1.75v-28.5a1.75 1.75 0 0 0-1.75-1.75h-3.937a4.25 4.25 0 0 1-4.063 3h-7.5a4.25 4.25 0 0 1-4.063-3M31.813 7h3.937A4.25 4.25 0 0 1 40 11.25v28.5A4.25 4.25 0 0 1 35.75 44h-23.5A4.25 4.25 0 0 1 8 39.75v-28.5A4.25 4.25 0 0 1 12.25 7h3.937a4.25 4.25 0 0 1 4.063-3h7.5a4.25 4.25 0 0 1 4.063 3M18.5 8.25c0 .966.784 1.75 1.75 1.75h7.5a1.75 1.75 0 1 0 0-3.5h-7.5a1.75 1.75 0 0 0-1.75 1.75'/%3E%3C/svg%3E\");--success-icon: url(\"data:image/svg+xml,%3Csvg xmlns='http://www.w3.org/2000/svg' viewBox='0 0 24 24'%3E%3Cpath fill='%2366ff85' d='M9 16.17L5.53 12.7a.996.996 0 1 0-1.41 1.41l4.18 4.18c.39.39 1.02.39 1.41 0L20.29 7.71a.996.996 0 1 0-1.41-1.41z'/%3E%3C/svg%3E\");}pre:has(code) {position: relative;}pre button.rehype-pretty-copy {right: 1px;padding: 0;width: 24px;height: 24px;display: flex;margin-top: 2px;margin-right: 8px;position: absolute;border-radius: 25%;backdrop-filter: blur(3px);& span {width: 100%;aspect-ratio: 1 / 1;}& .ready {background-image: var(--copy-icon);}& .success {display: none; background-image: var(--success-icon);}}&.rehype-pretty-copied {& .success {display: block;} & .ready {display: none;}}pre button.rehype-pretty-copy.rehype-pretty-copied {opacity: 1;& .ready { display: none; }& .success { display: block; }}</style></code></pre>\n",
      "      </figure>\n",
      "      <h3>\n",
      "       Applying the migration\n",
      "      </h3>\n",
      "      <p>\n",
      "       The below command is used to apply the changes to the actual database.\n",
      "      </p>\n",
      "      <figure data-rehype-pretty-code-figure=\"\">\n",
      "       <pre data-language=\"python\" data-theme=\"github-dark-dimmed\" style=\"background-color:#22272e;color:#adbac7\" tabindex=\"0\"><code data-language=\"python\" data-theme=\"github-dark-dimmed\" style=\"display: grid;\"><span data-line=\"\"><span style=\"color:#ADBAC7\">python manage.py migrate</span></span><button aria-label=\"Copy code\" class=\"rehype-pretty-copy\" data=\"python manage.py migrate\" onclick=\"navigator.clipboard.writeText(this.attributes.data.value);this.classList.add('rehype-pretty-copied');window.setTimeout(() =&gt; this.classList.remove('rehype-pretty-copied'), 3000);\" title=\"Copy code\" type=\"button\"><span class=\"ready\"></span><span class=\"success\"></span></button><style>:root {--copy-icon: url(\"data:image/svg+xml,%3Csvg xmlns='http://www.w3.org/2000/svg' viewBox='0 0 48 48'%3E%3Cpath fill='%23adadad' d='M16.187 9.5H12.25a1.75 1.75 0 0 0-1.75 1.75v28.5c0 .967.784 1.75 1.75 1.75h23.5a1.75 1.75 0 0 0 1.75-1.75v-28.5a1.75 1.75 0 0 0-1.75-1.75h-3.937a4.25 4.25 0 0 1-4.063 3h-7.5a4.25 4.25 0 0 1-4.063-3M31.813 7h3.937A4.25 4.25 0 0 1 40 11.25v28.5A4.25 4.25 0 0 1 35.75 44h-23.5A4.25 4.25 0 0 1 8 39.75v-28.5A4.25 4.25 0 0 1 12.25 7h3.937a4.25 4.25 0 0 1 4.063-3h7.5a4.25 4.25 0 0 1 4.063 3M18.5 8.25c0 .966.784 1.75 1.75 1.75h7.5a1.75 1.75 0 1 0 0-3.5h-7.5a1.75 1.75 0 0 0-1.75 1.75'/%3E%3C/svg%3E\");--success-icon: url(\"data:image/svg+xml,%3Csvg xmlns='http://www.w3.org/2000/svg' viewBox='0 0 24 24'%3E%3Cpath fill='%2366ff85' d='M9 16.17L5.53 12.7a.996.996 0 1 0-1.41 1.41l4.18 4.18c.39.39 1.02.39 1.41 0L20.29 7.71a.996.996 0 1 0-1.41-1.41z'/%3E%3C/svg%3E\");}pre:has(code) {position: relative;}pre button.rehype-pretty-copy {right: 1px;padding: 0;width: 24px;height: 24px;display: flex;margin-top: 2px;margin-right: 8px;position: absolute;border-radius: 25%;backdrop-filter: blur(3px);& span {width: 100%;aspect-ratio: 1 / 1;}& .ready {background-image: var(--copy-icon);}& .success {display: none; background-image: var(--success-icon);}}&.rehype-pretty-copied {& .success {display: block;} & .ready {display: none;}}pre button.rehype-pretty-copy.rehype-pretty-copied {opacity: 1;& .ready { display: none; }& .success { display: block; }}</style></code></pre>\n",
      "      </figure>\n",
      "      <h2>\n",
      "       Admin interface in Django\n",
      "      </h2>\n",
      "      <p>\n",
      "       Django comes with a ready-to-use admin interface.\n",
      "      </p>\n",
      "      <h3>\n",
      "       Creating the admin user\n",
      "      </h3>\n",
      "      <figure data-rehype-pretty-code-figure=\"\">\n",
      "       <pre data-language=\"python\" data-theme=\"github-dark-dimmed\" style=\"background-color:#22272e;color:#adbac7\" tabindex=\"0\"><code data-language=\"python\" data-theme=\"github-dark-dimmed\" style=\"display: grid;\"><span data-line=\"\"><span style=\"color:#ADBAC7\">python manage.py createsuperuser</span></span><button aria-label=\"Copy code\" class=\"rehype-pretty-copy\" data=\"python manage.py createsuperuser\" onclick=\"navigator.clipboard.writeText(this.attributes.data.value);this.classList.add('rehype-pretty-copied');window.setTimeout(() =&gt; this.classList.remove('rehype-pretty-copied'), 3000);\" title=\"Copy code\" type=\"button\"><span class=\"ready\"></span><span class=\"success\"></span></button><style>:root {--copy-icon: url(\"data:image/svg+xml,%3Csvg xmlns='http://www.w3.org/2000/svg' viewBox='0 0 48 48'%3E%3Cpath fill='%23adadad' d='M16.187 9.5H12.25a1.75 1.75 0 0 0-1.75 1.75v28.5c0 .967.784 1.75 1.75 1.75h23.5a1.75 1.75 0 0 0 1.75-1.75v-28.5a1.75 1.75 0 0 0-1.75-1.75h-3.937a4.25 4.25 0 0 1-4.063 3h-7.5a4.25 4.25 0 0 1-4.063-3M31.813 7h3.937A4.25 4.25 0 0 1 40 11.25v28.5A4.25 4.25 0 0 1 35.75 44h-23.5A4.25 4.25 0 0 1 8 39.75v-28.5A4.25 4.25 0 0 1 12.25 7h3.937a4.25 4.25 0 0 1 4.063-3h7.5a4.25 4.25 0 0 1 4.063 3M18.5 8.25c0 .966.784 1.75 1.75 1.75h7.5a1.75 1.75 0 1 0 0-3.5h-7.5a1.75 1.75 0 0 0-1.75 1.75'/%3E%3C/svg%3E\");--success-icon: url(\"data:image/svg+xml,%3Csvg xmlns='http://www.w3.org/2000/svg' viewBox='0 0 24 24'%3E%3Cpath fill='%2366ff85' d='M9 16.17L5.53 12.7a.996.996 0 1 0-1.41 1.41l4.18 4.18c.39.39 1.02.39 1.41 0L20.29 7.71a.996.996 0 1 0-1.41-1.41z'/%3E%3C/svg%3E\");}pre:has(code) {position: relative;}pre button.rehype-pretty-copy {right: 1px;padding: 0;width: 24px;height: 24px;display: flex;margin-top: 2px;margin-right: 8px;position: absolute;border-radius: 25%;backdrop-filter: blur(3px);& span {width: 100%;aspect-ratio: 1 / 1;}& .ready {background-image: var(--copy-icon);}& .success {display: none; background-image: var(--success-icon);}}&.rehype-pretty-copied {& .success {display: block;} & .ready {display: none;}}pre button.rehype-pretty-copy.rehype-pretty-copied {opacity: 1;& .ready { display: none; }& .success { display: block; }}</style></code></pre>\n",
      "      </figure>\n",
      "      <h2>\n",
      "       Page Redirection\n",
      "      </h2>\n",
      "      <p>\n",
      "       Redirection is used to redirect the user to a specific page of the application on the occurrence of an event.\n",
      "      </p>\n",
      "      <h3>\n",
      "       Redirect method\n",
      "      </h3>\n",
      "      <figure data-rehype-pretty-code-figure=\"\">\n",
      "       <pre data-language=\"python\" data-theme=\"github-dark-dimmed\" style=\"background-color:#22272e;color:#adbac7\" tabindex=\"0\"><code data-language=\"python\" data-theme=\"github-dark-dimmed\" style=\"display: grid;\"><span data-line=\"\"><span style=\"color:#F47067\">from</span><span style=\"color:#ADBAC7\"> django.shortcuts </span><span style=\"color:#F47067\">import</span><span style=\"color:#ADBAC7\"> render, redirect</span></span>\n",
      "<span data-line=\"\"> </span>\n",
      "<span data-line=\"\"><span style=\"color:#F47067\">def</span><span style=\"color:#DCBDFB\"> redirecting</span><span style=\"color:#ADBAC7\">(request):</span></span>\n",
      "<span data-line=\"\"><span style=\"color:#F47067\">    return</span><span style=\"color:#ADBAC7\"> redirect(</span><span style=\"color:#96D0FF\">\"https://www.codewithharry.com\"</span><span style=\"color:#ADBAC7\">)</span></span><button aria-label=\"Copy code\" class=\"rehype-pretty-copy\" data='from django.shortcuts import render, redirect\n",
      "\n",
      "def redirecting(request):\n",
      "    return redirect(\"https://www.codewithharry.com\")' onclick=\"navigator.clipboard.writeText(this.attributes.data.value);this.classList.add('rehype-pretty-copied');window.setTimeout(() =&gt; this.classList.remove('rehype-pretty-copied'), 3000);\" title=\"Copy code\" type=\"button\"><span class=\"ready\"></span><span class=\"success\"></span></button><style>:root {--copy-icon: url(\"data:image/svg+xml,%3Csvg xmlns='http://www.w3.org/2000/svg' viewBox='0 0 48 48'%3E%3Cpath fill='%23adadad' d='M16.187 9.5H12.25a1.75 1.75 0 0 0-1.75 1.75v28.5c0 .967.784 1.75 1.75 1.75h23.5a1.75 1.75 0 0 0 1.75-1.75v-28.5a1.75 1.75 0 0 0-1.75-1.75h-3.937a4.25 4.25 0 0 1-4.063 3h-7.5a4.25 4.25 0 0 1-4.063-3M31.813 7h3.937A4.25 4.25 0 0 1 40 11.25v28.5A4.25 4.25 0 0 1 35.75 44h-23.5A4.25 4.25 0 0 1 8 39.75v-28.5A4.25 4.25 0 0 1 12.25 7h3.937a4.25 4.25 0 0 1 4.063-3h7.5a4.25 4.25 0 0 1 4.063 3M18.5 8.25c0 .966.784 1.75 1.75 1.75h7.5a1.75 1.75 0 1 0 0-3.5h-7.5a1.75 1.75 0 0 0-1.75 1.75'/%3E%3C/svg%3E\");--success-icon: url(\"data:image/svg+xml,%3Csvg xmlns='http://www.w3.org/2000/svg' viewBox='0 0 24 24'%3E%3Cpath fill='%2366ff85' d='M9 16.17L5.53 12.7a.996.996 0 1 0-1.41 1.41l4.18 4.18c.39.39 1.02.39 1.41 0L20.29 7.71a.996.996 0 1 0-1.41-1.41z'/%3E%3C/svg%3E\");}pre:has(code) {position: relative;}pre button.rehype-pretty-copy {right: 1px;padding: 0;width: 24px;height: 24px;display: flex;margin-top: 2px;margin-right: 8px;position: absolute;border-radius: 25%;backdrop-filter: blur(3px);& span {width: 100%;aspect-ratio: 1 / 1;}& .ready {background-image: var(--copy-icon);}& .success {display: none; background-image: var(--success-icon);}}&.rehype-pretty-copied {& .success {display: block;} & .ready {display: none;}}pre button.rehype-pretty-copy.rehype-pretty-copied {opacity: 1;& .ready { display: none; }& .success { display: block; }}</style></code></pre>\n",
      "      </figure>\n",
      "      <p>\n",
      "       <a href=\"https://cwh-full-next-space.fra1.cdn.digitaloceanspaces.com/blogpost/django-cheatsheet/django.pdf\" rel=\"noopener noreferrer\" target=\"_blank\">\n",
      "        Download this Cheatsheet\n",
      "       </a>\n",
      "      </p>\n",
      "     </div>\n",
      "    </article>\n",
      "    <div class=\"flex justify-between items-center\">\n",
      "     <div>\n",
      "      <div class=\"mt-0\">\n",
      "       <h2 class=\"text-xl font-semibold mb-2\">\n",
      "        Tags\n",
      "       </h2>\n",
      "       <div class=\"flex flex-wrap gap-2\">\n",
      "        <span class=\"bg-zinc-200 dark:bg-zinc-700 px-2 py-1 rounded-md text-xs\">\n",
      "         django\n",
      "        </span>\n",
      "        <span class=\"bg-zinc-200 dark:bg-zinc-700 px-2 py-1 rounded-md text-xs\">\n",
      "         cheatsheet\n",
      "        </span>\n",
      "       </div>\n",
      "      </div>\n",
      "     </div>\n",
      "     <div class=\"my-16 flex justify-center items-center\">\n",
      "      <button aria-controls=\"radix-:Rm7neltb:\" aria-expanded=\"false\" aria-haspopup=\"dialog\" class=\"inline-flex items-center justify-center whitespace-nowrap rounded-md text-sm font-medium transition-colors focus-visible:outline-none focus-visible:ring-1 focus-visible:ring-ring disabled:pointer-events-none disabled:opacity-50 [&amp;_svg]:pointer-events-none [&amp;_svg]:size-4 [&amp;_svg]:shrink-0 hover:bg-accent hover:text-accent-foreground h-9 px-4 py-2 gap-2 md:text-md bg-gray-200 dark:text-black dark:hover:bg-zinc-400\" data-state=\"closed\" type=\"button\">\n",
      "       <svg class=\"lucide lucide-share2 h-5 w-5\" fill=\"none\" height=\"24\" stroke=\"currentColor\" stroke-linecap=\"round\" stroke-linejoin=\"round\" stroke-width=\"2\" viewbox=\"0 0 24 24\" width=\"24\" xmlns=\"http://www.w3.org/2000/svg\">\n",
      "        <circle cx=\"18\" cy=\"5\" r=\"3\">\n",
      "        </circle>\n",
      "        <circle cx=\"6\" cy=\"12\" r=\"3\">\n",
      "        </circle>\n",
      "        <circle cx=\"18\" cy=\"19\" r=\"3\">\n",
      "        </circle>\n",
      "        <line x1=\"8.59\" x2=\"15.42\" y1=\"13.51\" y2=\"17.49\">\n",
      "        </line>\n",
      "        <line x1=\"15.41\" x2=\"8.59\" y1=\"6.51\" y2=\"10.49\">\n",
      "        </line>\n",
      "       </svg>\n",
      "       Share\n",
      "      </button>\n",
      "     </div>\n",
      "    </div>\n",
      "   </div>\n",
      "  </section>\n",
      "  <!--$-->\n",
      "  <!--/$-->\n",
      "  <!--$-->\n",
      "  <!--/$-->\n",
      "  <footer class=\"bg-gray-50 w-full ml-auto dark:bg-gray-900 py-8 px-4 md:px-8 lg:px-24 text-gray-800 dark:text-gray-300 border-t z-50 relative\">\n",
      "   <div class=\"container mx-auto grid grid-cols-2 md:grid-cols-4 gap-8 justify-between\">\n",
      "    <div class=\"md:ml-8\">\n",
      "     <h3 class=\"font-semibold text-gray-900 dark:text-white mb-4\">\n",
      "      Main\n",
      "     </h3>\n",
      "     <div class=\"flex flex-col space-y-2\">\n",
      "      <a class=\"text-gray-600 dark:text-gray-400 hover:text-gray-900 dark:hover:text-white\" href=\"/\">\n",
      "       Home\n",
      "      </a>\n",
      "      <a class=\"text-gray-600 dark:text-gray-400 hover:text-gray-900 dark:hover:text-white\" href=\"/contact\">\n",
      "       Contact\n",
      "      </a>\n",
      "      <a class=\"text-gray-600 dark:text-gray-400 hover:text-gray-900 dark:hover:text-white\" href=\"/work\">\n",
      "       Work With Us\n",
      "      </a>\n",
      "      <a class=\"text-gray-600 dark:text-gray-400 hover:text-gray-900 dark:hover:text-white\" href=\"/gear\">\n",
      "       My Gear\n",
      "      </a>\n",
      "     </div>\n",
      "    </div>\n",
      "    <div>\n",
      "     <h3 class=\"font-semibold text-gray-900 dark:text-white mb-4\">\n",
      "      Learn\n",
      "     </h3>\n",
      "     <div class=\"flex flex-col space-y-2\">\n",
      "      <a class=\"text-gray-600 dark:text-gray-400 hover:text-gray-900 dark:hover:text-white\" href=\"/courses\">\n",
      "       Courses\n",
      "      </a>\n",
      "      <a class=\"text-gray-600 dark:text-gray-400 hover:text-gray-900 dark:hover:text-white\" href=\"/tutorials\">\n",
      "       Tutorials\n",
      "      </a>\n",
      "      <a class=\"text-gray-600 dark:text-gray-400 hover:text-gray-900 dark:hover:text-white\" href=\"/notes\">\n",
      "       Notes\n",
      "      </a>\n",
      "     </div>\n",
      "    </div>\n",
      "    <div>\n",
      "     <h3 class=\"font-semibold text-gray-900 dark:text-white mb-4\">\n",
      "      Legal\n",
      "     </h3>\n",
      "     <div class=\"flex flex-col space-y-2\">\n",
      "      <a class=\"text-gray-600 dark:text-gray-400 hover:text-gray-900 dark:hover:text-white\" href=\"/terms\">\n",
      "       Terms\n",
      "      </a>\n",
      "      <a class=\"text-gray-600 dark:text-gray-400 hover:text-gray-900 dark:hover:text-white\" href=\"/privacy\">\n",
      "       Privacy\n",
      "      </a>\n",
      "      <a class=\"text-gray-600 dark:text-gray-400 hover:text-gray-900 dark:hover:text-white\" href=\"/refund-policy\">\n",
      "       Refund\n",
      "      </a>\n",
      "     </div>\n",
      "    </div>\n",
      "    <div>\n",
      "     <h3 class=\"font-semibold text-gray-900 dark:text-white mb-4\">\n",
      "      Social\n",
      "     </h3>\n",
      "     <div class=\"flex flex-col space-y-2\">\n",
      "      <a class=\"flex items-center space-x-2 text-gray-600 dark:text-gray-400 hover:text-gray-900 dark:hover:text-white\" href=\"https://github.com/codewithharry\" rel=\"noopener noreferrer\" target=\"_blank\">\n",
      "       <img alt=\"GitHub\" class=\"w-5 h-5 text-gray-600 dark:text-gray-400 dark:invert\" src=\"/icons/github.svg\"/>\n",
      "       <span>\n",
      "        GitHub\n",
      "       </span>\n",
      "      </a>\n",
      "      <a class=\"flex items-center space-x-2 text-gray-600 dark:text-gray-400 hover:text-gray-900 dark:hover:text-white\" href=\"https://x.com/codewithharry\" rel=\"noopener noreferrer\" target=\"_blank\">\n",
      "       <img alt=\"Twitter\" class=\"w-5 h-5 text-gray-600 dark:text-gray-400 dark:invert\" src=\"/icons/X.svg\"/>\n",
      "       <span>\n",
      "        Twitter (X)\n",
      "       </span>\n",
      "      </a>\n",
      "      <a class=\"flex items-center space-x-2 text-gray-600 dark:text-gray-400 hover:text-gray-900 dark:hover:text-white\" href=\"https://youtube.com/@codewithharry\" rel=\"noopener noreferrer\" target=\"_blank\">\n",
      "       <img alt=\"YouTube\" class=\"w-5 h-5 text-gray-600 dark:text-gray-400 dark:invert dark:grayscale\" src=\"/icons/youtube.svg\"/>\n",
      "       <span>\n",
      "        YouTube\n",
      "       </span>\n",
      "      </a>\n",
      "      <a class=\"flex items-center space-x-2 text-gray-600 dark:text-gray-400 hover:text-gray-900 dark:hover:text-white\" href=\"https://facebook.com/codewithharry\" rel=\"noopener noreferrer\" target=\"_blank\">\n",
      "       <img alt=\"YouTube\" class=\"w-5 h-5 text-gray-600 dark:text-gray-400 dark:invert dark:grayscale\" src=\"/icons/facebook.svg\"/>\n",
      "       <span>\n",
      "        Facebook\n",
      "       </span>\n",
      "      </a>\n",
      "     </div>\n",
      "    </div>\n",
      "   </div>\n",
      "   <div class=\"text-center mt-8 text-sm text-gray-600 dark:text-gray-400\">\n",
      "    Made with ❤️ and ☕ in India\n",
      "   </div>\n",
      "  </footer>\n",
      "  <script async=\"\" src=\"/_next/static/chunks/webpack-014757a43573e72b.js\">\n",
      "  </script>\n",
      "  <script>\n",
      "   (self.__next_f=self.__next_f||[]).push([0])\n",
      "  </script>\n",
      "  <script>\n",
      "   self.__next_f.push([1,\"1:\\\"$Sreact.fragment\\\"\\n2:I[63298,[\\\"3278\\\",\\\"static/chunks/3278-338ad7484b961c25.js\\\",\\\"8221\\\",\\\"static/chunks/8221-a015ecb58e05db41.js\\\",\\\"8383\\\",\\\"static/chunks/8383-382de4acfc4979bf.js\\\",\\\"1733\\\",\\\"static/chunks/1733-bc2c13e2a7707f18.js\\\",\\\"6219\\\",\\\"static/chunks/6219-46698a9b3ab7c5ba.js\\\",\\\"6354\\\",\\\"static/chunks/6354-fe9ba8cd35845314.js\\\",\\\"8161\\\",\\\"static/chunks/8161-d6a40d5437eb2766.js\\\",\\\"4521\\\",\\\"static/chunks/4521-71c17e4fa2d6bb7b.js\\\",\\\"7177\\\",\\\"static/chunks/app/layout-1284d67b9dcf301b.js\\\"],\\\"\\\"]\\n3:I[15029,[\\\"3278\\\",\\\"static/chunks/3278-338ad7484b961c25.js\\\",\\\"8221\\\",\\\"static/chunks/8221-a015ecb58e05db41.js\\\",\\\"8383\\\",\\\"static/chunks/8383-382de4acfc4979bf.js\\\",\\\"1733\\\",\\\"static/chunks/1733-bc2c13e2a7707f18.js\\\",\\\"6219\\\",\\\"static/chunks/6219-46698a9b3ab7c5ba.js\\\",\\\"6354\\\",\\\"static/chunks/6354-fe9ba8cd35845314.js\\\",\\\"8161\\\",\\\"static/chunks/8161-d6a40d5437eb2766.js\\\",\\\"4521\\\",\\\"static/chunks/4521-71c17e4fa2d6bb7b.js\\\",\\\"7177\\\",\\\"static/chunks/app/layout-1284d67b9dcf301b.js\\\"],\\\"Toaster\\\"]\\n4:I[47479,[\\\"3278\\\",\\\"static/chunks/3278-338ad7484b961c25.js\\\",\\\"8221\\\",\\\"static/chunks/8221-a015ecb58e05db41.js\\\",\\\"8383\\\",\\\"static/chunks/8383-382de4acfc4979bf.js\\\",\\\"1733\\\",\\\"static/chunks/1733-bc2c13e2a7707f18.js\\\",\\\"6219\\\",\\\"static/chunks/6219-46698a9b3ab7c5ba.js\\\",\\\"6354\\\",\\\"static/chunks/6354-fe9ba8cd35845314.js\\\",\\\"8161\\\",\\\"static/chunks/8161-d6a40d5437eb2766.js\\\",\\\"4521\\\",\\\"static/chunks/4521-71c17e4fa2d6bb7b.js\\\",\\\"7177\\\",\\\"static/chunks/app/layout-1284d67b9dcf301b.js\\\"],\\\"ThemeProvider\\\"]\\n5:I[43078,[\\\"3278\\\",\\\"static/chunks/3278-338ad7484b961c25.js\\\",\\\"8221\\\",\\\"static/chunks/8221-a015ecb58e05db41.js\\\",\\\"8383\\\",\\\"static/chunks/8383-382de4acfc4979bf.js\\\",\\\"1733\\\",\\\"static/chunks/1733-bc2c13e2a7707f18.js\\\",\\\"6219\\\",\\\"static/chunks/6219-46698a9b3ab7c5ba.js\\\",\\\"6354\\\",\\\"static/chunks/6354-fe9ba8cd35845314.js\\\",\\\"8161\\\",\\\"static/chunks/8161-d6a40d5437eb2766.js\\\",\\\"4521\\\",\\\"static/chunks/4521-71c17e4fa2d6bb7b.js\\\",\\\"7177\\\",\\\"static/chunks/app/layout-1284d67b9dcf301b.js\\\"],\\\"default\\\"]\\n7:I[87397,[],\\\"\\\"]\\n8:I[8513,[],\\\"\\\"]\\n9:I[73514,[],\\\"MetadataBoundary\\\"]\\nb:I[72513,[\\\"3278\\\",\\\"static/chunks/3278-338ad7484b961c25.js\\\",\\\"8221\\\",\\\"static/chunks/8221-a015ecb58e05db41.js\\\",\\\"8383\\\",\\\"sta\"])\n",
      "  </script>\n",
      "  <script>\n",
      "   self.__next_f.push([1,\"tic/chunks/8383-382de4acfc4979bf.js\\\",\\\"1733\\\",\\\"static/chunks/1733-bc2c13e2a7707f18.js\\\",\\\"6219\\\",\\\"static/chunks/6219-46698a9b3ab7c5ba.js\\\",\\\"6354\\\",\\\"static/chunks/6354-fe9ba8cd35845314.js\\\",\\\"8161\\\",\\\"static/chunks/8161-d6a40d5437eb2766.js\\\",\\\"4521\\\",\\\"static/chunks/4521-71c17e4fa2d6bb7b.js\\\",\\\"7177\\\",\\\"static/chunks/app/layout-1284d67b9dcf301b.js\\\"],\\\"default\\\"]\\ne:I[73514,[],\\\"OutletBoundary\\\"]\\n11:I[32346,[],\\\"AsyncMetadataOutlet\\\"]\\n13:I[73514,[],\\\"ViewportBoundary\\\"]\\n15:I[51612,[],\\\"\\\"]\\n16:\\\"$Sreact.suspense\\\"\\n17:I[32346,[],\\\"AsyncMetadata\\\"]\\n1a:I[8161,[\\\"3278\\\",\\\"static/chunks/3278-338ad7484b961c25.js\\\",\\\"8383\\\",\\\"static/chunks/8383-382de4acfc4979bf.js\\\",\\\"1733\\\",\\\"static/chunks/1733-bc2c13e2a7707f18.js\\\",\\\"6219\\\",\\\"static/chunks/6219-46698a9b3ab7c5ba.js\\\",\\\"8161\\\",\\\"static/chunks/8161-d6a40d5437eb2766.js\\\",\\\"6199\\\",\\\"static/chunks/app/blogpost/%5Bslug%5D/page-275958672598fda4.js\\\"],\\\"Image\\\"]\\n1b:I[92123,[\\\"3278\\\",\\\"static/chunks/3278-338ad7484b961c25.js\\\",\\\"8383\\\",\\\"static/chunks/8383-382de4acfc4979bf.js\\\",\\\"1733\\\",\\\"static/chunks/1733-bc2c13e2a7707f18.js\\\",\\\"6219\\\",\\\"static/chunks/6219-46698a9b3ab7c5ba.js\\\",\\\"8161\\\",\\\"static/chunks/8161-d6a40d5437eb2766.js\\\",\\\"6199\\\",\\\"static/chunks/app/blogpost/%5Bslug%5D/page-275958672598fda4.js\\\"],\\\"default\\\"]\\n1d:I[99096,[\\\"3278\\\",\\\"static/chunks/3278-338ad7484b961c25.js\\\",\\\"8383\\\",\\\"static/chunks/8383-382de4acfc4979bf.js\\\",\\\"1733\\\",\\\"static/chunks/1733-bc2c13e2a7707f18.js\\\",\\\"6219\\\",\\\"static/chunks/6219-46698a9b3ab7c5ba.js\\\",\\\"8161\\\",\\\"static/chunks/8161-d6a40d5437eb2766.js\\\",\\\"6199\\\",\\\"static/chunks/app/blogpost/%5Bslug%5D/page-275958672598fda4.js\\\"],\\\"default\\\"]\\n:HL[\\\"/_next/static/media/0484562807a97172-s.p.woff2\\\",\\\"font\\\",{\\\"crossOrigin\\\":\\\"\\\",\\\"type\\\":\\\"font/woff2\\\"}]\\n:HL[\\\"/_next/static/media/4473ecc91f70f139-s.p.woff\\\",\\\"font\\\",{\\\"crossOrigin\\\":\\\"\\\",\\\"type\\\":\\\"font/woff\\\"}]\\n:HL[\\\"/_next/static/media/463dafcda517f24f-s.p.woff\\\",\\\"font\\\",{\\\"crossOrigin\\\":\\\"\\\",\\\"type\\\":\\\"font/woff\\\"}]\\n:HL[\\\"/_next/static/media/4c285fdca692ea22-s.p.woff2\\\",\\\"font\\\",{\\\"crossOrigin\\\":\\\"\\\",\\\"type\\\":\\\"font/woff2\\\"}]\\n:HL[\\\"/_next/static/media/6245472ced48d3be-s.p.woff2\\\",\\\"font\\\",{\\\"crossOrigin\\\":\\\"\\\",\\\"type\\\":\\\"font/woff2\\\"}]\\n:HL[\\\"/_next/static/media/7108af\"])\n",
      "  </script>\n",
      "  <script>\n",
      "   self.__next_f.push([1,\"b8b1381ad1-s.p.woff2\\\",\\\"font\\\",{\\\"crossOrigin\\\":\\\"\\\",\\\"type\\\":\\\"font/woff2\\\"}]\\n:HL[\\\"/_next/static/media/7db6c35d839a711c-s.p.woff2\\\",\\\"font\\\",{\\\"crossOrigin\\\":\\\"\\\",\\\"type\\\":\\\"font/woff2\\\"}]\\n:HL[\\\"/_next/static/media/8888a3826f4a3af4-s.p.woff2\\\",\\\"font\\\",{\\\"crossOrigin\\\":\\\"\\\",\\\"type\\\":\\\"font/woff2\\\"}]\\n:HL[\\\"/_next/static/media/9e82d62334b205f4-s.p.woff2\\\",\\\"font\\\",{\\\"crossOrigin\\\":\\\"\\\",\\\"type\\\":\\\"font/woff2\\\"}]\\n:HL[\\\"/_next/static/media/b957ea75a84b6ea7-s.p.woff2\\\",\\\"font\\\",{\\\"crossOrigin\\\":\\\"\\\",\\\"type\\\":\\\"font/woff2\\\"}]\\n:HL[\\\"/_next/static/media/eafabf029ad39a43-s.p.woff2\\\",\\\"font\\\",{\\\"crossOrigin\\\":\\\"\\\",\\\"type\\\":\\\"font/woff2\\\"}]\\n:HL[\\\"/_next/static/css/95561125d4ad1bfc.css\\\",\\\"style\\\"]\\n:HL[\\\"/_next/static/css/53eef233cdc30247.css\\\",\\\"style\\\"]\\n\"])\n",
      "  </script>\n",
      "  <script>\n",
      "   self.__next_f.push([1,\"0:{\\\"P\\\":null,\\\"b\\\":\\\"BGBFDaQKih42b40CRhWVB\\\",\\\"p\\\":\\\"\\\",\\\"c\\\":[\\\"\\\",\\\"blogpost\\\",\\\"django-cheatsheet\\\"],\\\"i\\\":false,\\\"f\\\":[[[\\\"\\\",{\\\"children\\\":[\\\"blogpost\\\",{\\\"children\\\":[[\\\"slug\\\",\\\"django-cheatsheet\\\",\\\"d\\\"],{\\\"children\\\":[\\\"__PAGE__\\\",{}]}]}]},\\\"$undefined\\\",\\\"$undefined\\\",true],[\\\"\\\",[\\\"$\\\",\\\"$1\\\",\\\"c\\\",{\\\"children\\\":[[[\\\"$\\\",\\\"link\\\",\\\"0\\\",{\\\"rel\\\":\\\"stylesheet\\\",\\\"href\\\":\\\"/_next/static/css/95561125d4ad1bfc.css\\\",\\\"precedence\\\":\\\"next\\\",\\\"crossOrigin\\\":\\\"$undefined\\\",\\\"nonce\\\":\\\"$undefined\\\"}],[\\\"$\\\",\\\"link\\\",\\\"1\\\",{\\\"rel\\\":\\\"stylesheet\\\",\\\"href\\\":\\\"/_next/static/css/53eef233cdc30247.css\\\",\\\"precedence\\\":\\\"next\\\",\\\"crossOrigin\\\":\\\"$undefined\\\",\\\"nonce\\\":\\\"$undefined\\\"}]],[\\\"$\\\",\\\"html\\\",null,{\\\"lang\\\":\\\"en\\\",\\\"suppressHydrationWarning\\\":true,\\\"children\\\":[[\\\"$\\\",\\\"head\\\",null,{\\\"children\\\":[[\\\"$\\\",\\\"link\\\",null,{\\\"rel\\\":\\\"shortcut icon\\\",\\\"href\\\":\\\"/favicon.ico\\\",\\\"type\\\":\\\"image/x-icon\\\"}],[\\\"$\\\",\\\"$L2\\\",null,{\\\"id\\\":\\\"facebook-pixel\\\",\\\"strategy\\\":\\\"afterInteractive\\\",\\\"children\\\":\\\"\\\\n            !function(f,b,e,v,n,t,s)\\\\n            {if(f.fbq)return;n=f.fbq=function(){n.callMethod?\\\\n            n.callMethod.apply(n,arguments):n.queue.push(arguments)};\\\\n            if(!f._fbq)f._fbq=n;n.push=n;n.loaded=!0;n.version='2.0';\\\\n            n.queue=[];t=b.createElement(e);t.async=!0;\\\\n            t.src=v;s=b.getElementsByTagName(e)[0];\\\\n            s.parentNode.insertBefore(t,s)}(window, document,'script',\\\\n            'https://connect.facebook.net/en_US/fbevents.js');\\\\n            fbq('init', '608037172208445');\\\\n            fbq('track', 'PageView');\\\\n          \\\"}],[\\\"$\\\",\\\"noscript\\\",null,{\\\"children\\\":[\\\"$\\\",\\\"img\\\",null,{\\\"height\\\":1,\\\"width\\\":1,\\\"style\\\":{\\\"display\\\":\\\"none\\\"},\\\"src\\\":\\\"https://www.facebook.com/tr?id=608037172208445\\u0026ev=PageView\\u0026noscript=1\\\",\\\"alt\\\":\\\"Facebook Pixel\\\"}]}]]}],[\\\"$\\\",\\\"body\\\",null,{\\\"className\\\":\\\"__variable_1e4310 __variable_c3aa02 __variable_9b9fd1 antialiased\\\",\\\"children\\\":[[\\\"$\\\",\\\"$L2\\\",null,{\\\"src\\\":\\\"https://www.googletagmanager.com/gtag/js?id=G-TLJ82JF418\\\",\\\"strategy\\\":\\\"afterInteractive\\\"}],[\\\"$\\\",\\\"$L2\\\",null,{\\\"id\\\":\\\"google-analytics\\\",\\\"strategy\\\":\\\"afterInteractive\\\",\\\"children\\\":\\\"\\\\n            window.dataLayer = window.dataLayer || [];\\\\n            function gtag(){dataLayer.push(arguments);}\\\\n            gtag('js', new Date());\\\\n            gtag('config', 'G-TLJ82JF418');\\\\n          \\\"}],[\\\"$\\\",\\\"$L2\\\",null,{\\\"src\\\":\\\"https://www.googletagmanager.com/gtag/js?id=AW-11344294909\\\",\\\"strategy\\\":\\\"afterInteractive\\\"}],[\\\"$\\\",\\\"$L2\\\",null,{\\\"id\\\":\\\"google-ads\\\",\\\"strategy\\\":\\\"afterInteractive\\\",\\\"children\\\":\\\"\\\\n            window.dataLayer = window.dataLayer || [];\\\\n            function gtag(){dataLayer.push(arguments);}\\\\n            gtag('js', new Date());\\\\n            gtag('config', 'AW-11344294909');\\\\n          \\\"}],[\\\"$\\\",\\\"$L2\\\",null,{\\\"id\\\":\\\"linkedin-insight\\\",\\\"strategy\\\":\\\"afterInteractive\\\",\\\"children\\\":\\\"\\\\n            _linkedin_partner_id = \\\\\\\"7447500\\\\\\\";\\\\n            window._linkedin_data_partner_ids = window._linkedin_data_partner_ids || [];\\\\n            window._linkedin_data_partner_ids.push(_linkedin_partner_id);\\\\n        \\\\n            (function(l) {\\\\n              if (!l) {\\\\n                window.lintrk = function(a, b) { window.lintrk.q.push([a, b]) };\\\\n                window.lintrk.q = [];\\\\n              }\\\\n              var s = document.getElementsByTagName(\\\\\\\"script\\\\\\\")[0];\\\\n              var b = document.createElement(\\\\\\\"script\\\\\\\");\\\\n              b.type = \\\\\\\"text/javascript\\\\\\\";\\\\n              b.async = true;\\\\n              b.src = \\\\\\\"https://snap.licdn.com/li.lms-analytics/insight.min.js\\\\\\\";\\\\n              s.parentNode.insertBefore(b, s);\\\\n            })(window.lintrk);\\\\n          \\\"}],[\\\"$\\\",\\\"$L3\\\",null,{}],[\\\"$\\\",\\\"$L4\\\",null,{\\\"attribute\\\":\\\"class\\\",\\\"defaultTheme\\\":\\\"system\\\",\\\"enableSystem\\\":true,\\\"disableTransitionOnChange\\\":true,\\\"children\\\":[\\\"$\\\",\\\"$L5\\\",null,{\\\"children\\\":[\\\"$L6\\\",[\\\"$\\\",\\\"$L7\\\",null,{\\\"parallelRouterKey\\\":\\\"children\\\",\\\"error\\\":\\\"$undefined\\\",\\\"errorStyles\\\":\\\"$undefined\\\",\\\"errorScripts\\\":\\\"$undefined\\\",\\\"template\\\":[\\\"$\\\",\\\"$L8\\\",null,{}],\\\"templateStyles\\\":\\\"$undefined\\\",\\\"templateScripts\\\":\\\"$undefined\\\",\\\"notFound\\\":[[[\\\"$\\\",\\\"title\\\",null,{\\\"children\\\":\\\"404: This page could not be found.\\\"}],[\\\"$\\\",\\\"div\\\",null,{\\\"style\\\":{\\\"fontFamily\\\":\\\"system-ui,\\\\\\\"Segoe UI\\\\\\\",Roboto,Helvetica,Arial,sans-serif,\\\\\\\"Apple Color Emoji\\\\\\\",\\\\\\\"Segoe UI Emoji\\\\\\\"\\\",\\\"height\\\":\\\"100vh\\\",\\\"textAlign\\\":\\\"center\\\",\\\"display\\\":\\\"flex\\\",\\\"flexDirection\\\":\\\"column\\\",\\\"alignItems\\\":\\\"center\\\",\\\"justifyContent\\\":\\\"center\\\"},\\\"children\\\":[\\\"$\\\",\\\"div\\\",null,{\\\"children\\\":[[\\\"$\\\",\\\"style\\\",null,{\\\"dangerouslySetInnerHTML\\\":{\\\"__html\\\":\\\"body{color:#000;background:#fff;margin:0}.next-error-h1{border-right:1px solid rgba(0,0,0,.3)}@media (prefers-color-scheme:dark){body{color:#fff;background:#000}.next-error-h1{border-right:1px solid rgba(255,255,255,.3)}}\\\"}}],[\\\"$\\\",\\\"h1\\\",null,{\\\"className\\\":\\\"next-error-h1\\\",\\\"style\\\":{\\\"display\\\":\\\"inline-block\\\",\\\"margin\\\":\\\"0 20px 0 0\\\",\\\"padding\\\":\\\"0 23px 0 0\\\",\\\"fontSize\\\":24,\\\"fontWeight\\\":500,\\\"verticalAlign\\\":\\\"top\\\",\\\"lineHeight\\\":\\\"49px\\\"},\\\"children\\\":404}],[\\\"$\\\",\\\"div\\\",null,{\\\"style\\\":{\\\"display\\\":\\\"inline-block\\\"},\\\"children\\\":[\\\"$\\\",\\\"h2\\\",null,{\\\"style\\\":{\\\"fontSize\\\":14,\\\"fontWeight\\\":400,\\\"lineHeight\\\":\\\"49px\\\",\\\"margin\\\":0},\\\"children\\\":\\\"This page could not be found.\\\"}]}]]}]}]],[\\\"$\\\",\\\"$L9\\\",null,{\\\"children\\\":\\\"$La\\\"}],[]],\\\"forbidden\\\":\\\"$undefined\\\",\\\"unauthorized\\\":\\\"$undefined\\\"}],[\\\"$\\\",\\\"$Lb\\\",null,{}]]}]}]]}]]}]]}],{\\\"children\\\":[\\\"blogpost\\\",[\\\"$\\\",\\\"$1\\\",\\\"c\\\",{\\\"children\\\":[null,[\\\"$\\\",\\\"$L7\\\",null,{\\\"parallelRouterKey\\\":\\\"children\\\",\\\"error\\\":\\\"$undefined\\\",\\\"errorStyles\\\":\\\"$undefined\\\",\\\"errorScripts\\\":\\\"$undefined\\\",\\\"template\\\":[\\\"$\\\",\\\"$L8\\\",null,{}],\\\"templateStyles\\\":\\\"$undefined\\\",\\\"templateScripts\\\":\\\"$undefined\\\",\\\"notFound\\\":\\\"$undefined\\\",\\\"forbidden\\\":\\\"$undefined\\\",\\\"unauthorized\\\":\\\"$undefined\\\"}]]}],{\\\"children\\\":[[\\\"slug\\\",\\\"django-cheatsheet\\\",\\\"d\\\"],[\\\"$\\\",\\\"$1\\\",\\\"c\\\",{\\\"children\\\":[null,[\\\"$\\\",\\\"$L7\\\",null,{\\\"parallelRouterKey\\\":\\\"children\\\",\\\"error\\\":\\\"$undefined\\\",\\\"errorStyles\\\":\\\"$undefined\\\",\\\"errorScripts\\\":\\\"$undefined\\\",\\\"template\\\":[\\\"$\\\",\\\"$L8\\\",null,{}],\\\"templateStyles\\\":\\\"$undefined\\\",\\\"templateScripts\\\":\\\"$undefined\\\",\\\"notFound\\\":\\\"$undefined\\\",\\\"forbidden\\\":\\\"$undefined\\\",\\\"unauthorized\\\":\\\"$undefined\\\"}]]}],{\\\"children\\\":[\\\"__PAGE__\\\",[\\\"$\\\",\\\"$1\\\",\\\"c\\\",{\\\"children\\\":[\\\"$Lc\\\",[\\\"$\\\",\\\"$L9\\\",null,{\\\"children\\\":\\\"$Ld\\\"}],null,[\\\"$\\\",\\\"$Le\\\",null,{\\\"children\\\":[\\\"$Lf\\\",\\\"$L10\\\",[\\\"$\\\",\\\"$L11\\\",null,{\\\"promise\\\":\\\"$@12\\\"}]]}]]}],{},null,false]},null,false]},null,false]},null,false],[\\\"$\\\",\\\"$1\\\",\\\"h\\\",{\\\"children\\\":[null,[\\\"$\\\",\\\"$1\\\",\\\"b2n2UqbTqnQ1LAAYjLVw5\\\",{\\\"children\\\":[[\\\"$\\\",\\\"$L13\\\",null,{\\\"children\\\":\\\"$L14\\\"}],[\\\"$\\\",\\\"meta\\\",null,{\\\"name\\\":\\\"next-size-adjust\\\",\\\"content\\\":\\\"\\\"}]]}],null]}],false]],\\\"m\\\":\\\"$undefined\\\",\\\"G\\\":[\\\"$15\\\",\\\"$undefined\\\"],\\\"s\\\":false,\\\"S\\\":false}\\n\"])\n",
      "  </script>\n",
      "  <script>\n",
      "   self.__next_f.push([1,\"a:[\\\"$\\\",\\\"$16\\\",null,{\\\"fallback\\\":null,\\\"children\\\":[\\\"$\\\",\\\"$L17\\\",null,{\\\"promise\\\":\\\"$@18\\\"}]}]\\nd:[\\\"$\\\",\\\"$16\\\",null,{\\\"fallback\\\":null,\\\"children\\\":[\\\"$\\\",\\\"$L17\\\",null,{\\\"promise\\\":\\\"$@19\\\"}]}]\\n10:null\\n1c:Tf6fe,\"])\n",
      "  </script>\n",
      "  <script>\n",
      "   self.__next_f.push([1,\"\\u003ch2\\u003eWhat is Django?\\u003c/h2\\u003e\\n\\u003cp\\u003ePython-based web framework used for rapid development of web applications.\\u003c/p\\u003e\\n\\u003ch2\\u003eInstalling Django + Setup\\u003c/h2\\u003e\\n\\u003cfigure data-rehype-pretty-code-figure=\\\"\\\"\\u003e\\u003cpre style=\\\"background-color:#22272e;color:#adbac7\\\" tabindex=\\\"0\\\" data-language=\\\"python\\\" data-theme=\\\"github-dark-dimmed\\\"\\u003e\\u003ccode data-language=\\\"python\\\" data-theme=\\\"github-dark-dimmed\\\" style=\\\"display: grid;\\\"\\u003e\\u003cspan data-line=\\\"\\\"\\u003e\\u003cspan style=\\\"color:#ADBAC7\\\"\\u003epip install django\\u003c/span\\u003e\\u003c/span\\u003e\\u003cbutton type=\\\"button\\\" title=\\\"Copy code\\\" aria-label=\\\"Copy code\\\" data=\\\"pip install django\\\" class=\\\"rehype-pretty-copy\\\" onclick=\\\"navigator.clipboard.writeText(this.attributes.data.value);this.classList.add(\\u0026#x27;rehype-pretty-copied\\u0026#x27;);window.setTimeout(() =\\u003e this.classList.remove(\\u0026#x27;rehype-pretty-copied\\u0026#x27;), 3000);\\\"\\u003e\\u003cspan class=\\\"ready\\\"\\u003e\\u003c/span\\u003e\\u003cspan class=\\\"success\\\"\\u003e\\u003c/span\\u003e\\u003c/button\\u003e\\u003cstyle\\u003e:root {--copy-icon: url(\\\"data:image/svg+xml,%3Csvg xmlns='http://www.w3.org/2000/svg' viewBox='0 0 48 48'%3E%3Cpath fill='%23adadad' d='M16.187 9.5H12.25a1.75 1.75 0 0 0-1.75 1.75v28.5c0 .967.784 1.75 1.75 1.75h23.5a1.75 1.75 0 0 0 1.75-1.75v-28.5a1.75 1.75 0 0 0-1.75-1.75h-3.937a4.25 4.25 0 0 1-4.063 3h-7.5a4.25 4.25 0 0 1-4.063-3M31.813 7h3.937A4.25 4.25 0 0 1 40 11.25v28.5A4.25 4.25 0 0 1 35.75 44h-23.5A4.25 4.25 0 0 1 8 39.75v-28.5A4.25 4.25 0 0 1 12.25 7h3.937a4.25 4.25 0 0 1 4.063-3h7.5a4.25 4.25 0 0 1 4.063 3M18.5 8.25c0 .966.784 1.75 1.75 1.75h7.5a1.75 1.75 0 1 0 0-3.5h-7.5a1.75 1.75 0 0 0-1.75 1.75'/%3E%3C/svg%3E\\\");--success-icon: url(\\\"data:image/svg+xml,%3Csvg xmlns='http://www.w3.org/2000/svg' viewBox='0 0 24 24'%3E%3Cpath fill='%2366ff85' d='M9 16.17L5.53 12.7a.996.996 0 1 0-1.41 1.41l4.18 4.18c.39.39 1.02.39 1.41 0L20.29 7.71a.996.996 0 1 0-1.41-1.41z'/%3E%3C/svg%3E\\\");}pre:has(code) {position: relative;}pre button.rehype-pretty-copy {right: 1px;padding: 0;width: 24px;height: 24px;display: flex;margin-top: 2px;margin-right: 8px;position: absolute;border-radius: 25%;backdrop-filter: blur(3px);\\u0026 span {width: 100%;aspect-ratio: 1 / 1;}\\u0026 .ready {background-image: var(--copy-icon);}\\u0026 .success {display: none; background-image: var(--success-icon);}}\\u0026.rehype-pretty-copied {\\u0026 .success {display: block;} \\u0026 .ready {display: none;}}pre button.rehype-pretty-copy.rehype-pretty-copied {opacity: 1;\\u0026 .ready { display: none; }\\u0026 .success { display: block; }}\\u003c/style\\u003e\\u003c/code\\u003e\\u003c/pre\\u003e\\u003c/figure\\u003e\\n\\u003ch3\\u003eCreating a project\\u003c/h3\\u003e\\n\\u003cp\\u003eThe below command creates a new project named \\u003ccode\\u003eprojectName\\u003c/code\\u003e.\\u003c/p\\u003e\\n\\u003cfigure data-rehype-pretty-code-figure=\\\"\\\"\\u003e\\u003cpre style=\\\"background-color:#22272e;color:#adbac7\\\" tabindex=\\\"0\\\" data-language=\\\"python\\\" data-theme=\\\"github-dark-dimmed\\\"\\u003e\\u003ccode data-language=\\\"python\\\" data-theme=\\\"github-dark-dimmed\\\" style=\\\"display: grid;\\\"\\u003e\\u003cspan data-line=\\\"\\\"\\u003e\\u003cspan style=\\\"color:#ADBAC7\\\"\\u003edjango\\u003c/span\\u003e\\u003cspan style=\\\"color:#F47067\\\"\\u003e-\\u003c/span\\u003e\\u003cspan style=\\\"color:#ADBAC7\\\"\\u003eadmin startproject projectName\\u003c/span\\u003e\\u003c/span\\u003e\\u003cbutton type=\\\"button\\\" title=\\\"Copy code\\\" aria-label=\\\"Copy code\\\" data=\\\"django-admin startproject projectName\\\" class=\\\"rehype-pretty-copy\\\" onclick=\\\"navigator.clipboard.writeText(this.attributes.data.value);this.classList.add(\\u0026#x27;rehype-pretty-copied\\u0026#x27;);window.setTimeout(() =\\u003e this.classList.remove(\\u0026#x27;rehype-pretty-copied\\u0026#x27;), 3000);\\\"\\u003e\\u003cspan class=\\\"ready\\\"\\u003e\\u003c/span\\u003e\\u003cspan class=\\\"success\\\"\\u003e\\u003c/span\\u003e\\u003c/button\\u003e\\u003cstyle\\u003e:root {--copy-icon: url(\\\"data:image/svg+xml,%3Csvg xmlns='http://www.w3.org/2000/svg' viewBox='0 0 48 48'%3E%3Cpath fill='%23adadad' d='M16.187 9.5H12.25a1.75 1.75 0 0 0-1.75 1.75v28.5c0 .967.784 1.75 1.75 1.75h23.5a1.75 1.75 0 0 0 1.75-1.75v-28.5a1.75 1.75 0 0 0-1.75-1.75h-3.937a4.25 4.25 0 0 1-4.063 3h-7.5a4.25 4.25 0 0 1-4.063-3M31.813 7h3.937A4.25 4.25 0 0 1 40 11.25v28.5A4.25 4.25 0 0 1 35.75 44h-23.5A4.25 4.25 0 0 1 8 39.75v-28.5A4.25 4.25 0 0 1 12.25 7h3.937a4.25 4.25 0 0 1 4.063-3h7.5a4.25 4.25 0 0 1 4.063 3M18.5 8.25c0 .966.784 1.75 1.75 1.75h7.5a1.75 1.75 0 1 0 0-3.5h-7.5a1.75 1.75 0 0 0-1.75 1.75'/%3E%3C/svg%3E\\\");--success-icon: url(\\\"data:image/svg+xml,%3Csvg xmlns='http://www.w3.org/2000/svg' viewBox='0 0 24 24'%3E%3Cpath fill='%2366ff85' d='M9 16.17L5.53 12.7a.996.996 0 1 0-1.41 1.41l4.18 4.18c.39.39 1.02.39 1.41 0L20.29 7.71a.996.996 0 1 0-1.41-1.41z'/%3E%3C/svg%3E\\\");}pre:has(code) {position: relative;}pre button.rehype-pretty-copy {right: 1px;padding: 0;width: 24px;height: 24px;display: flex;margin-top: 2px;margin-right: 8px;position: absolute;border-radius: 25%;backdrop-filter: blur(3px);\\u0026 span {width: 100%;aspect-ratio: 1 / 1;}\\u0026 .ready {background-image: var(--copy-icon);}\\u0026 .success {display: none; background-image: var(--success-icon);}}\\u0026.rehype-pretty-copied {\\u0026 .success {display: block;} \\u0026 .ready {display: none;}}pre button.rehype-pretty-copy.rehype-pretty-copied {opacity: 1;\\u0026 .ready { display: none; }\\u0026 .success { display: block; }}\\u003c/style\\u003e\\u003c/code\\u003e\\u003c/pre\\u003e\\u003c/figure\\u003e\\n\\u003ch3\\u003eStarting a server\\u003c/h3\\u003e\\n\\u003cp\\u003eThe below command starts the development server.\\u003c/p\\u003e\\n\\u003cfigure data-rehype-pretty-code-figure=\\\"\\\"\\u003e\\u003cpre style=\\\"background-color:#22272e;color:#adbac7\\\" tabindex=\\\"0\\\" data-language=\\\"python\\\" data-theme=\\\"github-dark-dimmed\\\"\\u003e\\u003ccode data-language=\\\"python\\\" data-theme=\\\"github-dark-dimmed\\\" style=\\\"display: grid;\\\"\\u003e\\u003cspan data-line=\\\"\\\"\\u003e\\u003cspan style=\\\"color:#ADBAC7\\\"\\u003epython manage.py runserver\\u003c/span\\u003e\\u003c/span\\u003e\\u003cbutton type=\\\"button\\\" title=\\\"Copy code\\\" aria-label=\\\"Copy code\\\" data=\\\"python manage.py runserver\\\" class=\\\"rehype-pretty-copy\\\" onclick=\\\"navigator.clipboard.writeText(this.attributes.data.value);this.classList.add(\\u0026#x27;rehype-pretty-copied\\u0026#x27;);window.setTimeout(() =\\u003e this.classList.remove(\\u0026#x27;rehype-pretty-copied\\u0026#x27;), 3000);\\\"\\u003e\\u003cspan class=\\\"ready\\\"\\u003e\\u003c/span\\u003e\\u003cspan class=\\\"success\\\"\\u003e\\u003c/span\\u003e\\u003c/button\\u003e\\u003cstyle\\u003e:root {--copy-icon: url(\\\"data:image/svg+xml,%3Csvg xmlns='http://www.w3.org/2000/svg' viewBox='0 0 48 48'%3E%3Cpath fill='%23adadad' d='M16.187 9.5H12.25a1.75 1.75 0 0 0-1.75 1.75v28.5c0 .967.784 1.75 1.75 1.75h23.5a1.75 1.75 0 0 0 1.75-1.75v-28.5a1.75 1.75 0 0 0-1.75-1.75h-3.937a4.25 4.25 0 0 1-4.063 3h-7.5a4.25 4.25 0 0 1-4.063-3M31.813 7h3.937A4.25 4.25 0 0 1 40 11.25v28.5A4.25 4.25 0 0 1 35.75 44h-23.5A4.25 4.25 0 0 1 8 39.75v-28.5A4.25 4.25 0 0 1 12.25 7h3.937a4.25 4.25 0 0 1 4.063-3h7.5a4.25 4.25 0 0 1 4.063 3M18.5 8.25c0 .966.784 1.75 1.75 1.75h7.5a1.75 1.75 0 1 0 0-3.5h-7.5a1.75 1.75 0 0 0-1.75 1.75'/%3E%3C/svg%3E\\\");--success-icon: url(\\\"data:image/svg+xml,%3Csvg xmlns='http://www.w3.org/2000/svg' viewBox='0 0 24 24'%3E%3Cpath fill='%2366ff85' d='M9 16.17L5.53 12.7a.996.996 0 1 0-1.41 1.41l4.18 4.18c.39.39 1.02.39 1.41 0L20.29 7.71a.996.996 0 1 0-1.41-1.41z'/%3E%3C/svg%3E\\\");}pre:has(code) {position: relative;}pre button.rehype-pretty-copy {right: 1px;padding: 0;width: 24px;height: 24px;display: flex;margin-top: 2px;margin-right: 8px;position: absolute;border-radius: 25%;backdrop-filter: blur(3px);\\u0026 span {width: 100%;aspect-ratio: 1 / 1;}\\u0026 .ready {background-image: var(--copy-icon);}\\u0026 .success {display: none; background-image: var(--success-icon);}}\\u0026.rehype-pretty-copied {\\u0026 .success {display: block;} \\u0026 .ready {display: none;}}pre button.rehype-pretty-copy.rehype-pretty-copied {opacity: 1;\\u0026 .ready { display: none; }\\u0026 .success { display: block; }}\\u003c/style\\u003e\\u003c/code\\u003e\\u003c/pre\\u003e\\u003c/figure\\u003e\\n\\u003ch2\\u003eDjango MVT\\u003c/h2\\u003e\\n\\u003cp\\u003eDjango follows MVT (Model, View, Template) architecture.\\u003c/p\\u003e\\n\\u003ch3\\u003eSample Django Model\\u003c/h3\\u003e\\n\\u003cp\\u003eThe model represents the schema of the database.\\u003c/p\\u003e\\n\\u003cfigure data-rehype-pretty-code-figure=\\\"\\\"\\u003e\\u003cpre style=\\\"background-color:#22272e;color:#adbac7\\\" tabindex=\\\"0\\\" data-language=\\\"python\\\" data-theme=\\\"github-dark-dimmed\\\"\\u003e\\u003ccode data-language=\\\"python\\\" data-theme=\\\"github-dark-dimmed\\\" style=\\\"display: grid;\\\"\\u003e\\u003cspan data-line=\\\"\\\"\\u003e\\u003cspan style=\\\"color:#F47067\\\"\\u003efrom\\u003c/span\\u003e\\u003cspan style=\\\"color:#ADBAC7\\\"\\u003e django.db \\u003c/span\\u003e\\u003cspan style=\\\"color:#F47067\\\"\\u003eimport\\u003c/span\\u003e\\u003cspan style=\\\"color:#ADBAC7\\\"\\u003e models\\u003c/span\\u003e\\u003c/span\\u003e\\n\\u003cspan data-line=\\\"\\\"\\u003e \\u003c/span\\u003e\\n\\u003cspan data-line=\\\"\\\"\\u003e\\u003cspan style=\\\"color:#F47067\\\"\\u003eclass\\u003c/span\\u003e\\u003cspan style=\\\"color:#F69D50\\\"\\u003e Product\\u003c/span\\u003e\\u003cspan style=\\\"color:#ADBAC7\\\"\\u003e(\\u003c/span\\u003e\\u003cspan style=\\\"color:#6CB6FF\\\"\\u003emodels\\u003c/span\\u003e\\u003cspan style=\\\"color:#ADBAC7\\\"\\u003e.\\u003c/span\\u003e\\u003cspan style=\\\"color:#6CB6FF\\\"\\u003eModel\\u003c/span\\u003e\\u003cspan style=\\\"color:#ADBAC7\\\"\\u003e): \\u003c/span\\u003e\\u003cspan style=\\\"color:#768390\\\"\\u003e# Product is the name of our model\\u003c/span\\u003e\\u003c/span\\u003e\\n\\u003cspan data-line=\\\"\\\"\\u003e\\u003cspan style=\\\"color:#ADBAC7\\\"\\u003e    product_id \\u003c/span\\u003e\\u003cspan style=\\\"color:#F47067\\\"\\u003e=\\u003c/span\\u003e\\u003cspan style=\\\"color:#ADBAC7\\\"\\u003e models.AutoField\\u003c/span\\u003e\\u003c/span\\u003e\\u003cbutton type=\\\"button\\\" title=\\\"Copy code\\\" aria-label=\\\"Copy code\\\" data=\\\"from django.db import models\\n\\nclass Product(models.Model): # Product is the name of our model\\n    product_id = models.AutoField\\\" class=\\\"rehype-pretty-copy\\\" onclick=\\\"navigator.clipboard.writeText(this.attributes.data.value);this.classList.add(\\u0026#x27;rehype-pretty-copied\\u0026#x27;);window.setTimeout(() =\\u003e this.classList.remove(\\u0026#x27;rehype-pretty-copied\\u0026#x27;), 3000);\\\"\\u003e\\u003cspan class=\\\"ready\\\"\\u003e\\u003c/span\\u003e\\u003cspan class=\\\"success\\\"\\u003e\\u003c/span\\u003e\\u003c/button\\u003e\\u003cstyle\\u003e:root {--copy-icon: url(\\\"data:image/svg+xml,%3Csvg xmlns='http://www.w3.org/2000/svg' viewBox='0 0 48 48'%3E%3Cpath fill='%23adadad' d='M16.187 9.5H12.25a1.75 1.75 0 0 0-1.75 1.75v28.5c0 .967.784 1.75 1.75 1.75h23.5a1.75 1.75 0 0 0 1.75-1.75v-28.5a1.75 1.75 0 0 0-1.75-1.75h-3.937a4.25 4.25 0 0 1-4.063 3h-7.5a4.25 4.25 0 0 1-4.063-3M31.813 7h3.937A4.25 4.25 0 0 1 40 11.25v28.5A4.25 4.25 0 0 1 35.75 44h-23.5A4.25 4.25 0 0 1 8 39.75v-28.5A4.25 4.25 0 0 1 12.25 7h3.937a4.25 4.25 0 0 1 4.063-3h7.5a4.25 4.25 0 0 1 4.063 3M18.5 8.25c0 .966.784 1.75 1.75 1.75h7.5a1.75 1.75 0 1 0 0-3.5h-7.5a1.75 1.75 0 0 0-1.75 1.75'/%3E%3C/svg%3E\\\");--success-icon: url(\\\"data:image/svg+xml,%3Csvg xmlns='http://www.w3.org/2000/svg' viewBox='0 0 24 24'%3E%3Cpath fill='%2366ff85' d='M9 16.17L5.53 12.7a.996.996 0 1 0-1.41 1.41l4.18 4.18c.39.39 1.02.39 1.41 0L20.29 7.71a.996.996 0 1 0-1.41-1.41z'/%3E%3C/svg%3E\\\");}pre:has(code) {position: relative;}pre button.rehype-pretty-copy {right: 1px;padding: 0;width: 24px;height: 24px;display: flex;margin-top: 2px;margin-right: 8px;position: absolute;border-radius: 25%;backdrop-filter: blur(3px);\\u0026 span {width: 100%;aspect-ratio: 1 / 1;}\\u0026 .ready {background-image: var(--copy-icon);}\\u0026 .success {display: none; background-image: var(--success-icon);}}\\u0026.rehype-pretty-copied {\\u0026 .success {display: block;} \\u0026 .ready {display: none;}}pre button.rehype-pretty-copy.rehype-pretty-copied {opacity: 1;\\u0026 .ready { display: none; }\\u0026 .success { display: block; }}\\u003c/style\\u003e\\u003c/code\\u003e\\u003c/pre\\u003e\\u003c/figure\\u003e\\n\\u003ch3\\u003eSample views.py\\u003c/h3\\u003e\\n\\u003cp\\u003eView decides what data gets delivered to the template.\\u003c/p\\u003e\\n\\u003cfigure data-rehype-pretty-code-figure=\\\"\\\"\\u003e\\u003cpre style=\\\"background-color:#22272e;color:#adbac7\\\" tabindex=\\\"0\\\" data-language=\\\"python\\\" data-theme=\\\"github-dark-dimmed\\\"\\u003e\\u003ccode data-language=\\\"python\\\" data-theme=\\\"github-dark-dimmed\\\" style=\\\"display: grid;\\\"\\u003e\\u003cspan data-line=\\\"\\\"\\u003e\\u003cspan style=\\\"color:#F47067\\\"\\u003efrom\\u003c/span\\u003e\\u003cspan style=\\\"color:#ADBAC7\\\"\\u003e django.http \\u003c/span\\u003e\\u003cspan style=\\\"color:#F47067\\\"\\u003eimport\\u003c/span\\u003e\\u003cspan style=\\\"color:#ADBAC7\\\"\\u003e HttpResponse\\u003c/span\\u003e\\u003c/span\\u003e\\n\\u003cspan data-line=\\\"\\\"\\u003e \\u003c/span\\u003e\\n\\u003cspan data-line=\\\"\\\"\\u003e\\u003cspan style=\\\"color:#F47067\\\"\\u003edef\\u003c/span\\u003e\\u003cspan style=\\\"color:#DCBDFB\\\"\\u003e index\\u003c/span\\u003e\\u003cspan style=\\\"color:#ADBAC7\\\"\\u003e(request):\\u003c/span\\u003e\\u003c/span\\u003e\\n\\u003cspan data-line=\\\"\\\"\\u003e\\u003cspan style=\\\"color:#F47067\\\"\\u003e    return\\u003c/span\\u003e\\u003cspan style=\\\"color:#ADBAC7\\\"\\u003e HttpResponse(\\u003c/span\\u003e\\u003cspan style=\\\"color:#96D0FF\\\"\\u003e\\\"Django CodeWithHarry Cheatsheet\\\"\\u003c/span\\u003e\\u003cspan style=\\\"color:#ADBAC7\\\"\\u003e)\\u003c/span\\u003e\\u003c/span\\u003e\\u003cbutton type=\\\"button\\\" title=\\\"Copy code\\\" aria-label=\\\"Copy code\\\" data=\\\"from django.http import HttpResponse\\n\\ndef index(request):\\n    return HttpResponse(\\u0026#x22;Django CodeWithHarry Cheatsheet\\u0026#x22;)\\\" class=\\\"rehype-pretty-copy\\\" onclick=\\\"navigator.clipboard.writeText(this.attributes.data.value);this.classList.add(\\u0026#x27;rehype-pretty-copied\\u0026#x27;);window.setTimeout(() =\\u003e this.classList.remove(\\u0026#x27;rehype-pretty-copied\\u0026#x27;), 3000);\\\"\\u003e\\u003cspan class=\\\"ready\\\"\\u003e\\u003c/span\\u003e\\u003cspan class=\\\"success\\\"\\u003e\\u003c/span\\u003e\\u003c/button\\u003e\\u003cstyle\\u003e:root {--copy-icon: url(\\\"data:image/svg+xml,%3Csvg xmlns='http://www.w3.org/2000/svg' viewBox='0 0 48 48'%3E%3Cpath fill='%23adadad' d='M16.187 9.5H12.25a1.75 1.75 0 0 0-1.75 1.75v28.5c0 .967.784 1.75 1.75 1.75h23.5a1.75 1.75 0 0 0 1.75-1.75v-28.5a1.75 1.75 0 0 0-1.75-1.75h-3.937a4.25 4.25 0 0 1-4.063 3h-7.5a4.25 4.25 0 0 1-4.063-3M31.813 7h3.937A4.25 4.25 0 0 1 40 11.25v28.5A4.25 4.25 0 0 1 35.75 44h-23.5A4.25 4.25 0 0 1 8 39.75v-28.5A4.25 4.25 0 0 1 12.25 7h3.937a4.25 4.25 0 0 1 4.063-3h7.5a4.25 4.25 0 0 1 4.063 3M18.5 8.25c0 .966.784 1.75 1.75 1.75h7.5a1.75 1.75 0 1 0 0-3.5h-7.5a1.75 1.75 0 0 0-1.75 1.75'/%3E%3C/svg%3E\\\");--success-icon: url(\\\"data:image/svg+xml,%3Csvg xmlns='http://www.w3.org/2000/svg' viewBox='0 0 24 24'%3E%3Cpath fill='%2366ff85' d='M9 16.17L5.53 12.7a.996.996 0 1 0-1.41 1.41l4.18 4.18c.39.39 1.02.39 1.41 0L20.29 7.71a.996.996 0 1 0-1.41-1.41z'/%3E%3C/svg%3E\\\");}pre:has(code) {position: relative;}pre button.rehype-pretty-copy {right: 1px;padding: 0;width: 24px;height: 24px;display: flex;margin-top: 2px;margin-right: 8px;position: absolute;border-radius: 25%;backdrop-filter: blur(3px);\\u0026 span {width: 100%;aspect-ratio: 1 / 1;}\\u0026 .ready {background-image: var(--copy-icon);}\\u0026 .success {display: none; background-image: var(--success-icon);}}\\u0026.rehype-pretty-copied {\\u0026 .success {display: block;} \\u0026 .ready {display: none;}}pre button.rehype-pretty-copy.rehype-pretty-copied {opacity: 1;\\u0026 .ready { display: none; }\\u0026 .success { display: block; }}\\u003c/style\\u003e\\u003c/code\\u003e\\u003c/pre\\u003e\\u003c/figure\\u003e\\n\\u003ch3\\u003eSample HTML Template\\u003c/h3\\u003e\\n\\u003cp\\u003eA sample \\u003ccode\\u003e.html\\u003c/code\\u003e file that contains HTML, CSS, and Javascript.\\u003c/p\\u003e\\n\\u003cfigure data-rehype-pretty-code-figure=\\\"\\\"\\u003e\\u003cpre style=\\\"background-color:#22272e;color:#adbac7\\\" tabindex=\\\"0\\\" data-language=\\\"html\\\" data-theme=\\\"github-dark-dimmed\\\"\\u003e\\u003ccode data-language=\\\"html\\\" data-theme=\\\"github-dark-dimmed\\\" style=\\\"display: grid;\\\"\\u003e\\u003cspan data-line=\\\"\\\"\\u003e\\u003cspan style=\\\"color:#ADBAC7\\\"\\u003e\\u0026#x3C;!\\u003c/span\\u003e\\u003cspan style=\\\"color:#8DDB8C\\\"\\u003eDOCTYPE\\u003c/span\\u003e\\u003cspan style=\\\"color:#6CB6FF\\\"\\u003e html\\u003c/span\\u003e\\u003cspan style=\\\"color:#ADBAC7\\\"\\u003e\\u003e\\u003c/span\\u003e\\u003c/span\\u003e\\n\\u003cspan data-line=\\\"\\\"\\u003e\\u003cspan style=\\\"color:#ADBAC7\\\"\\u003e\\u0026#x3C;\\u003c/span\\u003e\\u003cspan style=\\\"color:#8DDB8C\\\"\\u003ehtml\\u003c/span\\u003e\\u003cspan style=\\\"color:#6CB6FF\\\"\\u003e lang\\u003c/span\\u003e\\u003cspan style=\\\"color:#ADBAC7\\\"\\u003e=\\u003c/span\\u003e\\u003cspan style=\\\"color:#96D0FF\\\"\\u003e\\\"en\\\"\\u003c/span\\u003e\\u003cspan style=\\\"color:#ADBAC7\\\"\\u003e\\u003e\\u003c/span\\u003e\\u003c/span\\u003e\\n\\u003cspan data-line=\\\"\\\"\\u003e\\u003cspan style=\\\"color:#ADBAC7\\\"\\u003e\\u0026#x3C;\\u003c/span\\u003e\\u003cspan style=\\\"color:#8DDB8C\\\"\\u003ehead\\u003c/span\\u003e\\u003cspan style=\\\"color:#ADBAC7\\\"\\u003e\\u003e\\u003c/span\\u003e\\u003c/span\\u003e\\n\\u003cspan data-line=\\\"\\\"\\u003e\\u003cspan style=\\\"color:#ADBAC7\\\"\\u003e    \\u0026#x3C;\\u003c/span\\u003e\\u003cspan style=\\\"color:#8DDB8C\\\"\\u003emeta\\u003c/span\\u003e\\u003cspan style=\\\"color:#6CB6FF\\\"\\u003e charset\\u003c/span\\u003e\\u003cspan style=\\\"color:#ADBAC7\\\"\\u003e=\\u003c/span\\u003e\\u003cspan style=\\\"color:#96D0FF\\\"\\u003e\\\"UTF-8\\\"\\u003c/span\\u003e\\u003cspan style=\\\"color:#ADBAC7\\\"\\u003e\\u003e\\u003c/span\\u003e\\u003c/span\\u003e\\n\\u003cspan data-line=\\\"\\\"\\u003e\\u003cspan style=\\\"color:#ADBAC7\\\"\\u003e    \\u0026#x3C;\\u003c/span\\u003e\\u003cspan style=\\\"color:#8DDB8C\\\"\\u003emeta\\u003c/span\\u003e\\u003cspan style=\\\"color:#6CB6FF\\\"\\u003e name\\u003c/span\\u003e\\u003cspan style=\\\"color:#ADBAC7\\\"\\u003e=\\u003c/span\\u003e\\u003cspan style=\\\"color:#96D0FF\\\"\\u003e\\\"viewport\\\"\\u003c/span\\u003e\\u003cspan style=\\\"color:#6CB6FF\\\"\\u003e content\\u003c/span\\u003e\\u003cspan style=\\\"color:#ADBAC7\\\"\\u003e=\\u003c/span\\u003e\\u003cspan style=\\\"color:#96D0FF\\\"\\u003e\\\"width=device-width, initial-scale=1.0\\\"\\u003c/span\\u003e\\u003cspan style=\\\"color:#ADBAC7\\\"\\u003e\\u003e\\u003c/span\\u003e\\u003c/span\\u003e\\n\\u003cspan data-line=\\\"\\\"\\u003e\\u003cspan style=\\\"color:#ADBAC7\\\"\\u003e    \\u0026#x3C;\\u003c/span\\u003e\\u003cspan style=\\\"color:#8DDB8C\\\"\\u003emeta\\u003c/span\\u003e\\u003cspan style=\\\"color:#6CB6FF\\\"\\u003e http-equiv\\u003c/span\\u003e\\u003cspan style=\\\"color:#ADBAC7\\\"\\u003e=\\u003c/span\\u003e\\u003cspan style=\\\"color:#96D0FF\\\"\\u003e\\\"X-UA-Compatible\\\"\\u003c/span\\u003e\\u003cspan style=\\\"color:#6CB6FF\\\"\\u003e content\\u003c/span\\u003e\\u003cspan style=\\\"color:#ADBAC7\\\"\\u003e=\\u003c/span\\u003e\\u003cspan style=\\\"color:#96D0FF\\\"\\u003e\\\"ie=edge\\\"\\u003c/span\\u003e\\u003cspan style=\\\"color:#ADBAC7\\\"\\u003e\\u003e\\u003c/span\\u003e\\u003c/span\\u003e\\n\\u003cspan data-line=\\\"\\\"\\u003e\\u003cspan style=\\\"color:#ADBAC7\\\"\\u003e    \\u0026#x3C;\\u003c/span\\u003e\\u003cspan style=\\\"color:#8DDB8C\\\"\\u003etitle\\u003c/span\\u003e\\u003cspan style=\\\"color:#ADBAC7\\\"\\u003e\\u003eCodeWithHarry Cheatsheet\\u0026#x3C;/\\u003c/span\\u003e\\u003cspan style=\\\"color:#8DDB8C\\\"\\u003etitle\\u003c/span\\u003e\\u003cspan style=\\\"color:#ADBAC7\\\"\\u003e\\u003e\\u003c/span\\u003e\\u003c/span\\u003e\\n\\u003cspan data-line=\\\"\\\"\\u003e\\u003cspan style=\\\"color:#ADBAC7\\\"\\u003e\\u0026#x3C;/\\u003c/span\\u003e\\u003cspan style=\\\"color:#8DDB8C\\\"\\u003ehead\\u003c/span\\u003e\\u003cspan style=\\\"color:#ADBAC7\\\"\\u003e\\u003e\\u003c/span\\u003e\\u003c/span\\u003e\\n\\u003cspan data-line=\\\"\\\"\\u003e\\u003cspan style=\\\"color:#ADBAC7\\\"\\u003e\\u0026#x3C;\\u003c/span\\u003e\\u003cspan style=\\\"color:#8DDB8C\\\"\\u003ebody\\u003c/span\\u003e\\u003cspan style=\\\"color:#ADBAC7\\\"\\u003e\\u003e\\u003c/span\\u003e\\u003c/span\\u003e\\n\\u003cspan data-line=\\\"\\\"\\u003e\\u003cspan style=\\\"color:#ADBAC7\\\"\\u003e    \\u0026#x3C;\\u003c/span\\u003e\\u003cspan style=\\\"color:#8DDB8C\\\"\\u003eh1\\u003c/span\\u003e\\u003cspan style=\\\"color:#ADBAC7\\\"\\u003e\\u003eThis is a sample template file.\\u0026#x3C;/\\u003c/span\\u003e\\u003cspan style=\\\"color:#8DDB8C\\\"\\u003eh1\\u003c/span\\u003e\\u003cspan style=\\\"color:#ADBAC7\\\"\\u003e\\u003e\\u003c/span\\u003e\\u003c/span\\u003e\\n\\u003cspan data-line=\\\"\\\"\\u003e\\u003cspan style=\\\"color:#ADBAC7\\\"\\u003e\\u0026#x3C;/\\u003c/span\\u003e\\u003cspan style=\\\"color:#8DDB8C\\\"\\u003ebody\\u003c/span\\u003e\\u003cspan style=\\\"color:#ADBAC7\\\"\\u003e\\u003e\\u003c/span\\u003e\\u003c/span\\u003e\\n\\u003cspan data-line=\\\"\\\"\\u003e\\u003cspan style=\\\"color:#ADBAC7\\\"\\u003e\\u0026#x3C;/\\u003c/span\\u003e\\u003cspan style=\\\"color:#8DDB8C\\\"\\u003ehtml\\u003c/span\\u003e\\u003cspan style=\\\"color:#ADBAC7\\\"\\u003e\\u003e\\u003c/span\\u003e\\u003c/span\\u003e\\u003cbutton type=\\\"button\\\" title=\\\"Copy code\\\" aria-label=\\\"Copy code\\\" data=\\\"\\u003c!DOCTYPE html\\u003e\\n\\u003chtml lang=\\u0026#x22;en\\u0026#x22;\\u003e\\n\\u003chead\\u003e\\n    \\u003cmeta charset=\\u0026#x22;UTF-8\\u0026#x22;\\u003e\\n    \\u003cmeta name=\\u0026#x22;viewport\\u0026#x22; content=\\u0026#x22;width=device-width, initial-scale=1.0\\u0026#x22;\\u003e\\n    \\u003cmeta http-equiv=\\u0026#x22;X-UA-Compatible\\u0026#x22; content=\\u0026#x22;ie=edge\\u0026#x22;\\u003e\\n    \\u003ctitle\\u003eCodeWithHarry Cheatsheet\\u003c/title\\u003e\\n\\u003c/head\\u003e\\n\\u003cbody\\u003e\\n    \\u003ch1\\u003eThis is a sample template file.\\u003c/h1\\u003e\\n\\u003c/body\\u003e\\n\\u003c/html\\u003e\\\" class=\\\"rehype-pretty-copy\\\" onclick=\\\"navigator.clipboard.writeText(this.attributes.data.value);this.classList.add(\\u0026#x27;rehype-pretty-copied\\u0026#x27;);window.setTimeout(() =\\u003e this.classList.remove(\\u0026#x27;rehype-pretty-copied\\u0026#x27;), 3000);\\\"\\u003e\\u003cspan class=\\\"ready\\\"\\u003e\\u003c/span\\u003e\\u003cspan class=\\\"success\\\"\\u003e\\u003c/span\\u003e\\u003c/button\\u003e\\u003cstyle\\u003e:root {--copy-icon: url(\\\"data:image/svg+xml,%3Csvg xmlns='http://www.w3.org/2000/svg' viewBox='0 0 48 48'%3E%3Cpath fill='%23adadad' d='M16.187 9.5H12.25a1.75 1.75 0 0 0-1.75 1.75v28.5c0 .967.784 1.75 1.75 1.75h23.5a1.75 1.75 0 0 0 1.75-1.75v-28.5a1.75 1.75 0 0 0-1.75-1.75h-3.937a4.25 4.25 0 0 1-4.063 3h-7.5a4.25 4.25 0 0 1-4.063-3M31.813 7h3.937A4.25 4.25 0 0 1 40 11.25v28.5A4.25 4.25 0 0 1 35.75 44h-23.5A4.25 4.25 0 0 1 8 39.75v-28.5A4.25 4.25 0 0 1 12.25 7h3.937a4.25 4.25 0 0 1 4.063-3h7.5a4.25 4.25 0 0 1 4.063 3M18.5 8.25c0 .966.784 1.75 1.75 1.75h7.5a1.75 1.75 0 1 0 0-3.5h-7.5a1.75 1.75 0 0 0-1.75 1.75'/%3E%3C/svg%3E\\\");--success-icon: url(\\\"data:image/svg+xml,%3Csvg xmlns='http://www.w3.org/2000/svg' viewBox='0 0 24 24'%3E%3Cpath fill='%2366ff85' d='M9 16.17L5.53 12.7a.996.996 0 1 0-1.41 1.41l4.18 4.18c.39.39 1.02.39 1.41 0L20.29 7.71a.996.996 0 1 0-1.41-1.41z'/%3E%3C/svg%3E\\\");}pre:has(code) {position: relative;}pre button.rehype-pretty-copy {right: 1px;padding: 0;width: 24px;height: 24px;display: flex;margin-top: 2px;margin-right: 8px;position: absolute;border-radius: 25%;backdrop-filter: blur(3px);\\u0026 span {width: 100%;aspect-ratio: 1 / 1;}\\u0026 .ready {background-image: var(--copy-icon);}\\u0026 .success {display: none; background-image: var(--success-icon);}}\\u0026.rehype-pretty-copied {\\u0026 .success {display: block;} \\u0026 .ready {display: none;}}pre button.rehype-pretty-copy.rehype-pretty-copied {opacity: 1;\\u0026 .ready { display: none; }\\u0026 .success { display: block; }}\\u003c/style\\u003e\\u003c/code\\u003e\\u003c/pre\\u003e\\u003c/figure\\u003e\\n\\u003ch2\\u003eViews in Django\\u003c/h2\\u003e\\n\\u003ch3\\u003eSample Function-Based Views\\u003c/h3\\u003e\\n\\u003cp\\u003eA Python function that takes a web request and returns a web response.\\u003c/p\\u003e\\n\\u003cfigure data-rehype-pretty-code-figure=\\\"\\\"\\u003e\\u003cpre style=\\\"background-color:#22272e;color:#adbac7\\\" tabindex=\\\"0\\\" data-language=\\\"python\\\" data-theme=\\\"github-dark-dimmed\\\"\\u003e\\u003ccode data-language=\\\"python\\\" data-theme=\\\"github-dark-dimmed\\\" style=\\\"display: grid;\\\"\\u003e\\u003cspan data-line=\\\"\\\"\\u003e\\u003cspan style=\\\"color:#F47067\\\"\\u003efrom\\u003c/span\\u003e\\u003cspan style=\\\"color:#ADBAC7\\\"\\u003e django.http \\u003c/span\\u003e\\u003cspan style=\\\"color:#F47067\\\"\\u003eimport\\u003c/span\\u003e\\u003cspan style=\\\"color:#ADBAC7\\\"\\u003e HttpResponse\\u003c/span\\u003e\\u003c/span\\u003e\\n\\u003cspan data-line=\\\"\\\"\\u003e \\u003c/span\\u003e\\n\\u003cspan data-line=\\\"\\\"\\u003e\\u003cspan style=\\\"color:#F47067\\\"\\u003edef\\u003c/span\\u003e\\u003cspan style=\\\"color:#DCBDFB\\\"\\u003e index\\u003c/span\\u003e\\u003cspan style=\\\"color:#ADBAC7\\\"\\u003e(request):\\u003c/span\\u003e\\u003c/span\\u003e\\n\\u003cspan data-line=\\\"\\\"\\u003e\\u003cspan style=\\\"color:#F47067\\\"\\u003e    return\\u003c/span\\u003e\\u003cspan style=\\\"color:#ADBAC7\\\"\\u003e HttpResponse(\\u003c/span\\u003e\\u003cspan style=\\\"color:#96D0FF\\\"\\u003e\\\"This is a function based view.\\\"\\u003c/span\\u003e\\u003cspan style=\\\"color:#ADBAC7\\\"\\u003e)\\u003c/span\\u003e\\u003c/span\\u003e\\u003cbutton type=\\\"button\\\" title=\\\"Copy code\\\" aria-label=\\\"Copy code\\\" data=\\\"from django.http import HttpResponse\\n\\ndef index(request):\\n    return HttpResponse(\\u0026#x22;This is a function based view.\\u0026#x22;)\\\" class=\\\"rehype-pretty-copy\\\" onclick=\\\"navigator.clipboard.writeText(this.attributes.data.value);this.classList.add(\\u0026#x27;rehype-pretty-copied\\u0026#x27;);window.setTimeout(() =\\u003e this.classList.remove(\\u0026#x27;rehype-pretty-copied\\u0026#x27;), 3000);\\\"\\u003e\\u003cspan class=\\\"ready\\\"\\u003e\\u003c/span\\u003e\\u003cspan class=\\\"success\\\"\\u003e\\u003c/span\\u003e\\u003c/button\\u003e\\u003cstyle\\u003e:root {--copy-icon: url(\\\"data:image/svg+xml,%3Csvg xmlns='http://www.w3.org/2000/svg' viewBox='0 0 48 48'%3E%3Cpath fill='%23adadad' d='M16.187 9.5H12.25a1.75 1.75 0 0 0-1.75 1.75v28.5c0 .967.784 1.75 1.75 1.75h23.5a1.75 1.75 0 0 0 1.75-1.75v-28.5a1.75 1.75 0 0 0-1.75-1.75h-3.937a4.25 4.25 0 0 1-4.063 3h-7.5a4.25 4.25 0 0 1-4.063-3M31.813 7h3.937A4.25 4.25 0 0 1 40 11.25v28.5A4.25 4.25 0 0 1 35.75 44h-23.5A4.25 4.25 0 0 1 8 39.75v-28.5A4.25 4.25 0 0 1 12.25 7h3.937a4.25 4.25 0 0 1 4.063-3h7.5a4.25 4.25 0 0 1 4.063 3M18.5 8.25c0 .966.784 1.75 1.75 1.75h7.5a1.75 1.75 0 1 0 0-3.5h-7.5a1.75 1.75 0 0 0-1.75 1.75'/%3E%3C/svg%3E\\\");--success-icon: url(\\\"data:image/svg+xml,%3Csvg xmlns='http://www.w3.org/2000/svg' viewBox='0 0 24 24'%3E%3Cpath fill='%2366ff85' d='M9 16.17L5.53 12.7a.996.996 0 1 0-1.41 1.41l4.18 4.18c.39.39 1.02.39 1.41 0L20.29 7.71a.996.996 0 1 0-1.41-1.41z'/%3E%3C/svg%3E\\\");}pre:has(code) {position: relative;}pre button.rehype-pretty-copy {right: 1px;padding: 0;width: 24px;height: 24px;display: flex;margin-top: 2px;margin-right: 8px;position: absolute;border-radius: 25%;backdrop-filter: blur(3px);\\u0026 span {width: 100%;aspect-ratio: 1 / 1;}\\u0026 .ready {background-image: var(--copy-icon);}\\u0026 .success {display: none; background-image: var(--success-icon);}}\\u0026.rehype-pretty-copied {\\u0026 .success {display: block;} \\u0026 .ready {display: none;}}pre button.rehype-pretty-copy.rehype-pretty-copied {opacity: 1;\\u0026 .ready { display: none; }\\u0026 .success { display: block; }}\\u003c/style\\u003e\\u003c/code\\u003e\\u003c/pre\\u003e\\u003c/figure\\u003e\\n\\u003ch3\\u003eSample Class-Based Views\\u003c/h3\\u003e\\n\\u003cp\\u003eDjango's class-based views provide an object-oriented way of organizing your view code.\\u003c/p\\u003e\\n\\u003cfigure data-rehype-pretty-code-figure=\\\"\\\"\\u003e\\u003cpre style=\\\"background-color:#22272e;color:#adbac7\\\" tabindex=\\\"0\\\" data-language=\\\"python\\\" data-theme=\\\"github-dark-dimmed\\\"\\u003e\\u003ccode data-language=\\\"python\\\" data-theme=\\\"github-dark-dimmed\\\" style=\\\"display: grid;\\\"\\u003e\\u003cspan data-line=\\\"\\\"\\u003e\\u003cspan style=\\\"color:#F47067\\\"\\u003efrom\\u003c/span\\u003e\\u003cspan style=\\\"color:#ADBAC7\\\"\\u003e django.views \\u003c/span\\u003e\\u003cspan style=\\\"color:#F47067\\\"\\u003eimport\\u003c/span\\u003e\\u003cspan style=\\\"color:#ADBAC7\\\"\\u003e View\\u003c/span\\u003e\\u003c/span\\u003e\\n\\u003cspan data-line=\\\"\\\"\\u003e \\u003c/span\\u003e\\n\\u003cspan data-line=\\\"\\\"\\u003e\\u003cspan style=\\\"color:#F47067\\\"\\u003eclass\\u003c/span\\u003e\\u003cspan style=\\\"color:#F69D50\\\"\\u003e SimpleClassBasedView\\u003c/span\\u003e\\u003cspan style=\\\"color:#ADBAC7\\\"\\u003e(\\u003c/span\\u003e\\u003cspan style=\\\"color:#6CB6FF\\\"\\u003eView\\u003c/span\\u003e\\u003cspan style=\\\"color:#ADBAC7\\\"\\u003e):\\u003c/span\\u003e\\u003c/span\\u003e\\n\\u003cspan data-line=\\\"\\\"\\u003e\\u003cspan style=\\\"color:#F47067\\\"\\u003e    def\\u003c/span\\u003e\\u003cspan style=\\\"color:#DCBDFB\\\"\\u003e get\\u003c/span\\u003e\\u003cspan style=\\\"color:#ADBAC7\\\"\\u003e(self, request):\\u003c/span\\u003e\\u003c/span\\u003e\\n\\u003cspan data-line=\\\"\\\"\\u003e\\u003cspan style=\\\"color:#F47067\\\"\\u003e        pass\\u003c/span\\u003e\\u003cspan style=\\\"color:#768390\\\"\\u003e # Code to process a GET request\\u003c/span\\u003e\\u003c/span\\u003e\\u003cbutton type=\\\"button\\\" title=\\\"Copy code\\\" aria-label=\\\"Copy code\\\" data=\\\"from django.views import View\\n\\nclass SimpleClassBasedView(View):\\n    def get(self, request):\\n        pass # Code to process a GET request\\\" class=\\\"rehype-pretty-copy\\\" onclick=\\\"navigator.clipboard.writeText(this.attributes.data.value);this.classList.add(\\u0026#x27;rehype-pretty-copied\\u0026#x27;);window.setTimeout(() =\\u003e this.classList.remove(\\u0026#x27;rehype-pretty-copied\\u0026#x27;), 3000);\\\"\\u003e\\u003cspan class=\\\"ready\\\"\\u003e\\u003c/span\\u003e\\u003cspan class=\\\"success\\\"\\u003e\\u003c/span\\u003e\\u003c/button\\u003e\\u003cstyle\\u003e:root {--copy-icon: url(\\\"data:image/svg+xml,%3Csvg xmlns='http://www.w3.org/2000/svg' viewBox='0 0 48 48'%3E%3Cpath fill='%23adadad' d='M16.187 9.5H12.25a1.75 1.75 0 0 0-1.75 1.75v28.5c0 .967.784 1.75 1.75 1.75h23.5a1.75 1.75 0 0 0 1.75-1.75v-28.5a1.75 1.75 0 0 0-1.75-1.75h-3.937a4.25 4.25 0 0 1-4.063 3h-7.5a4.25 4.25 0 0 1-4.063-3M31.813 7h3.937A4.25 4.25 0 0 1 40 11.25v28.5A4.25 4.25 0 0 1 35.75 44h-23.5A4.25 4.25 0 0 1 8 39.75v-28.5A4.25 4.25 0 0 1 12.25 7h3.937a4.25 4.25 0 0 1 4.063-3h7.5a4.25 4.25 0 0 1 4.063 3M18.5 8.25c0 .966.784 1.75 1.75 1.75h7.5a1.75 1.75 0 1 0 0-3.5h-7.5a1.75 1.75 0 0 0-1.75 1.75'/%3E%3C/svg%3E\\\");--success-icon: url(\\\"data:image/svg+xml,%3Csvg xmlns='http://www.w3.org/2000/svg' viewBox='0 0 24 24'%3E%3Cpath fill='%2366ff85' d='M9 16.17L5.53 12.7a.996.996 0 1 0-1.41 1.41l4.18 4.18c.39.39 1.02.39 1.41 0L20.29 7.71a.996.996 0 1 0-1.41-1.41z'/%3E%3C/svg%3E\\\");}pre:has(code) {position: relative;}pre button.rehype-pretty-copy {right: 1px;padding: 0;width: 24px;height: 24px;display: flex;margin-top: 2px;margin-right: 8px;position: absolute;border-radius: 25%;backdrop-filter: blur(3px);\\u0026 span {width: 100%;aspect-ratio: 1 / 1;}\\u0026 .ready {background-image: var(--copy-icon);}\\u0026 .success {display: none; background-image: var(--success-icon);}}\\u0026.rehype-pretty-copied {\\u0026 .success {display: block;} \\u0026 .ready {display: none;}}pre button.rehype-pretty-copy.rehype-pretty-copied {opacity: 1;\\u0026 .ready { display: none; }\\u0026 .success { display: block; }}\\u003c/style\\u003e\\u003c/code\\u003e\\u003c/pre\\u003e\\u003c/figure\\u003e\\n\\u003ch2\\u003eURLs in Django\\u003c/h2\\u003e\\n\\u003cp\\u003eSet of URL patterns to be matched against the requested URL.\\u003c/p\\u003e\\n\\u003ch3\\u003eSample urls.py file1\\u003c/h3\\u003e\\n\\u003cfigure data-rehype-pretty-code-figure=\\\"\\\"\\u003e\\u003cpre style=\\\"background-color:#22272e;color:#adbac7\\\" tabindex=\\\"0\\\" data-language=\\\"python\\\" data-theme=\\\"github-dark-dimmed\\\"\\u003e\\u003ccode data-language=\\\"python\\\" data-theme=\\\"github-dark-dimmed\\\" style=\\\"display: grid;\\\"\\u003e\\u003cspan data-line=\\\"\\\"\\u003e\\u003cspan style=\\\"color:#F47067\\\"\\u003efrom\\u003c/span\\u003e\\u003cspan style=\\\"color:#ADBAC7\\\"\\u003e django.contrib \\u003c/span\\u003e\\u003cspan style=\\\"color:#F47067\\\"\\u003eimport\\u003c/span\\u003e\\u003cspan style=\\\"color:#ADBAC7\\\"\\u003e admin\\u003c/span\\u003e\\u003c/span\\u003e\\n\\u003cspan data-line=\\\"\\\"\\u003e\\u003cspan style=\\\"color:#F47067\\\"\\u003efrom\\u003c/span\\u003e\\u003cspan style=\\\"color:#ADBAC7\\\"\\u003e django.urls \\u003c/span\\u003e\\u003cspan style=\\\"color:#F47067\\\"\\u003eimport\\u003c/span\\u003e\\u003cspan style=\\\"color:#ADBAC7\\\"\\u003e path\\u003c/span\\u003e\\u003c/span\\u003e\\n\\u003cspan data-line=\\\"\\\"\\u003e\\u003cspan style=\\\"color:#F47067\\\"\\u003efrom\\u003c/span\\u003e\\u003cspan style=\\\"color:#ADBAC7\\\"\\u003e . \\u003c/span\\u003e\\u003cspan style=\\\"color:#F47067\\\"\\u003eimport\\u003c/span\\u003e\\u003cspan style=\\\"color:#ADBAC7\\\"\\u003e views\\u003c/span\\u003e\\u003c/span\\u003e\\n\\u003cspan data-line=\\\"\\\"\\u003e \\u003c/span\\u003e\\n\\u003cspan data-line=\\\"\\\"\\u003e\\u003cspan style=\\\"color:#ADBAC7\\\"\\u003eurlPatterns \\u003c/span\\u003e\\u003cspan style=\\\"color:#F47067\\\"\\u003e=\\u003c/span\\u003e\\u003cspan style=\\\"color:#ADBAC7\\\"\\u003e [\\u003c/span\\u003e\\u003c/span\\u003e\\n\\u003cspan data-line=\\\"\\\"\\u003e\\u003cspan style=\\\"color:#ADBAC7\\\"\\u003e    path(\\u003c/span\\u003e\\u003cspan style=\\\"color:#96D0FF\\\"\\u003e'admin/'\\u003c/span\\u003e\\u003cspan style=\\\"color:#ADBAC7\\\"\\u003e, admin.site.urls),\\u003c/span\\u003e\\u003c/span\\u003e\\n\\u003cspan data-line=\\\"\\\"\\u003e\\u003cspan style=\\\"color:#ADBAC7\\\"\\u003e    path(\\u003c/span\\u003e\\u003cspan style=\\\"color:#96D0FF\\\"\\u003e''\\u003c/span\\u003e\\u003cspan style=\\\"color:#ADBAC7\\\"\\u003e, views.index, \\u003c/span\\u003e\\u003cspan style=\\\"color:#F69D50\\\"\\u003ename\\u003c/span\\u003e\\u003cspan style=\\\"color:#F47067\\\"\\u003e=\\u003c/span\\u003e\\u003cspan style=\\\"color:#96D0FF\\\"\\u003e'index'\\u003c/span\\u003e\\u003cspan style=\\\"color:#ADBAC7\\\"\\u003e),\\u003c/span\\u003e\\u003c/span\\u003e\\n\\u003cspan data-line=\\\"\\\"\\u003e\\u003cspan style=\\\"color:#ADBAC7\\\"\\u003e    path(\\u003c/span\\u003e\\u003cspan style=\\\"color:#96D0FF\\\"\\u003e'about/'\\u003c/span\\u003e\\u003cspan style=\\\"color:#ADBAC7\\\"\\u003e, views.about, \\u003c/span\\u003e\\u003cspan style=\\\"color:#F69D50\\\"\\u003ename\\u003c/span\\u003e\\u003cspan style=\\\"color:#F47067\\\"\\u003e=\\u003c/span\\u003e\\u003cspan style=\\\"color:#96D0FF\\\"\\u003e'about'\\u003c/span\\u003e\\u003cspan style=\\\"color:#ADBAC7\\\"\\u003e),\\u003c/span\\u003e\\u003c/span\\u003e\\n\\u003cspan data-line=\\\"\\\"\\u003e\\u003cspan style=\\\"color:#ADBAC7\\\"\\u003e]\\u003c/span\\u003e\\u003c/span\\u003e\\u003cbutton type=\\\"button\\\" title=\\\"Copy code\\\" aria-label=\\\"Copy code\\\" data=\\\"from django.contrib import admin\\nfrom django.urls import path\\nfrom . import views\\n\\nurlPatterns = [\\n    path(\\u0026#x27;admin/\\u0026#x27;, admin.site.urls),\\n    path(\\u0026#x27;\\u0026#x27;, views.index, name=\\u0026#x27;index\\u0026#x27;),\\n    path(\\u0026#x27;about/\\u0026#x27;, views.about, name=\\u0026#x27;about\\u0026#x27;),\\n]\\\" class=\\\"rehype-pretty-copy\\\" onclick=\\\"navigator.clipboard.writeText(this.attributes.data.value);this.classList.add(\\u0026#x27;rehype-pretty-copied\\u0026#x27;);window.setTimeout(() =\\u003e this.classList.remove(\\u0026#x27;rehype-pretty-copied\\u0026#x27;), 3000);\\\"\\u003e\\u003cspan class=\\\"ready\\\"\\u003e\\u003c/span\\u003e\\u003cspan class=\\\"success\\\"\\u003e\\u003c/span\\u003e\\u003c/button\\u003e\\u003cstyle\\u003e:root {--copy-icon: url(\\\"data:image/svg+xml,%3Csvg xmlns='http://www.w3.org/2000/svg' viewBox='0 0 48 48'%3E%3Cpath fill='%23adadad' d='M16.187 9.5H12.25a1.75 1.75 0 0 0-1.75 1.75v28.5c0 .967.784 1.75 1.75 1.75h23.5a1.75 1.75 0 0 0 1.75-1.75v-28.5a1.75 1.75 0 0 0-1.75-1.75h-3.937a4.25 4.25 0 0 1-4.063 3h-7.5a4.25 4.25 0 0 1-4.063-3M31.813 7h3.937A4.25 4.25 0 0 1 40 11.25v28.5A4.25 4.25 0 0 1 35.75 44h-23.5A4.25 4.25 0 0 1 8 39.75v-28.5A4.25 4.25 0 0 1 12.25 7h3.937a4.25 4.25 0 0 1 4.063-3h7.5a4.25 4.25 0 0 1 4.063 3M18.5 8.25c0 .966.784 1.75 1.75 1.75h7.5a1.75 1.75 0 1 0 0-3.5h-7.5a1.75 1.75 0 0 0-1.75 1.75'/%3E%3C/svg%3E\\\");--success-icon: url(\\\"data:image/svg+xml,%3Csvg xmlns='http://www.w3.org/2000/svg' viewBox='0 0 24 24'%3E%3Cpath fill='%2366ff85' d='M9 16.17L5.53 12.7a.996.996 0 1 0-1.41 1.41l4.18 4.18c.39.39 1.02.39 1.41 0L20.29 7.71a.996.996 0 1 0-1.41-1.41z'/%3E%3C/svg%3E\\\");}pre:has(code) {position: relative;}pre button.rehype-pretty-copy {right: 1px;padding: 0;width: 24px;height: 24px;display: flex;margin-top: 2px;margin-right: 8px;position: absolute;border-radius: 25%;backdrop-filter: blur(3px);\\u0026 span {width: 100%;aspect-ratio: 1 / 1;}\\u0026 .ready {background-image: var(--copy-icon);}\\u0026 .success {display: none; background-image: var(--success-icon);}}\\u0026.rehype-pretty-copied {\\u0026 .success {display: block;} \\u0026 .ready {display: none;}}pre button.rehype-pretty-copy.rehype-pretty-copied {opacity: 1;\\u0026 .ready { display: none; }\\u0026 .success { display: block; }}\\u003c/style\\u003e\\u003c/code\\u003e\\u003c/pre\\u003e\\u003c/figure\\u003e\\n\\u003ch3\\u003eSample urls.py file2\\u003c/h3\\u003e\\n\\u003cfigure data-rehype-pretty-code-figure=\\\"\\\"\\u003e\\u003cpre style=\\\"background-color:#22272e;color:#adbac7\\\" tabindex=\\\"0\\\" data-language=\\\"python\\\" data-theme=\\\"github-dark-dimmed\\\"\\u003e\\u003ccode data-language=\\\"python\\\" data-theme=\\\"github-dark-dimmed\\\" style=\\\"display: grid;\\\"\\u003e\\u003cspan data-line=\\\"\\\"\\u003e\\u003cspan style=\\\"color:#F47067\\\"\\u003efrom\\u003c/span\\u003e\\u003cspan style=\\\"color:#ADBAC7\\\"\\u003e django.urls \\u003c/span\\u003e\\u003cspan style=\\\"color:#F47067\\\"\\u003eimport\\u003c/span\\u003e\\u003cspan style=\\\"color:#ADBAC7\\\"\\u003e include, path\\u003c/span\\u003e\\u003c/span\\u003e\\n\\u003cspan data-line=\\\"\\\"\\u003e \\u003c/span\\u003e\\n\\u003cspan data-line=\\\"\\\"\\u003e\\u003cspan style=\\\"color:#ADBAC7\\\"\\u003eurlpatterns \\u003c/span\\u003e\\u003cspan style=\\\"color:#F47067\\\"\\u003e=\\u003c/span\\u003e\\u003cspan style=\\\"color:#ADBAC7\\\"\\u003e [\\u003c/span\\u003e\\u003c/span\\u003e\\n\\u003cspan data-line=\\\"\\\"\\u003e\\u003cspan style=\\\"color:#768390\\\"\\u003e    # ... snip ...\\u003c/span\\u003e\\u003c/span\\u003e\\n\\u003cspan data-line=\\\"\\\"\\u003e\\u003cspan style=\\\"color:#ADBAC7\\\"\\u003e    path(\\u003c/span\\u003e\\u003cspan style=\\\"color:#96D0FF\\\"\\u003e'community/'\\u003c/span\\u003e\\u003cspan style=\\\"color:#ADBAC7\\\"\\u003e, include(\\u003c/span\\u003e\\u003cspan style=\\\"color:#96D0FF\\\"\\u003e'aggregator.urls'\\u003c/span\\u003e\\u003cspan style=\\\"color:#ADBAC7\\\"\\u003e)),\\u003c/span\\u003e\\u003c/span\\u003e\\n\\u003cspan data-line=\\\"\\\"\\u003e\\u003cspan style=\\\"color:#ADBAC7\\\"\\u003e    path(\\u003c/span\\u003e\\u003cspan style=\\\"color:#96D0FF\\\"\\u003e'contact/'\\u003c/span\\u003e\\u003cspan style=\\\"color:#ADBAC7\\\"\\u003e, include(\\u003c/span\\u003e\\u003cspan style=\\\"color:#96D0FF\\\"\\u003e'contact.urls'\\u003c/span\\u003e\\u003cspan style=\\\"color:#ADBAC7\\\"\\u003e)),\\u003c/span\\u003e\\u003c/span\\u003e\\n\\u003cspan data-line=\\\"\\\"\\u003e\\u003cspan style=\\\"color:#768390\\\"\\u003e    # ... snip ...\\u003c/span\\u003e\\u003c/span\\u003e\\n\\u003cspan data-line=\\\"\\\"\\u003e\\u003cspan style=\\\"color:#ADBAC7\\\"\\u003e]\\u003c/span\\u003e\\u003c/span\\u003e\\u003cbutton type=\\\"button\\\" title=\\\"Copy code\\\" aria-label=\\\"Copy code\\\" data=\\\"from django.urls import include, path\\n\\nurlpatterns = [\\n    # ... snip ...\\n    path(\\u0026#x27;community/\\u0026#x27;, include(\\u0026#x27;aggregator.urls\\u0026#x27;)),\\n    path(\\u0026#x27;contact/\\u0026#x27;, include(\\u0026#x27;contact.urls\\u0026#x27;)),\\n    # ... snip ...\\n]\\\" class=\\\"rehype-pretty-copy\\\" onclick=\\\"navigator.clipboard.writeText(this.attributes.data.value);this.classList.add(\\u0026#x27;rehype-pretty-copied\\u0026#x27;);window.setTimeout(() =\\u003e this.classList.remove(\\u0026#x27;rehype-pretty-copied\\u0026#x27;), 3000);\\\"\\u003e\\u003cspan class=\\\"ready\\\"\\u003e\\u003c/span\\u003e\\u003cspan class=\\\"success\\\"\\u003e\\u003c/span\\u003e\\u003c/button\\u003e\\u003cstyle\\u003e:root {--copy-icon: url(\\\"data:image/svg+xml,%3Csvg xmlns='http://www.w3.org/2000/svg' viewBox='0 0 48 48'%3E%3Cpath fill='%23adadad' d='M16.187 9.5H12.25a1.75 1.75 0 0 0-1.75 1.75v28.5c0 .967.784 1.75 1.75 1.75h23.5a1.75 1.75 0 0 0 1.75-1.75v-28.5a1.75 1.75 0 0 0-1.75-1.75h-3.937a4.25 4.25 0 0 1-4.063 3h-7.5a4.25 4.25 0 0 1-4.063-3M31.813 7h3.937A4.25 4.25 0 0 1 40 11.25v28.5A4.25 4.25 0 0 1 35.75 44h-23.5A4.25 4.25 0 0 1 8 39.75v-28.5A4.25 4.25 0 0 1 12.25 7h3.937a4.25 4.25 0 0 1 4.063-3h7.5a4.25 4.25 0 0 1 4.063 3M18.5 8.25c0 .966.784 1.75 1.75 1.75h7.5a1.75 1.75 0 1 0 0-3.5h-7.5a1.75 1.75 0 0 0-1.75 1.75'/%3E%3C/svg%3E\\\");--success-icon: url(\\\"data:image/svg+xml,%3Csvg xmlns='http://www.w3.org/2000/svg' viewBox='0 0 24 24'%3E%3Cpath fill='%2366ff85' d='M9 16.17L5.53 12.7a.996.996 0 1 0-1.41 1.41l4.18 4.18c.39.39 1.02.39 1.41 0L20.29 7.71a.996.996 0 1 0-1.41-1.41z'/%3E%3C/svg%3E\\\");}pre:has(code) {position: relative;}pre button.rehype-pretty-copy {right: 1px;padding: 0;width: 24px;height: 24px;display: flex;margin-top: 2px;margin-right: 8px;position: absolute;border-radius: 25%;backdrop-filter: blur(3px);\\u0026 span {width: 100%;aspect-ratio: 1 / 1;}\\u0026 .ready {background-image: var(--copy-icon);}\\u0026 .success {display: none; background-image: var(--success-icon);}}\\u0026.rehype-pretty-copied {\\u0026 .success {display: block;} \\u0026 .ready {display: none;}}pre button.rehype-pretty-copy.rehype-pretty-copied {opacity: 1;\\u0026 .ready { display: none; }\\u0026 .success { display: block; }}\\u003c/style\\u003e\\u003c/code\\u003e\\u003c/pre\\u003e\\u003c/figure\\u003e\\n\\u003ch2\\u003eForms in Django\\u003c/h2\\u003e\\n\\u003cp\\u003eSimilar to HTML forms but are created by Django using the form field.\\u003c/p\\u003e\\n\\u003ch3\\u003eSample Django form\\u003c/h3\\u003e\\n\\u003cfigure data-rehype-pretty-code-figure=\\\"\\\"\\u003e\\u003cpre style=\\\"background-color:#22272e;color:#adbac7\\\" tabindex=\\\"0\\\" data-language=\\\"python\\\" data-theme=\\\"github-dark-dimmed\\\"\\u003e\\u003ccode data-language=\\\"python\\\" data-theme=\\\"github-dark-dimmed\\\" style=\\\"display: grid;\\\"\\u003e\\u003cspan data-line=\\\"\\\"\\u003e\\u003cspan style=\\\"color:#F47067\\\"\\u003efrom\\u003c/span\\u003e\\u003cspan style=\\\"color:#ADBAC7\\\"\\u003e django \\u003c/span\\u003e\\u003cspan style=\\\"color:#F47067\\\"\\u003eimport\\u003c/span\\u003e\\u003cspan style=\\\"color:#ADBAC7\\\"\\u003e forms\\u003c/span\\u003e\\u003c/span\\u003e\\n\\u003cspan data-line=\\\"\\\"\\u003e \\u003c/span\\u003e\\n\\u003cspan data-line=\\\"\\\"\\u003e\\u003cspan style=\\\"color:#768390\\\"\\u003e# creating a form\\u003c/span\\u003e\\u003c/span\\u003e\\n\\u003cspan data-line=\\\"\\\"\\u003e\\u003cspan style=\\\"color:#F47067\\\"\\u003eclass\\u003c/span\\u003e\\u003cspan style=\\\"color:#F69D50\\\"\\u003e SampleForm\\u003c/span\\u003e\\u003cspan style=\\\"color:#ADBAC7\\\"\\u003e(\\u003c/span\\u003e\\u003cspan style=\\\"color:#6CB6FF\\\"\\u003eforms\\u003c/span\\u003e\\u003cspan style=\\\"color:#ADBAC7\\\"\\u003e.\\u003c/span\\u003e\\u003cspan style=\\\"color:#6CB6FF\\\"\\u003eForm\\u003c/span\\u003e\\u003cspan style=\\\"color:#ADBAC7\\\"\\u003e):\\u003c/span\\u003e\\u003c/span\\u003e\\n\\u003cspan data-line=\\\"\\\"\\u003e\\u003cspan style=\\\"color:#ADBAC7\\\"\\u003e    name \\u003c/span\\u003e\\u003cspan style=\\\"color:#F47067\\\"\\u003e=\\u003c/span\\u003e\\u003cspan style=\\\"color:#ADBAC7\\\"\\u003e forms.CharField()\\u003c/span\\u003e\\u003c/span\\u003e\\n\\u003cspan data-line=\\\"\\\"\\u003e\\u003cspan style=\\\"color:#ADBAC7\\\"\\u003e    description \\u003c/span\\u003e\\u003cspan style=\\\"color:#F47067\\\"\\u003e=\\u003c/span\\u003e\\u003cspan style=\\\"color:#ADBAC7\\\"\\u003e forms.CharField()\\u003c/span\\u003e\\u003c/span\\u003e\\u003cbutton type=\\\"button\\\" title=\\\"Copy code\\\" aria-label=\\\"Copy code\\\" data=\\\"from django import forms\\n\\n# creating a form\\nclass SampleForm(forms.Form):\\n    name = forms.CharField()\\n    description = forms.CharField()\\\" class=\\\"rehype-pretty-copy\\\" onclick=\\\"navigator.clipboard.writeText(this.attributes.data.value);this.classList.add(\\u0026#x27;rehype-pretty-copied\\u0026#x27;);window.setTimeout(() =\\u003e this.classList.remove(\\u0026#x27;rehype-pretty-copied\\u0026#x27;), 3000);\\\"\\u003e\\u003cspan class=\\\"ready\\\"\\u003e\\u003c/span\\u003e\\u003cspan class=\\\"success\\\"\\u003e\\u003c/span\\u003e\\u003c/button\\u003e\\u003cstyle\\u003e:root {--copy-icon: url(\\\"data:image/svg+xml,%3Csvg xmlns='http://www.w3.org/2000/svg' viewBox='0 0 48 48'%3E%3Cpath fill='%23adadad' d='M16.187 9.5H12.25a1.75 1.75 0 0 0-1.75 1.75v28.5c0 .967.784 1.75 1.75 1.75h23.5a1.75 1.75 0 0 0 1.75-1.75v-28.5a1.75 1.75 0 0 0-1.75-1.75h-3.937a4.25 4.25 0 0 1-4.063 3h-7.5a4.25 4.25 0 0 1-4.063-3M31.813 7h3.937A4.25 4.25 0 0 1 40 11.25v28.5A4.25 4.25 0 0 1 35.75 44h-23.5A4.25 4.25 0 0 1 8 39.75v-28.5A4.25 4.25 0 0 1 12.25 7h3.937a4.25 4.25 0 0 1 4.063-3h7.5a4.25 4.25 0 0 1 4.063 3M18.5 8.25c0 .966.784 1.75 1.75 1.75h7.5a1.75 1.75 0 1 0 0-3.5h-7.5a1.75 1.75 0 0 0-1.75 1.75'/%3E%3C/svg%3E\\\");--success-icon: url(\\\"data:image/svg+xml,%3Csvg xmlns='http://www.w3.org/2000/svg' viewBox='0 0 24 24'%3E%3Cpath fill='%2366ff85' d='M9 16.17L5.53 12.7a.996.996 0 1 0-1.41 1.41l4.18 4.18c.39.39 1.02.39 1.41 0L20.29 7.71a.996.996 0 1 0-1.41-1.41z'/%3E%3C/svg%3E\\\");}pre:has(code) {position: relative;}pre button.rehype-pretty-copy {right: 1px;padding: 0;width: 24px;height: 24px;display: flex;margin-top: 2px;margin-right: 8px;position: absolute;border-radius: 25%;backdrop-filter: blur(3px);\\u0026 span {width: 100%;aspect-ratio: 1 / 1;}\\u0026 .ready {background-image: var(--copy-icon);}\\u0026 .success {display: none; background-image: var(--success-icon);}}\\u0026.rehype-pretty-copied {\\u0026 .success {display: block;} \\u0026 .ready {display: none;}}pre button.rehype-pretty-copy.rehype-pretty-copied {opacity: 1;\\u0026 .ready { display: none; }\\u0026 .success { display: block; }}\\u003c/style\\u003e\\u003c/code\\u003e\\u003c/pre\\u003e\\u003c/figure\\u003e\\n\\u003ch2\\u003eApps in Django\\u003c/h2\\u003e\\n\\u003cp\\u003eApps in Django are like independent modules for different functionalities.\\u003c/p\\u003e\\n\\u003ch3\\u003eCreating an app\\u003c/h3\\u003e\\n\\u003cfigure data-rehype-pretty-code-figure=\\\"\\\"\\u003e\\u003cpre style=\\\"background-color:#22272e;color:#adbac7\\\" tabindex=\\\"0\\\" data-language=\\\"python\\\" data-theme=\\\"github-dark-dimmed\\\"\\u003e\\u003ccode data-language=\\\"python\\\" data-theme=\\\"github-dark-dimmed\\\" style=\\\"display: grid;\\\"\\u003e\\u003cspan data-line=\\\"\\\"\\u003e\\u003cspan style=\\\"color:#ADBAC7\\\"\\u003epython manage.py startapp AppName\\u003c/span\\u003e\\u003c/span\\u003e\\u003cbutton type=\\\"button\\\" title=\\\"Copy code\\\" aria-label=\\\"Copy code\\\" data=\\\"python manage.py startapp AppName\\\" class=\\\"rehype-pretty-copy\\\" onclick=\\\"navigator.clipboard.writeText(this.attributes.data.value);this.classList.add(\\u0026#x27;rehype-pretty-copied\\u0026#x27;);window.setTimeout(() =\\u003e this.classList.remove(\\u0026#x27;rehype-pretty-copied\\u0026#x27;), 3000);\\\"\\u003e\\u003cspan class=\\\"ready\\\"\\u003e\\u003c/span\\u003e\\u003cspan class=\\\"success\\\"\\u003e\\u003c/span\\u003e\\u003c/button\\u003e\\u003cstyle\\u003e:root {--copy-icon: url(\\\"data:image/svg+xml,%3Csvg xmlns='http://www.w3.org/2000/svg' viewBox='0 0 48 48'%3E%3Cpath fill='%23adadad' d='M16.187 9.5H12.25a1.75 1.75 0 0 0-1.75 1.75v28.5c0 .967.784 1.75 1.75 1.75h23.5a1.75 1.75 0 0 0 1.75-1.75v-28.5a1.75 1.75 0 0 0-1.75-1.75h-3.937a4.25 4.25 0 0 1-4.063 3h-7.5a4.25 4.25 0 0 1-4.063-3M31.813 7h3.937A4.25 4.25 0 0 1 40 11.25v28.5A4.25 4.25 0 0 1 35.75 44h-23.5A4.25 4.25 0 0 1 8 39.75v-28.5A4.25 4.25 0 0 1 12.25 7h3.937a4.25 4.25 0 0 1 4.063-3h7.5a4.25 4.25 0 0 1 4.063 3M18.5 8.25c0 .966.784 1.75 1.75 1.75h7.5a1.75 1.75 0 1 0 0-3.5h-7.5a1.75 1.75 0 0 0-1.75 1.75'/%3E%3C/svg%3E\\\");--success-icon: url(\\\"data:image/svg+xml,%3Csvg xmlns='http://www.w3.org/2000/svg' viewBox='0 0 24 24'%3E%3Cpath fill='%2366ff85' d='M9 16.17L5.53 12.7a.996.996 0 1 0-1.41 1.41l4.18 4.18c.39.39 1.02.39 1.41 0L20.29 7.71a.996.996 0 1 0-1.41-1.41z'/%3E%3C/svg%3E\\\");}pre:has(code) {position: relative;}pre button.rehype-pretty-copy {right: 1px;padding: 0;width: 24px;height: 24px;display: flex;margin-top: 2px;margin-right: 8px;position: absolute;border-radius: 25%;backdrop-filter: blur(3px);\\u0026 span {width: 100%;aspect-ratio: 1 / 1;}\\u0026 .ready {background-image: var(--copy-icon);}\\u0026 .success {display: none; background-image: var(--success-icon);}}\\u0026.rehype-pretty-copied {\\u0026 .success {display: block;} \\u0026 .ready {display: none;}}pre button.rehype-pretty-copy.rehype-pretty-copied {opacity: 1;\\u0026 .ready { display: none; }\\u0026 .success { display: block; }}\\u003c/style\\u003e\\u003c/code\\u003e\\u003c/pre\\u003e\\u003c/figure\\u003e\\n\\u003ch3\\u003eListing app in the settings.py\\u003c/h3\\u003e\\n\\u003cp\\u003eAfter creating an app, we need to list the app name in \\u003ccode\\u003eINSTALLED_APPS\\u003c/code\\u003e.\\u003c/p\\u003e\\n\\u003cfigure data-rehype-pretty-code-figure=\\\"\\\"\\u003e\\u003cpre style=\\\"background-color:#22272e;color:#adbac7\\\" tabindex=\\\"0\\\" data-language=\\\"python\\\" data-theme=\\\"github-dark-dimmed\\\"\\u003e\\u003ccode data-language=\\\"python\\\" data-theme=\\\"github-dark-dimmed\\\" style=\\\"display: grid;\\\"\\u003e\\u003cspan data-line=\\\"\\\"\\u003e\\u003cspan style=\\\"color:#6CB6FF\\\"\\u003eINSTALLED_APPS\\u003c/span\\u003e\\u003cspan style=\\\"color:#F47067\\\"\\u003e =\\u003c/span\\u003e\\u003cspan style=\\\"color:#ADBAC7\\\"\\u003e [\\u003c/span\\u003e\\u003c/span\\u003e\\n\\u003cspan data-line=\\\"\\\"\\u003e\\u003cspan style=\\\"color:#96D0FF\\\"\\u003e    'django.contrib.admin'\\u003c/span\\u003e\\u003cspan style=\\\"color:#ADBAC7\\\"\\u003e,\\u003c/span\\u003e\\u003c/span\\u003e\\n\\u003cspan data-line=\\\"\\\"\\u003e\\u003cspan style=\\\"color:#96D0FF\\\"\\u003e    'django.contrib.auth'\\u003c/span\\u003e\\u003cspan style=\\\"color:#ADBAC7\\\"\\u003e,\\u003c/span\\u003e\\u003c/span\\u003e\\n\\u003cspan data-line=\\\"\\\"\\u003e\\u003cspan style=\\\"color:#96D0FF\\\"\\u003e    'django.contrib.contenttypes'\\u003c/span\\u003e\\u003cspan style=\\\"color:#ADBAC7\\\"\\u003e,\\u003c/span\\u003e\\u003c/span\\u003e\\n\\u003cspan data-line=\\\"\\\"\\u003e\\u003cspan style=\\\"color:#96D0FF\\\"\\u003e    'django.contrib.sessions'\\u003c/span\\u003e\\u003cspan style=\\\"color:#ADBAC7\\\"\\u003e,\\u003c/span\\u003e\\u003c/span\\u003e\\n\\u003cspan data-line=\\\"\\\"\\u003e\\u003cspan style=\\\"color:#96D0FF\\\"\\u003e    'django.contrib.messages'\\u003c/span\\u003e\\u003cspan style=\\\"color:#ADBAC7\\\"\\u003e,\\u003c/span\\u003e\\u003c/span\\u003e\\n\\u003cspan data-line=\\\"\\\"\\u003e\\u003cspan style=\\\"color:#96D0FF\\\"\\u003e    'django.contrib.staticfiles'\\u003c/span\\u003e\\u003cspan style=\\\"color:#ADBAC7\\\"\\u003e,\\u003c/span\\u003e\\u003c/span\\u003e\\n\\u003cspan data-line=\\\"\\\"\\u003e\\u003cspan style=\\\"color:#96D0FF\\\"\\u003e    'AppName'\\u003c/span\\u003e\\u003c/span\\u003e\\n\\u003cspan data-line=\\\"\\\"\\u003e\\u003cspan style=\\\"color:#ADBAC7\\\"\\u003e]\\u003c/span\\u003e\\u003c/span\\u003e\\u003cbutton type=\\\"button\\\" title=\\\"Copy code\\\" aria-label=\\\"Copy code\\\" data=\\\"INSTALLED_APPS = [\\n    \\u0026#x27;django.contrib.admin\\u0026#x27;,\\n    \\u0026#x27;django.contrib.auth\\u0026#x27;,\\n    \\u0026#x27;django.contrib.contenttypes\\u0026#x27;,\\n    \\u0026#x27;django.contrib.sessions\\u0026#x27;,\\n    \\u0026#x27;django.contrib.messages\\u0026#x27;,\\n    \\u0026#x27;django.contrib.staticfiles\\u0026#x27;,\\n    \\u0026#x27;AppName\\u0026#x27;\\n]\\\" class=\\\"rehype-pretty-copy\\\" onclick=\\\"navigator.clipboard.writeText(this.attributes.data.value);this.classList.add(\\u0026#x27;rehype-pretty-copied\\u0026#x27;);window.setTimeout(() =\\u003e this.classList.remove(\\u0026#x27;rehype-pretty-copied\\u0026#x27;), 3000);\\\"\\u003e\\u003cspan class=\\\"ready\\\"\\u003e\\u003c/span\\u003e\\u003cspan class=\\\"success\\\"\\u003e\\u003c/span\\u003e\\u003c/button\\u003e\\u003cstyle\\u003e:root {--copy-icon: url(\\\"data:image/svg+xml,%3Csvg xmlns='http://www.w3.org/2000/svg' viewBox='0 0 48 48'%3E%3Cpath fill='%23adadad' d='M16.187 9.5H12.25a1.75 1.75 0 0 0-1.75 1.75v28.5c0 .967.784 1.75 1.75 1.75h23.5a1.75 1.75 0 0 0 1.75-1.75v-28.5a1.75 1.75 0 0 0-1.75-1.75h-3.937a4.25 4.25 0 0 1-4.063 3h-7.5a4.25 4.25 0 0 1-4.063-3M31.813 7h3.937A4.25 4.25 0 0 1 40 11.25v28.5A4.25 4.25 0 0 1 35.75 44h-23.5A4.25 4.25 0 0 1 8 39.75v-28.5A4.25 4.25 0 0 1 12.25 7h3.937a4.25 4.25 0 0 1 4.063-3h7.5a4.25 4.25 0 0 1 4.063 3M18.5 8.25c0 .966.784 1.75 1.75 1.75h7.5a1.75 1.75 0 1 0 0-3.5h-7.5a1.75 1.75 0 0 0-1.75 1.75'/%3E%3C/svg%3E\\\");--success-icon: url(\\\"data:image/svg+xml,%3Csvg xmlns='http://www.w3.org/2000/svg' viewBox='0 0 24 24'%3E%3Cpath fill='%2366ff85' d='M9 16.17L5.53 12.7a.996.996 0 1 0-1.41 1.41l4.18 4.18c.39.39 1.02.39 1.41 0L20.29 7.71a.996.996 0 1 0-1.41-1.41z'/%3E%3C/svg%3E\\\");}pre:has(code) {position: relative;}pre button.rehype-pretty-copy {right: 1px;padding: 0;width: 24px;height: 24px;display: flex;margin-top: 2px;margin-right: 8px;position: absolute;border-radius: 25%;backdrop-filter: blur(3px);\\u0026 span {width: 100%;aspect-ratio: 1 / 1;}\\u0026 .ready {background-image: var(--copy-icon);}\\u0026 .success {display: none; background-image: var(--success-icon);}}\\u0026.rehype-pretty-copied {\\u0026 .success {display: block;} \\u0026 .ready {display: none;}}pre button.rehype-pretty-copy.rehype-pretty-copied {opacity: 1;\\u0026 .ready { display: none; }\\u0026 .success { display: block; }}\\u003c/style\\u003e\\u003c/code\\u003e\\u003c/pre\\u003e\\u003c/figure\\u003e\\n\\u003ch2\\u003eTemplates in Django\\u003c/h2\\u003e\\n\\u003cp\\u003eUsed to handle dynamic HTML files separately.\\u003c/p\\u003e\\n\\u003ch3\\u003eConfiguring templates in settings.py\\u003c/h3\\u003e\\n\\u003cfigure data-rehype-pretty-code-figure=\\\"\\\"\\u003e\\u003cpre style=\\\"background-color:#22272e;color:#adbac7\\\" tabindex=\\\"0\\\" data-language=\\\"python\\\" data-theme=\\\"github-dark-dimmed\\\"\\u003e\\u003ccode data-language=\\\"python\\\" data-theme=\\\"github-dark-dimmed\\\" style=\\\"display: grid;\\\"\\u003e\\u003cspan data-line=\\\"\\\"\\u003e\\u003cspan style=\\\"color:#6CB6FF\\\"\\u003eTEMPLATES\\u003c/span\\u003e\\u003cspan style=\\\"color:#F47067\\\"\\u003e =\\u003c/span\\u003e\\u003cspan style=\\\"color:#ADBAC7\\\"\\u003e [\\u003c/span\\u003e\\u003c/span\\u003e\\n\\u003cspan data-line=\\\"\\\"\\u003e\\u003cspan style=\\\"color:#ADBAC7\\\"\\u003e    {\\u003c/span\\u003e\\u003c/span\\u003e\\n\\u003cspan data-line=\\\"\\\"\\u003e\\u003cspan style=\\\"color:#96D0FF\\\"\\u003e        'BACKEND'\\u003c/span\\u003e\\u003cspan style=\\\"color:#ADBAC7\\\"\\u003e: \\u003c/span\\u003e\\u003cspan style=\\\"color:#96D0FF\\\"\\u003e'django.template.backends.django.DjangoTemplates'\\u003c/span\\u003e\\u003cspan style=\\\"color:#ADBAC7\\\"\\u003e,\\u003c/span\\u003e\\u003c/span\\u003e\\n\\u003cspan data-line=\\\"\\\"\\u003e\\u003cspan style=\\\"color:#96D0FF\\\"\\u003e        'DIRS'\\u003c/span\\u003e\\u003cspan style=\\\"color:#ADBAC7\\\"\\u003e: [\\u003c/span\\u003e\\u003cspan style=\\\"color:#96D0FF\\\"\\u003e\\\"templates\\\"\\u003c/span\\u003e\\u003cspan style=\\\"color:#ADBAC7\\\"\\u003e],\\u003c/span\\u003e\\u003c/span\\u003e\\n\\u003cspan data-line=\\\"\\\"\\u003e\\u003cspan style=\\\"color:#96D0FF\\\"\\u003e        'APP_DIRS'\\u003c/span\\u003e\\u003cspan style=\\\"color:#ADBAC7\\\"\\u003e: \\u003c/span\\u003e\\u003cspan style=\\\"color:#6CB6FF\\\"\\u003eTrue\\u003c/span\\u003e\\u003cspan style=\\\"color:#ADBAC7\\\"\\u003e,\\u003c/span\\u003e\\u003c/span\\u003e\\n\\u003cspan data-line=\\\"\\\"\\u003e\\u003cspan style=\\\"color:#96D0FF\\\"\\u003e        'OPTIONS'\\u003c/span\\u003e\\u003cspan style=\\\"color:#ADBAC7\\\"\\u003e: {\\u003c/span\\u003e\\u003c/span\\u003e\\n\\u003cspan data-line=\\\"\\\"\\u003e\\u003cspan style=\\\"color:#768390\\\"\\u003e            # some options here\\u003c/span\\u003e\\u003c/span\\u003e\\n\\u003cspan data-line=\\\"\\\"\\u003e\\u003cspan style=\\\"color:#ADBAC7\\\"\\u003e        },\\u003c/span\\u003e\\u003c/span\\u003e\\n\\u003cspan data-line=\\\"\\\"\\u003e\\u003cspan style=\\\"color:#ADBAC7\\\"\\u003e    },\\u003c/span\\u003e\\u003c/span\\u003e\\n\\u003cspan data-line=\\\"\\\"\\u003e\\u003cspan style=\\\"color:#ADBAC7\\\"\\u003e]\\u003c/span\\u003e\\u003c/span\\u003e\\u003cbutton type=\\\"button\\\" title=\\\"Copy code\\\" aria-label=\\\"Copy code\\\" data=\\\"TEMPLATES = [\\n    {\\n        \\u0026#x27;BACKEND\\u0026#x27;: \\u0026#x27;django.template.backends.django.DjangoTemplates\\u0026#x27;,\\n        \\u0026#x27;DIRS\\u0026#x27;: [\\u0026#x22;templates\\u0026#x22;],\\n        \\u0026#x27;APP_DIRS\\u0026#x27;: True,\\n        \\u0026#x27;OPTIONS\\u0026#x27;: {\\n            # some options here\\n        },\\n    },\\n]\\\" class=\\\"rehype-pretty-copy\\\" onclick=\\\"navigator.clipboard.writeText(this.attributes.data.value);this.classList.add(\\u0026#x27;rehype-pretty-copied\\u0026#x27;);window.setTimeout(() =\\u003e this.classList.remove(\\u0026#x27;rehype-pretty-copied\\u0026#x27;), 3000);\\\"\\u003e\\u003cspan class=\\\"ready\\\"\\u003e\\u003c/span\\u003e\\u003cspan class=\\\"success\\\"\\u003e\\u003c/span\\u003e\\u003c/button\\u003e\\u003cstyle\\u003e:root {--copy-icon: url(\\\"data:image/svg+xml,%3Csvg xmlns='http://www.w3.org/2000/svg' viewBox='0 0 48 48'%3E%3Cpath fill='%23adadad' d='M16.187 9.5H12.25a1.75 1.75 0 0 0-1.75 1.75v28.5c0 .967.784 1.75 1.75 1.75h23.5a1.75 1.75 0 0 0 1.75-1.75v-28.5a1.75 1.75 0 0 0-1.75-1.75h-3.937a4.25 4.25 0 0 1-4.063 3h-7.5a4.25 4.25 0 0 1-4.063-3M31.813 7h3.937A4.25 4.25 0 0 1 40 11.25v28.5A4.25 4.25 0 0 1 35.75 44h-23.5A4.25 4.25 0 0 1 8 39.75v-28.5A4.25 4.25 0 0 1 12.25 7h3.937a4.25 4.25 0 0 1 4.063-3h7.5a4.25 4.25 0 0 1 4.063 3M18.5 8.25c0 .966.784 1.75 1.75 1.75h7.5a1.75 1.75 0 1 0 0-3.5h-7.5a1.75 1.75 0 0 0-1.75 1.75'/%3E%3C/svg%3E\\\");--success-icon: url(\\\"data:image/svg+xml,%3Csvg xmlns='http://www.w3.org/2000/svg' viewBox='0 0 24 24'%3E%3Cpath fill='%2366ff85' d='M9 16.17L5.53 12.7a.996.996 0 1 0-1.41 1.41l4.18 4.18c.39.39 1.02.39 1.41 0L20.29 7.71a.996.996 0 1 0-1.41-1.41z'/%3E%3C/svg%3E\\\");}pre:has(code) {position: relative;}pre button.rehype-pretty-copy {right: 1px;padding: 0;width: 24px;height: 24px;display: flex;margin-top: 2px;margin-right: 8px;position: absolute;border-radius: 25%;backdrop-filter: blur(3px);\\u0026 span {width: 100%;aspect-ratio: 1 / 1;}\\u0026 .ready {background-image: var(--copy-icon);}\\u0026 .success {display: none; background-image: var(--success-icon);}}\\u0026.rehype-pretty-copied {\\u0026 .success {display: block;} \\u0026 .ready {display: none;}}pre button.rehype-pretty-copy.rehype-pretty-copied {opacity: 1;\\u0026 .ready { display: none; }\\u0026 .success { display: block; }}\\u003c/style\\u003e\\u003c/code\\u003e\\u003c/pre\\u003e\\u003c/figure\\u003e\\n\\u003ch3\\u003eChanging the views.py file\\u003c/h3\\u003e\\n\\u003cp\\u003eA view is associated with every URL. This view is responsible for displaying the content from the template.\\u003c/p\\u003e\\n\\u003cfigure data-rehype-pretty-code-figure=\\\"\\\"\\u003e\\u003cpre style=\\\"background-color:#22272e;color:#adbac7\\\" tabindex=\\\"0\\\" data-language=\\\"python\\\" data-theme=\\\"github-dark-dimmed\\\"\\u003e\\u003ccode data-language=\\\"python\\\" data-theme=\\\"github-dark-dimmed\\\" style=\\\"display: grid;\\\"\\u003e\\u003cspan data-line=\\\"\\\"\\u003e\\u003cspan style=\\\"color:#F47067\\\"\\u003edef\\u003c/span\\u003e\\u003cspan style=\\\"color:#DCBDFB\\\"\\u003e index\\u003c/span\\u003e\\u003cspan style=\\\"color:#ADBAC7\\\"\\u003e(request):\\u003c/span\\u003e\\u003c/span\\u003e\\n\\u003cspan data-line=\\\"\\\"\\u003e\\u003cspan style=\\\"color:#F47067\\\"\\u003e    return\\u003c/span\\u003e\\u003cspan style=\\\"color:#ADBAC7\\\"\\u003e render(request, \\u003c/span\\u003e\\u003cspan style=\\\"color:#96D0FF\\\"\\u003e'index.html'\\u003c/span\\u003e\\u003cspan style=\\\"color:#ADBAC7\\\"\\u003e) \\u003c/span\\u003e\\u003cspan style=\\\"color:#768390\\\"\\u003e# render is used to return the template\\u003c/span\\u003e\\u003c/span\\u003e\\u003cbutton type=\\\"button\\\" title=\\\"Copy code\\\" aria-label=\\\"Copy code\\\" data=\\\"def index(request):\\n    return render(request, \\u0026#x27;index.html\\u0026#x27;) # render is used to return the template\\\" class=\\\"rehype-pretty-copy\\\" onclick=\\\"navigator.clipboard.writeText(this.attributes.data.value);this.classList.add(\\u0026#x27;rehype-pretty-copied\\u0026#x27;);window.setTimeout(() =\\u003e this.classList.remove(\\u0026#x27;rehype-pretty-copied\\u0026#x27;), 3000);\\\"\\u003e\\u003cspan class=\\\"ready\\\"\\u003e\\u003c/span\\u003e\\u003cspan class=\\\"success\\\"\\u003e\\u003c/span\\u003e\\u003c/button\\u003e\\u003cstyle\\u003e:root {--copy-icon: url(\\\"data:image/svg+xml,%3Csvg xmlns='http://www.w3.org/2000/svg' viewBox='0 0 48 48'%3E%3Cpath fill='%23adadad' d='M16.187 9.5H12.25a1.75 1.75 0 0 0-1.75 1.75v28.5c0 .967.784 1.75 1.75 1.75h23.5a1.75 1.75 0 0 0 1.75-1.75v-28.5a1.75 1.75 0 0 0-1.75-1.75h-3.937a4.25 4.25 0 0 1-4.063 3h-7.5a4.25 4.25 0 0 1-4.063-3M31.813 7h3.937A4.25 4.25 0 0 1 40 11.25v28.5A4.25 4.25 0 0 1 35.75 44h-23.5A4.25 4.25 0 0 1 8 39.75v-28.5A4.25 4.25 0 0 1 12.25 7h3.937a4.25 4.25 0 0 1 4.063-3h7.5a4.25 4.25 0 0 1 4.063 3M18.5 8.25c0 .966.784 1.75 1.75 1.75h7.5a1.75 1.75 0 1 0 0-3.5h-7.5a1.75 1.75 0 0 0-1.75 1.75'/%3E%3C/svg%3E\\\");--success-icon: url(\\\"data:image/svg+xml,%3Csvg xmlns='http://www.w3.org/2000/svg' viewBox='0 0 24 24'%3E%3Cpath fill='%2366ff85' d='M9 16.17L5.53 12.7a.996.996 0 1 0-1.41 1.41l4.18 4.18c.39.39 1.02.39 1.41 0L20.29 7.71a.996.996 0 1 0-1.41-1.41z'/%3E%3C/svg%3E\\\");}pre:has(code) {position: relative;}pre button.rehype-pretty-copy {right: 1px;padding: 0;width: 24px;height: 24px;display: flex;margin-top: 2px;margin-right: 8px;position: absolute;border-radius: 25%;backdrop-filter: blur(3px);\\u0026 span {width: 100%;aspect-ratio: 1 / 1;}\\u0026 .ready {background-image: var(--copy-icon);}\\u0026 .success {display: none; background-image: var(--success-icon);}}\\u0026.rehype-pretty-copied {\\u0026 .success {display: block;} \\u0026 .ready {display: none;}}pre button.rehype-pretty-copy.rehype-pretty-copied {opacity: 1;\\u0026 .ready { display: none; }\\u0026 .success { display: block; }}\\u003c/style\\u003e\\u003c/code\\u003e\\u003c/pre\\u003e\\u003c/figure\\u003e\\n\\u003ch3\\u003eSample template file\\u003c/h3\\u003e\\n\\u003cfigure data-rehype-pretty-code-figure=\\\"\\\"\\u003e\\u003cpre style=\\\"background-color:#22272e;color:#adbac7\\\" tabindex=\\\"0\\\" data-language=\\\"html\\\" data-theme=\\\"github-dark-dimmed\\\"\\u003e\\u003ccode data-language=\\\"html\\\" data-theme=\\\"github-dark-dimmed\\\" style=\\\"display: grid;\\\"\\u003e\\u003cspan data-line=\\\"\\\"\\u003e\\u003cspan style=\\\"color:#ADBAC7\\\"\\u003e\\u0026#x3C;!\\u003c/span\\u003e\\u003cspan style=\\\"color:#8DDB8C\\\"\\u003eDOCTYPE\\u003c/span\\u003e\\u003cspan style=\\\"color:#6CB6FF\\\"\\u003e html\\u003c/span\\u003e\\u003cspan style=\\\"color:#ADBAC7\\\"\\u003e\\u003e\\u003c/span\\u003e\\u003c/span\\u003e\\n\\u003cspan data-line=\\\"\\\"\\u003e\\u003cspan style=\\\"color:#ADBAC7\\\"\\u003e\\u0026#x3C;\\u003c/span\\u003e\\u003cspan style=\\\"color:#8DDB8C\\\"\\u003ehtml\\u003c/span\\u003e\\u003cspan style=\\\"color:#6CB6FF\\\"\\u003e lang\\u003c/span\\u003e\\u003cspan style=\\\"color:#ADBAC7\\\"\\u003e=\\u003c/span\\u003e\\u003cspan style=\\\"color:#96D0FF\\\"\\u003e\\\"en\\\"\\u003c/span\\u003e\\u003cspan style=\\\"color:#ADBAC7\\\"\\u003e\\u003e\\u003c/span\\u003e\\u003c/span\\u003e\\n\\u003cspan data-line=\\\"\\\"\\u003e\\u003cspan style=\\\"color:#ADBAC7\\\"\\u003e\\u0026#x3C;\\u003c/span\\u003e\\u003cspan style=\\\"color:#8DDB8C\\\"\\u003ehead\\u003c/span\\u003e\\u003cspan style=\\\"color:#ADBAC7\\\"\\u003e\\u003e\\u003c/span\\u003e\\u003c/span\\u003e\\n\\u003cspan data-line=\\\"\\\"\\u003e\\u003cspan style=\\\"color:#ADBAC7\\\"\\u003e    \\u0026#x3C;\\u003c/span\\u003e\\u003cspan style=\\\"color:#8DDB8C\\\"\\u003emeta\\u003c/span\\u003e\\u003cspan style=\\\"color:#6CB6FF\\\"\\u003e charset\\u003c/span\\u003e\\u003cspan style=\\\"color:#ADBAC7\\\"\\u003e=\\u003c/span\\u003e\\u003cspan style=\\\"color:#96D0FF\\\"\\u003e\\\"UTF-8\\\"\\u003c/span\\u003e\\u003cspan style=\\\"color:#ADBAC7\\\"\\u003e\\u003e\\u003c/span\\u003e\\u003c/span\\u003e\\n\\u003cspan data-line=\\\"\\\"\\u003e\\u003cspan style=\\\"color:#ADBAC7\\\"\\u003e    \\u0026#x3C;\\u003c/span\\u003e\\u003cspan style=\\\"color:#8DDB8C\\\"\\u003etitle\\u003c/span\\u003e\\u003cspan style=\\\"color:#ADBAC7\\\"\\u003e\\u003eTemplate is working\\u0026#x3C;/\\u003c/span\\u003e\\u003cspan style=\\\"color:#8DDB8C\\\"\\u003etitle\\u003c/span\\u003e\\u003cspan style=\\\"color:#ADBAC7\\\"\\u003e\\u003e\\u003c/span\\u003e\\u003c/span\\u003e\\n\\u003cspan data-line=\\\"\\\"\\u003e\\u003cspan style=\\\"color:#ADBAC7\\\"\\u003e\\u0026#x3C;/\\u003c/span\\u003e\\u003cspan style=\\\"color:#8DDB8C\\\"\\u003ehead\\u003c/span\\u003e\\u003cspan style=\\\"color:#ADBAC7\\\"\\u003e\\u003e\\u003c/span\\u003e\\u003c/span\\u003e\\n\\u003cspan data-line=\\\"\\\"\\u003e\\u003cspan style=\\\"color:#ADBAC7\\\"\\u003e\\u0026#x3C;\\u003c/span\\u003e\\u003cspan style=\\\"color:#8DDB8C\\\"\\u003ebody\\u003c/span\\u003e\\u003cspan style=\\\"color:#ADBAC7\\\"\\u003e\\u003e\\u003c/span\\u003e\\u003c/span\\u003e\\n\\u003cspan data-line=\\\"\\\"\\u003e\\u003cspan style=\\\"color:#ADBAC7\\\"\\u003e    \\u0026#x3C;\\u003c/span\\u003e\\u003cspan style=\\\"color:#8DDB8C\\\"\\u003eh1\\u003c/span\\u003e\\u003cspan style=\\\"color:#ADBAC7\\\"\\u003e\\u003eThis is a sample django template.\\u0026#x3C;/\\u003c/span\\u003e\\u003cspan style=\\\"color:#8DDB8C\\\"\\u003eh1\\u003c/span\\u003e\\u003cspan style=\\\"color:#ADBAC7\\\"\\u003e\\u003e\\u003c/span\\u003e\\u003c/span\\u003e\\n\\u003cspan data-line=\\\"\\\"\\u003e\\u003cspan style=\\\"color:#ADBAC7\\\"\\u003e\\u0026#x3C;/\\u003c/span\\u003e\\u003cspan style=\\\"color:#8DDB8C\\\"\\u003ebody\\u003c/span\\u003e\\u003cspan style=\\\"color:#ADBAC7\\\"\\u003e\\u003e\\u003c/span\\u003e\\u003c/span\\u003e\\n\\u003cspan data-line=\\\"\\\"\\u003e\\u003cspan style=\\\"color:#ADBAC7\\\"\\u003e\\u0026#x3C;/\\u003c/span\\u003e\\u003cspan style=\\\"color:#8DDB8C\\\"\\u003ehtml\\u003c/span\\u003e\\u003cspan style=\\\"color:#ADBAC7\\\"\\u003e\\u003e\\u003c/span\\u003e\\u003c/span\\u003e\\u003cbutton type=\\\"button\\\" title=\\\"Copy code\\\" aria-label=\\\"Copy code\\\" data=\\\"\\u003c!DOCTYPE html\\u003e\\n\\u003chtml lang=\\u0026#x22;en\\u0026#x22;\\u003e\\n\\u003chead\\u003e\\n    \\u003cmeta charset=\\u0026#x22;UTF-8\\u0026#x22;\\u003e\\n    \\u003ctitle\\u003eTemplate is working\\u003c/title\\u003e\\n\\u003c/head\\u003e\\n\\u003cbody\\u003e\\n    \\u003ch1\\u003eThis is a sample django template.\\u003c/h1\\u003e\\n\\u003c/body\\u003e\\n\\u003c/html\\u003e\\\" class=\\\"rehype-pretty-copy\\\" onclick=\\\"navigator.clipboard.writeText(this.attributes.data.value);this.classList.add(\\u0026#x27;rehype-pretty-copied\\u0026#x27;);window.setTimeout(() =\\u003e this.classList.remove(\\u0026#x27;rehype-pretty-copied\\u0026#x27;), 3000);\\\"\\u003e\\u003cspan class=\\\"ready\\\"\\u003e\\u003c/span\\u003e\\u003cspan class=\\\"success\\\"\\u003e\\u003c/span\\u003e\\u003c/button\\u003e\\u003cstyle\\u003e:root {--copy-icon: url(\\\"data:image/svg+xml,%3Csvg xmlns='http://www.w3.org/2000/svg' viewBox='0 0 48 48'%3E%3Cpath fill='%23adadad' d='M16.187 9.5H12.25a1.75 1.75 0 0 0-1.75 1.75v28.5c0 .967.784 1.75 1.75 1.75h23.5a1.75 1.75 0 0 0 1.75-1.75v-28.5a1.75 1.75 0 0 0-1.75-1.75h-3.937a4.25 4.25 0 0 1-4.063 3h-7.5a4.25 4.25 0 0 1-4.063-3M31.813 7h3.937A4.25 4.25 0 0 1 40 11.25v28.5A4.25 4.25 0 0 1 35.75 44h-23.5A4.25 4.25 0 0 1 8 39.75v-28.5A4.25 4.25 0 0 1 12.25 7h3.937a4.25 4.25 0 0 1 4.063-3h7.5a4.25 4.25 0 0 1 4.063 3M18.5 8.25c0 .966.784 1.75 1.75 1.75h7.5a1.75 1.75 0 1 0 0-3.5h-7.5a1.75 1.75 0 0 0-1.75 1.75'/%3E%3C/svg%3E\\\");--success-icon: url(\\\"data:image/svg+xml,%3Csvg xmlns='http://www.w3.org/2000/svg' viewBox='0 0 24 24'%3E%3Cpath fill='%2366ff85' d='M9 16.17L5.53 12.7a.996.996 0 1 0-1.41 1.41l4.18 4.18c.39.39 1.02.39 1.41 0L20.29 7.71a.996.996 0 1 0-1.41-1.41z'/%3E%3C/svg%3E\\\");}pre:has(code) {position: relative;}pre button.rehype-pretty-copy {right: 1px;padding: 0;width: 24px;height: 24px;display: flex;margin-top: 2px;margin-right: 8px;position: absolute;border-radius: 25%;backdrop-filter: blur(3px);\\u0026 span {width: 100%;aspect-ratio: 1 / 1;}\\u0026 .ready {background-image: var(--copy-icon);}\\u0026 .success {display: none; background-image: var(--success-icon);}}\\u0026.rehype-pretty-copied {\\u0026 .success {display: block;} \\u0026 .ready {display: none;}}pre button.rehype-pretty-copy.rehype-pretty-copied {opacity: 1;\\u0026 .ready { display: none; }\\u0026 .success { display: block; }}\\u003c/style\\u003e\\u003c/code\\u003e\\u003c/pre\\u003e\\u003c/figure\\u003e\\n\\u003ch2\\u003eMigrations in Django\\u003c/h2\\u003e\\n\\u003cp\\u003eMigrations are Django's way of updating the database schema according to the changes that you make to your models.\\u003c/p\\u003e\\n\\u003ch3\\u003eCreating a migration\\u003c/h3\\u003e\\n\\u003cp\\u003eThe below command is used to make migration (create files with information to update the database) but no changes are made to the actual database.\\u003c/p\\u003e\\n\\u003cfigure data-rehype-pretty-code-figure=\\\"\\\"\\u003e\\u003cpre style=\\\"background-color:#22272e;color:#adbac7\\\" tabindex=\\\"0\\\" data-language=\\\"python\\\" data-theme=\\\"github-dark-dimmed\\\"\\u003e\\u003ccode data-language=\\\"python\\\" data-theme=\\\"github-dark-dimmed\\\" style=\\\"display: grid;\\\"\\u003e\\u003cspan data-line=\\\"\\\"\\u003e\\u003cspan style=\\\"color:#ADBAC7\\\"\\u003epython manage.py makemigrations\\u003c/span\\u003e\\u003c/span\\u003e\\u003cbutton type=\\\"button\\\" title=\\\"Copy code\\\" aria-label=\\\"Copy code\\\" data=\\\"python manage.py makemigrations\\\" class=\\\"rehype-pretty-copy\\\" onclick=\\\"navigator.clipboard.writeText(this.attributes.data.value);this.classList.add(\\u0026#x27;rehype-pretty-copied\\u0026#x27;);window.setTimeout(() =\\u003e this.classList.remove(\\u0026#x27;rehype-pretty-copied\\u0026#x27;), 3000);\\\"\\u003e\\u003cspan class=\\\"ready\\\"\\u003e\\u003c/span\\u003e\\u003cspan class=\\\"success\\\"\\u003e\\u003c/span\\u003e\\u003c/button\\u003e\\u003cstyle\\u003e:root {--copy-icon: url(\\\"data:image/svg+xml,%3Csvg xmlns='http://www.w3.org/2000/svg' viewBox='0 0 48 48'%3E%3Cpath fill='%23adadad' d='M16.187 9.5H12.25a1.75 1.75 0 0 0-1.75 1.75v28.5c0 .967.784 1.75 1.75 1.75h23.5a1.75 1.75 0 0 0 1.75-1.75v-28.5a1.75 1.75 0 0 0-1.75-1.75h-3.937a4.25 4.25 0 0 1-4.063 3h-7.5a4.25 4.25 0 0 1-4.063-3M31.813 7h3.937A4.25 4.25 0 0 1 40 11.25v28.5A4.25 4.25 0 0 1 35.75 44h-23.5A4.25 4.25 0 0 1 8 39.75v-28.5A4.25 4.25 0 0 1 12.25 7h3.937a4.25 4.25 0 0 1 4.063-3h7.5a4.25 4.25 0 0 1 4.063 3M18.5 8.25c0 .966.784 1.75 1.75 1.75h7.5a1.75 1.75 0 1 0 0-3.5h-7.5a1.75 1.75 0 0 0-1.75 1.75'/%3E%3C/svg%3E\\\");--success-icon: url(\\\"data:image/svg+xml,%3Csvg xmlns='http://www.w3.org/2000/svg' viewBox='0 0 24 24'%3E%3Cpath fill='%2366ff85' d='M9 16.17L5.53 12.7a.996.996 0 1 0-1.41 1.41l4.18 4.18c.39.39 1.02.39 1.41 0L20.29 7.71a.996.996 0 1 0-1.41-1.41z'/%3E%3C/svg%3E\\\");}pre:has(code) {position: relative;}pre button.rehype-pretty-copy {right: 1px;padding: 0;width: 24px;height: 24px;display: flex;margin-top: 2px;margin-right: 8px;position: absolute;border-radius: 25%;backdrop-filter: blur(3px);\\u0026 span {width: 100%;aspect-ratio: 1 / 1;}\\u0026 .ready {background-image: var(--copy-icon);}\\u0026 .success {display: none; background-image: var(--success-icon);}}\\u0026.rehype-pretty-copied {\\u0026 .success {display: block;} \\u0026 .ready {display: none;}}pre button.rehype-pretty-copy.rehype-pretty-copied {opacity: 1;\\u0026 .ready { display: none; }\\u0026 .success { display: block; }}\\u003c/style\\u003e\\u003c/code\\u003e\\u003c/pre\\u003e\\u003c/figure\\u003e\\n\\u003ch3\\u003eApplying the migration\\u003c/h3\\u003e\\n\\u003cp\\u003eThe below command is used to apply the changes to the actual database.\\u003c/p\\u003e\\n\\u003cfigure data-rehype-pretty-code-figure=\\\"\\\"\\u003e\\u003cpre style=\\\"background-color:#22272e;color:#adbac7\\\" tabindex=\\\"0\\\" data-language=\\\"python\\\" data-theme=\\\"github-dark-dimmed\\\"\\u003e\\u003ccode data-language=\\\"python\\\" data-theme=\\\"github-dark-dimmed\\\" style=\\\"display: grid;\\\"\\u003e\\u003cspan data-line=\\\"\\\"\\u003e\\u003cspan style=\\\"color:#ADBAC7\\\"\\u003epython manage.py migrate\\u003c/span\\u003e\\u003c/span\\u003e\\u003cbutton type=\\\"button\\\" title=\\\"Copy code\\\" aria-label=\\\"Copy code\\\" data=\\\"python manage.py migrate\\\" class=\\\"rehype-pretty-copy\\\" onclick=\\\"navigator.clipboard.writeText(this.attributes.data.value);this.classList.add(\\u0026#x27;rehype-pretty-copied\\u0026#x27;);window.setTimeout(() =\\u003e this.classList.remove(\\u0026#x27;rehype-pretty-copied\\u0026#x27;), 3000);\\\"\\u003e\\u003cspan class=\\\"ready\\\"\\u003e\\u003c/span\\u003e\\u003cspan class=\\\"success\\\"\\u003e\\u003c/span\\u003e\\u003c/button\\u003e\\u003cstyle\\u003e:root {--copy-icon: url(\\\"data:image/svg+xml,%3Csvg xmlns='http://www.w3.org/2000/svg' viewBox='0 0 48 48'%3E%3Cpath fill='%23adadad' d='M16.187 9.5H12.25a1.75 1.75 0 0 0-1.75 1.75v28.5c0 .967.784 1.75 1.75 1.75h23.5a1.75 1.75 0 0 0 1.75-1.75v-28.5a1.75 1.75 0 0 0-1.75-1.75h-3.937a4.25 4.25 0 0 1-4.063 3h-7.5a4.25 4.25 0 0 1-4.063-3M31.813 7h3.937A4.25 4.25 0 0 1 40 11.25v28.5A4.25 4.25 0 0 1 35.75 44h-23.5A4.25 4.25 0 0 1 8 39.75v-28.5A4.25 4.25 0 0 1 12.25 7h3.937a4.25 4.25 0 0 1 4.063-3h7.5a4.25 4.25 0 0 1 4.063 3M18.5 8.25c0 .966.784 1.75 1.75 1.75h7.5a1.75 1.75 0 1 0 0-3.5h-7.5a1.75 1.75 0 0 0-1.75 1.75'/%3E%3C/svg%3E\\\");--success-icon: url(\\\"data:image/svg+xml,%3Csvg xmlns='http://www.w3.org/2000/svg' viewBox='0 0 24 24'%3E%3Cpath fill='%2366ff85' d='M9 16.17L5.53 12.7a.996.996 0 1 0-1.41 1.41l4.18 4.18c.39.39 1.02.39 1.41 0L20.29 7.71a.996.996 0 1 0-1.41-1.41z'/%3E%3C/svg%3E\\\");}pre:has(code) {position: relative;}pre button.rehype-pretty-copy {right: 1px;padding: 0;width: 24px;height: 24px;display: flex;margin-top: 2px;margin-right: 8px;position: absolute;border-radius: 25%;backdrop-filter: blur(3px);\\u0026 span {width: 100%;aspect-ratio: 1 / 1;}\\u0026 .ready {background-image: var(--copy-icon);}\\u0026 .success {display: none; background-image: var(--success-icon);}}\\u0026.rehype-pretty-copied {\\u0026 .success {display: block;} \\u0026 .ready {display: none;}}pre button.rehype-pretty-copy.rehype-pretty-copied {opacity: 1;\\u0026 .ready { display: none; }\\u0026 .success { display: block; }}\\u003c/style\\u003e\\u003c/code\\u003e\\u003c/pre\\u003e\\u003c/figure\\u003e\\n\\u003ch2\\u003eAdmin interface in Django\\u003c/h2\\u003e\\n\\u003cp\\u003eDjango comes with a ready-to-use admin interface.\\u003c/p\\u003e\\n\\u003ch3\\u003eCreating the admin user\\u003c/h3\\u003e\\n\\u003cfigure data-rehype-pretty-code-figure=\\\"\\\"\\u003e\\u003cpre style=\\\"background-color:#22272e;color:#adbac7\\\" tabindex=\\\"0\\\" data-language=\\\"python\\\" data-theme=\\\"github-dark-dimmed\\\"\\u003e\\u003ccode data-language=\\\"python\\\" data-theme=\\\"github-dark-dimmed\\\" style=\\\"display: grid;\\\"\\u003e\\u003cspan data-line=\\\"\\\"\\u003e\\u003cspan style=\\\"color:#ADBAC7\\\"\\u003epython manage.py createsuperuser\\u003c/span\\u003e\\u003c/span\\u003e\\u003cbutton type=\\\"button\\\" title=\\\"Copy code\\\" aria-label=\\\"Copy code\\\" data=\\\"python manage.py createsuperuser\\\" class=\\\"rehype-pretty-copy\\\" onclick=\\\"navigator.clipboard.writeText(this.attributes.data.value);this.classList.add(\\u0026#x27;rehype-pretty-copied\\u0026#x27;);window.setTimeout(() =\\u003e this.classList.remove(\\u0026#x27;rehype-pretty-copied\\u0026#x27;), 3000);\\\"\\u003e\\u003cspan class=\\\"ready\\\"\\u003e\\u003c/span\\u003e\\u003cspan class=\\\"success\\\"\\u003e\\u003c/span\\u003e\\u003c/button\\u003e\\u003cstyle\\u003e:root {--copy-icon: url(\\\"data:image/svg+xml,%3Csvg xmlns='http://www.w3.org/2000/svg' viewBox='0 0 48 48'%3E%3Cpath fill='%23adadad' d='M16.187 9.5H12.25a1.75 1.75 0 0 0-1.75 1.75v28.5c0 .967.784 1.75 1.75 1.75h23.5a1.75 1.75 0 0 0 1.75-1.75v-28.5a1.75 1.75 0 0 0-1.75-1.75h-3.937a4.25 4.25 0 0 1-4.063 3h-7.5a4.25 4.25 0 0 1-4.063-3M31.813 7h3.937A4.25 4.25 0 0 1 40 11.25v28.5A4.25 4.25 0 0 1 35.75 44h-23.5A4.25 4.25 0 0 1 8 39.75v-28.5A4.25 4.25 0 0 1 12.25 7h3.937a4.25 4.25 0 0 1 4.063-3h7.5a4.25 4.25 0 0 1 4.063 3M18.5 8.25c0 .966.784 1.75 1.75 1.75h7.5a1.75 1.75 0 1 0 0-3.5h-7.5a1.75 1.75 0 0 0-1.75 1.75'/%3E%3C/svg%3E\\\");--success-icon: url(\\\"data:image/svg+xml,%3Csvg xmlns='http://www.w3.org/2000/svg' viewBox='0 0 24 24'%3E%3Cpath fill='%2366ff85' d='M9 16.17L5.53 12.7a.996.996 0 1 0-1.41 1.41l4.18 4.18c.39.39 1.02.39 1.41 0L20.29 7.71a.996.996 0 1 0-1.41-1.41z'/%3E%3C/svg%3E\\\");}pre:has(code) {position: relative;}pre button.rehype-pretty-copy {right: 1px;padding: 0;width: 24px;height: 24px;display: flex;margin-top: 2px;margin-right: 8px;position: absolute;border-radius: 25%;backdrop-filter: blur(3px);\\u0026 span {width: 100%;aspect-ratio: 1 / 1;}\\u0026 .ready {background-image: var(--copy-icon);}\\u0026 .success {display: none; background-image: var(--success-icon);}}\\u0026.rehype-pretty-copied {\\u0026 .success {display: block;} \\u0026 .ready {display: none;}}pre button.rehype-pretty-copy.rehype-pretty-copied {opacity: 1;\\u0026 .ready { display: none; }\\u0026 .success { display: block; }}\\u003c/style\\u003e\\u003c/code\\u003e\\u003c/pre\\u003e\\u003c/figure\\u003e\\n\\u003ch2\\u003ePage Redirection\\u003c/h2\\u003e\\n\\u003cp\\u003eRedirection is used to redirect the user to a specific page of the application on the occurrence of an event.\\u003c/p\\u003e\\n\\u003ch3\\u003eRedirect method\\u003c/h3\\u003e\\n\\u003cfigure data-rehype-pretty-code-figure=\\\"\\\"\\u003e\\u003cpre style=\\\"background-color:#22272e;color:#adbac7\\\" tabindex=\\\"0\\\" data-language=\\\"python\\\" data-theme=\\\"github-dark-dimmed\\\"\\u003e\\u003ccode data-language=\\\"python\\\" data-theme=\\\"github-dark-dimmed\\\" style=\\\"display: grid;\\\"\\u003e\\u003cspan data-line=\\\"\\\"\\u003e\\u003cspan style=\\\"color:#F47067\\\"\\u003efrom\\u003c/span\\u003e\\u003cspan style=\\\"color:#ADBAC7\\\"\\u003e django.shortcuts \\u003c/span\\u003e\\u003cspan style=\\\"color:#F47067\\\"\\u003eimport\\u003c/span\\u003e\\u003cspan style=\\\"color:#ADBAC7\\\"\\u003e render, redirect\\u003c/span\\u003e\\u003c/span\\u003e\\n\\u003cspan data-line=\\\"\\\"\\u003e \\u003c/span\\u003e\\n\\u003cspan data-line=\\\"\\\"\\u003e\\u003cspan style=\\\"color:#F47067\\\"\\u003edef\\u003c/span\\u003e\\u003cspan style=\\\"color:#DCBDFB\\\"\\u003e redirecting\\u003c/span\\u003e\\u003cspan style=\\\"color:#ADBAC7\\\"\\u003e(request):\\u003c/span\\u003e\\u003c/span\\u003e\\n\\u003cspan data-line=\\\"\\\"\\u003e\\u003cspan style=\\\"color:#F47067\\\"\\u003e    return\\u003c/span\\u003e\\u003cspan style=\\\"color:#ADBAC7\\\"\\u003e redirect(\\u003c/span\\u003e\\u003cspan style=\\\"color:#96D0FF\\\"\\u003e\\\"https://www.codewithharry.com\\\"\\u003c/span\\u003e\\u003cspan style=\\\"color:#ADBAC7\\\"\\u003e)\\u003c/span\\u003e\\u003c/span\\u003e\\u003cbutton type=\\\"button\\\" title=\\\"Copy code\\\" aria-label=\\\"Copy code\\\" data=\\\"from django.shortcuts import render, redirect\\n\\ndef redirecting(request):\\n    return redirect(\\u0026#x22;https://www.codewithharry.com\\u0026#x22;)\\\" class=\\\"rehype-pretty-copy\\\" onclick=\\\"navigator.clipboard.writeText(this.attributes.data.value);this.classList.add(\\u0026#x27;rehype-pretty-copied\\u0026#x27;);window.setTimeout(() =\\u003e this.classList.remove(\\u0026#x27;rehype-pretty-copied\\u0026#x27;), 3000);\\\"\\u003e\\u003cspan class=\\\"ready\\\"\\u003e\\u003c/span\\u003e\\u003cspan class=\\\"success\\\"\\u003e\\u003c/span\\u003e\\u003c/button\\u003e\\u003cstyle\\u003e:root {--copy-icon: url(\\\"data:image/svg+xml,%3Csvg xmlns='http://www.w3.org/2000/svg' viewBox='0 0 48 48'%3E%3Cpath fill='%23adadad' d='M16.187 9.5H12.25a1.75 1.75 0 0 0-1.75 1.75v28.5c0 .967.784 1.75 1.75 1.75h23.5a1.75 1.75 0 0 0 1.75-1.75v-28.5a1.75 1.75 0 0 0-1.75-1.75h-3.937a4.25 4.25 0 0 1-4.063 3h-7.5a4.25 4.25 0 0 1-4.063-3M31.813 7h3.937A4.25 4.25 0 0 1 40 11.25v28.5A4.25 4.25 0 0 1 35.75 44h-23.5A4.25 4.25 0 0 1 8 39.75v-28.5A4.25 4.25 0 0 1 12.25 7h3.937a4.25 4.25 0 0 1 4.063-3h7.5a4.25 4.25 0 0 1 4.063 3M18.5 8.25c0 .966.784 1.75 1.75 1.75h7.5a1.75 1.75 0 1 0 0-3.5h-7.5a1.75 1.75 0 0 0-1.75 1.75'/%3E%3C/svg%3E\\\");--success-icon: url(\\\"data:image/svg+xml,%3Csvg xmlns='http://www.w3.org/2000/svg' viewBox='0 0 24 24'%3E%3Cpath fill='%2366ff85' d='M9 16.17L5.53 12.7a.996.996 0 1 0-1.41 1.41l4.18 4.18c.39.39 1.02.39 1.41 0L20.29 7.71a.996.996 0 1 0-1.41-1.41z'/%3E%3C/svg%3E\\\");}pre:has(code) {position: relative;}pre button.rehype-pretty-copy {right: 1px;padding: 0;width: 24px;height: 24px;display: flex;margin-top: 2px;margin-right: 8px;position: absolute;border-radius: 25%;backdrop-filter: blur(3px);\\u0026 span {width: 100%;aspect-ratio: 1 / 1;}\\u0026 .ready {background-image: var(--copy-icon);}\\u0026 .success {display: none; background-image: var(--success-icon);}}\\u0026.rehype-pretty-copied {\\u0026 .success {display: block;} \\u0026 .ready {display: none;}}pre button.rehype-pretty-copy.rehype-pretty-copied {opacity: 1;\\u0026 .ready { display: none; }\\u0026 .success { display: block; }}\\u003c/style\\u003e\\u003c/code\\u003e\\u003c/pre\\u003e\\u003c/figure\\u003e\\n\\u003cp\\u003e\\u003ca href=\\\"https://cwh-full-next-space.fra1.cdn.digitaloceanspaces.com/blogpost/django-cheatsheet/django.pdf\\\" rel=\\\"noopener noreferrer\\\" target=\\\"_blank\\\"\\u003eDownload this Cheatsheet\\u003c/a\\u003e\\u003c/p\\u003e\"])\n",
      "  </script>\n",
      "  <script>\n",
      "   self.__next_f.push([1,\"c:[\\\"$\\\",\\\"section\\\",null,{\\\"className\\\":\\\"min-h-screen bg-background text-foreground\\\",\\\"children\\\":[\\\"$\\\",\\\"div\\\",null,{\\\"className\\\":\\\"max-w-4xl mx-auto px-4 sm:px-6 lg:px-8\\\",\\\"children\\\":[[\\\"$\\\",\\\"div\\\",null,{\\\"className\\\":\\\"relative h-80 w-full my-6 rounded-lg shadow-lg overflow-hidden\\\",\\\"children\\\":[\\\"$\\\",\\\"$L1a\\\",null,{\\\"src\\\":\\\"/blog-placeholder.jpg\\\",\\\"alt\\\":\\\"Django Cheatsheet\\\",\\\"fill\\\":true,\\\"className\\\":\\\"object-cover\\\",\\\"priority\\\":true}]}],[\\\"$\\\",\\\"h1\\\",null,{\\\"className\\\":\\\"text-3xl sm:text-4xl font-extrabold mb-4 text-center\\\",\\\"children\\\":\\\"Django Cheatsheet\\\"}],[\\\"$\\\",\\\"p\\\",null,{\\\"className\\\":\\\"text-lg mb-2 border-l-4 border-zinc-500 pl-4 italic text-muted-foreground\\\",\\\"children\\\":[\\\"\\\\\\\"\\\",\\\"Django cheatsheet for beginners\\\",\\\"\\\\\\\"\\\"]}],[\\\"$\\\",\\\"div\\\",null,{\\\"className\\\":\\\"flex flex-wrap justify-between items-center text-sm text-muted-foreground mb-6\\\",\\\"children\\\":[[\\\"$\\\",\\\"p\\\",null,{\\\"className\\\":\\\"italic\\\",\\\"children\\\":\\\"By CodeWithHarry\\\"}],[\\\"$\\\",\\\"p\\\",null,{\\\"children\\\":[\\\"Updated: \\\",\\\"5 April 2025\\\"]}]]}],[\\\"$\\\",\\\"$L1b\\\",null,{\\\"processedContent\\\":\\\"$1c\\\"}],[\\\"$\\\",\\\"div\\\",null,{\\\"className\\\":\\\"flex justify-between items-center\\\",\\\"children\\\":[[\\\"$\\\",\\\"div\\\",null,{\\\"children\\\":[\\\"$\\\",\\\"div\\\",null,{\\\"className\\\":\\\"mt-0\\\",\\\"children\\\":[[\\\"$\\\",\\\"h2\\\",null,{\\\"className\\\":\\\"text-xl font-semibold mb-2\\\",\\\"children\\\":\\\"Tags\\\"}],[\\\"$\\\",\\\"div\\\",null,{\\\"className\\\":\\\"flex flex-wrap gap-2\\\",\\\"children\\\":[[\\\"$\\\",\\\"span\\\",\\\"0\\\",{\\\"className\\\":\\\"bg-zinc-200 dark:bg-zinc-700 px-2 py-1 rounded-md text-xs\\\",\\\"children\\\":\\\"django\\\"}],[\\\"$\\\",\\\"span\\\",\\\"1\\\",{\\\"className\\\":\\\"bg-zinc-200 dark:bg-zinc-700 px-2 py-1 rounded-md text-xs\\\",\\\"children\\\":\\\"cheatsheet\\\"}]]}]]}]}],[\\\"$\\\",\\\"div\\\",null,{\\\"className\\\":\\\"my-16 flex justify-center items-center\\\",\\\"children\\\":[\\\"$\\\",\\\"$L1d\\\",null,{}]}]]}]]}]}]\\n14:[[\\\"$\\\",\\\"meta\\\",\\\"0\\\",{\\\"charSet\\\":\\\"utf-8\\\"}],[\\\"$\\\",\\\"meta\\\",\\\"1\\\",{\\\"name\\\":\\\"viewport\\\",\\\"content\\\":\\\"width=device-width, initial-scale=1\\\"}]]\\nf:null\\n18:{\\\"metadata\\\":[[\\\"$\\\",\\\"title\\\",\\\"0\\\",{\\\"children\\\":\\\"Django Cheatsheet | Blog | CodeWithHarry\\\"}],[\\\"$\\\",\\\"meta\\\",\\\"1\\\",{\\\"name\\\":\\\"description\\\",\\\"content\\\":\\\"Django cheatsheet for beginners\\\"}],[\\\"$\\\",\\\"meta\\\",\\\"2\\\",{\\\"name\\\":\\\"keywords\\\",\\\"content\\\":\\\"programming, coding, web development, Python, JavaScript, Java, HTML, \"])\n",
      "  </script>\n",
      "  <script>\n",
      "   self.__next_f.push([1,\"CSS, tutorials, courses\\\"}],[\\\"$\\\",\\\"meta\\\",\\\"3\\\",{\\\"name\\\":\\\"creator\\\",\\\"content\\\":\\\"Harry\\\"}],[\\\"$\\\",\\\"meta\\\",\\\"4\\\",{\\\"name\\\":\\\"publisher\\\",\\\"content\\\":\\\"CodeWithHarry\\\"}],[\\\"$\\\",\\\"meta\\\",\\\"5\\\",{\\\"name\\\":\\\"robots\\\",\\\"content\\\":\\\"index, follow\\\"}],[\\\"$\\\",\\\"meta\\\",\\\"6\\\",{\\\"property\\\":\\\"og:title\\\",\\\"content\\\":\\\"CodeWithHarry - Learn Programming and Coding\\\"}],[\\\"$\\\",\\\"meta\\\",\\\"7\\\",{\\\"property\\\":\\\"og:description\\\",\\\"content\\\":\\\"Learn programming with easy-to-follow tutorials, courses, and resources. CodeWithHarry offers free content for beginners and advanced developers.\\\"}],[\\\"$\\\",\\\"meta\\\",\\\"8\\\",{\\\"property\\\":\\\"og:url\\\",\\\"content\\\":\\\"https://codewithharry.com\\\"}],[\\\"$\\\",\\\"meta\\\",\\\"9\\\",{\\\"property\\\":\\\"og:site_name\\\",\\\"content\\\":\\\"CodeWithHarry\\\"}],[\\\"$\\\",\\\"meta\\\",\\\"10\\\",{\\\"property\\\":\\\"og:locale\\\",\\\"content\\\":\\\"en_US\\\"}],[\\\"$\\\",\\\"meta\\\",\\\"11\\\",{\\\"property\\\":\\\"og:type\\\",\\\"content\\\":\\\"website\\\"}],[\\\"$\\\",\\\"meta\\\",\\\"12\\\",{\\\"name\\\":\\\"twitter:card\\\",\\\"content\\\":\\\"summary_large_image\\\"}],[\\\"$\\\",\\\"meta\\\",\\\"13\\\",{\\\"name\\\":\\\"twitter:title\\\",\\\"content\\\":\\\"CodeWithHarry - Learn Programming and Coding\\\"}],[\\\"$\\\",\\\"meta\\\",\\\"14\\\",{\\\"name\\\":\\\"twitter:description\\\",\\\"content\\\":\\\"Learn programming with easy-to-follow tutorials, courses, and resources. CodeWithHarry offers free content for beginners and advanced developers.\\\"}],[\\\"$\\\",\\\"link\\\",\\\"15\\\",{\\\"rel\\\":\\\"icon\\\",\\\"href\\\":\\\"/favicon.ico\\\",\\\"type\\\":\\\"image/x-icon\\\",\\\"sizes\\\":\\\"16x16\\\"}]],\\\"error\\\":null,\\\"digest\\\":\\\"$undefined\\\"}\\n19:{\\\"metadata\\\":\\\"$18:metadata\\\",\\\"error\\\":null,\\\"digest\\\":\\\"$undefined\\\"}\\n12:{\\\"metadata\\\":\\\"$18:metadata\\\",\\\"error\\\":null,\\\"digest\\\":\\\"$undefined\\\"}\\n\"])\n",
      "  </script>\n",
      "  <script>\n",
      "   self.__next_f.push([1,\"1e:I[17230,[\\\"3278\\\",\\\"static/chunks/3278-338ad7484b961c25.js\\\",\\\"8221\\\",\\\"static/chunks/8221-a015ecb58e05db41.js\\\",\\\"8383\\\",\\\"static/chunks/8383-382de4acfc4979bf.js\\\",\\\"1733\\\",\\\"static/chunks/1733-bc2c13e2a7707f18.js\\\",\\\"6219\\\",\\\"static/chunks/6219-46698a9b3ab7c5ba.js\\\",\\\"6354\\\",\\\"static/chunks/6354-fe9ba8cd35845314.js\\\",\\\"8161\\\",\\\"static/chunks/8161-d6a40d5437eb2766.js\\\",\\\"4521\\\",\\\"static/chunks/4521-71c17e4fa2d6bb7b.js\\\",\\\"7177\\\",\\\"static/chunks/app/layout-1284d67b9dcf301b.js\\\"],\\\"default\\\"]\\n1f:I[62289,[\\\"3278\\\",\\\"static/chunks/3278-338ad7484b961c25.js\\\",\\\"8221\\\",\\\"static/chunks/8221-a015ecb58e05db41.js\\\",\\\"8383\\\",\\\"static/chunks/8383-382de4acfc4979bf.js\\\",\\\"1733\\\",\\\"static/chunks/1733-bc2c13e2a7707f18.js\\\",\\\"6219\\\",\\\"static/chunks/6219-46698a9b3ab7c5ba.js\\\",\\\"6354\\\",\\\"static/chunks/6354-fe9ba8cd35845314.js\\\",\\\"8161\\\",\\\"static/chunks/8161-d6a40d5437eb2766.js\\\",\\\"4521\\\",\\\"static/chunks/4521-71c17e4fa2d6bb7b.js\\\",\\\"7177\\\",\\\"static/chunks/app/layout-1284d67b9dcf301b.js\\\"],\\\"MyNavigationMenu\\\"]\\n6:[\\\"$\\\",\\\"header\\\",null,{\\\"className\\\":\\\"bg-background text-foreground p-2 md:p-4 sticky top-0 z-20 border-b-2\\\",\\\"children\\\":[[\\\"$\\\",\\\"div\\\",null,{\\\"className\\\":\\\"md:mx-4 flex justify-between\\\",\\\"children\\\":[\\\"$\\\",\\\"$L1e\\\",null,{\\\"session\\\":null}]}],[\\\"$\\\",\\\"$L1f\\\",null,{}]]}]\\n\"])\n",
      "  </script>\n",
      " </body>\n",
      "</html>\n",
      "\n"
     ]
    }
   ],
   "source": [
    "from bs4 import BeautifulSoup\n",
    "soup = BeautifulSoup(r.text, 'html.parser')\n",
    "print(soup.prettify())"
   ]
  },
  {
   "cell_type": "code",
   "execution_count": 53,
   "id": "55dea98a-7455-47de-ae4b-19531634579b",
   "metadata": {},
   "outputs": [
    {
     "name": "stdout",
     "output_type": "stream",
     "text": [
      "What is Django?\n",
      "Installing Django + Setup\n",
      "Django MVT\n",
      "Views in Django\n",
      "URLs in Django\n",
      "Forms in Django\n",
      "Apps in Django\n",
      "Templates in Django\n",
      "Migrations in Django\n",
      "Admin interface in Django\n",
      "Page Redirection\n",
      "Tags\n"
     ]
    }
   ],
   "source": [
    "for heading in soup.find_all(\"h2\"):\n",
    "    print(heading.text)"
   ]
  },
  {
   "cell_type": "markdown",
   "id": "d3ca3afe-e792-4260-8146-5e18d7d0f1fd",
   "metadata": {},
   "source": [
    "# Generators in Python\n",
    "- it allow to create an iterable sequence of values\n",
    "- generator function returns a generator object, which can be used to generate the values one by one as you iterate over it\n",
    "- to create generator `yield` statement is used in a function\n",
    "- the `yield` statement returns a value from the generator and suspends the execution of the function until the next value is requested."
   ]
  },
  {
   "cell_type": "code",
   "execution_count": 63,
   "id": "1a09a9a5-678a-4a5c-a210-dedbde5d634d",
   "metadata": {},
   "outputs": [],
   "source": [
    "def my_generator():\n",
    "    for i in range(5):\n",
    "        yield i"
   ]
  },
  {
   "cell_type": "code",
   "execution_count": 64,
   "id": "54aa2c1a-2ee3-410f-9c77-77e246f1dbcc",
   "metadata": {},
   "outputs": [
    {
     "name": "stdout",
     "output_type": "stream",
     "text": [
      "0\n"
     ]
    }
   ],
   "source": [
    "gen = my_generator()\n",
    "print(next(gen))"
   ]
  },
  {
   "cell_type": "code",
   "execution_count": 65,
   "id": "7e3ca63d-d2cd-44bf-bc3b-787dd8bdfdfa",
   "metadata": {},
   "outputs": [
    {
     "name": "stdout",
     "output_type": "stream",
     "text": [
      "1\n"
     ]
    }
   ],
   "source": [
    "print(next(gen))"
   ]
  },
  {
   "cell_type": "markdown",
   "id": "96a0027e-f8ea-4596-a702-6bc75aad50af",
   "metadata": {},
   "source": [
    "# Function Caching in Python\n",
    "- reuse the result instead of recomputing them every time the function is called."
   ]
  },
  {
   "cell_type": "code",
   "execution_count": 71,
   "id": "7e39bb07-a227-4058-8242-38c1cc55e931",
   "metadata": {},
   "outputs": [
    {
     "name": "stdout",
     "output_type": "stream",
     "text": [
      "100\n",
      "done for 20\n",
      "5.001075029373169\n",
      "10\n",
      "done for 2\n",
      "5.001383066177368\n",
      "25\n",
      "done for 5\n",
      "5.0011796951293945\n",
      "100\n",
      "done for 20\n",
      "0.0\n",
      "10\n",
      "done for 2\n",
      "0.0\n",
      "25\n",
      "done for 5\n",
      "0.0\n"
     ]
    }
   ],
   "source": [
    "import functools\n",
    "import time\n",
    "\n",
    "@functools.lru_cache(maxsize = None)\n",
    "def fx(n):\n",
    "    time.sleep(5)\n",
    "    return n*5\n",
    "init = time.time()\n",
    "print(fx(20))\n",
    "print(\"done for 20\")\n",
    "print(time.time() - init)\n",
    "init = time.time()\n",
    "print(fx(2))\n",
    "print(\"done for 2\")\n",
    "print(time.time() - init)\n",
    "init = time.time()\n",
    "print(fx(5))\n",
    "print(\"done for 5\")\n",
    "print(time.time() - init)\n",
    "init = time.time()\n",
    "print(fx(20))\n",
    "print(\"done for 20\")\n",
    "print(time.time() - init)\n",
    "init = time.time()\n",
    "print(fx(2))\n",
    "print(\"done for 2\")\n",
    "print(time.time() - init)\n",
    "init = time.time()\n",
    "print(fx(5))\n",
    "print(\"done for 5\")\n",
    "print(time.time() - init)"
   ]
  },
  {
   "cell_type": "markdown",
   "id": "e7265b2c-ca81-47a0-8371-f1c0912bcfcf",
   "metadata": {},
   "source": [
    "# Regular Expressions in Python"
   ]
  },
  {
   "cell_type": "code",
   "execution_count": 88,
   "id": "98bb47b4-ff25-4f53-be59-942529da6652",
   "metadata": {},
   "outputs": [
    {
     "name": "stdout",
     "output_type": "stream",
     "text": [
      "<re.Match object; span=(197, 204), match='Cyclone'>\n"
     ]
    }
   ],
   "source": [
    "import re\n",
    "\n",
    "pattern = r\"[A-Z]+yclone\" #r is used to take input as a raw string\n",
    "text = '''Upper level cyclones can exist without the presence of a surface low,\n",
    "and can pinch off from the base of the tropical upper tropospheric trough during\n",
    "the summer months in the Northern Hemisphere. Cyclones have also been seen on \n",
    "extraterrestrial planets, such as Mars, Jupiter, and Neptune.[7][8] Cyclogenesis\n",
    "is the process of cyclone formation and intensification.[9] Extratropical cyclones\n",
    "begin as waves in large regions of enhanced mid-latitude temperature contrasts called\n",
    "baroclinic zones. These zones contract and form weather fronts as the cyclonic \n",
    "circulation closes and intensifies. Later in their life cycle, extratropical cyclones\n",
    "occlude as cold air masses undercut the warmer air and become cold core systems. A \n",
    "cyclone's track is guided over the course of its 2 to 6 day life cycle by the steering \n",
    "flow of the subtropical jet stream.\n",
    "\n",
    "Weather fronts mark the boundary between two masses of air of different temperature, \n",
    "humidity, and densities, and are associated with the most prominent meteorological \n",
    "phenomena. Strong cold fronts typically feature narrow bands of thunderstorms and \n",
    "severe weather, and may on occasion be preceded by squall lines or dry lines. Such \n",
    "fronts form west of the circulation center and generally move from west to east; \n",
    "warm fronts form east of the cyclone center and are usually preceded by stratiform \n",
    "precipitation and fog. Warm fronts move poleward ahead of the cyclone path. Occluded \n",
    "fronts form late in the cyclone life cycle near the center of the cyclone and often \n",
    "wrap around the storm center.'''\n",
    "\n",
    "match = re.search(pattern, text)\n",
    "print(match)"
   ]
  },
  {
   "cell_type": "code",
   "execution_count": 89,
   "id": "ceaae6ac-ddfd-41e6-8a9b-f84aff92ebd5",
   "metadata": {},
   "outputs": [
    {
     "name": "stdout",
     "output_type": "stream",
     "text": [
      "<re.Match object; span=(197, 204), match='Cyclone'>\n"
     ]
    }
   ],
   "source": [
    "matches = re.finditer(pattern, text)\n",
    "for match in matches:\n",
    "    print(match)"
   ]
  },
  {
   "cell_type": "markdown",
   "id": "53a4d4f0-a1d6-4d07-a10b-121a42bbbb4a",
   "metadata": {},
   "source": []
  },
  {
   "cell_type": "code",
   "execution_count": null,
   "id": "14cdaf90-3a89-4aa4-8185-5ea0570649fa",
   "metadata": {},
   "outputs": [],
   "source": []
  },
  {
   "cell_type": "code",
   "execution_count": null,
   "id": "89d1a252-c928-408d-b1bc-69640b003490",
   "metadata": {},
   "outputs": [],
   "source": []
  },
  {
   "cell_type": "code",
   "execution_count": null,
   "id": "83c877c8-1279-47d2-b0ba-67424bf8cc73",
   "metadata": {},
   "outputs": [],
   "source": []
  },
  {
   "cell_type": "code",
   "execution_count": null,
   "id": "b8a91af2-ddf2-4980-b2ec-9b6033e1eae3",
   "metadata": {},
   "outputs": [],
   "source": []
  },
  {
   "cell_type": "code",
   "execution_count": null,
   "id": "aae24c6f-81b3-4107-9011-7c6656d9e0be",
   "metadata": {},
   "outputs": [],
   "source": []
  },
  {
   "cell_type": "code",
   "execution_count": null,
   "id": "9730ce81-aa85-4c3e-8699-34e141c76251",
   "metadata": {},
   "outputs": [],
   "source": []
  },
  {
   "cell_type": "code",
   "execution_count": null,
   "id": "58711faa-1b55-4283-a22f-6aa4c034959b",
   "metadata": {},
   "outputs": [],
   "source": []
  },
  {
   "cell_type": "code",
   "execution_count": null,
   "id": "4d991317-a98d-49c8-9958-3f0ebd1f662c",
   "metadata": {},
   "outputs": [],
   "source": []
  },
  {
   "cell_type": "code",
   "execution_count": null,
   "id": "3bcfe50f-8214-4e27-8e9f-aa5a233662b1",
   "metadata": {},
   "outputs": [],
   "source": []
  },
  {
   "cell_type": "code",
   "execution_count": null,
   "id": "84d71df4-33a9-4aea-8f35-e5b901deb7b2",
   "metadata": {},
   "outputs": [],
   "source": []
  },
  {
   "cell_type": "code",
   "execution_count": null,
   "id": "a88b561e-1643-43a5-843b-05be1cc52a08",
   "metadata": {},
   "outputs": [],
   "source": []
  },
  {
   "cell_type": "code",
   "execution_count": null,
   "id": "cba4cd03-13f5-4dc2-a3d0-9ecf58631c9e",
   "metadata": {},
   "outputs": [],
   "source": []
  },
  {
   "cell_type": "code",
   "execution_count": null,
   "id": "6344c559-72f2-4c3e-8993-003e4d00bc88",
   "metadata": {},
   "outputs": [],
   "source": []
  },
  {
   "cell_type": "code",
   "execution_count": null,
   "id": "9364edd0-45da-45f7-9185-57659993ae84",
   "metadata": {},
   "outputs": [],
   "source": []
  },
  {
   "cell_type": "code",
   "execution_count": null,
   "id": "9cdaca0e-c759-4434-84e8-51b71dcff30e",
   "metadata": {},
   "outputs": [],
   "source": []
  },
  {
   "cell_type": "code",
   "execution_count": null,
   "id": "ee0ad812-c1dd-4465-8932-ff62aca8d27e",
   "metadata": {},
   "outputs": [],
   "source": []
  },
  {
   "cell_type": "code",
   "execution_count": null,
   "id": "ebe3c6f2-258f-4802-b2fc-17925eb0d892",
   "metadata": {},
   "outputs": [],
   "source": []
  },
  {
   "cell_type": "code",
   "execution_count": null,
   "id": "9f4dc2f0-388e-4be7-82d2-7cde20f28509",
   "metadata": {},
   "outputs": [],
   "source": []
  },
  {
   "cell_type": "code",
   "execution_count": null,
   "id": "e93577bd-388c-474d-9642-04cfb5cd6838",
   "metadata": {},
   "outputs": [],
   "source": []
  },
  {
   "cell_type": "code",
   "execution_count": null,
   "id": "85c18da6-5785-444c-b75b-d7d63b345b5d",
   "metadata": {},
   "outputs": [],
   "source": []
  },
  {
   "cell_type": "code",
   "execution_count": null,
   "id": "24122b53-a32f-4a57-99f9-a9d263e604c8",
   "metadata": {},
   "outputs": [],
   "source": []
  }
 ],
 "metadata": {
  "kernelspec": {
   "display_name": "Python 3 (ipykernel)",
   "language": "python",
   "name": "python3"
  },
  "language_info": {
   "codemirror_mode": {
    "name": "ipython",
    "version": 3
   },
   "file_extension": ".py",
   "mimetype": "text/x-python",
   "name": "python",
   "nbconvert_exporter": "python",
   "pygments_lexer": "ipython3",
   "version": "3.11.13"
  }
 },
 "nbformat": 4,
 "nbformat_minor": 5
}
