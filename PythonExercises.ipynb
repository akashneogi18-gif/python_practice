{
 "cells": [
  {
   "cell_type": "markdown",
   "id": "2df9673e-19bd-417a-9da3-c1213c6d6c67",
   "metadata": {},
   "source": [
    "# Exercise 1 : ***Create a Simple Calculator***"
   ]
  },
  {
   "cell_type": "code",
   "execution_count": 17,
   "id": "3225e0b9-580f-4e07-bdf3-2731dad35071",
   "metadata": {},
   "outputs": [],
   "source": [
    "# def calculator(num1, num2, op):\n",
    "def calculator():\n",
    "    num1 = int(input('Enter 1st number: '))\n",
    "    num2 =int(input('Enter 2nd number: '))\n",
    "    op = str(input('Enter operation(+,-,*,/,//,**,%: '))\n",
    "    if (op == '+'):\n",
    "        print(num1+num2)\n",
    "    elif (op == '-'):\n",
    "        print(num1 - num2)\n",
    "    elif (op == '*'):\n",
    "        print(num1 * num2)\n",
    "    elif (op == '/'):\n",
    "        print(num1 / num2)\n",
    "    elif (op == '//'):\n",
    "        print(num1 // num2)\n",
    "    elif (op == '**'):\n",
    "        print(num1 ** num2)\n",
    "    elif (op == '%'):\n",
    "        print(num1 % num2)\n",
    "    else:\n",
    "        print('wrong operator')"
   ]
  },
  {
   "cell_type": "code",
   "execution_count": 19,
   "id": "4570d3b6-2cce-4b2c-a322-86202261003c",
   "metadata": {},
   "outputs": [
    {
     "name": "stdin",
     "output_type": "stream",
     "text": [
      "Enter 1st number:  23\n",
      "Enter 2nd number:  12\n",
      "Enter operation(+,-,*,/,//,**,%:  +\n"
     ]
    },
    {
     "name": "stdout",
     "output_type": "stream",
     "text": [
      "35\n"
     ]
    }
   ],
   "source": [
    "calculator()"
   ]
  },
  {
   "cell_type": "markdown",
   "id": "df1a42a6-ca08-4ae5-978d-7f77fb8b5347",
   "metadata": {},
   "source": [
    "# Exercise 2 : ***Greet the user according to the time***\n",
    "Create a python program capable of greeting you with Good Morning, Good Afternoon and Good Evening. Your program should use time module to get the current hour."
   ]
  },
  {
   "cell_type": "code",
   "execution_count": 27,
   "id": "8a138f41-09d1-4f92-a556-6feb64d31cb8",
   "metadata": {},
   "outputs": [
    {
     "name": "stdout",
     "output_type": "stream",
     "text": [
      "Hey user! Good Afternoon\n"
     ]
    }
   ],
   "source": [
    "import time\n",
    "# print(time.strftime(\"%H:%M:%S\", time.localtime()), end='\\r')\n",
    "h = int(time.strftime(\"%H\", time.localtime()))\n",
    "# print(h)\n",
    "if (h<12 and h>=3):\n",
    "    print(\"Hey user! Good Morning\")\n",
    "elif (h == 12):\n",
    "    print(\"Hey user! Good Noon\")\n",
    "elif (h<=18 and h>12):\n",
    "    print(\"Hey user! Good Afternoon\")\n",
    "elif (h<=22 and h>18):\n",
    "    print(\"Hey user! Good Evening\")\n",
    "else:\n",
    "    print(\"Hey user! Good Night\")"
   ]
  },
  {
   "cell_type": "markdown",
   "id": "f1d7a531-a7bf-414e-a239-d1cccd6324e6",
   "metadata": {},
   "source": [
    "# Exercise 3 : ***KBC***\n",
    "Create a program capable of displaying questions to the user like KBC"
   ]
  },
  {
   "cell_type": "code",
   "execution_count": 15,
   "id": "3752a8e0-0372-47de-8a91-9365c8c6da81",
   "metadata": {},
   "outputs": [
    {
     "name": "stdout",
     "output_type": "stream",
     "text": [
      "Q: An IPv4 address is 32 bits long. If a network has a subnet mask of 126, what is the maximum number of usable host address in this subnet?\n",
      "A. 62\n",
      "B. 64\n",
      "C. 126\n",
      "D. 128\n"
     ]
    },
    {
     "name": "stdin",
     "output_type": "stream",
     "text": [
      "Enter your choice:  A\n"
     ]
    },
    {
     "name": "stdout",
     "output_type": "stream",
     "text": [
      "Q: When an IPv4 datagram is fragmented:\n",
      "A. Each fragment has its own IP header with the same identification field.\n",
      "B. The \"More Fragments\" [MF] flag is set to 0 in all fragments.\n",
      "C. Fragmentation can occur only at the destination.\n",
      "D. The header checksum is computed only for the first fragment.\n"
     ]
    },
    {
     "name": "stdin",
     "output_type": "stream",
     "text": [
      "Enter your choice:  A\n"
     ]
    },
    {
     "name": "stdout",
     "output_type": "stream",
     "text": [
      "Q: Which of the following is not a feature of IPv6 compared to IPv4?\n",
      "A. Larger address space\n",
      "B. Header checksum field in the base header\n",
      "C. Support for simplified header format\n",
      "D. Improved support for multicast\n"
     ]
    },
    {
     "name": "stdin",
     "output_type": "stream",
     "text": [
      "Enter your choice:  C\n"
     ]
    },
    {
     "name": "stdout",
     "output_type": "stream",
     "text": [
      "Q: Which statement is True about IP routing?\n",
      "A. IP routing is connection-oriented\n",
      "B. IP routing uses hop-by-hop forwarding based on the destination IP address\n",
      "C. IP routing ensures in-oder delivery of packets\n",
      "D. IP routing uses TCP to deliver packets to the correct application.\n"
     ]
    },
    {
     "name": "stdin",
     "output_type": "stream",
     "text": [
      "Enter your choice:  B\n"
     ]
    },
    {
     "name": "stdout",
     "output_type": "stream",
     "text": [
      "Your marks is 3\n",
      "Question numbers [1, 2, 4] are correct\n",
      "Correct choices are A A B B\n"
     ]
    }
   ],
   "source": [
    "questions = [\"An IPv4 address is 32 bits long. If a network has a subnet mask of 126, what is the maximum number of usable host address in this subnet?\", \"When an IPv4 datagram is fragmented:\", \"Which of the following is not a feature of IPv6 compared to IPv4?\", \"Which statement is True about IP routing?\"]\n",
    "ans1 = [\"A. 62\", \"B. 64\", \"C. 126\", \"D. 128\"]\n",
    "ans2 = [\"A. Each fragment has its own IP header with the same identification field.\", 'B. The \"More Fragments\" [MF] flag is set to 0 in all fragments.', \"C. Fragmentation can occur only at the destination.\", \"D. The header checksum is computed only for the first fragment.\"]\n",
    "ans3 = [\"A. Larger address space\", \"B. Header checksum field in the base header\", \"C. Support for simplified header format\", \"D. Improved support for multicast\"]\n",
    "ans4 = [\"A. IP routing is connection-oriented\", \"B. IP routing uses hop-by-hop forwarding based on the destination IP address\", \"C. IP routing ensures in-oder delivery of packets\", \"D. IP routing uses TCP to deliver packets to the correct application.\"]\n",
    "key = ['A', 'A', 'B', 'B']\n",
    "marks = 0\n",
    "correct = []\n",
    "count = 1\n",
    "for i in questions:\n",
    "    print(\"Q:\", i)\n",
    "    if (count == 1):\n",
    "        for a1 in ans1:\n",
    "            print(a1)\n",
    "        k = input(\"Enter your choice: \")\n",
    "        if (key[count-1] == k):\n",
    "            marks += 1\n",
    "            correct.append(1)\n",
    "        count+=1\n",
    "    elif (count == 2):\n",
    "        for a2 in ans2:\n",
    "            print(a2)\n",
    "        k = input(\"Enter your choice: \")\n",
    "        if (key[count-1] == k):\n",
    "            marks += 1\n",
    "            correct.append(2)\n",
    "        count+=1\n",
    "    elif (count == 3):\n",
    "        for a3 in ans3:\n",
    "            print(a3)\n",
    "        k = input(\"Enter your choice: \")\n",
    "        if (key[count-1] == k):\n",
    "            marks += 1\n",
    "            correct.append(3)\n",
    "        count+=1\n",
    "    elif (count == 4):\n",
    "        for a4 in ans4:\n",
    "            print(a4)\n",
    "        k = input(\"Enter your choice: \")\n",
    "        if (key[count-1] == k):\n",
    "            marks += 1\n",
    "            correct.append(4)\n",
    "        count+=1\n",
    "print(\"Your marks is\",marks)\n",
    "print(\"Question numbers\", correct, \"are correct\")\n",
    "print(\"Correct choices are\", key[0], key[1], key[2], key[3])"
   ]
  },
  {
   "cell_type": "code",
   "execution_count": 23,
   "id": "21b52844-38eb-4461-943b-abbaf79248fc",
   "metadata": {},
   "outputs": [
    {
     "name": "stdout",
     "output_type": "stream",
     "text": [
      "\n",
      " An IPv4 address is 32 bits long. If a network has a subnet mask of 126, what is the maximum number of usable host address in this subnet?\n",
      "A. 62\n",
      "B. 64\n",
      "C. 126\n",
      "D. 128\n"
     ]
    },
    {
     "name": "stdin",
     "output_type": "stream",
     "text": [
      "Enter Your Choice:  A\n"
     ]
    },
    {
     "name": "stdout",
     "output_type": "stream",
     "text": [
      "\n",
      " When an IPv4 datagram is fragmented:\n",
      "A. Each fragment has its own IP header with the same identification field.\n",
      "B. The \"More Fragments\" [MF] flag is set to 0 in all fragments.\n",
      "C. Fragmentation can occur only at the destination.\n",
      "D. The header checksum is computed only for the first fragment.\n"
     ]
    },
    {
     "name": "stdin",
     "output_type": "stream",
     "text": [
      "Enter Your Choice:  A\n"
     ]
    },
    {
     "name": "stdout",
     "output_type": "stream",
     "text": [
      "\n",
      " Which of the following is not a feature of IPv6 compared to IPv4?\n",
      "A. Larger address space\n",
      "B. Header checksum field in the base header\n",
      "C. Support for simplified header format\n",
      "D. Improved support for multicast\n"
     ]
    },
    {
     "name": "stdin",
     "output_type": "stream",
     "text": [
      "Enter Your Choice:  B\n"
     ]
    },
    {
     "name": "stdout",
     "output_type": "stream",
     "text": [
      "\n",
      " Which statement is True about IP routing?\n",
      "A. IP routing is connection-oriented\n",
      "B. IP routing uses hop-by-hop forwarding based on the destination IP address\n",
      "C. IP routing ensures in-oder delivery of packets\n",
      "D. IP routing uses TCP to deliver packets to the correct application.\n"
     ]
    },
    {
     "name": "stdin",
     "output_type": "stream",
     "text": [
      "Enter Your Choice:  C\n"
     ]
    },
    {
     "name": "stdout",
     "output_type": "stream",
     "text": [
      "\n",
      "\n",
      "\n",
      "Your marks is 3\n",
      "Question numbers [1, 2, 3] are correct\n",
      "Correct choices are A A B B\n"
     ]
    }
   ],
   "source": [
    "#Using Match Case\n",
    "questions = [\"An IPv4 address is 32 bits long. If a network has a subnet mask of 126, what is the maximum number of usable host address in this subnet?\", \"When an IPv4 datagram is fragmented:\", \"Which of the following is not a feature of IPv6 compared to IPv4?\", \"Which statement is True about IP routing?\"]\n",
    "ans1 = [\"A. 62\", \"B. 64\", \"C. 126\", \"D. 128\"]\n",
    "ans2 = [\"A. Each fragment has its own IP header with the same identification field.\", 'B. The \"More Fragments\" [MF] flag is set to 0 in all fragments.', \"C. Fragmentation can occur only at the destination.\", \"D. The header checksum is computed only for the first fragment.\"]\n",
    "ans3 = [\"A. Larger address space\", \"B. Header checksum field in the base header\", \"C. Support for simplified header format\", \"D. Improved support for multicast\"]\n",
    "ans4 = [\"A. IP routing is connection-oriented\", \"B. IP routing uses hop-by-hop forwarding based on the destination IP address\", \"C. IP routing ensures in-oder delivery of packets\", \"D. IP routing uses TCP to deliver packets to the correct application.\"]\n",
    "# key = ['A', 'A', 'B', 'B']\n",
    "key = \"AABB\"\n",
    "marks = 0\n",
    "correct = []\n",
    "count = 1\n",
    "for i in questions:\n",
    "    match(count):\n",
    "        case 1:\n",
    "            print(\"\\n\",i)\n",
    "            print(\"\\n\".join(ans1))\n",
    "            k = input(\"Enter Your Choice: \")\n",
    "            if (k == key[count-1]):\n",
    "                marks+=1\n",
    "                correct.append(count)\n",
    "            count+=1\n",
    "        case 2:\n",
    "            print(\"\\n\",i)\n",
    "            print(\"\\n\".join(ans2))\n",
    "            k = input(\"Enter Your Choice: \")\n",
    "            if (k == key[count-1]):\n",
    "                marks+=1\n",
    "                correct.append(count)\n",
    "            count+=1\n",
    "        case 3:\n",
    "            print(\"\\n\",i)\n",
    "            print(\"\\n\".join(ans3))\n",
    "            k = input(\"Enter Your Choice: \")\n",
    "            if (k == key[count-1]):\n",
    "                marks+=1\n",
    "                correct.append(count)\n",
    "            count+=1\n",
    "        case 4:\n",
    "            print(\"\\n\",i)\n",
    "            print(\"\\n\".join(ans4))\n",
    "            k = input(\"Enter Your Choice: \")\n",
    "            if (k == key[count-1]):\n",
    "                marks+=1\n",
    "                correct.append(count)\n",
    "            count+=1\n",
    "        case _:\n",
    "            print(\"No question here\")\n",
    "            break\n",
    "            \n",
    "print(\"\\n\\n\\nYour marks is\",marks)\n",
    "print(\"Question numbers\", correct, \"are correct\")\n",
    "print(\"Correct choices are\", key[0], key[1], key[2], key[3])"
   ]
  },
  {
   "cell_type": "markdown",
   "id": "7040f85f-a63b-452b-8816-d1caa3bae06b",
   "metadata": {},
   "source": [
    "# Create a quiz function where you can set some questions and then later play the quiz\n",
    "- dictionaryq => key: question number, value: list1\n",
    "- lsit1 => item1: question, item2: dictionary2(options), item3: answer\n",
    "- dictionary2 => key: option(ABCD), value: option_descr\n",
    "\n",
    "using function i tried to  modify this"
   ]
  },
  {
   "cell_type": "code",
   "execution_count": 42,
   "id": "19e99193-c30f-40d2-a663-f2a11f70d195",
   "metadata": {},
   "outputs": [],
   "source": [
    "def add_q(q_dict, q_no, q_text, options, answer):\n",
    "    if not isinstance(options, dict):\n",
    "        raise ValueError(\"Options must be a dictionary\")\n",
    "    if answer not in options.keys():\n",
    "        raise ValueError(\"Answer must be one of the keys\")\n",
    "    if q_no in q_dict:\n",
    "        raise KeyError(f\"Question number {q_no} already exists!\")\n",
    "    q_dict[q_no] = [q_text, options, answer]\n",
    "    print(\"Question number\", q_no, \"is added to this questions list\")\n",
    "    print(q_no,\".\", q_text)\n",
    "    for key, value in options.items():\n",
    "        print(f\"{key}: {value}\")"
   ]
  },
  {
   "cell_type": "code",
   "execution_count": 53,
   "id": "3ef60e6d-0d47-4542-b8a9-8985b7132917",
   "metadata": {},
   "outputs": [],
   "source": [
    "def give_exam(q_dict):\n",
    "    for key in q_dict.keys():\n",
    "        print(q_dict[key][0])\n",
    "    pass"
   ]
  },
  {
   "cell_type": "code",
   "execution_count": 43,
   "id": "f45ea632-c291-4a24-89b5-b705340d87f5",
   "metadata": {},
   "outputs": [
    {
     "name": "stdout",
     "output_type": "stream",
     "text": [
      "Question number 1 is added to this questions list\n",
      "1 . Which Keyword is used to create a function in Python?\n",
      "A: func\n",
      "B: def\n",
      "C: function\n",
      "D: define\n"
     ]
    }
   ],
   "source": [
    "python_mcq = {}\n",
    "add_q(python_mcq,\n",
    "             1, \n",
    "             \"Which Keyword is used to create a function in Python?\",\n",
    "             {\n",
    "                 \"A\" : \"func\",\n",
    "                 \"B\" : \"def\",\n",
    "                 \"C\" : \"function\",\n",
    "                 \"D\" : \"define\"\n",
    "             },\n",
    "             \"B\")\n"
   ]
  },
  {
   "cell_type": "code",
   "execution_count": 44,
   "id": "06ef489d-a834-4829-996c-76bcde429026",
   "metadata": {},
   "outputs": [
    {
     "name": "stdout",
     "output_type": "stream",
     "text": [
      "Question number 2 is added to this questions list\n",
      "2 . Which of these is an immutable data type in Python?\n",
      "A: list\n",
      "B: dict\n",
      "C: tuple\n",
      "D: set\n"
     ]
    }
   ],
   "source": [
    "add_q(python_mcq,\n",
    "      2,\n",
    "      \"Which of these is an immutable data type in Python?\",\n",
    "      {\n",
    "          \"A\":\"list\",\n",
    "          \"B\":\"dict\",\n",
    "          \"C\":\"tuple\",\n",
    "          \"D\":\"set\"\n",
    "      },\n",
    "      \"C\")"
   ]
  },
  {
   "cell_type": "code",
   "execution_count": 54,
   "id": "08995891-6a33-4d4b-8468-6430dfe1ed11",
   "metadata": {},
   "outputs": [
    {
     "name": "stdout",
     "output_type": "stream",
     "text": [
      "Which Keyword is used to create a function in Python?\n",
      "Which of these is an immutable data type in Python?\n"
     ]
    }
   ],
   "source": [
    "give_exam(python_mcq)"
   ]
  },
  {
   "cell_type": "code",
   "execution_count": null,
   "id": "638c8591-bfe4-4457-888b-8891f37ff49f",
   "metadata": {},
   "outputs": [],
   "source": []
  }
 ],
 "metadata": {
  "kernelspec": {
   "display_name": "Python 3 (ipykernel)",
   "language": "python",
   "name": "python3"
  },
  "language_info": {
   "codemirror_mode": {
    "name": "ipython",
    "version": 3
   },
   "file_extension": ".py",
   "mimetype": "text/x-python",
   "name": "python",
   "nbconvert_exporter": "python",
   "pygments_lexer": "ipython3",
   "version": "3.11.13"
  }
 },
 "nbformat": 4,
 "nbformat_minor": 5
}
