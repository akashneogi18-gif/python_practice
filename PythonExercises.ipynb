{
 "cells": [
  {
   "cell_type": "markdown",
   "id": "2df9673e-19bd-417a-9da3-c1213c6d6c67",
   "metadata": {},
   "source": [
    "# Exercise 1 : ***Create a Simple Calculator***"
   ]
  },
  {
   "cell_type": "code",
   "execution_count": 16,
   "id": "3225e0b9-580f-4e07-bdf3-2731dad35071",
   "metadata": {},
   "outputs": [],
   "source": [
    "def calculator(num1, num2, op):\n",
    "# def calculator():\n",
    "#     num1 = int(input('Enter 1st number: '))\n",
    "#     num2 =int(input('Enter 2nd number: '))\n",
    "#     op = str(input('Enter operation: '))\n",
    "    if (op == '+'):\n",
    "        print(num1+num2)\n",
    "    elif (op == '-'):\n",
    "        print(num1 - num2)\n",
    "    elif (op == '*'):\n",
    "        print(num1 * num2)\n",
    "    elif (op == '/'):\n",
    "        print(num1 / num2)\n",
    "    elif (op == '//'):\n",
    "        print(num1 // num2)\n",
    "    elif (op == '**'):\n",
    "        print(num1 ** num2)\n",
    "    else:\n",
    "        print('wrong operator')"
   ]
  },
  {
   "cell_type": "code",
   "execution_count": 12,
   "id": "71b05754-cd5b-41cb-84a8-a60f66d5f1e6",
   "metadata": {},
   "outputs": [
    {
     "name": "stdout",
     "output_type": "stream",
     "text": [
      "-43\n"
     ]
    }
   ],
   "source": [
    "calculator(11, 54, '-')"
   ]
  },
  {
   "cell_type": "code",
   "execution_count": 13,
   "id": "4ea198e3-872f-41b7-a645-0f2ab20b42db",
   "metadata": {},
   "outputs": [
    {
     "name": "stdout",
     "output_type": "stream",
     "text": [
      "275\n"
     ]
    }
   ],
   "source": [
    "calculator(11, 25, '*')"
   ]
  },
  {
   "cell_type": "code",
   "execution_count": null,
   "id": "fcacf35c-5768-4c98-b80a-514fa35d6888",
   "metadata": {},
   "outputs": [],
   "source": []
  }
 ],
 "metadata": {
  "kernelspec": {
   "display_name": "Python 3 (ipykernel)",
   "language": "python",
   "name": "python3"
  },
  "language_info": {
   "codemirror_mode": {
    "name": "ipython",
    "version": 3
   },
   "file_extension": ".py",
   "mimetype": "text/x-python",
   "name": "python",
   "nbconvert_exporter": "python",
   "pygments_lexer": "ipython3",
   "version": "3.11.13"
  }
 },
 "nbformat": 4,
 "nbformat_minor": 5
}
