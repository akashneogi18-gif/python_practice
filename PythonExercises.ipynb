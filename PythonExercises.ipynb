{
 "cells": [
  {
   "cell_type": "markdown",
   "id": "2df9673e-19bd-417a-9da3-c1213c6d6c67",
   "metadata": {},
   "source": [
    "# Exercise 1 : ***Create a Simple Calculator***"
   ]
  },
  {
   "cell_type": "code",
   "execution_count": 17,
   "id": "3225e0b9-580f-4e07-bdf3-2731dad35071",
   "metadata": {},
   "outputs": [],
   "source": [
    "# def calculator(num1, num2, op):\n",
    "def calculator():\n",
    "    num1 = int(input('Enter 1st number: '))\n",
    "    num2 =int(input('Enter 2nd number: '))\n",
    "    op = str(input('Enter operation(+,-,*,/,//,**,%: '))\n",
    "    if (op == '+'):\n",
    "        print(num1+num2)\n",
    "    elif (op == '-'):\n",
    "        print(num1 - num2)\n",
    "    elif (op == '*'):\n",
    "        print(num1 * num2)\n",
    "    elif (op == '/'):\n",
    "        print(num1 / num2)\n",
    "    elif (op == '//'):\n",
    "        print(num1 // num2)\n",
    "    elif (op == '**'):\n",
    "        print(num1 ** num2)\n",
    "    elif (op == '%'):\n",
    "        print(num1 % num2)\n",
    "    else:\n",
    "        print('wrong operator')"
   ]
  },
  {
   "cell_type": "code",
   "execution_count": 19,
   "id": "4570d3b6-2cce-4b2c-a322-86202261003c",
   "metadata": {},
   "outputs": [
    {
     "name": "stdin",
     "output_type": "stream",
     "text": [
      "Enter 1st number:  23\n",
      "Enter 2nd number:  12\n",
      "Enter operation(+,-,*,/,//,**,%:  +\n"
     ]
    },
    {
     "name": "stdout",
     "output_type": "stream",
     "text": [
      "35\n"
     ]
    }
   ],
   "source": [
    "calculator()"
   ]
  },
  {
   "cell_type": "markdown",
   "id": "df1a42a6-ca08-4ae5-978d-7f77fb8b5347",
   "metadata": {},
   "source": [
    "# Exercise 2 : ***Greet the user according to the time***\n",
    "Create a python program capable of greeting you with Good Morning, Good Afternoon and Good Evening. Your program should use time module to get the current hour."
   ]
  },
  {
   "cell_type": "code",
   "execution_count": 27,
   "id": "8a138f41-09d1-4f92-a556-6feb64d31cb8",
   "metadata": {},
   "outputs": [
    {
     "name": "stdout",
     "output_type": "stream",
     "text": [
      "Hey user! Good Afternoon\n"
     ]
    }
   ],
   "source": [
    "import time\n",
    "# print(time.strftime(\"%H:%M:%S\", time.localtime()), end='\\r')\n",
    "h = int(time.strftime(\"%H\", time.localtime()))\n",
    "# print(h)\n",
    "if (h<12 and h>=3):\n",
    "    print(\"Hey user! Good Morning\")\n",
    "elif (h == 12):\n",
    "    print(\"Hey user! Good Noon\")\n",
    "elif (h<=18 and h>12):\n",
    "    print(\"Hey user! Good Afternoon\")\n",
    "elif (h<=22 and h>18):\n",
    "    print(\"Hey user! Good Evening\")\n",
    "else:\n",
    "    print(\"Hey user! Good Night\")"
   ]
  },
  {
   "cell_type": "code",
   "execution_count": null,
   "id": "9d68ac54-4252-4321-aa87-faad80f89e58",
   "metadata": {},
   "outputs": [],
   "source": []
  }
 ],
 "metadata": {
  "kernelspec": {
   "display_name": "Python 3 (ipykernel)",
   "language": "python",
   "name": "python3"
  },
  "language_info": {
   "codemirror_mode": {
    "name": "ipython",
    "version": 3
   },
   "file_extension": ".py",
   "mimetype": "text/x-python",
   "name": "python",
   "nbconvert_exporter": "python",
   "pygments_lexer": "ipython3",
   "version": "3.11.13"
  }
 },
 "nbformat": 4,
 "nbformat_minor": 5
}
